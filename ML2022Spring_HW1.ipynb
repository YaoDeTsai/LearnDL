{
  "cells": [
    {
      "cell_type": "markdown",
      "metadata": {
        "id": "guE34D3Fj2R9"
      },
      "source": [
        "# **Homework 1: COVID-19 Cases Prediction (Regression)**"
      ]
    },
    {
      "cell_type": "markdown",
      "metadata": {
        "id": "V57zhcTp1Xxb"
      },
      "source": [
        "Objectives:\n",
        "* Solve a regression problem with deep neural networks (DNN).\n",
        "* Understand basic DNN training tips.\n",
        "* Familiarize yourself with PyTorch.\n",
        "\n",
        "If you have any questions, please contact the TAs via TA hours, NTU COOL, or email to mlta-2022-spring@googlegroups.com"
      ]
    },
    {
      "cell_type": "markdown",
      "metadata": {
        "id": "Tm2aXcb-j9Fc"
      },
      "source": [
        "# Download data\n",
        "If the Google Drive links below do not work, you can download data from [Kaggle](https://www.kaggle.com/t/a3ebd5b5542f0f55e828d4f00de8e59a), and upload data manually to the workspace."
      ]
    },
    {
      "cell_type": "code",
      "execution_count": 6,
      "metadata": {
        "id": "YPmfl-awlKZA"
      },
      "outputs": [
        {
          "name": "stdout",
          "output_type": "stream",
          "text": [
            "zsh:1: command not found: gdown\n",
            "zsh:1: command not found: gdown\n"
          ]
        }
      ],
      "source": [
        "!gdown --id '1kLSW_-cW2Huj7bh84YTdimGBOJaODiOS' --output covid.train.csv\n",
        "!gdown --id '1iiI5qROrAhZn-o4FPqsE97bMzDEFvIdg' --output covid.test.csv"
      ]
    },
    {
      "cell_type": "markdown",
      "metadata": {
        "id": "igqIMEgu64-F"
      },
      "source": [
        "# Import packages"
      ]
    },
    {
      "cell_type": "code",
      "execution_count": 27,
      "metadata": {
        "id": "xybQNYCXYu13"
      },
      "outputs": [],
      "source": [
        "# Numerical Operations\n",
        "import math\n",
        "import numpy as np\n",
        "\n",
        "# Reading/Writing Data\n",
        "import pandas as pd\n",
        "import os\n",
        "import csv\n",
        "\n",
        "# For Progress Bar\n",
        "from tqdm import tqdm\n",
        "\n",
        "# Pytorch\n",
        "import torch\n",
        "import torch.nn as nn\n",
        "from torch.utils.data import Dataset, DataLoader, random_split\n",
        "\n",
        "# For plotting learning curve\n",
        "from torch.utils.tensorboard import SummaryWriter"
      ]
    },
    {
      "cell_type": "markdown",
      "metadata": {
        "id": "fTAVqRfc2KK3"
      },
      "source": [
        "# Some Utility Functions\n",
        "\n",
        "You do not need to modify this part."
      ]
    },
    {
      "cell_type": "code",
      "execution_count": 28,
      "metadata": {
        "id": "RbrcpfYN2I-H"
      },
      "outputs": [],
      "source": [
        "def same_seed(seed):\n",
        "    '''Fixes random number generator seeds for reproducibility.'''\n",
        "    torch.backends.cudnn.deterministic = True\n",
        "    torch.backends.cudnn.benchmark = False\n",
        "    np.random.seed(seed)\n",
        "    torch.manual_seed(seed)\n",
        "    if torch.cuda.is_available():\n",
        "        torch.cuda.manual_seed_all(seed)\n",
        "\n",
        "def train_valid_split(data_set, valid_ratio, seed):\n",
        "    '''Split provided training data into training set and validation set'''\n",
        "    valid_set_size = int(valid_ratio * len(data_set))\n",
        "    train_set_size = len(data_set) - valid_set_size\n",
        "    train_set, valid_set = random_split(data_set, [train_set_size, valid_set_size], generator=torch.Generator().manual_seed(seed))\n",
        "    return np.array(train_set), np.array(valid_set)\n",
        "\n",
        "def predict(test_loader, model, device):\n",
        "    model.eval() # Set your model to evaluation mode.\n",
        "    preds = []\n",
        "    for x in tqdm(test_loader):\n",
        "        x = x.to(device)\n",
        "        with torch.no_grad():\n",
        "            pred = model(x)\n",
        "            preds.append(pred.detach().cpu())\n",
        "    preds = torch.cat(preds, dim=0).numpy()\n",
        "    return preds"
      ]
    },
    {
      "cell_type": "markdown",
      "metadata": {
        "id": "IqO3lTm78nNO"
      },
      "source": [
        "# Dataset"
      ]
    },
    {
      "cell_type": "code",
      "execution_count": 29,
      "metadata": {
        "id": "-mjaJM0wprMs"
      },
      "outputs": [],
      "source": [
        "class COVID19Dataset(Dataset):\n",
        "    '''\n",
        "    x: Features.\n",
        "    y: Targets, if none, do prediction.\n",
        "    '''\n",
        "    def __init__(self, x, y=None):\n",
        "        if y is None:\n",
        "            self.y = y\n",
        "        else:\n",
        "            self.y = torch.FloatTensor(y)\n",
        "        self.x = torch.FloatTensor(x)\n",
        "\n",
        "    def __getitem__(self, idx):\n",
        "        if self.y is None:\n",
        "            return self.x[idx]\n",
        "        else:\n",
        "            return self.x[idx], self.y[idx]\n",
        "\n",
        "    def __len__(self):\n",
        "        return len(self.x)"
      ]
    },
    {
      "cell_type": "markdown",
      "metadata": {
        "id": "m73ooU75CL_j"
      },
      "source": [
        "# Neural Network Model\n",
        "Try out different model architectures by modifying the class below."
      ]
    },
    {
      "cell_type": "code",
      "execution_count": 30,
      "metadata": {
        "id": "Qn97_WvvrEkG"
      },
      "outputs": [],
      "source": [
        "class My_Model(nn.Module):\n",
        "    def __init__(self, input_dim):\n",
        "        super(My_Model, self).__init__()\n",
        "        # TODO: modify model's structure, be aware of dimensions.\n",
        "        self.layers = nn.Sequential(\n",
        "            nn.Linear(input_dim, 16),\n",
        "            nn.ReLU(),\n",
        "            nn.Linear(16, 8),\n",
        "            nn.ReLU(),\n",
        "            nn.Linear(8, 1)\n",
        "        )\n",
        "\n",
        "    def forward(self, x):\n",
        "        x = self.layers(x)\n",
        "        x = x.squeeze(1) # (B, 1) -> (B)\n",
        "        return x"
      ]
    },
    {
      "cell_type": "markdown",
      "metadata": {
        "id": "x5-LKF6R8xeq"
      },
      "source": [
        "# Feature Selection\n",
        "Choose features you deem useful by modifying the function below."
      ]
    },
    {
      "cell_type": "code",
      "execution_count": 10,
      "metadata": {
        "id": "0FEnKRaIIeKp"
      },
      "outputs": [],
      "source": [
        "def select_feat(train_data, valid_data, test_data, select_all=True):\n",
        "    '''Selects useful features to perform regression'''\n",
        "    y_train, y_valid = train_data[:,-1], valid_data[:,-1]\n",
        "    raw_x_train, raw_x_valid, raw_x_test = train_data[:,:-1], valid_data[:,:-1], test_data\n",
        "\n",
        "    if select_all:\n",
        "        feat_idx = list(range(raw_x_train.shape[1]))\n",
        "    else:\n",
        "        feat_idx = [0,1,2,3,4] # TODO: Select suitable feature columns.\n",
        "\n",
        "    return raw_x_train[:,feat_idx], raw_x_valid[:,feat_idx], raw_x_test[:,feat_idx], y_train, y_valid"
      ]
    },
    {
      "cell_type": "markdown",
      "metadata": {},
      "source": [
        "##RF\n",
        "\n"
      ]
    },
    {
      "cell_type": "code",
      "execution_count": 31,
      "metadata": {},
      "outputs": [],
      "source": [
        "from sklearn.ensemble import RandomForestRegressor  # 如果是回归问题\n",
        "# 或\n",
        "# from sklearn.ensemble import RandomForestClassifier  # 如果是分类问题\n",
        "\n",
        "def select_feat(train_data, valid_data, test_data, select_all=True):\n",
        "    '''Selects features using Random Forest feature importance'''\n",
        "    y_train, y_valid = train_data[:,-1], valid_data[:,-1]\n",
        "    raw_x_train, raw_x_valid, raw_x_test = train_data[:,:-1], valid_data[:,:-1], test_data\n",
        "\n",
        "    if select_all:\n",
        "        feat_idx = list(range(raw_x_train.shape[1]))\n",
        "    else:\n",
        "        # Create a RandomForest model\n",
        "        model = RandomForestRegressor()  # 如果是回归问题\n",
        "        # 或\n",
        "        # model = RandomForestClassifier()  # 如果是分类问题\n",
        "        \n",
        "        # Fit the model on the training data\n",
        "        model.fit(raw_x_train, y_train)\n",
        "        \n",
        "        # Get feature importances\n",
        "        feature_importances = model.feature_importances_\n",
        "        \n",
        "        # Sort features by importance and select the top ones\n",
        "        feat_idx = [i for i in range(len(feature_importances))]\n",
        "        feat_idx.sort(key=lambda i: feature_importances[i], reverse=True)\n",
        "        feat_idx = feat_idx[:5]  # 选择前5个重要特征，你可以根据需要更改数量。\n",
        "\n",
        "    return raw_x_train[:, feat_idx], raw_x_valid[:, feat_idx], raw_x_test[:, feat_idx], y_train, y_valid\n"
      ]
    },
    {
      "cell_type": "markdown",
      "metadata": {
        "id": "kADIPNQ2Ih5X"
      },
      "source": [
        "# Training Loop"
      ]
    },
    {
      "cell_type": "code",
      "execution_count": 32,
      "metadata": {
        "id": "k4Rq8_TztAhq"
      },
      "outputs": [],
      "source": [
        "def trainer(train_loader, valid_loader, model, config, device):\n",
        "\n",
        "    criterion = nn.MSELoss(reduction='mean') # Define your loss function, do not modify this.\n",
        "\n",
        "    # Define your optimization algorithm.\n",
        "    # TODO: Please check https://pytorch.org/docs/stable/optim.html to get more available algorithms.\n",
        "    # TODO: L2 regularization (optimizer(weight decay...) or implement by your self).\n",
        "    optimizer = torch.optim.SGD(model.parameters(), lr=config['learning_rate'], momentum=0.9)\n",
        "\n",
        "    writer = SummaryWriter() # Writer of tensoboard.\n",
        "\n",
        "    if not os.path.isdir('./models'):\n",
        "        os.mkdir('./models') # Create directory of saving models.\n",
        "\n",
        "    n_epochs, best_loss, step, early_stop_count = config['n_epochs'], math.inf, 0, 0\n",
        "\n",
        "    for epoch in range(n_epochs):\n",
        "        model.train() # Set your model to train mode.\n",
        "        loss_record = []\n",
        "\n",
        "        # tqdm is a package to visualize your training progress.\n",
        "        train_pbar = tqdm(train_loader, position=0, leave=True)\n",
        "\n",
        "        for x, y in train_pbar:\n",
        "            optimizer.zero_grad()               # Set gradient to zero.\n",
        "            x, y = x.to(device), y.to(device)   # Move your data to device.\n",
        "            pred = model(x)\n",
        "            loss = criterion(pred, y)\n",
        "            loss.backward()                     # Compute gradient(backpropagation).\n",
        "            optimizer.step()                    # Update parameters.\n",
        "            step += 1\n",
        "            loss_record.append(loss.detach().item())\n",
        "\n",
        "            # Display current epoch number and loss on tqdm progress bar.\n",
        "            train_pbar.set_description(f'Epoch [{epoch+1}/{n_epochs}]')\n",
        "            train_pbar.set_postfix({'loss': loss.detach().item()})\n",
        "\n",
        "        mean_train_loss = sum(loss_record)/len(loss_record)\n",
        "        writer.add_scalar('Loss/train', mean_train_loss, step)\n",
        "\n",
        "        model.eval() # Set your model to evaluation mode.\n",
        "        loss_record = []\n",
        "        for x, y in valid_loader:\n",
        "            x, y = x.to(device), y.to(device)\n",
        "            with torch.no_grad():\n",
        "                pred = model(x)\n",
        "                loss = criterion(pred, y)\n",
        "\n",
        "            loss_record.append(loss.item())\n",
        "\n",
        "        mean_valid_loss = sum(loss_record)/len(loss_record)\n",
        "        print(f'Epoch [{epoch+1}/{n_epochs}]: Train loss: {mean_train_loss:.4f}, Valid loss: {mean_valid_loss:.4f}')\n",
        "        writer.add_scalar('Loss/valid', mean_valid_loss, step)\n",
        "\n",
        "        if mean_valid_loss < best_loss:\n",
        "            best_loss = mean_valid_loss\n",
        "            torch.save(model.state_dict(), config['save_path']) # Save your best model\n",
        "            print('Saving model with loss {:.3f}...'.format(best_loss))\n",
        "            early_stop_count = 0\n",
        "        else:\n",
        "            early_stop_count += 1\n",
        "\n",
        "        if early_stop_count >= config['early_stop']:\n",
        "            print('\\nModel is not improving, so we halt the training session.')\n",
        "            return"
      ]
    },
    {
      "cell_type": "markdown",
      "metadata": {
        "id": "0pgkOh2e9UjE"
      },
      "source": [
        "# Configurations\n",
        "`config` contains hyper-parameters for training and the path to save your model."
      ]
    },
    {
      "cell_type": "code",
      "execution_count": 33,
      "metadata": {
        "id": "QoWPUahCtoT6"
      },
      "outputs": [],
      "source": [
        "device = 'cuda' if torch.cuda.is_available() else 'cpu'\n",
        "config = {\n",
        "    'seed': 5201314,      # Your seed number, you can pick your lucky number. :)\n",
        "    'select_all': True,   # Whether to use all features.\n",
        "    'valid_ratio': 0.2,   # validation_size = train_size * valid_ratio\n",
        "    'n_epochs': 3000,     # Number of epochs.\n",
        "    'batch_size': 256,\n",
        "    'learning_rate': 1e-5,\n",
        "    'early_stop': 400,    # If model has not improved for this many consecutive epochs, stop training.\n",
        "    'save_path': './models/model.ckpt'  # Your model will be saved here.\n",
        "}"
      ]
    },
    {
      "cell_type": "markdown",
      "metadata": {
        "id": "lrS-aJJh9XkW"
      },
      "source": [
        "# Dataloader\n",
        "Read data from files and set up training, validation, and testing sets. You do not need to modify this part."
      ]
    },
    {
      "cell_type": "code",
      "execution_count": 34,
      "metadata": {
        "id": "2jc7ZfDot2t9"
      },
      "outputs": [
        {
          "name": "stdout",
          "output_type": "stream",
          "text": [
            "train_data size: (2160, 118)\n",
            "valid_data size: (539, 118)\n",
            "test_data size: (1078, 117)\n",
            "number of features: 117\n"
          ]
        }
      ],
      "source": [
        "# Set seed for reproducibility\n",
        "same_seed(config['seed'])\n",
        "\n",
        "\n",
        "# train_data size: 2699 x 118 (id + 37 states + 16 features x 5 days)\n",
        "# test_data size: 1078 x 117 (without last day's positive rate)\n",
        "train_data, test_data = pd.read_csv('./covid.train.csv').values, pd.read_csv('./covid.test.csv').values\n",
        "train_data, valid_data = train_valid_split(train_data, config['valid_ratio'], config['seed'])\n",
        "\n",
        "# Print out the data size.\n",
        "print(f\"\"\"train_data size: {train_data.shape}\n",
        "valid_data size: {valid_data.shape}\n",
        "test_data size: {test_data.shape}\"\"\")\n",
        "\n",
        "# Select features\n",
        "x_train, x_valid, x_test, y_train, y_valid = select_feat(train_data, valid_data, test_data, config['select_all'])\n",
        "\n",
        "# Print out the number of features.\n",
        "print(f'number of features: {x_train.shape[1]}')\n",
        "\n",
        "train_dataset, valid_dataset, test_dataset = COVID19Dataset(x_train, y_train), \\\n",
        "                                            COVID19Dataset(x_valid, y_valid), \\\n",
        "                                            COVID19Dataset(x_test)\n",
        "\n",
        "# Pytorch data loader loads pytorch dataset into batches.\n",
        "train_loader = DataLoader(train_dataset, batch_size=config['batch_size'], shuffle=True, pin_memory=True)\n",
        "valid_loader = DataLoader(valid_dataset, batch_size=config['batch_size'], shuffle=True, pin_memory=True)\n",
        "test_loader = DataLoader(test_dataset, batch_size=config['batch_size'], shuffle=False, pin_memory=True)"
      ]
    },
    {
      "cell_type": "markdown",
      "metadata": {
        "id": "0OBYgjCA-YwD"
      },
      "source": [
        "# Start training!"
      ]
    },
    {
      "cell_type": "code",
      "execution_count": 35,
      "metadata": {
        "id": "YdttVRkAfu2t"
      },
      "outputs": [
        {
          "name": "stderr",
          "output_type": "stream",
          "text": [
            "Epoch [1/3000]: 100%|██████████| 9/9 [00:00<00:00, 364.76it/s, loss=60.4]\n"
          ]
        },
        {
          "name": "stdout",
          "output_type": "stream",
          "text": [
            "Epoch [1/3000]: Train loss: 134.2442, Valid loss: 107.2155\n",
            "Saving model with loss 107.215...\n"
          ]
        },
        {
          "name": "stderr",
          "output_type": "stream",
          "text": [
            "Epoch [2/3000]: 100%|██████████| 9/9 [00:00<00:00, 303.76it/s, loss=65.9]\n"
          ]
        },
        {
          "name": "stdout",
          "output_type": "stream",
          "text": [
            "Epoch [2/3000]: Train loss: 69.8929, Valid loss: 50.8182\n",
            "Saving model with loss 50.818...\n"
          ]
        },
        {
          "name": "stderr",
          "output_type": "stream",
          "text": [
            "Epoch [3/3000]: 100%|██████████| 9/9 [00:00<00:00, 607.53it/s, loss=61.8]\n"
          ]
        },
        {
          "name": "stdout",
          "output_type": "stream",
          "text": [
            "Epoch [3/3000]: Train loss: 48.5299, Valid loss: 39.1161\n",
            "Saving model with loss 39.116...\n"
          ]
        },
        {
          "name": "stderr",
          "output_type": "stream",
          "text": [
            "Epoch [4/3000]: 100%|██████████| 9/9 [00:00<00:00, 660.37it/s, loss=42]\n"
          ]
        },
        {
          "name": "stdout",
          "output_type": "stream",
          "text": [
            "Epoch [4/3000]: Train loss: 39.2690, Valid loss: 39.9759\n"
          ]
        },
        {
          "name": "stderr",
          "output_type": "stream",
          "text": [
            "Epoch [5/3000]: 100%|██████████| 9/9 [00:00<00:00, 628.13it/s, loss=37.6]\n"
          ]
        },
        {
          "name": "stdout",
          "output_type": "stream",
          "text": [
            "Epoch [5/3000]: Train loss: 34.3680, Valid loss: 34.5855\n",
            "Saving model with loss 34.585...\n"
          ]
        },
        {
          "name": "stderr",
          "output_type": "stream",
          "text": [
            "Epoch [6/3000]: 100%|██████████| 9/9 [00:00<00:00, 632.50it/s, loss=35.4]\n"
          ]
        },
        {
          "name": "stdout",
          "output_type": "stream",
          "text": [
            "Epoch [6/3000]: Train loss: 32.7019, Valid loss: 34.4896\n",
            "Saving model with loss 34.490...\n"
          ]
        },
        {
          "name": "stderr",
          "output_type": "stream",
          "text": [
            "Epoch [7/3000]: 100%|██████████| 9/9 [00:00<00:00, 659.77it/s, loss=30.4]\n"
          ]
        },
        {
          "name": "stdout",
          "output_type": "stream",
          "text": [
            "Epoch [7/3000]: Train loss: 31.6557, Valid loss: 32.7823\n",
            "Saving model with loss 32.782...\n"
          ]
        },
        {
          "name": "stderr",
          "output_type": "stream",
          "text": [
            "Epoch [8/3000]: 100%|██████████| 9/9 [00:00<00:00, 517.06it/s, loss=31.8]\n"
          ]
        },
        {
          "name": "stdout",
          "output_type": "stream",
          "text": [
            "Epoch [8/3000]: Train loss: 31.0152, Valid loss: 28.5507\n",
            "Saving model with loss 28.551...\n"
          ]
        },
        {
          "name": "stderr",
          "output_type": "stream",
          "text": [
            "Epoch [9/3000]: 100%|██████████| 9/9 [00:00<00:00, 662.05it/s, loss=28.6]\n"
          ]
        },
        {
          "name": "stdout",
          "output_type": "stream",
          "text": [
            "Epoch [9/3000]: Train loss: 30.0828, Valid loss: 29.0465\n"
          ]
        },
        {
          "name": "stderr",
          "output_type": "stream",
          "text": [
            "Epoch [10/3000]: 100%|██████████| 9/9 [00:00<00:00, 485.73it/s, loss=30]\n"
          ]
        },
        {
          "name": "stdout",
          "output_type": "stream",
          "text": [
            "Epoch [10/3000]: Train loss: 29.1486, Valid loss: 29.9683\n"
          ]
        },
        {
          "name": "stderr",
          "output_type": "stream",
          "text": [
            "Epoch [11/3000]: 100%|██████████| 9/9 [00:00<00:00, 524.69it/s, loss=30.9]\n"
          ]
        },
        {
          "name": "stdout",
          "output_type": "stream",
          "text": [
            "Epoch [11/3000]: Train loss: 27.2043, Valid loss: 34.4239\n"
          ]
        },
        {
          "name": "stderr",
          "output_type": "stream",
          "text": [
            "Epoch [12/3000]: 100%|██████████| 9/9 [00:00<00:00, 483.79it/s, loss=28.5]\n"
          ]
        },
        {
          "name": "stdout",
          "output_type": "stream",
          "text": [
            "Epoch [12/3000]: Train loss: 30.4587, Valid loss: 30.5449\n"
          ]
        },
        {
          "name": "stderr",
          "output_type": "stream",
          "text": [
            "Epoch [13/3000]: 100%|██████████| 9/9 [00:00<00:00, 476.14it/s, loss=26.4]\n"
          ]
        },
        {
          "name": "stdout",
          "output_type": "stream",
          "text": [
            "Epoch [13/3000]: Train loss: 28.8501, Valid loss: 38.8157\n"
          ]
        },
        {
          "name": "stderr",
          "output_type": "stream",
          "text": [
            "Epoch [14/3000]: 100%|██████████| 9/9 [00:00<00:00, 602.61it/s, loss=25.9]\n"
          ]
        },
        {
          "name": "stdout",
          "output_type": "stream",
          "text": [
            "Epoch [14/3000]: Train loss: 30.4944, Valid loss: 23.6369\n",
            "Saving model with loss 23.637...\n"
          ]
        },
        {
          "name": "stderr",
          "output_type": "stream",
          "text": [
            "Epoch [15/3000]: 100%|██████████| 9/9 [00:00<00:00, 690.34it/s, loss=20]\n"
          ]
        },
        {
          "name": "stdout",
          "output_type": "stream",
          "text": [
            "Epoch [15/3000]: Train loss: 22.0876, Valid loss: 21.6633\n",
            "Saving model with loss 21.663...\n"
          ]
        },
        {
          "name": "stderr",
          "output_type": "stream",
          "text": [
            "Epoch [16/3000]: 100%|██████████| 9/9 [00:00<00:00, 624.92it/s, loss=27.3]\n"
          ]
        },
        {
          "name": "stdout",
          "output_type": "stream",
          "text": [
            "Epoch [16/3000]: Train loss: 21.9709, Valid loss: 21.4194\n",
            "Saving model with loss 21.419...\n"
          ]
        },
        {
          "name": "stderr",
          "output_type": "stream",
          "text": [
            "Epoch [17/3000]: 100%|██████████| 9/9 [00:00<00:00, 654.94it/s, loss=18.6]\n"
          ]
        },
        {
          "name": "stdout",
          "output_type": "stream",
          "text": [
            "Epoch [17/3000]: Train loss: 18.8818, Valid loss: 17.4514\n",
            "Saving model with loss 17.451...\n"
          ]
        },
        {
          "name": "stderr",
          "output_type": "stream",
          "text": [
            "Epoch [18/3000]: 100%|██████████| 9/9 [00:00<00:00, 639.71it/s, loss=16.5]\n"
          ]
        },
        {
          "name": "stdout",
          "output_type": "stream",
          "text": [
            "Epoch [18/3000]: Train loss: 19.4508, Valid loss: 16.2920\n",
            "Saving model with loss 16.292...\n"
          ]
        },
        {
          "name": "stderr",
          "output_type": "stream",
          "text": [
            "Epoch [19/3000]: 100%|██████████| 9/9 [00:00<00:00, 661.86it/s, loss=18.7]\n"
          ]
        },
        {
          "name": "stdout",
          "output_type": "stream",
          "text": [
            "Epoch [19/3000]: Train loss: 17.1156, Valid loss: 12.4206\n",
            "Saving model with loss 12.421...\n"
          ]
        },
        {
          "name": "stderr",
          "output_type": "stream",
          "text": [
            "Epoch [20/3000]: 100%|██████████| 9/9 [00:00<00:00, 607.05it/s, loss=16.1]\n"
          ]
        },
        {
          "name": "stdout",
          "output_type": "stream",
          "text": [
            "Epoch [20/3000]: Train loss: 14.4295, Valid loss: 12.4151\n",
            "Saving model with loss 12.415...\n"
          ]
        },
        {
          "name": "stderr",
          "output_type": "stream",
          "text": [
            "Epoch [21/3000]: 100%|██████████| 9/9 [00:00<00:00, 610.70it/s, loss=11.5]\n"
          ]
        },
        {
          "name": "stdout",
          "output_type": "stream",
          "text": [
            "Epoch [21/3000]: Train loss: 12.4319, Valid loss: 10.2071\n",
            "Saving model with loss 10.207...\n"
          ]
        },
        {
          "name": "stderr",
          "output_type": "stream",
          "text": [
            "Epoch [22/3000]: 100%|██████████| 9/9 [00:00<00:00, 643.09it/s, loss=8.66]\n"
          ]
        },
        {
          "name": "stdout",
          "output_type": "stream",
          "text": [
            "Epoch [22/3000]: Train loss: 9.8818, Valid loss: 8.9826\n",
            "Saving model with loss 8.983...\n"
          ]
        },
        {
          "name": "stderr",
          "output_type": "stream",
          "text": [
            "Epoch [23/3000]: 100%|██████████| 9/9 [00:00<00:00, 716.57it/s, loss=9.7]\n"
          ]
        },
        {
          "name": "stdout",
          "output_type": "stream",
          "text": [
            "Epoch [23/3000]: Train loss: 9.4219, Valid loss: 8.1981\n",
            "Saving model with loss 8.198...\n"
          ]
        },
        {
          "name": "stderr",
          "output_type": "stream",
          "text": [
            "Epoch [24/3000]: 100%|██████████| 9/9 [00:00<00:00, 82.41it/s, loss=5.93]\n"
          ]
        },
        {
          "name": "stdout",
          "output_type": "stream",
          "text": [
            "Epoch [24/3000]: Train loss: 9.9813, Valid loss: 11.8384\n"
          ]
        },
        {
          "name": "stderr",
          "output_type": "stream",
          "text": [
            "Epoch [25/3000]: 100%|██████████| 9/9 [00:00<00:00, 621.55it/s, loss=11.6]\n"
          ]
        },
        {
          "name": "stdout",
          "output_type": "stream",
          "text": [
            "Epoch [25/3000]: Train loss: 13.3359, Valid loss: 18.9669\n"
          ]
        },
        {
          "name": "stderr",
          "output_type": "stream",
          "text": [
            "Epoch [26/3000]: 100%|██████████| 9/9 [00:00<00:00, 645.27it/s, loss=33.1]\n"
          ]
        },
        {
          "name": "stdout",
          "output_type": "stream",
          "text": [
            "Epoch [26/3000]: Train loss: 32.1806, Valid loss: 16.0294\n"
          ]
        },
        {
          "name": "stderr",
          "output_type": "stream",
          "text": [
            "Epoch [27/3000]: 100%|██████████| 9/9 [00:00<00:00, 634.56it/s, loss=13]\n"
          ]
        },
        {
          "name": "stdout",
          "output_type": "stream",
          "text": [
            "Epoch [27/3000]: Train loss: 22.0484, Valid loss: 33.8065\n"
          ]
        },
        {
          "name": "stderr",
          "output_type": "stream",
          "text": [
            "Epoch [28/3000]: 100%|██████████| 9/9 [00:00<00:00, 651.94it/s, loss=12.2]\n"
          ]
        },
        {
          "name": "stdout",
          "output_type": "stream",
          "text": [
            "Epoch [28/3000]: Train loss: 24.0526, Valid loss: 16.6207\n"
          ]
        },
        {
          "name": "stderr",
          "output_type": "stream",
          "text": [
            "Epoch [29/3000]: 100%|██████████| 9/9 [00:00<00:00, 670.35it/s, loss=14.1]\n"
          ]
        },
        {
          "name": "stdout",
          "output_type": "stream",
          "text": [
            "Epoch [29/3000]: Train loss: 16.1523, Valid loss: 15.9925\n"
          ]
        },
        {
          "name": "stderr",
          "output_type": "stream",
          "text": [
            "Epoch [30/3000]: 100%|██████████| 9/9 [00:00<00:00, 603.95it/s, loss=10.7]\n"
          ]
        },
        {
          "name": "stdout",
          "output_type": "stream",
          "text": [
            "Epoch [30/3000]: Train loss: 13.3894, Valid loss: 12.4743\n"
          ]
        },
        {
          "name": "stderr",
          "output_type": "stream",
          "text": [
            "Epoch [31/3000]: 100%|██████████| 9/9 [00:00<00:00, 694.18it/s, loss=9.66]\n"
          ]
        },
        {
          "name": "stdout",
          "output_type": "stream",
          "text": [
            "Epoch [31/3000]: Train loss: 10.6112, Valid loss: 8.4473\n"
          ]
        },
        {
          "name": "stderr",
          "output_type": "stream",
          "text": [
            "Epoch [32/3000]: 100%|██████████| 9/9 [00:00<00:00, 627.18it/s, loss=5.79]\n"
          ]
        },
        {
          "name": "stdout",
          "output_type": "stream",
          "text": [
            "Epoch [32/3000]: Train loss: 8.7278, Valid loss: 7.7085\n",
            "Saving model with loss 7.709...\n"
          ]
        },
        {
          "name": "stderr",
          "output_type": "stream",
          "text": [
            "Epoch [33/3000]: 100%|██████████| 9/9 [00:00<00:00, 681.40it/s, loss=7.05]\n"
          ]
        },
        {
          "name": "stdout",
          "output_type": "stream",
          "text": [
            "Epoch [33/3000]: Train loss: 7.5807, Valid loss: 9.9062\n"
          ]
        },
        {
          "name": "stderr",
          "output_type": "stream",
          "text": [
            "Epoch [34/3000]: 100%|██████████| 9/9 [00:00<00:00, 629.64it/s, loss=6.23]\n"
          ]
        },
        {
          "name": "stdout",
          "output_type": "stream",
          "text": [
            "Epoch [34/3000]: Train loss: 6.5633, Valid loss: 6.3914\n",
            "Saving model with loss 6.391...\n"
          ]
        },
        {
          "name": "stderr",
          "output_type": "stream",
          "text": [
            "Epoch [35/3000]: 100%|██████████| 9/9 [00:00<00:00, 663.47it/s, loss=5.67]\n"
          ]
        },
        {
          "name": "stdout",
          "output_type": "stream",
          "text": [
            "Epoch [35/3000]: Train loss: 6.4580, Valid loss: 7.3765\n"
          ]
        },
        {
          "name": "stderr",
          "output_type": "stream",
          "text": [
            "Epoch [36/3000]: 100%|██████████| 9/9 [00:00<00:00, 621.62it/s, loss=10.7]\n"
          ]
        },
        {
          "name": "stdout",
          "output_type": "stream",
          "text": [
            "Epoch [36/3000]: Train loss: 8.9013, Valid loss: 5.4417\n",
            "Saving model with loss 5.442...\n"
          ]
        },
        {
          "name": "stderr",
          "output_type": "stream",
          "text": [
            "Epoch [37/3000]: 100%|██████████| 9/9 [00:00<00:00, 672.56it/s, loss=12]\n"
          ]
        },
        {
          "name": "stdout",
          "output_type": "stream",
          "text": [
            "Epoch [37/3000]: Train loss: 10.5937, Valid loss: 12.1412\n"
          ]
        },
        {
          "name": "stderr",
          "output_type": "stream",
          "text": [
            "Epoch [38/3000]: 100%|██████████| 9/9 [00:00<00:00, 658.04it/s, loss=17.1]\n"
          ]
        },
        {
          "name": "stdout",
          "output_type": "stream",
          "text": [
            "Epoch [38/3000]: Train loss: 9.9643, Valid loss: 13.1455\n"
          ]
        },
        {
          "name": "stderr",
          "output_type": "stream",
          "text": [
            "Epoch [39/3000]: 100%|██████████| 9/9 [00:00<00:00, 679.91it/s, loss=9.27]\n"
          ]
        },
        {
          "name": "stdout",
          "output_type": "stream",
          "text": [
            "Epoch [39/3000]: Train loss: 9.3263, Valid loss: 5.6931\n"
          ]
        },
        {
          "name": "stderr",
          "output_type": "stream",
          "text": [
            "Epoch [40/3000]: 100%|██████████| 9/9 [00:00<00:00, 643.55it/s, loss=7.55]\n"
          ]
        },
        {
          "name": "stdout",
          "output_type": "stream",
          "text": [
            "Epoch [40/3000]: Train loss: 6.5199, Valid loss: 9.1216\n"
          ]
        },
        {
          "name": "stderr",
          "output_type": "stream",
          "text": [
            "Epoch [41/3000]: 100%|██████████| 9/9 [00:00<00:00, 692.10it/s, loss=4.45]\n"
          ]
        },
        {
          "name": "stdout",
          "output_type": "stream",
          "text": [
            "Epoch [41/3000]: Train loss: 8.4722, Valid loss: 9.6057\n"
          ]
        },
        {
          "name": "stderr",
          "output_type": "stream",
          "text": [
            "Epoch [42/3000]: 100%|██████████| 9/9 [00:00<00:00, 632.56it/s, loss=7.67]\n"
          ]
        },
        {
          "name": "stdout",
          "output_type": "stream",
          "text": [
            "Epoch [42/3000]: Train loss: 11.0132, Valid loss: 9.0236\n"
          ]
        },
        {
          "name": "stderr",
          "output_type": "stream",
          "text": [
            "Epoch [43/3000]: 100%|██████████| 9/9 [00:00<00:00, 676.49it/s, loss=7.68]\n"
          ]
        },
        {
          "name": "stdout",
          "output_type": "stream",
          "text": [
            "Epoch [43/3000]: Train loss: 8.0972, Valid loss: 5.8520\n"
          ]
        },
        {
          "name": "stderr",
          "output_type": "stream",
          "text": [
            "Epoch [44/3000]: 100%|██████████| 9/9 [00:00<00:00, 645.67it/s, loss=6.4]\n"
          ]
        },
        {
          "name": "stdout",
          "output_type": "stream",
          "text": [
            "Epoch [44/3000]: Train loss: 5.9798, Valid loss: 5.6593\n"
          ]
        },
        {
          "name": "stderr",
          "output_type": "stream",
          "text": [
            "Epoch [45/3000]: 100%|██████████| 9/9 [00:00<00:00, 700.49it/s, loss=7.7]\n"
          ]
        },
        {
          "name": "stdout",
          "output_type": "stream",
          "text": [
            "Epoch [45/3000]: Train loss: 6.1513, Valid loss: 6.2123\n"
          ]
        },
        {
          "name": "stderr",
          "output_type": "stream",
          "text": [
            "Epoch [46/3000]: 100%|██████████| 9/9 [00:00<00:00, 667.01it/s, loss=7.12]\n"
          ]
        },
        {
          "name": "stdout",
          "output_type": "stream",
          "text": [
            "Epoch [46/3000]: Train loss: 6.6763, Valid loss: 4.9755\n",
            "Saving model with loss 4.975...\n"
          ]
        },
        {
          "name": "stderr",
          "output_type": "stream",
          "text": [
            "Epoch [47/3000]: 100%|██████████| 9/9 [00:00<00:00, 664.53it/s, loss=13.4]\n"
          ]
        },
        {
          "name": "stdout",
          "output_type": "stream",
          "text": [
            "Epoch [47/3000]: Train loss: 9.9839, Valid loss: 19.5051\n"
          ]
        },
        {
          "name": "stderr",
          "output_type": "stream",
          "text": [
            "Epoch [48/3000]: 100%|██████████| 9/9 [00:00<00:00, 636.27it/s, loss=7.59]\n"
          ]
        },
        {
          "name": "stdout",
          "output_type": "stream",
          "text": [
            "Epoch [48/3000]: Train loss: 10.6670, Valid loss: 6.5792\n"
          ]
        },
        {
          "name": "stderr",
          "output_type": "stream",
          "text": [
            "Epoch [49/3000]: 100%|██████████| 9/9 [00:00<00:00, 699.19it/s, loss=5.61]\n"
          ]
        },
        {
          "name": "stdout",
          "output_type": "stream",
          "text": [
            "Epoch [49/3000]: Train loss: 5.9363, Valid loss: 5.5739\n"
          ]
        },
        {
          "name": "stderr",
          "output_type": "stream",
          "text": [
            "Epoch [50/3000]: 100%|██████████| 9/9 [00:00<00:00, 636.63it/s, loss=5.36]\n"
          ]
        },
        {
          "name": "stdout",
          "output_type": "stream",
          "text": [
            "Epoch [50/3000]: Train loss: 5.4913, Valid loss: 5.0021\n"
          ]
        },
        {
          "name": "stderr",
          "output_type": "stream",
          "text": [
            "Epoch [51/3000]: 100%|██████████| 9/9 [00:00<00:00, 653.60it/s, loss=5.76]\n"
          ]
        },
        {
          "name": "stdout",
          "output_type": "stream",
          "text": [
            "Epoch [51/3000]: Train loss: 7.1928, Valid loss: 8.2294\n"
          ]
        },
        {
          "name": "stderr",
          "output_type": "stream",
          "text": [
            "Epoch [52/3000]: 100%|██████████| 9/9 [00:00<00:00, 625.17it/s, loss=11.3]\n"
          ]
        },
        {
          "name": "stdout",
          "output_type": "stream",
          "text": [
            "Epoch [52/3000]: Train loss: 6.7840, Valid loss: 5.3660\n"
          ]
        },
        {
          "name": "stderr",
          "output_type": "stream",
          "text": [
            "Epoch [53/3000]: 100%|██████████| 9/9 [00:00<00:00, 622.24it/s, loss=7.18]\n"
          ]
        },
        {
          "name": "stdout",
          "output_type": "stream",
          "text": [
            "Epoch [53/3000]: Train loss: 5.8824, Valid loss: 5.5262\n"
          ]
        },
        {
          "name": "stderr",
          "output_type": "stream",
          "text": [
            "Epoch [54/3000]: 100%|██████████| 9/9 [00:00<00:00, 638.45it/s, loss=5.46]\n"
          ]
        },
        {
          "name": "stdout",
          "output_type": "stream",
          "text": [
            "Epoch [54/3000]: Train loss: 5.7326, Valid loss: 6.7739\n"
          ]
        },
        {
          "name": "stderr",
          "output_type": "stream",
          "text": [
            "Epoch [55/3000]: 100%|██████████| 9/9 [00:00<00:00, 658.46it/s, loss=7.69]\n"
          ]
        },
        {
          "name": "stdout",
          "output_type": "stream",
          "text": [
            "Epoch [55/3000]: Train loss: 5.7277, Valid loss: 5.4757\n"
          ]
        },
        {
          "name": "stderr",
          "output_type": "stream",
          "text": [
            "Epoch [56/3000]: 100%|██████████| 9/9 [00:00<00:00, 666.92it/s, loss=5.06]\n"
          ]
        },
        {
          "name": "stdout",
          "output_type": "stream",
          "text": [
            "Epoch [56/3000]: Train loss: 5.6684, Valid loss: 4.4305\n",
            "Saving model with loss 4.430...\n"
          ]
        },
        {
          "name": "stderr",
          "output_type": "stream",
          "text": [
            "Epoch [57/3000]: 100%|██████████| 9/9 [00:00<00:00, 656.02it/s, loss=6.54]\n"
          ]
        },
        {
          "name": "stdout",
          "output_type": "stream",
          "text": [
            "Epoch [57/3000]: Train loss: 5.4881, Valid loss: 8.8956\n"
          ]
        },
        {
          "name": "stderr",
          "output_type": "stream",
          "text": [
            "Epoch [58/3000]: 100%|██████████| 9/9 [00:00<00:00, 657.99it/s, loss=5.33]\n"
          ]
        },
        {
          "name": "stdout",
          "output_type": "stream",
          "text": [
            "Epoch [58/3000]: Train loss: 7.3784, Valid loss: 5.9944\n"
          ]
        },
        {
          "name": "stderr",
          "output_type": "stream",
          "text": [
            "Epoch [59/3000]: 100%|██████████| 9/9 [00:00<00:00, 720.86it/s, loss=5.13]\n"
          ]
        },
        {
          "name": "stdout",
          "output_type": "stream",
          "text": [
            "Epoch [59/3000]: Train loss: 5.6964, Valid loss: 5.6171\n"
          ]
        },
        {
          "name": "stderr",
          "output_type": "stream",
          "text": [
            "Epoch [60/3000]: 100%|██████████| 9/9 [00:00<00:00, 690.33it/s, loss=3.92]\n"
          ]
        },
        {
          "name": "stdout",
          "output_type": "stream",
          "text": [
            "Epoch [60/3000]: Train loss: 5.0884, Valid loss: 5.1962\n"
          ]
        },
        {
          "name": "stderr",
          "output_type": "stream",
          "text": [
            "Epoch [61/3000]: 100%|██████████| 9/9 [00:00<00:00, 681.56it/s, loss=5.2]\n"
          ]
        },
        {
          "name": "stdout",
          "output_type": "stream",
          "text": [
            "Epoch [61/3000]: Train loss: 5.0845, Valid loss: 4.9495\n"
          ]
        },
        {
          "name": "stderr",
          "output_type": "stream",
          "text": [
            "Epoch [62/3000]: 100%|██████████| 9/9 [00:00<00:00, 611.74it/s, loss=5.45]\n"
          ]
        },
        {
          "name": "stdout",
          "output_type": "stream",
          "text": [
            "Epoch [62/3000]: Train loss: 5.9733, Valid loss: 6.9510\n"
          ]
        },
        {
          "name": "stderr",
          "output_type": "stream",
          "text": [
            "Epoch [63/3000]: 100%|██████████| 9/9 [00:00<00:00, 667.26it/s, loss=7.82]\n"
          ]
        },
        {
          "name": "stdout",
          "output_type": "stream",
          "text": [
            "Epoch [63/3000]: Train loss: 7.5035, Valid loss: 5.6298\n"
          ]
        },
        {
          "name": "stderr",
          "output_type": "stream",
          "text": [
            "Epoch [64/3000]: 100%|██████████| 9/9 [00:00<00:00, 622.11it/s, loss=7.88]\n"
          ]
        },
        {
          "name": "stdout",
          "output_type": "stream",
          "text": [
            "Epoch [64/3000]: Train loss: 5.8683, Valid loss: 11.4870\n"
          ]
        },
        {
          "name": "stderr",
          "output_type": "stream",
          "text": [
            "Epoch [65/3000]: 100%|██████████| 9/9 [00:00<00:00, 674.16it/s, loss=8.39]\n"
          ]
        },
        {
          "name": "stdout",
          "output_type": "stream",
          "text": [
            "Epoch [65/3000]: Train loss: 9.3269, Valid loss: 9.2382\n"
          ]
        },
        {
          "name": "stderr",
          "output_type": "stream",
          "text": [
            "Epoch [66/3000]: 100%|██████████| 9/9 [00:00<00:00, 641.84it/s, loss=4.24]\n"
          ]
        },
        {
          "name": "stdout",
          "output_type": "stream",
          "text": [
            "Epoch [66/3000]: Train loss: 6.1365, Valid loss: 5.1153\n"
          ]
        },
        {
          "name": "stderr",
          "output_type": "stream",
          "text": [
            "Epoch [67/3000]: 100%|██████████| 9/9 [00:00<00:00, 662.40it/s, loss=5.77]\n"
          ]
        },
        {
          "name": "stdout",
          "output_type": "stream",
          "text": [
            "Epoch [67/3000]: Train loss: 5.7960, Valid loss: 6.9223\n"
          ]
        },
        {
          "name": "stderr",
          "output_type": "stream",
          "text": [
            "Epoch [68/3000]: 100%|██████████| 9/9 [00:00<00:00, 564.37it/s, loss=5.48]\n"
          ]
        },
        {
          "name": "stdout",
          "output_type": "stream",
          "text": [
            "Epoch [68/3000]: Train loss: 5.5723, Valid loss: 10.5285\n"
          ]
        },
        {
          "name": "stderr",
          "output_type": "stream",
          "text": [
            "Epoch [69/3000]: 100%|██████████| 9/9 [00:00<00:00, 622.78it/s, loss=6.86]\n"
          ]
        },
        {
          "name": "stdout",
          "output_type": "stream",
          "text": [
            "Epoch [69/3000]: Train loss: 7.4482, Valid loss: 5.8194\n"
          ]
        },
        {
          "name": "stderr",
          "output_type": "stream",
          "text": [
            "Epoch [70/3000]: 100%|██████████| 9/9 [00:00<00:00, 566.10it/s, loss=4.49]\n"
          ]
        },
        {
          "name": "stdout",
          "output_type": "stream",
          "text": [
            "Epoch [70/3000]: Train loss: 6.2430, Valid loss: 4.8309\n"
          ]
        },
        {
          "name": "stderr",
          "output_type": "stream",
          "text": [
            "Epoch [71/3000]: 100%|██████████| 9/9 [00:00<00:00, 622.71it/s, loss=6.33]\n"
          ]
        },
        {
          "name": "stdout",
          "output_type": "stream",
          "text": [
            "Epoch [71/3000]: Train loss: 5.6408, Valid loss: 5.0992\n"
          ]
        },
        {
          "name": "stderr",
          "output_type": "stream",
          "text": [
            "Epoch [72/3000]: 100%|██████████| 9/9 [00:00<00:00, 623.70it/s, loss=5.02]\n"
          ]
        },
        {
          "name": "stdout",
          "output_type": "stream",
          "text": [
            "Epoch [72/3000]: Train loss: 5.0978, Valid loss: 4.9431\n"
          ]
        },
        {
          "name": "stderr",
          "output_type": "stream",
          "text": [
            "Epoch [73/3000]: 100%|██████████| 9/9 [00:00<00:00, 586.01it/s, loss=8.09]\n"
          ]
        },
        {
          "name": "stdout",
          "output_type": "stream",
          "text": [
            "Epoch [73/3000]: Train loss: 5.2667, Valid loss: 4.9880\n"
          ]
        },
        {
          "name": "stderr",
          "output_type": "stream",
          "text": [
            "Epoch [74/3000]: 100%|██████████| 9/9 [00:00<00:00, 684.41it/s, loss=5]\n"
          ]
        },
        {
          "name": "stdout",
          "output_type": "stream",
          "text": [
            "Epoch [74/3000]: Train loss: 5.2492, Valid loss: 5.1104\n"
          ]
        },
        {
          "name": "stderr",
          "output_type": "stream",
          "text": [
            "Epoch [75/3000]: 100%|██████████| 9/9 [00:00<00:00, 600.47it/s, loss=5.47]\n"
          ]
        },
        {
          "name": "stdout",
          "output_type": "stream",
          "text": [
            "Epoch [75/3000]: Train loss: 5.1307, Valid loss: 5.3580\n"
          ]
        },
        {
          "name": "stderr",
          "output_type": "stream",
          "text": [
            "Epoch [76/3000]: 100%|██████████| 9/9 [00:00<00:00, 635.82it/s, loss=5.19]\n"
          ]
        },
        {
          "name": "stdout",
          "output_type": "stream",
          "text": [
            "Epoch [76/3000]: Train loss: 5.2946, Valid loss: 5.0391\n"
          ]
        },
        {
          "name": "stderr",
          "output_type": "stream",
          "text": [
            "Epoch [77/3000]: 100%|██████████| 9/9 [00:00<00:00, 538.60it/s, loss=5.23]\n"
          ]
        },
        {
          "name": "stdout",
          "output_type": "stream",
          "text": [
            "Epoch [77/3000]: Train loss: 6.2679, Valid loss: 5.5086\n"
          ]
        },
        {
          "name": "stderr",
          "output_type": "stream",
          "text": [
            "Epoch [78/3000]: 100%|██████████| 9/9 [00:00<00:00, 635.09it/s, loss=4.06]\n"
          ]
        },
        {
          "name": "stdout",
          "output_type": "stream",
          "text": [
            "Epoch [78/3000]: Train loss: 5.2678, Valid loss: 5.3003\n"
          ]
        },
        {
          "name": "stderr",
          "output_type": "stream",
          "text": [
            "Epoch [79/3000]: 100%|██████████| 9/9 [00:00<00:00, 569.04it/s, loss=5.09]\n"
          ]
        },
        {
          "name": "stdout",
          "output_type": "stream",
          "text": [
            "Epoch [79/3000]: Train loss: 4.9791, Valid loss: 5.4531\n"
          ]
        },
        {
          "name": "stderr",
          "output_type": "stream",
          "text": [
            "Epoch [80/3000]: 100%|██████████| 9/9 [00:00<00:00, 648.05it/s, loss=5.34]\n"
          ]
        },
        {
          "name": "stdout",
          "output_type": "stream",
          "text": [
            "Epoch [80/3000]: Train loss: 5.2869, Valid loss: 5.0388\n"
          ]
        },
        {
          "name": "stderr",
          "output_type": "stream",
          "text": [
            "Epoch [81/3000]: 100%|██████████| 9/9 [00:00<00:00, 597.45it/s, loss=5.4]\n"
          ]
        },
        {
          "name": "stdout",
          "output_type": "stream",
          "text": [
            "Epoch [81/3000]: Train loss: 5.3661, Valid loss: 6.3918\n"
          ]
        },
        {
          "name": "stderr",
          "output_type": "stream",
          "text": [
            "Epoch [82/3000]: 100%|██████████| 9/9 [00:00<00:00, 614.09it/s, loss=5.73]\n"
          ]
        },
        {
          "name": "stdout",
          "output_type": "stream",
          "text": [
            "Epoch [82/3000]: Train loss: 4.9450, Valid loss: 4.2250\n",
            "Saving model with loss 4.225...\n"
          ]
        },
        {
          "name": "stderr",
          "output_type": "stream",
          "text": [
            "Epoch [83/3000]: 100%|██████████| 9/9 [00:00<00:00, 643.65it/s, loss=4.56]\n"
          ]
        },
        {
          "name": "stdout",
          "output_type": "stream",
          "text": [
            "Epoch [83/3000]: Train loss: 4.8172, Valid loss: 5.8925\n"
          ]
        },
        {
          "name": "stderr",
          "output_type": "stream",
          "text": [
            "Epoch [84/3000]: 100%|██████████| 9/9 [00:00<00:00, 519.00it/s, loss=6.49]\n"
          ]
        },
        {
          "name": "stdout",
          "output_type": "stream",
          "text": [
            "Epoch [84/3000]: Train loss: 5.7377, Valid loss: 5.3299\n"
          ]
        },
        {
          "name": "stderr",
          "output_type": "stream",
          "text": [
            "Epoch [85/3000]: 100%|██████████| 9/9 [00:00<00:00, 162.51it/s, loss=5.31]\n"
          ]
        },
        {
          "name": "stdout",
          "output_type": "stream",
          "text": [
            "Epoch [85/3000]: Train loss: 5.4112, Valid loss: 5.2749\n"
          ]
        },
        {
          "name": "stderr",
          "output_type": "stream",
          "text": [
            "Epoch [86/3000]: 100%|██████████| 9/9 [00:00<00:00, 524.75it/s, loss=5.45]\n"
          ]
        },
        {
          "name": "stdout",
          "output_type": "stream",
          "text": [
            "Epoch [86/3000]: Train loss: 5.3039, Valid loss: 5.1752\n"
          ]
        },
        {
          "name": "stderr",
          "output_type": "stream",
          "text": [
            "Epoch [87/3000]: 100%|██████████| 9/9 [00:00<00:00, 433.63it/s, loss=7.79]\n"
          ]
        },
        {
          "name": "stdout",
          "output_type": "stream",
          "text": [
            "Epoch [87/3000]: Train loss: 5.2272, Valid loss: 5.0815\n"
          ]
        },
        {
          "name": "stderr",
          "output_type": "stream",
          "text": [
            "Epoch [88/3000]: 100%|██████████| 9/9 [00:00<00:00, 586.16it/s, loss=3.96]\n"
          ]
        },
        {
          "name": "stdout",
          "output_type": "stream",
          "text": [
            "Epoch [88/3000]: Train loss: 5.0695, Valid loss: 7.2384\n"
          ]
        },
        {
          "name": "stderr",
          "output_type": "stream",
          "text": [
            "Epoch [89/3000]: 100%|██████████| 9/9 [00:00<00:00, 511.81it/s, loss=5.1]\n"
          ]
        },
        {
          "name": "stdout",
          "output_type": "stream",
          "text": [
            "Epoch [89/3000]: Train loss: 5.5727, Valid loss: 8.1524\n"
          ]
        },
        {
          "name": "stderr",
          "output_type": "stream",
          "text": [
            "Epoch [90/3000]: 100%|██████████| 9/9 [00:00<00:00, 499.28it/s, loss=6.9]\n"
          ]
        },
        {
          "name": "stdout",
          "output_type": "stream",
          "text": [
            "Epoch [90/3000]: Train loss: 6.3691, Valid loss: 5.2129\n"
          ]
        },
        {
          "name": "stderr",
          "output_type": "stream",
          "text": [
            "Epoch [91/3000]: 100%|██████████| 9/9 [00:00<00:00, 559.36it/s, loss=5.35]\n"
          ]
        },
        {
          "name": "stdout",
          "output_type": "stream",
          "text": [
            "Epoch [91/3000]: Train loss: 6.1391, Valid loss: 5.3345\n"
          ]
        },
        {
          "name": "stderr",
          "output_type": "stream",
          "text": [
            "Epoch [92/3000]: 100%|██████████| 9/9 [00:00<00:00, 502.29it/s, loss=4.95]\n"
          ]
        },
        {
          "name": "stdout",
          "output_type": "stream",
          "text": [
            "Epoch [92/3000]: Train loss: 5.1186, Valid loss: 4.9045\n"
          ]
        },
        {
          "name": "stderr",
          "output_type": "stream",
          "text": [
            "Epoch [93/3000]: 100%|██████████| 9/9 [00:00<00:00, 588.00it/s, loss=4.72]\n"
          ]
        },
        {
          "name": "stdout",
          "output_type": "stream",
          "text": [
            "Epoch [93/3000]: Train loss: 5.1486, Valid loss: 4.5685\n"
          ]
        },
        {
          "name": "stderr",
          "output_type": "stream",
          "text": [
            "Epoch [94/3000]: 100%|██████████| 9/9 [00:00<00:00, 581.02it/s, loss=4.61]\n"
          ]
        },
        {
          "name": "stdout",
          "output_type": "stream",
          "text": [
            "Epoch [94/3000]: Train loss: 4.6117, Valid loss: 4.5320\n"
          ]
        },
        {
          "name": "stderr",
          "output_type": "stream",
          "text": [
            "Epoch [95/3000]: 100%|██████████| 9/9 [00:00<00:00, 549.51it/s, loss=5.06]\n"
          ]
        },
        {
          "name": "stdout",
          "output_type": "stream",
          "text": [
            "Epoch [95/3000]: Train loss: 4.8498, Valid loss: 4.5246\n"
          ]
        },
        {
          "name": "stderr",
          "output_type": "stream",
          "text": [
            "Epoch [96/3000]: 100%|██████████| 9/9 [00:00<00:00, 604.18it/s, loss=5.2]\n"
          ]
        },
        {
          "name": "stdout",
          "output_type": "stream",
          "text": [
            "Epoch [96/3000]: Train loss: 5.0262, Valid loss: 5.3290\n"
          ]
        },
        {
          "name": "stderr",
          "output_type": "stream",
          "text": [
            "Epoch [97/3000]: 100%|██████████| 9/9 [00:00<00:00, 436.81it/s, loss=5.41]\n"
          ]
        },
        {
          "name": "stdout",
          "output_type": "stream",
          "text": [
            "Epoch [97/3000]: Train loss: 4.7407, Valid loss: 5.7960\n"
          ]
        },
        {
          "name": "stderr",
          "output_type": "stream",
          "text": [
            "Epoch [98/3000]: 100%|██████████| 9/9 [00:00<00:00, 480.69it/s, loss=8.49]\n"
          ]
        },
        {
          "name": "stdout",
          "output_type": "stream",
          "text": [
            "Epoch [98/3000]: Train loss: 5.7654, Valid loss: 4.9695\n"
          ]
        },
        {
          "name": "stderr",
          "output_type": "stream",
          "text": [
            "Epoch [99/3000]: 100%|██████████| 9/9 [00:00<00:00, 527.36it/s, loss=5.73]\n"
          ]
        },
        {
          "name": "stdout",
          "output_type": "stream",
          "text": [
            "Epoch [99/3000]: Train loss: 7.3373, Valid loss: 8.2767\n"
          ]
        },
        {
          "name": "stderr",
          "output_type": "stream",
          "text": [
            "Epoch [100/3000]: 100%|██████████| 9/9 [00:00<00:00, 477.53it/s, loss=7.82]\n"
          ]
        },
        {
          "name": "stdout",
          "output_type": "stream",
          "text": [
            "Epoch [100/3000]: Train loss: 5.9266, Valid loss: 7.2285\n"
          ]
        },
        {
          "name": "stderr",
          "output_type": "stream",
          "text": [
            "Epoch [101/3000]: 100%|██████████| 9/9 [00:00<00:00, 128.77it/s, loss=7]\n"
          ]
        },
        {
          "name": "stdout",
          "output_type": "stream",
          "text": [
            "Epoch [101/3000]: Train loss: 5.3676, Valid loss: 5.6913\n"
          ]
        },
        {
          "name": "stderr",
          "output_type": "stream",
          "text": [
            "Epoch [102/3000]: 100%|██████████| 9/9 [00:00<00:00, 538.70it/s, loss=4.65]\n"
          ]
        },
        {
          "name": "stdout",
          "output_type": "stream",
          "text": [
            "Epoch [102/3000]: Train loss: 5.2093, Valid loss: 5.3832\n"
          ]
        },
        {
          "name": "stderr",
          "output_type": "stream",
          "text": [
            "Epoch [103/3000]: 100%|██████████| 9/9 [00:00<00:00, 676.95it/s, loss=5.63]\n"
          ]
        },
        {
          "name": "stdout",
          "output_type": "stream",
          "text": [
            "Epoch [103/3000]: Train loss: 4.7274, Valid loss: 4.8931\n"
          ]
        },
        {
          "name": "stderr",
          "output_type": "stream",
          "text": [
            "Epoch [104/3000]: 100%|██████████| 9/9 [00:00<00:00, 556.13it/s, loss=4.76]\n"
          ]
        },
        {
          "name": "stdout",
          "output_type": "stream",
          "text": [
            "Epoch [104/3000]: Train loss: 4.4946, Valid loss: 5.5234\n"
          ]
        },
        {
          "name": "stderr",
          "output_type": "stream",
          "text": [
            "Epoch [105/3000]: 100%|██████████| 9/9 [00:00<00:00, 675.83it/s, loss=4.84]\n"
          ]
        },
        {
          "name": "stdout",
          "output_type": "stream",
          "text": [
            "Epoch [105/3000]: Train loss: 4.8653, Valid loss: 5.2228\n"
          ]
        },
        {
          "name": "stderr",
          "output_type": "stream",
          "text": [
            "Epoch [106/3000]: 100%|██████████| 9/9 [00:00<00:00, 563.73it/s, loss=6.07]\n"
          ]
        },
        {
          "name": "stdout",
          "output_type": "stream",
          "text": [
            "Epoch [106/3000]: Train loss: 5.2931, Valid loss: 11.8830\n"
          ]
        },
        {
          "name": "stderr",
          "output_type": "stream",
          "text": [
            "Epoch [107/3000]: 100%|██████████| 9/9 [00:00<00:00, 612.90it/s, loss=9.1]\n"
          ]
        },
        {
          "name": "stdout",
          "output_type": "stream",
          "text": [
            "Epoch [107/3000]: Train loss: 10.0724, Valid loss: 7.8773\n"
          ]
        },
        {
          "name": "stderr",
          "output_type": "stream",
          "text": [
            "Epoch [108/3000]: 100%|██████████| 9/9 [00:00<00:00, 587.82it/s, loss=4.54]\n"
          ]
        },
        {
          "name": "stdout",
          "output_type": "stream",
          "text": [
            "Epoch [108/3000]: Train loss: 5.6886, Valid loss: 4.7707\n"
          ]
        },
        {
          "name": "stderr",
          "output_type": "stream",
          "text": [
            "Epoch [109/3000]: 100%|██████████| 9/9 [00:00<00:00, 286.74it/s, loss=5.33]\n"
          ]
        },
        {
          "name": "stdout",
          "output_type": "stream",
          "text": [
            "Epoch [109/3000]: Train loss: 4.8287, Valid loss: 5.4516\n"
          ]
        },
        {
          "name": "stderr",
          "output_type": "stream",
          "text": [
            "Epoch [110/3000]: 100%|██████████| 9/9 [00:00<00:00, 388.90it/s, loss=21.7]\n"
          ]
        },
        {
          "name": "stdout",
          "output_type": "stream",
          "text": [
            "Epoch [110/3000]: Train loss: 9.3295, Valid loss: 8.8743\n"
          ]
        },
        {
          "name": "stderr",
          "output_type": "stream",
          "text": [
            "Epoch [111/3000]: 100%|██████████| 9/9 [00:00<00:00, 477.17it/s, loss=6.92]\n"
          ]
        },
        {
          "name": "stdout",
          "output_type": "stream",
          "text": [
            "Epoch [111/3000]: Train loss: 8.9486, Valid loss: 6.7785\n"
          ]
        },
        {
          "name": "stderr",
          "output_type": "stream",
          "text": [
            "Epoch [112/3000]: 100%|██████████| 9/9 [00:00<00:00, 146.86it/s, loss=9.15]\n"
          ]
        },
        {
          "name": "stdout",
          "output_type": "stream",
          "text": [
            "Epoch [112/3000]: Train loss: 6.4420, Valid loss: 9.7313\n"
          ]
        },
        {
          "name": "stderr",
          "output_type": "stream",
          "text": [
            "Epoch [113/3000]: 100%|██████████| 9/9 [00:00<00:00, 95.35it/s, loss=6.68]\n"
          ]
        },
        {
          "name": "stdout",
          "output_type": "stream",
          "text": [
            "Epoch [113/3000]: Train loss: 6.0470, Valid loss: 6.9602\n"
          ]
        },
        {
          "name": "stderr",
          "output_type": "stream",
          "text": [
            "Epoch [114/3000]: 100%|██████████| 9/9 [00:00<00:00, 170.41it/s, loss=5.66]\n"
          ]
        },
        {
          "name": "stdout",
          "output_type": "stream",
          "text": [
            "Epoch [114/3000]: Train loss: 6.3641, Valid loss: 6.8575\n"
          ]
        },
        {
          "name": "stderr",
          "output_type": "stream",
          "text": [
            "Epoch [115/3000]: 100%|██████████| 9/9 [00:00<00:00, 221.29it/s, loss=4.71]\n"
          ]
        },
        {
          "name": "stdout",
          "output_type": "stream",
          "text": [
            "Epoch [115/3000]: Train loss: 5.4044, Valid loss: 5.3073\n"
          ]
        },
        {
          "name": "stderr",
          "output_type": "stream",
          "text": [
            "Epoch [116/3000]: 100%|██████████| 9/9 [00:00<00:00, 273.99it/s, loss=6.69]\n"
          ]
        },
        {
          "name": "stdout",
          "output_type": "stream",
          "text": [
            "Epoch [116/3000]: Train loss: 5.3256, Valid loss: 4.9680\n"
          ]
        },
        {
          "name": "stderr",
          "output_type": "stream",
          "text": [
            "Epoch [117/3000]: 100%|██████████| 9/9 [00:00<00:00, 418.58it/s, loss=4.36]\n"
          ]
        },
        {
          "name": "stdout",
          "output_type": "stream",
          "text": [
            "Epoch [117/3000]: Train loss: 5.3112, Valid loss: 5.6751\n"
          ]
        },
        {
          "name": "stderr",
          "output_type": "stream",
          "text": [
            "Epoch [118/3000]: 100%|██████████| 9/9 [00:00<00:00, 428.15it/s, loss=8.2]\n"
          ]
        },
        {
          "name": "stdout",
          "output_type": "stream",
          "text": [
            "Epoch [118/3000]: Train loss: 6.6687, Valid loss: 4.9413\n"
          ]
        },
        {
          "name": "stderr",
          "output_type": "stream",
          "text": [
            "Epoch [119/3000]: 100%|██████████| 9/9 [00:00<00:00, 313.97it/s, loss=5.57]\n"
          ]
        },
        {
          "name": "stdout",
          "output_type": "stream",
          "text": [
            "Epoch [119/3000]: Train loss: 5.2168, Valid loss: 4.6905\n"
          ]
        },
        {
          "name": "stderr",
          "output_type": "stream",
          "text": [
            "Epoch [120/3000]: 100%|██████████| 9/9 [00:00<00:00, 361.71it/s, loss=7.24]\n"
          ]
        },
        {
          "name": "stdout",
          "output_type": "stream",
          "text": [
            "Epoch [120/3000]: Train loss: 4.9204, Valid loss: 5.2285\n"
          ]
        },
        {
          "name": "stderr",
          "output_type": "stream",
          "text": [
            "Epoch [121/3000]: 100%|██████████| 9/9 [00:00<00:00, 431.59it/s, loss=4.94]\n"
          ]
        },
        {
          "name": "stdout",
          "output_type": "stream",
          "text": [
            "Epoch [121/3000]: Train loss: 4.9433, Valid loss: 4.4719\n"
          ]
        },
        {
          "name": "stderr",
          "output_type": "stream",
          "text": [
            "Epoch [122/3000]: 100%|██████████| 9/9 [00:00<00:00, 306.67it/s, loss=3.88]\n"
          ]
        },
        {
          "name": "stdout",
          "output_type": "stream",
          "text": [
            "Epoch [122/3000]: Train loss: 4.7909, Valid loss: 6.2839\n"
          ]
        },
        {
          "name": "stderr",
          "output_type": "stream",
          "text": [
            "Epoch [123/3000]: 100%|██████████| 9/9 [00:00<00:00, 141.39it/s, loss=4.86]\n"
          ]
        },
        {
          "name": "stdout",
          "output_type": "stream",
          "text": [
            "Epoch [123/3000]: Train loss: 6.3589, Valid loss: 9.8498\n"
          ]
        },
        {
          "name": "stderr",
          "output_type": "stream",
          "text": [
            "Epoch [124/3000]: 100%|██████████| 9/9 [00:00<00:00, 398.90it/s, loss=3.82]\n"
          ]
        },
        {
          "name": "stdout",
          "output_type": "stream",
          "text": [
            "Epoch [124/3000]: Train loss: 5.6717, Valid loss: 5.1074\n"
          ]
        },
        {
          "name": "stderr",
          "output_type": "stream",
          "text": [
            "Epoch [125/3000]: 100%|██████████| 9/9 [00:00<00:00, 435.60it/s, loss=4.97]\n"
          ]
        },
        {
          "name": "stdout",
          "output_type": "stream",
          "text": [
            "Epoch [125/3000]: Train loss: 4.9958, Valid loss: 6.4631\n"
          ]
        },
        {
          "name": "stderr",
          "output_type": "stream",
          "text": [
            "Epoch [126/3000]: 100%|██████████| 9/9 [00:00<00:00, 414.95it/s, loss=5.14]\n"
          ]
        },
        {
          "name": "stdout",
          "output_type": "stream",
          "text": [
            "Epoch [126/3000]: Train loss: 5.3277, Valid loss: 4.7226\n"
          ]
        },
        {
          "name": "stderr",
          "output_type": "stream",
          "text": [
            "Epoch [127/3000]: 100%|██████████| 9/9 [00:00<00:00, 383.29it/s, loss=6.16]\n"
          ]
        },
        {
          "name": "stdout",
          "output_type": "stream",
          "text": [
            "Epoch [127/3000]: Train loss: 4.9322, Valid loss: 3.7975\n",
            "Saving model with loss 3.797...\n"
          ]
        },
        {
          "name": "stderr",
          "output_type": "stream",
          "text": [
            "Epoch [128/3000]: 100%|██████████| 9/9 [00:00<00:00, 464.37it/s, loss=3.94]\n"
          ]
        },
        {
          "name": "stdout",
          "output_type": "stream",
          "text": [
            "Epoch [128/3000]: Train loss: 4.4539, Valid loss: 6.7953\n"
          ]
        },
        {
          "name": "stderr",
          "output_type": "stream",
          "text": [
            "Epoch [129/3000]: 100%|██████████| 9/9 [00:00<00:00, 413.09it/s, loss=3.63]\n"
          ]
        },
        {
          "name": "stdout",
          "output_type": "stream",
          "text": [
            "Epoch [129/3000]: Train loss: 5.3685, Valid loss: 4.4332\n"
          ]
        },
        {
          "name": "stderr",
          "output_type": "stream",
          "text": [
            "Epoch [130/3000]: 100%|██████████| 9/9 [00:00<00:00, 400.60it/s, loss=7.12]\n"
          ]
        },
        {
          "name": "stdout",
          "output_type": "stream",
          "text": [
            "Epoch [130/3000]: Train loss: 5.6881, Valid loss: 6.4811\n"
          ]
        },
        {
          "name": "stderr",
          "output_type": "stream",
          "text": [
            "Epoch [131/3000]: 100%|██████████| 9/9 [00:00<00:00, 398.48it/s, loss=6.59]\n"
          ]
        },
        {
          "name": "stdout",
          "output_type": "stream",
          "text": [
            "Epoch [131/3000]: Train loss: 6.0160, Valid loss: 4.2546\n"
          ]
        },
        {
          "name": "stderr",
          "output_type": "stream",
          "text": [
            "Epoch [132/3000]: 100%|██████████| 9/9 [00:00<00:00, 379.20it/s, loss=8.39]\n"
          ]
        },
        {
          "name": "stdout",
          "output_type": "stream",
          "text": [
            "Epoch [132/3000]: Train loss: 6.2331, Valid loss: 5.7154\n"
          ]
        },
        {
          "name": "stderr",
          "output_type": "stream",
          "text": [
            "Epoch [133/3000]: 100%|██████████| 9/9 [00:00<00:00, 434.22it/s, loss=5.72]\n"
          ]
        },
        {
          "name": "stdout",
          "output_type": "stream",
          "text": [
            "Epoch [133/3000]: Train loss: 5.8309, Valid loss: 4.1652\n"
          ]
        },
        {
          "name": "stderr",
          "output_type": "stream",
          "text": [
            "Epoch [134/3000]: 100%|██████████| 9/9 [00:00<00:00, 381.92it/s, loss=6.03]\n"
          ]
        },
        {
          "name": "stdout",
          "output_type": "stream",
          "text": [
            "Epoch [134/3000]: Train loss: 4.7484, Valid loss: 4.0498\n"
          ]
        },
        {
          "name": "stderr",
          "output_type": "stream",
          "text": [
            "Epoch [135/3000]: 100%|██████████| 9/9 [00:00<00:00, 157.22it/s, loss=5.17]\n"
          ]
        },
        {
          "name": "stdout",
          "output_type": "stream",
          "text": [
            "Epoch [135/3000]: Train loss: 4.5616, Valid loss: 4.8115\n"
          ]
        },
        {
          "name": "stderr",
          "output_type": "stream",
          "text": [
            "Epoch [136/3000]: 100%|██████████| 9/9 [00:00<00:00, 455.40it/s, loss=4.19]\n"
          ]
        },
        {
          "name": "stdout",
          "output_type": "stream",
          "text": [
            "Epoch [136/3000]: Train loss: 4.2238, Valid loss: 5.0474\n"
          ]
        },
        {
          "name": "stderr",
          "output_type": "stream",
          "text": [
            "Epoch [137/3000]: 100%|██████████| 9/9 [00:00<00:00, 343.47it/s, loss=3.56]\n"
          ]
        },
        {
          "name": "stdout",
          "output_type": "stream",
          "text": [
            "Epoch [137/3000]: Train loss: 4.0515, Valid loss: 3.9604\n"
          ]
        },
        {
          "name": "stderr",
          "output_type": "stream",
          "text": [
            "Epoch [138/3000]: 100%|██████████| 9/9 [00:00<00:00, 328.55it/s, loss=4.29]\n"
          ]
        },
        {
          "name": "stdout",
          "output_type": "stream",
          "text": [
            "Epoch [138/3000]: Train loss: 4.3059, Valid loss: 4.0849\n"
          ]
        },
        {
          "name": "stderr",
          "output_type": "stream",
          "text": [
            "Epoch [139/3000]: 100%|██████████| 9/9 [00:00<00:00, 307.54it/s, loss=5.76]\n"
          ]
        },
        {
          "name": "stdout",
          "output_type": "stream",
          "text": [
            "Epoch [139/3000]: Train loss: 4.2970, Valid loss: 4.2067\n"
          ]
        },
        {
          "name": "stderr",
          "output_type": "stream",
          "text": [
            "Epoch [140/3000]: 100%|██████████| 9/9 [00:00<00:00, 447.22it/s, loss=4.63]\n"
          ]
        },
        {
          "name": "stdout",
          "output_type": "stream",
          "text": [
            "Epoch [140/3000]: Train loss: 4.7071, Valid loss: 4.2265\n"
          ]
        },
        {
          "name": "stderr",
          "output_type": "stream",
          "text": [
            "Epoch [141/3000]: 100%|██████████| 9/9 [00:00<00:00, 329.99it/s, loss=3.78]\n"
          ]
        },
        {
          "name": "stdout",
          "output_type": "stream",
          "text": [
            "Epoch [141/3000]: Train loss: 4.1949, Valid loss: 3.8578\n"
          ]
        },
        {
          "name": "stderr",
          "output_type": "stream",
          "text": [
            "Epoch [142/3000]: 100%|██████████| 9/9 [00:00<00:00, 374.11it/s, loss=4.34]\n"
          ]
        },
        {
          "name": "stdout",
          "output_type": "stream",
          "text": [
            "Epoch [142/3000]: Train loss: 4.3269, Valid loss: 4.4981\n"
          ]
        },
        {
          "name": "stderr",
          "output_type": "stream",
          "text": [
            "Epoch [143/3000]: 100%|██████████| 9/9 [00:00<00:00, 390.25it/s, loss=4.04]\n"
          ]
        },
        {
          "name": "stdout",
          "output_type": "stream",
          "text": [
            "Epoch [143/3000]: Train loss: 4.5309, Valid loss: 4.6977\n"
          ]
        },
        {
          "name": "stderr",
          "output_type": "stream",
          "text": [
            "Epoch [144/3000]: 100%|██████████| 9/9 [00:00<00:00, 367.78it/s, loss=7.86]\n"
          ]
        },
        {
          "name": "stdout",
          "output_type": "stream",
          "text": [
            "Epoch [144/3000]: Train loss: 4.7828, Valid loss: 4.9942\n"
          ]
        },
        {
          "name": "stderr",
          "output_type": "stream",
          "text": [
            "Epoch [145/3000]: 100%|██████████| 9/9 [00:00<00:00, 441.05it/s, loss=4.51]\n"
          ]
        },
        {
          "name": "stdout",
          "output_type": "stream",
          "text": [
            "Epoch [145/3000]: Train loss: 4.8005, Valid loss: 5.4544\n"
          ]
        },
        {
          "name": "stderr",
          "output_type": "stream",
          "text": [
            "Epoch [146/3000]: 100%|██████████| 9/9 [00:00<00:00, 355.01it/s, loss=5.46]\n"
          ]
        },
        {
          "name": "stdout",
          "output_type": "stream",
          "text": [
            "Epoch [146/3000]: Train loss: 4.5310, Valid loss: 6.0369\n"
          ]
        },
        {
          "name": "stderr",
          "output_type": "stream",
          "text": [
            "Epoch [147/3000]: 100%|██████████| 9/9 [00:00<00:00, 357.08it/s, loss=5]\n"
          ]
        },
        {
          "name": "stdout",
          "output_type": "stream",
          "text": [
            "Epoch [147/3000]: Train loss: 4.9055, Valid loss: 4.7368\n"
          ]
        },
        {
          "name": "stderr",
          "output_type": "stream",
          "text": [
            "Epoch [148/3000]: 100%|██████████| 9/9 [00:00<00:00, 247.61it/s, loss=6.22]\n"
          ]
        },
        {
          "name": "stdout",
          "output_type": "stream",
          "text": [
            "Epoch [148/3000]: Train loss: 5.5611, Valid loss: 4.9559\n"
          ]
        },
        {
          "name": "stderr",
          "output_type": "stream",
          "text": [
            "Epoch [149/3000]: 100%|██████████| 9/9 [00:00<00:00, 336.42it/s, loss=6.01]\n"
          ]
        },
        {
          "name": "stdout",
          "output_type": "stream",
          "text": [
            "Epoch [149/3000]: Train loss: 4.9125, Valid loss: 4.2588\n"
          ]
        },
        {
          "name": "stderr",
          "output_type": "stream",
          "text": [
            "Epoch [150/3000]: 100%|██████████| 9/9 [00:00<00:00, 311.62it/s, loss=4.63]\n"
          ]
        },
        {
          "name": "stdout",
          "output_type": "stream",
          "text": [
            "Epoch [150/3000]: Train loss: 4.2875, Valid loss: 4.3179\n"
          ]
        },
        {
          "name": "stderr",
          "output_type": "stream",
          "text": [
            "Epoch [151/3000]: 100%|██████████| 9/9 [00:00<00:00, 392.41it/s, loss=3.82]\n"
          ]
        },
        {
          "name": "stdout",
          "output_type": "stream",
          "text": [
            "Epoch [151/3000]: Train loss: 4.0901, Valid loss: 3.8650\n"
          ]
        },
        {
          "name": "stderr",
          "output_type": "stream",
          "text": [
            "Epoch [152/3000]: 100%|██████████| 9/9 [00:00<00:00, 390.30it/s, loss=3.76]\n"
          ]
        },
        {
          "name": "stdout",
          "output_type": "stream",
          "text": [
            "Epoch [152/3000]: Train loss: 4.4046, Valid loss: 4.4598\n"
          ]
        },
        {
          "name": "stderr",
          "output_type": "stream",
          "text": [
            "Epoch [153/3000]: 100%|██████████| 9/9 [00:00<00:00, 380.74it/s, loss=4.44]\n"
          ]
        },
        {
          "name": "stdout",
          "output_type": "stream",
          "text": [
            "Epoch [153/3000]: Train loss: 4.2091, Valid loss: 3.9076\n"
          ]
        },
        {
          "name": "stderr",
          "output_type": "stream",
          "text": [
            "Epoch [154/3000]: 100%|██████████| 9/9 [00:00<00:00, 394.66it/s, loss=4.81]\n"
          ]
        },
        {
          "name": "stdout",
          "output_type": "stream",
          "text": [
            "Epoch [154/3000]: Train loss: 4.2889, Valid loss: 4.7805\n"
          ]
        },
        {
          "name": "stderr",
          "output_type": "stream",
          "text": [
            "Epoch [155/3000]: 100%|██████████| 9/9 [00:00<00:00, 387.03it/s, loss=5.5]\n"
          ]
        },
        {
          "name": "stdout",
          "output_type": "stream",
          "text": [
            "Epoch [155/3000]: Train loss: 4.3712, Valid loss: 3.7117\n",
            "Saving model with loss 3.712...\n"
          ]
        },
        {
          "name": "stderr",
          "output_type": "stream",
          "text": [
            "Epoch [156/3000]: 100%|██████████| 9/9 [00:00<00:00, 372.86it/s, loss=4.56]\n"
          ]
        },
        {
          "name": "stdout",
          "output_type": "stream",
          "text": [
            "Epoch [156/3000]: Train loss: 4.9526, Valid loss: 3.6640\n",
            "Saving model with loss 3.664...\n"
          ]
        },
        {
          "name": "stderr",
          "output_type": "stream",
          "text": [
            "Epoch [157/3000]: 100%|██████████| 9/9 [00:00<00:00, 396.30it/s, loss=3.31]\n"
          ]
        },
        {
          "name": "stdout",
          "output_type": "stream",
          "text": [
            "Epoch [157/3000]: Train loss: 4.2017, Valid loss: 3.9288\n"
          ]
        },
        {
          "name": "stderr",
          "output_type": "stream",
          "text": [
            "Epoch [158/3000]: 100%|██████████| 9/9 [00:00<00:00, 412.03it/s, loss=4.45]\n"
          ]
        },
        {
          "name": "stdout",
          "output_type": "stream",
          "text": [
            "Epoch [158/3000]: Train loss: 4.2551, Valid loss: 4.2741\n"
          ]
        },
        {
          "name": "stderr",
          "output_type": "stream",
          "text": [
            "Epoch [159/3000]: 100%|██████████| 9/9 [00:00<00:00, 160.40it/s, loss=2.91]\n"
          ]
        },
        {
          "name": "stdout",
          "output_type": "stream",
          "text": [
            "Epoch [159/3000]: Train loss: 4.1802, Valid loss: 4.5745\n"
          ]
        },
        {
          "name": "stderr",
          "output_type": "stream",
          "text": [
            "Epoch [160/3000]: 100%|██████████| 9/9 [00:00<00:00, 293.59it/s, loss=3.05]\n"
          ]
        },
        {
          "name": "stdout",
          "output_type": "stream",
          "text": [
            "Epoch [160/3000]: Train loss: 4.4805, Valid loss: 4.6052\n"
          ]
        },
        {
          "name": "stderr",
          "output_type": "stream",
          "text": [
            "Epoch [161/3000]: 100%|██████████| 9/9 [00:00<00:00, 181.00it/s, loss=3.14]\n"
          ]
        },
        {
          "name": "stdout",
          "output_type": "stream",
          "text": [
            "Epoch [161/3000]: Train loss: 4.2351, Valid loss: 6.2451\n"
          ]
        },
        {
          "name": "stderr",
          "output_type": "stream",
          "text": [
            "Epoch [162/3000]: 100%|██████████| 9/9 [00:00<00:00, 278.27it/s, loss=4.21]\n"
          ]
        },
        {
          "name": "stdout",
          "output_type": "stream",
          "text": [
            "Epoch [162/3000]: Train loss: 4.6852, Valid loss: 3.5826\n",
            "Saving model with loss 3.583...\n"
          ]
        },
        {
          "name": "stderr",
          "output_type": "stream",
          "text": [
            "Epoch [163/3000]: 100%|██████████| 9/9 [00:00<00:00, 341.44it/s, loss=5.43]\n"
          ]
        },
        {
          "name": "stdout",
          "output_type": "stream",
          "text": [
            "Epoch [163/3000]: Train loss: 4.5194, Valid loss: 3.9790\n"
          ]
        },
        {
          "name": "stderr",
          "output_type": "stream",
          "text": [
            "Epoch [164/3000]: 100%|██████████| 9/9 [00:00<00:00, 391.75it/s, loss=3.39]\n"
          ]
        },
        {
          "name": "stdout",
          "output_type": "stream",
          "text": [
            "Epoch [164/3000]: Train loss: 3.8687, Valid loss: 3.6378\n"
          ]
        },
        {
          "name": "stderr",
          "output_type": "stream",
          "text": [
            "Epoch [165/3000]: 100%|██████████| 9/9 [00:00<00:00, 397.33it/s, loss=2.98]\n"
          ]
        },
        {
          "name": "stdout",
          "output_type": "stream",
          "text": [
            "Epoch [165/3000]: Train loss: 5.0262, Valid loss: 8.8613\n"
          ]
        },
        {
          "name": "stderr",
          "output_type": "stream",
          "text": [
            "Epoch [166/3000]: 100%|██████████| 9/9 [00:00<00:00, 232.74it/s, loss=5.71]\n"
          ]
        },
        {
          "name": "stdout",
          "output_type": "stream",
          "text": [
            "Epoch [166/3000]: Train loss: 5.2211, Valid loss: 3.9276\n"
          ]
        },
        {
          "name": "stderr",
          "output_type": "stream",
          "text": [
            "Epoch [167/3000]: 100%|██████████| 9/9 [00:00<00:00, 303.48it/s, loss=6.76]\n"
          ]
        },
        {
          "name": "stdout",
          "output_type": "stream",
          "text": [
            "Epoch [167/3000]: Train loss: 4.9678, Valid loss: 5.5629\n"
          ]
        },
        {
          "name": "stderr",
          "output_type": "stream",
          "text": [
            "Epoch [168/3000]: 100%|██████████| 9/9 [00:00<00:00, 388.35it/s, loss=3.82]\n"
          ]
        },
        {
          "name": "stdout",
          "output_type": "stream",
          "text": [
            "Epoch [168/3000]: Train loss: 4.9979, Valid loss: 3.8097\n"
          ]
        },
        {
          "name": "stderr",
          "output_type": "stream",
          "text": [
            "Epoch [169/3000]: 100%|██████████| 9/9 [00:00<00:00, 355.97it/s, loss=3.51]\n"
          ]
        },
        {
          "name": "stdout",
          "output_type": "stream",
          "text": [
            "Epoch [169/3000]: Train loss: 4.0377, Valid loss: 3.1557\n",
            "Saving model with loss 3.156...\n"
          ]
        },
        {
          "name": "stderr",
          "output_type": "stream",
          "text": [
            "Epoch [170/3000]: 100%|██████████| 9/9 [00:00<00:00, 401.12it/s, loss=3.59]\n"
          ]
        },
        {
          "name": "stdout",
          "output_type": "stream",
          "text": [
            "Epoch [170/3000]: Train loss: 4.2202, Valid loss: 4.0523\n"
          ]
        },
        {
          "name": "stderr",
          "output_type": "stream",
          "text": [
            "Epoch [171/3000]: 100%|██████████| 9/9 [00:00<00:00, 162.92it/s, loss=4.06]\n"
          ]
        },
        {
          "name": "stdout",
          "output_type": "stream",
          "text": [
            "Epoch [171/3000]: Train loss: 3.8829, Valid loss: 4.7483\n"
          ]
        },
        {
          "name": "stderr",
          "output_type": "stream",
          "text": [
            "Epoch [172/3000]: 100%|██████████| 9/9 [00:00<00:00, 316.18it/s, loss=3.94]\n"
          ]
        },
        {
          "name": "stdout",
          "output_type": "stream",
          "text": [
            "Epoch [172/3000]: Train loss: 3.8538, Valid loss: 4.9541\n"
          ]
        },
        {
          "name": "stderr",
          "output_type": "stream",
          "text": [
            "Epoch [173/3000]: 100%|██████████| 9/9 [00:00<00:00, 313.92it/s, loss=3.44]\n"
          ]
        },
        {
          "name": "stdout",
          "output_type": "stream",
          "text": [
            "Epoch [173/3000]: Train loss: 3.7661, Valid loss: 3.9672\n"
          ]
        },
        {
          "name": "stderr",
          "output_type": "stream",
          "text": [
            "Epoch [174/3000]: 100%|██████████| 9/9 [00:00<00:00, 399.86it/s, loss=4.5]\n"
          ]
        },
        {
          "name": "stdout",
          "output_type": "stream",
          "text": [
            "Epoch [174/3000]: Train loss: 4.0267, Valid loss: 3.7558\n"
          ]
        },
        {
          "name": "stderr",
          "output_type": "stream",
          "text": [
            "Epoch [175/3000]: 100%|██████████| 9/9 [00:00<00:00, 342.83it/s, loss=2.99]\n"
          ]
        },
        {
          "name": "stdout",
          "output_type": "stream",
          "text": [
            "Epoch [175/3000]: Train loss: 4.0622, Valid loss: 3.5789\n"
          ]
        },
        {
          "name": "stderr",
          "output_type": "stream",
          "text": [
            "Epoch [176/3000]: 100%|██████████| 9/9 [00:00<00:00, 345.16it/s, loss=3.01]\n"
          ]
        },
        {
          "name": "stdout",
          "output_type": "stream",
          "text": [
            "Epoch [176/3000]: Train loss: 3.7858, Valid loss: 3.6940\n"
          ]
        },
        {
          "name": "stderr",
          "output_type": "stream",
          "text": [
            "Epoch [177/3000]: 100%|██████████| 9/9 [00:00<00:00, 375.25it/s, loss=5.44]\n"
          ]
        },
        {
          "name": "stdout",
          "output_type": "stream",
          "text": [
            "Epoch [177/3000]: Train loss: 3.8489, Valid loss: 4.5529\n"
          ]
        },
        {
          "name": "stderr",
          "output_type": "stream",
          "text": [
            "Epoch [178/3000]: 100%|██████████| 9/9 [00:00<00:00, 114.08it/s, loss=3.75]\n"
          ]
        },
        {
          "name": "stdout",
          "output_type": "stream",
          "text": [
            "Epoch [178/3000]: Train loss: 3.8209, Valid loss: 3.7090\n"
          ]
        },
        {
          "name": "stderr",
          "output_type": "stream",
          "text": [
            "Epoch [179/3000]: 100%|██████████| 9/9 [00:00<00:00, 386.13it/s, loss=4.32]\n"
          ]
        },
        {
          "name": "stdout",
          "output_type": "stream",
          "text": [
            "Epoch [179/3000]: Train loss: 4.1656, Valid loss: 4.1743\n"
          ]
        },
        {
          "name": "stderr",
          "output_type": "stream",
          "text": [
            "Epoch [180/3000]: 100%|██████████| 9/9 [00:00<00:00, 313.54it/s, loss=4.07]\n"
          ]
        },
        {
          "name": "stdout",
          "output_type": "stream",
          "text": [
            "Epoch [180/3000]: Train loss: 4.0334, Valid loss: 6.0385\n"
          ]
        },
        {
          "name": "stderr",
          "output_type": "stream",
          "text": [
            "Epoch [181/3000]: 100%|██████████| 9/9 [00:00<00:00, 335.88it/s, loss=5.68]\n"
          ]
        },
        {
          "name": "stdout",
          "output_type": "stream",
          "text": [
            "Epoch [181/3000]: Train loss: 5.6092, Valid loss: 4.1237\n"
          ]
        },
        {
          "name": "stderr",
          "output_type": "stream",
          "text": [
            "Epoch [182/3000]: 100%|██████████| 9/9 [00:00<00:00, 402.49it/s, loss=6.58]\n"
          ]
        },
        {
          "name": "stdout",
          "output_type": "stream",
          "text": [
            "Epoch [182/3000]: Train loss: 5.3679, Valid loss: 4.2512\n"
          ]
        },
        {
          "name": "stderr",
          "output_type": "stream",
          "text": [
            "Epoch [183/3000]: 100%|██████████| 9/9 [00:00<00:00, 203.65it/s, loss=2.96]\n"
          ]
        },
        {
          "name": "stdout",
          "output_type": "stream",
          "text": [
            "Epoch [183/3000]: Train loss: 4.2936, Valid loss: 5.5375\n"
          ]
        },
        {
          "name": "stderr",
          "output_type": "stream",
          "text": [
            "Epoch [184/3000]: 100%|██████████| 9/9 [00:00<00:00, 346.25it/s, loss=3.35]\n"
          ]
        },
        {
          "name": "stdout",
          "output_type": "stream",
          "text": [
            "Epoch [184/3000]: Train loss: 3.7873, Valid loss: 4.2970\n"
          ]
        },
        {
          "name": "stderr",
          "output_type": "stream",
          "text": [
            "Epoch [185/3000]: 100%|██████████| 9/9 [00:00<00:00, 353.93it/s, loss=4.03]\n"
          ]
        },
        {
          "name": "stdout",
          "output_type": "stream",
          "text": [
            "Epoch [185/3000]: Train loss: 3.9236, Valid loss: 4.1053\n"
          ]
        },
        {
          "name": "stderr",
          "output_type": "stream",
          "text": [
            "Epoch [186/3000]: 100%|██████████| 9/9 [00:00<00:00, 353.44it/s, loss=2.99]\n"
          ]
        },
        {
          "name": "stdout",
          "output_type": "stream",
          "text": [
            "Epoch [186/3000]: Train loss: 4.0440, Valid loss: 4.1978\n"
          ]
        },
        {
          "name": "stderr",
          "output_type": "stream",
          "text": [
            "Epoch [187/3000]: 100%|██████████| 9/9 [00:00<00:00, 384.55it/s, loss=3.94]\n"
          ]
        },
        {
          "name": "stdout",
          "output_type": "stream",
          "text": [
            "Epoch [187/3000]: Train loss: 3.6486, Valid loss: 3.6507\n"
          ]
        },
        {
          "name": "stderr",
          "output_type": "stream",
          "text": [
            "Epoch [188/3000]: 100%|██████████| 9/9 [00:00<00:00, 377.61it/s, loss=3.79]\n"
          ]
        },
        {
          "name": "stdout",
          "output_type": "stream",
          "text": [
            "Epoch [188/3000]: Train loss: 3.5714, Valid loss: 3.8082\n"
          ]
        },
        {
          "name": "stderr",
          "output_type": "stream",
          "text": [
            "Epoch [189/3000]: 100%|██████████| 9/9 [00:00<00:00, 440.55it/s, loss=3.82]\n"
          ]
        },
        {
          "name": "stdout",
          "output_type": "stream",
          "text": [
            "Epoch [189/3000]: Train loss: 3.7991, Valid loss: 3.3181\n"
          ]
        },
        {
          "name": "stderr",
          "output_type": "stream",
          "text": [
            "Epoch [190/3000]: 100%|██████████| 9/9 [00:00<00:00, 322.63it/s, loss=3.09]\n"
          ]
        },
        {
          "name": "stdout",
          "output_type": "stream",
          "text": [
            "Epoch [190/3000]: Train loss: 3.6016, Valid loss: 4.0649\n"
          ]
        },
        {
          "name": "stderr",
          "output_type": "stream",
          "text": [
            "Epoch [191/3000]: 100%|██████████| 9/9 [00:00<00:00, 360.12it/s, loss=4.52]\n"
          ]
        },
        {
          "name": "stdout",
          "output_type": "stream",
          "text": [
            "Epoch [191/3000]: Train loss: 3.7596, Valid loss: 3.3389\n"
          ]
        },
        {
          "name": "stderr",
          "output_type": "stream",
          "text": [
            "Epoch [192/3000]: 100%|██████████| 9/9 [00:00<00:00, 380.54it/s, loss=3.76]\n"
          ]
        },
        {
          "name": "stdout",
          "output_type": "stream",
          "text": [
            "Epoch [192/3000]: Train loss: 4.1997, Valid loss: 4.7704\n"
          ]
        },
        {
          "name": "stderr",
          "output_type": "stream",
          "text": [
            "Epoch [193/3000]: 100%|██████████| 9/9 [00:00<00:00, 383.63it/s, loss=3.27]\n"
          ]
        },
        {
          "name": "stdout",
          "output_type": "stream",
          "text": [
            "Epoch [193/3000]: Train loss: 4.2913, Valid loss: 6.1185\n"
          ]
        },
        {
          "name": "stderr",
          "output_type": "stream",
          "text": [
            "Epoch [194/3000]: 100%|██████████| 9/9 [00:00<00:00, 379.94it/s, loss=7.75]\n"
          ]
        },
        {
          "name": "stdout",
          "output_type": "stream",
          "text": [
            "Epoch [194/3000]: Train loss: 4.6436, Valid loss: 5.1219\n"
          ]
        },
        {
          "name": "stderr",
          "output_type": "stream",
          "text": [
            "Epoch [195/3000]: 100%|██████████| 9/9 [00:00<00:00, 135.24it/s, loss=4.98]\n"
          ]
        },
        {
          "name": "stdout",
          "output_type": "stream",
          "text": [
            "Epoch [195/3000]: Train loss: 4.3010, Valid loss: 3.2174\n"
          ]
        },
        {
          "name": "stderr",
          "output_type": "stream",
          "text": [
            "Epoch [196/3000]: 100%|██████████| 9/9 [00:00<00:00, 335.42it/s, loss=3.84]\n"
          ]
        },
        {
          "name": "stdout",
          "output_type": "stream",
          "text": [
            "Epoch [196/3000]: Train loss: 3.9515, Valid loss: 3.6851\n"
          ]
        },
        {
          "name": "stderr",
          "output_type": "stream",
          "text": [
            "Epoch [197/3000]: 100%|██████████| 9/9 [00:00<00:00, 340.66it/s, loss=3.09]\n"
          ]
        },
        {
          "name": "stdout",
          "output_type": "stream",
          "text": [
            "Epoch [197/3000]: Train loss: 3.6350, Valid loss: 3.4187\n"
          ]
        },
        {
          "name": "stderr",
          "output_type": "stream",
          "text": [
            "Epoch [198/3000]: 100%|██████████| 9/9 [00:00<00:00, 295.26it/s, loss=3.76]\n"
          ]
        },
        {
          "name": "stdout",
          "output_type": "stream",
          "text": [
            "Epoch [198/3000]: Train loss: 3.7116, Valid loss: 5.0958\n"
          ]
        },
        {
          "name": "stderr",
          "output_type": "stream",
          "text": [
            "Epoch [199/3000]: 100%|██████████| 9/9 [00:00<00:00, 304.69it/s, loss=4.25]\n"
          ]
        },
        {
          "name": "stdout",
          "output_type": "stream",
          "text": [
            "Epoch [199/3000]: Train loss: 4.6386, Valid loss: 6.4443\n"
          ]
        },
        {
          "name": "stderr",
          "output_type": "stream",
          "text": [
            "Epoch [200/3000]: 100%|██████████| 9/9 [00:00<00:00, 399.93it/s, loss=3.28]\n"
          ]
        },
        {
          "name": "stdout",
          "output_type": "stream",
          "text": [
            "Epoch [200/3000]: Train loss: 4.7629, Valid loss: 3.3833\n"
          ]
        },
        {
          "name": "stderr",
          "output_type": "stream",
          "text": [
            "Epoch [201/3000]: 100%|██████████| 9/9 [00:00<00:00, 347.90it/s, loss=3.01]\n"
          ]
        },
        {
          "name": "stdout",
          "output_type": "stream",
          "text": [
            "Epoch [201/3000]: Train loss: 4.0878, Valid loss: 4.5337\n"
          ]
        },
        {
          "name": "stderr",
          "output_type": "stream",
          "text": [
            "Epoch [202/3000]: 100%|██████████| 9/9 [00:00<00:00, 347.56it/s, loss=5.1]\n"
          ]
        },
        {
          "name": "stdout",
          "output_type": "stream",
          "text": [
            "Epoch [202/3000]: Train loss: 4.1446, Valid loss: 3.8449\n"
          ]
        },
        {
          "name": "stderr",
          "output_type": "stream",
          "text": [
            "Epoch [203/3000]: 100%|██████████| 9/9 [00:00<00:00, 389.66it/s, loss=4.56]\n"
          ]
        },
        {
          "name": "stdout",
          "output_type": "stream",
          "text": [
            "Epoch [203/3000]: Train loss: 4.0613, Valid loss: 9.2935\n"
          ]
        },
        {
          "name": "stderr",
          "output_type": "stream",
          "text": [
            "Epoch [204/3000]: 100%|██████████| 9/9 [00:00<00:00, 346.49it/s, loss=4.42]\n"
          ]
        },
        {
          "name": "stdout",
          "output_type": "stream",
          "text": [
            "Epoch [204/3000]: Train loss: 7.5619, Valid loss: 5.4520\n"
          ]
        },
        {
          "name": "stderr",
          "output_type": "stream",
          "text": [
            "Epoch [205/3000]: 100%|██████████| 9/9 [00:00<00:00, 347.53it/s, loss=6.03]\n"
          ]
        },
        {
          "name": "stdout",
          "output_type": "stream",
          "text": [
            "Epoch [205/3000]: Train loss: 5.1900, Valid loss: 4.6412\n"
          ]
        },
        {
          "name": "stderr",
          "output_type": "stream",
          "text": [
            "Epoch [206/3000]: 100%|██████████| 9/9 [00:00<00:00, 139.73it/s, loss=3.08]\n"
          ]
        },
        {
          "name": "stdout",
          "output_type": "stream",
          "text": [
            "Epoch [206/3000]: Train loss: 5.6101, Valid loss: 5.8247\n"
          ]
        },
        {
          "name": "stderr",
          "output_type": "stream",
          "text": [
            "Epoch [207/3000]: 100%|██████████| 9/9 [00:00<00:00, 238.73it/s, loss=4.42]\n"
          ]
        },
        {
          "name": "stdout",
          "output_type": "stream",
          "text": [
            "Epoch [207/3000]: Train loss: 6.3405, Valid loss: 6.8288\n"
          ]
        },
        {
          "name": "stderr",
          "output_type": "stream",
          "text": [
            "Epoch [208/3000]: 100%|██████████| 9/9 [00:00<00:00, 370.13it/s, loss=3.36]\n"
          ]
        },
        {
          "name": "stdout",
          "output_type": "stream",
          "text": [
            "Epoch [208/3000]: Train loss: 5.2632, Valid loss: 6.9644\n"
          ]
        },
        {
          "name": "stderr",
          "output_type": "stream",
          "text": [
            "Epoch [209/3000]: 100%|██████████| 9/9 [00:00<00:00, 369.25it/s, loss=5.53]\n"
          ]
        },
        {
          "name": "stdout",
          "output_type": "stream",
          "text": [
            "Epoch [209/3000]: Train loss: 5.1958, Valid loss: 11.1371\n"
          ]
        },
        {
          "name": "stderr",
          "output_type": "stream",
          "text": [
            "Epoch [210/3000]: 100%|██████████| 9/9 [00:00<00:00, 318.61it/s, loss=2.85]\n"
          ]
        },
        {
          "name": "stdout",
          "output_type": "stream",
          "text": [
            "Epoch [210/3000]: Train loss: 5.1838, Valid loss: 7.1408\n"
          ]
        },
        {
          "name": "stderr",
          "output_type": "stream",
          "text": [
            "Epoch [211/3000]: 100%|██████████| 9/9 [00:00<00:00, 337.87it/s, loss=3.57]\n"
          ]
        },
        {
          "name": "stdout",
          "output_type": "stream",
          "text": [
            "Epoch [211/3000]: Train loss: 4.1279, Valid loss: 3.7145\n"
          ]
        },
        {
          "name": "stderr",
          "output_type": "stream",
          "text": [
            "Epoch [212/3000]: 100%|██████████| 9/9 [00:00<00:00, 305.83it/s, loss=3.17]\n"
          ]
        },
        {
          "name": "stdout",
          "output_type": "stream",
          "text": [
            "Epoch [212/3000]: Train loss: 3.4804, Valid loss: 3.9976\n"
          ]
        },
        {
          "name": "stderr",
          "output_type": "stream",
          "text": [
            "Epoch [213/3000]: 100%|██████████| 9/9 [00:00<00:00, 343.42it/s, loss=3.8]\n"
          ]
        },
        {
          "name": "stdout",
          "output_type": "stream",
          "text": [
            "Epoch [213/3000]: Train loss: 3.5073, Valid loss: 3.6561\n"
          ]
        },
        {
          "name": "stderr",
          "output_type": "stream",
          "text": [
            "Epoch [214/3000]: 100%|██████████| 9/9 [00:00<00:00, 370.08it/s, loss=3.06]\n"
          ]
        },
        {
          "name": "stdout",
          "output_type": "stream",
          "text": [
            "Epoch [214/3000]: Train loss: 3.3700, Valid loss: 4.3107\n"
          ]
        },
        {
          "name": "stderr",
          "output_type": "stream",
          "text": [
            "Epoch [215/3000]: 100%|██████████| 9/9 [00:00<00:00, 417.27it/s, loss=5.22]\n"
          ]
        },
        {
          "name": "stdout",
          "output_type": "stream",
          "text": [
            "Epoch [215/3000]: Train loss: 3.7769, Valid loss: 5.4384\n"
          ]
        },
        {
          "name": "stderr",
          "output_type": "stream",
          "text": [
            "Epoch [216/3000]: 100%|██████████| 9/9 [00:00<00:00, 375.59it/s, loss=3.92]\n"
          ]
        },
        {
          "name": "stdout",
          "output_type": "stream",
          "text": [
            "Epoch [216/3000]: Train loss: 3.9303, Valid loss: 4.8031\n"
          ]
        },
        {
          "name": "stderr",
          "output_type": "stream",
          "text": [
            "Epoch [217/3000]: 100%|██████████| 9/9 [00:00<00:00, 411.77it/s, loss=4.47]\n"
          ]
        },
        {
          "name": "stdout",
          "output_type": "stream",
          "text": [
            "Epoch [217/3000]: Train loss: 3.9178, Valid loss: 3.9782\n"
          ]
        },
        {
          "name": "stderr",
          "output_type": "stream",
          "text": [
            "Epoch [218/3000]: 100%|██████████| 9/9 [00:00<00:00, 151.31it/s, loss=5.39]\n"
          ]
        },
        {
          "name": "stdout",
          "output_type": "stream",
          "text": [
            "Epoch [218/3000]: Train loss: 4.4988, Valid loss: 4.2149\n"
          ]
        },
        {
          "name": "stderr",
          "output_type": "stream",
          "text": [
            "Epoch [219/3000]: 100%|██████████| 9/9 [00:00<00:00, 327.62it/s, loss=5.76]\n"
          ]
        },
        {
          "name": "stdout",
          "output_type": "stream",
          "text": [
            "Epoch [219/3000]: Train loss: 5.0738, Valid loss: 3.6942\n"
          ]
        },
        {
          "name": "stderr",
          "output_type": "stream",
          "text": [
            "Epoch [220/3000]: 100%|██████████| 9/9 [00:00<00:00, 325.11it/s, loss=5.39]\n"
          ]
        },
        {
          "name": "stdout",
          "output_type": "stream",
          "text": [
            "Epoch [220/3000]: Train loss: 4.6462, Valid loss: 6.8474\n"
          ]
        },
        {
          "name": "stderr",
          "output_type": "stream",
          "text": [
            "Epoch [221/3000]: 100%|██████████| 9/9 [00:00<00:00, 361.96it/s, loss=3.41]\n"
          ]
        },
        {
          "name": "stdout",
          "output_type": "stream",
          "text": [
            "Epoch [221/3000]: Train loss: 4.6057, Valid loss: 4.2419\n"
          ]
        },
        {
          "name": "stderr",
          "output_type": "stream",
          "text": [
            "Epoch [222/3000]: 100%|██████████| 9/9 [00:00<00:00, 452.85it/s, loss=2.14]\n"
          ]
        },
        {
          "name": "stdout",
          "output_type": "stream",
          "text": [
            "Epoch [222/3000]: Train loss: 3.9077, Valid loss: 3.5499\n"
          ]
        },
        {
          "name": "stderr",
          "output_type": "stream",
          "text": [
            "Epoch [223/3000]: 100%|██████████| 9/9 [00:00<00:00, 327.31it/s, loss=4.53]\n"
          ]
        },
        {
          "name": "stdout",
          "output_type": "stream",
          "text": [
            "Epoch [223/3000]: Train loss: 4.0482, Valid loss: 3.8235\n"
          ]
        },
        {
          "name": "stderr",
          "output_type": "stream",
          "text": [
            "Epoch [224/3000]: 100%|██████████| 9/9 [00:00<00:00, 280.90it/s, loss=3.87]\n"
          ]
        },
        {
          "name": "stdout",
          "output_type": "stream",
          "text": [
            "Epoch [224/3000]: Train loss: 4.4176, Valid loss: 3.6541\n"
          ]
        },
        {
          "name": "stderr",
          "output_type": "stream",
          "text": [
            "Epoch [225/3000]: 100%|██████████| 9/9 [00:00<00:00, 351.84it/s, loss=5.67]\n"
          ]
        },
        {
          "name": "stdout",
          "output_type": "stream",
          "text": [
            "Epoch [225/3000]: Train loss: 4.2660, Valid loss: 3.4727\n"
          ]
        },
        {
          "name": "stderr",
          "output_type": "stream",
          "text": [
            "Epoch [226/3000]: 100%|██████████| 9/9 [00:00<00:00, 323.86it/s, loss=8.07]\n"
          ]
        },
        {
          "name": "stdout",
          "output_type": "stream",
          "text": [
            "Epoch [226/3000]: Train loss: 5.6804, Valid loss: 3.4494\n"
          ]
        },
        {
          "name": "stderr",
          "output_type": "stream",
          "text": [
            "Epoch [227/3000]: 100%|██████████| 9/9 [00:00<00:00, 312.85it/s, loss=4.14]\n"
          ]
        },
        {
          "name": "stdout",
          "output_type": "stream",
          "text": [
            "Epoch [227/3000]: Train loss: 4.5073, Valid loss: 3.0683\n",
            "Saving model with loss 3.068...\n"
          ]
        },
        {
          "name": "stderr",
          "output_type": "stream",
          "text": [
            "Epoch [228/3000]: 100%|██████████| 9/9 [00:00<00:00, 389.78it/s, loss=3.21]\n"
          ]
        },
        {
          "name": "stdout",
          "output_type": "stream",
          "text": [
            "Epoch [228/3000]: Train loss: 4.3744, Valid loss: 4.0964\n"
          ]
        },
        {
          "name": "stderr",
          "output_type": "stream",
          "text": [
            "Epoch [229/3000]: 100%|██████████| 9/9 [00:00<00:00, 143.76it/s, loss=3.23]\n"
          ]
        },
        {
          "name": "stdout",
          "output_type": "stream",
          "text": [
            "Epoch [229/3000]: Train loss: 3.4148, Valid loss: 3.4093\n"
          ]
        },
        {
          "name": "stderr",
          "output_type": "stream",
          "text": [
            "Epoch [230/3000]: 100%|██████████| 9/9 [00:00<00:00, 321.24it/s, loss=5.11]\n"
          ]
        },
        {
          "name": "stdout",
          "output_type": "stream",
          "text": [
            "Epoch [230/3000]: Train loss: 4.5579, Valid loss: 4.1066\n"
          ]
        },
        {
          "name": "stderr",
          "output_type": "stream",
          "text": [
            "Epoch [231/3000]: 100%|██████████| 9/9 [00:00<00:00, 376.97it/s, loss=2.43]\n"
          ]
        },
        {
          "name": "stdout",
          "output_type": "stream",
          "text": [
            "Epoch [231/3000]: Train loss: 3.7559, Valid loss: 4.3531\n"
          ]
        },
        {
          "name": "stderr",
          "output_type": "stream",
          "text": [
            "Epoch [232/3000]: 100%|██████████| 9/9 [00:00<00:00, 304.74it/s, loss=4.07]\n"
          ]
        },
        {
          "name": "stdout",
          "output_type": "stream",
          "text": [
            "Epoch [232/3000]: Train loss: 3.9298, Valid loss: 3.7933\n"
          ]
        },
        {
          "name": "stderr",
          "output_type": "stream",
          "text": [
            "Epoch [233/3000]: 100%|██████████| 9/9 [00:00<00:00, 333.49it/s, loss=3.1]\n"
          ]
        },
        {
          "name": "stdout",
          "output_type": "stream",
          "text": [
            "Epoch [233/3000]: Train loss: 3.4569, Valid loss: 2.9833\n",
            "Saving model with loss 2.983...\n"
          ]
        },
        {
          "name": "stderr",
          "output_type": "stream",
          "text": [
            "Epoch [234/3000]: 100%|██████████| 9/9 [00:00<00:00, 316.54it/s, loss=5.47]\n"
          ]
        },
        {
          "name": "stdout",
          "output_type": "stream",
          "text": [
            "Epoch [234/3000]: Train loss: 3.4879, Valid loss: 3.6571\n"
          ]
        },
        {
          "name": "stderr",
          "output_type": "stream",
          "text": [
            "Epoch [235/3000]: 100%|██████████| 9/9 [00:00<00:00, 347.48it/s, loss=2.98]\n"
          ]
        },
        {
          "name": "stdout",
          "output_type": "stream",
          "text": [
            "Epoch [235/3000]: Train loss: 3.9456, Valid loss: 6.9461\n"
          ]
        },
        {
          "name": "stderr",
          "output_type": "stream",
          "text": [
            "Epoch [236/3000]: 100%|██████████| 9/9 [00:00<00:00, 322.89it/s, loss=3.99]\n"
          ]
        },
        {
          "name": "stdout",
          "output_type": "stream",
          "text": [
            "Epoch [236/3000]: Train loss: 3.7966, Valid loss: 2.9578\n",
            "Saving model with loss 2.958...\n"
          ]
        },
        {
          "name": "stderr",
          "output_type": "stream",
          "text": [
            "Epoch [237/3000]: 100%|██████████| 9/9 [00:00<00:00, 413.00it/s, loss=3.21]"
          ]
        },
        {
          "name": "stdout",
          "output_type": "stream",
          "text": [
            "Epoch [237/3000]: Train loss: 3.2406, Valid loss: 2.7951\n",
            "Saving model with loss 2.795...\n"
          ]
        },
        {
          "name": "stderr",
          "output_type": "stream",
          "text": [
            "\n",
            "Epoch [238/3000]: 100%|██████████| 9/9 [00:00<00:00, 342.80it/s, loss=4.27]\n"
          ]
        },
        {
          "name": "stdout",
          "output_type": "stream",
          "text": [
            "Epoch [238/3000]: Train loss: 3.3950, Valid loss: 4.0520\n"
          ]
        },
        {
          "name": "stderr",
          "output_type": "stream",
          "text": [
            "Epoch [239/3000]: 100%|██████████| 9/9 [00:00<00:00, 343.94it/s, loss=3.77]\n"
          ]
        },
        {
          "name": "stdout",
          "output_type": "stream",
          "text": [
            "Epoch [239/3000]: Train loss: 3.7274, Valid loss: 4.2843\n"
          ]
        },
        {
          "name": "stderr",
          "output_type": "stream",
          "text": [
            "Epoch [240/3000]: 100%|██████████| 9/9 [00:00<00:00, 134.51it/s, loss=3.74]\n"
          ]
        },
        {
          "name": "stdout",
          "output_type": "stream",
          "text": [
            "Epoch [240/3000]: Train loss: 4.4881, Valid loss: 6.5276\n"
          ]
        },
        {
          "name": "stderr",
          "output_type": "stream",
          "text": [
            "Epoch [241/3000]: 100%|██████████| 9/9 [00:00<00:00, 285.71it/s, loss=2.28]\n"
          ]
        },
        {
          "name": "stdout",
          "output_type": "stream",
          "text": [
            "Epoch [241/3000]: Train loss: 4.0458, Valid loss: 3.1368\n"
          ]
        },
        {
          "name": "stderr",
          "output_type": "stream",
          "text": [
            "Epoch [242/3000]: 100%|██████████| 9/9 [00:00<00:00, 309.20it/s, loss=3.61]\n"
          ]
        },
        {
          "name": "stdout",
          "output_type": "stream",
          "text": [
            "Epoch [242/3000]: Train loss: 3.7802, Valid loss: 3.1890\n"
          ]
        },
        {
          "name": "stderr",
          "output_type": "stream",
          "text": [
            "Epoch [243/3000]: 100%|██████████| 9/9 [00:00<00:00, 340.48it/s, loss=3.09]\n"
          ]
        },
        {
          "name": "stdout",
          "output_type": "stream",
          "text": [
            "Epoch [243/3000]: Train loss: 3.2616, Valid loss: 3.6364\n"
          ]
        },
        {
          "name": "stderr",
          "output_type": "stream",
          "text": [
            "Epoch [244/3000]: 100%|██████████| 9/9 [00:00<00:00, 314.85it/s, loss=4.5]\n"
          ]
        },
        {
          "name": "stdout",
          "output_type": "stream",
          "text": [
            "Epoch [244/3000]: Train loss: 3.3944, Valid loss: 3.5067\n"
          ]
        },
        {
          "name": "stderr",
          "output_type": "stream",
          "text": [
            "Epoch [245/3000]: 100%|██████████| 9/9 [00:00<00:00, 347.31it/s, loss=3.89]\n"
          ]
        },
        {
          "name": "stdout",
          "output_type": "stream",
          "text": [
            "Epoch [245/3000]: Train loss: 3.5721, Valid loss: 3.7970\n"
          ]
        },
        {
          "name": "stderr",
          "output_type": "stream",
          "text": [
            "Epoch [246/3000]: 100%|██████████| 9/9 [00:00<00:00, 372.90it/s, loss=4.12]\n"
          ]
        },
        {
          "name": "stdout",
          "output_type": "stream",
          "text": [
            "Epoch [246/3000]: Train loss: 3.3741, Valid loss: 4.2495\n"
          ]
        },
        {
          "name": "stderr",
          "output_type": "stream",
          "text": [
            "Epoch [247/3000]: 100%|██████████| 9/9 [00:00<00:00, 319.45it/s, loss=4.33]\n"
          ]
        },
        {
          "name": "stdout",
          "output_type": "stream",
          "text": [
            "Epoch [247/3000]: Train loss: 4.1425, Valid loss: 4.1787\n"
          ]
        },
        {
          "name": "stderr",
          "output_type": "stream",
          "text": [
            "Epoch [248/3000]: 100%|██████████| 9/9 [00:00<00:00, 295.20it/s, loss=3.35]\n"
          ]
        },
        {
          "name": "stdout",
          "output_type": "stream",
          "text": [
            "Epoch [248/3000]: Train loss: 4.5572, Valid loss: 3.5463\n"
          ]
        },
        {
          "name": "stderr",
          "output_type": "stream",
          "text": [
            "Epoch [249/3000]: 100%|██████████| 9/9 [00:00<00:00, 352.33it/s, loss=4.27]\n"
          ]
        },
        {
          "name": "stdout",
          "output_type": "stream",
          "text": [
            "Epoch [249/3000]: Train loss: 4.0784, Valid loss: 3.5579\n"
          ]
        },
        {
          "name": "stderr",
          "output_type": "stream",
          "text": [
            "Epoch [250/3000]: 100%|██████████| 9/9 [00:00<00:00, 340.82it/s, loss=3.22]\n"
          ]
        },
        {
          "name": "stdout",
          "output_type": "stream",
          "text": [
            "Epoch [250/3000]: Train loss: 3.5222, Valid loss: 3.5976\n"
          ]
        },
        {
          "name": "stderr",
          "output_type": "stream",
          "text": [
            "Epoch [251/3000]: 100%|██████████| 9/9 [00:00<00:00, 178.00it/s, loss=2.85]\n"
          ]
        },
        {
          "name": "stdout",
          "output_type": "stream",
          "text": [
            "Epoch [251/3000]: Train loss: 3.4908, Valid loss: 2.9387\n"
          ]
        },
        {
          "name": "stderr",
          "output_type": "stream",
          "text": [
            "Epoch [252/3000]: 100%|██████████| 9/9 [00:00<00:00, 362.99it/s, loss=2.8]"
          ]
        },
        {
          "name": "stdout",
          "output_type": "stream",
          "text": [
            "Epoch [252/3000]: Train loss: 3.2163, Valid loss: 3.5231"
          ]
        },
        {
          "name": "stderr",
          "output_type": "stream",
          "text": [
            "\n"
          ]
        },
        {
          "name": "stdout",
          "output_type": "stream",
          "text": [
            "\n"
          ]
        },
        {
          "name": "stderr",
          "output_type": "stream",
          "text": [
            "Epoch [253/3000]: 100%|██████████| 9/9 [00:00<00:00, 528.18it/s, loss=3.13]\n"
          ]
        },
        {
          "name": "stdout",
          "output_type": "stream",
          "text": [
            "Epoch [253/3000]: Train loss: 3.3646, Valid loss: 4.5106\n"
          ]
        },
        {
          "name": "stderr",
          "output_type": "stream",
          "text": [
            "Epoch [254/3000]: 100%|██████████| 9/9 [00:00<00:00, 559.08it/s, loss=3.22]\n"
          ]
        },
        {
          "name": "stdout",
          "output_type": "stream",
          "text": [
            "Epoch [254/3000]: Train loss: 3.6431, Valid loss: 3.2147\n"
          ]
        },
        {
          "name": "stderr",
          "output_type": "stream",
          "text": [
            "Epoch [255/3000]: 100%|██████████| 9/9 [00:00<00:00, 123.28it/s, loss=3.31]\n"
          ]
        },
        {
          "name": "stdout",
          "output_type": "stream",
          "text": [
            "Epoch [255/3000]: Train loss: 3.1020, Valid loss: 3.8495\n"
          ]
        },
        {
          "name": "stderr",
          "output_type": "stream",
          "text": [
            "Epoch [256/3000]: 100%|██████████| 9/9 [00:00<00:00, 521.13it/s, loss=3.32]\n"
          ]
        },
        {
          "name": "stdout",
          "output_type": "stream",
          "text": [
            "Epoch [256/3000]: Train loss: 3.6669, Valid loss: 2.7536\n",
            "Saving model with loss 2.754...\n"
          ]
        },
        {
          "name": "stderr",
          "output_type": "stream",
          "text": [
            "Epoch [257/3000]: 100%|██████████| 9/9 [00:00<00:00, 527.52it/s, loss=3.27]\n"
          ]
        },
        {
          "name": "stdout",
          "output_type": "stream",
          "text": [
            "Epoch [257/3000]: Train loss: 3.4184, Valid loss: 3.8030\n"
          ]
        },
        {
          "name": "stderr",
          "output_type": "stream",
          "text": [
            "Epoch [258/3000]: 100%|██████████| 9/9 [00:00<00:00, 414.59it/s, loss=3.01]\n"
          ]
        },
        {
          "name": "stdout",
          "output_type": "stream",
          "text": [
            "Epoch [258/3000]: Train loss: 3.4449, Valid loss: 2.4782\n",
            "Saving model with loss 2.478...\n"
          ]
        },
        {
          "name": "stderr",
          "output_type": "stream",
          "text": [
            "Epoch [259/3000]: 100%|██████████| 9/9 [00:00<00:00, 472.04it/s, loss=3.22]\n"
          ]
        },
        {
          "name": "stdout",
          "output_type": "stream",
          "text": [
            "Epoch [259/3000]: Train loss: 3.9938, Valid loss: 3.4454\n"
          ]
        },
        {
          "name": "stderr",
          "output_type": "stream",
          "text": [
            "Epoch [260/3000]: 100%|██████████| 9/9 [00:00<00:00, 533.20it/s, loss=3.24]\n"
          ]
        },
        {
          "name": "stdout",
          "output_type": "stream",
          "text": [
            "Epoch [260/3000]: Train loss: 3.5295, Valid loss: 4.4239\n"
          ]
        },
        {
          "name": "stderr",
          "output_type": "stream",
          "text": [
            "Epoch [261/3000]: 100%|██████████| 9/9 [00:00<00:00, 513.61it/s, loss=3.84]\n"
          ]
        },
        {
          "name": "stdout",
          "output_type": "stream",
          "text": [
            "Epoch [261/3000]: Train loss: 4.0603, Valid loss: 3.3758\n"
          ]
        },
        {
          "name": "stderr",
          "output_type": "stream",
          "text": [
            "Epoch [262/3000]: 100%|██████████| 9/9 [00:00<00:00, 552.58it/s, loss=2.25]\n"
          ]
        },
        {
          "name": "stdout",
          "output_type": "stream",
          "text": [
            "Epoch [262/3000]: Train loss: 3.4238, Valid loss: 5.2648\n"
          ]
        },
        {
          "name": "stderr",
          "output_type": "stream",
          "text": [
            "Epoch [263/3000]: 100%|██████████| 9/9 [00:00<00:00, 502.51it/s, loss=3.52]\n"
          ]
        },
        {
          "name": "stdout",
          "output_type": "stream",
          "text": [
            "Epoch [263/3000]: Train loss: 3.6746, Valid loss: 3.0234\n"
          ]
        },
        {
          "name": "stderr",
          "output_type": "stream",
          "text": [
            "Epoch [264/3000]: 100%|██████████| 9/9 [00:00<00:00, 546.81it/s, loss=2.66]\n"
          ]
        },
        {
          "name": "stdout",
          "output_type": "stream",
          "text": [
            "Epoch [264/3000]: Train loss: 3.5141, Valid loss: 4.3084\n"
          ]
        },
        {
          "name": "stderr",
          "output_type": "stream",
          "text": [
            "Epoch [265/3000]: 100%|██████████| 9/9 [00:00<00:00, 511.40it/s, loss=3.57]\n"
          ]
        },
        {
          "name": "stdout",
          "output_type": "stream",
          "text": [
            "Epoch [265/3000]: Train loss: 4.2289, Valid loss: 2.8964\n"
          ]
        },
        {
          "name": "stderr",
          "output_type": "stream",
          "text": [
            "Epoch [266/3000]: 100%|██████████| 9/9 [00:00<00:00, 506.02it/s, loss=3.35]\n"
          ]
        },
        {
          "name": "stdout",
          "output_type": "stream",
          "text": [
            "Epoch [266/3000]: Train loss: 3.9252, Valid loss: 5.4087\n"
          ]
        },
        {
          "name": "stderr",
          "output_type": "stream",
          "text": [
            "Epoch [267/3000]: 100%|██████████| 9/9 [00:00<00:00, 494.13it/s, loss=3.44]\n"
          ]
        },
        {
          "name": "stdout",
          "output_type": "stream",
          "text": [
            "Epoch [267/3000]: Train loss: 4.8683, Valid loss: 4.0381\n"
          ]
        },
        {
          "name": "stderr",
          "output_type": "stream",
          "text": [
            "Epoch [268/3000]: 100%|██████████| 9/9 [00:00<00:00, 521.02it/s, loss=4.22]\n"
          ]
        },
        {
          "name": "stdout",
          "output_type": "stream",
          "text": [
            "Epoch [268/3000]: Train loss: 3.7012, Valid loss: 4.1837\n"
          ]
        },
        {
          "name": "stderr",
          "output_type": "stream",
          "text": [
            "Epoch [269/3000]: 100%|██████████| 9/9 [00:00<00:00, 542.23it/s, loss=3.86]\n"
          ]
        },
        {
          "name": "stdout",
          "output_type": "stream",
          "text": [
            "Epoch [269/3000]: Train loss: 3.1047, Valid loss: 2.9792\n"
          ]
        },
        {
          "name": "stderr",
          "output_type": "stream",
          "text": [
            "Epoch [270/3000]: 100%|██████████| 9/9 [00:00<00:00, 545.12it/s, loss=6.79]\n"
          ]
        },
        {
          "name": "stdout",
          "output_type": "stream",
          "text": [
            "Epoch [270/3000]: Train loss: 4.0595, Valid loss: 2.6018\n"
          ]
        },
        {
          "name": "stderr",
          "output_type": "stream",
          "text": [
            "Epoch [271/3000]: 100%|██████████| 9/9 [00:00<00:00, 584.00it/s, loss=7.31]\n"
          ]
        },
        {
          "name": "stdout",
          "output_type": "stream",
          "text": [
            "Epoch [271/3000]: Train loss: 4.2218, Valid loss: 6.7217\n"
          ]
        },
        {
          "name": "stderr",
          "output_type": "stream",
          "text": [
            "Epoch [272/3000]: 100%|██████████| 9/9 [00:00<00:00, 595.08it/s, loss=3.1]\n"
          ]
        },
        {
          "name": "stdout",
          "output_type": "stream",
          "text": [
            "Epoch [272/3000]: Train loss: 5.3641, Valid loss: 4.4474\n"
          ]
        },
        {
          "name": "stderr",
          "output_type": "stream",
          "text": [
            "Epoch [273/3000]: 100%|██████████| 9/9 [00:00<00:00, 312.25it/s, loss=5.51]\n"
          ]
        },
        {
          "name": "stdout",
          "output_type": "stream",
          "text": [
            "Epoch [273/3000]: Train loss: 4.4690, Valid loss: 2.7479\n"
          ]
        },
        {
          "name": "stderr",
          "output_type": "stream",
          "text": [
            "Epoch [274/3000]: 100%|██████████| 9/9 [00:00<00:00, 534.09it/s, loss=3.52]\n"
          ]
        },
        {
          "name": "stdout",
          "output_type": "stream",
          "text": [
            "Epoch [274/3000]: Train loss: 4.5473, Valid loss: 4.9292\n"
          ]
        },
        {
          "name": "stderr",
          "output_type": "stream",
          "text": [
            "Epoch [275/3000]: 100%|██████████| 9/9 [00:00<00:00, 520.51it/s, loss=2.76]\n"
          ]
        },
        {
          "name": "stdout",
          "output_type": "stream",
          "text": [
            "Epoch [275/3000]: Train loss: 3.2986, Valid loss: 3.2265\n"
          ]
        },
        {
          "name": "stderr",
          "output_type": "stream",
          "text": [
            "Epoch [276/3000]: 100%|██████████| 9/9 [00:00<00:00, 501.73it/s, loss=2.95]\n"
          ]
        },
        {
          "name": "stdout",
          "output_type": "stream",
          "text": [
            "Epoch [276/3000]: Train loss: 3.3971, Valid loss: 3.5862\n"
          ]
        },
        {
          "name": "stderr",
          "output_type": "stream",
          "text": [
            "Epoch [277/3000]: 100%|██████████| 9/9 [00:00<00:00, 487.12it/s, loss=2.88]\n"
          ]
        },
        {
          "name": "stdout",
          "output_type": "stream",
          "text": [
            "Epoch [277/3000]: Train loss: 2.9787, Valid loss: 2.9915\n"
          ]
        },
        {
          "name": "stderr",
          "output_type": "stream",
          "text": [
            "Epoch [278/3000]: 100%|██████████| 9/9 [00:00<00:00, 504.09it/s, loss=2.79]\n"
          ]
        },
        {
          "name": "stdout",
          "output_type": "stream",
          "text": [
            "Epoch [278/3000]: Train loss: 2.9127, Valid loss: 2.5522\n"
          ]
        },
        {
          "name": "stderr",
          "output_type": "stream",
          "text": [
            "Epoch [279/3000]: 100%|██████████| 9/9 [00:00<00:00, 514.20it/s, loss=3.99]\n"
          ]
        },
        {
          "name": "stdout",
          "output_type": "stream",
          "text": [
            "Epoch [279/3000]: Train loss: 2.9721, Valid loss: 3.1488\n"
          ]
        },
        {
          "name": "stderr",
          "output_type": "stream",
          "text": [
            "Epoch [280/3000]: 100%|██████████| 9/9 [00:00<00:00, 515.40it/s, loss=3.93]\n"
          ]
        },
        {
          "name": "stdout",
          "output_type": "stream",
          "text": [
            "Epoch [280/3000]: Train loss: 3.5277, Valid loss: 5.5784\n"
          ]
        },
        {
          "name": "stderr",
          "output_type": "stream",
          "text": [
            "Epoch [281/3000]: 100%|██████████| 9/9 [00:00<00:00, 564.55it/s, loss=4.77]\n"
          ]
        },
        {
          "name": "stdout",
          "output_type": "stream",
          "text": [
            "Epoch [281/3000]: Train loss: 4.0599, Valid loss: 3.1282\n"
          ]
        },
        {
          "name": "stderr",
          "output_type": "stream",
          "text": [
            "Epoch [282/3000]: 100%|██████████| 9/9 [00:00<00:00, 520.41it/s, loss=3.79]\n"
          ]
        },
        {
          "name": "stdout",
          "output_type": "stream",
          "text": [
            "Epoch [282/3000]: Train loss: 4.6421, Valid loss: 6.3604\n"
          ]
        },
        {
          "name": "stderr",
          "output_type": "stream",
          "text": [
            "Epoch [283/3000]: 100%|██████████| 9/9 [00:00<00:00, 415.19it/s, loss=3.91]\n"
          ]
        },
        {
          "name": "stdout",
          "output_type": "stream",
          "text": [
            "Epoch [283/3000]: Train loss: 3.9024, Valid loss: 2.9904\n"
          ]
        },
        {
          "name": "stderr",
          "output_type": "stream",
          "text": [
            "Epoch [284/3000]: 100%|██████████| 9/9 [00:00<00:00, 157.91it/s, loss=8.68]\n"
          ]
        },
        {
          "name": "stdout",
          "output_type": "stream",
          "text": [
            "Epoch [284/3000]: Train loss: 4.2894, Valid loss: 3.1940\n"
          ]
        },
        {
          "name": "stderr",
          "output_type": "stream",
          "text": [
            "Epoch [285/3000]: 100%|██████████| 9/9 [00:00<00:00, 388.63it/s, loss=5.32]\n"
          ]
        },
        {
          "name": "stdout",
          "output_type": "stream",
          "text": [
            "Epoch [285/3000]: Train loss: 4.9816, Valid loss: 3.9216\n"
          ]
        },
        {
          "name": "stderr",
          "output_type": "stream",
          "text": [
            "Epoch [286/3000]: 100%|██████████| 9/9 [00:00<00:00, 498.04it/s, loss=2.86]\n"
          ]
        },
        {
          "name": "stdout",
          "output_type": "stream",
          "text": [
            "Epoch [286/3000]: Train loss: 3.9124, Valid loss: 4.5299\n"
          ]
        },
        {
          "name": "stderr",
          "output_type": "stream",
          "text": [
            "Epoch [287/3000]: 100%|██████████| 9/9 [00:00<00:00, 516.50it/s, loss=3.28]\n"
          ]
        },
        {
          "name": "stdout",
          "output_type": "stream",
          "text": [
            "Epoch [287/3000]: Train loss: 3.4720, Valid loss: 2.9244\n"
          ]
        },
        {
          "name": "stderr",
          "output_type": "stream",
          "text": [
            "Epoch [288/3000]: 100%|██████████| 9/9 [00:00<00:00, 510.37it/s, loss=3.06]\n"
          ]
        },
        {
          "name": "stdout",
          "output_type": "stream",
          "text": [
            "Epoch [288/3000]: Train loss: 3.6676, Valid loss: 3.5254\n"
          ]
        },
        {
          "name": "stderr",
          "output_type": "stream",
          "text": [
            "Epoch [289/3000]: 100%|██████████| 9/9 [00:00<00:00, 429.86it/s, loss=3.33]\n"
          ]
        },
        {
          "name": "stdout",
          "output_type": "stream",
          "text": [
            "Epoch [289/3000]: Train loss: 2.9712, Valid loss: 4.0944\n"
          ]
        },
        {
          "name": "stderr",
          "output_type": "stream",
          "text": [
            "Epoch [290/3000]: 100%|██████████| 9/9 [00:00<00:00, 549.51it/s, loss=4.45]\n"
          ]
        },
        {
          "name": "stdout",
          "output_type": "stream",
          "text": [
            "Epoch [290/3000]: Train loss: 3.4135, Valid loss: 4.9296\n"
          ]
        },
        {
          "name": "stderr",
          "output_type": "stream",
          "text": [
            "Epoch [291/3000]: 100%|██████████| 9/9 [00:00<00:00, 514.35it/s, loss=3.15]\n"
          ]
        },
        {
          "name": "stdout",
          "output_type": "stream",
          "text": [
            "Epoch [291/3000]: Train loss: 3.6993, Valid loss: 3.7011\n"
          ]
        },
        {
          "name": "stderr",
          "output_type": "stream",
          "text": [
            "Epoch [292/3000]: 100%|██████████| 9/9 [00:00<00:00, 167.97it/s, loss=3.95]\n"
          ]
        },
        {
          "name": "stdout",
          "output_type": "stream",
          "text": [
            "Epoch [292/3000]: Train loss: 3.8287, Valid loss: 3.6008\n"
          ]
        },
        {
          "name": "stderr",
          "output_type": "stream",
          "text": [
            "Epoch [293/3000]: 100%|██████████| 9/9 [00:00<00:00, 516.14it/s, loss=3.93]\n"
          ]
        },
        {
          "name": "stdout",
          "output_type": "stream",
          "text": [
            "Epoch [293/3000]: Train loss: 3.3321, Valid loss: 2.8849\n"
          ]
        },
        {
          "name": "stderr",
          "output_type": "stream",
          "text": [
            "Epoch [294/3000]: 100%|██████████| 9/9 [00:00<00:00, 490.75it/s, loss=2]\n"
          ]
        },
        {
          "name": "stdout",
          "output_type": "stream",
          "text": [
            "Epoch [294/3000]: Train loss: 2.9314, Valid loss: 3.1066\n"
          ]
        },
        {
          "name": "stderr",
          "output_type": "stream",
          "text": [
            "Epoch [295/3000]: 100%|██████████| 9/9 [00:00<00:00, 512.67it/s, loss=4.63]\n"
          ]
        },
        {
          "name": "stdout",
          "output_type": "stream",
          "text": [
            "Epoch [295/3000]: Train loss: 3.6789, Valid loss: 3.2450\n"
          ]
        },
        {
          "name": "stderr",
          "output_type": "stream",
          "text": [
            "Epoch [296/3000]: 100%|██████████| 9/9 [00:00<00:00, 530.19it/s, loss=2.59]\n"
          ]
        },
        {
          "name": "stdout",
          "output_type": "stream",
          "text": [
            "Epoch [296/3000]: Train loss: 3.2876, Valid loss: 2.4450\n",
            "Saving model with loss 2.445...\n"
          ]
        },
        {
          "name": "stderr",
          "output_type": "stream",
          "text": [
            "Epoch [297/3000]: 100%|██████████| 9/9 [00:00<00:00, 468.70it/s, loss=3.97]\n"
          ]
        },
        {
          "name": "stdout",
          "output_type": "stream",
          "text": [
            "Epoch [297/3000]: Train loss: 3.3738, Valid loss: 4.1194\n"
          ]
        },
        {
          "name": "stderr",
          "output_type": "stream",
          "text": [
            "Epoch [298/3000]: 100%|██████████| 9/9 [00:00<00:00, 511.77it/s, loss=2.79]\n"
          ]
        },
        {
          "name": "stdout",
          "output_type": "stream",
          "text": [
            "Epoch [298/3000]: Train loss: 3.5694, Valid loss: 2.9656\n"
          ]
        },
        {
          "name": "stderr",
          "output_type": "stream",
          "text": [
            "Epoch [299/3000]: 100%|██████████| 9/9 [00:00<00:00, 567.56it/s, loss=2.93]\n"
          ]
        },
        {
          "name": "stdout",
          "output_type": "stream",
          "text": [
            "Epoch [299/3000]: Train loss: 2.9840, Valid loss: 3.0415\n"
          ]
        },
        {
          "name": "stderr",
          "output_type": "stream",
          "text": [
            "Epoch [300/3000]: 100%|██████████| 9/9 [00:00<00:00, 522.71it/s, loss=3.27]\n"
          ]
        },
        {
          "name": "stdout",
          "output_type": "stream",
          "text": [
            "Epoch [300/3000]: Train loss: 2.9841, Valid loss: 2.5384\n"
          ]
        },
        {
          "name": "stderr",
          "output_type": "stream",
          "text": [
            "Epoch [301/3000]: 100%|██████████| 9/9 [00:00<00:00, 514.11it/s, loss=2.57]\n"
          ]
        },
        {
          "name": "stdout",
          "output_type": "stream",
          "text": [
            "Epoch [301/3000]: Train loss: 2.9128, Valid loss: 2.9589\n"
          ]
        },
        {
          "name": "stderr",
          "output_type": "stream",
          "text": [
            "Epoch [302/3000]: 100%|██████████| 9/9 [00:00<00:00, 545.75it/s, loss=2.65]\n"
          ]
        },
        {
          "name": "stdout",
          "output_type": "stream",
          "text": [
            "Epoch [302/3000]: Train loss: 2.9201, Valid loss: 3.6023\n"
          ]
        },
        {
          "name": "stderr",
          "output_type": "stream",
          "text": [
            "Epoch [303/3000]: 100%|██████████| 9/9 [00:00<00:00, 545.85it/s, loss=2.71]\n"
          ]
        },
        {
          "name": "stdout",
          "output_type": "stream",
          "text": [
            "Epoch [303/3000]: Train loss: 2.9004, Valid loss: 2.9541\n"
          ]
        },
        {
          "name": "stderr",
          "output_type": "stream",
          "text": [
            "Epoch [304/3000]: 100%|██████████| 9/9 [00:00<00:00, 482.24it/s, loss=3.17]\n"
          ]
        },
        {
          "name": "stdout",
          "output_type": "stream",
          "text": [
            "Epoch [304/3000]: Train loss: 2.9441, Valid loss: 2.9943\n"
          ]
        },
        {
          "name": "stderr",
          "output_type": "stream",
          "text": [
            "Epoch [305/3000]: 100%|██████████| 9/9 [00:00<00:00, 557.65it/s, loss=3.18]\n"
          ]
        },
        {
          "name": "stdout",
          "output_type": "stream",
          "text": [
            "Epoch [305/3000]: Train loss: 2.9251, Valid loss: 3.4952\n"
          ]
        },
        {
          "name": "stderr",
          "output_type": "stream",
          "text": [
            "Epoch [306/3000]: 100%|██████████| 9/9 [00:00<00:00, 566.79it/s, loss=5.28]\n"
          ]
        },
        {
          "name": "stdout",
          "output_type": "stream",
          "text": [
            "Epoch [306/3000]: Train loss: 3.7304, Valid loss: 6.3434\n"
          ]
        },
        {
          "name": "stderr",
          "output_type": "stream",
          "text": [
            "Epoch [307/3000]: 100%|██████████| 9/9 [00:00<00:00, 522.47it/s, loss=3.2]\n"
          ]
        },
        {
          "name": "stdout",
          "output_type": "stream",
          "text": [
            "Epoch [307/3000]: Train loss: 3.5173, Valid loss: 3.7536\n"
          ]
        },
        {
          "name": "stderr",
          "output_type": "stream",
          "text": [
            "Epoch [308/3000]: 100%|██████████| 9/9 [00:00<00:00, 559.90it/s, loss=3.15]\n"
          ]
        },
        {
          "name": "stdout",
          "output_type": "stream",
          "text": [
            "Epoch [308/3000]: Train loss: 2.9620, Valid loss: 2.9157\n"
          ]
        },
        {
          "name": "stderr",
          "output_type": "stream",
          "text": [
            "Epoch [309/3000]: 100%|██████████| 9/9 [00:00<00:00, 507.30it/s, loss=2.43]\n"
          ]
        },
        {
          "name": "stdout",
          "output_type": "stream",
          "text": [
            "Epoch [309/3000]: Train loss: 3.2190, Valid loss: 2.6315\n"
          ]
        },
        {
          "name": "stderr",
          "output_type": "stream",
          "text": [
            "Epoch [310/3000]: 100%|██████████| 9/9 [00:00<00:00, 531.28it/s, loss=2]\n"
          ]
        },
        {
          "name": "stdout",
          "output_type": "stream",
          "text": [
            "Epoch [310/3000]: Train loss: 2.8597, Valid loss: 3.2053\n"
          ]
        },
        {
          "name": "stderr",
          "output_type": "stream",
          "text": [
            "Epoch [311/3000]: 100%|██████████| 9/9 [00:00<00:00, 556.76it/s, loss=2.57]\n"
          ]
        },
        {
          "name": "stdout",
          "output_type": "stream",
          "text": [
            "Epoch [311/3000]: Train loss: 2.9894, Valid loss: 3.5347\n"
          ]
        },
        {
          "name": "stderr",
          "output_type": "stream",
          "text": [
            "Epoch [312/3000]: 100%|██████████| 9/9 [00:00<00:00, 532.23it/s, loss=2.66]\n"
          ]
        },
        {
          "name": "stdout",
          "output_type": "stream",
          "text": [
            "Epoch [312/3000]: Train loss: 2.9392, Valid loss: 3.1146\n"
          ]
        },
        {
          "name": "stderr",
          "output_type": "stream",
          "text": [
            "Epoch [313/3000]: 100%|██████████| 9/9 [00:00<00:00, 552.01it/s, loss=4.21]\n"
          ]
        },
        {
          "name": "stdout",
          "output_type": "stream",
          "text": [
            "Epoch [313/3000]: Train loss: 2.9707, Valid loss: 2.6064\n"
          ]
        },
        {
          "name": "stderr",
          "output_type": "stream",
          "text": [
            "Epoch [314/3000]: 100%|██████████| 9/9 [00:00<00:00, 173.12it/s, loss=4.37]\n"
          ]
        },
        {
          "name": "stdout",
          "output_type": "stream",
          "text": [
            "Epoch [314/3000]: Train loss: 3.8914, Valid loss: 4.4237\n"
          ]
        },
        {
          "name": "stderr",
          "output_type": "stream",
          "text": [
            "Epoch [315/3000]: 100%|██████████| 9/9 [00:00<00:00, 514.52it/s, loss=3.23]\n"
          ]
        },
        {
          "name": "stdout",
          "output_type": "stream",
          "text": [
            "Epoch [315/3000]: Train loss: 3.1589, Valid loss: 3.4015\n"
          ]
        },
        {
          "name": "stderr",
          "output_type": "stream",
          "text": [
            "Epoch [316/3000]: 100%|██████████| 9/9 [00:00<00:00, 561.38it/s, loss=3.34]\n"
          ]
        },
        {
          "name": "stdout",
          "output_type": "stream",
          "text": [
            "Epoch [316/3000]: Train loss: 2.8860, Valid loss: 3.1237\n"
          ]
        },
        {
          "name": "stderr",
          "output_type": "stream",
          "text": [
            "Epoch [317/3000]: 100%|██████████| 9/9 [00:00<00:00, 488.54it/s, loss=2.89]\n"
          ]
        },
        {
          "name": "stdout",
          "output_type": "stream",
          "text": [
            "Epoch [317/3000]: Train loss: 3.6260, Valid loss: 7.0273\n"
          ]
        },
        {
          "name": "stderr",
          "output_type": "stream",
          "text": [
            "Epoch [318/3000]: 100%|██████████| 9/9 [00:00<00:00, 529.69it/s, loss=4.27]\n"
          ]
        },
        {
          "name": "stdout",
          "output_type": "stream",
          "text": [
            "Epoch [318/3000]: Train loss: 4.4023, Valid loss: 2.4248\n",
            "Saving model with loss 2.425...\n"
          ]
        },
        {
          "name": "stderr",
          "output_type": "stream",
          "text": [
            "Epoch [319/3000]: 100%|██████████| 9/9 [00:00<00:00, 532.64it/s, loss=6.22]\n"
          ]
        },
        {
          "name": "stdout",
          "output_type": "stream",
          "text": [
            "Epoch [319/3000]: Train loss: 3.5845, Valid loss: 2.6983\n"
          ]
        },
        {
          "name": "stderr",
          "output_type": "stream",
          "text": [
            "Epoch [320/3000]: 100%|██████████| 9/9 [00:00<00:00, 518.58it/s, loss=5.07]\n"
          ]
        },
        {
          "name": "stdout",
          "output_type": "stream",
          "text": [
            "Epoch [320/3000]: Train loss: 3.9165, Valid loss: 2.6173\n"
          ]
        },
        {
          "name": "stderr",
          "output_type": "stream",
          "text": [
            "Epoch [321/3000]: 100%|██████████| 9/9 [00:00<00:00, 565.43it/s, loss=3.08]\n"
          ]
        },
        {
          "name": "stdout",
          "output_type": "stream",
          "text": [
            "Epoch [321/3000]: Train loss: 4.1303, Valid loss: 5.1812\n"
          ]
        },
        {
          "name": "stderr",
          "output_type": "stream",
          "text": [
            "Epoch [322/3000]: 100%|██████████| 9/9 [00:00<00:00, 498.31it/s, loss=3.04]\n"
          ]
        },
        {
          "name": "stdout",
          "output_type": "stream",
          "text": [
            "Epoch [322/3000]: Train loss: 2.9284, Valid loss: 2.2729\n",
            "Saving model with loss 2.273...\n"
          ]
        },
        {
          "name": "stderr",
          "output_type": "stream",
          "text": [
            "Epoch [323/3000]: 100%|██████████| 9/9 [00:00<00:00, 506.50it/s, loss=2.22]\n"
          ]
        },
        {
          "name": "stdout",
          "output_type": "stream",
          "text": [
            "Epoch [323/3000]: Train loss: 3.1702, Valid loss: 3.5115\n"
          ]
        },
        {
          "name": "stderr",
          "output_type": "stream",
          "text": [
            "Epoch [324/3000]: 100%|██████████| 9/9 [00:00<00:00, 475.86it/s, loss=3.42]\n"
          ]
        },
        {
          "name": "stdout",
          "output_type": "stream",
          "text": [
            "Epoch [324/3000]: Train loss: 3.2555, Valid loss: 3.5535\n"
          ]
        },
        {
          "name": "stderr",
          "output_type": "stream",
          "text": [
            "Epoch [325/3000]: 100%|██████████| 9/9 [00:00<00:00, 557.00it/s, loss=2.56]\n"
          ]
        },
        {
          "name": "stdout",
          "output_type": "stream",
          "text": [
            "Epoch [325/3000]: Train loss: 3.8956, Valid loss: 7.2804\n"
          ]
        },
        {
          "name": "stderr",
          "output_type": "stream",
          "text": [
            "Epoch [326/3000]: 100%|██████████| 9/9 [00:00<00:00, 570.13it/s, loss=11.9]\n"
          ]
        },
        {
          "name": "stdout",
          "output_type": "stream",
          "text": [
            "Epoch [326/3000]: Train loss: 5.5028, Valid loss: 6.7949\n"
          ]
        },
        {
          "name": "stderr",
          "output_type": "stream",
          "text": [
            "Epoch [327/3000]: 100%|██████████| 9/9 [00:00<00:00, 550.67it/s, loss=4.6]\n"
          ]
        },
        {
          "name": "stdout",
          "output_type": "stream",
          "text": [
            "Epoch [327/3000]: Train loss: 4.5224, Valid loss: 7.3533\n"
          ]
        },
        {
          "name": "stderr",
          "output_type": "stream",
          "text": [
            "Epoch [328/3000]: 100%|██████████| 9/9 [00:00<00:00, 519.18it/s, loss=15.7]\n"
          ]
        },
        {
          "name": "stdout",
          "output_type": "stream",
          "text": [
            "Epoch [328/3000]: Train loss: 9.8113, Valid loss: 6.5398\n"
          ]
        },
        {
          "name": "stderr",
          "output_type": "stream",
          "text": [
            "Epoch [329/3000]: 100%|██████████| 9/9 [00:00<00:00, 499.28it/s, loss=4.92]\n"
          ]
        },
        {
          "name": "stdout",
          "output_type": "stream",
          "text": [
            "Epoch [329/3000]: Train loss: 9.1052, Valid loss: 12.8670\n"
          ]
        },
        {
          "name": "stderr",
          "output_type": "stream",
          "text": [
            "Epoch [330/3000]: 100%|██████████| 9/9 [00:00<00:00, 507.18it/s, loss=5.78]\n"
          ]
        },
        {
          "name": "stdout",
          "output_type": "stream",
          "text": [
            "Epoch [330/3000]: Train loss: 7.4664, Valid loss: 7.2561\n"
          ]
        },
        {
          "name": "stderr",
          "output_type": "stream",
          "text": [
            "Epoch [331/3000]: 100%|██████████| 9/9 [00:00<00:00, 483.12it/s, loss=11.8]\n"
          ]
        },
        {
          "name": "stdout",
          "output_type": "stream",
          "text": [
            "Epoch [331/3000]: Train loss: 8.1166, Valid loss: 3.9274\n"
          ]
        },
        {
          "name": "stderr",
          "output_type": "stream",
          "text": [
            "Epoch [332/3000]: 100%|██████████| 9/9 [00:00<00:00, 113.47it/s, loss=3.73]\n"
          ]
        },
        {
          "name": "stdout",
          "output_type": "stream",
          "text": [
            "Epoch [332/3000]: Train loss: 5.5229, Valid loss: 5.3169\n"
          ]
        },
        {
          "name": "stderr",
          "output_type": "stream",
          "text": [
            "Epoch [333/3000]: 100%|██████████| 9/9 [00:00<00:00, 326.38it/s, loss=4.22]\n"
          ]
        },
        {
          "name": "stdout",
          "output_type": "stream",
          "text": [
            "Epoch [333/3000]: Train loss: 4.3047, Valid loss: 4.9136\n"
          ]
        },
        {
          "name": "stderr",
          "output_type": "stream",
          "text": [
            "Epoch [334/3000]: 100%|██████████| 9/9 [00:00<00:00, 146.73it/s, loss=3.16]\n"
          ]
        },
        {
          "name": "stdout",
          "output_type": "stream",
          "text": [
            "Epoch [334/3000]: Train loss: 5.5325, Valid loss: 7.3654\n"
          ]
        },
        {
          "name": "stderr",
          "output_type": "stream",
          "text": [
            "Epoch [335/3000]: 100%|██████████| 9/9 [00:00<00:00, 567.28it/s, loss=3.14]\n"
          ]
        },
        {
          "name": "stdout",
          "output_type": "stream",
          "text": [
            "Epoch [335/3000]: Train loss: 3.8028, Valid loss: 4.9372\n"
          ]
        },
        {
          "name": "stderr",
          "output_type": "stream",
          "text": [
            "Epoch [336/3000]: 100%|██████████| 9/9 [00:00<00:00, 608.40it/s, loss=4.29]\n"
          ]
        },
        {
          "name": "stdout",
          "output_type": "stream",
          "text": [
            "Epoch [336/3000]: Train loss: 3.9491, Valid loss: 3.7561\n"
          ]
        },
        {
          "name": "stderr",
          "output_type": "stream",
          "text": [
            "Epoch [337/3000]: 100%|██████████| 9/9 [00:00<00:00, 506.50it/s, loss=3.57]\n"
          ]
        },
        {
          "name": "stdout",
          "output_type": "stream",
          "text": [
            "Epoch [337/3000]: Train loss: 4.5120, Valid loss: 3.1389\n"
          ]
        },
        {
          "name": "stderr",
          "output_type": "stream",
          "text": [
            "Epoch [338/3000]: 100%|██████████| 9/9 [00:00<00:00, 454.61it/s, loss=3.18]\n"
          ]
        },
        {
          "name": "stdout",
          "output_type": "stream",
          "text": [
            "Epoch [338/3000]: Train loss: 3.2195, Valid loss: 3.3678\n"
          ]
        },
        {
          "name": "stderr",
          "output_type": "stream",
          "text": [
            "Epoch [339/3000]: 100%|██████████| 9/9 [00:00<00:00, 429.03it/s, loss=3.58]\n"
          ]
        },
        {
          "name": "stdout",
          "output_type": "stream",
          "text": [
            "Epoch [339/3000]: Train loss: 3.0898, Valid loss: 3.0055\n"
          ]
        },
        {
          "name": "stderr",
          "output_type": "stream",
          "text": [
            "Epoch [340/3000]: 100%|██████████| 9/9 [00:00<00:00, 510.17it/s, loss=3.98]"
          ]
        },
        {
          "name": "stdout",
          "output_type": "stream",
          "text": [
            "Epoch [340/3000]: Train loss: 3.3319, Valid loss: 3.1022\n"
          ]
        },
        {
          "name": "stderr",
          "output_type": "stream",
          "text": [
            "\n",
            "Epoch [341/3000]: 100%|██████████| 9/9 [00:00<00:00, 499.56it/s, loss=3.88]\n"
          ]
        },
        {
          "name": "stdout",
          "output_type": "stream",
          "text": [
            "Epoch [341/3000]: Train loss: 3.2582, Valid loss: 3.2017\n"
          ]
        },
        {
          "name": "stderr",
          "output_type": "stream",
          "text": [
            "Epoch [342/3000]: 100%|██████████| 9/9 [00:00<00:00, 401.59it/s, loss=4.32]\n"
          ]
        },
        {
          "name": "stdout",
          "output_type": "stream",
          "text": [
            "Epoch [342/3000]: Train loss: 4.0290, Valid loss: 5.4909\n"
          ]
        },
        {
          "name": "stderr",
          "output_type": "stream",
          "text": [
            "Epoch [343/3000]: 100%|██████████| 9/9 [00:00<00:00, 378.43it/s, loss=2.16]\n"
          ]
        },
        {
          "name": "stdout",
          "output_type": "stream",
          "text": [
            "Epoch [343/3000]: Train loss: 3.9126, Valid loss: 3.5123\n"
          ]
        },
        {
          "name": "stderr",
          "output_type": "stream",
          "text": [
            "Epoch [344/3000]: 100%|██████████| 9/9 [00:00<00:00, 446.85it/s, loss=3.83]\n"
          ]
        },
        {
          "name": "stdout",
          "output_type": "stream",
          "text": [
            "Epoch [344/3000]: Train loss: 3.3029, Valid loss: 6.1438\n"
          ]
        },
        {
          "name": "stderr",
          "output_type": "stream",
          "text": [
            "Epoch [345/3000]: 100%|██████████| 9/9 [00:00<00:00, 442.21it/s, loss=4.03]\n"
          ]
        },
        {
          "name": "stdout",
          "output_type": "stream",
          "text": [
            "Epoch [345/3000]: Train loss: 4.0253, Valid loss: 4.5056\n"
          ]
        },
        {
          "name": "stderr",
          "output_type": "stream",
          "text": [
            "Epoch [346/3000]: 100%|██████████| 9/9 [00:00<00:00, 474.48it/s, loss=3.58]\n"
          ]
        },
        {
          "name": "stdout",
          "output_type": "stream",
          "text": [
            "Epoch [346/3000]: Train loss: 3.5296, Valid loss: 4.8740\n"
          ]
        },
        {
          "name": "stderr",
          "output_type": "stream",
          "text": [
            "Epoch [347/3000]: 100%|██████████| 9/9 [00:00<00:00, 452.06it/s, loss=5.16]\n"
          ]
        },
        {
          "name": "stdout",
          "output_type": "stream",
          "text": [
            "Epoch [347/3000]: Train loss: 5.0159, Valid loss: 6.2213\n"
          ]
        },
        {
          "name": "stderr",
          "output_type": "stream",
          "text": [
            "Epoch [348/3000]: 100%|██████████| 9/9 [00:00<00:00, 488.49it/s, loss=4.69]\n"
          ]
        },
        {
          "name": "stdout",
          "output_type": "stream",
          "text": [
            "Epoch [348/3000]: Train loss: 5.0856, Valid loss: 9.3872\n"
          ]
        },
        {
          "name": "stderr",
          "output_type": "stream",
          "text": [
            "Epoch [349/3000]: 100%|██████████| 9/9 [00:00<00:00, 348.65it/s, loss=2.9]\n"
          ]
        },
        {
          "name": "stdout",
          "output_type": "stream",
          "text": [
            "Epoch [349/3000]: Train loss: 6.4668, Valid loss: 5.8624\n"
          ]
        },
        {
          "name": "stderr",
          "output_type": "stream",
          "text": [
            "Epoch [350/3000]: 100%|██████████| 9/9 [00:00<00:00, 472.41it/s, loss=3.04]\n"
          ]
        },
        {
          "name": "stdout",
          "output_type": "stream",
          "text": [
            "Epoch [350/3000]: Train loss: 4.1138, Valid loss: 5.1405\n"
          ]
        },
        {
          "name": "stderr",
          "output_type": "stream",
          "text": [
            "Epoch [351/3000]: 100%|██████████| 9/9 [00:00<00:00, 485.17it/s, loss=4.09]\n"
          ]
        },
        {
          "name": "stdout",
          "output_type": "stream",
          "text": [
            "Epoch [351/3000]: Train loss: 4.8964, Valid loss: 4.2906\n"
          ]
        },
        {
          "name": "stderr",
          "output_type": "stream",
          "text": [
            "Epoch [352/3000]: 100%|██████████| 9/9 [00:00<00:00, 447.54it/s, loss=4.91]\n"
          ]
        },
        {
          "name": "stdout",
          "output_type": "stream",
          "text": [
            "Epoch [352/3000]: Train loss: 4.7319, Valid loss: 5.4084\n"
          ]
        },
        {
          "name": "stderr",
          "output_type": "stream",
          "text": [
            "Epoch [353/3000]: 100%|██████████| 9/9 [00:00<00:00, 489.46it/s, loss=4.85]\n"
          ]
        },
        {
          "name": "stdout",
          "output_type": "stream",
          "text": [
            "Epoch [353/3000]: Train loss: 5.5703, Valid loss: 3.7182\n"
          ]
        },
        {
          "name": "stderr",
          "output_type": "stream",
          "text": [
            "Epoch [354/3000]: 100%|██████████| 9/9 [00:00<00:00, 591.14it/s, loss=3.36]\n"
          ]
        },
        {
          "name": "stdout",
          "output_type": "stream",
          "text": [
            "Epoch [354/3000]: Train loss: 3.4665, Valid loss: 2.6751\n"
          ]
        },
        {
          "name": "stderr",
          "output_type": "stream",
          "text": [
            "Epoch [355/3000]: 100%|██████████| 9/9 [00:00<00:00, 161.67it/s, loss=3.28]\n"
          ]
        },
        {
          "name": "stdout",
          "output_type": "stream",
          "text": [
            "Epoch [355/3000]: Train loss: 3.1837, Valid loss: 3.5247\n"
          ]
        },
        {
          "name": "stderr",
          "output_type": "stream",
          "text": [
            "Epoch [356/3000]: 100%|██████████| 9/9 [00:00<00:00, 463.27it/s, loss=3.79]\n"
          ]
        },
        {
          "name": "stdout",
          "output_type": "stream",
          "text": [
            "Epoch [356/3000]: Train loss: 3.4578, Valid loss: 3.5696\n"
          ]
        },
        {
          "name": "stderr",
          "output_type": "stream",
          "text": [
            "Epoch [357/3000]: 100%|██████████| 9/9 [00:00<00:00, 560.99it/s, loss=3.39]\n"
          ]
        },
        {
          "name": "stdout",
          "output_type": "stream",
          "text": [
            "Epoch [357/3000]: Train loss: 3.1980, Valid loss: 2.4984\n"
          ]
        },
        {
          "name": "stderr",
          "output_type": "stream",
          "text": [
            "Epoch [358/3000]: 100%|██████████| 9/9 [00:00<00:00, 567.93it/s, loss=3.41]\n"
          ]
        },
        {
          "name": "stdout",
          "output_type": "stream",
          "text": [
            "Epoch [358/3000]: Train loss: 2.9444, Valid loss: 2.9662\n"
          ]
        },
        {
          "name": "stderr",
          "output_type": "stream",
          "text": [
            "Epoch [359/3000]: 100%|██████████| 9/9 [00:00<00:00, 537.48it/s, loss=2.67]\n"
          ]
        },
        {
          "name": "stdout",
          "output_type": "stream",
          "text": [
            "Epoch [359/3000]: Train loss: 3.0476, Valid loss: 2.7078\n"
          ]
        },
        {
          "name": "stderr",
          "output_type": "stream",
          "text": [
            "Epoch [360/3000]: 100%|██████████| 9/9 [00:00<00:00, 497.91it/s, loss=4.18]\n"
          ]
        },
        {
          "name": "stdout",
          "output_type": "stream",
          "text": [
            "Epoch [360/3000]: Train loss: 2.8052, Valid loss: 2.7860\n"
          ]
        },
        {
          "name": "stderr",
          "output_type": "stream",
          "text": [
            "Epoch [361/3000]: 100%|██████████| 9/9 [00:00<00:00, 434.89it/s, loss=2.55]\n"
          ]
        },
        {
          "name": "stdout",
          "output_type": "stream",
          "text": [
            "Epoch [361/3000]: Train loss: 2.8523, Valid loss: 3.4343\n"
          ]
        },
        {
          "name": "stderr",
          "output_type": "stream",
          "text": [
            "Epoch [362/3000]: 100%|██████████| 9/9 [00:00<00:00, 445.41it/s, loss=2.64]\n"
          ]
        },
        {
          "name": "stdout",
          "output_type": "stream",
          "text": [
            "Epoch [362/3000]: Train loss: 2.7191, Valid loss: 2.9910\n"
          ]
        },
        {
          "name": "stderr",
          "output_type": "stream",
          "text": [
            "Epoch [363/3000]: 100%|██████████| 9/9 [00:00<00:00, 470.40it/s, loss=2.5]\n"
          ]
        },
        {
          "name": "stdout",
          "output_type": "stream",
          "text": [
            "Epoch [363/3000]: Train loss: 3.1325, Valid loss: 3.0878\n"
          ]
        },
        {
          "name": "stderr",
          "output_type": "stream",
          "text": [
            "Epoch [364/3000]: 100%|██████████| 9/9 [00:00<00:00, 541.64it/s, loss=2.63]\n"
          ]
        },
        {
          "name": "stdout",
          "output_type": "stream",
          "text": [
            "Epoch [364/3000]: Train loss: 3.0384, Valid loss: 4.4868\n"
          ]
        },
        {
          "name": "stderr",
          "output_type": "stream",
          "text": [
            "Epoch [365/3000]: 100%|██████████| 9/9 [00:00<00:00, 447.85it/s, loss=5.89]\n"
          ]
        },
        {
          "name": "stdout",
          "output_type": "stream",
          "text": [
            "Epoch [365/3000]: Train loss: 3.9343, Valid loss: 3.2235\n"
          ]
        },
        {
          "name": "stderr",
          "output_type": "stream",
          "text": [
            "Epoch [366/3000]: 100%|██████████| 9/9 [00:00<00:00, 482.52it/s, loss=3.67]\n"
          ]
        },
        {
          "name": "stdout",
          "output_type": "stream",
          "text": [
            "Epoch [366/3000]: Train loss: 3.5732, Valid loss: 4.0068\n"
          ]
        },
        {
          "name": "stderr",
          "output_type": "stream",
          "text": [
            "Epoch [367/3000]: 100%|██████████| 9/9 [00:00<00:00, 121.64it/s, loss=2.52]\n"
          ]
        },
        {
          "name": "stdout",
          "output_type": "stream",
          "text": [
            "Epoch [367/3000]: Train loss: 3.1830, Valid loss: 3.1021\n"
          ]
        },
        {
          "name": "stderr",
          "output_type": "stream",
          "text": [
            "Epoch [368/3000]: 100%|██████████| 9/9 [00:00<00:00, 479.39it/s, loss=3.38]\n"
          ]
        },
        {
          "name": "stdout",
          "output_type": "stream",
          "text": [
            "Epoch [368/3000]: Train loss: 2.9090, Valid loss: 3.2131\n"
          ]
        },
        {
          "name": "stderr",
          "output_type": "stream",
          "text": [
            "Epoch [369/3000]: 100%|██████████| 9/9 [00:00<00:00, 442.26it/s, loss=4.58]\n"
          ]
        },
        {
          "name": "stdout",
          "output_type": "stream",
          "text": [
            "Epoch [369/3000]: Train loss: 3.0788, Valid loss: 3.2261\n"
          ]
        },
        {
          "name": "stderr",
          "output_type": "stream",
          "text": [
            "Epoch [370/3000]: 100%|██████████| 9/9 [00:00<00:00, 493.52it/s, loss=3.14]\n"
          ]
        },
        {
          "name": "stdout",
          "output_type": "stream",
          "text": [
            "Epoch [370/3000]: Train loss: 3.5216, Valid loss: 4.1378\n"
          ]
        },
        {
          "name": "stderr",
          "output_type": "stream",
          "text": [
            "Epoch [371/3000]: 100%|██████████| 9/9 [00:00<00:00, 395.74it/s, loss=3.12]\n"
          ]
        },
        {
          "name": "stdout",
          "output_type": "stream",
          "text": [
            "Epoch [371/3000]: Train loss: 2.9420, Valid loss: 2.7827\n"
          ]
        },
        {
          "name": "stderr",
          "output_type": "stream",
          "text": [
            "Epoch [372/3000]: 100%|██████████| 9/9 [00:00<00:00, 505.02it/s, loss=2.41]\n"
          ]
        },
        {
          "name": "stdout",
          "output_type": "stream",
          "text": [
            "Epoch [372/3000]: Train loss: 2.6261, Valid loss: 3.1060\n"
          ]
        },
        {
          "name": "stderr",
          "output_type": "stream",
          "text": [
            "Epoch [373/3000]: 100%|██████████| 9/9 [00:00<00:00, 551.77it/s, loss=2.74]\n"
          ]
        },
        {
          "name": "stdout",
          "output_type": "stream",
          "text": [
            "Epoch [373/3000]: Train loss: 2.8607, Valid loss: 2.2836\n"
          ]
        },
        {
          "name": "stderr",
          "output_type": "stream",
          "text": [
            "Epoch [374/3000]: 100%|██████████| 9/9 [00:00<00:00, 296.25it/s, loss=2.85]\n"
          ]
        },
        {
          "name": "stdout",
          "output_type": "stream",
          "text": [
            "Epoch [374/3000]: Train loss: 2.6440, Valid loss: 2.6712\n"
          ]
        },
        {
          "name": "stderr",
          "output_type": "stream",
          "text": [
            "Epoch [375/3000]: 100%|██████████| 9/9 [00:00<00:00, 562.57it/s, loss=2.52]\n"
          ]
        },
        {
          "name": "stdout",
          "output_type": "stream",
          "text": [
            "Epoch [375/3000]: Train loss: 2.7966, Valid loss: 2.6161\n"
          ]
        },
        {
          "name": "stderr",
          "output_type": "stream",
          "text": [
            "Epoch [376/3000]: 100%|██████████| 9/9 [00:00<00:00, 518.01it/s, loss=3.13]\n"
          ]
        },
        {
          "name": "stdout",
          "output_type": "stream",
          "text": [
            "Epoch [376/3000]: Train loss: 2.6817, Valid loss: 3.4341\n"
          ]
        },
        {
          "name": "stderr",
          "output_type": "stream",
          "text": [
            "Epoch [377/3000]: 100%|██████████| 9/9 [00:00<00:00, 573.06it/s, loss=2.61]\n"
          ]
        },
        {
          "name": "stdout",
          "output_type": "stream",
          "text": [
            "Epoch [377/3000]: Train loss: 2.7244, Valid loss: 3.1865\n"
          ]
        },
        {
          "name": "stderr",
          "output_type": "stream",
          "text": [
            "Epoch [378/3000]: 100%|██████████| 9/9 [00:00<00:00, 545.94it/s, loss=3.51]\n"
          ]
        },
        {
          "name": "stdout",
          "output_type": "stream",
          "text": [
            "Epoch [378/3000]: Train loss: 2.7885, Valid loss: 2.5542\n"
          ]
        },
        {
          "name": "stderr",
          "output_type": "stream",
          "text": [
            "Epoch [379/3000]: 100%|██████████| 9/9 [00:00<00:00, 541.81it/s, loss=2.14]\n"
          ]
        },
        {
          "name": "stdout",
          "output_type": "stream",
          "text": [
            "Epoch [379/3000]: Train loss: 2.5508, Valid loss: 2.4239\n"
          ]
        },
        {
          "name": "stderr",
          "output_type": "stream",
          "text": [
            "Epoch [380/3000]: 100%|██████████| 9/9 [00:00<00:00, 541.20it/s, loss=3.67]\n"
          ]
        },
        {
          "name": "stdout",
          "output_type": "stream",
          "text": [
            "Epoch [380/3000]: Train loss: 3.0485, Valid loss: 3.1238\n"
          ]
        },
        {
          "name": "stderr",
          "output_type": "stream",
          "text": [
            "Epoch [381/3000]: 100%|██████████| 9/9 [00:00<00:00, 471.55it/s, loss=2.33]\n"
          ]
        },
        {
          "name": "stdout",
          "output_type": "stream",
          "text": [
            "Epoch [381/3000]: Train loss: 2.6937, Valid loss: 2.6435\n"
          ]
        },
        {
          "name": "stderr",
          "output_type": "stream",
          "text": [
            "Epoch [382/3000]: 100%|██████████| 9/9 [00:00<00:00, 567.86it/s, loss=2.17]\n"
          ]
        },
        {
          "name": "stdout",
          "output_type": "stream",
          "text": [
            "Epoch [382/3000]: Train loss: 2.8909, Valid loss: 3.9039\n"
          ]
        },
        {
          "name": "stderr",
          "output_type": "stream",
          "text": [
            "Epoch [383/3000]: 100%|██████████| 9/9 [00:00<00:00, 550.67it/s, loss=2.07]\n"
          ]
        },
        {
          "name": "stdout",
          "output_type": "stream",
          "text": [
            "Epoch [383/3000]: Train loss: 2.9434, Valid loss: 3.2749\n"
          ]
        },
        {
          "name": "stderr",
          "output_type": "stream",
          "text": [
            "Epoch [384/3000]: 100%|██████████| 9/9 [00:00<00:00, 494.04it/s, loss=2.23]\n"
          ]
        },
        {
          "name": "stdout",
          "output_type": "stream",
          "text": [
            "Epoch [384/3000]: Train loss: 3.0429, Valid loss: 2.8808\n"
          ]
        },
        {
          "name": "stderr",
          "output_type": "stream",
          "text": [
            "Epoch [385/3000]: 100%|██████████| 9/9 [00:00<00:00, 466.95it/s, loss=2.7]\n"
          ]
        },
        {
          "name": "stdout",
          "output_type": "stream",
          "text": [
            "Epoch [385/3000]: Train loss: 2.7237, Valid loss: 2.6418\n"
          ]
        },
        {
          "name": "stderr",
          "output_type": "stream",
          "text": [
            "Epoch [386/3000]: 100%|██████████| 9/9 [00:00<00:00, 581.92it/s, loss=2.62]\n"
          ]
        },
        {
          "name": "stdout",
          "output_type": "stream",
          "text": [
            "Epoch [386/3000]: Train loss: 2.6050, Valid loss: 2.9747\n"
          ]
        },
        {
          "name": "stderr",
          "output_type": "stream",
          "text": [
            "Epoch [387/3000]: 100%|██████████| 9/9 [00:00<00:00, 575.37it/s, loss=2.99]\n"
          ]
        },
        {
          "name": "stdout",
          "output_type": "stream",
          "text": [
            "Epoch [387/3000]: Train loss: 2.8073, Valid loss: 2.8745\n"
          ]
        },
        {
          "name": "stderr",
          "output_type": "stream",
          "text": [
            "Epoch [388/3000]: 100%|██████████| 9/9 [00:00<00:00, 499.70it/s, loss=3.02]\n"
          ]
        },
        {
          "name": "stdout",
          "output_type": "stream",
          "text": [
            "Epoch [388/3000]: Train loss: 2.9104, Valid loss: 2.4706\n"
          ]
        },
        {
          "name": "stderr",
          "output_type": "stream",
          "text": [
            "Epoch [389/3000]: 100%|██████████| 9/9 [00:00<00:00, 174.41it/s, loss=4.73]\n"
          ]
        },
        {
          "name": "stdout",
          "output_type": "stream",
          "text": [
            "Epoch [389/3000]: Train loss: 3.2995, Valid loss: 5.2086\n"
          ]
        },
        {
          "name": "stderr",
          "output_type": "stream",
          "text": [
            "Epoch [390/3000]: 100%|██████████| 9/9 [00:00<00:00, 534.67it/s, loss=2.86]\n"
          ]
        },
        {
          "name": "stdout",
          "output_type": "stream",
          "text": [
            "Epoch [390/3000]: Train loss: 3.3440, Valid loss: 3.0630\n"
          ]
        },
        {
          "name": "stderr",
          "output_type": "stream",
          "text": [
            "Epoch [391/3000]: 100%|██████████| 9/9 [00:00<00:00, 509.88it/s, loss=2.49]\n"
          ]
        },
        {
          "name": "stdout",
          "output_type": "stream",
          "text": [
            "Epoch [391/3000]: Train loss: 2.7208, Valid loss: 4.4193\n"
          ]
        },
        {
          "name": "stderr",
          "output_type": "stream",
          "text": [
            "Epoch [392/3000]: 100%|██████████| 9/9 [00:00<00:00, 555.94it/s, loss=2.88]\n"
          ]
        },
        {
          "name": "stdout",
          "output_type": "stream",
          "text": [
            "Epoch [392/3000]: Train loss: 3.4140, Valid loss: 2.4797\n"
          ]
        },
        {
          "name": "stderr",
          "output_type": "stream",
          "text": [
            "Epoch [393/3000]: 100%|██████████| 9/9 [00:00<00:00, 577.21it/s, loss=1.87]\n"
          ]
        },
        {
          "name": "stdout",
          "output_type": "stream",
          "text": [
            "Epoch [393/3000]: Train loss: 3.1353, Valid loss: 2.5280\n"
          ]
        },
        {
          "name": "stderr",
          "output_type": "stream",
          "text": [
            "Epoch [394/3000]: 100%|██████████| 9/9 [00:00<00:00, 593.24it/s, loss=3.13]\n"
          ]
        },
        {
          "name": "stdout",
          "output_type": "stream",
          "text": [
            "Epoch [394/3000]: Train loss: 2.6514, Valid loss: 3.1553\n"
          ]
        },
        {
          "name": "stderr",
          "output_type": "stream",
          "text": [
            "Epoch [395/3000]: 100%|██████████| 9/9 [00:00<00:00, 579.48it/s, loss=3.45]\n"
          ]
        },
        {
          "name": "stdout",
          "output_type": "stream",
          "text": [
            "Epoch [395/3000]: Train loss: 3.3607, Valid loss: 2.8715\n"
          ]
        },
        {
          "name": "stderr",
          "output_type": "stream",
          "text": [
            "Epoch [396/3000]: 100%|██████████| 9/9 [00:00<00:00, 587.62it/s, loss=2.65]\n"
          ]
        },
        {
          "name": "stdout",
          "output_type": "stream",
          "text": [
            "Epoch [396/3000]: Train loss: 2.8099, Valid loss: 2.7998\n"
          ]
        },
        {
          "name": "stderr",
          "output_type": "stream",
          "text": [
            "Epoch [397/3000]: 100%|██████████| 9/9 [00:00<00:00, 587.77it/s, loss=2.45]\n"
          ]
        },
        {
          "name": "stdout",
          "output_type": "stream",
          "text": [
            "Epoch [397/3000]: Train loss: 2.5018, Valid loss: 3.7371\n"
          ]
        },
        {
          "name": "stderr",
          "output_type": "stream",
          "text": [
            "Epoch [398/3000]: 100%|██████████| 9/9 [00:00<00:00, 651.42it/s, loss=3.53]\n"
          ]
        },
        {
          "name": "stdout",
          "output_type": "stream",
          "text": [
            "Epoch [398/3000]: Train loss: 2.7530, Valid loss: 6.0766\n"
          ]
        },
        {
          "name": "stderr",
          "output_type": "stream",
          "text": [
            "Epoch [399/3000]: 100%|██████████| 9/9 [00:00<00:00, 572.38it/s, loss=2.55]\n"
          ]
        },
        {
          "name": "stdout",
          "output_type": "stream",
          "text": [
            "Epoch [399/3000]: Train loss: 3.2531, Valid loss: 2.5507\n"
          ]
        },
        {
          "name": "stderr",
          "output_type": "stream",
          "text": [
            "Epoch [400/3000]: 100%|██████████| 9/9 [00:00<00:00, 608.52it/s, loss=2.36]\n"
          ]
        },
        {
          "name": "stdout",
          "output_type": "stream",
          "text": [
            "Epoch [400/3000]: Train loss: 2.5541, Valid loss: 3.7851\n"
          ]
        },
        {
          "name": "stderr",
          "output_type": "stream",
          "text": [
            "Epoch [401/3000]: 100%|██████████| 9/9 [00:00<00:00, 526.96it/s, loss=3.87]\n"
          ]
        },
        {
          "name": "stdout",
          "output_type": "stream",
          "text": [
            "Epoch [401/3000]: Train loss: 4.2058, Valid loss: 6.0892\n"
          ]
        },
        {
          "name": "stderr",
          "output_type": "stream",
          "text": [
            "Epoch [402/3000]: 100%|██████████| 9/9 [00:00<00:00, 527.06it/s, loss=4.43]\n"
          ]
        },
        {
          "name": "stdout",
          "output_type": "stream",
          "text": [
            "Epoch [402/3000]: Train loss: 3.7427, Valid loss: 3.1913\n"
          ]
        },
        {
          "name": "stderr",
          "output_type": "stream",
          "text": [
            "Epoch [403/3000]: 100%|██████████| 9/9 [00:00<00:00, 484.19it/s, loss=2.19]\n"
          ]
        },
        {
          "name": "stdout",
          "output_type": "stream",
          "text": [
            "Epoch [403/3000]: Train loss: 3.3122, Valid loss: 3.4815\n"
          ]
        },
        {
          "name": "stderr",
          "output_type": "stream",
          "text": [
            "Epoch [404/3000]: 100%|██████████| 9/9 [00:00<00:00, 363.65it/s, loss=2.52]\n"
          ]
        },
        {
          "name": "stdout",
          "output_type": "stream",
          "text": [
            "Epoch [404/3000]: Train loss: 3.8921, Valid loss: 4.5194\n"
          ]
        },
        {
          "name": "stderr",
          "output_type": "stream",
          "text": [
            "Epoch [405/3000]: 100%|██████████| 9/9 [00:00<00:00, 578.89it/s, loss=3.57]\n"
          ]
        },
        {
          "name": "stdout",
          "output_type": "stream",
          "text": [
            "Epoch [405/3000]: Train loss: 3.7850, Valid loss: 3.8762\n"
          ]
        },
        {
          "name": "stderr",
          "output_type": "stream",
          "text": [
            "Epoch [406/3000]: 100%|██████████| 9/9 [00:00<00:00, 518.11it/s, loss=5.23]\n"
          ]
        },
        {
          "name": "stdout",
          "output_type": "stream",
          "text": [
            "Epoch [406/3000]: Train loss: 4.8324, Valid loss: 5.9253\n"
          ]
        },
        {
          "name": "stderr",
          "output_type": "stream",
          "text": [
            "Epoch [407/3000]: 100%|██████████| 9/9 [00:00<00:00, 531.60it/s, loss=2.74]\n"
          ]
        },
        {
          "name": "stdout",
          "output_type": "stream",
          "text": [
            "Epoch [407/3000]: Train loss: 3.7175, Valid loss: 2.9682\n"
          ]
        },
        {
          "name": "stderr",
          "output_type": "stream",
          "text": [
            "Epoch [408/3000]: 100%|██████████| 9/9 [00:00<00:00, 370.39it/s, loss=3.71]\n"
          ]
        },
        {
          "name": "stdout",
          "output_type": "stream",
          "text": [
            "Epoch [408/3000]: Train loss: 2.9134, Valid loss: 2.4307\n"
          ]
        },
        {
          "name": "stderr",
          "output_type": "stream",
          "text": [
            "Epoch [409/3000]: 100%|██████████| 9/9 [00:00<00:00, 118.84it/s, loss=2.8]\n"
          ]
        },
        {
          "name": "stdout",
          "output_type": "stream",
          "text": [
            "Epoch [409/3000]: Train loss: 2.5262, Valid loss: 2.5315\n"
          ]
        },
        {
          "name": "stderr",
          "output_type": "stream",
          "text": [
            "Epoch [410/3000]: 100%|██████████| 9/9 [00:00<00:00, 491.51it/s, loss=1.83]\n"
          ]
        },
        {
          "name": "stdout",
          "output_type": "stream",
          "text": [
            "Epoch [410/3000]: Train loss: 2.5377, Valid loss: 2.8497\n"
          ]
        },
        {
          "name": "stderr",
          "output_type": "stream",
          "text": [
            "Epoch [411/3000]: 100%|██████████| 9/9 [00:00<00:00, 460.78it/s, loss=3.96]\n"
          ]
        },
        {
          "name": "stdout",
          "output_type": "stream",
          "text": [
            "Epoch [411/3000]: Train loss: 2.9794, Valid loss: 5.3528\n"
          ]
        },
        {
          "name": "stderr",
          "output_type": "stream",
          "text": [
            "Epoch [412/3000]: 100%|██████████| 9/9 [00:00<00:00, 490.25it/s, loss=2.78]\n"
          ]
        },
        {
          "name": "stdout",
          "output_type": "stream",
          "text": [
            "Epoch [412/3000]: Train loss: 3.2325, Valid loss: 3.6154\n"
          ]
        },
        {
          "name": "stderr",
          "output_type": "stream",
          "text": [
            "Epoch [413/3000]: 100%|██████████| 9/9 [00:00<00:00, 496.77it/s, loss=2.45]\n"
          ]
        },
        {
          "name": "stdout",
          "output_type": "stream",
          "text": [
            "Epoch [413/3000]: Train loss: 2.7584, Valid loss: 2.8340\n"
          ]
        },
        {
          "name": "stderr",
          "output_type": "stream",
          "text": [
            "Epoch [414/3000]: 100%|██████████| 9/9 [00:00<00:00, 495.27it/s, loss=2.2]\n"
          ]
        },
        {
          "name": "stdout",
          "output_type": "stream",
          "text": [
            "Epoch [414/3000]: Train loss: 2.4732, Valid loss: 2.3587\n"
          ]
        },
        {
          "name": "stderr",
          "output_type": "stream",
          "text": [
            "Epoch [415/3000]: 100%|██████████| 9/9 [00:00<00:00, 499.44it/s, loss=2.47]\n"
          ]
        },
        {
          "name": "stdout",
          "output_type": "stream",
          "text": [
            "Epoch [415/3000]: Train loss: 2.6740, Valid loss: 4.1012\n"
          ]
        },
        {
          "name": "stderr",
          "output_type": "stream",
          "text": [
            "Epoch [416/3000]: 100%|██████████| 9/9 [00:00<00:00, 484.94it/s, loss=4.84]\n"
          ]
        },
        {
          "name": "stdout",
          "output_type": "stream",
          "text": [
            "Epoch [416/3000]: Train loss: 3.8063, Valid loss: 4.0281\n"
          ]
        },
        {
          "name": "stderr",
          "output_type": "stream",
          "text": [
            "Epoch [417/3000]: 100%|██████████| 9/9 [00:00<00:00, 507.07it/s, loss=3.31]\n"
          ]
        },
        {
          "name": "stdout",
          "output_type": "stream",
          "text": [
            "Epoch [417/3000]: Train loss: 5.5322, Valid loss: 10.3527\n"
          ]
        },
        {
          "name": "stderr",
          "output_type": "stream",
          "text": [
            "Epoch [418/3000]: 100%|██████████| 9/9 [00:00<00:00, 245.93it/s, loss=3.61]\n"
          ]
        },
        {
          "name": "stdout",
          "output_type": "stream",
          "text": [
            "Epoch [418/3000]: Train loss: 6.1632, Valid loss: 9.4272\n"
          ]
        },
        {
          "name": "stderr",
          "output_type": "stream",
          "text": [
            "Epoch [419/3000]: 100%|██████████| 9/9 [00:00<00:00, 490.63it/s, loss=14.8]\n"
          ]
        },
        {
          "name": "stdout",
          "output_type": "stream",
          "text": [
            "Epoch [419/3000]: Train loss: 8.4652, Valid loss: 5.9147\n"
          ]
        },
        {
          "name": "stderr",
          "output_type": "stream",
          "text": [
            "Epoch [420/3000]: 100%|██████████| 9/9 [00:00<00:00, 542.95it/s, loss=4.06]\n"
          ]
        },
        {
          "name": "stdout",
          "output_type": "stream",
          "text": [
            "Epoch [420/3000]: Train loss: 6.0513, Valid loss: 5.4067\n"
          ]
        },
        {
          "name": "stderr",
          "output_type": "stream",
          "text": [
            "Epoch [421/3000]: 100%|██████████| 9/9 [00:00<00:00, 630.24it/s, loss=3.31]\n"
          ]
        },
        {
          "name": "stdout",
          "output_type": "stream",
          "text": [
            "Epoch [421/3000]: Train loss: 4.1012, Valid loss: 3.8390\n"
          ]
        },
        {
          "name": "stderr",
          "output_type": "stream",
          "text": [
            "Epoch [422/3000]: 100%|██████████| 9/9 [00:00<00:00, 517.87it/s, loss=3.06]\n"
          ]
        },
        {
          "name": "stdout",
          "output_type": "stream",
          "text": [
            "Epoch [422/3000]: Train loss: 3.4890, Valid loss: 3.2612\n"
          ]
        },
        {
          "name": "stderr",
          "output_type": "stream",
          "text": [
            "Epoch [423/3000]: 100%|██████████| 9/9 [00:00<00:00, 633.41it/s, loss=2.74]\n"
          ]
        },
        {
          "name": "stdout",
          "output_type": "stream",
          "text": [
            "Epoch [423/3000]: Train loss: 2.8383, Valid loss: 2.7980\n"
          ]
        },
        {
          "name": "stderr",
          "output_type": "stream",
          "text": [
            "Epoch [424/3000]: 100%|██████████| 9/9 [00:00<00:00, 606.27it/s, loss=2.63]\n"
          ]
        },
        {
          "name": "stdout",
          "output_type": "stream",
          "text": [
            "Epoch [424/3000]: Train loss: 2.7865, Valid loss: 2.7898\n"
          ]
        },
        {
          "name": "stderr",
          "output_type": "stream",
          "text": [
            "Epoch [425/3000]: 100%|██████████| 9/9 [00:00<00:00, 599.08it/s, loss=2.48]\n"
          ]
        },
        {
          "name": "stdout",
          "output_type": "stream",
          "text": [
            "Epoch [425/3000]: Train loss: 2.8385, Valid loss: 4.5137\n"
          ]
        },
        {
          "name": "stderr",
          "output_type": "stream",
          "text": [
            "Epoch [426/3000]: 100%|██████████| 9/9 [00:00<00:00, 560.50it/s, loss=3.82]\n"
          ]
        },
        {
          "name": "stdout",
          "output_type": "stream",
          "text": [
            "Epoch [426/3000]: Train loss: 3.4732, Valid loss: 2.4242\n"
          ]
        },
        {
          "name": "stderr",
          "output_type": "stream",
          "text": [
            "Epoch [427/3000]: 100%|██████████| 9/9 [00:00<00:00, 578.93it/s, loss=3.04]\n"
          ]
        },
        {
          "name": "stdout",
          "output_type": "stream",
          "text": [
            "Epoch [427/3000]: Train loss: 3.4480, Valid loss: 3.9321\n"
          ]
        },
        {
          "name": "stderr",
          "output_type": "stream",
          "text": [
            "Epoch [428/3000]: 100%|██████████| 9/9 [00:00<00:00, 577.48it/s, loss=2.57]\n"
          ]
        },
        {
          "name": "stdout",
          "output_type": "stream",
          "text": [
            "Epoch [428/3000]: Train loss: 3.1488, Valid loss: 5.8497\n"
          ]
        },
        {
          "name": "stderr",
          "output_type": "stream",
          "text": [
            "Epoch [429/3000]: 100%|██████████| 9/9 [00:00<00:00, 574.71it/s, loss=4.63]\n"
          ]
        },
        {
          "name": "stdout",
          "output_type": "stream",
          "text": [
            "Epoch [429/3000]: Train loss: 5.3145, Valid loss: 5.9102\n"
          ]
        },
        {
          "name": "stderr",
          "output_type": "stream",
          "text": [
            "Epoch [430/3000]: 100%|██████████| 9/9 [00:00<00:00, 617.07it/s, loss=5.55]\n"
          ]
        },
        {
          "name": "stdout",
          "output_type": "stream",
          "text": [
            "Epoch [430/3000]: Train loss: 5.2779, Valid loss: 4.1637\n"
          ]
        },
        {
          "name": "stderr",
          "output_type": "stream",
          "text": [
            "Epoch [431/3000]: 100%|██████████| 9/9 [00:00<00:00, 503.44it/s, loss=4.49]\n"
          ]
        },
        {
          "name": "stdout",
          "output_type": "stream",
          "text": [
            "Epoch [431/3000]: Train loss: 4.4438, Valid loss: 3.0168\n"
          ]
        },
        {
          "name": "stderr",
          "output_type": "stream",
          "text": [
            "Epoch [432/3000]: 100%|██████████| 9/9 [00:00<00:00, 308.77it/s, loss=3.12]\n"
          ]
        },
        {
          "name": "stdout",
          "output_type": "stream",
          "text": [
            "Epoch [432/3000]: Train loss: 3.0807, Valid loss: 2.9556\n"
          ]
        },
        {
          "name": "stderr",
          "output_type": "stream",
          "text": [
            "Epoch [433/3000]: 100%|██████████| 9/9 [00:00<00:00, 504.29it/s, loss=2.34]\n"
          ]
        },
        {
          "name": "stdout",
          "output_type": "stream",
          "text": [
            "Epoch [433/3000]: Train loss: 2.7588, Valid loss: 4.0923\n"
          ]
        },
        {
          "name": "stderr",
          "output_type": "stream",
          "text": [
            "Epoch [434/3000]: 100%|██████████| 9/9 [00:00<00:00, 483.59it/s, loss=2.56]\n"
          ]
        },
        {
          "name": "stdout",
          "output_type": "stream",
          "text": [
            "Epoch [434/3000]: Train loss: 2.8377, Valid loss: 3.2084\n"
          ]
        },
        {
          "name": "stderr",
          "output_type": "stream",
          "text": [
            "Epoch [435/3000]: 100%|██████████| 9/9 [00:00<00:00, 542.66it/s, loss=2.92]\n"
          ]
        },
        {
          "name": "stdout",
          "output_type": "stream",
          "text": [
            "Epoch [435/3000]: Train loss: 2.6774, Valid loss: 3.2635\n"
          ]
        },
        {
          "name": "stderr",
          "output_type": "stream",
          "text": [
            "Epoch [436/3000]: 100%|██████████| 9/9 [00:00<00:00, 552.52it/s, loss=3.6]\n"
          ]
        },
        {
          "name": "stdout",
          "output_type": "stream",
          "text": [
            "Epoch [436/3000]: Train loss: 2.6759, Valid loss: 5.0478\n"
          ]
        },
        {
          "name": "stderr",
          "output_type": "stream",
          "text": [
            "Epoch [437/3000]: 100%|██████████| 9/9 [00:00<00:00, 455.05it/s, loss=3.47]\n"
          ]
        },
        {
          "name": "stdout",
          "output_type": "stream",
          "text": [
            "Epoch [437/3000]: Train loss: 4.0253, Valid loss: 3.2004\n"
          ]
        },
        {
          "name": "stderr",
          "output_type": "stream",
          "text": [
            "Epoch [438/3000]: 100%|██████████| 9/9 [00:00<00:00, 574.34it/s, loss=3.89]\n"
          ]
        },
        {
          "name": "stdout",
          "output_type": "stream",
          "text": [
            "Epoch [438/3000]: Train loss: 3.0726, Valid loss: 4.1523\n"
          ]
        },
        {
          "name": "stderr",
          "output_type": "stream",
          "text": [
            "Epoch [439/3000]: 100%|██████████| 9/9 [00:00<00:00, 595.25it/s, loss=2.28]\n"
          ]
        },
        {
          "name": "stdout",
          "output_type": "stream",
          "text": [
            "Epoch [439/3000]: Train loss: 2.8046, Valid loss: 2.8860\n"
          ]
        },
        {
          "name": "stderr",
          "output_type": "stream",
          "text": [
            "Epoch [440/3000]: 100%|██████████| 9/9 [00:00<00:00, 502.16it/s, loss=2.21]\n"
          ]
        },
        {
          "name": "stdout",
          "output_type": "stream",
          "text": [
            "Epoch [440/3000]: Train loss: 2.5270, Valid loss: 2.3044\n"
          ]
        },
        {
          "name": "stderr",
          "output_type": "stream",
          "text": [
            "Epoch [441/3000]: 100%|██████████| 9/9 [00:00<00:00, 635.32it/s, loss=4.02]\n"
          ]
        },
        {
          "name": "stdout",
          "output_type": "stream",
          "text": [
            "Epoch [441/3000]: Train loss: 2.7061, Valid loss: 3.4532\n"
          ]
        },
        {
          "name": "stderr",
          "output_type": "stream",
          "text": [
            "Epoch [442/3000]: 100%|██████████| 9/9 [00:00<00:00, 517.90it/s, loss=2.46]\n"
          ]
        },
        {
          "name": "stdout",
          "output_type": "stream",
          "text": [
            "Epoch [442/3000]: Train loss: 2.7520, Valid loss: 2.5184\n"
          ]
        },
        {
          "name": "stderr",
          "output_type": "stream",
          "text": [
            "Epoch [443/3000]: 100%|██████████| 9/9 [00:00<00:00, 591.33it/s, loss=3.09]\n"
          ]
        },
        {
          "name": "stdout",
          "output_type": "stream",
          "text": [
            "Epoch [443/3000]: Train loss: 2.5850, Valid loss: 3.2821\n"
          ]
        },
        {
          "name": "stderr",
          "output_type": "stream",
          "text": [
            "Epoch [444/3000]: 100%|██████████| 9/9 [00:00<00:00, 625.38it/s, loss=3.16]\n"
          ]
        },
        {
          "name": "stdout",
          "output_type": "stream",
          "text": [
            "Epoch [444/3000]: Train loss: 2.7888, Valid loss: 2.9213\n"
          ]
        },
        {
          "name": "stderr",
          "output_type": "stream",
          "text": [
            "Epoch [445/3000]: 100%|██████████| 9/9 [00:00<00:00, 510.82it/s, loss=2.38]\n"
          ]
        },
        {
          "name": "stdout",
          "output_type": "stream",
          "text": [
            "Epoch [445/3000]: Train loss: 3.1522, Valid loss: 2.6310\n"
          ]
        },
        {
          "name": "stderr",
          "output_type": "stream",
          "text": [
            "Epoch [446/3000]: 100%|██████████| 9/9 [00:00<00:00, 576.33it/s, loss=2.04]\n"
          ]
        },
        {
          "name": "stdout",
          "output_type": "stream",
          "text": [
            "Epoch [446/3000]: Train loss: 2.4195, Valid loss: 2.3804\n"
          ]
        },
        {
          "name": "stderr",
          "output_type": "stream",
          "text": [
            "Epoch [447/3000]: 100%|██████████| 9/9 [00:00<00:00, 184.09it/s, loss=2.73]\n"
          ]
        },
        {
          "name": "stdout",
          "output_type": "stream",
          "text": [
            "Epoch [447/3000]: Train loss: 2.5290, Valid loss: 2.6246\n"
          ]
        },
        {
          "name": "stderr",
          "output_type": "stream",
          "text": [
            "Epoch [448/3000]: 100%|██████████| 9/9 [00:00<00:00, 632.95it/s, loss=2.73]\n"
          ]
        },
        {
          "name": "stdout",
          "output_type": "stream",
          "text": [
            "Epoch [448/3000]: Train loss: 2.4952, Valid loss: 2.8931\n"
          ]
        },
        {
          "name": "stderr",
          "output_type": "stream",
          "text": [
            "Epoch [449/3000]: 100%|██████████| 9/9 [00:00<00:00, 568.93it/s, loss=2.13]\n"
          ]
        },
        {
          "name": "stdout",
          "output_type": "stream",
          "text": [
            "Epoch [449/3000]: Train loss: 2.8239, Valid loss: 2.4546\n"
          ]
        },
        {
          "name": "stderr",
          "output_type": "stream",
          "text": [
            "Epoch [450/3000]: 100%|██████████| 9/9 [00:00<00:00, 563.56it/s, loss=2.58]\n"
          ]
        },
        {
          "name": "stdout",
          "output_type": "stream",
          "text": [
            "Epoch [450/3000]: Train loss: 2.5909, Valid loss: 3.3677\n"
          ]
        },
        {
          "name": "stderr",
          "output_type": "stream",
          "text": [
            "Epoch [451/3000]: 100%|██████████| 9/9 [00:00<00:00, 496.17it/s, loss=2.82]\n"
          ]
        },
        {
          "name": "stdout",
          "output_type": "stream",
          "text": [
            "Epoch [451/3000]: Train loss: 3.1150, Valid loss: 2.6039\n"
          ]
        },
        {
          "name": "stderr",
          "output_type": "stream",
          "text": [
            "Epoch [452/3000]: 100%|██████████| 9/9 [00:00<00:00, 536.39it/s, loss=2.41]\n"
          ]
        },
        {
          "name": "stdout",
          "output_type": "stream",
          "text": [
            "Epoch [452/3000]: Train loss: 2.5436, Valid loss: 2.4124\n"
          ]
        },
        {
          "name": "stderr",
          "output_type": "stream",
          "text": [
            "Epoch [453/3000]: 100%|██████████| 9/9 [00:00<00:00, 618.81it/s, loss=3.2]\n"
          ]
        },
        {
          "name": "stdout",
          "output_type": "stream",
          "text": [
            "Epoch [453/3000]: Train loss: 2.8855, Valid loss: 4.9990\n"
          ]
        },
        {
          "name": "stderr",
          "output_type": "stream",
          "text": [
            "Epoch [454/3000]: 100%|██████████| 9/9 [00:00<00:00, 552.56it/s, loss=2.14]\n"
          ]
        },
        {
          "name": "stdout",
          "output_type": "stream",
          "text": [
            "Epoch [454/3000]: Train loss: 3.2533, Valid loss: 3.6074\n"
          ]
        },
        {
          "name": "stderr",
          "output_type": "stream",
          "text": [
            "Epoch [455/3000]: 100%|██████████| 9/9 [00:00<00:00, 643.50it/s, loss=3.42]\n"
          ]
        },
        {
          "name": "stdout",
          "output_type": "stream",
          "text": [
            "Epoch [455/3000]: Train loss: 3.3458, Valid loss: 3.0222\n"
          ]
        },
        {
          "name": "stderr",
          "output_type": "stream",
          "text": [
            "Epoch [456/3000]: 100%|██████████| 9/9 [00:00<00:00, 607.52it/s, loss=2.72]\n"
          ]
        },
        {
          "name": "stdout",
          "output_type": "stream",
          "text": [
            "Epoch [456/3000]: Train loss: 2.8942, Valid loss: 3.1654\n"
          ]
        },
        {
          "name": "stderr",
          "output_type": "stream",
          "text": [
            "Epoch [457/3000]: 100%|██████████| 9/9 [00:00<00:00, 512.88it/s, loss=1.95]\n"
          ]
        },
        {
          "name": "stdout",
          "output_type": "stream",
          "text": [
            "Epoch [457/3000]: Train loss: 2.4944, Valid loss: 2.5849\n"
          ]
        },
        {
          "name": "stderr",
          "output_type": "stream",
          "text": [
            "Epoch [458/3000]: 100%|██████████| 9/9 [00:00<00:00, 673.75it/s, loss=2.9]\n"
          ]
        },
        {
          "name": "stdout",
          "output_type": "stream",
          "text": [
            "Epoch [458/3000]: Train loss: 2.6134, Valid loss: 3.3161\n"
          ]
        },
        {
          "name": "stderr",
          "output_type": "stream",
          "text": [
            "Epoch [459/3000]: 100%|██████████| 9/9 [00:00<00:00, 508.50it/s, loss=2.4]\n"
          ]
        },
        {
          "name": "stdout",
          "output_type": "stream",
          "text": [
            "Epoch [459/3000]: Train loss: 2.5954, Valid loss: 2.5872\n"
          ]
        },
        {
          "name": "stderr",
          "output_type": "stream",
          "text": [
            "Epoch [460/3000]: 100%|██████████| 9/9 [00:00<00:00, 487.46it/s, loss=1.9]\n"
          ]
        },
        {
          "name": "stdout",
          "output_type": "stream",
          "text": [
            "Epoch [460/3000]: Train loss: 2.3457, Valid loss: 2.5138\n"
          ]
        },
        {
          "name": "stderr",
          "output_type": "stream",
          "text": [
            "Epoch [461/3000]: 100%|██████████| 9/9 [00:00<00:00, 369.38it/s, loss=1.92]\n"
          ]
        },
        {
          "name": "stdout",
          "output_type": "stream",
          "text": [
            "Epoch [461/3000]: Train loss: 2.4799, Valid loss: 3.2419\n"
          ]
        },
        {
          "name": "stderr",
          "output_type": "stream",
          "text": [
            "Epoch [462/3000]: 100%|██████████| 9/9 [00:00<00:00, 611.38it/s, loss=2.68]\n"
          ]
        },
        {
          "name": "stdout",
          "output_type": "stream",
          "text": [
            "Epoch [462/3000]: Train loss: 2.8255, Valid loss: 2.4188\n"
          ]
        },
        {
          "name": "stderr",
          "output_type": "stream",
          "text": [
            "Epoch [463/3000]: 100%|██████████| 9/9 [00:00<00:00, 520.39it/s, loss=3.19]\n"
          ]
        },
        {
          "name": "stdout",
          "output_type": "stream",
          "text": [
            "Epoch [463/3000]: Train loss: 2.5459, Valid loss: 2.6387\n"
          ]
        },
        {
          "name": "stderr",
          "output_type": "stream",
          "text": [
            "Epoch [464/3000]: 100%|██████████| 9/9 [00:00<00:00, 582.03it/s, loss=1.6]\n"
          ]
        },
        {
          "name": "stdout",
          "output_type": "stream",
          "text": [
            "Epoch [464/3000]: Train loss: 2.7072, Valid loss: 5.1316\n"
          ]
        },
        {
          "name": "stderr",
          "output_type": "stream",
          "text": [
            "Epoch [465/3000]: 100%|██████████| 9/9 [00:00<00:00, 605.54it/s, loss=6.58]\n"
          ]
        },
        {
          "name": "stdout",
          "output_type": "stream",
          "text": [
            "Epoch [465/3000]: Train loss: 4.0790, Valid loss: 3.0834\n"
          ]
        },
        {
          "name": "stderr",
          "output_type": "stream",
          "text": [
            "Epoch [466/3000]: 100%|██████████| 9/9 [00:00<00:00, 592.93it/s, loss=2.46]\n"
          ]
        },
        {
          "name": "stdout",
          "output_type": "stream",
          "text": [
            "Epoch [466/3000]: Train loss: 2.8295, Valid loss: 2.3778\n"
          ]
        },
        {
          "name": "stderr",
          "output_type": "stream",
          "text": [
            "Epoch [467/3000]: 100%|██████████| 9/9 [00:00<00:00, 594.96it/s, loss=1.97]\n"
          ]
        },
        {
          "name": "stdout",
          "output_type": "stream",
          "text": [
            "Epoch [467/3000]: Train loss: 2.5209, Valid loss: 2.9436\n"
          ]
        },
        {
          "name": "stderr",
          "output_type": "stream",
          "text": [
            "Epoch [468/3000]: 100%|██████████| 9/9 [00:00<00:00, 513.41it/s, loss=2.53]\n"
          ]
        },
        {
          "name": "stdout",
          "output_type": "stream",
          "text": [
            "Epoch [468/3000]: Train loss: 2.6198, Valid loss: 3.1587\n"
          ]
        },
        {
          "name": "stderr",
          "output_type": "stream",
          "text": [
            "Epoch [469/3000]: 100%|██████████| 9/9 [00:00<00:00, 634.66it/s, loss=2.06]\n"
          ]
        },
        {
          "name": "stdout",
          "output_type": "stream",
          "text": [
            "Epoch [469/3000]: Train loss: 2.5277, Valid loss: 2.2697\n",
            "Saving model with loss 2.270...\n"
          ]
        },
        {
          "name": "stderr",
          "output_type": "stream",
          "text": [
            "Epoch [470/3000]: 100%|██████████| 9/9 [00:00<00:00, 497.93it/s, loss=3.23]\n"
          ]
        },
        {
          "name": "stdout",
          "output_type": "stream",
          "text": [
            "Epoch [470/3000]: Train loss: 2.4929, Valid loss: 3.5911\n"
          ]
        },
        {
          "name": "stderr",
          "output_type": "stream",
          "text": [
            "Epoch [471/3000]: 100%|██████████| 9/9 [00:00<00:00, 585.06it/s, loss=2.17]\n"
          ]
        },
        {
          "name": "stdout",
          "output_type": "stream",
          "text": [
            "Epoch [471/3000]: Train loss: 3.0863, Valid loss: 2.3494\n"
          ]
        },
        {
          "name": "stderr",
          "output_type": "stream",
          "text": [
            "Epoch [472/3000]: 100%|██████████| 9/9 [00:00<00:00, 625.12it/s, loss=3.38]\n"
          ]
        },
        {
          "name": "stdout",
          "output_type": "stream",
          "text": [
            "Epoch [472/3000]: Train loss: 2.8342, Valid loss: 2.8280\n"
          ]
        },
        {
          "name": "stderr",
          "output_type": "stream",
          "text": [
            "Epoch [473/3000]: 100%|██████████| 9/9 [00:00<00:00, 585.98it/s, loss=3.03]\n"
          ]
        },
        {
          "name": "stdout",
          "output_type": "stream",
          "text": [
            "Epoch [473/3000]: Train loss: 2.5371, Valid loss: 5.0910\n"
          ]
        },
        {
          "name": "stderr",
          "output_type": "stream",
          "text": [
            "Epoch [474/3000]: 100%|██████████| 9/9 [00:00<00:00, 643.37it/s, loss=3.55]\n"
          ]
        },
        {
          "name": "stdout",
          "output_type": "stream",
          "text": [
            "Epoch [474/3000]: Train loss: 2.7740, Valid loss: 2.4120\n"
          ]
        },
        {
          "name": "stderr",
          "output_type": "stream",
          "text": [
            "Epoch [475/3000]: 100%|██████████| 9/9 [00:00<00:00, 218.14it/s, loss=2.18]\n"
          ]
        },
        {
          "name": "stdout",
          "output_type": "stream",
          "text": [
            "Epoch [475/3000]: Train loss: 2.6913, Valid loss: 2.9789\n"
          ]
        },
        {
          "name": "stderr",
          "output_type": "stream",
          "text": [
            "Epoch [476/3000]: 100%|██████████| 9/9 [00:00<00:00, 541.36it/s, loss=4.17]\n"
          ]
        },
        {
          "name": "stdout",
          "output_type": "stream",
          "text": [
            "Epoch [476/3000]: Train loss: 3.0231, Valid loss: 3.3674\n"
          ]
        },
        {
          "name": "stderr",
          "output_type": "stream",
          "text": [
            "Epoch [477/3000]: 100%|██████████| 9/9 [00:00<00:00, 476.90it/s, loss=3.76]\n"
          ]
        },
        {
          "name": "stdout",
          "output_type": "stream",
          "text": [
            "Epoch [477/3000]: Train loss: 2.9600, Valid loss: 3.1233\n"
          ]
        },
        {
          "name": "stderr",
          "output_type": "stream",
          "text": [
            "Epoch [478/3000]: 100%|██████████| 9/9 [00:00<00:00, 675.52it/s, loss=2.71]\n"
          ]
        },
        {
          "name": "stdout",
          "output_type": "stream",
          "text": [
            "Epoch [478/3000]: Train loss: 2.5229, Valid loss: 3.0356\n"
          ]
        },
        {
          "name": "stderr",
          "output_type": "stream",
          "text": [
            "Epoch [479/3000]: 100%|██████████| 9/9 [00:00<00:00, 527.83it/s, loss=2.48]\n"
          ]
        },
        {
          "name": "stdout",
          "output_type": "stream",
          "text": [
            "Epoch [479/3000]: Train loss: 2.6483, Valid loss: 2.4527\n"
          ]
        },
        {
          "name": "stderr",
          "output_type": "stream",
          "text": [
            "Epoch [480/3000]: 100%|██████████| 9/9 [00:00<00:00, 500.61it/s, loss=2.73]\n"
          ]
        },
        {
          "name": "stdout",
          "output_type": "stream",
          "text": [
            "Epoch [480/3000]: Train loss: 2.8434, Valid loss: 4.5054\n"
          ]
        },
        {
          "name": "stderr",
          "output_type": "stream",
          "text": [
            "Epoch [481/3000]: 100%|██████████| 9/9 [00:00<00:00, 584.23it/s, loss=3.81]\n"
          ]
        },
        {
          "name": "stdout",
          "output_type": "stream",
          "text": [
            "Epoch [481/3000]: Train loss: 3.2711, Valid loss: 3.4030\n"
          ]
        },
        {
          "name": "stderr",
          "output_type": "stream",
          "text": [
            "Epoch [482/3000]: 100%|██████████| 9/9 [00:00<00:00, 480.84it/s, loss=2.87]\n"
          ]
        },
        {
          "name": "stdout",
          "output_type": "stream",
          "text": [
            "Epoch [482/3000]: Train loss: 3.2871, Valid loss: 5.3654\n"
          ]
        },
        {
          "name": "stderr",
          "output_type": "stream",
          "text": [
            "Epoch [483/3000]: 100%|██████████| 9/9 [00:00<00:00, 618.18it/s, loss=2.15]\n"
          ]
        },
        {
          "name": "stdout",
          "output_type": "stream",
          "text": [
            "Epoch [483/3000]: Train loss: 3.3611, Valid loss: 3.4139\n"
          ]
        },
        {
          "name": "stderr",
          "output_type": "stream",
          "text": [
            "Epoch [484/3000]: 100%|██████████| 9/9 [00:00<00:00, 547.12it/s, loss=3.17]\n"
          ]
        },
        {
          "name": "stdout",
          "output_type": "stream",
          "text": [
            "Epoch [484/3000]: Train loss: 3.1389, Valid loss: 5.2997\n"
          ]
        },
        {
          "name": "stderr",
          "output_type": "stream",
          "text": [
            "Epoch [485/3000]: 100%|██████████| 9/9 [00:00<00:00, 554.59it/s, loss=2.87]\n"
          ]
        },
        {
          "name": "stdout",
          "output_type": "stream",
          "text": [
            "Epoch [485/3000]: Train loss: 3.5136, Valid loss: 5.5163\n"
          ]
        },
        {
          "name": "stderr",
          "output_type": "stream",
          "text": [
            "Epoch [486/3000]: 100%|██████████| 9/9 [00:00<00:00, 124.55it/s, loss=3.93]\n"
          ]
        },
        {
          "name": "stdout",
          "output_type": "stream",
          "text": [
            "Epoch [486/3000]: Train loss: 4.4847, Valid loss: 3.3015\n"
          ]
        },
        {
          "name": "stderr",
          "output_type": "stream",
          "text": [
            "Epoch [487/3000]: 100%|██████████| 9/9 [00:00<00:00, 548.91it/s, loss=2.64]\n"
          ]
        },
        {
          "name": "stdout",
          "output_type": "stream",
          "text": [
            "Epoch [487/3000]: Train loss: 3.3334, Valid loss: 4.1542\n"
          ]
        },
        {
          "name": "stderr",
          "output_type": "stream",
          "text": [
            "Epoch [488/3000]: 100%|██████████| 9/9 [00:00<00:00, 170.45it/s, loss=2.59]\n"
          ]
        },
        {
          "name": "stdout",
          "output_type": "stream",
          "text": [
            "Epoch [488/3000]: Train loss: 2.4686, Valid loss: 2.1789\n",
            "Saving model with loss 2.179...\n"
          ]
        },
        {
          "name": "stderr",
          "output_type": "stream",
          "text": [
            "Epoch [489/3000]: 100%|██████████| 9/9 [00:00<00:00, 551.95it/s, loss=3.07]\n"
          ]
        },
        {
          "name": "stdout",
          "output_type": "stream",
          "text": [
            "Epoch [489/3000]: Train loss: 2.9708, Valid loss: 2.4190\n"
          ]
        },
        {
          "name": "stderr",
          "output_type": "stream",
          "text": [
            "Epoch [490/3000]: 100%|██████████| 9/9 [00:00<00:00, 547.14it/s, loss=3.04]\n"
          ]
        },
        {
          "name": "stdout",
          "output_type": "stream",
          "text": [
            "Epoch [490/3000]: Train loss: 3.4127, Valid loss: 4.0980\n"
          ]
        },
        {
          "name": "stderr",
          "output_type": "stream",
          "text": [
            "Epoch [491/3000]: 100%|██████████| 9/9 [00:00<00:00, 502.85it/s, loss=3.93]\n"
          ]
        },
        {
          "name": "stdout",
          "output_type": "stream",
          "text": [
            "Epoch [491/3000]: Train loss: 3.4289, Valid loss: 2.0683\n",
            "Saving model with loss 2.068...\n"
          ]
        },
        {
          "name": "stderr",
          "output_type": "stream",
          "text": [
            "Epoch [492/3000]: 100%|██████████| 9/9 [00:00<00:00, 574.31it/s, loss=2.78]\n"
          ]
        },
        {
          "name": "stdout",
          "output_type": "stream",
          "text": [
            "Epoch [492/3000]: Train loss: 3.0049, Valid loss: 4.2401\n"
          ]
        },
        {
          "name": "stderr",
          "output_type": "stream",
          "text": [
            "Epoch [493/3000]: 100%|██████████| 9/9 [00:00<00:00, 512.93it/s, loss=2.28]\n"
          ]
        },
        {
          "name": "stdout",
          "output_type": "stream",
          "text": [
            "Epoch [493/3000]: Train loss: 2.5959, Valid loss: 3.4268\n"
          ]
        },
        {
          "name": "stderr",
          "output_type": "stream",
          "text": [
            "Epoch [494/3000]: 100%|██████████| 9/9 [00:00<00:00, 560.96it/s, loss=4.14]\n"
          ]
        },
        {
          "name": "stdout",
          "output_type": "stream",
          "text": [
            "Epoch [494/3000]: Train loss: 3.0714, Valid loss: 2.6709\n"
          ]
        },
        {
          "name": "stderr",
          "output_type": "stream",
          "text": [
            "Epoch [495/3000]: 100%|██████████| 9/9 [00:00<00:00, 480.92it/s, loss=3.76]\n"
          ]
        },
        {
          "name": "stdout",
          "output_type": "stream",
          "text": [
            "Epoch [495/3000]: Train loss: 3.2129, Valid loss: 3.1140\n"
          ]
        },
        {
          "name": "stderr",
          "output_type": "stream",
          "text": [
            "Epoch [496/3000]: 100%|██████████| 9/9 [00:00<00:00, 522.59it/s, loss=2.82]\n"
          ]
        },
        {
          "name": "stdout",
          "output_type": "stream",
          "text": [
            "Epoch [496/3000]: Train loss: 2.6695, Valid loss: 2.9405\n"
          ]
        },
        {
          "name": "stderr",
          "output_type": "stream",
          "text": [
            "Epoch [497/3000]: 100%|██████████| 9/9 [00:00<00:00, 636.50it/s, loss=3.53]\n"
          ]
        },
        {
          "name": "stdout",
          "output_type": "stream",
          "text": [
            "Epoch [497/3000]: Train loss: 2.5224, Valid loss: 2.5662\n"
          ]
        },
        {
          "name": "stderr",
          "output_type": "stream",
          "text": [
            "Epoch [498/3000]: 100%|██████████| 9/9 [00:00<00:00, 577.33it/s, loss=2.35]\n"
          ]
        },
        {
          "name": "stdout",
          "output_type": "stream",
          "text": [
            "Epoch [498/3000]: Train loss: 2.5946, Valid loss: 2.5911\n"
          ]
        },
        {
          "name": "stderr",
          "output_type": "stream",
          "text": [
            "Epoch [499/3000]: 100%|██████████| 9/9 [00:00<00:00, 559.04it/s, loss=1.68]\n"
          ]
        },
        {
          "name": "stdout",
          "output_type": "stream",
          "text": [
            "Epoch [499/3000]: Train loss: 2.2370, Valid loss: 2.2885\n"
          ]
        },
        {
          "name": "stderr",
          "output_type": "stream",
          "text": [
            "Epoch [500/3000]: 100%|██████████| 9/9 [00:00<00:00, 587.73it/s, loss=2.72]\n"
          ]
        },
        {
          "name": "stdout",
          "output_type": "stream",
          "text": [
            "Epoch [500/3000]: Train loss: 2.3407, Valid loss: 2.4488\n"
          ]
        },
        {
          "name": "stderr",
          "output_type": "stream",
          "text": [
            "Epoch [501/3000]: 100%|██████████| 9/9 [00:00<00:00, 567.94it/s, loss=2.07]\n"
          ]
        },
        {
          "name": "stdout",
          "output_type": "stream",
          "text": [
            "Epoch [501/3000]: Train loss: 2.3479, Valid loss: 2.5140\n"
          ]
        },
        {
          "name": "stderr",
          "output_type": "stream",
          "text": [
            "Epoch [502/3000]: 100%|██████████| 9/9 [00:00<00:00, 660.25it/s, loss=2.35]\n"
          ]
        },
        {
          "name": "stdout",
          "output_type": "stream",
          "text": [
            "Epoch [502/3000]: Train loss: 3.0792, Valid loss: 4.5091\n"
          ]
        },
        {
          "name": "stderr",
          "output_type": "stream",
          "text": [
            "Epoch [503/3000]: 100%|██████████| 9/9 [00:00<00:00, 358.48it/s, loss=2.81]\n"
          ]
        },
        {
          "name": "stdout",
          "output_type": "stream",
          "text": [
            "Epoch [503/3000]: Train loss: 2.9627, Valid loss: 2.4260\n"
          ]
        },
        {
          "name": "stderr",
          "output_type": "stream",
          "text": [
            "Epoch [504/3000]: 100%|██████████| 9/9 [00:00<00:00, 629.76it/s, loss=2.74]\n"
          ]
        },
        {
          "name": "stdout",
          "output_type": "stream",
          "text": [
            "Epoch [504/3000]: Train loss: 2.4853, Valid loss: 2.2302\n"
          ]
        },
        {
          "name": "stderr",
          "output_type": "stream",
          "text": [
            "Epoch [505/3000]: 100%|██████████| 9/9 [00:00<00:00, 629.19it/s, loss=2.26]\n"
          ]
        },
        {
          "name": "stdout",
          "output_type": "stream",
          "text": [
            "Epoch [505/3000]: Train loss: 2.4038, Valid loss: 5.6218\n"
          ]
        },
        {
          "name": "stderr",
          "output_type": "stream",
          "text": [
            "Epoch [506/3000]: 100%|██████████| 9/9 [00:00<00:00, 655.64it/s, loss=2.87]\n"
          ]
        },
        {
          "name": "stdout",
          "output_type": "stream",
          "text": [
            "Epoch [506/3000]: Train loss: 2.9096, Valid loss: 3.8587\n"
          ]
        },
        {
          "name": "stderr",
          "output_type": "stream",
          "text": [
            "Epoch [507/3000]: 100%|██████████| 9/9 [00:00<00:00, 522.79it/s, loss=3.11]\n"
          ]
        },
        {
          "name": "stdout",
          "output_type": "stream",
          "text": [
            "Epoch [507/3000]: Train loss: 2.8969, Valid loss: 2.6092\n"
          ]
        },
        {
          "name": "stderr",
          "output_type": "stream",
          "text": [
            "Epoch [508/3000]: 100%|██████████| 9/9 [00:00<00:00, 570.31it/s, loss=3.01]\n"
          ]
        },
        {
          "name": "stdout",
          "output_type": "stream",
          "text": [
            "Epoch [508/3000]: Train loss: 2.8467, Valid loss: 2.9189\n"
          ]
        },
        {
          "name": "stderr",
          "output_type": "stream",
          "text": [
            "Epoch [509/3000]: 100%|██████████| 9/9 [00:00<00:00, 533.11it/s, loss=3.21]\n"
          ]
        },
        {
          "name": "stdout",
          "output_type": "stream",
          "text": [
            "Epoch [509/3000]: Train loss: 3.0251, Valid loss: 3.5185\n"
          ]
        },
        {
          "name": "stderr",
          "output_type": "stream",
          "text": [
            "Epoch [510/3000]: 100%|██████████| 9/9 [00:00<00:00, 563.88it/s, loss=5.75]\n"
          ]
        },
        {
          "name": "stdout",
          "output_type": "stream",
          "text": [
            "Epoch [510/3000]: Train loss: 3.5474, Valid loss: 3.0350\n"
          ]
        },
        {
          "name": "stderr",
          "output_type": "stream",
          "text": [
            "Epoch [511/3000]: 100%|██████████| 9/9 [00:00<00:00, 548.18it/s, loss=2.11]\n"
          ]
        },
        {
          "name": "stdout",
          "output_type": "stream",
          "text": [
            "Epoch [511/3000]: Train loss: 2.9743, Valid loss: 3.2516\n"
          ]
        },
        {
          "name": "stderr",
          "output_type": "stream",
          "text": [
            "Epoch [512/3000]: 100%|██████████| 9/9 [00:00<00:00, 525.21it/s, loss=3.04]\n"
          ]
        },
        {
          "name": "stdout",
          "output_type": "stream",
          "text": [
            "Epoch [512/3000]: Train loss: 3.1052, Valid loss: 2.6250\n"
          ]
        },
        {
          "name": "stderr",
          "output_type": "stream",
          "text": [
            "Epoch [513/3000]: 100%|██████████| 9/9 [00:00<00:00, 615.64it/s, loss=4.69]\n"
          ]
        },
        {
          "name": "stdout",
          "output_type": "stream",
          "text": [
            "Epoch [513/3000]: Train loss: 2.9394, Valid loss: 2.3352\n"
          ]
        },
        {
          "name": "stderr",
          "output_type": "stream",
          "text": [
            "Epoch [514/3000]: 100%|██████████| 9/9 [00:00<00:00, 584.26it/s, loss=1.64]\n"
          ]
        },
        {
          "name": "stdout",
          "output_type": "stream",
          "text": [
            "Epoch [514/3000]: Train loss: 2.5546, Valid loss: 3.3842\n"
          ]
        },
        {
          "name": "stderr",
          "output_type": "stream",
          "text": [
            "Epoch [515/3000]: 100%|██████████| 9/9 [00:00<00:00, 683.42it/s, loss=2.07]\n"
          ]
        },
        {
          "name": "stdout",
          "output_type": "stream",
          "text": [
            "Epoch [515/3000]: Train loss: 2.7683, Valid loss: 2.6974\n"
          ]
        },
        {
          "name": "stderr",
          "output_type": "stream",
          "text": [
            "Epoch [516/3000]: 100%|██████████| 9/9 [00:00<00:00, 508.65it/s, loss=2.87]\n"
          ]
        },
        {
          "name": "stdout",
          "output_type": "stream",
          "text": [
            "Epoch [516/3000]: Train loss: 2.3477, Valid loss: 3.6885\n"
          ]
        },
        {
          "name": "stderr",
          "output_type": "stream",
          "text": [
            "Epoch [517/3000]: 100%|██████████| 9/9 [00:00<00:00, 590.78it/s, loss=2.24]\n"
          ]
        },
        {
          "name": "stdout",
          "output_type": "stream",
          "text": [
            "Epoch [517/3000]: Train loss: 2.9120, Valid loss: 2.5843\n"
          ]
        },
        {
          "name": "stderr",
          "output_type": "stream",
          "text": [
            "Epoch [518/3000]: 100%|██████████| 9/9 [00:00<00:00, 588.85it/s, loss=2.04]\n"
          ]
        },
        {
          "name": "stdout",
          "output_type": "stream",
          "text": [
            "Epoch [518/3000]: Train loss: 2.4886, Valid loss: 2.2069\n"
          ]
        },
        {
          "name": "stderr",
          "output_type": "stream",
          "text": [
            "Epoch [519/3000]: 100%|██████████| 9/9 [00:00<00:00, 483.87it/s, loss=1.93]\n"
          ]
        },
        {
          "name": "stdout",
          "output_type": "stream",
          "text": [
            "Epoch [519/3000]: Train loss: 2.4191, Valid loss: 3.1534\n"
          ]
        },
        {
          "name": "stderr",
          "output_type": "stream",
          "text": [
            "Epoch [520/3000]: 100%|██████████| 9/9 [00:00<00:00, 571.07it/s, loss=2.74]\n"
          ]
        },
        {
          "name": "stdout",
          "output_type": "stream",
          "text": [
            "Epoch [520/3000]: Train loss: 2.8696, Valid loss: 2.5759\n"
          ]
        },
        {
          "name": "stderr",
          "output_type": "stream",
          "text": [
            "Epoch [521/3000]: 100%|██████████| 9/9 [00:00<00:00, 557.73it/s, loss=2.39]\n"
          ]
        },
        {
          "name": "stdout",
          "output_type": "stream",
          "text": [
            "Epoch [521/3000]: Train loss: 2.3033, Valid loss: 2.3734\n"
          ]
        },
        {
          "name": "stderr",
          "output_type": "stream",
          "text": [
            "Epoch [522/3000]: 100%|██████████| 9/9 [00:00<00:00, 233.40it/s, loss=3.49]\n"
          ]
        },
        {
          "name": "stdout",
          "output_type": "stream",
          "text": [
            "Epoch [522/3000]: Train loss: 2.5073, Valid loss: 3.1150\n"
          ]
        },
        {
          "name": "stderr",
          "output_type": "stream",
          "text": [
            "Epoch [523/3000]: 100%|██████████| 9/9 [00:00<00:00, 369.04it/s, loss=2.6]\n"
          ]
        },
        {
          "name": "stdout",
          "output_type": "stream",
          "text": [
            "Epoch [523/3000]: Train loss: 2.4691, Valid loss: 2.2689\n"
          ]
        },
        {
          "name": "stderr",
          "output_type": "stream",
          "text": [
            "Epoch [524/3000]: 100%|██████████| 9/9 [00:00<00:00, 542.46it/s, loss=2.32]\n"
          ]
        },
        {
          "name": "stdout",
          "output_type": "stream",
          "text": [
            "Epoch [524/3000]: Train loss: 2.3036, Valid loss: 3.4896\n"
          ]
        },
        {
          "name": "stderr",
          "output_type": "stream",
          "text": [
            "Epoch [525/3000]: 100%|██████████| 9/9 [00:00<00:00, 600.56it/s, loss=5.26]\n"
          ]
        },
        {
          "name": "stdout",
          "output_type": "stream",
          "text": [
            "Epoch [525/3000]: Train loss: 3.6412, Valid loss: 2.7178\n"
          ]
        },
        {
          "name": "stderr",
          "output_type": "stream",
          "text": [
            "Epoch [526/3000]: 100%|██████████| 9/9 [00:00<00:00, 536.46it/s, loss=2.73]\n"
          ]
        },
        {
          "name": "stdout",
          "output_type": "stream",
          "text": [
            "Epoch [526/3000]: Train loss: 3.4914, Valid loss: 2.6656\n"
          ]
        },
        {
          "name": "stderr",
          "output_type": "stream",
          "text": [
            "Epoch [527/3000]: 100%|██████████| 9/9 [00:00<00:00, 608.64it/s, loss=2.33]\n"
          ]
        },
        {
          "name": "stdout",
          "output_type": "stream",
          "text": [
            "Epoch [527/3000]: Train loss: 2.7652, Valid loss: 3.3728\n"
          ]
        },
        {
          "name": "stderr",
          "output_type": "stream",
          "text": [
            "Epoch [528/3000]: 100%|██████████| 9/9 [00:00<00:00, 509.48it/s, loss=2.65]\n"
          ]
        },
        {
          "name": "stdout",
          "output_type": "stream",
          "text": [
            "Epoch [528/3000]: Train loss: 2.5772, Valid loss: 2.9756\n"
          ]
        },
        {
          "name": "stderr",
          "output_type": "stream",
          "text": [
            "Epoch [529/3000]: 100%|██████████| 9/9 [00:00<00:00, 544.90it/s, loss=2.89]\n"
          ]
        },
        {
          "name": "stdout",
          "output_type": "stream",
          "text": [
            "Epoch [529/3000]: Train loss: 2.3509, Valid loss: 3.2782\n"
          ]
        },
        {
          "name": "stderr",
          "output_type": "stream",
          "text": [
            "Epoch [530/3000]: 100%|██████████| 9/9 [00:00<00:00, 627.74it/s, loss=2.61]\n"
          ]
        },
        {
          "name": "stdout",
          "output_type": "stream",
          "text": [
            "Epoch [530/3000]: Train loss: 2.7514, Valid loss: 2.7424\n"
          ]
        },
        {
          "name": "stderr",
          "output_type": "stream",
          "text": [
            "Epoch [531/3000]: 100%|██████████| 9/9 [00:00<00:00, 582.03it/s, loss=3.25]\n"
          ]
        },
        {
          "name": "stdout",
          "output_type": "stream",
          "text": [
            "Epoch [531/3000]: Train loss: 2.6242, Valid loss: 5.8953\n"
          ]
        },
        {
          "name": "stderr",
          "output_type": "stream",
          "text": [
            "Epoch [532/3000]: 100%|██████████| 9/9 [00:00<00:00, 592.43it/s, loss=3]\n"
          ]
        },
        {
          "name": "stdout",
          "output_type": "stream",
          "text": [
            "Epoch [532/3000]: Train loss: 4.1403, Valid loss: 2.9061\n"
          ]
        },
        {
          "name": "stderr",
          "output_type": "stream",
          "text": [
            "Epoch [533/3000]: 100%|██████████| 9/9 [00:00<00:00, 544.93it/s, loss=4.22]\n"
          ]
        },
        {
          "name": "stdout",
          "output_type": "stream",
          "text": [
            "Epoch [533/3000]: Train loss: 3.3917, Valid loss: 5.0707\n"
          ]
        },
        {
          "name": "stderr",
          "output_type": "stream",
          "text": [
            "Epoch [534/3000]: 100%|██████████| 9/9 [00:00<00:00, 667.12it/s, loss=2.53]\n"
          ]
        },
        {
          "name": "stdout",
          "output_type": "stream",
          "text": [
            "Epoch [534/3000]: Train loss: 2.9740, Valid loss: 4.7853\n"
          ]
        },
        {
          "name": "stderr",
          "output_type": "stream",
          "text": [
            "Epoch [535/3000]: 100%|██████████| 9/9 [00:00<00:00, 223.96it/s, loss=4.67]\n"
          ]
        },
        {
          "name": "stdout",
          "output_type": "stream",
          "text": [
            "Epoch [535/3000]: Train loss: 4.3443, Valid loss: 2.9285\n"
          ]
        },
        {
          "name": "stderr",
          "output_type": "stream",
          "text": [
            "Epoch [536/3000]: 100%|██████████| 9/9 [00:00<00:00, 528.35it/s, loss=6.21]\n"
          ]
        },
        {
          "name": "stdout",
          "output_type": "stream",
          "text": [
            "Epoch [536/3000]: Train loss: 3.3785, Valid loss: 5.7170\n"
          ]
        },
        {
          "name": "stderr",
          "output_type": "stream",
          "text": [
            "Epoch [537/3000]: 100%|██████████| 9/9 [00:00<00:00, 581.25it/s, loss=2.96]\n"
          ]
        },
        {
          "name": "stdout",
          "output_type": "stream",
          "text": [
            "Epoch [537/3000]: Train loss: 3.8950, Valid loss: 5.7515\n"
          ]
        },
        {
          "name": "stderr",
          "output_type": "stream",
          "text": [
            "Epoch [538/3000]: 100%|██████████| 9/9 [00:00<00:00, 528.83it/s, loss=5.48]\n"
          ]
        },
        {
          "name": "stdout",
          "output_type": "stream",
          "text": [
            "Epoch [538/3000]: Train loss: 4.1636, Valid loss: 3.7830\n"
          ]
        },
        {
          "name": "stderr",
          "output_type": "stream",
          "text": [
            "Epoch [539/3000]: 100%|██████████| 9/9 [00:00<00:00, 643.55it/s, loss=2.72]\n"
          ]
        },
        {
          "name": "stdout",
          "output_type": "stream",
          "text": [
            "Epoch [539/3000]: Train loss: 3.1474, Valid loss: 2.6276\n"
          ]
        },
        {
          "name": "stderr",
          "output_type": "stream",
          "text": [
            "Epoch [540/3000]: 100%|██████████| 9/9 [00:00<00:00, 511.37it/s, loss=3.3]\n"
          ]
        },
        {
          "name": "stdout",
          "output_type": "stream",
          "text": [
            "Epoch [540/3000]: Train loss: 2.7989, Valid loss: 4.0630\n"
          ]
        },
        {
          "name": "stderr",
          "output_type": "stream",
          "text": [
            "Epoch [541/3000]: 100%|██████████| 9/9 [00:00<00:00, 578.52it/s, loss=3.36]\n"
          ]
        },
        {
          "name": "stdout",
          "output_type": "stream",
          "text": [
            "Epoch [541/3000]: Train loss: 3.7710, Valid loss: 3.2268\n"
          ]
        },
        {
          "name": "stderr",
          "output_type": "stream",
          "text": [
            "Epoch [542/3000]: 100%|██████████| 9/9 [00:00<00:00, 544.33it/s, loss=2.87]\n"
          ]
        },
        {
          "name": "stdout",
          "output_type": "stream",
          "text": [
            "Epoch [542/3000]: Train loss: 2.8699, Valid loss: 2.7175\n"
          ]
        },
        {
          "name": "stderr",
          "output_type": "stream",
          "text": [
            "Epoch [543/3000]: 100%|██████████| 9/9 [00:00<00:00, 625.17it/s, loss=2.37]\n"
          ]
        },
        {
          "name": "stdout",
          "output_type": "stream",
          "text": [
            "Epoch [543/3000]: Train loss: 2.4391, Valid loss: 1.9842\n",
            "Saving model with loss 1.984...\n"
          ]
        },
        {
          "name": "stderr",
          "output_type": "stream",
          "text": [
            "Epoch [544/3000]: 100%|██████████| 9/9 [00:00<00:00, 597.09it/s, loss=3.18]\n"
          ]
        },
        {
          "name": "stdout",
          "output_type": "stream",
          "text": [
            "Epoch [544/3000]: Train loss: 2.5785, Valid loss: 2.2791\n"
          ]
        },
        {
          "name": "stderr",
          "output_type": "stream",
          "text": [
            "Epoch [545/3000]: 100%|██████████| 9/9 [00:00<00:00, 514.61it/s, loss=2.84]\n"
          ]
        },
        {
          "name": "stdout",
          "output_type": "stream",
          "text": [
            "Epoch [545/3000]: Train loss: 2.6724, Valid loss: 3.3122\n"
          ]
        },
        {
          "name": "stderr",
          "output_type": "stream",
          "text": [
            "Epoch [546/3000]: 100%|██████████| 9/9 [00:00<00:00, 663.57it/s, loss=4.35]\n"
          ]
        },
        {
          "name": "stdout",
          "output_type": "stream",
          "text": [
            "Epoch [546/3000]: Train loss: 3.4499, Valid loss: 2.4387\n"
          ]
        },
        {
          "name": "stderr",
          "output_type": "stream",
          "text": [
            "Epoch [547/3000]: 100%|██████████| 9/9 [00:00<00:00, 484.87it/s, loss=1.67]\n"
          ]
        },
        {
          "name": "stdout",
          "output_type": "stream",
          "text": [
            "Epoch [547/3000]: Train loss: 2.7369, Valid loss: 2.9919\n"
          ]
        },
        {
          "name": "stderr",
          "output_type": "stream",
          "text": [
            "Epoch [548/3000]: 100%|██████████| 9/9 [00:00<00:00, 692.18it/s, loss=2.14]\n"
          ]
        },
        {
          "name": "stdout",
          "output_type": "stream",
          "text": [
            "Epoch [548/3000]: Train loss: 2.3417, Valid loss: 2.3115\n"
          ]
        },
        {
          "name": "stderr",
          "output_type": "stream",
          "text": [
            "Epoch [549/3000]: 100%|██████████| 9/9 [00:00<00:00, 509.91it/s, loss=2.61]\n"
          ]
        },
        {
          "name": "stdout",
          "output_type": "stream",
          "text": [
            "Epoch [549/3000]: Train loss: 2.3070, Valid loss: 2.3933\n"
          ]
        },
        {
          "name": "stderr",
          "output_type": "stream",
          "text": [
            "Epoch [550/3000]: 100%|██████████| 9/9 [00:00<00:00, 582.42it/s, loss=2.53]\n"
          ]
        },
        {
          "name": "stdout",
          "output_type": "stream",
          "text": [
            "Epoch [550/3000]: Train loss: 2.6543, Valid loss: 2.5082\n"
          ]
        },
        {
          "name": "stderr",
          "output_type": "stream",
          "text": [
            "Epoch [551/3000]: 100%|██████████| 9/9 [00:00<00:00, 627.97it/s, loss=1.9]\n"
          ]
        },
        {
          "name": "stdout",
          "output_type": "stream",
          "text": [
            "Epoch [551/3000]: Train loss: 2.3937, Valid loss: 2.4861\n"
          ]
        },
        {
          "name": "stderr",
          "output_type": "stream",
          "text": [
            "Epoch [552/3000]: 100%|██████████| 9/9 [00:00<00:00, 554.77it/s, loss=2.91]\n"
          ]
        },
        {
          "name": "stdout",
          "output_type": "stream",
          "text": [
            "Epoch [552/3000]: Train loss: 2.8827, Valid loss: 4.7099\n"
          ]
        },
        {
          "name": "stderr",
          "output_type": "stream",
          "text": [
            "Epoch [553/3000]: 100%|██████████| 9/9 [00:00<00:00, 587.00it/s, loss=2.94]\n"
          ]
        },
        {
          "name": "stdout",
          "output_type": "stream",
          "text": [
            "Epoch [553/3000]: Train loss: 2.8637, Valid loss: 2.1356\n"
          ]
        },
        {
          "name": "stderr",
          "output_type": "stream",
          "text": [
            "Epoch [554/3000]: 100%|██████████| 9/9 [00:00<00:00, 300.56it/s, loss=3.04]\n"
          ]
        },
        {
          "name": "stdout",
          "output_type": "stream",
          "text": [
            "Epoch [554/3000]: Train loss: 2.3659, Valid loss: 2.8860\n"
          ]
        },
        {
          "name": "stderr",
          "output_type": "stream",
          "text": [
            "Epoch [555/3000]: 100%|██████████| 9/9 [00:00<00:00, 685.67it/s, loss=2.53]\n"
          ]
        },
        {
          "name": "stdout",
          "output_type": "stream",
          "text": [
            "Epoch [555/3000]: Train loss: 2.2659, Valid loss: 3.2485\n"
          ]
        },
        {
          "name": "stderr",
          "output_type": "stream",
          "text": [
            "Epoch [556/3000]: 100%|██████████| 9/9 [00:00<00:00, 510.93it/s, loss=2.13]\n"
          ]
        },
        {
          "name": "stdout",
          "output_type": "stream",
          "text": [
            "Epoch [556/3000]: Train loss: 2.4369, Valid loss: 2.2441\n"
          ]
        },
        {
          "name": "stderr",
          "output_type": "stream",
          "text": [
            "Epoch [557/3000]: 100%|██████████| 9/9 [00:00<00:00, 548.28it/s, loss=2.33]\n"
          ]
        },
        {
          "name": "stdout",
          "output_type": "stream",
          "text": [
            "Epoch [557/3000]: Train loss: 2.2695, Valid loss: 2.6156\n"
          ]
        },
        {
          "name": "stderr",
          "output_type": "stream",
          "text": [
            "Epoch [558/3000]: 100%|██████████| 9/9 [00:00<00:00, 638.58it/s, loss=2.22]\n"
          ]
        },
        {
          "name": "stdout",
          "output_type": "stream",
          "text": [
            "Epoch [558/3000]: Train loss: 2.2305, Valid loss: 3.0297\n"
          ]
        },
        {
          "name": "stderr",
          "output_type": "stream",
          "text": [
            "Epoch [559/3000]: 100%|██████████| 9/9 [00:00<00:00, 533.48it/s, loss=3.41]\n"
          ]
        },
        {
          "name": "stdout",
          "output_type": "stream",
          "text": [
            "Epoch [559/3000]: Train loss: 2.6179, Valid loss: 4.5450\n"
          ]
        },
        {
          "name": "stderr",
          "output_type": "stream",
          "text": [
            "Epoch [560/3000]: 100%|██████████| 9/9 [00:00<00:00, 530.04it/s, loss=2.26]\n"
          ]
        },
        {
          "name": "stdout",
          "output_type": "stream",
          "text": [
            "Epoch [560/3000]: Train loss: 2.7750, Valid loss: 2.5115\n"
          ]
        },
        {
          "name": "stderr",
          "output_type": "stream",
          "text": [
            "Epoch [561/3000]: 100%|██████████| 9/9 [00:00<00:00, 478.72it/s, loss=2.15]\n"
          ]
        },
        {
          "name": "stdout",
          "output_type": "stream",
          "text": [
            "Epoch [561/3000]: Train loss: 2.2361, Valid loss: 2.8880\n"
          ]
        },
        {
          "name": "stderr",
          "output_type": "stream",
          "text": [
            "Epoch [562/3000]: 100%|██████████| 9/9 [00:00<00:00, 593.35it/s, loss=2.17]\n"
          ]
        },
        {
          "name": "stdout",
          "output_type": "stream",
          "text": [
            "Epoch [562/3000]: Train loss: 2.2791, Valid loss: 2.8334\n"
          ]
        },
        {
          "name": "stderr",
          "output_type": "stream",
          "text": [
            "Epoch [563/3000]: 100%|██████████| 9/9 [00:00<00:00, 475.11it/s, loss=2.55]\n"
          ]
        },
        {
          "name": "stdout",
          "output_type": "stream",
          "text": [
            "Epoch [563/3000]: Train loss: 2.4594, Valid loss: 2.7884\n"
          ]
        },
        {
          "name": "stderr",
          "output_type": "stream",
          "text": [
            "Epoch [564/3000]: 100%|██████████| 9/9 [00:00<00:00, 620.17it/s, loss=2.61]\n"
          ]
        },
        {
          "name": "stdout",
          "output_type": "stream",
          "text": [
            "Epoch [564/3000]: Train loss: 2.3248, Valid loss: 2.7252\n"
          ]
        },
        {
          "name": "stderr",
          "output_type": "stream",
          "text": [
            "Epoch [565/3000]: 100%|██████████| 9/9 [00:00<00:00, 573.69it/s, loss=2.13]\n"
          ]
        },
        {
          "name": "stdout",
          "output_type": "stream",
          "text": [
            "Epoch [565/3000]: Train loss: 2.2809, Valid loss: 2.4231\n"
          ]
        },
        {
          "name": "stderr",
          "output_type": "stream",
          "text": [
            "Epoch [566/3000]: 100%|██████████| 9/9 [00:00<00:00, 586.28it/s, loss=3.19]\n"
          ]
        },
        {
          "name": "stdout",
          "output_type": "stream",
          "text": [
            "Epoch [566/3000]: Train loss: 3.2568, Valid loss: 2.5612\n"
          ]
        },
        {
          "name": "stderr",
          "output_type": "stream",
          "text": [
            "Epoch [567/3000]: 100%|██████████| 9/9 [00:00<00:00, 528.60it/s, loss=2.46]\n"
          ]
        },
        {
          "name": "stdout",
          "output_type": "stream",
          "text": [
            "Epoch [567/3000]: Train loss: 2.5926, Valid loss: 2.4182\n"
          ]
        },
        {
          "name": "stderr",
          "output_type": "stream",
          "text": [
            "Epoch [568/3000]: 100%|██████████| 9/9 [00:00<00:00, 493.76it/s, loss=3.18]\n"
          ]
        },
        {
          "name": "stdout",
          "output_type": "stream",
          "text": [
            "Epoch [568/3000]: Train loss: 2.4699, Valid loss: 5.2075\n"
          ]
        },
        {
          "name": "stderr",
          "output_type": "stream",
          "text": [
            "Epoch [569/3000]: 100%|██████████| 9/9 [00:00<00:00, 608.20it/s, loss=2.06]\n"
          ]
        },
        {
          "name": "stdout",
          "output_type": "stream",
          "text": [
            "Epoch [569/3000]: Train loss: 2.7066, Valid loss: 3.7340\n"
          ]
        },
        {
          "name": "stderr",
          "output_type": "stream",
          "text": [
            "Epoch [570/3000]: 100%|██████████| 9/9 [00:00<00:00, 549.06it/s, loss=3.7]\n"
          ]
        },
        {
          "name": "stdout",
          "output_type": "stream",
          "text": [
            "Epoch [570/3000]: Train loss: 3.8183, Valid loss: 5.6057\n"
          ]
        },
        {
          "name": "stderr",
          "output_type": "stream",
          "text": [
            "Epoch [571/3000]: 100%|██████████| 9/9 [00:00<00:00, 588.39it/s, loss=3.65]\n"
          ]
        },
        {
          "name": "stdout",
          "output_type": "stream",
          "text": [
            "Epoch [571/3000]: Train loss: 4.1702, Valid loss: 3.7553\n"
          ]
        },
        {
          "name": "stderr",
          "output_type": "stream",
          "text": [
            "Epoch [572/3000]: 100%|██████████| 9/9 [00:00<00:00, 553.07it/s, loss=4.4]"
          ]
        },
        {
          "name": "stdout",
          "output_type": "stream",
          "text": [
            "Epoch [572/3000]: Train loss: 3.2225, Valid loss: 3.7754"
          ]
        },
        {
          "name": "stderr",
          "output_type": "stream",
          "text": [
            "\n"
          ]
        },
        {
          "name": "stdout",
          "output_type": "stream",
          "text": [
            "\n"
          ]
        },
        {
          "name": "stderr",
          "output_type": "stream",
          "text": [
            "Epoch [573/3000]: 100%|██████████| 9/9 [00:00<00:00, 233.10it/s, loss=2.47]\n"
          ]
        },
        {
          "name": "stdout",
          "output_type": "stream",
          "text": [
            "Epoch [573/3000]: Train loss: 2.9054, Valid loss: 4.2981\n"
          ]
        },
        {
          "name": "stderr",
          "output_type": "stream",
          "text": [
            "Epoch [574/3000]: 100%|██████████| 9/9 [00:00<00:00, 602.17it/s, loss=3.25]\n"
          ]
        },
        {
          "name": "stdout",
          "output_type": "stream",
          "text": [
            "Epoch [574/3000]: Train loss: 3.2400, Valid loss: 2.6257\n"
          ]
        },
        {
          "name": "stderr",
          "output_type": "stream",
          "text": [
            "Epoch [575/3000]: 100%|██████████| 9/9 [00:00<00:00, 480.26it/s, loss=3.36]\n"
          ]
        },
        {
          "name": "stdout",
          "output_type": "stream",
          "text": [
            "Epoch [575/3000]: Train loss: 2.8478, Valid loss: 3.3654\n"
          ]
        },
        {
          "name": "stderr",
          "output_type": "stream",
          "text": [
            "Epoch [576/3000]: 100%|██████████| 9/9 [00:00<00:00, 624.48it/s, loss=3.06]\n"
          ]
        },
        {
          "name": "stdout",
          "output_type": "stream",
          "text": [
            "Epoch [576/3000]: Train loss: 2.6293, Valid loss: 2.5042\n"
          ]
        },
        {
          "name": "stderr",
          "output_type": "stream",
          "text": [
            "Epoch [577/3000]: 100%|██████████| 9/9 [00:00<00:00, 539.08it/s, loss=2.5]\n"
          ]
        },
        {
          "name": "stdout",
          "output_type": "stream",
          "text": [
            "Epoch [577/3000]: Train loss: 2.3068, Valid loss: 2.2095\n"
          ]
        },
        {
          "name": "stderr",
          "output_type": "stream",
          "text": [
            "Epoch [578/3000]: 100%|██████████| 9/9 [00:00<00:00, 658.92it/s, loss=2.33]\n"
          ]
        },
        {
          "name": "stdout",
          "output_type": "stream",
          "text": [
            "Epoch [578/3000]: Train loss: 2.2786, Valid loss: 3.9591\n"
          ]
        },
        {
          "name": "stderr",
          "output_type": "stream",
          "text": [
            "Epoch [579/3000]: 100%|██████████| 9/9 [00:00<00:00, 668.96it/s, loss=3.38]\n"
          ]
        },
        {
          "name": "stdout",
          "output_type": "stream",
          "text": [
            "Epoch [579/3000]: Train loss: 3.0377, Valid loss: 2.2034\n"
          ]
        },
        {
          "name": "stderr",
          "output_type": "stream",
          "text": [
            "Epoch [580/3000]: 100%|██████████| 9/9 [00:00<00:00, 467.53it/s, loss=3.22]\n"
          ]
        },
        {
          "name": "stdout",
          "output_type": "stream",
          "text": [
            "Epoch [580/3000]: Train loss: 2.3981, Valid loss: 2.2872\n"
          ]
        },
        {
          "name": "stderr",
          "output_type": "stream",
          "text": [
            "Epoch [581/3000]: 100%|██████████| 9/9 [00:00<00:00, 609.37it/s, loss=2.65]\n"
          ]
        },
        {
          "name": "stdout",
          "output_type": "stream",
          "text": [
            "Epoch [581/3000]: Train loss: 2.4391, Valid loss: 3.4894\n"
          ]
        },
        {
          "name": "stderr",
          "output_type": "stream",
          "text": [
            "Epoch [582/3000]: 100%|██████████| 9/9 [00:00<00:00, 451.02it/s, loss=1.69]\n"
          ]
        },
        {
          "name": "stdout",
          "output_type": "stream",
          "text": [
            "Epoch [582/3000]: Train loss: 2.5778, Valid loss: 2.6485\n"
          ]
        },
        {
          "name": "stderr",
          "output_type": "stream",
          "text": [
            "Epoch [583/3000]: 100%|██████████| 9/9 [00:00<00:00, 639.74it/s, loss=2.04]\n"
          ]
        },
        {
          "name": "stdout",
          "output_type": "stream",
          "text": [
            "Epoch [583/3000]: Train loss: 2.5645, Valid loss: 2.2083\n"
          ]
        },
        {
          "name": "stderr",
          "output_type": "stream",
          "text": [
            "Epoch [584/3000]: 100%|██████████| 9/9 [00:00<00:00, 581.65it/s, loss=1.72]\n"
          ]
        },
        {
          "name": "stdout",
          "output_type": "stream",
          "text": [
            "Epoch [584/3000]: Train loss: 2.4711, Valid loss: 6.1448\n"
          ]
        },
        {
          "name": "stderr",
          "output_type": "stream",
          "text": [
            "Epoch [585/3000]: 100%|██████████| 9/9 [00:00<00:00, 618.44it/s, loss=2.7]\n"
          ]
        },
        {
          "name": "stdout",
          "output_type": "stream",
          "text": [
            "Epoch [585/3000]: Train loss: 3.9299, Valid loss: 4.7431\n"
          ]
        },
        {
          "name": "stderr",
          "output_type": "stream",
          "text": [
            "Epoch [586/3000]: 100%|██████████| 9/9 [00:00<00:00, 278.71it/s, loss=3.78]\n"
          ]
        },
        {
          "name": "stdout",
          "output_type": "stream",
          "text": [
            "Epoch [586/3000]: Train loss: 4.4205, Valid loss: 5.1736\n"
          ]
        },
        {
          "name": "stderr",
          "output_type": "stream",
          "text": [
            "Epoch [587/3000]: 100%|██████████| 9/9 [00:00<00:00, 585.44it/s, loss=3.95]\n"
          ]
        },
        {
          "name": "stdout",
          "output_type": "stream",
          "text": [
            "Epoch [587/3000]: Train loss: 4.2092, Valid loss: 2.7307\n"
          ]
        },
        {
          "name": "stderr",
          "output_type": "stream",
          "text": [
            "Epoch [588/3000]: 100%|██████████| 9/9 [00:00<00:00, 607.33it/s, loss=2.84]\n"
          ]
        },
        {
          "name": "stdout",
          "output_type": "stream",
          "text": [
            "Epoch [588/3000]: Train loss: 2.4810, Valid loss: 2.6580\n"
          ]
        },
        {
          "name": "stderr",
          "output_type": "stream",
          "text": [
            "Epoch [589/3000]: 100%|██████████| 9/9 [00:00<00:00, 650.62it/s, loss=2.4]\n"
          ]
        },
        {
          "name": "stdout",
          "output_type": "stream",
          "text": [
            "Epoch [589/3000]: Train loss: 2.4540, Valid loss: 2.6677\n"
          ]
        },
        {
          "name": "stderr",
          "output_type": "stream",
          "text": [
            "Epoch [590/3000]: 100%|██████████| 9/9 [00:00<00:00, 529.94it/s, loss=2.28]\n"
          ]
        },
        {
          "name": "stdout",
          "output_type": "stream",
          "text": [
            "Epoch [590/3000]: Train loss: 2.7790, Valid loss: 2.3413\n"
          ]
        },
        {
          "name": "stderr",
          "output_type": "stream",
          "text": [
            "Epoch [591/3000]: 100%|██████████| 9/9 [00:00<00:00, 514.73it/s, loss=2.59]\n"
          ]
        },
        {
          "name": "stdout",
          "output_type": "stream",
          "text": [
            "Epoch [591/3000]: Train loss: 2.3069, Valid loss: 3.0864\n"
          ]
        },
        {
          "name": "stderr",
          "output_type": "stream",
          "text": [
            "Epoch [592/3000]: 100%|██████████| 9/9 [00:00<00:00, 596.67it/s, loss=2.31]\n"
          ]
        },
        {
          "name": "stdout",
          "output_type": "stream",
          "text": [
            "Epoch [592/3000]: Train loss: 2.2200, Valid loss: 2.8521\n"
          ]
        },
        {
          "name": "stderr",
          "output_type": "stream",
          "text": [
            "Epoch [593/3000]: 100%|██████████| 9/9 [00:00<00:00, 579.30it/s, loss=2.97]\n"
          ]
        },
        {
          "name": "stdout",
          "output_type": "stream",
          "text": [
            "Epoch [593/3000]: Train loss: 2.8865, Valid loss: 2.2954\n"
          ]
        },
        {
          "name": "stderr",
          "output_type": "stream",
          "text": [
            "Epoch [594/3000]: 100%|██████████| 9/9 [00:00<00:00, 542.53it/s, loss=2.19]\n"
          ]
        },
        {
          "name": "stdout",
          "output_type": "stream",
          "text": [
            "Epoch [594/3000]: Train loss: 2.2681, Valid loss: 2.8380\n"
          ]
        },
        {
          "name": "stderr",
          "output_type": "stream",
          "text": [
            "Epoch [595/3000]: 100%|██████████| 9/9 [00:00<00:00, 631.98it/s, loss=2.78]\n"
          ]
        },
        {
          "name": "stdout",
          "output_type": "stream",
          "text": [
            "Epoch [595/3000]: Train loss: 2.3612, Valid loss: 2.3576\n"
          ]
        },
        {
          "name": "stderr",
          "output_type": "stream",
          "text": [
            "Epoch [596/3000]: 100%|██████████| 9/9 [00:00<00:00, 434.32it/s, loss=1.94]\n"
          ]
        },
        {
          "name": "stdout",
          "output_type": "stream",
          "text": [
            "Epoch [596/3000]: Train loss: 2.7009, Valid loss: 4.0931\n"
          ]
        },
        {
          "name": "stderr",
          "output_type": "stream",
          "text": [
            "Epoch [597/3000]: 100%|██████████| 9/9 [00:00<00:00, 232.12it/s, loss=3.78]\n"
          ]
        },
        {
          "name": "stdout",
          "output_type": "stream",
          "text": [
            "Epoch [597/3000]: Train loss: 3.6254, Valid loss: 2.4764\n"
          ]
        },
        {
          "name": "stderr",
          "output_type": "stream",
          "text": [
            "Epoch [598/3000]: 100%|██████████| 9/9 [00:00<00:00, 373.07it/s, loss=3.16]\n"
          ]
        },
        {
          "name": "stdout",
          "output_type": "stream",
          "text": [
            "Epoch [598/3000]: Train loss: 3.9291, Valid loss: 3.5853\n"
          ]
        },
        {
          "name": "stderr",
          "output_type": "stream",
          "text": [
            "Epoch [599/3000]: 100%|██████████| 9/9 [00:00<00:00, 564.34it/s, loss=4.8]\n"
          ]
        },
        {
          "name": "stdout",
          "output_type": "stream",
          "text": [
            "Epoch [599/3000]: Train loss: 2.9228, Valid loss: 3.1356\n"
          ]
        },
        {
          "name": "stderr",
          "output_type": "stream",
          "text": [
            "Epoch [600/3000]: 100%|██████████| 9/9 [00:00<00:00, 620.17it/s, loss=2.38]\n"
          ]
        },
        {
          "name": "stdout",
          "output_type": "stream",
          "text": [
            "Epoch [600/3000]: Train loss: 2.6535, Valid loss: 4.1221\n"
          ]
        },
        {
          "name": "stderr",
          "output_type": "stream",
          "text": [
            "Epoch [601/3000]: 100%|██████████| 9/9 [00:00<00:00, 501.25it/s, loss=3.23]\n"
          ]
        },
        {
          "name": "stdout",
          "output_type": "stream",
          "text": [
            "Epoch [601/3000]: Train loss: 3.0814, Valid loss: 3.0597\n"
          ]
        },
        {
          "name": "stderr",
          "output_type": "stream",
          "text": [
            "Epoch [602/3000]: 100%|██████████| 9/9 [00:00<00:00, 662.79it/s, loss=2.2]\n"
          ]
        },
        {
          "name": "stdout",
          "output_type": "stream",
          "text": [
            "Epoch [602/3000]: Train loss: 2.2479, Valid loss: 3.1175\n"
          ]
        },
        {
          "name": "stderr",
          "output_type": "stream",
          "text": [
            "Epoch [603/3000]: 100%|██████████| 9/9 [00:00<00:00, 540.47it/s, loss=2.94]\n"
          ]
        },
        {
          "name": "stdout",
          "output_type": "stream",
          "text": [
            "Epoch [603/3000]: Train loss: 2.3819, Valid loss: 2.9490\n"
          ]
        },
        {
          "name": "stderr",
          "output_type": "stream",
          "text": [
            "Epoch [604/3000]: 100%|██████████| 9/9 [00:00<00:00, 538.25it/s, loss=2.58]\n"
          ]
        },
        {
          "name": "stdout",
          "output_type": "stream",
          "text": [
            "Epoch [604/3000]: Train loss: 2.4081, Valid loss: 2.2504\n"
          ]
        },
        {
          "name": "stderr",
          "output_type": "stream",
          "text": [
            "Epoch [605/3000]: 100%|██████████| 9/9 [00:00<00:00, 597.14it/s, loss=3.1]\n"
          ]
        },
        {
          "name": "stdout",
          "output_type": "stream",
          "text": [
            "Epoch [605/3000]: Train loss: 2.6942, Valid loss: 2.2825\n"
          ]
        },
        {
          "name": "stderr",
          "output_type": "stream",
          "text": [
            "Epoch [606/3000]: 100%|██████████| 9/9 [00:00<00:00, 604.02it/s, loss=1.77]\n"
          ]
        },
        {
          "name": "stdout",
          "output_type": "stream",
          "text": [
            "Epoch [606/3000]: Train loss: 2.1433, Valid loss: 2.7999\n"
          ]
        },
        {
          "name": "stderr",
          "output_type": "stream",
          "text": [
            "Epoch [607/3000]: 100%|██████████| 9/9 [00:00<00:00, 527.24it/s, loss=2.32]\n"
          ]
        },
        {
          "name": "stdout",
          "output_type": "stream",
          "text": [
            "Epoch [607/3000]: Train loss: 2.1955, Valid loss: 2.4031\n"
          ]
        },
        {
          "name": "stderr",
          "output_type": "stream",
          "text": [
            "Epoch [608/3000]: 100%|██████████| 9/9 [00:00<00:00, 630.11it/s, loss=2.13]\n"
          ]
        },
        {
          "name": "stdout",
          "output_type": "stream",
          "text": [
            "Epoch [608/3000]: Train loss: 2.1651, Valid loss: 2.0924\n"
          ]
        },
        {
          "name": "stderr",
          "output_type": "stream",
          "text": [
            "Epoch [609/3000]: 100%|██████████| 9/9 [00:00<00:00, 655.21it/s, loss=2.16]\n"
          ]
        },
        {
          "name": "stdout",
          "output_type": "stream",
          "text": [
            "Epoch [609/3000]: Train loss: 2.2843, Valid loss: 3.0058\n"
          ]
        },
        {
          "name": "stderr",
          "output_type": "stream",
          "text": [
            "Epoch [610/3000]: 100%|██████████| 9/9 [00:00<00:00, 171.90it/s, loss=2.32]\n"
          ]
        },
        {
          "name": "stdout",
          "output_type": "stream",
          "text": [
            "Epoch [610/3000]: Train loss: 2.4625, Valid loss: 2.5704\n"
          ]
        },
        {
          "name": "stderr",
          "output_type": "stream",
          "text": [
            "Epoch [611/3000]: 100%|██████████| 9/9 [00:00<00:00, 537.85it/s, loss=1.99]\n"
          ]
        },
        {
          "name": "stdout",
          "output_type": "stream",
          "text": [
            "Epoch [611/3000]: Train loss: 2.1916, Valid loss: 3.1160\n"
          ]
        },
        {
          "name": "stderr",
          "output_type": "stream",
          "text": [
            "Epoch [612/3000]: 100%|██████████| 9/9 [00:00<00:00, 519.30it/s, loss=2.34]\n"
          ]
        },
        {
          "name": "stdout",
          "output_type": "stream",
          "text": [
            "Epoch [612/3000]: Train loss: 2.4821, Valid loss: 2.4360\n"
          ]
        },
        {
          "name": "stderr",
          "output_type": "stream",
          "text": [
            "Epoch [613/3000]: 100%|██████████| 9/9 [00:00<00:00, 507.02it/s, loss=3.25]\n"
          ]
        },
        {
          "name": "stdout",
          "output_type": "stream",
          "text": [
            "Epoch [613/3000]: Train loss: 3.3801, Valid loss: 8.5305\n"
          ]
        },
        {
          "name": "stderr",
          "output_type": "stream",
          "text": [
            "Epoch [614/3000]: 100%|██████████| 9/9 [00:00<00:00, 621.50it/s, loss=2.57]\n"
          ]
        },
        {
          "name": "stdout",
          "output_type": "stream",
          "text": [
            "Epoch [614/3000]: Train loss: 4.0631, Valid loss: 5.0746\n"
          ]
        },
        {
          "name": "stderr",
          "output_type": "stream",
          "text": [
            "Epoch [615/3000]: 100%|██████████| 9/9 [00:00<00:00, 635.23it/s, loss=2.71]\n"
          ]
        },
        {
          "name": "stdout",
          "output_type": "stream",
          "text": [
            "Epoch [615/3000]: Train loss: 2.6582, Valid loss: 3.3798\n"
          ]
        },
        {
          "name": "stderr",
          "output_type": "stream",
          "text": [
            "Epoch [616/3000]: 100%|██████████| 9/9 [00:00<00:00, 531.07it/s, loss=2.08]\n"
          ]
        },
        {
          "name": "stdout",
          "output_type": "stream",
          "text": [
            "Epoch [616/3000]: Train loss: 2.2576, Valid loss: 2.8194\n"
          ]
        },
        {
          "name": "stderr",
          "output_type": "stream",
          "text": [
            "Epoch [617/3000]: 100%|██████████| 9/9 [00:00<00:00, 640.75it/s, loss=2.83]\n"
          ]
        },
        {
          "name": "stdout",
          "output_type": "stream",
          "text": [
            "Epoch [617/3000]: Train loss: 2.4401, Valid loss: 2.2348\n"
          ]
        },
        {
          "name": "stderr",
          "output_type": "stream",
          "text": [
            "Epoch [618/3000]: 100%|██████████| 9/9 [00:00<00:00, 543.97it/s, loss=2.09]\n"
          ]
        },
        {
          "name": "stdout",
          "output_type": "stream",
          "text": [
            "Epoch [618/3000]: Train loss: 2.2349, Valid loss: 2.2432\n"
          ]
        },
        {
          "name": "stderr",
          "output_type": "stream",
          "text": [
            "Epoch [619/3000]: 100%|██████████| 9/9 [00:00<00:00, 577.07it/s, loss=2.26]\n"
          ]
        },
        {
          "name": "stdout",
          "output_type": "stream",
          "text": [
            "Epoch [619/3000]: Train loss: 2.2329, Valid loss: 3.7909\n"
          ]
        },
        {
          "name": "stderr",
          "output_type": "stream",
          "text": [
            "Epoch [620/3000]: 100%|██████████| 9/9 [00:00<00:00, 526.13it/s, loss=2.72]\n"
          ]
        },
        {
          "name": "stdout",
          "output_type": "stream",
          "text": [
            "Epoch [620/3000]: Train loss: 2.6548, Valid loss: 2.7828\n"
          ]
        },
        {
          "name": "stderr",
          "output_type": "stream",
          "text": [
            "Epoch [621/3000]: 100%|██████████| 9/9 [00:00<00:00, 627.17it/s, loss=2.2]\n"
          ]
        },
        {
          "name": "stdout",
          "output_type": "stream",
          "text": [
            "Epoch [621/3000]: Train loss: 2.2745, Valid loss: 2.8393\n"
          ]
        },
        {
          "name": "stderr",
          "output_type": "stream",
          "text": [
            "Epoch [622/3000]: 100%|██████████| 9/9 [00:00<00:00, 626.78it/s, loss=2.69]\n"
          ]
        },
        {
          "name": "stdout",
          "output_type": "stream",
          "text": [
            "Epoch [622/3000]: Train loss: 2.3908, Valid loss: 2.1677\n"
          ]
        },
        {
          "name": "stderr",
          "output_type": "stream",
          "text": [
            "Epoch [623/3000]: 100%|██████████| 9/9 [00:00<00:00, 347.84it/s, loss=2.34]\n"
          ]
        },
        {
          "name": "stdout",
          "output_type": "stream",
          "text": [
            "Epoch [623/3000]: Train loss: 2.4920, Valid loss: 2.5233\n"
          ]
        },
        {
          "name": "stderr",
          "output_type": "stream",
          "text": [
            "Epoch [624/3000]: 100%|██████████| 9/9 [00:00<00:00, 597.32it/s, loss=2.34]\n"
          ]
        },
        {
          "name": "stdout",
          "output_type": "stream",
          "text": [
            "Epoch [624/3000]: Train loss: 2.2911, Valid loss: 2.5165\n"
          ]
        },
        {
          "name": "stderr",
          "output_type": "stream",
          "text": [
            "Epoch [625/3000]: 100%|██████████| 9/9 [00:00<00:00, 452.85it/s, loss=3.04]\n"
          ]
        },
        {
          "name": "stdout",
          "output_type": "stream",
          "text": [
            "Epoch [625/3000]: Train loss: 2.5819, Valid loss: 2.9202\n"
          ]
        },
        {
          "name": "stderr",
          "output_type": "stream",
          "text": [
            "Epoch [626/3000]: 100%|██████████| 9/9 [00:00<00:00, 607.94it/s, loss=2.35]\n"
          ]
        },
        {
          "name": "stdout",
          "output_type": "stream",
          "text": [
            "Epoch [626/3000]: Train loss: 2.7568, Valid loss: 5.2103\n"
          ]
        },
        {
          "name": "stderr",
          "output_type": "stream",
          "text": [
            "Epoch [627/3000]: 100%|██████████| 9/9 [00:00<00:00, 560.85it/s, loss=5.5]\n"
          ]
        },
        {
          "name": "stdout",
          "output_type": "stream",
          "text": [
            "Epoch [627/3000]: Train loss: 4.0399, Valid loss: 3.1181\n"
          ]
        },
        {
          "name": "stderr",
          "output_type": "stream",
          "text": [
            "Epoch [628/3000]: 100%|██████████| 9/9 [00:00<00:00, 574.42it/s, loss=5.47]\n"
          ]
        },
        {
          "name": "stdout",
          "output_type": "stream",
          "text": [
            "Epoch [628/3000]: Train loss: 4.5422, Valid loss: 6.2856\n"
          ]
        },
        {
          "name": "stderr",
          "output_type": "stream",
          "text": [
            "Epoch [629/3000]: 100%|██████████| 9/9 [00:00<00:00, 604.36it/s, loss=5.98]\n"
          ]
        },
        {
          "name": "stdout",
          "output_type": "stream",
          "text": [
            "Epoch [629/3000]: Train loss: 4.2543, Valid loss: 4.0702\n"
          ]
        },
        {
          "name": "stderr",
          "output_type": "stream",
          "text": [
            "Epoch [630/3000]: 100%|██████████| 9/9 [00:00<00:00, 543.88it/s, loss=6.33]\n"
          ]
        },
        {
          "name": "stdout",
          "output_type": "stream",
          "text": [
            "Epoch [630/3000]: Train loss: 4.5544, Valid loss: 3.7274\n"
          ]
        },
        {
          "name": "stderr",
          "output_type": "stream",
          "text": [
            "Epoch [631/3000]: 100%|██████████| 9/9 [00:00<00:00, 680.84it/s, loss=2.28]\n"
          ]
        },
        {
          "name": "stdout",
          "output_type": "stream",
          "text": [
            "Epoch [631/3000]: Train loss: 3.1189, Valid loss: 4.6786\n"
          ]
        },
        {
          "name": "stderr",
          "output_type": "stream",
          "text": [
            "Epoch [632/3000]: 100%|██████████| 9/9 [00:00<00:00, 418.91it/s, loss=2.66]\n"
          ]
        },
        {
          "name": "stdout",
          "output_type": "stream",
          "text": [
            "Epoch [632/3000]: Train loss: 3.0935, Valid loss: 2.9424\n"
          ]
        },
        {
          "name": "stderr",
          "output_type": "stream",
          "text": [
            "Epoch [633/3000]: 100%|██████████| 9/9 [00:00<00:00, 690.99it/s, loss=1.7]\n"
          ]
        },
        {
          "name": "stdout",
          "output_type": "stream",
          "text": [
            "Epoch [633/3000]: Train loss: 3.0897, Valid loss: 2.4414\n"
          ]
        },
        {
          "name": "stderr",
          "output_type": "stream",
          "text": [
            "Epoch [634/3000]: 100%|██████████| 9/9 [00:00<00:00, 521.67it/s, loss=2.52]\n"
          ]
        },
        {
          "name": "stdout",
          "output_type": "stream",
          "text": [
            "Epoch [634/3000]: Train loss: 2.2935, Valid loss: 2.5991\n"
          ]
        },
        {
          "name": "stderr",
          "output_type": "stream",
          "text": [
            "Epoch [635/3000]: 100%|██████████| 9/9 [00:00<00:00, 527.21it/s, loss=2.39]\n"
          ]
        },
        {
          "name": "stdout",
          "output_type": "stream",
          "text": [
            "Epoch [635/3000]: Train loss: 2.3953, Valid loss: 3.6794\n"
          ]
        },
        {
          "name": "stderr",
          "output_type": "stream",
          "text": [
            "Epoch [636/3000]: 100%|██████████| 9/9 [00:00<00:00, 567.71it/s, loss=1.92]\n"
          ]
        },
        {
          "name": "stdout",
          "output_type": "stream",
          "text": [
            "Epoch [636/3000]: Train loss: 2.7437, Valid loss: 2.8414\n"
          ]
        },
        {
          "name": "stderr",
          "output_type": "stream",
          "text": [
            "Epoch [637/3000]: 100%|██████████| 9/9 [00:00<00:00, 535.81it/s, loss=1.68]\n"
          ]
        },
        {
          "name": "stdout",
          "output_type": "stream",
          "text": [
            "Epoch [637/3000]: Train loss: 2.2860, Valid loss: 2.9973\n"
          ]
        },
        {
          "name": "stderr",
          "output_type": "stream",
          "text": [
            "Epoch [638/3000]: 100%|██████████| 9/9 [00:00<00:00, 613.16it/s, loss=3.13]\n"
          ]
        },
        {
          "name": "stdout",
          "output_type": "stream",
          "text": [
            "Epoch [638/3000]: Train loss: 2.3094, Valid loss: 2.2778\n"
          ]
        },
        {
          "name": "stderr",
          "output_type": "stream",
          "text": [
            "Epoch [639/3000]: 100%|██████████| 9/9 [00:00<00:00, 521.68it/s, loss=2.99]\n"
          ]
        },
        {
          "name": "stdout",
          "output_type": "stream",
          "text": [
            "Epoch [639/3000]: Train loss: 2.4156, Valid loss: 2.4661\n"
          ]
        },
        {
          "name": "stderr",
          "output_type": "stream",
          "text": [
            "Epoch [640/3000]: 100%|██████████| 9/9 [00:00<00:00, 620.39it/s, loss=2.53]\n"
          ]
        },
        {
          "name": "stdout",
          "output_type": "stream",
          "text": [
            "Epoch [640/3000]: Train loss: 2.3228, Valid loss: 2.4494\n"
          ]
        },
        {
          "name": "stderr",
          "output_type": "stream",
          "text": [
            "Epoch [641/3000]: 100%|██████████| 9/9 [00:00<00:00, 178.14it/s, loss=1.99]\n"
          ]
        },
        {
          "name": "stdout",
          "output_type": "stream",
          "text": [
            "Epoch [641/3000]: Train loss: 2.2207, Valid loss: 3.0697\n"
          ]
        },
        {
          "name": "stderr",
          "output_type": "stream",
          "text": [
            "Epoch [642/3000]: 100%|██████████| 9/9 [00:00<00:00, 569.00it/s, loss=2.24]\n"
          ]
        },
        {
          "name": "stdout",
          "output_type": "stream",
          "text": [
            "Epoch [642/3000]: Train loss: 2.5011, Valid loss: 3.2062\n"
          ]
        },
        {
          "name": "stderr",
          "output_type": "stream",
          "text": [
            "Epoch [643/3000]: 100%|██████████| 9/9 [00:00<00:00, 510.64it/s, loss=2.14]\n"
          ]
        },
        {
          "name": "stdout",
          "output_type": "stream",
          "text": [
            "Epoch [643/3000]: Train loss: 2.3064, Valid loss: 2.5212\n"
          ]
        },
        {
          "name": "stderr",
          "output_type": "stream",
          "text": [
            "Epoch [644/3000]: 100%|██████████| 9/9 [00:00<00:00, 563.80it/s, loss=2.17]\n"
          ]
        },
        {
          "name": "stdout",
          "output_type": "stream",
          "text": [
            "Epoch [644/3000]: Train loss: 2.3655, Valid loss: 2.1546\n"
          ]
        },
        {
          "name": "stderr",
          "output_type": "stream",
          "text": [
            "Epoch [645/3000]: 100%|██████████| 9/9 [00:00<00:00, 550.76it/s, loss=4.11]\n"
          ]
        },
        {
          "name": "stdout",
          "output_type": "stream",
          "text": [
            "Epoch [645/3000]: Train loss: 2.7644, Valid loss: 2.4372\n"
          ]
        },
        {
          "name": "stderr",
          "output_type": "stream",
          "text": [
            "Epoch [646/3000]: 100%|██████████| 9/9 [00:00<00:00, 520.86it/s, loss=2.34]\n"
          ]
        },
        {
          "name": "stdout",
          "output_type": "stream",
          "text": [
            "Epoch [646/3000]: Train loss: 2.5463, Valid loss: 3.6148\n"
          ]
        },
        {
          "name": "stderr",
          "output_type": "stream",
          "text": [
            "Epoch [647/3000]: 100%|██████████| 9/9 [00:00<00:00, 605.65it/s, loss=2.49]\n"
          ]
        },
        {
          "name": "stdout",
          "output_type": "stream",
          "text": [
            "Epoch [647/3000]: Train loss: 2.5387, Valid loss: 2.5110\n"
          ]
        },
        {
          "name": "stderr",
          "output_type": "stream",
          "text": [
            "Epoch [648/3000]: 100%|██████████| 9/9 [00:00<00:00, 517.99it/s, loss=1.71]\n"
          ]
        },
        {
          "name": "stdout",
          "output_type": "stream",
          "text": [
            "Epoch [648/3000]: Train loss: 2.2309, Valid loss: 2.5710\n"
          ]
        },
        {
          "name": "stderr",
          "output_type": "stream",
          "text": [
            "Epoch [649/3000]: 100%|██████████| 9/9 [00:00<00:00, 606.72it/s, loss=1.72]\n"
          ]
        },
        {
          "name": "stdout",
          "output_type": "stream",
          "text": [
            "Epoch [649/3000]: Train loss: 2.0808, Valid loss: 2.8854\n"
          ]
        },
        {
          "name": "stderr",
          "output_type": "stream",
          "text": [
            "Epoch [650/3000]: 100%|██████████| 9/9 [00:00<00:00, 630.12it/s, loss=3.11]\n"
          ]
        },
        {
          "name": "stdout",
          "output_type": "stream",
          "text": [
            "Epoch [650/3000]: Train loss: 2.4389, Valid loss: 4.3225\n"
          ]
        },
        {
          "name": "stderr",
          "output_type": "stream",
          "text": [
            "Epoch [651/3000]: 100%|██████████| 9/9 [00:00<00:00, 576.74it/s, loss=2.12]\n"
          ]
        },
        {
          "name": "stdout",
          "output_type": "stream",
          "text": [
            "Epoch [651/3000]: Train loss: 2.9701, Valid loss: 2.8745\n"
          ]
        },
        {
          "name": "stderr",
          "output_type": "stream",
          "text": [
            "Epoch [652/3000]: 100%|██████████| 9/9 [00:00<00:00, 193.70it/s, loss=3.04]\n"
          ]
        },
        {
          "name": "stdout",
          "output_type": "stream",
          "text": [
            "Epoch [652/3000]: Train loss: 3.1418, Valid loss: 4.5174\n"
          ]
        },
        {
          "name": "stderr",
          "output_type": "stream",
          "text": [
            "Epoch [653/3000]: 100%|██████████| 9/9 [00:00<00:00, 533.56it/s, loss=4.05]\n"
          ]
        },
        {
          "name": "stdout",
          "output_type": "stream",
          "text": [
            "Epoch [653/3000]: Train loss: 3.9021, Valid loss: 5.3707\n"
          ]
        },
        {
          "name": "stderr",
          "output_type": "stream",
          "text": [
            "Epoch [654/3000]: 100%|██████████| 9/9 [00:00<00:00, 669.99it/s, loss=3.08]\n"
          ]
        },
        {
          "name": "stdout",
          "output_type": "stream",
          "text": [
            "Epoch [654/3000]: Train loss: 3.7411, Valid loss: 2.4722\n"
          ]
        },
        {
          "name": "stderr",
          "output_type": "stream",
          "text": [
            "Epoch [655/3000]: 100%|██████████| 9/9 [00:00<00:00, 622.23it/s, loss=1.71]\n"
          ]
        },
        {
          "name": "stdout",
          "output_type": "stream",
          "text": [
            "Epoch [655/3000]: Train loss: 2.3549, Valid loss: 3.0601\n"
          ]
        },
        {
          "name": "stderr",
          "output_type": "stream",
          "text": [
            "Epoch [656/3000]: 100%|██████████| 9/9 [00:00<00:00, 637.08it/s, loss=2.51]\n"
          ]
        },
        {
          "name": "stdout",
          "output_type": "stream",
          "text": [
            "Epoch [656/3000]: Train loss: 2.4605, Valid loss: 2.5544\n"
          ]
        },
        {
          "name": "stderr",
          "output_type": "stream",
          "text": [
            "Epoch [657/3000]: 100%|██████████| 9/9 [00:00<00:00, 497.37it/s, loss=3.19]\n"
          ]
        },
        {
          "name": "stdout",
          "output_type": "stream",
          "text": [
            "Epoch [657/3000]: Train loss: 2.6922, Valid loss: 3.2200\n"
          ]
        },
        {
          "name": "stderr",
          "output_type": "stream",
          "text": [
            "Epoch [658/3000]: 100%|██████████| 9/9 [00:00<00:00, 396.22it/s, loss=3.19]\n"
          ]
        },
        {
          "name": "stdout",
          "output_type": "stream",
          "text": [
            "Epoch [658/3000]: Train loss: 2.6972, Valid loss: 2.6663\n"
          ]
        },
        {
          "name": "stderr",
          "output_type": "stream",
          "text": [
            "Epoch [659/3000]: 100%|██████████| 9/9 [00:00<00:00, 503.41it/s, loss=2.07]\n"
          ]
        },
        {
          "name": "stdout",
          "output_type": "stream",
          "text": [
            "Epoch [659/3000]: Train loss: 2.3094, Valid loss: 2.8948\n"
          ]
        },
        {
          "name": "stderr",
          "output_type": "stream",
          "text": [
            "Epoch [660/3000]: 100%|██████████| 9/9 [00:00<00:00, 571.93it/s, loss=2.97]\n"
          ]
        },
        {
          "name": "stdout",
          "output_type": "stream",
          "text": [
            "Epoch [660/3000]: Train loss: 2.4201, Valid loss: 2.7563\n"
          ]
        },
        {
          "name": "stderr",
          "output_type": "stream",
          "text": [
            "Epoch [661/3000]: 100%|██████████| 9/9 [00:00<00:00, 595.60it/s, loss=2.29]\n"
          ]
        },
        {
          "name": "stdout",
          "output_type": "stream",
          "text": [
            "Epoch [661/3000]: Train loss: 2.4839, Valid loss: 3.7043\n"
          ]
        },
        {
          "name": "stderr",
          "output_type": "stream",
          "text": [
            "Epoch [662/3000]: 100%|██████████| 9/9 [00:00<00:00, 634.02it/s, loss=2.92]\n"
          ]
        },
        {
          "name": "stdout",
          "output_type": "stream",
          "text": [
            "Epoch [662/3000]: Train loss: 2.7230, Valid loss: 2.1403\n"
          ]
        },
        {
          "name": "stderr",
          "output_type": "stream",
          "text": [
            "Epoch [663/3000]: 100%|██████████| 9/9 [00:00<00:00, 610.50it/s, loss=1.72]\n"
          ]
        },
        {
          "name": "stdout",
          "output_type": "stream",
          "text": [
            "Epoch [663/3000]: Train loss: 2.3180, Valid loss: 2.7958\n"
          ]
        },
        {
          "name": "stderr",
          "output_type": "stream",
          "text": [
            "Epoch [664/3000]: 100%|██████████| 9/9 [00:00<00:00, 617.83it/s, loss=2.89]\n"
          ]
        },
        {
          "name": "stdout",
          "output_type": "stream",
          "text": [
            "Epoch [664/3000]: Train loss: 2.4645, Valid loss: 2.2002\n"
          ]
        },
        {
          "name": "stderr",
          "output_type": "stream",
          "text": [
            "Epoch [665/3000]: 100%|██████████| 9/9 [00:00<00:00, 487.09it/s, loss=3.76]\n"
          ]
        },
        {
          "name": "stdout",
          "output_type": "stream",
          "text": [
            "Epoch [665/3000]: Train loss: 2.8256, Valid loss: 2.4031\n"
          ]
        },
        {
          "name": "stderr",
          "output_type": "stream",
          "text": [
            "Epoch [666/3000]: 100%|██████████| 9/9 [00:00<00:00, 497.74it/s, loss=2.71]\n"
          ]
        },
        {
          "name": "stdout",
          "output_type": "stream",
          "text": [
            "Epoch [666/3000]: Train loss: 2.3867, Valid loss: 3.5563\n"
          ]
        },
        {
          "name": "stderr",
          "output_type": "stream",
          "text": [
            "Epoch [667/3000]: 100%|██████████| 9/9 [00:00<00:00, 581.74it/s, loss=1.88]\n"
          ]
        },
        {
          "name": "stdout",
          "output_type": "stream",
          "text": [
            "Epoch [667/3000]: Train loss: 2.2599, Valid loss: 2.6361\n"
          ]
        },
        {
          "name": "stderr",
          "output_type": "stream",
          "text": [
            "Epoch [668/3000]: 100%|██████████| 9/9 [00:00<00:00, 218.69it/s, loss=2.22]\n"
          ]
        },
        {
          "name": "stdout",
          "output_type": "stream",
          "text": [
            "Epoch [668/3000]: Train loss: 2.1309, Valid loss: 2.5309\n"
          ]
        },
        {
          "name": "stderr",
          "output_type": "stream",
          "text": [
            "Epoch [669/3000]: 100%|██████████| 9/9 [00:00<00:00, 615.72it/s, loss=2.16]\n"
          ]
        },
        {
          "name": "stdout",
          "output_type": "stream",
          "text": [
            "Epoch [669/3000]: Train loss: 2.1590, Valid loss: 2.9481\n"
          ]
        },
        {
          "name": "stderr",
          "output_type": "stream",
          "text": [
            "Epoch [670/3000]: 100%|██████████| 9/9 [00:00<00:00, 612.04it/s, loss=2.55]\n"
          ]
        },
        {
          "name": "stdout",
          "output_type": "stream",
          "text": [
            "Epoch [670/3000]: Train loss: 2.1519, Valid loss: 2.1763\n"
          ]
        },
        {
          "name": "stderr",
          "output_type": "stream",
          "text": [
            "Epoch [671/3000]: 100%|██████████| 9/9 [00:00<00:00, 502.15it/s, loss=1.7]\n"
          ]
        },
        {
          "name": "stdout",
          "output_type": "stream",
          "text": [
            "Epoch [671/3000]: Train loss: 2.0673, Valid loss: 2.4532\n"
          ]
        },
        {
          "name": "stderr",
          "output_type": "stream",
          "text": [
            "Epoch [672/3000]: 100%|██████████| 9/9 [00:00<00:00, 498.33it/s, loss=2.6]\n"
          ]
        },
        {
          "name": "stdout",
          "output_type": "stream",
          "text": [
            "Epoch [672/3000]: Train loss: 2.1138, Valid loss: 2.3318\n"
          ]
        },
        {
          "name": "stderr",
          "output_type": "stream",
          "text": [
            "Epoch [673/3000]: 100%|██████████| 9/9 [00:00<00:00, 683.79it/s, loss=2.17]\n"
          ]
        },
        {
          "name": "stdout",
          "output_type": "stream",
          "text": [
            "Epoch [673/3000]: Train loss: 2.2694, Valid loss: 3.4900\n"
          ]
        },
        {
          "name": "stderr",
          "output_type": "stream",
          "text": [
            "Epoch [674/3000]: 100%|██████████| 9/9 [00:00<00:00, 607.61it/s, loss=1.75]\n"
          ]
        },
        {
          "name": "stdout",
          "output_type": "stream",
          "text": [
            "Epoch [674/3000]: Train loss: 2.1752, Valid loss: 2.6596\n"
          ]
        },
        {
          "name": "stderr",
          "output_type": "stream",
          "text": [
            "Epoch [675/3000]: 100%|██████████| 9/9 [00:00<00:00, 597.69it/s, loss=2.55]\n"
          ]
        },
        {
          "name": "stdout",
          "output_type": "stream",
          "text": [
            "Epoch [675/3000]: Train loss: 2.3985, Valid loss: 2.0711\n"
          ]
        },
        {
          "name": "stderr",
          "output_type": "stream",
          "text": [
            "Epoch [676/3000]: 100%|██████████| 9/9 [00:00<00:00, 582.25it/s, loss=1.5]\n"
          ]
        },
        {
          "name": "stdout",
          "output_type": "stream",
          "text": [
            "Epoch [676/3000]: Train loss: 2.0634, Valid loss: 2.1214\n"
          ]
        },
        {
          "name": "stderr",
          "output_type": "stream",
          "text": [
            "Epoch [677/3000]: 100%|██████████| 9/9 [00:00<00:00, 643.41it/s, loss=2.35]\n"
          ]
        },
        {
          "name": "stdout",
          "output_type": "stream",
          "text": [
            "Epoch [677/3000]: Train loss: 2.0903, Valid loss: 2.0428\n"
          ]
        },
        {
          "name": "stderr",
          "output_type": "stream",
          "text": [
            "Epoch [678/3000]: 100%|██████████| 9/9 [00:00<00:00, 622.15it/s, loss=1.72]\n"
          ]
        },
        {
          "name": "stdout",
          "output_type": "stream",
          "text": [
            "Epoch [678/3000]: Train loss: 2.1141, Valid loss: 2.2874\n"
          ]
        },
        {
          "name": "stderr",
          "output_type": "stream",
          "text": [
            "Epoch [679/3000]: 100%|██████████| 9/9 [00:00<00:00, 157.50it/s, loss=2.6]\n"
          ]
        },
        {
          "name": "stdout",
          "output_type": "stream",
          "text": [
            "Epoch [679/3000]: Train loss: 2.6892, Valid loss: 3.1493\n"
          ]
        },
        {
          "name": "stderr",
          "output_type": "stream",
          "text": [
            "Epoch [680/3000]: 100%|██████████| 9/9 [00:00<00:00, 623.86it/s, loss=2.48]\n"
          ]
        },
        {
          "name": "stdout",
          "output_type": "stream",
          "text": [
            "Epoch [680/3000]: Train loss: 2.6317, Valid loss: 2.5425\n"
          ]
        },
        {
          "name": "stderr",
          "output_type": "stream",
          "text": [
            "Epoch [681/3000]: 100%|██████████| 9/9 [00:00<00:00, 645.95it/s, loss=3.02]\n"
          ]
        },
        {
          "name": "stdout",
          "output_type": "stream",
          "text": [
            "Epoch [681/3000]: Train loss: 2.2696, Valid loss: 2.7954\n"
          ]
        },
        {
          "name": "stderr",
          "output_type": "stream",
          "text": [
            "Epoch [682/3000]: 100%|██████████| 9/9 [00:00<00:00, 541.15it/s, loss=3.23]\n"
          ]
        },
        {
          "name": "stdout",
          "output_type": "stream",
          "text": [
            "Epoch [682/3000]: Train loss: 2.4356, Valid loss: 3.7319\n"
          ]
        },
        {
          "name": "stderr",
          "output_type": "stream",
          "text": [
            "Epoch [683/3000]: 100%|██████████| 9/9 [00:00<00:00, 589.70it/s, loss=2.33]\n"
          ]
        },
        {
          "name": "stdout",
          "output_type": "stream",
          "text": [
            "Epoch [683/3000]: Train loss: 2.8944, Valid loss: 2.4181\n"
          ]
        },
        {
          "name": "stderr",
          "output_type": "stream",
          "text": [
            "Epoch [684/3000]: 100%|██████████| 9/9 [00:00<00:00, 519.72it/s, loss=2.17]\n"
          ]
        },
        {
          "name": "stdout",
          "output_type": "stream",
          "text": [
            "Epoch [684/3000]: Train loss: 2.8836, Valid loss: 3.0400\n"
          ]
        },
        {
          "name": "stderr",
          "output_type": "stream",
          "text": [
            "Epoch [685/3000]: 100%|██████████| 9/9 [00:00<00:00, 650.28it/s, loss=5.33]\n"
          ]
        },
        {
          "name": "stdout",
          "output_type": "stream",
          "text": [
            "Epoch [685/3000]: Train loss: 3.7288, Valid loss: 3.0405\n"
          ]
        },
        {
          "name": "stderr",
          "output_type": "stream",
          "text": [
            "Epoch [686/3000]: 100%|██████████| 9/9 [00:00<00:00, 604.77it/s, loss=2.02]\n"
          ]
        },
        {
          "name": "stdout",
          "output_type": "stream",
          "text": [
            "Epoch [686/3000]: Train loss: 2.9354, Valid loss: 4.0039\n"
          ]
        },
        {
          "name": "stderr",
          "output_type": "stream",
          "text": [
            "Epoch [687/3000]: 100%|██████████| 9/9 [00:00<00:00, 590.59it/s, loss=4.06]\n"
          ]
        },
        {
          "name": "stdout",
          "output_type": "stream",
          "text": [
            "Epoch [687/3000]: Train loss: 3.0794, Valid loss: 3.9244\n"
          ]
        },
        {
          "name": "stderr",
          "output_type": "stream",
          "text": [
            "Epoch [688/3000]: 100%|██████████| 9/9 [00:00<00:00, 663.99it/s, loss=2.17]\n"
          ]
        },
        {
          "name": "stdout",
          "output_type": "stream",
          "text": [
            "Epoch [688/3000]: Train loss: 2.7360, Valid loss: 2.5333\n"
          ]
        },
        {
          "name": "stderr",
          "output_type": "stream",
          "text": [
            "Epoch [689/3000]: 100%|██████████| 9/9 [00:00<00:00, 615.01it/s, loss=2.29]\n"
          ]
        },
        {
          "name": "stdout",
          "output_type": "stream",
          "text": [
            "Epoch [689/3000]: Train loss: 2.1495, Valid loss: 2.3375\n"
          ]
        },
        {
          "name": "stderr",
          "output_type": "stream",
          "text": [
            "Epoch [690/3000]: 100%|██████████| 9/9 [00:00<00:00, 663.33it/s, loss=2.26]\n"
          ]
        },
        {
          "name": "stdout",
          "output_type": "stream",
          "text": [
            "Epoch [690/3000]: Train loss: 2.2134, Valid loss: 2.9461\n"
          ]
        },
        {
          "name": "stderr",
          "output_type": "stream",
          "text": [
            "Epoch [691/3000]: 100%|██████████| 9/9 [00:00<00:00, 175.92it/s, loss=1.9]\n"
          ]
        },
        {
          "name": "stdout",
          "output_type": "stream",
          "text": [
            "Epoch [691/3000]: Train loss: 2.1999, Valid loss: 2.5450\n"
          ]
        },
        {
          "name": "stderr",
          "output_type": "stream",
          "text": [
            "Epoch [692/3000]: 100%|██████████| 9/9 [00:00<00:00, 647.96it/s, loss=2.36]\n"
          ]
        },
        {
          "name": "stdout",
          "output_type": "stream",
          "text": [
            "Epoch [692/3000]: Train loss: 2.1438, Valid loss: 2.2763\n"
          ]
        },
        {
          "name": "stderr",
          "output_type": "stream",
          "text": [
            "Epoch [693/3000]: 100%|██████████| 9/9 [00:00<00:00, 476.01it/s, loss=1.95]\n"
          ]
        },
        {
          "name": "stdout",
          "output_type": "stream",
          "text": [
            "Epoch [693/3000]: Train loss: 2.0307, Valid loss: 2.3626\n"
          ]
        },
        {
          "name": "stderr",
          "output_type": "stream",
          "text": [
            "Epoch [694/3000]: 100%|██████████| 9/9 [00:00<00:00, 652.60it/s, loss=2.06]\n"
          ]
        },
        {
          "name": "stdout",
          "output_type": "stream",
          "text": [
            "Epoch [694/3000]: Train loss: 2.0691, Valid loss: 2.8264\n"
          ]
        },
        {
          "name": "stderr",
          "output_type": "stream",
          "text": [
            "Epoch [695/3000]: 100%|██████████| 9/9 [00:00<00:00, 493.61it/s, loss=1.74]\n"
          ]
        },
        {
          "name": "stdout",
          "output_type": "stream",
          "text": [
            "Epoch [695/3000]: Train loss: 2.2050, Valid loss: 2.4511\n"
          ]
        },
        {
          "name": "stderr",
          "output_type": "stream",
          "text": [
            "Epoch [696/3000]: 100%|██████████| 9/9 [00:00<00:00, 574.35it/s, loss=1.93]\n"
          ]
        },
        {
          "name": "stdout",
          "output_type": "stream",
          "text": [
            "Epoch [696/3000]: Train loss: 2.4251, Valid loss: 2.8789\n"
          ]
        },
        {
          "name": "stderr",
          "output_type": "stream",
          "text": [
            "Epoch [697/3000]: 100%|██████████| 9/9 [00:00<00:00, 533.05it/s, loss=2.8]\n"
          ]
        },
        {
          "name": "stdout",
          "output_type": "stream",
          "text": [
            "Epoch [697/3000]: Train loss: 2.2382, Valid loss: 3.0491\n"
          ]
        },
        {
          "name": "stderr",
          "output_type": "stream",
          "text": [
            "Epoch [698/3000]: 100%|██████████| 9/9 [00:00<00:00, 509.97it/s, loss=2.26]\n"
          ]
        },
        {
          "name": "stdout",
          "output_type": "stream",
          "text": [
            "Epoch [698/3000]: Train loss: 2.2031, Valid loss: 2.3380\n"
          ]
        },
        {
          "name": "stderr",
          "output_type": "stream",
          "text": [
            "Epoch [699/3000]: 100%|██████████| 9/9 [00:00<00:00, 628.53it/s, loss=2.96]\n"
          ]
        },
        {
          "name": "stdout",
          "output_type": "stream",
          "text": [
            "Epoch [699/3000]: Train loss: 2.2431, Valid loss: 2.7200\n"
          ]
        },
        {
          "name": "stderr",
          "output_type": "stream",
          "text": [
            "Epoch [700/3000]: 100%|██████████| 9/9 [00:00<00:00, 519.33it/s, loss=2.95]\n"
          ]
        },
        {
          "name": "stdout",
          "output_type": "stream",
          "text": [
            "Epoch [700/3000]: Train loss: 2.4792, Valid loss: 4.2840\n"
          ]
        },
        {
          "name": "stderr",
          "output_type": "stream",
          "text": [
            "Epoch [701/3000]: 100%|██████████| 9/9 [00:00<00:00, 597.30it/s, loss=3.03]\n"
          ]
        },
        {
          "name": "stdout",
          "output_type": "stream",
          "text": [
            "Epoch [701/3000]: Train loss: 2.9544, Valid loss: 2.9757\n"
          ]
        },
        {
          "name": "stderr",
          "output_type": "stream",
          "text": [
            "Epoch [702/3000]: 100%|██████████| 9/9 [00:00<00:00, 358.27it/s, loss=4.64]\n"
          ]
        },
        {
          "name": "stdout",
          "output_type": "stream",
          "text": [
            "Epoch [702/3000]: Train loss: 3.3200, Valid loss: 3.0824\n"
          ]
        },
        {
          "name": "stderr",
          "output_type": "stream",
          "text": [
            "Epoch [703/3000]: 100%|██████████| 9/9 [00:00<00:00, 589.55it/s, loss=2.35]\n"
          ]
        },
        {
          "name": "stdout",
          "output_type": "stream",
          "text": [
            "Epoch [703/3000]: Train loss: 3.0652, Valid loss: 2.6919\n"
          ]
        },
        {
          "name": "stderr",
          "output_type": "stream",
          "text": [
            "Epoch [704/3000]: 100%|██████████| 9/9 [00:00<00:00, 625.52it/s, loss=2.44]\n"
          ]
        },
        {
          "name": "stdout",
          "output_type": "stream",
          "text": [
            "Epoch [704/3000]: Train loss: 2.4044, Valid loss: 3.5655\n"
          ]
        },
        {
          "name": "stderr",
          "output_type": "stream",
          "text": [
            "Epoch [705/3000]: 100%|██████████| 9/9 [00:00<00:00, 602.00it/s, loss=1.85]\n"
          ]
        },
        {
          "name": "stdout",
          "output_type": "stream",
          "text": [
            "Epoch [705/3000]: Train loss: 2.3317, Valid loss: 3.6005\n"
          ]
        },
        {
          "name": "stderr",
          "output_type": "stream",
          "text": [
            "Epoch [706/3000]: 100%|██████████| 9/9 [00:00<00:00, 601.05it/s, loss=2.73]\n"
          ]
        },
        {
          "name": "stdout",
          "output_type": "stream",
          "text": [
            "Epoch [706/3000]: Train loss: 2.5958, Valid loss: 2.9540\n"
          ]
        },
        {
          "name": "stderr",
          "output_type": "stream",
          "text": [
            "Epoch [707/3000]: 100%|██████████| 9/9 [00:00<00:00, 507.04it/s, loss=6.33]\n"
          ]
        },
        {
          "name": "stdout",
          "output_type": "stream",
          "text": [
            "Epoch [707/3000]: Train loss: 3.1137, Valid loss: 4.4534\n"
          ]
        },
        {
          "name": "stderr",
          "output_type": "stream",
          "text": [
            "Epoch [708/3000]: 100%|██████████| 9/9 [00:00<00:00, 614.70it/s, loss=1.96]\n"
          ]
        },
        {
          "name": "stdout",
          "output_type": "stream",
          "text": [
            "Epoch [708/3000]: Train loss: 3.0289, Valid loss: 2.4958\n"
          ]
        },
        {
          "name": "stderr",
          "output_type": "stream",
          "text": [
            "Epoch [709/3000]: 100%|██████████| 9/9 [00:00<00:00, 518.52it/s, loss=2.79]\n"
          ]
        },
        {
          "name": "stdout",
          "output_type": "stream",
          "text": [
            "Epoch [709/3000]: Train loss: 2.2858, Valid loss: 2.3936\n"
          ]
        },
        {
          "name": "stderr",
          "output_type": "stream",
          "text": [
            "Epoch [710/3000]: 100%|██████████| 9/9 [00:00<00:00, 542.76it/s, loss=1.9]\n"
          ]
        },
        {
          "name": "stdout",
          "output_type": "stream",
          "text": [
            "Epoch [710/3000]: Train loss: 2.3558, Valid loss: 3.1103\n"
          ]
        },
        {
          "name": "stderr",
          "output_type": "stream",
          "text": [
            "Epoch [711/3000]: 100%|██████████| 9/9 [00:00<00:00, 603.62it/s, loss=2.16]\n"
          ]
        },
        {
          "name": "stdout",
          "output_type": "stream",
          "text": [
            "Epoch [711/3000]: Train loss: 2.3838, Valid loss: 3.8399\n"
          ]
        },
        {
          "name": "stderr",
          "output_type": "stream",
          "text": [
            "Epoch [712/3000]: 100%|██████████| 9/9 [00:00<00:00, 456.76it/s, loss=6.97]\n"
          ]
        },
        {
          "name": "stdout",
          "output_type": "stream",
          "text": [
            "Epoch [712/3000]: Train loss: 4.4611, Valid loss: 3.5509\n"
          ]
        },
        {
          "name": "stderr",
          "output_type": "stream",
          "text": [
            "Epoch [713/3000]: 100%|██████████| 9/9 [00:00<00:00, 578.82it/s, loss=7.8]\n"
          ]
        },
        {
          "name": "stdout",
          "output_type": "stream",
          "text": [
            "Epoch [713/3000]: Train loss: 5.0090, Valid loss: 2.9340\n"
          ]
        },
        {
          "name": "stderr",
          "output_type": "stream",
          "text": [
            "Epoch [714/3000]: 100%|██████████| 9/9 [00:00<00:00, 545.62it/s, loss=2.11]\n"
          ]
        },
        {
          "name": "stdout",
          "output_type": "stream",
          "text": [
            "Epoch [714/3000]: Train loss: 2.8049, Valid loss: 2.1956\n"
          ]
        },
        {
          "name": "stderr",
          "output_type": "stream",
          "text": [
            "Epoch [715/3000]: 100%|██████████| 9/9 [00:00<00:00, 482.70it/s, loss=2.26]\n"
          ]
        },
        {
          "name": "stdout",
          "output_type": "stream",
          "text": [
            "Epoch [715/3000]: Train loss: 2.2646, Valid loss: 3.8821\n"
          ]
        },
        {
          "name": "stderr",
          "output_type": "stream",
          "text": [
            "Epoch [716/3000]: 100%|██████████| 9/9 [00:00<00:00, 136.32it/s, loss=3.79]\n"
          ]
        },
        {
          "name": "stdout",
          "output_type": "stream",
          "text": [
            "Epoch [716/3000]: Train loss: 2.9442, Valid loss: 3.0731\n"
          ]
        },
        {
          "name": "stderr",
          "output_type": "stream",
          "text": [
            "Epoch [717/3000]: 100%|██████████| 9/9 [00:00<00:00, 631.32it/s, loss=2.13]\n"
          ]
        },
        {
          "name": "stdout",
          "output_type": "stream",
          "text": [
            "Epoch [717/3000]: Train loss: 2.8931, Valid loss: 2.3026\n"
          ]
        },
        {
          "name": "stderr",
          "output_type": "stream",
          "text": [
            "Epoch [718/3000]: 100%|██████████| 9/9 [00:00<00:00, 564.40it/s, loss=2.63]\n"
          ]
        },
        {
          "name": "stdout",
          "output_type": "stream",
          "text": [
            "Epoch [718/3000]: Train loss: 2.4890, Valid loss: 3.5311\n"
          ]
        },
        {
          "name": "stderr",
          "output_type": "stream",
          "text": [
            "Epoch [719/3000]: 100%|██████████| 9/9 [00:00<00:00, 207.32it/s, loss=1.96]\n"
          ]
        },
        {
          "name": "stdout",
          "output_type": "stream",
          "text": [
            "Epoch [719/3000]: Train loss: 2.6636, Valid loss: 2.8964\n"
          ]
        },
        {
          "name": "stderr",
          "output_type": "stream",
          "text": [
            "Epoch [720/3000]: 100%|██████████| 9/9 [00:00<00:00, 573.58it/s, loss=1.89]\n"
          ]
        },
        {
          "name": "stdout",
          "output_type": "stream",
          "text": [
            "Epoch [720/3000]: Train loss: 2.3134, Valid loss: 2.3563\n"
          ]
        },
        {
          "name": "stderr",
          "output_type": "stream",
          "text": [
            "Epoch [721/3000]: 100%|██████████| 9/9 [00:00<00:00, 551.81it/s, loss=2.33]\n"
          ]
        },
        {
          "name": "stdout",
          "output_type": "stream",
          "text": [
            "Epoch [721/3000]: Train loss: 2.4571, Valid loss: 2.2655\n"
          ]
        },
        {
          "name": "stderr",
          "output_type": "stream",
          "text": [
            "Epoch [722/3000]: 100%|██████████| 9/9 [00:00<00:00, 655.02it/s, loss=1.81]\n"
          ]
        },
        {
          "name": "stdout",
          "output_type": "stream",
          "text": [
            "Epoch [722/3000]: Train loss: 2.2574, Valid loss: 3.1128\n"
          ]
        },
        {
          "name": "stderr",
          "output_type": "stream",
          "text": [
            "Epoch [723/3000]: 100%|██████████| 9/9 [00:00<00:00, 609.55it/s, loss=2.17]\n"
          ]
        },
        {
          "name": "stdout",
          "output_type": "stream",
          "text": [
            "Epoch [723/3000]: Train loss: 2.3382, Valid loss: 2.5860\n"
          ]
        },
        {
          "name": "stderr",
          "output_type": "stream",
          "text": [
            "Epoch [724/3000]: 100%|██████████| 9/9 [00:00<00:00, 690.08it/s, loss=3.51]\n"
          ]
        },
        {
          "name": "stdout",
          "output_type": "stream",
          "text": [
            "Epoch [724/3000]: Train loss: 3.3176, Valid loss: 3.5472\n"
          ]
        },
        {
          "name": "stderr",
          "output_type": "stream",
          "text": [
            "Epoch [725/3000]: 100%|██████████| 9/9 [00:00<00:00, 494.40it/s, loss=3.14]\n"
          ]
        },
        {
          "name": "stdout",
          "output_type": "stream",
          "text": [
            "Epoch [725/3000]: Train loss: 2.9308, Valid loss: 2.7918\n"
          ]
        },
        {
          "name": "stderr",
          "output_type": "stream",
          "text": [
            "Epoch [726/3000]: 100%|██████████| 9/9 [00:00<00:00, 447.50it/s, loss=2.9]\n"
          ]
        },
        {
          "name": "stdout",
          "output_type": "stream",
          "text": [
            "Epoch [726/3000]: Train loss: 2.7196, Valid loss: 2.9657\n"
          ]
        },
        {
          "name": "stderr",
          "output_type": "stream",
          "text": [
            "Epoch [727/3000]: 100%|██████████| 9/9 [00:00<00:00, 587.61it/s, loss=3.64]\n"
          ]
        },
        {
          "name": "stdout",
          "output_type": "stream",
          "text": [
            "Epoch [727/3000]: Train loss: 2.4893, Valid loss: 5.3533\n"
          ]
        },
        {
          "name": "stderr",
          "output_type": "stream",
          "text": [
            "Epoch [728/3000]: 100%|██████████| 9/9 [00:00<00:00, 563.37it/s, loss=5.07]\n"
          ]
        },
        {
          "name": "stdout",
          "output_type": "stream",
          "text": [
            "Epoch [728/3000]: Train loss: 4.1563, Valid loss: 2.3426\n"
          ]
        },
        {
          "name": "stderr",
          "output_type": "stream",
          "text": [
            "Epoch [729/3000]: 100%|██████████| 9/9 [00:00<00:00, 241.95it/s, loss=2.42]\n"
          ]
        },
        {
          "name": "stdout",
          "output_type": "stream",
          "text": [
            "Epoch [729/3000]: Train loss: 3.1205, Valid loss: 3.2571\n"
          ]
        },
        {
          "name": "stderr",
          "output_type": "stream",
          "text": [
            "Epoch [730/3000]: 100%|██████████| 9/9 [00:00<00:00, 346.45it/s, loss=2.03]\n"
          ]
        },
        {
          "name": "stdout",
          "output_type": "stream",
          "text": [
            "Epoch [730/3000]: Train loss: 2.2205, Valid loss: 3.3126\n"
          ]
        },
        {
          "name": "stderr",
          "output_type": "stream",
          "text": [
            "Epoch [731/3000]: 100%|██████████| 9/9 [00:00<00:00, 618.86it/s, loss=4.4]\n"
          ]
        },
        {
          "name": "stdout",
          "output_type": "stream",
          "text": [
            "Epoch [731/3000]: Train loss: 2.9264, Valid loss: 3.2019\n"
          ]
        },
        {
          "name": "stderr",
          "output_type": "stream",
          "text": [
            "Epoch [732/3000]: 100%|██████████| 9/9 [00:00<00:00, 518.16it/s, loss=2.67]\n"
          ]
        },
        {
          "name": "stdout",
          "output_type": "stream",
          "text": [
            "Epoch [732/3000]: Train loss: 2.9589, Valid loss: 2.1568\n"
          ]
        },
        {
          "name": "stderr",
          "output_type": "stream",
          "text": [
            "Epoch [733/3000]: 100%|██████████| 9/9 [00:00<00:00, 496.28it/s, loss=2.46]\n"
          ]
        },
        {
          "name": "stdout",
          "output_type": "stream",
          "text": [
            "Epoch [733/3000]: Train loss: 2.1628, Valid loss: 2.9221\n"
          ]
        },
        {
          "name": "stderr",
          "output_type": "stream",
          "text": [
            "Epoch [734/3000]: 100%|██████████| 9/9 [00:00<00:00, 645.44it/s, loss=2.42]\n"
          ]
        },
        {
          "name": "stdout",
          "output_type": "stream",
          "text": [
            "Epoch [734/3000]: Train loss: 2.1290, Valid loss: 2.7935\n"
          ]
        },
        {
          "name": "stderr",
          "output_type": "stream",
          "text": [
            "Epoch [735/3000]: 100%|██████████| 9/9 [00:00<00:00, 510.21it/s, loss=5.19]\n"
          ]
        },
        {
          "name": "stdout",
          "output_type": "stream",
          "text": [
            "Epoch [735/3000]: Train loss: 3.2567, Valid loss: 2.7302\n"
          ]
        },
        {
          "name": "stderr",
          "output_type": "stream",
          "text": [
            "Epoch [736/3000]: 100%|██████████| 9/9 [00:00<00:00, 562.39it/s, loss=3.52]\n"
          ]
        },
        {
          "name": "stdout",
          "output_type": "stream",
          "text": [
            "Epoch [736/3000]: Train loss: 2.7327, Valid loss: 4.0690\n"
          ]
        },
        {
          "name": "stderr",
          "output_type": "stream",
          "text": [
            "Epoch [737/3000]: 100%|██████████| 9/9 [00:00<00:00, 550.05it/s, loss=1.96]\n"
          ]
        },
        {
          "name": "stdout",
          "output_type": "stream",
          "text": [
            "Epoch [737/3000]: Train loss: 2.4496, Valid loss: 2.0723\n"
          ]
        },
        {
          "name": "stderr",
          "output_type": "stream",
          "text": [
            "Epoch [738/3000]: 100%|██████████| 9/9 [00:00<00:00, 543.77it/s, loss=2.01]\n"
          ]
        },
        {
          "name": "stdout",
          "output_type": "stream",
          "text": [
            "Epoch [738/3000]: Train loss: 2.0882, Valid loss: 2.2061\n"
          ]
        },
        {
          "name": "stderr",
          "output_type": "stream",
          "text": [
            "Epoch [739/3000]: 100%|██████████| 9/9 [00:00<00:00, 659.19it/s, loss=2.23]\n"
          ]
        },
        {
          "name": "stdout",
          "output_type": "stream",
          "text": [
            "Epoch [739/3000]: Train loss: 2.0791, Valid loss: 3.0749\n"
          ]
        },
        {
          "name": "stderr",
          "output_type": "stream",
          "text": [
            "Epoch [740/3000]: 100%|██████████| 9/9 [00:00<00:00, 169.48it/s, loss=1.62]\n"
          ]
        },
        {
          "name": "stdout",
          "output_type": "stream",
          "text": [
            "Epoch [740/3000]: Train loss: 2.2950, Valid loss: 2.5883\n"
          ]
        },
        {
          "name": "stderr",
          "output_type": "stream",
          "text": [
            "Epoch [741/3000]: 100%|██████████| 9/9 [00:00<00:00, 664.40it/s, loss=2.35]\n"
          ]
        },
        {
          "name": "stdout",
          "output_type": "stream",
          "text": [
            "Epoch [741/3000]: Train loss: 2.4363, Valid loss: 3.6472\n"
          ]
        },
        {
          "name": "stderr",
          "output_type": "stream",
          "text": [
            "Epoch [742/3000]: 100%|██████████| 9/9 [00:00<00:00, 598.97it/s, loss=2.37]\n"
          ]
        },
        {
          "name": "stdout",
          "output_type": "stream",
          "text": [
            "Epoch [742/3000]: Train loss: 2.4217, Valid loss: 3.2992\n"
          ]
        },
        {
          "name": "stderr",
          "output_type": "stream",
          "text": [
            "Epoch [743/3000]: 100%|██████████| 9/9 [00:00<00:00, 656.84it/s, loss=3.17]\n"
          ]
        },
        {
          "name": "stdout",
          "output_type": "stream",
          "text": [
            "Epoch [743/3000]: Train loss: 2.3872, Valid loss: 2.3738\n"
          ]
        },
        {
          "name": "stderr",
          "output_type": "stream",
          "text": [
            "Epoch [744/3000]: 100%|██████████| 9/9 [00:00<00:00, 527.30it/s, loss=1.77]\n"
          ]
        },
        {
          "name": "stdout",
          "output_type": "stream",
          "text": [
            "Epoch [744/3000]: Train loss: 2.1336, Valid loss: 2.6431\n"
          ]
        },
        {
          "name": "stderr",
          "output_type": "stream",
          "text": [
            "Epoch [745/3000]: 100%|██████████| 9/9 [00:00<00:00, 600.17it/s, loss=2.93]\n"
          ]
        },
        {
          "name": "stdout",
          "output_type": "stream",
          "text": [
            "Epoch [745/3000]: Train loss: 2.3818, Valid loss: 2.8301\n"
          ]
        },
        {
          "name": "stderr",
          "output_type": "stream",
          "text": [
            "Epoch [746/3000]: 100%|██████████| 9/9 [00:00<00:00, 622.20it/s, loss=2.07]\n"
          ]
        },
        {
          "name": "stdout",
          "output_type": "stream",
          "text": [
            "Epoch [746/3000]: Train loss: 2.5115, Valid loss: 4.0141\n"
          ]
        },
        {
          "name": "stderr",
          "output_type": "stream",
          "text": [
            "Epoch [747/3000]: 100%|██████████| 9/9 [00:00<00:00, 607.32it/s, loss=2.69]\n"
          ]
        },
        {
          "name": "stdout",
          "output_type": "stream",
          "text": [
            "Epoch [747/3000]: Train loss: 2.5665, Valid loss: 2.2947\n"
          ]
        },
        {
          "name": "stderr",
          "output_type": "stream",
          "text": [
            "Epoch [748/3000]: 100%|██████████| 9/9 [00:00<00:00, 678.17it/s, loss=2.17]\n"
          ]
        },
        {
          "name": "stdout",
          "output_type": "stream",
          "text": [
            "Epoch [748/3000]: Train loss: 2.0535, Valid loss: 2.2410\n"
          ]
        },
        {
          "name": "stderr",
          "output_type": "stream",
          "text": [
            "Epoch [749/3000]: 100%|██████████| 9/9 [00:00<00:00, 539.09it/s, loss=1.94]\n"
          ]
        },
        {
          "name": "stdout",
          "output_type": "stream",
          "text": [
            "Epoch [749/3000]: Train loss: 2.0648, Valid loss: 2.1928\n"
          ]
        },
        {
          "name": "stderr",
          "output_type": "stream",
          "text": [
            "Epoch [750/3000]: 100%|██████████| 9/9 [00:00<00:00, 552.27it/s, loss=2.08]\n"
          ]
        },
        {
          "name": "stdout",
          "output_type": "stream",
          "text": [
            "Epoch [750/3000]: Train loss: 2.1372, Valid loss: 2.2457\n"
          ]
        },
        {
          "name": "stderr",
          "output_type": "stream",
          "text": [
            "Epoch [751/3000]: 100%|██████████| 9/9 [00:00<00:00, 394.82it/s, loss=2.59]\n"
          ]
        },
        {
          "name": "stdout",
          "output_type": "stream",
          "text": [
            "Epoch [751/3000]: Train loss: 2.3471, Valid loss: 2.7225\n"
          ]
        },
        {
          "name": "stderr",
          "output_type": "stream",
          "text": [
            "Epoch [752/3000]: 100%|██████████| 9/9 [00:00<00:00, 498.04it/s, loss=2.05]\n"
          ]
        },
        {
          "name": "stdout",
          "output_type": "stream",
          "text": [
            "Epoch [752/3000]: Train loss: 2.2342, Valid loss: 2.9316\n"
          ]
        },
        {
          "name": "stderr",
          "output_type": "stream",
          "text": [
            "Epoch [753/3000]: 100%|██████████| 9/9 [00:00<00:00, 606.77it/s, loss=2.59]\n"
          ]
        },
        {
          "name": "stdout",
          "output_type": "stream",
          "text": [
            "Epoch [753/3000]: Train loss: 2.1761, Valid loss: 2.1589\n"
          ]
        },
        {
          "name": "stderr",
          "output_type": "stream",
          "text": [
            "Epoch [754/3000]: 100%|██████████| 9/9 [00:00<00:00, 563.52it/s, loss=2.18]\n"
          ]
        },
        {
          "name": "stdout",
          "output_type": "stream",
          "text": [
            "Epoch [754/3000]: Train loss: 2.0485, Valid loss: 2.5120\n"
          ]
        },
        {
          "name": "stderr",
          "output_type": "stream",
          "text": [
            "Epoch [755/3000]: 100%|██████████| 9/9 [00:00<00:00, 670.79it/s, loss=1.99]\n"
          ]
        },
        {
          "name": "stdout",
          "output_type": "stream",
          "text": [
            "Epoch [755/3000]: Train loss: 2.1087, Valid loss: 3.7412\n"
          ]
        },
        {
          "name": "stderr",
          "output_type": "stream",
          "text": [
            "Epoch [756/3000]: 100%|██████████| 9/9 [00:00<00:00, 174.68it/s, loss=2.96]\n"
          ]
        },
        {
          "name": "stdout",
          "output_type": "stream",
          "text": [
            "Epoch [756/3000]: Train loss: 2.6001, Valid loss: 2.2224\n"
          ]
        },
        {
          "name": "stderr",
          "output_type": "stream",
          "text": [
            "Epoch [757/3000]: 100%|██████████| 9/9 [00:00<00:00, 445.56it/s, loss=3.22]\n"
          ]
        },
        {
          "name": "stdout",
          "output_type": "stream",
          "text": [
            "Epoch [757/3000]: Train loss: 3.0909, Valid loss: 2.6307\n"
          ]
        },
        {
          "name": "stderr",
          "output_type": "stream",
          "text": [
            "Epoch [758/3000]: 100%|██████████| 9/9 [00:00<00:00, 659.92it/s, loss=2.41]\n"
          ]
        },
        {
          "name": "stdout",
          "output_type": "stream",
          "text": [
            "Epoch [758/3000]: Train loss: 2.7663, Valid loss: 3.1283\n"
          ]
        },
        {
          "name": "stderr",
          "output_type": "stream",
          "text": [
            "Epoch [759/3000]: 100%|██████████| 9/9 [00:00<00:00, 618.85it/s, loss=1.94]\n"
          ]
        },
        {
          "name": "stdout",
          "output_type": "stream",
          "text": [
            "Epoch [759/3000]: Train loss: 2.5594, Valid loss: 3.3584\n"
          ]
        },
        {
          "name": "stderr",
          "output_type": "stream",
          "text": [
            "Epoch [760/3000]: 100%|██████████| 9/9 [00:00<00:00, 628.09it/s, loss=2.45]\n"
          ]
        },
        {
          "name": "stdout",
          "output_type": "stream",
          "text": [
            "Epoch [760/3000]: Train loss: 2.4073, Valid loss: 3.1315\n"
          ]
        },
        {
          "name": "stderr",
          "output_type": "stream",
          "text": [
            "Epoch [761/3000]: 100%|██████████| 9/9 [00:00<00:00, 501.31it/s, loss=2.45]\n"
          ]
        },
        {
          "name": "stdout",
          "output_type": "stream",
          "text": [
            "Epoch [761/3000]: Train loss: 2.4923, Valid loss: 2.1496\n"
          ]
        },
        {
          "name": "stderr",
          "output_type": "stream",
          "text": [
            "Epoch [762/3000]: 100%|██████████| 9/9 [00:00<00:00, 579.60it/s, loss=2.21]\n"
          ]
        },
        {
          "name": "stdout",
          "output_type": "stream",
          "text": [
            "Epoch [762/3000]: Train loss: 2.5937, Valid loss: 3.6944\n"
          ]
        },
        {
          "name": "stderr",
          "output_type": "stream",
          "text": [
            "Epoch [763/3000]: 100%|██████████| 9/9 [00:00<00:00, 525.39it/s, loss=3.14]\n"
          ]
        },
        {
          "name": "stdout",
          "output_type": "stream",
          "text": [
            "Epoch [763/3000]: Train loss: 2.8248, Valid loss: 2.5763\n"
          ]
        },
        {
          "name": "stderr",
          "output_type": "stream",
          "text": [
            "Epoch [764/3000]: 100%|██████████| 9/9 [00:00<00:00, 524.50it/s, loss=2.21]\n"
          ]
        },
        {
          "name": "stdout",
          "output_type": "stream",
          "text": [
            "Epoch [764/3000]: Train loss: 2.3560, Valid loss: 2.2981\n"
          ]
        },
        {
          "name": "stderr",
          "output_type": "stream",
          "text": [
            "Epoch [765/3000]: 100%|██████████| 9/9 [00:00<00:00, 693.91it/s, loss=1.89]\n"
          ]
        },
        {
          "name": "stdout",
          "output_type": "stream",
          "text": [
            "Epoch [765/3000]: Train loss: 2.0829, Valid loss: 2.3037\n"
          ]
        },
        {
          "name": "stderr",
          "output_type": "stream",
          "text": [
            "Epoch [766/3000]: 100%|██████████| 9/9 [00:00<00:00, 589.05it/s, loss=2.04]\n"
          ]
        },
        {
          "name": "stdout",
          "output_type": "stream",
          "text": [
            "Epoch [766/3000]: Train loss: 2.0488, Valid loss: 2.5191\n"
          ]
        },
        {
          "name": "stderr",
          "output_type": "stream",
          "text": [
            "Epoch [767/3000]: 100%|██████████| 9/9 [00:00<00:00, 165.88it/s, loss=3.06]\n"
          ]
        },
        {
          "name": "stdout",
          "output_type": "stream",
          "text": [
            "Epoch [767/3000]: Train loss: 2.4824, Valid loss: 2.1346\n"
          ]
        },
        {
          "name": "stderr",
          "output_type": "stream",
          "text": [
            "Epoch [768/3000]: 100%|██████████| 9/9 [00:00<00:00, 626.92it/s, loss=2.23]\n"
          ]
        },
        {
          "name": "stdout",
          "output_type": "stream",
          "text": [
            "Epoch [768/3000]: Train loss: 2.4810, Valid loss: 5.8808\n"
          ]
        },
        {
          "name": "stderr",
          "output_type": "stream",
          "text": [
            "Epoch [769/3000]: 100%|██████████| 9/9 [00:00<00:00, 645.86it/s, loss=3.43]\n"
          ]
        },
        {
          "name": "stdout",
          "output_type": "stream",
          "text": [
            "Epoch [769/3000]: Train loss: 3.4092, Valid loss: 2.5646\n"
          ]
        },
        {
          "name": "stderr",
          "output_type": "stream",
          "text": [
            "Epoch [770/3000]: 100%|██████████| 9/9 [00:00<00:00, 497.59it/s, loss=2]\n"
          ]
        },
        {
          "name": "stdout",
          "output_type": "stream",
          "text": [
            "Epoch [770/3000]: Train loss: 2.5008, Valid loss: 3.2595\n"
          ]
        },
        {
          "name": "stderr",
          "output_type": "stream",
          "text": [
            "Epoch [771/3000]: 100%|██████████| 9/9 [00:00<00:00, 445.38it/s, loss=3.6]\n"
          ]
        },
        {
          "name": "stdout",
          "output_type": "stream",
          "text": [
            "Epoch [771/3000]: Train loss: 2.6034, Valid loss: 2.4043\n"
          ]
        },
        {
          "name": "stderr",
          "output_type": "stream",
          "text": [
            "Epoch [772/3000]: 100%|██████████| 9/9 [00:00<00:00, 569.48it/s, loss=1.92]\n"
          ]
        },
        {
          "name": "stdout",
          "output_type": "stream",
          "text": [
            "Epoch [772/3000]: Train loss: 2.2636, Valid loss: 2.8155\n"
          ]
        },
        {
          "name": "stderr",
          "output_type": "stream",
          "text": [
            "Epoch [773/3000]: 100%|██████████| 9/9 [00:00<00:00, 402.22it/s, loss=1.91]\n"
          ]
        },
        {
          "name": "stdout",
          "output_type": "stream",
          "text": [
            "Epoch [773/3000]: Train loss: 2.2768, Valid loss: 2.5802\n"
          ]
        },
        {
          "name": "stderr",
          "output_type": "stream",
          "text": [
            "Epoch [774/3000]: 100%|██████████| 9/9 [00:00<00:00, 391.24it/s, loss=2.7]\n"
          ]
        },
        {
          "name": "stdout",
          "output_type": "stream",
          "text": [
            "Epoch [774/3000]: Train loss: 2.3191, Valid loss: 2.8947\n"
          ]
        },
        {
          "name": "stderr",
          "output_type": "stream",
          "text": [
            "Epoch [775/3000]: 100%|██████████| 9/9 [00:00<00:00, 614.88it/s, loss=1.82]\n"
          ]
        },
        {
          "name": "stdout",
          "output_type": "stream",
          "text": [
            "Epoch [775/3000]: Train loss: 2.4302, Valid loss: 3.2754\n"
          ]
        },
        {
          "name": "stderr",
          "output_type": "stream",
          "text": [
            "Epoch [776/3000]: 100%|██████████| 9/9 [00:00<00:00, 178.57it/s, loss=1.85]\n"
          ]
        },
        {
          "name": "stdout",
          "output_type": "stream",
          "text": [
            "Epoch [776/3000]: Train loss: 2.2383, Valid loss: 2.0671\n"
          ]
        },
        {
          "name": "stderr",
          "output_type": "stream",
          "text": [
            "Epoch [777/3000]: 100%|██████████| 9/9 [00:00<00:00, 615.09it/s, loss=3.04]\n"
          ]
        },
        {
          "name": "stdout",
          "output_type": "stream",
          "text": [
            "Epoch [777/3000]: Train loss: 2.0563, Valid loss: 2.0707\n"
          ]
        },
        {
          "name": "stderr",
          "output_type": "stream",
          "text": [
            "Epoch [778/3000]: 100%|██████████| 9/9 [00:00<00:00, 586.35it/s, loss=2.33]\n"
          ]
        },
        {
          "name": "stdout",
          "output_type": "stream",
          "text": [
            "Epoch [778/3000]: Train loss: 2.1676, Valid loss: 2.2123\n"
          ]
        },
        {
          "name": "stderr",
          "output_type": "stream",
          "text": [
            "Epoch [779/3000]: 100%|██████████| 9/9 [00:00<00:00, 587.38it/s, loss=1.8]\n"
          ]
        },
        {
          "name": "stdout",
          "output_type": "stream",
          "text": [
            "Epoch [779/3000]: Train loss: 2.2818, Valid loss: 2.4447\n"
          ]
        },
        {
          "name": "stderr",
          "output_type": "stream",
          "text": [
            "Epoch [780/3000]: 100%|██████████| 9/9 [00:00<00:00, 357.50it/s, loss=1.97]\n"
          ]
        },
        {
          "name": "stdout",
          "output_type": "stream",
          "text": [
            "Epoch [780/3000]: Train loss: 2.1470, Valid loss: 2.2246\n"
          ]
        },
        {
          "name": "stderr",
          "output_type": "stream",
          "text": [
            "Epoch [781/3000]: 100%|██████████| 9/9 [00:00<00:00, 562.04it/s, loss=2.08]\n"
          ]
        },
        {
          "name": "stdout",
          "output_type": "stream",
          "text": [
            "Epoch [781/3000]: Train loss: 2.5341, Valid loss: 4.0320\n"
          ]
        },
        {
          "name": "stderr",
          "output_type": "stream",
          "text": [
            "Epoch [782/3000]: 100%|██████████| 9/9 [00:00<00:00, 526.28it/s, loss=3.32]\n"
          ]
        },
        {
          "name": "stdout",
          "output_type": "stream",
          "text": [
            "Epoch [782/3000]: Train loss: 4.4719, Valid loss: 4.0082\n"
          ]
        },
        {
          "name": "stderr",
          "output_type": "stream",
          "text": [
            "Epoch [783/3000]: 100%|██████████| 9/9 [00:00<00:00, 548.38it/s, loss=3.35]\n"
          ]
        },
        {
          "name": "stdout",
          "output_type": "stream",
          "text": [
            "Epoch [783/3000]: Train loss: 2.8354, Valid loss: 4.3479\n"
          ]
        },
        {
          "name": "stderr",
          "output_type": "stream",
          "text": [
            "Epoch [784/3000]: 100%|██████████| 9/9 [00:00<00:00, 626.58it/s, loss=5.27]\n"
          ]
        },
        {
          "name": "stdout",
          "output_type": "stream",
          "text": [
            "Epoch [784/3000]: Train loss: 3.7486, Valid loss: 2.5078\n"
          ]
        },
        {
          "name": "stderr",
          "output_type": "stream",
          "text": [
            "Epoch [785/3000]: 100%|██████████| 9/9 [00:00<00:00, 685.57it/s, loss=4.85]\n"
          ]
        },
        {
          "name": "stdout",
          "output_type": "stream",
          "text": [
            "Epoch [785/3000]: Train loss: 3.4195, Valid loss: 3.0542\n"
          ]
        },
        {
          "name": "stderr",
          "output_type": "stream",
          "text": [
            "Epoch [786/3000]: 100%|██████████| 9/9 [00:00<00:00, 157.18it/s, loss=2.41]\n"
          ]
        },
        {
          "name": "stdout",
          "output_type": "stream",
          "text": [
            "Epoch [786/3000]: Train loss: 3.5453, Valid loss: 4.5357\n"
          ]
        },
        {
          "name": "stderr",
          "output_type": "stream",
          "text": [
            "Epoch [787/3000]: 100%|██████████| 9/9 [00:00<00:00, 653.02it/s, loss=2.81]\n"
          ]
        },
        {
          "name": "stdout",
          "output_type": "stream",
          "text": [
            "Epoch [787/3000]: Train loss: 2.7767, Valid loss: 3.7469\n"
          ]
        },
        {
          "name": "stderr",
          "output_type": "stream",
          "text": [
            "Epoch [788/3000]: 100%|██████████| 9/9 [00:00<00:00, 650.52it/s, loss=3.58]\n"
          ]
        },
        {
          "name": "stdout",
          "output_type": "stream",
          "text": [
            "Epoch [788/3000]: Train loss: 3.2076, Valid loss: 2.3606\n"
          ]
        },
        {
          "name": "stderr",
          "output_type": "stream",
          "text": [
            "Epoch [789/3000]: 100%|██████████| 9/9 [00:00<00:00, 622.01it/s, loss=2.02]\n"
          ]
        },
        {
          "name": "stdout",
          "output_type": "stream",
          "text": [
            "Epoch [789/3000]: Train loss: 2.6771, Valid loss: 3.1386\n"
          ]
        },
        {
          "name": "stderr",
          "output_type": "stream",
          "text": [
            "Epoch [790/3000]: 100%|██████████| 9/9 [00:00<00:00, 541.48it/s, loss=2.4]\n"
          ]
        },
        {
          "name": "stdout",
          "output_type": "stream",
          "text": [
            "Epoch [790/3000]: Train loss: 2.1332, Valid loss: 1.9642\n",
            "Saving model with loss 1.964...\n"
          ]
        },
        {
          "name": "stderr",
          "output_type": "stream",
          "text": [
            "Epoch [791/3000]: 100%|██████████| 9/9 [00:00<00:00, 555.36it/s, loss=2.51]\n"
          ]
        },
        {
          "name": "stdout",
          "output_type": "stream",
          "text": [
            "Epoch [791/3000]: Train loss: 2.4934, Valid loss: 5.2824\n"
          ]
        },
        {
          "name": "stderr",
          "output_type": "stream",
          "text": [
            "Epoch [792/3000]: 100%|██████████| 9/9 [00:00<00:00, 530.69it/s, loss=2.16]\n"
          ]
        },
        {
          "name": "stdout",
          "output_type": "stream",
          "text": [
            "Epoch [792/3000]: Train loss: 3.7767, Valid loss: 3.7104\n"
          ]
        },
        {
          "name": "stderr",
          "output_type": "stream",
          "text": [
            "Epoch [793/3000]: 100%|██████████| 9/9 [00:00<00:00, 134.02it/s, loss=2.62]\n"
          ]
        },
        {
          "name": "stdout",
          "output_type": "stream",
          "text": [
            "Epoch [793/3000]: Train loss: 2.7317, Valid loss: 1.9521\n",
            "Saving model with loss 1.952...\n"
          ]
        },
        {
          "name": "stderr",
          "output_type": "stream",
          "text": [
            "Epoch [794/3000]: 100%|██████████| 9/9 [00:00<00:00, 481.95it/s, loss=1.98]\n"
          ]
        },
        {
          "name": "stdout",
          "output_type": "stream",
          "text": [
            "Epoch [794/3000]: Train loss: 2.0102, Valid loss: 3.2270\n"
          ]
        },
        {
          "name": "stderr",
          "output_type": "stream",
          "text": [
            "Epoch [795/3000]: 100%|██████████| 9/9 [00:00<00:00, 565.36it/s, loss=3.87]\n"
          ]
        },
        {
          "name": "stdout",
          "output_type": "stream",
          "text": [
            "Epoch [795/3000]: Train loss: 2.5359, Valid loss: 2.5863\n"
          ]
        },
        {
          "name": "stderr",
          "output_type": "stream",
          "text": [
            "Epoch [796/3000]: 100%|██████████| 9/9 [00:00<00:00, 208.15it/s, loss=2.24]\n"
          ]
        },
        {
          "name": "stdout",
          "output_type": "stream",
          "text": [
            "Epoch [796/3000]: Train loss: 2.5753, Valid loss: 2.7365\n"
          ]
        },
        {
          "name": "stderr",
          "output_type": "stream",
          "text": [
            "Epoch [797/3000]: 100%|██████████| 9/9 [00:00<00:00, 318.64it/s, loss=1.63]\n"
          ]
        },
        {
          "name": "stdout",
          "output_type": "stream",
          "text": [
            "Epoch [797/3000]: Train loss: 2.1977, Valid loss: 2.6542\n"
          ]
        },
        {
          "name": "stderr",
          "output_type": "stream",
          "text": [
            "Epoch [798/3000]: 100%|██████████| 9/9 [00:00<00:00, 545.45it/s, loss=2.01]\n"
          ]
        },
        {
          "name": "stdout",
          "output_type": "stream",
          "text": [
            "Epoch [798/3000]: Train loss: 2.1128, Valid loss: 2.5019\n"
          ]
        },
        {
          "name": "stderr",
          "output_type": "stream",
          "text": [
            "Epoch [799/3000]: 100%|██████████| 9/9 [00:00<00:00, 541.43it/s, loss=1.62]\n"
          ]
        },
        {
          "name": "stdout",
          "output_type": "stream",
          "text": [
            "Epoch [799/3000]: Train loss: 2.0044, Valid loss: 2.0267\n"
          ]
        },
        {
          "name": "stderr",
          "output_type": "stream",
          "text": [
            "Epoch [800/3000]: 100%|██████████| 9/9 [00:00<00:00, 520.99it/s, loss=2.79]\n"
          ]
        },
        {
          "name": "stdout",
          "output_type": "stream",
          "text": [
            "Epoch [800/3000]: Train loss: 2.1110, Valid loss: 2.3682\n"
          ]
        },
        {
          "name": "stderr",
          "output_type": "stream",
          "text": [
            "Epoch [801/3000]: 100%|██████████| 9/9 [00:00<00:00, 620.83it/s, loss=2.87]\n"
          ]
        },
        {
          "name": "stdout",
          "output_type": "stream",
          "text": [
            "Epoch [801/3000]: Train loss: 2.2975, Valid loss: 2.3505\n"
          ]
        },
        {
          "name": "stderr",
          "output_type": "stream",
          "text": [
            "Epoch [802/3000]: 100%|██████████| 9/9 [00:00<00:00, 578.10it/s, loss=2.25]\n"
          ]
        },
        {
          "name": "stdout",
          "output_type": "stream",
          "text": [
            "Epoch [802/3000]: Train loss: 2.6819, Valid loss: 4.8422\n"
          ]
        },
        {
          "name": "stderr",
          "output_type": "stream",
          "text": [
            "Epoch [803/3000]: 100%|██████████| 9/9 [00:00<00:00, 565.54it/s, loss=2.95]\n"
          ]
        },
        {
          "name": "stdout",
          "output_type": "stream",
          "text": [
            "Epoch [803/3000]: Train loss: 2.7041, Valid loss: 2.2815\n"
          ]
        },
        {
          "name": "stderr",
          "output_type": "stream",
          "text": [
            "Epoch [804/3000]: 100%|██████████| 9/9 [00:00<00:00, 573.65it/s, loss=2.26]\n"
          ]
        },
        {
          "name": "stdout",
          "output_type": "stream",
          "text": [
            "Epoch [804/3000]: Train loss: 2.1408, Valid loss: 2.3423\n"
          ]
        },
        {
          "name": "stderr",
          "output_type": "stream",
          "text": [
            "Epoch [805/3000]: 100%|██████████| 9/9 [00:00<00:00, 594.72it/s, loss=1.86]\n"
          ]
        },
        {
          "name": "stdout",
          "output_type": "stream",
          "text": [
            "Epoch [805/3000]: Train loss: 2.0592, Valid loss: 2.1018\n"
          ]
        },
        {
          "name": "stderr",
          "output_type": "stream",
          "text": [
            "Epoch [806/3000]: 100%|██████████| 9/9 [00:00<00:00, 153.81it/s, loss=2.96]\n"
          ]
        },
        {
          "name": "stdout",
          "output_type": "stream",
          "text": [
            "Epoch [806/3000]: Train loss: 2.1751, Valid loss: 2.8890\n"
          ]
        },
        {
          "name": "stderr",
          "output_type": "stream",
          "text": [
            "Epoch [807/3000]: 100%|██████████| 9/9 [00:00<00:00, 455.63it/s, loss=1.43]\n"
          ]
        },
        {
          "name": "stdout",
          "output_type": "stream",
          "text": [
            "Epoch [807/3000]: Train loss: 2.7058, Valid loss: 3.1173\n"
          ]
        },
        {
          "name": "stderr",
          "output_type": "stream",
          "text": [
            "Epoch [808/3000]: 100%|██████████| 9/9 [00:00<00:00, 479.72it/s, loss=2.06]\n"
          ]
        },
        {
          "name": "stdout",
          "output_type": "stream",
          "text": [
            "Epoch [808/3000]: Train loss: 2.2818, Valid loss: 1.9927\n"
          ]
        },
        {
          "name": "stderr",
          "output_type": "stream",
          "text": [
            "Epoch [809/3000]: 100%|██████████| 9/9 [00:00<00:00, 571.54it/s, loss=1.9]\n"
          ]
        },
        {
          "name": "stdout",
          "output_type": "stream",
          "text": [
            "Epoch [809/3000]: Train loss: 2.1879, Valid loss: 2.3202\n"
          ]
        },
        {
          "name": "stderr",
          "output_type": "stream",
          "text": [
            "Epoch [810/3000]: 100%|██████████| 9/9 [00:00<00:00, 541.03it/s, loss=2.71]\n"
          ]
        },
        {
          "name": "stdout",
          "output_type": "stream",
          "text": [
            "Epoch [810/3000]: Train loss: 2.2479, Valid loss: 2.4914\n"
          ]
        },
        {
          "name": "stderr",
          "output_type": "stream",
          "text": [
            "Epoch [811/3000]: 100%|██████████| 9/9 [00:00<00:00, 543.84it/s, loss=1.83]\n"
          ]
        },
        {
          "name": "stdout",
          "output_type": "stream",
          "text": [
            "Epoch [811/3000]: Train loss: 2.0821, Valid loss: 2.5204\n"
          ]
        },
        {
          "name": "stderr",
          "output_type": "stream",
          "text": [
            "Epoch [812/3000]: 100%|██████████| 9/9 [00:00<00:00, 706.55it/s, loss=2.68]\n"
          ]
        },
        {
          "name": "stdout",
          "output_type": "stream",
          "text": [
            "Epoch [812/3000]: Train loss: 2.1508, Valid loss: 2.8136\n"
          ]
        },
        {
          "name": "stderr",
          "output_type": "stream",
          "text": [
            "Epoch [813/3000]: 100%|██████████| 9/9 [00:00<00:00, 646.74it/s, loss=2.11]\n"
          ]
        },
        {
          "name": "stdout",
          "output_type": "stream",
          "text": [
            "Epoch [813/3000]: Train loss: 2.3515, Valid loss: 3.0225\n"
          ]
        },
        {
          "name": "stderr",
          "output_type": "stream",
          "text": [
            "Epoch [814/3000]: 100%|██████████| 9/9 [00:00<00:00, 597.29it/s, loss=3.34]\n"
          ]
        },
        {
          "name": "stdout",
          "output_type": "stream",
          "text": [
            "Epoch [814/3000]: Train loss: 3.7158, Valid loss: 3.9837\n"
          ]
        },
        {
          "name": "stderr",
          "output_type": "stream",
          "text": [
            "Epoch [815/3000]: 100%|██████████| 9/9 [00:00<00:00, 535.69it/s, loss=2.71]\n"
          ]
        },
        {
          "name": "stdout",
          "output_type": "stream",
          "text": [
            "Epoch [815/3000]: Train loss: 3.0004, Valid loss: 4.2213\n"
          ]
        },
        {
          "name": "stderr",
          "output_type": "stream",
          "text": [
            "Epoch [816/3000]: 100%|██████████| 9/9 [00:00<00:00, 539.18it/s, loss=2.13]\n"
          ]
        },
        {
          "name": "stdout",
          "output_type": "stream",
          "text": [
            "Epoch [816/3000]: Train loss: 2.2566, Valid loss: 2.2610\n"
          ]
        },
        {
          "name": "stderr",
          "output_type": "stream",
          "text": [
            "Epoch [817/3000]: 100%|██████████| 9/9 [00:00<00:00, 167.75it/s, loss=1.32]\n"
          ]
        },
        {
          "name": "stdout",
          "output_type": "stream",
          "text": [
            "Epoch [817/3000]: Train loss: 2.0163, Valid loss: 2.1612\n"
          ]
        },
        {
          "name": "stderr",
          "output_type": "stream",
          "text": [
            "Epoch [818/3000]: 100%|██████████| 9/9 [00:00<00:00, 446.96it/s, loss=2.11]\n"
          ]
        },
        {
          "name": "stdout",
          "output_type": "stream",
          "text": [
            "Epoch [818/3000]: Train loss: 2.0579, Valid loss: 2.7398\n"
          ]
        },
        {
          "name": "stderr",
          "output_type": "stream",
          "text": [
            "Epoch [819/3000]: 100%|██████████| 9/9 [00:00<00:00, 461.80it/s, loss=2.14]\n"
          ]
        },
        {
          "name": "stdout",
          "output_type": "stream",
          "text": [
            "Epoch [819/3000]: Train loss: 2.0252, Valid loss: 3.1496\n"
          ]
        },
        {
          "name": "stderr",
          "output_type": "stream",
          "text": [
            "Epoch [820/3000]: 100%|██████████| 9/9 [00:00<00:00, 548.51it/s, loss=1.86]\n"
          ]
        },
        {
          "name": "stdout",
          "output_type": "stream",
          "text": [
            "Epoch [820/3000]: Train loss: 2.3403, Valid loss: 2.1390\n"
          ]
        },
        {
          "name": "stderr",
          "output_type": "stream",
          "text": [
            "Epoch [821/3000]: 100%|██████████| 9/9 [00:00<00:00, 514.90it/s, loss=1.85]\n"
          ]
        },
        {
          "name": "stdout",
          "output_type": "stream",
          "text": [
            "Epoch [821/3000]: Train loss: 2.2104, Valid loss: 2.4521\n"
          ]
        },
        {
          "name": "stderr",
          "output_type": "stream",
          "text": [
            "Epoch [822/3000]: 100%|██████████| 9/9 [00:00<00:00, 616.53it/s, loss=2.05]\n"
          ]
        },
        {
          "name": "stdout",
          "output_type": "stream",
          "text": [
            "Epoch [822/3000]: Train loss: 2.1765, Valid loss: 2.7534\n"
          ]
        },
        {
          "name": "stderr",
          "output_type": "stream",
          "text": [
            "Epoch [823/3000]: 100%|██████████| 9/9 [00:00<00:00, 554.22it/s, loss=3.15]\n"
          ]
        },
        {
          "name": "stdout",
          "output_type": "stream",
          "text": [
            "Epoch [823/3000]: Train loss: 2.5551, Valid loss: 3.2685\n"
          ]
        },
        {
          "name": "stderr",
          "output_type": "stream",
          "text": [
            "Epoch [824/3000]: 100%|██████████| 9/9 [00:00<00:00, 583.24it/s, loss=2.44]\n"
          ]
        },
        {
          "name": "stdout",
          "output_type": "stream",
          "text": [
            "Epoch [824/3000]: Train loss: 2.2097, Valid loss: 2.1766\n"
          ]
        },
        {
          "name": "stderr",
          "output_type": "stream",
          "text": [
            "Epoch [825/3000]: 100%|██████████| 9/9 [00:00<00:00, 640.74it/s, loss=1.6]\n"
          ]
        },
        {
          "name": "stdout",
          "output_type": "stream",
          "text": [
            "Epoch [825/3000]: Train loss: 2.1993, Valid loss: 2.3293\n"
          ]
        },
        {
          "name": "stderr",
          "output_type": "stream",
          "text": [
            "Epoch [826/3000]: 100%|██████████| 9/9 [00:00<00:00, 526.44it/s, loss=1.72]\n"
          ]
        },
        {
          "name": "stdout",
          "output_type": "stream",
          "text": [
            "Epoch [826/3000]: Train loss: 1.9837, Valid loss: 2.7499\n"
          ]
        },
        {
          "name": "stderr",
          "output_type": "stream",
          "text": [
            "Epoch [827/3000]: 100%|██████████| 9/9 [00:00<00:00, 668.91it/s, loss=2.74]\n"
          ]
        },
        {
          "name": "stdout",
          "output_type": "stream",
          "text": [
            "Epoch [827/3000]: Train loss: 2.0630, Valid loss: 2.2263\n"
          ]
        },
        {
          "name": "stderr",
          "output_type": "stream",
          "text": [
            "Epoch [828/3000]: 100%|██████████| 9/9 [00:00<00:00, 502.08it/s, loss=2.61]\n"
          ]
        },
        {
          "name": "stdout",
          "output_type": "stream",
          "text": [
            "Epoch [828/3000]: Train loss: 2.2465, Valid loss: 3.4713\n"
          ]
        },
        {
          "name": "stderr",
          "output_type": "stream",
          "text": [
            "Epoch [829/3000]: 100%|██████████| 9/9 [00:00<00:00, 590.98it/s, loss=3]\n"
          ]
        },
        {
          "name": "stdout",
          "output_type": "stream",
          "text": [
            "Epoch [829/3000]: Train loss: 2.9815, Valid loss: 6.7820\n"
          ]
        },
        {
          "name": "stderr",
          "output_type": "stream",
          "text": [
            "Epoch [830/3000]: 100%|██████████| 9/9 [00:00<00:00, 559.11it/s, loss=3.4]\n"
          ]
        },
        {
          "name": "stdout",
          "output_type": "stream",
          "text": [
            "Epoch [830/3000]: Train loss: 3.4083, Valid loss: 2.8983\n"
          ]
        },
        {
          "name": "stderr",
          "output_type": "stream",
          "text": [
            "Epoch [831/3000]: 100%|██████████| 9/9 [00:00<00:00, 524.08it/s, loss=2.58]\n"
          ]
        },
        {
          "name": "stdout",
          "output_type": "stream",
          "text": [
            "Epoch [831/3000]: Train loss: 2.3150, Valid loss: 2.3264\n"
          ]
        },
        {
          "name": "stderr",
          "output_type": "stream",
          "text": [
            "Epoch [832/3000]: 100%|██████████| 9/9 [00:00<00:00, 170.22it/s, loss=1.94]\n"
          ]
        },
        {
          "name": "stdout",
          "output_type": "stream",
          "text": [
            "Epoch [832/3000]: Train loss: 2.0522, Valid loss: 2.3596\n"
          ]
        },
        {
          "name": "stderr",
          "output_type": "stream",
          "text": [
            "Epoch [833/3000]: 100%|██████████| 9/9 [00:00<00:00, 505.56it/s, loss=1.99]\n"
          ]
        },
        {
          "name": "stdout",
          "output_type": "stream",
          "text": [
            "Epoch [833/3000]: Train loss: 2.0574, Valid loss: 2.9469\n"
          ]
        },
        {
          "name": "stderr",
          "output_type": "stream",
          "text": [
            "Epoch [834/3000]: 100%|██████████| 9/9 [00:00<00:00, 613.79it/s, loss=3.19]\n"
          ]
        },
        {
          "name": "stdout",
          "output_type": "stream",
          "text": [
            "Epoch [834/3000]: Train loss: 2.6838, Valid loss: 2.5693\n"
          ]
        },
        {
          "name": "stderr",
          "output_type": "stream",
          "text": [
            "Epoch [835/3000]: 100%|██████████| 9/9 [00:00<00:00, 653.65it/s, loss=1.4]\n"
          ]
        },
        {
          "name": "stdout",
          "output_type": "stream",
          "text": [
            "Epoch [835/3000]: Train loss: 2.4643, Valid loss: 2.5997\n"
          ]
        },
        {
          "name": "stderr",
          "output_type": "stream",
          "text": [
            "Epoch [836/3000]: 100%|██████████| 9/9 [00:00<00:00, 579.67it/s, loss=1.85]\n"
          ]
        },
        {
          "name": "stdout",
          "output_type": "stream",
          "text": [
            "Epoch [836/3000]: Train loss: 2.0282, Valid loss: 2.5851\n"
          ]
        },
        {
          "name": "stderr",
          "output_type": "stream",
          "text": [
            "Epoch [837/3000]: 100%|██████████| 9/9 [00:00<00:00, 459.88it/s, loss=1.78]\n"
          ]
        },
        {
          "name": "stdout",
          "output_type": "stream",
          "text": [
            "Epoch [837/3000]: Train loss: 2.0831, Valid loss: 2.1873\n"
          ]
        },
        {
          "name": "stderr",
          "output_type": "stream",
          "text": [
            "Epoch [838/3000]: 100%|██████████| 9/9 [00:00<00:00, 514.81it/s, loss=2.32]\n"
          ]
        },
        {
          "name": "stdout",
          "output_type": "stream",
          "text": [
            "Epoch [838/3000]: Train loss: 2.0925, Valid loss: 2.5465\n"
          ]
        },
        {
          "name": "stderr",
          "output_type": "stream",
          "text": [
            "Epoch [839/3000]: 100%|██████████| 9/9 [00:00<00:00, 454.96it/s, loss=1.76]\n"
          ]
        },
        {
          "name": "stdout",
          "output_type": "stream",
          "text": [
            "Epoch [839/3000]: Train loss: 1.9730, Valid loss: 2.0308\n"
          ]
        },
        {
          "name": "stderr",
          "output_type": "stream",
          "text": [
            "Epoch [840/3000]: 100%|██████████| 9/9 [00:00<00:00, 672.04it/s, loss=2.48]\n"
          ]
        },
        {
          "name": "stdout",
          "output_type": "stream",
          "text": [
            "Epoch [840/3000]: Train loss: 2.2999, Valid loss: 3.7469\n"
          ]
        },
        {
          "name": "stderr",
          "output_type": "stream",
          "text": [
            "Epoch [841/3000]: 100%|██████████| 9/9 [00:00<00:00, 623.97it/s, loss=1.83]\n"
          ]
        },
        {
          "name": "stdout",
          "output_type": "stream",
          "text": [
            "Epoch [841/3000]: Train loss: 2.4920, Valid loss: 3.6769\n"
          ]
        },
        {
          "name": "stderr",
          "output_type": "stream",
          "text": [
            "Epoch [842/3000]: 100%|██████████| 9/9 [00:00<00:00, 145.35it/s, loss=2.77]\n"
          ]
        },
        {
          "name": "stdout",
          "output_type": "stream",
          "text": [
            "Epoch [842/3000]: Train loss: 2.8082, Valid loss: 2.7314\n"
          ]
        },
        {
          "name": "stderr",
          "output_type": "stream",
          "text": [
            "Epoch [843/3000]: 100%|██████████| 9/9 [00:00<00:00, 691.46it/s, loss=2.79]\n"
          ]
        },
        {
          "name": "stdout",
          "output_type": "stream",
          "text": [
            "Epoch [843/3000]: Train loss: 2.2205, Valid loss: 2.1180\n"
          ]
        },
        {
          "name": "stderr",
          "output_type": "stream",
          "text": [
            "Epoch [844/3000]: 100%|██████████| 9/9 [00:00<00:00, 536.32it/s, loss=2.32]\n"
          ]
        },
        {
          "name": "stdout",
          "output_type": "stream",
          "text": [
            "Epoch [844/3000]: Train loss: 2.1579, Valid loss: 2.6210\n"
          ]
        },
        {
          "name": "stderr",
          "output_type": "stream",
          "text": [
            "Epoch [845/3000]: 100%|██████████| 9/9 [00:00<00:00, 607.25it/s, loss=2.11]\n"
          ]
        },
        {
          "name": "stdout",
          "output_type": "stream",
          "text": [
            "Epoch [845/3000]: Train loss: 2.0855, Valid loss: 2.6460\n"
          ]
        },
        {
          "name": "stderr",
          "output_type": "stream",
          "text": [
            "Epoch [846/3000]: 100%|██████████| 9/9 [00:00<00:00, 498.42it/s, loss=2.52]\n"
          ]
        },
        {
          "name": "stdout",
          "output_type": "stream",
          "text": [
            "Epoch [846/3000]: Train loss: 2.2211, Valid loss: 2.3570\n"
          ]
        },
        {
          "name": "stderr",
          "output_type": "stream",
          "text": [
            "Epoch [847/3000]: 100%|██████████| 9/9 [00:00<00:00, 414.71it/s, loss=1.56]\n"
          ]
        },
        {
          "name": "stdout",
          "output_type": "stream",
          "text": [
            "Epoch [847/3000]: Train loss: 2.0873, Valid loss: 2.9700\n"
          ]
        },
        {
          "name": "stderr",
          "output_type": "stream",
          "text": [
            "Epoch [848/3000]: 100%|██████████| 9/9 [00:00<00:00, 591.02it/s, loss=3.06]\n"
          ]
        },
        {
          "name": "stdout",
          "output_type": "stream",
          "text": [
            "Epoch [848/3000]: Train loss: 2.6301, Valid loss: 5.5244\n"
          ]
        },
        {
          "name": "stderr",
          "output_type": "stream",
          "text": [
            "Epoch [849/3000]: 100%|██████████| 9/9 [00:00<00:00, 610.54it/s, loss=3.74]\n"
          ]
        },
        {
          "name": "stdout",
          "output_type": "stream",
          "text": [
            "Epoch [849/3000]: Train loss: 3.7439, Valid loss: 4.0935\n"
          ]
        },
        {
          "name": "stderr",
          "output_type": "stream",
          "text": [
            "Epoch [850/3000]: 100%|██████████| 9/9 [00:00<00:00, 613.29it/s, loss=2.09]\n"
          ]
        },
        {
          "name": "stdout",
          "output_type": "stream",
          "text": [
            "Epoch [850/3000]: Train loss: 2.6982, Valid loss: 2.9948\n"
          ]
        },
        {
          "name": "stderr",
          "output_type": "stream",
          "text": [
            "Epoch [851/3000]: 100%|██████████| 9/9 [00:00<00:00, 523.62it/s, loss=2.05]\n"
          ]
        },
        {
          "name": "stdout",
          "output_type": "stream",
          "text": [
            "Epoch [851/3000]: Train loss: 2.3557, Valid loss: 4.0702\n"
          ]
        },
        {
          "name": "stderr",
          "output_type": "stream",
          "text": [
            "Epoch [852/3000]: 100%|██████████| 9/9 [00:00<00:00, 532.36it/s, loss=2.28]\n"
          ]
        },
        {
          "name": "stdout",
          "output_type": "stream",
          "text": [
            "Epoch [852/3000]: Train loss: 3.6291, Valid loss: 4.8193\n"
          ]
        },
        {
          "name": "stderr",
          "output_type": "stream",
          "text": [
            "Epoch [853/3000]: 100%|██████████| 9/9 [00:00<00:00, 165.17it/s, loss=3.3]\n"
          ]
        },
        {
          "name": "stdout",
          "output_type": "stream",
          "text": [
            "Epoch [853/3000]: Train loss: 3.3954, Valid loss: 2.9582\n"
          ]
        },
        {
          "name": "stderr",
          "output_type": "stream",
          "text": [
            "Epoch [854/3000]: 100%|██████████| 9/9 [00:00<00:00, 617.63it/s, loss=1.69]\n"
          ]
        },
        {
          "name": "stdout",
          "output_type": "stream",
          "text": [
            "Epoch [854/3000]: Train loss: 2.5266, Valid loss: 2.7464\n"
          ]
        },
        {
          "name": "stderr",
          "output_type": "stream",
          "text": [
            "Epoch [855/3000]: 100%|██████████| 9/9 [00:00<00:00, 628.18it/s, loss=1.84]\n"
          ]
        },
        {
          "name": "stdout",
          "output_type": "stream",
          "text": [
            "Epoch [855/3000]: Train loss: 2.6401, Valid loss: 3.3262\n"
          ]
        },
        {
          "name": "stderr",
          "output_type": "stream",
          "text": [
            "Epoch [856/3000]: 100%|██████████| 9/9 [00:00<00:00, 684.88it/s, loss=2.05]\n"
          ]
        },
        {
          "name": "stdout",
          "output_type": "stream",
          "text": [
            "Epoch [856/3000]: Train loss: 2.4611, Valid loss: 2.8804\n"
          ]
        },
        {
          "name": "stderr",
          "output_type": "stream",
          "text": [
            "Epoch [857/3000]: 100%|██████████| 9/9 [00:00<00:00, 613.16it/s, loss=1.76]\n"
          ]
        },
        {
          "name": "stdout",
          "output_type": "stream",
          "text": [
            "Epoch [857/3000]: Train loss: 2.2258, Valid loss: 2.0262\n"
          ]
        },
        {
          "name": "stderr",
          "output_type": "stream",
          "text": [
            "Epoch [858/3000]: 100%|██████████| 9/9 [00:00<00:00, 594.22it/s, loss=2.22]\n"
          ]
        },
        {
          "name": "stdout",
          "output_type": "stream",
          "text": [
            "Epoch [858/3000]: Train loss: 2.0420, Valid loss: 2.4819\n"
          ]
        },
        {
          "name": "stderr",
          "output_type": "stream",
          "text": [
            "Epoch [859/3000]: 100%|██████████| 9/9 [00:00<00:00, 400.64it/s, loss=3.38]\n"
          ]
        },
        {
          "name": "stdout",
          "output_type": "stream",
          "text": [
            "Epoch [859/3000]: Train loss: 2.2859, Valid loss: 2.4940\n"
          ]
        },
        {
          "name": "stderr",
          "output_type": "stream",
          "text": [
            "Epoch [860/3000]: 100%|██████████| 9/9 [00:00<00:00, 552.18it/s, loss=1.98]\n"
          ]
        },
        {
          "name": "stdout",
          "output_type": "stream",
          "text": [
            "Epoch [860/3000]: Train loss: 2.3263, Valid loss: 1.9025\n",
            "Saving model with loss 1.903...\n"
          ]
        },
        {
          "name": "stderr",
          "output_type": "stream",
          "text": [
            "Epoch [861/3000]: 100%|██████████| 9/9 [00:00<00:00, 666.08it/s, loss=1.49]\n"
          ]
        },
        {
          "name": "stdout",
          "output_type": "stream",
          "text": [
            "Epoch [861/3000]: Train loss: 2.1075, Valid loss: 3.1223\n"
          ]
        },
        {
          "name": "stderr",
          "output_type": "stream",
          "text": [
            "Epoch [862/3000]: 100%|██████████| 9/9 [00:00<00:00, 559.18it/s, loss=4.43]\n"
          ]
        },
        {
          "name": "stdout",
          "output_type": "stream",
          "text": [
            "Epoch [862/3000]: Train loss: 2.9500, Valid loss: 2.6335\n"
          ]
        },
        {
          "name": "stderr",
          "output_type": "stream",
          "text": [
            "Epoch [863/3000]: 100%|██████████| 9/9 [00:00<00:00, 595.67it/s, loss=3.53]\n"
          ]
        },
        {
          "name": "stdout",
          "output_type": "stream",
          "text": [
            "Epoch [863/3000]: Train loss: 3.1110, Valid loss: 2.2296\n"
          ]
        },
        {
          "name": "stderr",
          "output_type": "stream",
          "text": [
            "Epoch [864/3000]: 100%|██████████| 9/9 [00:00<00:00, 160.23it/s, loss=1.89]\n"
          ]
        },
        {
          "name": "stdout",
          "output_type": "stream",
          "text": [
            "Epoch [864/3000]: Train loss: 2.5743, Valid loss: 2.9479\n"
          ]
        },
        {
          "name": "stderr",
          "output_type": "stream",
          "text": [
            "Epoch [865/3000]: 100%|██████████| 9/9 [00:00<00:00, 526.75it/s, loss=1.96]\n"
          ]
        },
        {
          "name": "stdout",
          "output_type": "stream",
          "text": [
            "Epoch [865/3000]: Train loss: 2.3453, Valid loss: 2.2638\n"
          ]
        },
        {
          "name": "stderr",
          "output_type": "stream",
          "text": [
            "Epoch [866/3000]: 100%|██████████| 9/9 [00:00<00:00, 529.29it/s, loss=2.18]\n"
          ]
        },
        {
          "name": "stdout",
          "output_type": "stream",
          "text": [
            "Epoch [866/3000]: Train loss: 1.9980, Valid loss: 2.1331\n"
          ]
        },
        {
          "name": "stderr",
          "output_type": "stream",
          "text": [
            "Epoch [867/3000]: 100%|██████████| 9/9 [00:00<00:00, 552.92it/s, loss=1.42]\n"
          ]
        },
        {
          "name": "stdout",
          "output_type": "stream",
          "text": [
            "Epoch [867/3000]: Train loss: 1.9749, Valid loss: 2.6475\n"
          ]
        },
        {
          "name": "stderr",
          "output_type": "stream",
          "text": [
            "Epoch [868/3000]: 100%|██████████| 9/9 [00:00<00:00, 597.73it/s, loss=2.84]\n"
          ]
        },
        {
          "name": "stdout",
          "output_type": "stream",
          "text": [
            "Epoch [868/3000]: Train loss: 2.2783, Valid loss: 3.0842\n"
          ]
        },
        {
          "name": "stderr",
          "output_type": "stream",
          "text": [
            "Epoch [869/3000]: 100%|██████████| 9/9 [00:00<00:00, 410.29it/s, loss=1.7]\n"
          ]
        },
        {
          "name": "stdout",
          "output_type": "stream",
          "text": [
            "Epoch [869/3000]: Train loss: 2.3867, Valid loss: 2.9613\n"
          ]
        },
        {
          "name": "stderr",
          "output_type": "stream",
          "text": [
            "Epoch [870/3000]: 100%|██████████| 9/9 [00:00<00:00, 130.52it/s, loss=3.12]\n"
          ]
        },
        {
          "name": "stdout",
          "output_type": "stream",
          "text": [
            "Epoch [870/3000]: Train loss: 2.8155, Valid loss: 2.5027\n"
          ]
        },
        {
          "name": "stderr",
          "output_type": "stream",
          "text": [
            "Epoch [871/3000]: 100%|██████████| 9/9 [00:00<00:00, 618.81it/s, loss=2.5]\n"
          ]
        },
        {
          "name": "stdout",
          "output_type": "stream",
          "text": [
            "Epoch [871/3000]: Train loss: 2.5773, Valid loss: 3.6331\n"
          ]
        },
        {
          "name": "stderr",
          "output_type": "stream",
          "text": [
            "Epoch [872/3000]: 100%|██████████| 9/9 [00:00<00:00, 641.11it/s, loss=2.72]\n"
          ]
        },
        {
          "name": "stdout",
          "output_type": "stream",
          "text": [
            "Epoch [872/3000]: Train loss: 2.6567, Valid loss: 2.0471\n"
          ]
        },
        {
          "name": "stderr",
          "output_type": "stream",
          "text": [
            "Epoch [873/3000]: 100%|██████████| 9/9 [00:00<00:00, 523.87it/s, loss=2.75]\n"
          ]
        },
        {
          "name": "stdout",
          "output_type": "stream",
          "text": [
            "Epoch [873/3000]: Train loss: 2.2210, Valid loss: 3.9452\n"
          ]
        },
        {
          "name": "stderr",
          "output_type": "stream",
          "text": [
            "Epoch [874/3000]: 100%|██████████| 9/9 [00:00<00:00, 453.93it/s, loss=2.01]\n"
          ]
        },
        {
          "name": "stdout",
          "output_type": "stream",
          "text": [
            "Epoch [874/3000]: Train loss: 2.6017, Valid loss: 2.1608\n"
          ]
        },
        {
          "name": "stderr",
          "output_type": "stream",
          "text": [
            "Epoch [875/3000]: 100%|██████████| 9/9 [00:00<00:00, 548.68it/s, loss=2]\n"
          ]
        },
        {
          "name": "stdout",
          "output_type": "stream",
          "text": [
            "Epoch [875/3000]: Train loss: 2.0843, Valid loss: 2.0667\n"
          ]
        },
        {
          "name": "stderr",
          "output_type": "stream",
          "text": [
            "Epoch [876/3000]: 100%|██████████| 9/9 [00:00<00:00, 600.96it/s, loss=2.41]\n"
          ]
        },
        {
          "name": "stdout",
          "output_type": "stream",
          "text": [
            "Epoch [876/3000]: Train loss: 2.0960, Valid loss: 2.2331\n"
          ]
        },
        {
          "name": "stderr",
          "output_type": "stream",
          "text": [
            "Epoch [877/3000]: 100%|██████████| 9/9 [00:00<00:00, 613.25it/s, loss=1.92]\n"
          ]
        },
        {
          "name": "stdout",
          "output_type": "stream",
          "text": [
            "Epoch [877/3000]: Train loss: 2.0730, Valid loss: 2.8067\n"
          ]
        },
        {
          "name": "stderr",
          "output_type": "stream",
          "text": [
            "Epoch [878/3000]: 100%|██████████| 9/9 [00:00<00:00, 168.47it/s, loss=1.88]\n"
          ]
        },
        {
          "name": "stdout",
          "output_type": "stream",
          "text": [
            "Epoch [878/3000]: Train loss: 2.1523, Valid loss: 2.7836\n"
          ]
        },
        {
          "name": "stderr",
          "output_type": "stream",
          "text": [
            "Epoch [879/3000]: 100%|██████████| 9/9 [00:00<00:00, 464.91it/s, loss=2.39]\n"
          ]
        },
        {
          "name": "stdout",
          "output_type": "stream",
          "text": [
            "Epoch [879/3000]: Train loss: 2.1371, Valid loss: 1.9672\n"
          ]
        },
        {
          "name": "stderr",
          "output_type": "stream",
          "text": [
            "Epoch [880/3000]: 100%|██████████| 9/9 [00:00<00:00, 549.92it/s, loss=1.62]\n"
          ]
        },
        {
          "name": "stdout",
          "output_type": "stream",
          "text": [
            "Epoch [880/3000]: Train loss: 2.0395, Valid loss: 2.2150\n"
          ]
        },
        {
          "name": "stderr",
          "output_type": "stream",
          "text": [
            "Epoch [881/3000]: 100%|██████████| 9/9 [00:00<00:00, 496.12it/s, loss=1.9]\n"
          ]
        },
        {
          "name": "stdout",
          "output_type": "stream",
          "text": [
            "Epoch [881/3000]: Train loss: 1.9851, Valid loss: 2.5522\n"
          ]
        },
        {
          "name": "stderr",
          "output_type": "stream",
          "text": [
            "Epoch [882/3000]: 100%|██████████| 9/9 [00:00<00:00, 469.80it/s, loss=2.65]\n"
          ]
        },
        {
          "name": "stdout",
          "output_type": "stream",
          "text": [
            "Epoch [882/3000]: Train loss: 2.1632, Valid loss: 1.9332\n"
          ]
        },
        {
          "name": "stderr",
          "output_type": "stream",
          "text": [
            "Epoch [883/3000]: 100%|██████████| 9/9 [00:00<00:00, 566.75it/s, loss=1.89]\n"
          ]
        },
        {
          "name": "stdout",
          "output_type": "stream",
          "text": [
            "Epoch [883/3000]: Train loss: 1.9986, Valid loss: 3.6059\n"
          ]
        },
        {
          "name": "stderr",
          "output_type": "stream",
          "text": [
            "Epoch [884/3000]: 100%|██████████| 9/9 [00:00<00:00, 632.74it/s, loss=4.55]\n"
          ]
        },
        {
          "name": "stdout",
          "output_type": "stream",
          "text": [
            "Epoch [884/3000]: Train loss: 3.3915, Valid loss: 2.2623\n"
          ]
        },
        {
          "name": "stderr",
          "output_type": "stream",
          "text": [
            "Epoch [885/3000]: 100%|██████████| 9/9 [00:00<00:00, 649.87it/s, loss=6.88]\n"
          ]
        },
        {
          "name": "stdout",
          "output_type": "stream",
          "text": [
            "Epoch [885/3000]: Train loss: 3.5696, Valid loss: 3.0890\n"
          ]
        },
        {
          "name": "stderr",
          "output_type": "stream",
          "text": [
            "Epoch [886/3000]: 100%|██████████| 9/9 [00:00<00:00, 491.35it/s, loss=3.64]\n"
          ]
        },
        {
          "name": "stdout",
          "output_type": "stream",
          "text": [
            "Epoch [886/3000]: Train loss: 4.0380, Valid loss: 2.9842\n"
          ]
        },
        {
          "name": "stderr",
          "output_type": "stream",
          "text": [
            "Epoch [887/3000]: 100%|██████████| 9/9 [00:00<00:00, 455.61it/s, loss=2.36]\n"
          ]
        },
        {
          "name": "stdout",
          "output_type": "stream",
          "text": [
            "Epoch [887/3000]: Train loss: 2.8048, Valid loss: 2.8067\n"
          ]
        },
        {
          "name": "stderr",
          "output_type": "stream",
          "text": [
            "Epoch [888/3000]: 100%|██████████| 9/9 [00:00<00:00, 178.66it/s, loss=2.87]\n"
          ]
        },
        {
          "name": "stdout",
          "output_type": "stream",
          "text": [
            "Epoch [888/3000]: Train loss: 2.1621, Valid loss: 3.4958\n"
          ]
        },
        {
          "name": "stderr",
          "output_type": "stream",
          "text": [
            "Epoch [889/3000]: 100%|██████████| 9/9 [00:00<00:00, 627.36it/s, loss=1.91]\n"
          ]
        },
        {
          "name": "stdout",
          "output_type": "stream",
          "text": [
            "Epoch [889/3000]: Train loss: 2.6773, Valid loss: 2.9939\n"
          ]
        },
        {
          "name": "stderr",
          "output_type": "stream",
          "text": [
            "Epoch [890/3000]: 100%|██████████| 9/9 [00:00<00:00, 600.40it/s, loss=2.69]\n"
          ]
        },
        {
          "name": "stdout",
          "output_type": "stream",
          "text": [
            "Epoch [890/3000]: Train loss: 2.3703, Valid loss: 1.9377\n"
          ]
        },
        {
          "name": "stderr",
          "output_type": "stream",
          "text": [
            "Epoch [891/3000]: 100%|██████████| 9/9 [00:00<00:00, 589.20it/s, loss=1.84]\n"
          ]
        },
        {
          "name": "stdout",
          "output_type": "stream",
          "text": [
            "Epoch [891/3000]: Train loss: 2.0223, Valid loss: 2.6513\n"
          ]
        },
        {
          "name": "stderr",
          "output_type": "stream",
          "text": [
            "Epoch [892/3000]: 100%|██████████| 9/9 [00:00<00:00, 525.59it/s, loss=2.08]\n"
          ]
        },
        {
          "name": "stdout",
          "output_type": "stream",
          "text": [
            "Epoch [892/3000]: Train loss: 2.3491, Valid loss: 2.6168\n"
          ]
        },
        {
          "name": "stderr",
          "output_type": "stream",
          "text": [
            "Epoch [893/3000]: 100%|██████████| 9/9 [00:00<00:00, 513.58it/s, loss=2.35]\n"
          ]
        },
        {
          "name": "stdout",
          "output_type": "stream",
          "text": [
            "Epoch [893/3000]: Train loss: 2.1571, Valid loss: 2.4646\n"
          ]
        },
        {
          "name": "stderr",
          "output_type": "stream",
          "text": [
            "Epoch [894/3000]: 100%|██████████| 9/9 [00:00<00:00, 488.45it/s, loss=2.24]\n"
          ]
        },
        {
          "name": "stdout",
          "output_type": "stream",
          "text": [
            "Epoch [894/3000]: Train loss: 2.0793, Valid loss: 3.3565\n"
          ]
        },
        {
          "name": "stderr",
          "output_type": "stream",
          "text": [
            "Epoch [895/3000]: 100%|██████████| 9/9 [00:00<00:00, 613.99it/s, loss=2.26]\n"
          ]
        },
        {
          "name": "stdout",
          "output_type": "stream",
          "text": [
            "Epoch [895/3000]: Train loss: 2.3971, Valid loss: 3.3886\n"
          ]
        },
        {
          "name": "stderr",
          "output_type": "stream",
          "text": [
            "Epoch [896/3000]: 100%|██████████| 9/9 [00:00<00:00, 637.02it/s, loss=2.38]\n"
          ]
        },
        {
          "name": "stdout",
          "output_type": "stream",
          "text": [
            "Epoch [896/3000]: Train loss: 2.4643, Valid loss: 2.2555\n"
          ]
        },
        {
          "name": "stderr",
          "output_type": "stream",
          "text": [
            "Epoch [897/3000]: 100%|██████████| 9/9 [00:00<00:00, 571.93it/s, loss=2.28]\n"
          ]
        },
        {
          "name": "stdout",
          "output_type": "stream",
          "text": [
            "Epoch [897/3000]: Train loss: 2.5316, Valid loss: 2.2489\n"
          ]
        },
        {
          "name": "stderr",
          "output_type": "stream",
          "text": [
            "Epoch [898/3000]: 100%|██████████| 9/9 [00:00<00:00, 480.74it/s, loss=2.88]\n"
          ]
        },
        {
          "name": "stdout",
          "output_type": "stream",
          "text": [
            "Epoch [898/3000]: Train loss: 2.7449, Valid loss: 3.0953\n"
          ]
        },
        {
          "name": "stderr",
          "output_type": "stream",
          "text": [
            "Epoch [899/3000]: 100%|██████████| 9/9 [00:00<00:00, 563.51it/s, loss=2.46]\n"
          ]
        },
        {
          "name": "stdout",
          "output_type": "stream",
          "text": [
            "Epoch [899/3000]: Train loss: 2.7156, Valid loss: 3.6592\n"
          ]
        },
        {
          "name": "stderr",
          "output_type": "stream",
          "text": [
            "Epoch [900/3000]: 100%|██████████| 9/9 [00:00<00:00, 581.32it/s, loss=2.93]\n"
          ]
        },
        {
          "name": "stdout",
          "output_type": "stream",
          "text": [
            "Epoch [900/3000]: Train loss: 2.4911, Valid loss: 2.2252\n"
          ]
        },
        {
          "name": "stderr",
          "output_type": "stream",
          "text": [
            "Epoch [901/3000]: 100%|██████████| 9/9 [00:00<00:00, 632.65it/s, loss=1.85]\n"
          ]
        },
        {
          "name": "stdout",
          "output_type": "stream",
          "text": [
            "Epoch [901/3000]: Train loss: 2.1294, Valid loss: 2.3622\n"
          ]
        },
        {
          "name": "stderr",
          "output_type": "stream",
          "text": [
            "Epoch [902/3000]: 100%|██████████| 9/9 [00:00<00:00, 436.51it/s, loss=2.34]\n"
          ]
        },
        {
          "name": "stdout",
          "output_type": "stream",
          "text": [
            "Epoch [902/3000]: Train loss: 2.0799, Valid loss: 2.3772\n"
          ]
        },
        {
          "name": "stderr",
          "output_type": "stream",
          "text": [
            "Epoch [903/3000]: 100%|██████████| 9/9 [00:00<00:00, 269.86it/s, loss=2.25]\n"
          ]
        },
        {
          "name": "stdout",
          "output_type": "stream",
          "text": [
            "Epoch [903/3000]: Train loss: 1.9751, Valid loss: 2.0862\n"
          ]
        },
        {
          "name": "stderr",
          "output_type": "stream",
          "text": [
            "Epoch [904/3000]: 100%|██████████| 9/9 [00:00<00:00, 474.18it/s, loss=1.57]\n"
          ]
        },
        {
          "name": "stdout",
          "output_type": "stream",
          "text": [
            "Epoch [904/3000]: Train loss: 2.0806, Valid loss: 2.2986\n"
          ]
        },
        {
          "name": "stderr",
          "output_type": "stream",
          "text": [
            "Epoch [905/3000]: 100%|██████████| 9/9 [00:00<00:00, 495.89it/s, loss=2.01]\n"
          ]
        },
        {
          "name": "stdout",
          "output_type": "stream",
          "text": [
            "Epoch [905/3000]: Train loss: 2.1425, Valid loss: 3.2055\n"
          ]
        },
        {
          "name": "stderr",
          "output_type": "stream",
          "text": [
            "Epoch [906/3000]: 100%|██████████| 9/9 [00:00<00:00, 615.14it/s, loss=2.73]\n"
          ]
        },
        {
          "name": "stdout",
          "output_type": "stream",
          "text": [
            "Epoch [906/3000]: Train loss: 2.1218, Valid loss: 2.7489\n"
          ]
        },
        {
          "name": "stderr",
          "output_type": "stream",
          "text": [
            "Epoch [907/3000]: 100%|██████████| 9/9 [00:00<00:00, 657.13it/s, loss=2.85]\n"
          ]
        },
        {
          "name": "stdout",
          "output_type": "stream",
          "text": [
            "Epoch [907/3000]: Train loss: 2.2233, Valid loss: 2.9036\n"
          ]
        },
        {
          "name": "stderr",
          "output_type": "stream",
          "text": [
            "Epoch [908/3000]: 100%|██████████| 9/9 [00:00<00:00, 569.94it/s, loss=1.75]\n"
          ]
        },
        {
          "name": "stdout",
          "output_type": "stream",
          "text": [
            "Epoch [908/3000]: Train loss: 2.4005, Valid loss: 2.4229\n"
          ]
        },
        {
          "name": "stderr",
          "output_type": "stream",
          "text": [
            "Epoch [909/3000]: 100%|██████████| 9/9 [00:00<00:00, 563.59it/s, loss=2.56]\n"
          ]
        },
        {
          "name": "stdout",
          "output_type": "stream",
          "text": [
            "Epoch [909/3000]: Train loss: 2.1093, Valid loss: 2.4179\n"
          ]
        },
        {
          "name": "stderr",
          "output_type": "stream",
          "text": [
            "Epoch [910/3000]: 100%|██████████| 9/9 [00:00<00:00, 378.52it/s, loss=2.12]\n"
          ]
        },
        {
          "name": "stdout",
          "output_type": "stream",
          "text": [
            "Epoch [910/3000]: Train loss: 2.6355, Valid loss: 4.0677\n"
          ]
        },
        {
          "name": "stderr",
          "output_type": "stream",
          "text": [
            "Epoch [911/3000]: 100%|██████████| 9/9 [00:00<00:00, 312.02it/s, loss=2.54]\n"
          ]
        },
        {
          "name": "stdout",
          "output_type": "stream",
          "text": [
            "Epoch [911/3000]: Train loss: 3.0195, Valid loss: 3.3503\n"
          ]
        },
        {
          "name": "stderr",
          "output_type": "stream",
          "text": [
            "Epoch [912/3000]: 100%|██████████| 9/9 [00:00<00:00, 274.14it/s, loss=5.24]\n"
          ]
        },
        {
          "name": "stdout",
          "output_type": "stream",
          "text": [
            "Epoch [912/3000]: Train loss: 3.5224, Valid loss: 2.3833\n"
          ]
        },
        {
          "name": "stderr",
          "output_type": "stream",
          "text": [
            "Epoch [913/3000]: 100%|██████████| 9/9 [00:00<00:00, 504.66it/s, loss=1.94]\n"
          ]
        },
        {
          "name": "stdout",
          "output_type": "stream",
          "text": [
            "Epoch [913/3000]: Train loss: 2.7615, Valid loss: 4.2605\n"
          ]
        },
        {
          "name": "stderr",
          "output_type": "stream",
          "text": [
            "Epoch [914/3000]: 100%|██████████| 9/9 [00:00<00:00, 625.04it/s, loss=2.67]\n"
          ]
        },
        {
          "name": "stdout",
          "output_type": "stream",
          "text": [
            "Epoch [914/3000]: Train loss: 2.7886, Valid loss: 2.1450\n"
          ]
        },
        {
          "name": "stderr",
          "output_type": "stream",
          "text": [
            "Epoch [915/3000]: 100%|██████████| 9/9 [00:00<00:00, 573.03it/s, loss=1.5]\n"
          ]
        },
        {
          "name": "stdout",
          "output_type": "stream",
          "text": [
            "Epoch [915/3000]: Train loss: 1.9366, Valid loss: 3.0325\n"
          ]
        },
        {
          "name": "stderr",
          "output_type": "stream",
          "text": [
            "Epoch [916/3000]: 100%|██████████| 9/9 [00:00<00:00, 382.28it/s, loss=2.81]\n"
          ]
        },
        {
          "name": "stdout",
          "output_type": "stream",
          "text": [
            "Epoch [916/3000]: Train loss: 2.7024, Valid loss: 2.9455\n"
          ]
        },
        {
          "name": "stderr",
          "output_type": "stream",
          "text": [
            "Epoch [917/3000]: 100%|██████████| 9/9 [00:00<00:00, 646.79it/s, loss=1.58]\n"
          ]
        },
        {
          "name": "stdout",
          "output_type": "stream",
          "text": [
            "Epoch [917/3000]: Train loss: 3.1224, Valid loss: 3.6230\n"
          ]
        },
        {
          "name": "stderr",
          "output_type": "stream",
          "text": [
            "Epoch [918/3000]: 100%|██████████| 9/9 [00:00<00:00, 540.18it/s, loss=2.01]\n"
          ]
        },
        {
          "name": "stdout",
          "output_type": "stream",
          "text": [
            "Epoch [918/3000]: Train loss: 2.2456, Valid loss: 1.9924\n"
          ]
        },
        {
          "name": "stderr",
          "output_type": "stream",
          "text": [
            "Epoch [919/3000]: 100%|██████████| 9/9 [00:00<00:00, 497.13it/s, loss=2.35]\n"
          ]
        },
        {
          "name": "stdout",
          "output_type": "stream",
          "text": [
            "Epoch [919/3000]: Train loss: 2.4001, Valid loss: 3.0799\n"
          ]
        },
        {
          "name": "stderr",
          "output_type": "stream",
          "text": [
            "Epoch [920/3000]: 100%|██████████| 9/9 [00:00<00:00, 540.92it/s, loss=2.23]\n"
          ]
        },
        {
          "name": "stdout",
          "output_type": "stream",
          "text": [
            "Epoch [920/3000]: Train loss: 2.3906, Valid loss: 1.9592\n"
          ]
        },
        {
          "name": "stderr",
          "output_type": "stream",
          "text": [
            "Epoch [921/3000]: 100%|██████████| 9/9 [00:00<00:00, 157.34it/s, loss=1.85]\n"
          ]
        },
        {
          "name": "stdout",
          "output_type": "stream",
          "text": [
            "Epoch [921/3000]: Train loss: 1.9097, Valid loss: 2.4116\n"
          ]
        },
        {
          "name": "stderr",
          "output_type": "stream",
          "text": [
            "Epoch [922/3000]: 100%|██████████| 9/9 [00:00<00:00, 544.80it/s, loss=2.34]\n"
          ]
        },
        {
          "name": "stdout",
          "output_type": "stream",
          "text": [
            "Epoch [922/3000]: Train loss: 2.1896, Valid loss: 2.0864\n"
          ]
        },
        {
          "name": "stderr",
          "output_type": "stream",
          "text": [
            "Epoch [923/3000]: 100%|██████████| 9/9 [00:00<00:00, 660.22it/s, loss=1.91]\n"
          ]
        },
        {
          "name": "stdout",
          "output_type": "stream",
          "text": [
            "Epoch [923/3000]: Train loss: 2.8949, Valid loss: 5.4754\n"
          ]
        },
        {
          "name": "stderr",
          "output_type": "stream",
          "text": [
            "Epoch [924/3000]: 100%|██████████| 9/9 [00:00<00:00, 525.85it/s, loss=2.15]\n"
          ]
        },
        {
          "name": "stdout",
          "output_type": "stream",
          "text": [
            "Epoch [924/3000]: Train loss: 2.5675, Valid loss: 2.2669\n"
          ]
        },
        {
          "name": "stderr",
          "output_type": "stream",
          "text": [
            "Epoch [925/3000]: 100%|██████████| 9/9 [00:00<00:00, 577.44it/s, loss=1.6]\n"
          ]
        },
        {
          "name": "stdout",
          "output_type": "stream",
          "text": [
            "Epoch [925/3000]: Train loss: 2.0243, Valid loss: 2.2126\n"
          ]
        },
        {
          "name": "stderr",
          "output_type": "stream",
          "text": [
            "Epoch [926/3000]: 100%|██████████| 9/9 [00:00<00:00, 505.30it/s, loss=1.82]\n"
          ]
        },
        {
          "name": "stdout",
          "output_type": "stream",
          "text": [
            "Epoch [926/3000]: Train loss: 1.9144, Valid loss: 2.8029\n"
          ]
        },
        {
          "name": "stderr",
          "output_type": "stream",
          "text": [
            "Epoch [927/3000]: 100%|██████████| 9/9 [00:00<00:00, 517.80it/s, loss=3.82]\n"
          ]
        },
        {
          "name": "stdout",
          "output_type": "stream",
          "text": [
            "Epoch [927/3000]: Train loss: 2.7056, Valid loss: 2.2171\n"
          ]
        },
        {
          "name": "stderr",
          "output_type": "stream",
          "text": [
            "Epoch [928/3000]: 100%|██████████| 9/9 [00:00<00:00, 619.61it/s, loss=3.12]\n"
          ]
        },
        {
          "name": "stdout",
          "output_type": "stream",
          "text": [
            "Epoch [928/3000]: Train loss: 2.6429, Valid loss: 4.3189\n"
          ]
        },
        {
          "name": "stderr",
          "output_type": "stream",
          "text": [
            "Epoch [929/3000]: 100%|██████████| 9/9 [00:00<00:00, 458.20it/s, loss=2.44]\n"
          ]
        },
        {
          "name": "stdout",
          "output_type": "stream",
          "text": [
            "Epoch [929/3000]: Train loss: 3.4497, Valid loss: 6.0121\n"
          ]
        },
        {
          "name": "stderr",
          "output_type": "stream",
          "text": [
            "Epoch [930/3000]: 100%|██████████| 9/9 [00:00<00:00, 582.75it/s, loss=2.53]\n"
          ]
        },
        {
          "name": "stdout",
          "output_type": "stream",
          "text": [
            "Epoch [930/3000]: Train loss: 3.9049, Valid loss: 6.2991\n"
          ]
        },
        {
          "name": "stderr",
          "output_type": "stream",
          "text": [
            "Epoch [931/3000]: 100%|██████████| 9/9 [00:00<00:00, 264.66it/s, loss=2.42]\n"
          ]
        },
        {
          "name": "stdout",
          "output_type": "stream",
          "text": [
            "Epoch [931/3000]: Train loss: 3.3219, Valid loss: 2.6478\n"
          ]
        },
        {
          "name": "stderr",
          "output_type": "stream",
          "text": [
            "Epoch [932/3000]: 100%|██████████| 9/9 [00:00<00:00, 541.22it/s, loss=2.43]\n"
          ]
        },
        {
          "name": "stdout",
          "output_type": "stream",
          "text": [
            "Epoch [932/3000]: Train loss: 2.4348, Valid loss: 3.0492\n"
          ]
        },
        {
          "name": "stderr",
          "output_type": "stream",
          "text": [
            "Epoch [933/3000]: 100%|██████████| 9/9 [00:00<00:00, 571.72it/s, loss=2.35]\n"
          ]
        },
        {
          "name": "stdout",
          "output_type": "stream",
          "text": [
            "Epoch [933/3000]: Train loss: 2.1722, Valid loss: 2.6864\n"
          ]
        },
        {
          "name": "stderr",
          "output_type": "stream",
          "text": [
            "Epoch [934/3000]: 100%|██████████| 9/9 [00:00<00:00, 696.33it/s, loss=2.77]\n"
          ]
        },
        {
          "name": "stdout",
          "output_type": "stream",
          "text": [
            "Epoch [934/3000]: Train loss: 2.2764, Valid loss: 2.2569\n"
          ]
        },
        {
          "name": "stderr",
          "output_type": "stream",
          "text": [
            "Epoch [935/3000]: 100%|██████████| 9/9 [00:00<00:00, 534.19it/s, loss=1.78]\n"
          ]
        },
        {
          "name": "stdout",
          "output_type": "stream",
          "text": [
            "Epoch [935/3000]: Train loss: 2.1051, Valid loss: 2.1704\n"
          ]
        },
        {
          "name": "stderr",
          "output_type": "stream",
          "text": [
            "Epoch [936/3000]: 100%|██████████| 9/9 [00:00<00:00, 532.55it/s, loss=1.91]\n"
          ]
        },
        {
          "name": "stdout",
          "output_type": "stream",
          "text": [
            "Epoch [936/3000]: Train loss: 2.4063, Valid loss: 5.6759\n"
          ]
        },
        {
          "name": "stderr",
          "output_type": "stream",
          "text": [
            "Epoch [937/3000]: 100%|██████████| 9/9 [00:00<00:00, 639.44it/s, loss=1.99]\n"
          ]
        },
        {
          "name": "stdout",
          "output_type": "stream",
          "text": [
            "Epoch [937/3000]: Train loss: 2.8676, Valid loss: 4.6636\n"
          ]
        },
        {
          "name": "stderr",
          "output_type": "stream",
          "text": [
            "Epoch [938/3000]: 100%|██████████| 9/9 [00:00<00:00, 493.64it/s, loss=2.04]\n"
          ]
        },
        {
          "name": "stdout",
          "output_type": "stream",
          "text": [
            "Epoch [938/3000]: Train loss: 2.5206, Valid loss: 3.1231\n"
          ]
        },
        {
          "name": "stderr",
          "output_type": "stream",
          "text": [
            "Epoch [939/3000]: 100%|██████████| 9/9 [00:00<00:00, 618.43it/s, loss=1.61]\n"
          ]
        },
        {
          "name": "stdout",
          "output_type": "stream",
          "text": [
            "Epoch [939/3000]: Train loss: 2.0108, Valid loss: 2.1748\n"
          ]
        },
        {
          "name": "stderr",
          "output_type": "stream",
          "text": [
            "Epoch [940/3000]: 100%|██████████| 9/9 [00:00<00:00, 468.85it/s, loss=2.04]\n"
          ]
        },
        {
          "name": "stdout",
          "output_type": "stream",
          "text": [
            "Epoch [940/3000]: Train loss: 2.2767, Valid loss: 3.8614\n"
          ]
        },
        {
          "name": "stderr",
          "output_type": "stream",
          "text": [
            "Epoch [941/3000]: 100%|██████████| 9/9 [00:00<00:00, 413.00it/s, loss=2.41]\n"
          ]
        },
        {
          "name": "stdout",
          "output_type": "stream",
          "text": [
            "Epoch [941/3000]: Train loss: 2.5624, Valid loss: 2.6642\n"
          ]
        },
        {
          "name": "stderr",
          "output_type": "stream",
          "text": [
            "Epoch [942/3000]: 100%|██████████| 9/9 [00:00<00:00, 550.35it/s, loss=2.62]\n"
          ]
        },
        {
          "name": "stdout",
          "output_type": "stream",
          "text": [
            "Epoch [942/3000]: Train loss: 2.2194, Valid loss: 2.4780\n"
          ]
        },
        {
          "name": "stderr",
          "output_type": "stream",
          "text": [
            "Epoch [943/3000]: 100%|██████████| 9/9 [00:00<00:00, 438.04it/s, loss=2.29]\n"
          ]
        },
        {
          "name": "stdout",
          "output_type": "stream",
          "text": [
            "Epoch [943/3000]: Train loss: 2.0411, Valid loss: 2.8848\n"
          ]
        },
        {
          "name": "stderr",
          "output_type": "stream",
          "text": [
            "Epoch [944/3000]: 100%|██████████| 9/9 [00:00<00:00, 592.25it/s, loss=2.24]\n"
          ]
        },
        {
          "name": "stdout",
          "output_type": "stream",
          "text": [
            "Epoch [944/3000]: Train loss: 2.0075, Valid loss: 2.6728\n"
          ]
        },
        {
          "name": "stderr",
          "output_type": "stream",
          "text": [
            "Epoch [945/3000]: 100%|██████████| 9/9 [00:00<00:00, 217.58it/s, loss=1.61]\n"
          ]
        },
        {
          "name": "stdout",
          "output_type": "stream",
          "text": [
            "Epoch [945/3000]: Train loss: 1.9429, Valid loss: 2.0731\n"
          ]
        },
        {
          "name": "stderr",
          "output_type": "stream",
          "text": [
            "Epoch [946/3000]: 100%|██████████| 9/9 [00:00<00:00, 553.98it/s, loss=2.26]\n"
          ]
        },
        {
          "name": "stdout",
          "output_type": "stream",
          "text": [
            "Epoch [946/3000]: Train loss: 2.0386, Valid loss: 2.5859\n"
          ]
        },
        {
          "name": "stderr",
          "output_type": "stream",
          "text": [
            "Epoch [947/3000]: 100%|██████████| 9/9 [00:00<00:00, 130.06it/s, loss=2.55]\n"
          ]
        },
        {
          "name": "stdout",
          "output_type": "stream",
          "text": [
            "Epoch [947/3000]: Train loss: 2.2721, Valid loss: 2.9548\n"
          ]
        },
        {
          "name": "stderr",
          "output_type": "stream",
          "text": [
            "Epoch [948/3000]: 100%|██████████| 9/9 [00:00<00:00, 591.14it/s, loss=2.35]\n"
          ]
        },
        {
          "name": "stdout",
          "output_type": "stream",
          "text": [
            "Epoch [948/3000]: Train loss: 2.4812, Valid loss: 3.2010\n"
          ]
        },
        {
          "name": "stderr",
          "output_type": "stream",
          "text": [
            "Epoch [949/3000]: 100%|██████████| 9/9 [00:00<00:00, 540.05it/s, loss=1.91]\n"
          ]
        },
        {
          "name": "stdout",
          "output_type": "stream",
          "text": [
            "Epoch [949/3000]: Train loss: 2.4214, Valid loss: 2.6717\n"
          ]
        },
        {
          "name": "stderr",
          "output_type": "stream",
          "text": [
            "Epoch [950/3000]: 100%|██████████| 9/9 [00:00<00:00, 559.56it/s, loss=3.68]\n"
          ]
        },
        {
          "name": "stdout",
          "output_type": "stream",
          "text": [
            "Epoch [950/3000]: Train loss: 2.7069, Valid loss: 4.3798\n"
          ]
        },
        {
          "name": "stderr",
          "output_type": "stream",
          "text": [
            "Epoch [951/3000]: 100%|██████████| 9/9 [00:00<00:00, 438.28it/s, loss=2.21]\n"
          ]
        },
        {
          "name": "stdout",
          "output_type": "stream",
          "text": [
            "Epoch [951/3000]: Train loss: 2.5979, Valid loss: 1.9637\n"
          ]
        },
        {
          "name": "stderr",
          "output_type": "stream",
          "text": [
            "Epoch [952/3000]: 100%|██████████| 9/9 [00:00<00:00, 692.68it/s, loss=1.95]\n"
          ]
        },
        {
          "name": "stdout",
          "output_type": "stream",
          "text": [
            "Epoch [952/3000]: Train loss: 2.1726, Valid loss: 3.4097\n"
          ]
        },
        {
          "name": "stderr",
          "output_type": "stream",
          "text": [
            "Epoch [953/3000]: 100%|██████████| 9/9 [00:00<00:00, 484.36it/s, loss=1.93]\n"
          ]
        },
        {
          "name": "stdout",
          "output_type": "stream",
          "text": [
            "Epoch [953/3000]: Train loss: 2.0311, Valid loss: 2.1676\n"
          ]
        },
        {
          "name": "stderr",
          "output_type": "stream",
          "text": [
            "Epoch [954/3000]: 100%|██████████| 9/9 [00:00<00:00, 634.83it/s, loss=2.07]\n"
          ]
        },
        {
          "name": "stdout",
          "output_type": "stream",
          "text": [
            "Epoch [954/3000]: Train loss: 1.9974, Valid loss: 2.8673\n"
          ]
        },
        {
          "name": "stderr",
          "output_type": "stream",
          "text": [
            "Epoch [955/3000]: 100%|██████████| 9/9 [00:00<00:00, 153.77it/s, loss=2.57]\n"
          ]
        },
        {
          "name": "stdout",
          "output_type": "stream",
          "text": [
            "Epoch [955/3000]: Train loss: 2.2983, Valid loss: 2.5582\n"
          ]
        },
        {
          "name": "stderr",
          "output_type": "stream",
          "text": [
            "Epoch [956/3000]: 100%|██████████| 9/9 [00:00<00:00, 471.13it/s, loss=1.37]\n"
          ]
        },
        {
          "name": "stdout",
          "output_type": "stream",
          "text": [
            "Epoch [956/3000]: Train loss: 2.0242, Valid loss: 2.3770\n"
          ]
        },
        {
          "name": "stderr",
          "output_type": "stream",
          "text": [
            "Epoch [957/3000]: 100%|██████████| 9/9 [00:00<00:00, 541.48it/s, loss=1.78]\n"
          ]
        },
        {
          "name": "stdout",
          "output_type": "stream",
          "text": [
            "Epoch [957/3000]: Train loss: 1.9975, Valid loss: 2.4322\n"
          ]
        },
        {
          "name": "stderr",
          "output_type": "stream",
          "text": [
            "Epoch [958/3000]: 100%|██████████| 9/9 [00:00<00:00, 654.79it/s, loss=2.48]\n"
          ]
        },
        {
          "name": "stdout",
          "output_type": "stream",
          "text": [
            "Epoch [958/3000]: Train loss: 2.0959, Valid loss: 2.7056\n"
          ]
        },
        {
          "name": "stderr",
          "output_type": "stream",
          "text": [
            "Epoch [959/3000]: 100%|██████████| 9/9 [00:00<00:00, 540.60it/s, loss=2.43]\n"
          ]
        },
        {
          "name": "stdout",
          "output_type": "stream",
          "text": [
            "Epoch [959/3000]: Train loss: 2.5703, Valid loss: 3.1090\n"
          ]
        },
        {
          "name": "stderr",
          "output_type": "stream",
          "text": [
            "Epoch [960/3000]: 100%|██████████| 9/9 [00:00<00:00, 579.94it/s, loss=1.67]\n"
          ]
        },
        {
          "name": "stdout",
          "output_type": "stream",
          "text": [
            "Epoch [960/3000]: Train loss: 2.3364, Valid loss: 2.1363\n"
          ]
        },
        {
          "name": "stderr",
          "output_type": "stream",
          "text": [
            "Epoch [961/3000]: 100%|██████████| 9/9 [00:00<00:00, 519.33it/s, loss=2.12]\n"
          ]
        },
        {
          "name": "stdout",
          "output_type": "stream",
          "text": [
            "Epoch [961/3000]: Train loss: 1.9789, Valid loss: 2.2583\n"
          ]
        },
        {
          "name": "stderr",
          "output_type": "stream",
          "text": [
            "Epoch [962/3000]: 100%|██████████| 9/9 [00:00<00:00, 588.44it/s, loss=2.54]\n"
          ]
        },
        {
          "name": "stdout",
          "output_type": "stream",
          "text": [
            "Epoch [962/3000]: Train loss: 1.9499, Valid loss: 2.4086\n"
          ]
        },
        {
          "name": "stderr",
          "output_type": "stream",
          "text": [
            "Epoch [963/3000]: 100%|██████████| 9/9 [00:00<00:00, 443.31it/s, loss=2.63]\n"
          ]
        },
        {
          "name": "stdout",
          "output_type": "stream",
          "text": [
            "Epoch [963/3000]: Train loss: 2.2170, Valid loss: 2.8765\n"
          ]
        },
        {
          "name": "stderr",
          "output_type": "stream",
          "text": [
            "Epoch [964/3000]: 100%|██████████| 9/9 [00:00<00:00, 569.41it/s, loss=1.72]\n"
          ]
        },
        {
          "name": "stdout",
          "output_type": "stream",
          "text": [
            "Epoch [964/3000]: Train loss: 2.3264, Valid loss: 3.6735\n"
          ]
        },
        {
          "name": "stderr",
          "output_type": "stream",
          "text": [
            "Epoch [965/3000]: 100%|██████████| 9/9 [00:00<00:00, 172.34it/s, loss=3.74]\n"
          ]
        },
        {
          "name": "stdout",
          "output_type": "stream",
          "text": [
            "Epoch [965/3000]: Train loss: 3.7163, Valid loss: 2.4467\n"
          ]
        },
        {
          "name": "stderr",
          "output_type": "stream",
          "text": [
            "Epoch [966/3000]: 100%|██████████| 9/9 [00:00<00:00, 553.27it/s, loss=1.8]\n"
          ]
        },
        {
          "name": "stdout",
          "output_type": "stream",
          "text": [
            "Epoch [966/3000]: Train loss: 2.3032, Valid loss: 1.9164\n"
          ]
        },
        {
          "name": "stderr",
          "output_type": "stream",
          "text": [
            "Epoch [967/3000]: 100%|██████████| 9/9 [00:00<00:00, 644.33it/s, loss=1.94]\n"
          ]
        },
        {
          "name": "stdout",
          "output_type": "stream",
          "text": [
            "Epoch [967/3000]: Train loss: 2.2840, Valid loss: 2.1017\n"
          ]
        },
        {
          "name": "stderr",
          "output_type": "stream",
          "text": [
            "Epoch [968/3000]: 100%|██████████| 9/9 [00:00<00:00, 526.87it/s, loss=1.79]\n"
          ]
        },
        {
          "name": "stdout",
          "output_type": "stream",
          "text": [
            "Epoch [968/3000]: Train loss: 1.9544, Valid loss: 2.9820\n"
          ]
        },
        {
          "name": "stderr",
          "output_type": "stream",
          "text": [
            "Epoch [969/3000]: 100%|██████████| 9/9 [00:00<00:00, 555.55it/s, loss=2.02]\n"
          ]
        },
        {
          "name": "stdout",
          "output_type": "stream",
          "text": [
            "Epoch [969/3000]: Train loss: 2.2474, Valid loss: 3.9646\n"
          ]
        },
        {
          "name": "stderr",
          "output_type": "stream",
          "text": [
            "Epoch [970/3000]: 100%|██████████| 9/9 [00:00<00:00, 482.86it/s, loss=1.74]\n"
          ]
        },
        {
          "name": "stdout",
          "output_type": "stream",
          "text": [
            "Epoch [970/3000]: Train loss: 2.9273, Valid loss: 4.6502\n"
          ]
        },
        {
          "name": "stderr",
          "output_type": "stream",
          "text": [
            "Epoch [971/3000]: 100%|██████████| 9/9 [00:00<00:00, 536.68it/s, loss=3.25]\n"
          ]
        },
        {
          "name": "stdout",
          "output_type": "stream",
          "text": [
            "Epoch [971/3000]: Train loss: 2.8821, Valid loss: 2.8396\n"
          ]
        },
        {
          "name": "stderr",
          "output_type": "stream",
          "text": [
            "Epoch [972/3000]: 100%|██████████| 9/9 [00:00<00:00, 503.28it/s, loss=2.17]\n"
          ]
        },
        {
          "name": "stdout",
          "output_type": "stream",
          "text": [
            "Epoch [972/3000]: Train loss: 1.9960, Valid loss: 2.0793\n"
          ]
        },
        {
          "name": "stderr",
          "output_type": "stream",
          "text": [
            "Epoch [973/3000]: 100%|██████████| 9/9 [00:00<00:00, 379.80it/s, loss=1.52]\n"
          ]
        },
        {
          "name": "stdout",
          "output_type": "stream",
          "text": [
            "Epoch [973/3000]: Train loss: 1.8880, Valid loss: 2.1237\n"
          ]
        },
        {
          "name": "stderr",
          "output_type": "stream",
          "text": [
            "Epoch [974/3000]: 100%|██████████| 9/9 [00:00<00:00, 622.01it/s, loss=2.04]\n"
          ]
        },
        {
          "name": "stdout",
          "output_type": "stream",
          "text": [
            "Epoch [974/3000]: Train loss: 1.9156, Valid loss: 2.0337\n"
          ]
        },
        {
          "name": "stderr",
          "output_type": "stream",
          "text": [
            "Epoch [975/3000]: 100%|██████████| 9/9 [00:00<00:00, 319.68it/s, loss=1.77]\n"
          ]
        },
        {
          "name": "stdout",
          "output_type": "stream",
          "text": [
            "Epoch [975/3000]: Train loss: 1.9203, Valid loss: 2.1798\n"
          ]
        },
        {
          "name": "stderr",
          "output_type": "stream",
          "text": [
            "Epoch [976/3000]: 100%|██████████| 9/9 [00:00<00:00, 612.96it/s, loss=2.31]\n"
          ]
        },
        {
          "name": "stdout",
          "output_type": "stream",
          "text": [
            "Epoch [976/3000]: Train loss: 2.2540, Valid loss: 2.3338\n"
          ]
        },
        {
          "name": "stderr",
          "output_type": "stream",
          "text": [
            "Epoch [977/3000]: 100%|██████████| 9/9 [00:00<00:00, 610.62it/s, loss=1.85]\n"
          ]
        },
        {
          "name": "stdout",
          "output_type": "stream",
          "text": [
            "Epoch [977/3000]: Train loss: 2.0597, Valid loss: 2.3318\n"
          ]
        },
        {
          "name": "stderr",
          "output_type": "stream",
          "text": [
            "Epoch [978/3000]: 100%|██████████| 9/9 [00:00<00:00, 501.33it/s, loss=2.53]\n"
          ]
        },
        {
          "name": "stdout",
          "output_type": "stream",
          "text": [
            "Epoch [978/3000]: Train loss: 2.1043, Valid loss: 2.2208\n"
          ]
        },
        {
          "name": "stderr",
          "output_type": "stream",
          "text": [
            "Epoch [979/3000]: 100%|██████████| 9/9 [00:00<00:00, 580.76it/s, loss=1.79]\n"
          ]
        },
        {
          "name": "stdout",
          "output_type": "stream",
          "text": [
            "Epoch [979/3000]: Train loss: 1.9561, Valid loss: 2.0502\n"
          ]
        },
        {
          "name": "stderr",
          "output_type": "stream",
          "text": [
            "Epoch [980/3000]: 100%|██████████| 9/9 [00:00<00:00, 493.93it/s, loss=1.97]\n"
          ]
        },
        {
          "name": "stdout",
          "output_type": "stream",
          "text": [
            "Epoch [980/3000]: Train loss: 2.0111, Valid loss: 2.4966\n"
          ]
        },
        {
          "name": "stderr",
          "output_type": "stream",
          "text": [
            "Epoch [981/3000]: 100%|██████████| 9/9 [00:00<00:00, 558.76it/s, loss=1.88]\n"
          ]
        },
        {
          "name": "stdout",
          "output_type": "stream",
          "text": [
            "Epoch [981/3000]: Train loss: 1.9586, Valid loss: 4.1905\n"
          ]
        },
        {
          "name": "stderr",
          "output_type": "stream",
          "text": [
            "Epoch [982/3000]: 100%|██████████| 9/9 [00:00<00:00, 478.57it/s, loss=1.89]\n"
          ]
        },
        {
          "name": "stdout",
          "output_type": "stream",
          "text": [
            "Epoch [982/3000]: Train loss: 2.3775, Valid loss: 2.0504\n"
          ]
        },
        {
          "name": "stderr",
          "output_type": "stream",
          "text": [
            "Epoch [983/3000]: 100%|██████████| 9/9 [00:00<00:00, 356.18it/s, loss=2.31]\n"
          ]
        },
        {
          "name": "stdout",
          "output_type": "stream",
          "text": [
            "Epoch [983/3000]: Train loss: 2.3876, Valid loss: 2.2884\n"
          ]
        },
        {
          "name": "stderr",
          "output_type": "stream",
          "text": [
            "Epoch [984/3000]: 100%|██████████| 9/9 [00:00<00:00, 577.14it/s, loss=2.18]\n"
          ]
        },
        {
          "name": "stdout",
          "output_type": "stream",
          "text": [
            "Epoch [984/3000]: Train loss: 2.9702, Valid loss: 3.9716\n"
          ]
        },
        {
          "name": "stderr",
          "output_type": "stream",
          "text": [
            "Epoch [985/3000]: 100%|██████████| 9/9 [00:00<00:00, 582.16it/s, loss=1.49]\n"
          ]
        },
        {
          "name": "stdout",
          "output_type": "stream",
          "text": [
            "Epoch [985/3000]: Train loss: 2.0946, Valid loss: 2.2772\n"
          ]
        },
        {
          "name": "stderr",
          "output_type": "stream",
          "text": [
            "Epoch [986/3000]: 100%|██████████| 9/9 [00:00<00:00, 549.32it/s, loss=2.61]\n"
          ]
        },
        {
          "name": "stdout",
          "output_type": "stream",
          "text": [
            "Epoch [986/3000]: Train loss: 2.1608, Valid loss: 2.2226\n"
          ]
        },
        {
          "name": "stderr",
          "output_type": "stream",
          "text": [
            "Epoch [987/3000]: 100%|██████████| 9/9 [00:00<00:00, 557.07it/s, loss=2.73]\n"
          ]
        },
        {
          "name": "stdout",
          "output_type": "stream",
          "text": [
            "Epoch [987/3000]: Train loss: 2.1705, Valid loss: 2.7975\n"
          ]
        },
        {
          "name": "stderr",
          "output_type": "stream",
          "text": [
            "Epoch [988/3000]: 100%|██████████| 9/9 [00:00<00:00, 445.35it/s, loss=1.52]\n"
          ]
        },
        {
          "name": "stdout",
          "output_type": "stream",
          "text": [
            "Epoch [988/3000]: Train loss: 2.0290, Valid loss: 2.4169\n"
          ]
        },
        {
          "name": "stderr",
          "output_type": "stream",
          "text": [
            "Epoch [989/3000]: 100%|██████████| 9/9 [00:00<00:00, 578.13it/s, loss=2.46]\n"
          ]
        },
        {
          "name": "stdout",
          "output_type": "stream",
          "text": [
            "Epoch [989/3000]: Train loss: 2.1793, Valid loss: 2.5471\n"
          ]
        },
        {
          "name": "stderr",
          "output_type": "stream",
          "text": [
            "Epoch [990/3000]: 100%|██████████| 9/9 [00:00<00:00, 353.63it/s, loss=2.29]\n"
          ]
        },
        {
          "name": "stdout",
          "output_type": "stream",
          "text": [
            "Epoch [990/3000]: Train loss: 2.3674, Valid loss: 2.3004\n"
          ]
        },
        {
          "name": "stderr",
          "output_type": "stream",
          "text": [
            "Epoch [991/3000]: 100%|██████████| 9/9 [00:00<00:00, 586.70it/s, loss=1.98]\n"
          ]
        },
        {
          "name": "stdout",
          "output_type": "stream",
          "text": [
            "Epoch [991/3000]: Train loss: 1.9390, Valid loss: 2.0519\n"
          ]
        },
        {
          "name": "stderr",
          "output_type": "stream",
          "text": [
            "Epoch [992/3000]: 100%|██████████| 9/9 [00:00<00:00, 582.48it/s, loss=1.54]\n"
          ]
        },
        {
          "name": "stdout",
          "output_type": "stream",
          "text": [
            "Epoch [992/3000]: Train loss: 1.9553, Valid loss: 2.4675\n"
          ]
        },
        {
          "name": "stderr",
          "output_type": "stream",
          "text": [
            "Epoch [993/3000]: 100%|██████████| 9/9 [00:00<00:00, 424.29it/s, loss=1.72]\n"
          ]
        },
        {
          "name": "stdout",
          "output_type": "stream",
          "text": [
            "Epoch [993/3000]: Train loss: 2.0702, Valid loss: 2.4456\n"
          ]
        },
        {
          "name": "stderr",
          "output_type": "stream",
          "text": [
            "Epoch [994/3000]: 100%|██████████| 9/9 [00:00<00:00, 519.00it/s, loss=1.77]\n"
          ]
        },
        {
          "name": "stdout",
          "output_type": "stream",
          "text": [
            "Epoch [994/3000]: Train loss: 2.1397, Valid loss: 2.3330\n"
          ]
        },
        {
          "name": "stderr",
          "output_type": "stream",
          "text": [
            "Epoch [995/3000]: 100%|██████████| 9/9 [00:00<00:00, 563.21it/s, loss=2.03]\n"
          ]
        },
        {
          "name": "stdout",
          "output_type": "stream",
          "text": [
            "Epoch [995/3000]: Train loss: 1.9851, Valid loss: 2.3258\n"
          ]
        },
        {
          "name": "stderr",
          "output_type": "stream",
          "text": [
            "Epoch [996/3000]: 100%|██████████| 9/9 [00:00<00:00, 497.87it/s, loss=2.32]\n"
          ]
        },
        {
          "name": "stdout",
          "output_type": "stream",
          "text": [
            "Epoch [996/3000]: Train loss: 2.0160, Valid loss: 3.3764\n"
          ]
        },
        {
          "name": "stderr",
          "output_type": "stream",
          "text": [
            "Epoch [997/3000]: 100%|██████████| 9/9 [00:00<00:00, 422.44it/s, loss=2.4]\n"
          ]
        },
        {
          "name": "stdout",
          "output_type": "stream",
          "text": [
            "Epoch [997/3000]: Train loss: 2.2095, Valid loss: 2.3912\n"
          ]
        },
        {
          "name": "stderr",
          "output_type": "stream",
          "text": [
            "Epoch [998/3000]: 100%|██████████| 9/9 [00:00<00:00, 427.55it/s, loss=1.9]\n"
          ]
        },
        {
          "name": "stdout",
          "output_type": "stream",
          "text": [
            "Epoch [998/3000]: Train loss: 2.0542, Valid loss: 2.3429\n"
          ]
        },
        {
          "name": "stderr",
          "output_type": "stream",
          "text": [
            "Epoch [999/3000]: 100%|██████████| 9/9 [00:00<00:00, 529.67it/s, loss=1.63]\n"
          ]
        },
        {
          "name": "stdout",
          "output_type": "stream",
          "text": [
            "Epoch [999/3000]: Train loss: 2.2486, Valid loss: 3.1299\n"
          ]
        },
        {
          "name": "stderr",
          "output_type": "stream",
          "text": [
            "Epoch [1000/3000]: 100%|██████████| 9/9 [00:00<00:00, 470.17it/s, loss=1.8]\n"
          ]
        },
        {
          "name": "stdout",
          "output_type": "stream",
          "text": [
            "Epoch [1000/3000]: Train loss: 2.0868, Valid loss: 4.6353\n"
          ]
        },
        {
          "name": "stderr",
          "output_type": "stream",
          "text": [
            "Epoch [1001/3000]: 100%|██████████| 9/9 [00:00<00:00, 545.86it/s, loss=1.94]\n"
          ]
        },
        {
          "name": "stdout",
          "output_type": "stream",
          "text": [
            "Epoch [1001/3000]: Train loss: 2.7976, Valid loss: 4.5166\n"
          ]
        },
        {
          "name": "stderr",
          "output_type": "stream",
          "text": [
            "Epoch [1002/3000]: 100%|██████████| 9/9 [00:00<00:00, 493.82it/s, loss=2.02]\n"
          ]
        },
        {
          "name": "stdout",
          "output_type": "stream",
          "text": [
            "Epoch [1002/3000]: Train loss: 2.3733, Valid loss: 2.4975\n"
          ]
        },
        {
          "name": "stderr",
          "output_type": "stream",
          "text": [
            "Epoch [1003/3000]: 100%|██████████| 9/9 [00:00<00:00, 163.66it/s, loss=2.02]\n"
          ]
        },
        {
          "name": "stdout",
          "output_type": "stream",
          "text": [
            "Epoch [1003/3000]: Train loss: 2.6150, Valid loss: 2.4454\n"
          ]
        },
        {
          "name": "stderr",
          "output_type": "stream",
          "text": [
            "Epoch [1004/3000]: 100%|██████████| 9/9 [00:00<00:00, 516.94it/s, loss=3.06]\n"
          ]
        },
        {
          "name": "stdout",
          "output_type": "stream",
          "text": [
            "Epoch [1004/3000]: Train loss: 2.3488, Valid loss: 2.0617\n"
          ]
        },
        {
          "name": "stderr",
          "output_type": "stream",
          "text": [
            "Epoch [1005/3000]: 100%|██████████| 9/9 [00:00<00:00, 493.20it/s, loss=1.86]\n"
          ]
        },
        {
          "name": "stdout",
          "output_type": "stream",
          "text": [
            "Epoch [1005/3000]: Train loss: 2.1308, Valid loss: 2.9901\n"
          ]
        },
        {
          "name": "stderr",
          "output_type": "stream",
          "text": [
            "Epoch [1006/3000]: 100%|██████████| 9/9 [00:00<00:00, 155.09it/s, loss=2.21]\n"
          ]
        },
        {
          "name": "stdout",
          "output_type": "stream",
          "text": [
            "Epoch [1006/3000]: Train loss: 2.1860, Valid loss: 2.3023\n"
          ]
        },
        {
          "name": "stderr",
          "output_type": "stream",
          "text": [
            "Epoch [1007/3000]: 100%|██████████| 9/9 [00:00<00:00, 451.97it/s, loss=1.89]\n"
          ]
        },
        {
          "name": "stdout",
          "output_type": "stream",
          "text": [
            "Epoch [1007/3000]: Train loss: 2.0338, Valid loss: 2.5342\n"
          ]
        },
        {
          "name": "stderr",
          "output_type": "stream",
          "text": [
            "Epoch [1008/3000]: 100%|██████████| 9/9 [00:00<00:00, 549.52it/s, loss=1.62]\n"
          ]
        },
        {
          "name": "stdout",
          "output_type": "stream",
          "text": [
            "Epoch [1008/3000]: Train loss: 1.9839, Valid loss: 2.2795\n"
          ]
        },
        {
          "name": "stderr",
          "output_type": "stream",
          "text": [
            "Epoch [1009/3000]: 100%|██████████| 9/9 [00:00<00:00, 675.47it/s, loss=2.42]\n"
          ]
        },
        {
          "name": "stdout",
          "output_type": "stream",
          "text": [
            "Epoch [1009/3000]: Train loss: 2.0129, Valid loss: 2.2389\n"
          ]
        },
        {
          "name": "stderr",
          "output_type": "stream",
          "text": [
            "Epoch [1010/3000]: 100%|██████████| 9/9 [00:00<00:00, 511.33it/s, loss=1.67]\n"
          ]
        },
        {
          "name": "stdout",
          "output_type": "stream",
          "text": [
            "Epoch [1010/3000]: Train loss: 2.0129, Valid loss: 2.6499\n"
          ]
        },
        {
          "name": "stderr",
          "output_type": "stream",
          "text": [
            "Epoch [1011/3000]: 100%|██████████| 9/9 [00:00<00:00, 562.47it/s, loss=1.63]\n"
          ]
        },
        {
          "name": "stdout",
          "output_type": "stream",
          "text": [
            "Epoch [1011/3000]: Train loss: 2.0737, Valid loss: 2.2735\n"
          ]
        },
        {
          "name": "stderr",
          "output_type": "stream",
          "text": [
            "Epoch [1012/3000]: 100%|██████████| 9/9 [00:00<00:00, 447.94it/s, loss=2.89]"
          ]
        },
        {
          "name": "stdout",
          "output_type": "stream",
          "text": [
            "Epoch [1012/3000]: Train loss: 2.3641, Valid loss: 2.8305"
          ]
        },
        {
          "name": "stderr",
          "output_type": "stream",
          "text": [
            "\n"
          ]
        },
        {
          "name": "stdout",
          "output_type": "stream",
          "text": [
            "\n"
          ]
        },
        {
          "name": "stderr",
          "output_type": "stream",
          "text": [
            "Epoch [1013/3000]: 100%|██████████| 9/9 [00:00<00:00, 437.51it/s, loss=2.84]\n"
          ]
        },
        {
          "name": "stdout",
          "output_type": "stream",
          "text": [
            "Epoch [1013/3000]: Train loss: 2.4488, Valid loss: 2.0185\n"
          ]
        },
        {
          "name": "stderr",
          "output_type": "stream",
          "text": [
            "Epoch [1014/3000]: 100%|██████████| 9/9 [00:00<00:00, 585.98it/s, loss=1.43]\n"
          ]
        },
        {
          "name": "stdout",
          "output_type": "stream",
          "text": [
            "Epoch [1014/3000]: Train loss: 1.9227, Valid loss: 1.9385\n"
          ]
        },
        {
          "name": "stderr",
          "output_type": "stream",
          "text": [
            "Epoch [1015/3000]: 100%|██████████| 9/9 [00:00<00:00, 508.07it/s, loss=2.2]\n"
          ]
        },
        {
          "name": "stdout",
          "output_type": "stream",
          "text": [
            "Epoch [1015/3000]: Train loss: 1.9485, Valid loss: 3.9073\n"
          ]
        },
        {
          "name": "stderr",
          "output_type": "stream",
          "text": [
            "Epoch [1016/3000]: 100%|██████████| 9/9 [00:00<00:00, 150.61it/s, loss=2.48]\n"
          ]
        },
        {
          "name": "stdout",
          "output_type": "stream",
          "text": [
            "Epoch [1016/3000]: Train loss: 2.4998, Valid loss: 1.9880\n"
          ]
        },
        {
          "name": "stderr",
          "output_type": "stream",
          "text": [
            "Epoch [1017/3000]: 100%|██████████| 9/9 [00:00<00:00, 626.14it/s, loss=1.97]\n"
          ]
        },
        {
          "name": "stdout",
          "output_type": "stream",
          "text": [
            "Epoch [1017/3000]: Train loss: 2.1087, Valid loss: 2.1392\n"
          ]
        },
        {
          "name": "stderr",
          "output_type": "stream",
          "text": [
            "Epoch [1018/3000]: 100%|██████████| 9/9 [00:00<00:00, 553.22it/s, loss=1.89]\n"
          ]
        },
        {
          "name": "stdout",
          "output_type": "stream",
          "text": [
            "Epoch [1018/3000]: Train loss: 2.1710, Valid loss: 2.1210\n"
          ]
        },
        {
          "name": "stderr",
          "output_type": "stream",
          "text": [
            "Epoch [1019/3000]: 100%|██████████| 9/9 [00:00<00:00, 520.23it/s, loss=2.34]\n"
          ]
        },
        {
          "name": "stdout",
          "output_type": "stream",
          "text": [
            "Epoch [1019/3000]: Train loss: 1.9257, Valid loss: 2.6950\n"
          ]
        },
        {
          "name": "stderr",
          "output_type": "stream",
          "text": [
            "Epoch [1020/3000]: 100%|██████████| 9/9 [00:00<00:00, 632.28it/s, loss=1.64]\n"
          ]
        },
        {
          "name": "stdout",
          "output_type": "stream",
          "text": [
            "Epoch [1020/3000]: Train loss: 2.0090, Valid loss: 2.1717\n"
          ]
        },
        {
          "name": "stderr",
          "output_type": "stream",
          "text": [
            "Epoch [1021/3000]: 100%|██████████| 9/9 [00:00<00:00, 471.18it/s, loss=2.3]\n"
          ]
        },
        {
          "name": "stdout",
          "output_type": "stream",
          "text": [
            "Epoch [1021/3000]: Train loss: 1.9490, Valid loss: 2.5355\n"
          ]
        },
        {
          "name": "stderr",
          "output_type": "stream",
          "text": [
            "Epoch [1022/3000]: 100%|██████████| 9/9 [00:00<00:00, 400.43it/s, loss=2.34]\n"
          ]
        },
        {
          "name": "stdout",
          "output_type": "stream",
          "text": [
            "Epoch [1022/3000]: Train loss: 2.3908, Valid loss: 2.2538\n"
          ]
        },
        {
          "name": "stderr",
          "output_type": "stream",
          "text": [
            "Epoch [1023/3000]: 100%|██████████| 9/9 [00:00<00:00, 651.74it/s, loss=2.85]\n"
          ]
        },
        {
          "name": "stdout",
          "output_type": "stream",
          "text": [
            "Epoch [1023/3000]: Train loss: 2.0233, Valid loss: 2.3866\n"
          ]
        },
        {
          "name": "stderr",
          "output_type": "stream",
          "text": [
            "Epoch [1024/3000]: 100%|██████████| 9/9 [00:00<00:00, 99.79it/s, loss=2.38]\n"
          ]
        },
        {
          "name": "stdout",
          "output_type": "stream",
          "text": [
            "Epoch [1024/3000]: Train loss: 2.2123, Valid loss: 2.6028\n"
          ]
        },
        {
          "name": "stderr",
          "output_type": "stream",
          "text": [
            "Epoch [1025/3000]: 100%|██████████| 9/9 [00:00<00:00, 555.42it/s, loss=1.59]\n"
          ]
        },
        {
          "name": "stdout",
          "output_type": "stream",
          "text": [
            "Epoch [1025/3000]: Train loss: 2.0724, Valid loss: 2.3153\n"
          ]
        },
        {
          "name": "stderr",
          "output_type": "stream",
          "text": [
            "Epoch [1026/3000]: 100%|██████████| 9/9 [00:00<00:00, 545.69it/s, loss=2.38]\n"
          ]
        },
        {
          "name": "stdout",
          "output_type": "stream",
          "text": [
            "Epoch [1026/3000]: Train loss: 1.9819, Valid loss: 2.4527\n"
          ]
        },
        {
          "name": "stderr",
          "output_type": "stream",
          "text": [
            "Epoch [1027/3000]: 100%|██████████| 9/9 [00:00<00:00, 443.98it/s, loss=1.38]\n"
          ]
        },
        {
          "name": "stdout",
          "output_type": "stream",
          "text": [
            "Epoch [1027/3000]: Train loss: 1.8317, Valid loss: 2.6238\n"
          ]
        },
        {
          "name": "stderr",
          "output_type": "stream",
          "text": [
            "Epoch [1028/3000]: 100%|██████████| 9/9 [00:00<00:00, 549.46it/s, loss=1.95]\n"
          ]
        },
        {
          "name": "stdout",
          "output_type": "stream",
          "text": [
            "Epoch [1028/3000]: Train loss: 1.9610, Valid loss: 1.8578\n",
            "Saving model with loss 1.858...\n"
          ]
        },
        {
          "name": "stderr",
          "output_type": "stream",
          "text": [
            "Epoch [1029/3000]: 100%|██████████| 9/9 [00:00<00:00, 533.72it/s, loss=2.08]\n"
          ]
        },
        {
          "name": "stdout",
          "output_type": "stream",
          "text": [
            "Epoch [1029/3000]: Train loss: 2.0199, Valid loss: 2.9825\n"
          ]
        },
        {
          "name": "stderr",
          "output_type": "stream",
          "text": [
            "Epoch [1030/3000]: 100%|██████████| 9/9 [00:00<00:00, 439.01it/s, loss=1.6]\n"
          ]
        },
        {
          "name": "stdout",
          "output_type": "stream",
          "text": [
            "Epoch [1030/3000]: Train loss: 2.0643, Valid loss: 1.8288\n",
            "Saving model with loss 1.829...\n"
          ]
        },
        {
          "name": "stderr",
          "output_type": "stream",
          "text": [
            "Epoch [1031/3000]: 100%|██████████| 9/9 [00:00<00:00, 532.80it/s, loss=1.76]\n"
          ]
        },
        {
          "name": "stdout",
          "output_type": "stream",
          "text": [
            "Epoch [1031/3000]: Train loss: 1.9916, Valid loss: 2.1732\n"
          ]
        },
        {
          "name": "stderr",
          "output_type": "stream",
          "text": [
            "Epoch [1032/3000]: 100%|██████████| 9/9 [00:00<00:00, 451.85it/s, loss=1.82]\n"
          ]
        },
        {
          "name": "stdout",
          "output_type": "stream",
          "text": [
            "Epoch [1032/3000]: Train loss: 2.1037, Valid loss: 2.2211\n"
          ]
        },
        {
          "name": "stderr",
          "output_type": "stream",
          "text": [
            "Epoch [1033/3000]: 100%|██████████| 9/9 [00:00<00:00, 559.76it/s, loss=1.59]\n"
          ]
        },
        {
          "name": "stdout",
          "output_type": "stream",
          "text": [
            "Epoch [1033/3000]: Train loss: 2.1347, Valid loss: 2.1099\n"
          ]
        },
        {
          "name": "stderr",
          "output_type": "stream",
          "text": [
            "Epoch [1034/3000]: 100%|██████████| 9/9 [00:00<00:00, 506.55it/s, loss=1.32]\n"
          ]
        },
        {
          "name": "stdout",
          "output_type": "stream",
          "text": [
            "Epoch [1034/3000]: Train loss: 1.9619, Valid loss: 2.6531\n"
          ]
        },
        {
          "name": "stderr",
          "output_type": "stream",
          "text": [
            "Epoch [1035/3000]: 100%|██████████| 9/9 [00:00<00:00, 428.49it/s, loss=1.45]\n"
          ]
        },
        {
          "name": "stdout",
          "output_type": "stream",
          "text": [
            "Epoch [1035/3000]: Train loss: 2.1888, Valid loss: 1.9914\n"
          ]
        },
        {
          "name": "stderr",
          "output_type": "stream",
          "text": [
            "Epoch [1036/3000]: 100%|██████████| 9/9 [00:00<00:00, 610.46it/s, loss=2.57]\n"
          ]
        },
        {
          "name": "stdout",
          "output_type": "stream",
          "text": [
            "Epoch [1036/3000]: Train loss: 1.9860, Valid loss: 2.6360\n"
          ]
        },
        {
          "name": "stderr",
          "output_type": "stream",
          "text": [
            "Epoch [1037/3000]: 100%|██████████| 9/9 [00:00<00:00, 476.26it/s, loss=2.04]\n"
          ]
        },
        {
          "name": "stdout",
          "output_type": "stream",
          "text": [
            "Epoch [1037/3000]: Train loss: 1.9300, Valid loss: 2.8283\n"
          ]
        },
        {
          "name": "stderr",
          "output_type": "stream",
          "text": [
            "Epoch [1038/3000]: 100%|██████████| 9/9 [00:00<00:00, 508.07it/s, loss=2.3]\n"
          ]
        },
        {
          "name": "stdout",
          "output_type": "stream",
          "text": [
            "Epoch [1038/3000]: Train loss: 2.0295, Valid loss: 2.1023\n"
          ]
        },
        {
          "name": "stderr",
          "output_type": "stream",
          "text": [
            "Epoch [1039/3000]: 100%|██████████| 9/9 [00:00<00:00, 152.54it/s, loss=2.06]\n"
          ]
        },
        {
          "name": "stdout",
          "output_type": "stream",
          "text": [
            "Epoch [1039/3000]: Train loss: 2.2610, Valid loss: 2.7001\n"
          ]
        },
        {
          "name": "stderr",
          "output_type": "stream",
          "text": [
            "Epoch [1040/3000]: 100%|██████████| 9/9 [00:00<00:00, 491.70it/s, loss=1.82]\n"
          ]
        },
        {
          "name": "stdout",
          "output_type": "stream",
          "text": [
            "Epoch [1040/3000]: Train loss: 2.1491, Valid loss: 2.2320\n"
          ]
        },
        {
          "name": "stderr",
          "output_type": "stream",
          "text": [
            "Epoch [1041/3000]: 100%|██████████| 9/9 [00:00<00:00, 630.22it/s, loss=1.93]\n"
          ]
        },
        {
          "name": "stdout",
          "output_type": "stream",
          "text": [
            "Epoch [1041/3000]: Train loss: 2.0704, Valid loss: 2.7116\n"
          ]
        },
        {
          "name": "stderr",
          "output_type": "stream",
          "text": [
            "Epoch [1042/3000]: 100%|██████████| 9/9 [00:00<00:00, 525.55it/s, loss=2.14]\n"
          ]
        },
        {
          "name": "stdout",
          "output_type": "stream",
          "text": [
            "Epoch [1042/3000]: Train loss: 1.9041, Valid loss: 2.2902\n"
          ]
        },
        {
          "name": "stderr",
          "output_type": "stream",
          "text": [
            "Epoch [1043/3000]: 100%|██████████| 9/9 [00:00<00:00, 564.70it/s, loss=2.34]\n"
          ]
        },
        {
          "name": "stdout",
          "output_type": "stream",
          "text": [
            "Epoch [1043/3000]: Train loss: 1.9391, Valid loss: 2.0389\n"
          ]
        },
        {
          "name": "stderr",
          "output_type": "stream",
          "text": [
            "Epoch [1044/3000]: 100%|██████████| 9/9 [00:00<00:00, 476.79it/s, loss=2.23]\n"
          ]
        },
        {
          "name": "stdout",
          "output_type": "stream",
          "text": [
            "Epoch [1044/3000]: Train loss: 2.0935, Valid loss: 2.0189\n"
          ]
        },
        {
          "name": "stderr",
          "output_type": "stream",
          "text": [
            "Epoch [1045/3000]: 100%|██████████| 9/9 [00:00<00:00, 563.09it/s, loss=2.65]\n"
          ]
        },
        {
          "name": "stdout",
          "output_type": "stream",
          "text": [
            "Epoch [1045/3000]: Train loss: 1.9773, Valid loss: 1.9627\n"
          ]
        },
        {
          "name": "stderr",
          "output_type": "stream",
          "text": [
            "Epoch [1046/3000]: 100%|██████████| 9/9 [00:00<00:00, 522.83it/s, loss=2.25]\n"
          ]
        },
        {
          "name": "stdout",
          "output_type": "stream",
          "text": [
            "Epoch [1046/3000]: Train loss: 2.0672, Valid loss: 3.3670\n"
          ]
        },
        {
          "name": "stderr",
          "output_type": "stream",
          "text": [
            "Epoch [1047/3000]: 100%|██████████| 9/9 [00:00<00:00, 402.59it/s, loss=2.55]\n"
          ]
        },
        {
          "name": "stdout",
          "output_type": "stream",
          "text": [
            "Epoch [1047/3000]: Train loss: 2.2697, Valid loss: 2.7689\n"
          ]
        },
        {
          "name": "stderr",
          "output_type": "stream",
          "text": [
            "Epoch [1048/3000]: 100%|██████████| 9/9 [00:00<00:00, 173.99it/s, loss=1.94]\n"
          ]
        },
        {
          "name": "stdout",
          "output_type": "stream",
          "text": [
            "Epoch [1048/3000]: Train loss: 2.5630, Valid loss: 4.3534\n"
          ]
        },
        {
          "name": "stderr",
          "output_type": "stream",
          "text": [
            "Epoch [1049/3000]: 100%|██████████| 9/9 [00:00<00:00, 530.34it/s, loss=2.76]\n"
          ]
        },
        {
          "name": "stdout",
          "output_type": "stream",
          "text": [
            "Epoch [1049/3000]: Train loss: 2.8156, Valid loss: 2.4590\n"
          ]
        },
        {
          "name": "stderr",
          "output_type": "stream",
          "text": [
            "Epoch [1050/3000]: 100%|██████████| 9/9 [00:00<00:00, 638.56it/s, loss=2.47]\n"
          ]
        },
        {
          "name": "stdout",
          "output_type": "stream",
          "text": [
            "Epoch [1050/3000]: Train loss: 2.1147, Valid loss: 2.2218\n"
          ]
        },
        {
          "name": "stderr",
          "output_type": "stream",
          "text": [
            "Epoch [1051/3000]: 100%|██████████| 9/9 [00:00<00:00, 519.93it/s, loss=2.03]\n"
          ]
        },
        {
          "name": "stdout",
          "output_type": "stream",
          "text": [
            "Epoch [1051/3000]: Train loss: 2.0362, Valid loss: 2.1293\n"
          ]
        },
        {
          "name": "stderr",
          "output_type": "stream",
          "text": [
            "Epoch [1052/3000]: 100%|██████████| 9/9 [00:00<00:00, 302.10it/s, loss=1.89]\n"
          ]
        },
        {
          "name": "stdout",
          "output_type": "stream",
          "text": [
            "Epoch [1052/3000]: Train loss: 2.0341, Valid loss: 2.8307\n"
          ]
        },
        {
          "name": "stderr",
          "output_type": "stream",
          "text": [
            "Epoch [1053/3000]: 100%|██████████| 9/9 [00:00<00:00, 411.65it/s, loss=2.67]\n"
          ]
        },
        {
          "name": "stdout",
          "output_type": "stream",
          "text": [
            "Epoch [1053/3000]: Train loss: 2.3331, Valid loss: 2.3548\n"
          ]
        },
        {
          "name": "stderr",
          "output_type": "stream",
          "text": [
            "Epoch [1054/3000]: 100%|██████████| 9/9 [00:00<00:00, 487.56it/s, loss=1.99]\n"
          ]
        },
        {
          "name": "stdout",
          "output_type": "stream",
          "text": [
            "Epoch [1054/3000]: Train loss: 2.0613, Valid loss: 3.1563\n"
          ]
        },
        {
          "name": "stderr",
          "output_type": "stream",
          "text": [
            "Epoch [1055/3000]: 100%|██████████| 9/9 [00:00<00:00, 456.20it/s, loss=2.07]\n"
          ]
        },
        {
          "name": "stdout",
          "output_type": "stream",
          "text": [
            "Epoch [1055/3000]: Train loss: 2.4170, Valid loss: 2.4091\n"
          ]
        },
        {
          "name": "stderr",
          "output_type": "stream",
          "text": [
            "Epoch [1056/3000]: 100%|██████████| 9/9 [00:00<00:00, 125.31it/s, loss=2.49]\n"
          ]
        },
        {
          "name": "stdout",
          "output_type": "stream",
          "text": [
            "Epoch [1056/3000]: Train loss: 2.1598, Valid loss: 2.4324\n"
          ]
        },
        {
          "name": "stderr",
          "output_type": "stream",
          "text": [
            "Epoch [1057/3000]: 100%|██████████| 9/9 [00:00<00:00, 505.08it/s, loss=1.81]\n"
          ]
        },
        {
          "name": "stdout",
          "output_type": "stream",
          "text": [
            "Epoch [1057/3000]: Train loss: 2.0955, Valid loss: 1.9954\n"
          ]
        },
        {
          "name": "stderr",
          "output_type": "stream",
          "text": [
            "Epoch [1058/3000]: 100%|██████████| 9/9 [00:00<00:00, 485.91it/s, loss=1.72]\n"
          ]
        },
        {
          "name": "stdout",
          "output_type": "stream",
          "text": [
            "Epoch [1058/3000]: Train loss: 2.0521, Valid loss: 4.2662\n"
          ]
        },
        {
          "name": "stderr",
          "output_type": "stream",
          "text": [
            "Epoch [1059/3000]: 100%|██████████| 9/9 [00:00<00:00, 508.70it/s, loss=2.69]\n"
          ]
        },
        {
          "name": "stdout",
          "output_type": "stream",
          "text": [
            "Epoch [1059/3000]: Train loss: 2.5807, Valid loss: 2.4339\n"
          ]
        },
        {
          "name": "stderr",
          "output_type": "stream",
          "text": [
            "Epoch [1060/3000]: 100%|██████████| 9/9 [00:00<00:00, 433.86it/s, loss=2.99]\n"
          ]
        },
        {
          "name": "stdout",
          "output_type": "stream",
          "text": [
            "Epoch [1060/3000]: Train loss: 2.3105, Valid loss: 3.5072\n"
          ]
        },
        {
          "name": "stderr",
          "output_type": "stream",
          "text": [
            "Epoch [1061/3000]: 100%|██████████| 9/9 [00:00<00:00, 441.70it/s, loss=2.47]\n"
          ]
        },
        {
          "name": "stdout",
          "output_type": "stream",
          "text": [
            "Epoch [1061/3000]: Train loss: 2.5415, Valid loss: 2.3971\n"
          ]
        },
        {
          "name": "stderr",
          "output_type": "stream",
          "text": [
            "Epoch [1062/3000]: 100%|██████████| 9/9 [00:00<00:00, 321.85it/s, loss=2.13]\n"
          ]
        },
        {
          "name": "stdout",
          "output_type": "stream",
          "text": [
            "Epoch [1062/3000]: Train loss: 1.9623, Valid loss: 2.1684\n"
          ]
        },
        {
          "name": "stderr",
          "output_type": "stream",
          "text": [
            "Epoch [1063/3000]: 100%|██████████| 9/9 [00:00<00:00, 554.90it/s, loss=1.31]\n"
          ]
        },
        {
          "name": "stdout",
          "output_type": "stream",
          "text": [
            "Epoch [1063/3000]: Train loss: 1.8722, Valid loss: 2.1357\n"
          ]
        },
        {
          "name": "stderr",
          "output_type": "stream",
          "text": [
            "Epoch [1064/3000]: 100%|██████████| 9/9 [00:00<00:00, 357.58it/s, loss=2.4]\n"
          ]
        },
        {
          "name": "stdout",
          "output_type": "stream",
          "text": [
            "Epoch [1064/3000]: Train loss: 1.9538, Valid loss: 2.1511\n"
          ]
        },
        {
          "name": "stderr",
          "output_type": "stream",
          "text": [
            "Epoch [1065/3000]: 100%|██████████| 9/9 [00:00<00:00, 242.68it/s, loss=1.35]\n"
          ]
        },
        {
          "name": "stdout",
          "output_type": "stream",
          "text": [
            "Epoch [1065/3000]: Train loss: 1.9978, Valid loss: 2.2485\n"
          ]
        },
        {
          "name": "stderr",
          "output_type": "stream",
          "text": [
            "Epoch [1066/3000]: 100%|██████████| 9/9 [00:00<00:00, 541.58it/s, loss=2.02]\n"
          ]
        },
        {
          "name": "stdout",
          "output_type": "stream",
          "text": [
            "Epoch [1066/3000]: Train loss: 2.1644, Valid loss: 3.2585\n"
          ]
        },
        {
          "name": "stderr",
          "output_type": "stream",
          "text": [
            "Epoch [1067/3000]: 100%|██████████| 9/9 [00:00<00:00, 567.79it/s, loss=2.77]\n"
          ]
        },
        {
          "name": "stdout",
          "output_type": "stream",
          "text": [
            "Epoch [1067/3000]: Train loss: 2.6293, Valid loss: 3.2405\n"
          ]
        },
        {
          "name": "stderr",
          "output_type": "stream",
          "text": [
            "Epoch [1068/3000]: 100%|██████████| 9/9 [00:00<00:00, 453.13it/s, loss=1.83]\n"
          ]
        },
        {
          "name": "stdout",
          "output_type": "stream",
          "text": [
            "Epoch [1068/3000]: Train loss: 2.6431, Valid loss: 2.1775\n"
          ]
        },
        {
          "name": "stderr",
          "output_type": "stream",
          "text": [
            "Epoch [1069/3000]: 100%|██████████| 9/9 [00:00<00:00, 460.87it/s, loss=2.29]\n"
          ]
        },
        {
          "name": "stdout",
          "output_type": "stream",
          "text": [
            "Epoch [1069/3000]: Train loss: 1.9150, Valid loss: 2.0239\n"
          ]
        },
        {
          "name": "stderr",
          "output_type": "stream",
          "text": [
            "Epoch [1070/3000]: 100%|██████████| 9/9 [00:00<00:00, 394.17it/s, loss=1.82]\n"
          ]
        },
        {
          "name": "stdout",
          "output_type": "stream",
          "text": [
            "Epoch [1070/3000]: Train loss: 1.9628, Valid loss: 2.4321\n"
          ]
        },
        {
          "name": "stderr",
          "output_type": "stream",
          "text": [
            "Epoch [1071/3000]: 100%|██████████| 9/9 [00:00<00:00, 508.27it/s, loss=2]\n"
          ]
        },
        {
          "name": "stdout",
          "output_type": "stream",
          "text": [
            "Epoch [1071/3000]: Train loss: 2.2730, Valid loss: 2.8560\n"
          ]
        },
        {
          "name": "stderr",
          "output_type": "stream",
          "text": [
            "Epoch [1072/3000]: 100%|██████████| 9/9 [00:00<00:00, 508.39it/s, loss=1.97]\n"
          ]
        },
        {
          "name": "stdout",
          "output_type": "stream",
          "text": [
            "Epoch [1072/3000]: Train loss: 2.1025, Valid loss: 3.1309\n"
          ]
        },
        {
          "name": "stderr",
          "output_type": "stream",
          "text": [
            "Epoch [1073/3000]: 100%|██████████| 9/9 [00:00<00:00, 154.92it/s, loss=1.57]\n"
          ]
        },
        {
          "name": "stdout",
          "output_type": "stream",
          "text": [
            "Epoch [1073/3000]: Train loss: 1.9091, Valid loss: 2.1743\n"
          ]
        },
        {
          "name": "stderr",
          "output_type": "stream",
          "text": [
            "Epoch [1074/3000]: 100%|██████████| 9/9 [00:00<00:00, 543.91it/s, loss=2.51]\n"
          ]
        },
        {
          "name": "stdout",
          "output_type": "stream",
          "text": [
            "Epoch [1074/3000]: Train loss: 2.2585, Valid loss: 2.6828\n"
          ]
        },
        {
          "name": "stderr",
          "output_type": "stream",
          "text": [
            "Epoch [1075/3000]: 100%|██████████| 9/9 [00:00<00:00, 470.64it/s, loss=3.98]\n"
          ]
        },
        {
          "name": "stdout",
          "output_type": "stream",
          "text": [
            "Epoch [1075/3000]: Train loss: 2.7675, Valid loss: 2.6190\n"
          ]
        },
        {
          "name": "stderr",
          "output_type": "stream",
          "text": [
            "Epoch [1076/3000]: 100%|██████████| 9/9 [00:00<00:00, 423.47it/s, loss=2.03]\n"
          ]
        },
        {
          "name": "stdout",
          "output_type": "stream",
          "text": [
            "Epoch [1076/3000]: Train loss: 2.3897, Valid loss: 3.6988\n"
          ]
        },
        {
          "name": "stderr",
          "output_type": "stream",
          "text": [
            "Epoch [1077/3000]: 100%|██████████| 9/9 [00:00<00:00, 465.10it/s, loss=2.04]\n"
          ]
        },
        {
          "name": "stdout",
          "output_type": "stream",
          "text": [
            "Epoch [1077/3000]: Train loss: 2.0115, Valid loss: 2.7159\n"
          ]
        },
        {
          "name": "stderr",
          "output_type": "stream",
          "text": [
            "Epoch [1078/3000]: 100%|██████████| 9/9 [00:00<00:00, 370.33it/s, loss=2.43]\n"
          ]
        },
        {
          "name": "stdout",
          "output_type": "stream",
          "text": [
            "Epoch [1078/3000]: Train loss: 2.1398, Valid loss: 3.5298\n"
          ]
        },
        {
          "name": "stderr",
          "output_type": "stream",
          "text": [
            "Epoch [1079/3000]: 100%|██████████| 9/9 [00:00<00:00, 528.26it/s, loss=1.52]\n"
          ]
        },
        {
          "name": "stdout",
          "output_type": "stream",
          "text": [
            "Epoch [1079/3000]: Train loss: 2.2248, Valid loss: 2.4504\n"
          ]
        },
        {
          "name": "stderr",
          "output_type": "stream",
          "text": [
            "Epoch [1080/3000]: 100%|██████████| 9/9 [00:00<00:00, 354.57it/s, loss=2.32]\n"
          ]
        },
        {
          "name": "stdout",
          "output_type": "stream",
          "text": [
            "Epoch [1080/3000]: Train loss: 1.9869, Valid loss: 2.0226\n"
          ]
        },
        {
          "name": "stderr",
          "output_type": "stream",
          "text": [
            "Epoch [1081/3000]: 100%|██████████| 9/9 [00:00<00:00, 494.86it/s, loss=1.82]\n"
          ]
        },
        {
          "name": "stdout",
          "output_type": "stream",
          "text": [
            "Epoch [1081/3000]: Train loss: 2.4396, Valid loss: 2.4710\n"
          ]
        },
        {
          "name": "stderr",
          "output_type": "stream",
          "text": [
            "Epoch [1082/3000]: 100%|██████████| 9/9 [00:00<00:00, 507.67it/s, loss=2.22]\n"
          ]
        },
        {
          "name": "stdout",
          "output_type": "stream",
          "text": [
            "Epoch [1082/3000]: Train loss: 2.0443, Valid loss: 2.0219\n"
          ]
        },
        {
          "name": "stderr",
          "output_type": "stream",
          "text": [
            "Epoch [1083/3000]: 100%|██████████| 9/9 [00:00<00:00, 505.53it/s, loss=1.71]\n"
          ]
        },
        {
          "name": "stdout",
          "output_type": "stream",
          "text": [
            "Epoch [1083/3000]: Train loss: 2.0077, Valid loss: 2.6787\n"
          ]
        },
        {
          "name": "stderr",
          "output_type": "stream",
          "text": [
            "Epoch [1084/3000]: 100%|██████████| 9/9 [00:00<00:00, 450.49it/s, loss=3.09]\n"
          ]
        },
        {
          "name": "stdout",
          "output_type": "stream",
          "text": [
            "Epoch [1084/3000]: Train loss: 2.4525, Valid loss: 2.1830\n"
          ]
        },
        {
          "name": "stderr",
          "output_type": "stream",
          "text": [
            "Epoch [1085/3000]: 100%|██████████| 9/9 [00:00<00:00, 463.65it/s, loss=2.61]\n"
          ]
        },
        {
          "name": "stdout",
          "output_type": "stream",
          "text": [
            "Epoch [1085/3000]: Train loss: 2.1021, Valid loss: 2.3237\n"
          ]
        },
        {
          "name": "stderr",
          "output_type": "stream",
          "text": [
            "Epoch [1086/3000]: 100%|██████████| 9/9 [00:00<00:00, 137.18it/s, loss=2.09]\n"
          ]
        },
        {
          "name": "stdout",
          "output_type": "stream",
          "text": [
            "Epoch [1086/3000]: Train loss: 2.3206, Valid loss: 2.6116\n"
          ]
        },
        {
          "name": "stderr",
          "output_type": "stream",
          "text": [
            "Epoch [1087/3000]: 100%|██████████| 9/9 [00:00<00:00, 444.58it/s, loss=1.99]\n"
          ]
        },
        {
          "name": "stdout",
          "output_type": "stream",
          "text": [
            "Epoch [1087/3000]: Train loss: 2.2199, Valid loss: 2.3729\n"
          ]
        },
        {
          "name": "stderr",
          "output_type": "stream",
          "text": [
            "Epoch [1088/3000]: 100%|██████████| 9/9 [00:00<00:00, 459.89it/s, loss=2.53]\n"
          ]
        },
        {
          "name": "stdout",
          "output_type": "stream",
          "text": [
            "Epoch [1088/3000]: Train loss: 2.3054, Valid loss: 2.8924\n"
          ]
        },
        {
          "name": "stderr",
          "output_type": "stream",
          "text": [
            "Epoch [1089/3000]: 100%|██████████| 9/9 [00:00<00:00, 579.82it/s, loss=2.37]\n"
          ]
        },
        {
          "name": "stdout",
          "output_type": "stream",
          "text": [
            "Epoch [1089/3000]: Train loss: 2.1800, Valid loss: 2.1116\n"
          ]
        },
        {
          "name": "stderr",
          "output_type": "stream",
          "text": [
            "Epoch [1090/3000]: 100%|██████████| 9/9 [00:00<00:00, 502.06it/s, loss=2.14]\n"
          ]
        },
        {
          "name": "stdout",
          "output_type": "stream",
          "text": [
            "Epoch [1090/3000]: Train loss: 1.8675, Valid loss: 2.1664\n"
          ]
        },
        {
          "name": "stderr",
          "output_type": "stream",
          "text": [
            "Epoch [1091/3000]: 100%|██████████| 9/9 [00:00<00:00, 439.03it/s, loss=1.57]\n"
          ]
        },
        {
          "name": "stdout",
          "output_type": "stream",
          "text": [
            "Epoch [1091/3000]: Train loss: 2.2228, Valid loss: 3.1120\n"
          ]
        },
        {
          "name": "stderr",
          "output_type": "stream",
          "text": [
            "Epoch [1092/3000]: 100%|██████████| 9/9 [00:00<00:00, 449.84it/s, loss=1.88]\n"
          ]
        },
        {
          "name": "stdout",
          "output_type": "stream",
          "text": [
            "Epoch [1092/3000]: Train loss: 2.1314, Valid loss: 2.3032\n"
          ]
        },
        {
          "name": "stderr",
          "output_type": "stream",
          "text": [
            "Epoch [1093/3000]: 100%|██████████| 9/9 [00:00<00:00, 560.64it/s, loss=1.52]\n"
          ]
        },
        {
          "name": "stdout",
          "output_type": "stream",
          "text": [
            "Epoch [1093/3000]: Train loss: 1.8613, Valid loss: 2.0449\n"
          ]
        },
        {
          "name": "stderr",
          "output_type": "stream",
          "text": [
            "Epoch [1094/3000]: 100%|██████████| 9/9 [00:00<00:00, 500.42it/s, loss=2.05]\n"
          ]
        },
        {
          "name": "stdout",
          "output_type": "stream",
          "text": [
            "Epoch [1094/3000]: Train loss: 1.9120, Valid loss: 2.2393\n"
          ]
        },
        {
          "name": "stderr",
          "output_type": "stream",
          "text": [
            "Epoch [1095/3000]: 100%|██████████| 9/9 [00:00<00:00, 152.29it/s, loss=1.46]\n"
          ]
        },
        {
          "name": "stdout",
          "output_type": "stream",
          "text": [
            "Epoch [1095/3000]: Train loss: 1.8750, Valid loss: 2.0163\n"
          ]
        },
        {
          "name": "stderr",
          "output_type": "stream",
          "text": [
            "Epoch [1096/3000]: 100%|██████████| 9/9 [00:00<00:00, 523.81it/s, loss=1.94]\n"
          ]
        },
        {
          "name": "stdout",
          "output_type": "stream",
          "text": [
            "Epoch [1096/3000]: Train loss: 1.9678, Valid loss: 2.7892\n"
          ]
        },
        {
          "name": "stderr",
          "output_type": "stream",
          "text": [
            "Epoch [1097/3000]: 100%|██████████| 9/9 [00:00<00:00, 543.05it/s, loss=2.28]\n"
          ]
        },
        {
          "name": "stdout",
          "output_type": "stream",
          "text": [
            "Epoch [1097/3000]: Train loss: 2.0024, Valid loss: 1.9609\n"
          ]
        },
        {
          "name": "stderr",
          "output_type": "stream",
          "text": [
            "Epoch [1098/3000]: 100%|██████████| 9/9 [00:00<00:00, 545.06it/s, loss=2.06]\n"
          ]
        },
        {
          "name": "stdout",
          "output_type": "stream",
          "text": [
            "Epoch [1098/3000]: Train loss: 2.1272, Valid loss: 2.3190\n"
          ]
        },
        {
          "name": "stderr",
          "output_type": "stream",
          "text": [
            "Epoch [1099/3000]: 100%|██████████| 9/9 [00:00<00:00, 556.13it/s, loss=2.9]\n"
          ]
        },
        {
          "name": "stdout",
          "output_type": "stream",
          "text": [
            "Epoch [1099/3000]: Train loss: 1.9961, Valid loss: 3.2452\n"
          ]
        },
        {
          "name": "stderr",
          "output_type": "stream",
          "text": [
            "Epoch [1100/3000]: 100%|██████████| 9/9 [00:00<00:00, 358.25it/s, loss=1.86]\n"
          ]
        },
        {
          "name": "stdout",
          "output_type": "stream",
          "text": [
            "Epoch [1100/3000]: Train loss: 1.9509, Valid loss: 2.5119\n"
          ]
        },
        {
          "name": "stderr",
          "output_type": "stream",
          "text": [
            "Epoch [1101/3000]: 100%|██████████| 9/9 [00:00<00:00, 129.39it/s, loss=2.07]\n"
          ]
        },
        {
          "name": "stdout",
          "output_type": "stream",
          "text": [
            "Epoch [1101/3000]: Train loss: 1.9924, Valid loss: 2.2975\n"
          ]
        },
        {
          "name": "stderr",
          "output_type": "stream",
          "text": [
            "Epoch [1102/3000]: 100%|██████████| 9/9 [00:00<00:00, 550.35it/s, loss=2.41]\n"
          ]
        },
        {
          "name": "stdout",
          "output_type": "stream",
          "text": [
            "Epoch [1102/3000]: Train loss: 2.7461, Valid loss: 2.7017\n"
          ]
        },
        {
          "name": "stderr",
          "output_type": "stream",
          "text": [
            "Epoch [1103/3000]: 100%|██████████| 9/9 [00:00<00:00, 650.95it/s, loss=1.69]\n"
          ]
        },
        {
          "name": "stdout",
          "output_type": "stream",
          "text": [
            "Epoch [1103/3000]: Train loss: 2.1992, Valid loss: 2.8383\n"
          ]
        },
        {
          "name": "stderr",
          "output_type": "stream",
          "text": [
            "Epoch [1104/3000]: 100%|██████████| 9/9 [00:00<00:00, 158.93it/s, loss=1.99]\n"
          ]
        },
        {
          "name": "stdout",
          "output_type": "stream",
          "text": [
            "Epoch [1104/3000]: Train loss: 2.1817, Valid loss: 2.3332\n"
          ]
        },
        {
          "name": "stderr",
          "output_type": "stream",
          "text": [
            "Epoch [1105/3000]: 100%|██████████| 9/9 [00:00<00:00, 580.35it/s, loss=2.66]\n"
          ]
        },
        {
          "name": "stdout",
          "output_type": "stream",
          "text": [
            "Epoch [1105/3000]: Train loss: 2.2621, Valid loss: 4.2031\n"
          ]
        },
        {
          "name": "stderr",
          "output_type": "stream",
          "text": [
            "Epoch [1106/3000]: 100%|██████████| 9/9 [00:00<00:00, 603.55it/s, loss=2.06]\n"
          ]
        },
        {
          "name": "stdout",
          "output_type": "stream",
          "text": [
            "Epoch [1106/3000]: Train loss: 2.8456, Valid loss: 2.6169\n"
          ]
        },
        {
          "name": "stderr",
          "output_type": "stream",
          "text": [
            "Epoch [1107/3000]: 100%|██████████| 9/9 [00:00<00:00, 463.27it/s, loss=2.32]\n"
          ]
        },
        {
          "name": "stdout",
          "output_type": "stream",
          "text": [
            "Epoch [1107/3000]: Train loss: 2.4482, Valid loss: 2.3943\n"
          ]
        },
        {
          "name": "stderr",
          "output_type": "stream",
          "text": [
            "Epoch [1108/3000]: 100%|██████████| 9/9 [00:00<00:00, 530.31it/s, loss=1.68]\n"
          ]
        },
        {
          "name": "stdout",
          "output_type": "stream",
          "text": [
            "Epoch [1108/3000]: Train loss: 2.5680, Valid loss: 2.6990\n"
          ]
        },
        {
          "name": "stderr",
          "output_type": "stream",
          "text": [
            "Epoch [1109/3000]: 100%|██████████| 9/9 [00:00<00:00, 436.32it/s, loss=2.66]\n"
          ]
        },
        {
          "name": "stdout",
          "output_type": "stream",
          "text": [
            "Epoch [1109/3000]: Train loss: 2.5266, Valid loss: 2.2354\n"
          ]
        },
        {
          "name": "stderr",
          "output_type": "stream",
          "text": [
            "Epoch [1110/3000]: 100%|██████████| 9/9 [00:00<00:00, 545.96it/s, loss=1.84]\n"
          ]
        },
        {
          "name": "stdout",
          "output_type": "stream",
          "text": [
            "Epoch [1110/3000]: Train loss: 2.0183, Valid loss: 2.6760\n"
          ]
        },
        {
          "name": "stderr",
          "output_type": "stream",
          "text": [
            "Epoch [1111/3000]: 100%|██████████| 9/9 [00:00<00:00, 504.26it/s, loss=1.43]\n"
          ]
        },
        {
          "name": "stdout",
          "output_type": "stream",
          "text": [
            "Epoch [1111/3000]: Train loss: 1.9621, Valid loss: 2.4059\n"
          ]
        },
        {
          "name": "stderr",
          "output_type": "stream",
          "text": [
            "Epoch [1112/3000]: 100%|██████████| 9/9 [00:00<00:00, 531.82it/s, loss=1.3]\n"
          ]
        },
        {
          "name": "stdout",
          "output_type": "stream",
          "text": [
            "Epoch [1112/3000]: Train loss: 1.8280, Valid loss: 2.0304\n"
          ]
        },
        {
          "name": "stderr",
          "output_type": "stream",
          "text": [
            "Epoch [1113/3000]: 100%|██████████| 9/9 [00:00<00:00, 468.61it/s, loss=2.19]\n"
          ]
        },
        {
          "name": "stdout",
          "output_type": "stream",
          "text": [
            "Epoch [1113/3000]: Train loss: 2.2067, Valid loss: 2.2064\n"
          ]
        },
        {
          "name": "stderr",
          "output_type": "stream",
          "text": [
            "Epoch [1114/3000]: 100%|██████████| 9/9 [00:00<00:00, 402.02it/s, loss=1.53]\n"
          ]
        },
        {
          "name": "stdout",
          "output_type": "stream",
          "text": [
            "Epoch [1114/3000]: Train loss: 1.8249, Valid loss: 2.1545\n"
          ]
        },
        {
          "name": "stderr",
          "output_type": "stream",
          "text": [
            "Epoch [1115/3000]: 100%|██████████| 9/9 [00:00<00:00, 594.61it/s, loss=2.28]\n"
          ]
        },
        {
          "name": "stdout",
          "output_type": "stream",
          "text": [
            "Epoch [1115/3000]: Train loss: 1.9125, Valid loss: 2.4474\n"
          ]
        },
        {
          "name": "stderr",
          "output_type": "stream",
          "text": [
            "Epoch [1116/3000]: 100%|██████████| 9/9 [00:00<00:00, 442.04it/s, loss=2.81]\n"
          ]
        },
        {
          "name": "stdout",
          "output_type": "stream",
          "text": [
            "Epoch [1116/3000]: Train loss: 2.3461, Valid loss: 2.0006\n"
          ]
        },
        {
          "name": "stderr",
          "output_type": "stream",
          "text": [
            "Epoch [1117/3000]: 100%|██████████| 9/9 [00:00<00:00, 496.41it/s, loss=2.15]\n"
          ]
        },
        {
          "name": "stdout",
          "output_type": "stream",
          "text": [
            "Epoch [1117/3000]: Train loss: 2.1927, Valid loss: 3.4271\n"
          ]
        },
        {
          "name": "stderr",
          "output_type": "stream",
          "text": [
            "Epoch [1118/3000]: 100%|██████████| 9/9 [00:00<00:00, 144.52it/s, loss=2.43]\n"
          ]
        },
        {
          "name": "stdout",
          "output_type": "stream",
          "text": [
            "Epoch [1118/3000]: Train loss: 2.5074, Valid loss: 1.9167\n"
          ]
        },
        {
          "name": "stderr",
          "output_type": "stream",
          "text": [
            "Epoch [1119/3000]: 100%|██████████| 9/9 [00:00<00:00, 523.71it/s, loss=2.68]\n"
          ]
        },
        {
          "name": "stdout",
          "output_type": "stream",
          "text": [
            "Epoch [1119/3000]: Train loss: 1.9330, Valid loss: 2.3623\n"
          ]
        },
        {
          "name": "stderr",
          "output_type": "stream",
          "text": [
            "Epoch [1120/3000]: 100%|██████████| 9/9 [00:00<00:00, 336.87it/s, loss=1.47]\n"
          ]
        },
        {
          "name": "stdout",
          "output_type": "stream",
          "text": [
            "Epoch [1120/3000]: Train loss: 1.8363, Valid loss: 1.9455\n"
          ]
        },
        {
          "name": "stderr",
          "output_type": "stream",
          "text": [
            "Epoch [1121/3000]: 100%|██████████| 9/9 [00:00<00:00, 409.71it/s, loss=2.26]\n"
          ]
        },
        {
          "name": "stdout",
          "output_type": "stream",
          "text": [
            "Epoch [1121/3000]: Train loss: 2.6463, Valid loss: 3.9544\n"
          ]
        },
        {
          "name": "stderr",
          "output_type": "stream",
          "text": [
            "Epoch [1122/3000]: 100%|██████████| 9/9 [00:00<00:00, 359.23it/s, loss=2.09]\n"
          ]
        },
        {
          "name": "stdout",
          "output_type": "stream",
          "text": [
            "Epoch [1122/3000]: Train loss: 2.9199, Valid loss: 2.2909\n"
          ]
        },
        {
          "name": "stderr",
          "output_type": "stream",
          "text": [
            "Epoch [1123/3000]: 100%|██████████| 9/9 [00:00<00:00, 358.66it/s, loss=3.29]\n"
          ]
        },
        {
          "name": "stdout",
          "output_type": "stream",
          "text": [
            "Epoch [1123/3000]: Train loss: 2.3323, Valid loss: 1.9998\n"
          ]
        },
        {
          "name": "stderr",
          "output_type": "stream",
          "text": [
            "Epoch [1124/3000]: 100%|██████████| 9/9 [00:00<00:00, 406.65it/s, loss=1.56]\n"
          ]
        },
        {
          "name": "stdout",
          "output_type": "stream",
          "text": [
            "Epoch [1124/3000]: Train loss: 2.1081, Valid loss: 2.1437\n"
          ]
        },
        {
          "name": "stderr",
          "output_type": "stream",
          "text": [
            "Epoch [1125/3000]: 100%|██████████| 9/9 [00:00<00:00, 473.36it/s, loss=2.6]\n"
          ]
        },
        {
          "name": "stdout",
          "output_type": "stream",
          "text": [
            "Epoch [1125/3000]: Train loss: 2.0981, Valid loss: 3.1297\n"
          ]
        },
        {
          "name": "stderr",
          "output_type": "stream",
          "text": [
            "Epoch [1126/3000]: 100%|██████████| 9/9 [00:00<00:00, 139.47it/s, loss=2.55]\n"
          ]
        },
        {
          "name": "stdout",
          "output_type": "stream",
          "text": [
            "Epoch [1126/3000]: Train loss: 2.5859, Valid loss: 2.2359\n"
          ]
        },
        {
          "name": "stderr",
          "output_type": "stream",
          "text": [
            "Epoch [1127/3000]: 100%|██████████| 9/9 [00:00<00:00, 417.99it/s, loss=4.6]\n"
          ]
        },
        {
          "name": "stdout",
          "output_type": "stream",
          "text": [
            "Epoch [1127/3000]: Train loss: 2.5889, Valid loss: 2.3872\n"
          ]
        },
        {
          "name": "stderr",
          "output_type": "stream",
          "text": [
            "Epoch [1128/3000]: 100%|██████████| 9/9 [00:00<00:00, 500.45it/s, loss=2.9]\n"
          ]
        },
        {
          "name": "stdout",
          "output_type": "stream",
          "text": [
            "Epoch [1128/3000]: Train loss: 2.9344, Valid loss: 3.7525\n"
          ]
        },
        {
          "name": "stderr",
          "output_type": "stream",
          "text": [
            "Epoch [1129/3000]: 100%|██████████| 9/9 [00:00<00:00, 419.33it/s, loss=1.74]\n"
          ]
        },
        {
          "name": "stdout",
          "output_type": "stream",
          "text": [
            "Epoch [1129/3000]: Train loss: 2.4470, Valid loss: 2.9391\n"
          ]
        },
        {
          "name": "stderr",
          "output_type": "stream",
          "text": [
            "Epoch [1130/3000]: 100%|██████████| 9/9 [00:00<00:00, 366.42it/s, loss=3.46]\n"
          ]
        },
        {
          "name": "stdout",
          "output_type": "stream",
          "text": [
            "Epoch [1130/3000]: Train loss: 2.4009, Valid loss: 3.5775\n"
          ]
        },
        {
          "name": "stderr",
          "output_type": "stream",
          "text": [
            "Epoch [1131/3000]: 100%|██████████| 9/9 [00:00<00:00, 540.16it/s, loss=1.62]\n"
          ]
        },
        {
          "name": "stdout",
          "output_type": "stream",
          "text": [
            "Epoch [1131/3000]: Train loss: 2.3450, Valid loss: 3.3333\n"
          ]
        },
        {
          "name": "stderr",
          "output_type": "stream",
          "text": [
            "Epoch [1132/3000]: 100%|██████████| 9/9 [00:00<00:00, 394.35it/s, loss=3.43]\n"
          ]
        },
        {
          "name": "stdout",
          "output_type": "stream",
          "text": [
            "Epoch [1132/3000]: Train loss: 2.5949, Valid loss: 2.4218\n"
          ]
        },
        {
          "name": "stderr",
          "output_type": "stream",
          "text": [
            "Epoch [1133/3000]: 100%|██████████| 9/9 [00:00<00:00, 483.18it/s, loss=2.36]\n"
          ]
        },
        {
          "name": "stdout",
          "output_type": "stream",
          "text": [
            "Epoch [1133/3000]: Train loss: 2.2364, Valid loss: 2.7877\n"
          ]
        },
        {
          "name": "stderr",
          "output_type": "stream",
          "text": [
            "Epoch [1134/3000]: 100%|██████████| 9/9 [00:00<00:00, 136.33it/s, loss=1.73]\n"
          ]
        },
        {
          "name": "stdout",
          "output_type": "stream",
          "text": [
            "Epoch [1134/3000]: Train loss: 1.9639, Valid loss: 2.4735\n"
          ]
        },
        {
          "name": "stderr",
          "output_type": "stream",
          "text": [
            "Epoch [1135/3000]: 100%|██████████| 9/9 [00:00<00:00, 458.81it/s, loss=1.54]\n"
          ]
        },
        {
          "name": "stdout",
          "output_type": "stream",
          "text": [
            "Epoch [1135/3000]: Train loss: 1.9968, Valid loss: 2.2077\n"
          ]
        },
        {
          "name": "stderr",
          "output_type": "stream",
          "text": [
            "Epoch [1136/3000]: 100%|██████████| 9/9 [00:00<00:00, 548.55it/s, loss=1.87]\n"
          ]
        },
        {
          "name": "stdout",
          "output_type": "stream",
          "text": [
            "Epoch [1136/3000]: Train loss: 1.9859, Valid loss: 2.6522\n"
          ]
        },
        {
          "name": "stderr",
          "output_type": "stream",
          "text": [
            "Epoch [1137/3000]: 100%|██████████| 9/9 [00:00<00:00, 570.64it/s, loss=2]\n"
          ]
        },
        {
          "name": "stdout",
          "output_type": "stream",
          "text": [
            "Epoch [1137/3000]: Train loss: 2.6142, Valid loss: 4.0424\n"
          ]
        },
        {
          "name": "stderr",
          "output_type": "stream",
          "text": [
            "Epoch [1138/3000]: 100%|██████████| 9/9 [00:00<00:00, 561.86it/s, loss=2.14]\n"
          ]
        },
        {
          "name": "stdout",
          "output_type": "stream",
          "text": [
            "Epoch [1138/3000]: Train loss: 3.2611, Valid loss: 3.3301\n"
          ]
        },
        {
          "name": "stderr",
          "output_type": "stream",
          "text": [
            "Epoch [1139/3000]: 100%|██████████| 9/9 [00:00<00:00, 540.02it/s, loss=3.07]\n"
          ]
        },
        {
          "name": "stdout",
          "output_type": "stream",
          "text": [
            "Epoch [1139/3000]: Train loss: 2.4924, Valid loss: 2.0605\n"
          ]
        },
        {
          "name": "stderr",
          "output_type": "stream",
          "text": [
            "Epoch [1140/3000]: 100%|██████████| 9/9 [00:00<00:00, 451.54it/s, loss=2.36]\n"
          ]
        },
        {
          "name": "stdout",
          "output_type": "stream",
          "text": [
            "Epoch [1140/3000]: Train loss: 2.3526, Valid loss: 2.4981\n"
          ]
        },
        {
          "name": "stderr",
          "output_type": "stream",
          "text": [
            "Epoch [1141/3000]: 100%|██████████| 9/9 [00:00<00:00, 463.54it/s, loss=2.27]\n"
          ]
        },
        {
          "name": "stdout",
          "output_type": "stream",
          "text": [
            "Epoch [1141/3000]: Train loss: 2.1837, Valid loss: 2.0478\n"
          ]
        },
        {
          "name": "stderr",
          "output_type": "stream",
          "text": [
            "Epoch [1142/3000]: 100%|██████████| 9/9 [00:00<00:00, 156.59it/s, loss=1.77]\n"
          ]
        },
        {
          "name": "stdout",
          "output_type": "stream",
          "text": [
            "Epoch [1142/3000]: Train loss: 1.9115, Valid loss: 2.0773\n"
          ]
        },
        {
          "name": "stderr",
          "output_type": "stream",
          "text": [
            "Epoch [1143/3000]: 100%|██████████| 9/9 [00:00<00:00, 390.56it/s, loss=2.38]\n"
          ]
        },
        {
          "name": "stdout",
          "output_type": "stream",
          "text": [
            "Epoch [1143/3000]: Train loss: 2.2724, Valid loss: 2.3915\n"
          ]
        },
        {
          "name": "stderr",
          "output_type": "stream",
          "text": [
            "Epoch [1144/3000]: 100%|██████████| 9/9 [00:00<00:00, 467.19it/s, loss=4.01]\n"
          ]
        },
        {
          "name": "stdout",
          "output_type": "stream",
          "text": [
            "Epoch [1144/3000]: Train loss: 2.9429, Valid loss: 3.5313\n"
          ]
        },
        {
          "name": "stderr",
          "output_type": "stream",
          "text": [
            "Epoch [1145/3000]: 100%|██████████| 9/9 [00:00<00:00, 486.90it/s, loss=1.78]\n"
          ]
        },
        {
          "name": "stdout",
          "output_type": "stream",
          "text": [
            "Epoch [1145/3000]: Train loss: 2.8162, Valid loss: 2.5202\n"
          ]
        },
        {
          "name": "stderr",
          "output_type": "stream",
          "text": [
            "Epoch [1146/3000]: 100%|██████████| 9/9 [00:00<00:00, 397.30it/s, loss=2.78]\n"
          ]
        },
        {
          "name": "stdout",
          "output_type": "stream",
          "text": [
            "Epoch [1146/3000]: Train loss: 2.4753, Valid loss: 2.5621\n"
          ]
        },
        {
          "name": "stderr",
          "output_type": "stream",
          "text": [
            "Epoch [1147/3000]: 100%|██████████| 9/9 [00:00<00:00, 432.25it/s, loss=1.87]\n"
          ]
        },
        {
          "name": "stdout",
          "output_type": "stream",
          "text": [
            "Epoch [1147/3000]: Train loss: 1.9079, Valid loss: 2.0991\n"
          ]
        },
        {
          "name": "stderr",
          "output_type": "stream",
          "text": [
            "Epoch [1148/3000]: 100%|██████████| 9/9 [00:00<00:00, 250.24it/s, loss=1.77]\n"
          ]
        },
        {
          "name": "stdout",
          "output_type": "stream",
          "text": [
            "Epoch [1148/3000]: Train loss: 1.9279, Valid loss: 1.9268\n"
          ]
        },
        {
          "name": "stderr",
          "output_type": "stream",
          "text": [
            "Epoch [1149/3000]: 100%|██████████| 9/9 [00:00<00:00, 361.71it/s, loss=3.93]\n"
          ]
        },
        {
          "name": "stdout",
          "output_type": "stream",
          "text": [
            "Epoch [1149/3000]: Train loss: 2.6770, Valid loss: 3.0922\n"
          ]
        },
        {
          "name": "stderr",
          "output_type": "stream",
          "text": [
            "Epoch [1150/3000]: 100%|██████████| 9/9 [00:00<00:00, 96.38it/s, loss=2.7]\n"
          ]
        },
        {
          "name": "stdout",
          "output_type": "stream",
          "text": [
            "Epoch [1150/3000]: Train loss: 2.7878, Valid loss: 2.3568\n"
          ]
        },
        {
          "name": "stderr",
          "output_type": "stream",
          "text": [
            "Epoch [1151/3000]: 100%|██████████| 9/9 [00:00<00:00, 354.72it/s, loss=2.16]"
          ]
        },
        {
          "name": "stdout",
          "output_type": "stream",
          "text": [
            "Epoch [1151/3000]: Train loss: 1.9663, Valid loss: 2.2107"
          ]
        },
        {
          "name": "stderr",
          "output_type": "stream",
          "text": [
            "\n"
          ]
        },
        {
          "name": "stdout",
          "output_type": "stream",
          "text": [
            "\n"
          ]
        },
        {
          "name": "stderr",
          "output_type": "stream",
          "text": [
            "Epoch [1152/3000]: 100%|██████████| 9/9 [00:00<00:00, 369.53it/s, loss=1.9]\n"
          ]
        },
        {
          "name": "stdout",
          "output_type": "stream",
          "text": [
            "Epoch [1152/3000]: Train loss: 2.0434, Valid loss: 2.5268\n"
          ]
        },
        {
          "name": "stderr",
          "output_type": "stream",
          "text": [
            "Epoch [1153/3000]: 100%|██████████| 9/9 [00:00<00:00, 400.62it/s, loss=2.22]\n"
          ]
        },
        {
          "name": "stdout",
          "output_type": "stream",
          "text": [
            "Epoch [1153/3000]: Train loss: 1.9698, Valid loss: 2.2828\n"
          ]
        },
        {
          "name": "stderr",
          "output_type": "stream",
          "text": [
            "Epoch [1154/3000]: 100%|██████████| 9/9 [00:00<00:00, 370.20it/s, loss=1.61]\n"
          ]
        },
        {
          "name": "stdout",
          "output_type": "stream",
          "text": [
            "Epoch [1154/3000]: Train loss: 1.8237, Valid loss: 2.0125\n"
          ]
        },
        {
          "name": "stderr",
          "output_type": "stream",
          "text": [
            "Epoch [1155/3000]: 100%|██████████| 9/9 [00:00<00:00, 409.54it/s, loss=2.47]\n"
          ]
        },
        {
          "name": "stdout",
          "output_type": "stream",
          "text": [
            "Epoch [1155/3000]: Train loss: 1.9298, Valid loss: 2.2807\n"
          ]
        },
        {
          "name": "stderr",
          "output_type": "stream",
          "text": [
            "Epoch [1156/3000]: 100%|██████████| 9/9 [00:00<00:00, 391.48it/s, loss=2.04]\n"
          ]
        },
        {
          "name": "stdout",
          "output_type": "stream",
          "text": [
            "Epoch [1156/3000]: Train loss: 2.0989, Valid loss: 2.1834\n"
          ]
        },
        {
          "name": "stderr",
          "output_type": "stream",
          "text": [
            "Epoch [1157/3000]: 100%|██████████| 9/9 [00:00<00:00, 503.86it/s, loss=2.4]\n"
          ]
        },
        {
          "name": "stdout",
          "output_type": "stream",
          "text": [
            "Epoch [1157/3000]: Train loss: 1.8741, Valid loss: 2.0725\n"
          ]
        },
        {
          "name": "stderr",
          "output_type": "stream",
          "text": [
            "Epoch [1158/3000]: 100%|██████████| 9/9 [00:00<00:00, 495.19it/s, loss=1.82]\n"
          ]
        },
        {
          "name": "stdout",
          "output_type": "stream",
          "text": [
            "Epoch [1158/3000]: Train loss: 1.8733, Valid loss: 2.1822\n"
          ]
        },
        {
          "name": "stderr",
          "output_type": "stream",
          "text": [
            "Epoch [1159/3000]: 100%|██████████| 9/9 [00:00<00:00, 432.40it/s, loss=2.14]\n"
          ]
        },
        {
          "name": "stdout",
          "output_type": "stream",
          "text": [
            "Epoch [1159/3000]: Train loss: 1.9633, Valid loss: 2.1601\n"
          ]
        },
        {
          "name": "stderr",
          "output_type": "stream",
          "text": [
            "Epoch [1160/3000]: 100%|██████████| 9/9 [00:00<00:00, 436.33it/s, loss=2.13]\n"
          ]
        },
        {
          "name": "stdout",
          "output_type": "stream",
          "text": [
            "Epoch [1160/3000]: Train loss: 1.9138, Valid loss: 2.6513\n"
          ]
        },
        {
          "name": "stderr",
          "output_type": "stream",
          "text": [
            "Epoch [1161/3000]: 100%|██████████| 9/9 [00:00<00:00, 492.05it/s, loss=2.72]\n"
          ]
        },
        {
          "name": "stdout",
          "output_type": "stream",
          "text": [
            "Epoch [1161/3000]: Train loss: 2.2103, Valid loss: 2.2476\n"
          ]
        },
        {
          "name": "stderr",
          "output_type": "stream",
          "text": [
            "Epoch [1162/3000]: 100%|██████████| 9/9 [00:00<00:00, 343.70it/s, loss=2.24]\n"
          ]
        },
        {
          "name": "stdout",
          "output_type": "stream",
          "text": [
            "Epoch [1162/3000]: Train loss: 1.9348, Valid loss: 2.0220\n"
          ]
        },
        {
          "name": "stderr",
          "output_type": "stream",
          "text": [
            "Epoch [1163/3000]: 100%|██████████| 9/9 [00:00<00:00, 572.99it/s, loss=2.41]\n"
          ]
        },
        {
          "name": "stdout",
          "output_type": "stream",
          "text": [
            "Epoch [1163/3000]: Train loss: 1.9701, Valid loss: 2.0894\n"
          ]
        },
        {
          "name": "stderr",
          "output_type": "stream",
          "text": [
            "Epoch [1164/3000]: 100%|██████████| 9/9 [00:00<00:00, 494.45it/s, loss=2.28]\n"
          ]
        },
        {
          "name": "stdout",
          "output_type": "stream",
          "text": [
            "Epoch [1164/3000]: Train loss: 2.0067, Valid loss: 2.2055\n"
          ]
        },
        {
          "name": "stderr",
          "output_type": "stream",
          "text": [
            "Epoch [1165/3000]: 100%|██████████| 9/9 [00:00<00:00, 83.77it/s, loss=1.94]\n"
          ]
        },
        {
          "name": "stdout",
          "output_type": "stream",
          "text": [
            "Epoch [1165/3000]: Train loss: 1.9110, Valid loss: 2.2041\n"
          ]
        },
        {
          "name": "stderr",
          "output_type": "stream",
          "text": [
            "Epoch [1166/3000]: 100%|██████████| 9/9 [00:00<00:00, 150.65it/s, loss=1.85]\n"
          ]
        },
        {
          "name": "stdout",
          "output_type": "stream",
          "text": [
            "Epoch [1166/3000]: Train loss: 2.0523, Valid loss: 2.0470\n"
          ]
        },
        {
          "name": "stderr",
          "output_type": "stream",
          "text": [
            "Epoch [1167/3000]: 100%|██████████| 9/9 [00:00<00:00, 246.41it/s, loss=1.34]\n"
          ]
        },
        {
          "name": "stdout",
          "output_type": "stream",
          "text": [
            "Epoch [1167/3000]: Train loss: 1.8150, Valid loss: 2.3261\n"
          ]
        },
        {
          "name": "stderr",
          "output_type": "stream",
          "text": [
            "Epoch [1168/3000]: 100%|██████████| 9/9 [00:00<00:00, 258.08it/s, loss=1.75]\n"
          ]
        },
        {
          "name": "stdout",
          "output_type": "stream",
          "text": [
            "Epoch [1168/3000]: Train loss: 1.8561, Valid loss: 1.9021\n"
          ]
        },
        {
          "name": "stderr",
          "output_type": "stream",
          "text": [
            "Epoch [1169/3000]: 100%|██████████| 9/9 [00:00<00:00, 295.72it/s, loss=3.14]\n"
          ]
        },
        {
          "name": "stdout",
          "output_type": "stream",
          "text": [
            "Epoch [1169/3000]: Train loss: 2.2470, Valid loss: 2.4946\n"
          ]
        },
        {
          "name": "stderr",
          "output_type": "stream",
          "text": [
            "Epoch [1170/3000]: 100%|██████████| 9/9 [00:00<00:00, 278.91it/s, loss=3.82]\n"
          ]
        },
        {
          "name": "stdout",
          "output_type": "stream",
          "text": [
            "Epoch [1170/3000]: Train loss: 2.3777, Valid loss: 5.0347\n"
          ]
        },
        {
          "name": "stderr",
          "output_type": "stream",
          "text": [
            "Epoch [1171/3000]: 100%|██████████| 9/9 [00:00<00:00, 291.78it/s, loss=1.7]\n"
          ]
        },
        {
          "name": "stdout",
          "output_type": "stream",
          "text": [
            "Epoch [1171/3000]: Train loss: 2.5799, Valid loss: 4.2574\n"
          ]
        },
        {
          "name": "stderr",
          "output_type": "stream",
          "text": [
            "Epoch [1172/3000]: 100%|██████████| 9/9 [00:00<00:00, 272.53it/s, loss=2.45]\n"
          ]
        },
        {
          "name": "stdout",
          "output_type": "stream",
          "text": [
            "Epoch [1172/3000]: Train loss: 2.7062, Valid loss: 2.4110\n"
          ]
        },
        {
          "name": "stderr",
          "output_type": "stream",
          "text": [
            "Epoch [1173/3000]: 100%|██████████| 9/9 [00:00<00:00, 327.22it/s, loss=2.03]\n"
          ]
        },
        {
          "name": "stdout",
          "output_type": "stream",
          "text": [
            "Epoch [1173/3000]: Train loss: 2.2788, Valid loss: 2.3036\n"
          ]
        },
        {
          "name": "stderr",
          "output_type": "stream",
          "text": [
            "Epoch [1174/3000]: 100%|██████████| 9/9 [00:00<00:00, 323.94it/s, loss=1.77]\n"
          ]
        },
        {
          "name": "stdout",
          "output_type": "stream",
          "text": [
            "Epoch [1174/3000]: Train loss: 1.9969, Valid loss: 2.1420\n"
          ]
        },
        {
          "name": "stderr",
          "output_type": "stream",
          "text": [
            "Epoch [1175/3000]: 100%|██████████| 9/9 [00:00<00:00, 398.71it/s, loss=2.12]\n"
          ]
        },
        {
          "name": "stdout",
          "output_type": "stream",
          "text": [
            "Epoch [1175/3000]: Train loss: 1.8995, Valid loss: 2.1508\n"
          ]
        },
        {
          "name": "stderr",
          "output_type": "stream",
          "text": [
            "Epoch [1176/3000]: 100%|██████████| 9/9 [00:00<00:00, 318.71it/s, loss=2.37]\n"
          ]
        },
        {
          "name": "stdout",
          "output_type": "stream",
          "text": [
            "Epoch [1176/3000]: Train loss: 2.0625, Valid loss: 3.0794\n"
          ]
        },
        {
          "name": "stderr",
          "output_type": "stream",
          "text": [
            "Epoch [1177/3000]: 100%|██████████| 9/9 [00:00<00:00, 308.61it/s, loss=2.64]\n"
          ]
        },
        {
          "name": "stdout",
          "output_type": "stream",
          "text": [
            "Epoch [1177/3000]: Train loss: 2.0198, Valid loss: 2.4571\n"
          ]
        },
        {
          "name": "stderr",
          "output_type": "stream",
          "text": [
            "Epoch [1178/3000]: 100%|██████████| 9/9 [00:00<00:00, 93.71it/s, loss=1.76]\n"
          ]
        },
        {
          "name": "stdout",
          "output_type": "stream",
          "text": [
            "Epoch [1178/3000]: Train loss: 1.8705, Valid loss: 2.5779\n"
          ]
        },
        {
          "name": "stderr",
          "output_type": "stream",
          "text": [
            "Epoch [1179/3000]: 100%|██████████| 9/9 [00:00<00:00, 177.54it/s, loss=1.33]\n"
          ]
        },
        {
          "name": "stdout",
          "output_type": "stream",
          "text": [
            "Epoch [1179/3000]: Train loss: 2.0941, Valid loss: 3.3853\n"
          ]
        },
        {
          "name": "stderr",
          "output_type": "stream",
          "text": [
            "Epoch [1180/3000]: 100%|██████████| 9/9 [00:00<00:00, 164.74it/s, loss=1.48]\n"
          ]
        },
        {
          "name": "stdout",
          "output_type": "stream",
          "text": [
            "Epoch [1180/3000]: Train loss: 2.1355, Valid loss: 2.2272\n"
          ]
        },
        {
          "name": "stderr",
          "output_type": "stream",
          "text": [
            "Epoch [1181/3000]: 100%|██████████| 9/9 [00:00<00:00, 323.94it/s, loss=1.87]\n"
          ]
        },
        {
          "name": "stdout",
          "output_type": "stream",
          "text": [
            "Epoch [1181/3000]: Train loss: 1.9442, Valid loss: 2.0768\n"
          ]
        },
        {
          "name": "stderr",
          "output_type": "stream",
          "text": [
            "Epoch [1182/3000]: 100%|██████████| 9/9 [00:00<00:00, 322.29it/s, loss=2.66]\n"
          ]
        },
        {
          "name": "stdout",
          "output_type": "stream",
          "text": [
            "Epoch [1182/3000]: Train loss: 1.8550, Valid loss: 2.4534\n"
          ]
        },
        {
          "name": "stderr",
          "output_type": "stream",
          "text": [
            "Epoch [1183/3000]: 100%|██████████| 9/9 [00:00<00:00, 345.11it/s, loss=2.15]\n"
          ]
        },
        {
          "name": "stdout",
          "output_type": "stream",
          "text": [
            "Epoch [1183/3000]: Train loss: 1.9080, Valid loss: 2.1357\n"
          ]
        },
        {
          "name": "stderr",
          "output_type": "stream",
          "text": [
            "Epoch [1184/3000]: 100%|██████████| 9/9 [00:00<00:00, 150.87it/s, loss=1.78]\n"
          ]
        },
        {
          "name": "stdout",
          "output_type": "stream",
          "text": [
            "Epoch [1184/3000]: Train loss: 1.8309, Valid loss: 2.0542\n"
          ]
        },
        {
          "name": "stderr",
          "output_type": "stream",
          "text": [
            "Epoch [1185/3000]: 100%|██████████| 9/9 [00:00<00:00, 430.38it/s, loss=2.52]\n"
          ]
        },
        {
          "name": "stdout",
          "output_type": "stream",
          "text": [
            "Epoch [1185/3000]: Train loss: 1.8680, Valid loss: 2.3931\n"
          ]
        },
        {
          "name": "stderr",
          "output_type": "stream",
          "text": [
            "Epoch [1186/3000]: 100%|██████████| 9/9 [00:00<00:00, 484.81it/s, loss=2.6]\n"
          ]
        },
        {
          "name": "stdout",
          "output_type": "stream",
          "text": [
            "Epoch [1186/3000]: Train loss: 1.9101, Valid loss: 2.3536\n"
          ]
        },
        {
          "name": "stderr",
          "output_type": "stream",
          "text": [
            "Epoch [1187/3000]: 100%|██████████| 9/9 [00:00<00:00, 427.47it/s, loss=2.47]\n"
          ]
        },
        {
          "name": "stdout",
          "output_type": "stream",
          "text": [
            "Epoch [1187/3000]: Train loss: 1.9379, Valid loss: 2.0723\n"
          ]
        },
        {
          "name": "stderr",
          "output_type": "stream",
          "text": [
            "Epoch [1188/3000]: 100%|██████████| 9/9 [00:00<00:00, 382.49it/s, loss=3.45]\n"
          ]
        },
        {
          "name": "stdout",
          "output_type": "stream",
          "text": [
            "Epoch [1188/3000]: Train loss: 2.2793, Valid loss: 4.2842\n"
          ]
        },
        {
          "name": "stderr",
          "output_type": "stream",
          "text": [
            "Epoch [1189/3000]: 100%|██████████| 9/9 [00:00<00:00, 404.95it/s, loss=1.77]\n"
          ]
        },
        {
          "name": "stdout",
          "output_type": "stream",
          "text": [
            "Epoch [1189/3000]: Train loss: 2.5941, Valid loss: 2.1046\n"
          ]
        },
        {
          "name": "stderr",
          "output_type": "stream",
          "text": [
            "Epoch [1190/3000]: 100%|██████████| 9/9 [00:00<00:00, 424.49it/s, loss=1.98]\n"
          ]
        },
        {
          "name": "stdout",
          "output_type": "stream",
          "text": [
            "Epoch [1190/3000]: Train loss: 1.9461, Valid loss: 2.1535\n"
          ]
        },
        {
          "name": "stderr",
          "output_type": "stream",
          "text": [
            "Epoch [1191/3000]: 100%|██████████| 9/9 [00:00<00:00, 460.59it/s, loss=2.04]\n"
          ]
        },
        {
          "name": "stdout",
          "output_type": "stream",
          "text": [
            "Epoch [1191/3000]: Train loss: 1.8823, Valid loss: 1.9811\n"
          ]
        },
        {
          "name": "stderr",
          "output_type": "stream",
          "text": [
            "Epoch [1192/3000]: 100%|██████████| 9/9 [00:00<00:00, 495.94it/s, loss=2.14]\n"
          ]
        },
        {
          "name": "stdout",
          "output_type": "stream",
          "text": [
            "Epoch [1192/3000]: Train loss: 1.9930, Valid loss: 2.0858\n"
          ]
        },
        {
          "name": "stderr",
          "output_type": "stream",
          "text": [
            "Epoch [1193/3000]: 100%|██████████| 9/9 [00:00<00:00, 411.58it/s, loss=1.42]\n"
          ]
        },
        {
          "name": "stdout",
          "output_type": "stream",
          "text": [
            "Epoch [1193/3000]: Train loss: 1.8663, Valid loss: 2.1172\n"
          ]
        },
        {
          "name": "stderr",
          "output_type": "stream",
          "text": [
            "Epoch [1194/3000]: 100%|██████████| 9/9 [00:00<00:00, 406.23it/s, loss=1.73]\n"
          ]
        },
        {
          "name": "stdout",
          "output_type": "stream",
          "text": [
            "Epoch [1194/3000]: Train loss: 1.9239, Valid loss: 2.4587\n"
          ]
        },
        {
          "name": "stderr",
          "output_type": "stream",
          "text": [
            "Epoch [1195/3000]: 100%|██████████| 9/9 [00:00<00:00, 425.55it/s, loss=1.73]\n"
          ]
        },
        {
          "name": "stdout",
          "output_type": "stream",
          "text": [
            "Epoch [1195/3000]: Train loss: 1.8943, Valid loss: 2.4211\n"
          ]
        },
        {
          "name": "stderr",
          "output_type": "stream",
          "text": [
            "Epoch [1196/3000]: 100%|██████████| 9/9 [00:00<00:00, 67.06it/s, loss=2.15]\n"
          ]
        },
        {
          "name": "stdout",
          "output_type": "stream",
          "text": [
            "Epoch [1196/3000]: Train loss: 2.0426, Valid loss: 3.2222\n"
          ]
        },
        {
          "name": "stderr",
          "output_type": "stream",
          "text": [
            "Epoch [1197/3000]: 100%|██████████| 9/9 [00:00<00:00, 286.62it/s, loss=1.89]\n"
          ]
        },
        {
          "name": "stdout",
          "output_type": "stream",
          "text": [
            "Epoch [1197/3000]: Train loss: 2.0573, Valid loss: 2.3227\n"
          ]
        },
        {
          "name": "stderr",
          "output_type": "stream",
          "text": [
            "Epoch [1198/3000]: 100%|██████████| 9/9 [00:00<00:00, 248.12it/s, loss=2.58]\n"
          ]
        },
        {
          "name": "stdout",
          "output_type": "stream",
          "text": [
            "Epoch [1198/3000]: Train loss: 1.9554, Valid loss: 2.0446\n"
          ]
        },
        {
          "name": "stderr",
          "output_type": "stream",
          "text": [
            "Epoch [1199/3000]: 100%|██████████| 9/9 [00:00<00:00, 370.07it/s, loss=2.01]\n"
          ]
        },
        {
          "name": "stdout",
          "output_type": "stream",
          "text": [
            "Epoch [1199/3000]: Train loss: 2.0771, Valid loss: 2.0413\n"
          ]
        },
        {
          "name": "stderr",
          "output_type": "stream",
          "text": [
            "Epoch [1200/3000]: 100%|██████████| 9/9 [00:00<00:00, 356.40it/s, loss=2.09]\n"
          ]
        },
        {
          "name": "stdout",
          "output_type": "stream",
          "text": [
            "Epoch [1200/3000]: Train loss: 1.9995, Valid loss: 2.6591\n"
          ]
        },
        {
          "name": "stderr",
          "output_type": "stream",
          "text": [
            "Epoch [1201/3000]: 100%|██████████| 9/9 [00:00<00:00, 356.03it/s, loss=2]\n"
          ]
        },
        {
          "name": "stdout",
          "output_type": "stream",
          "text": [
            "Epoch [1201/3000]: Train loss: 2.0488, Valid loss: 2.3233\n"
          ]
        },
        {
          "name": "stderr",
          "output_type": "stream",
          "text": [
            "Epoch [1202/3000]: 100%|██████████| 9/9 [00:00<00:00, 380.10it/s, loss=1.56]\n"
          ]
        },
        {
          "name": "stdout",
          "output_type": "stream",
          "text": [
            "Epoch [1202/3000]: Train loss: 2.0766, Valid loss: 2.1368\n"
          ]
        },
        {
          "name": "stderr",
          "output_type": "stream",
          "text": [
            "Epoch [1203/3000]: 100%|██████████| 9/9 [00:00<00:00, 433.42it/s, loss=1.67]\n"
          ]
        },
        {
          "name": "stdout",
          "output_type": "stream",
          "text": [
            "Epoch [1203/3000]: Train loss: 1.9298, Valid loss: 2.5245\n"
          ]
        },
        {
          "name": "stderr",
          "output_type": "stream",
          "text": [
            "Epoch [1204/3000]: 100%|██████████| 9/9 [00:00<00:00, 512.99it/s, loss=2.2]\n"
          ]
        },
        {
          "name": "stdout",
          "output_type": "stream",
          "text": [
            "Epoch [1204/3000]: Train loss: 2.0474, Valid loss: 2.5383\n"
          ]
        },
        {
          "name": "stderr",
          "output_type": "stream",
          "text": [
            "Epoch [1205/3000]: 100%|██████████| 9/9 [00:00<00:00, 423.51it/s, loss=4.22]\n"
          ]
        },
        {
          "name": "stdout",
          "output_type": "stream",
          "text": [
            "Epoch [1205/3000]: Train loss: 3.4647, Valid loss: 2.3201\n"
          ]
        },
        {
          "name": "stderr",
          "output_type": "stream",
          "text": [
            "Epoch [1206/3000]: 100%|██████████| 9/9 [00:00<00:00, 464.20it/s, loss=2.58]\n"
          ]
        },
        {
          "name": "stdout",
          "output_type": "stream",
          "text": [
            "Epoch [1206/3000]: Train loss: 2.4415, Valid loss: 3.4402\n"
          ]
        },
        {
          "name": "stderr",
          "output_type": "stream",
          "text": [
            "Epoch [1207/3000]: 100%|██████████| 9/9 [00:00<00:00, 355.85it/s, loss=2.06]\n"
          ]
        },
        {
          "name": "stdout",
          "output_type": "stream",
          "text": [
            "Epoch [1207/3000]: Train loss: 2.1655, Valid loss: 1.9536\n"
          ]
        },
        {
          "name": "stderr",
          "output_type": "stream",
          "text": [
            "Epoch [1208/3000]: 100%|██████████| 9/9 [00:00<00:00, 143.73it/s, loss=2.01]\n"
          ]
        },
        {
          "name": "stdout",
          "output_type": "stream",
          "text": [
            "Epoch [1208/3000]: Train loss: 1.8638, Valid loss: 1.7625\n",
            "Saving model with loss 1.762...\n"
          ]
        },
        {
          "name": "stderr",
          "output_type": "stream",
          "text": [
            "Epoch [1209/3000]: 100%|██████████| 9/9 [00:00<00:00, 444.47it/s, loss=1.94]\n"
          ]
        },
        {
          "name": "stdout",
          "output_type": "stream",
          "text": [
            "Epoch [1209/3000]: Train loss: 1.8649, Valid loss: 2.0358\n"
          ]
        },
        {
          "name": "stderr",
          "output_type": "stream",
          "text": [
            "Epoch [1210/3000]: 100%|██████████| 9/9 [00:00<00:00, 591.14it/s, loss=1.87]\n"
          ]
        },
        {
          "name": "stdout",
          "output_type": "stream",
          "text": [
            "Epoch [1210/3000]: Train loss: 1.8790, Valid loss: 2.3505\n"
          ]
        },
        {
          "name": "stderr",
          "output_type": "stream",
          "text": [
            "Epoch [1211/3000]: 100%|██████████| 9/9 [00:00<00:00, 447.01it/s, loss=1.85]\n"
          ]
        },
        {
          "name": "stdout",
          "output_type": "stream",
          "text": [
            "Epoch [1211/3000]: Train loss: 2.1190, Valid loss: 2.2916\n"
          ]
        },
        {
          "name": "stderr",
          "output_type": "stream",
          "text": [
            "Epoch [1212/3000]: 100%|██████████| 9/9 [00:00<00:00, 403.53it/s, loss=2.7]\n"
          ]
        },
        {
          "name": "stdout",
          "output_type": "stream",
          "text": [
            "Epoch [1212/3000]: Train loss: 1.8848, Valid loss: 2.5556\n"
          ]
        },
        {
          "name": "stderr",
          "output_type": "stream",
          "text": [
            "Epoch [1213/3000]: 100%|██████████| 9/9 [00:00<00:00, 508.42it/s, loss=2.24]\n"
          ]
        },
        {
          "name": "stdout",
          "output_type": "stream",
          "text": [
            "Epoch [1213/3000]: Train loss: 2.2260, Valid loss: 1.8831\n"
          ]
        },
        {
          "name": "stderr",
          "output_type": "stream",
          "text": [
            "Epoch [1214/3000]: 100%|██████████| 9/9 [00:00<00:00, 460.24it/s, loss=1.75]\n"
          ]
        },
        {
          "name": "stdout",
          "output_type": "stream",
          "text": [
            "Epoch [1214/3000]: Train loss: 1.8650, Valid loss: 2.3886\n"
          ]
        },
        {
          "name": "stderr",
          "output_type": "stream",
          "text": [
            "Epoch [1215/3000]: 100%|██████████| 9/9 [00:00<00:00, 541.55it/s, loss=2.57]\n"
          ]
        },
        {
          "name": "stdout",
          "output_type": "stream",
          "text": [
            "Epoch [1215/3000]: Train loss: 2.1269, Valid loss: 2.6879\n"
          ]
        },
        {
          "name": "stderr",
          "output_type": "stream",
          "text": [
            "Epoch [1216/3000]: 100%|██████████| 9/9 [00:00<00:00, 628.71it/s, loss=1.96]\n"
          ]
        },
        {
          "name": "stdout",
          "output_type": "stream",
          "text": [
            "Epoch [1216/3000]: Train loss: 2.4799, Valid loss: 2.5761\n"
          ]
        },
        {
          "name": "stderr",
          "output_type": "stream",
          "text": [
            "Epoch [1217/3000]: 100%|██████████| 9/9 [00:00<00:00, 556.51it/s, loss=1.58]\n"
          ]
        },
        {
          "name": "stdout",
          "output_type": "stream",
          "text": [
            "Epoch [1217/3000]: Train loss: 2.2350, Valid loss: 4.0682\n"
          ]
        },
        {
          "name": "stderr",
          "output_type": "stream",
          "text": [
            "Epoch [1218/3000]: 100%|██████████| 9/9 [00:00<00:00, 644.10it/s, loss=2.82]\n"
          ]
        },
        {
          "name": "stdout",
          "output_type": "stream",
          "text": [
            "Epoch [1218/3000]: Train loss: 2.6411, Valid loss: 2.4476\n"
          ]
        },
        {
          "name": "stderr",
          "output_type": "stream",
          "text": [
            "Epoch [1219/3000]: 100%|██████████| 9/9 [00:00<00:00, 198.75it/s, loss=2.01]\n"
          ]
        },
        {
          "name": "stdout",
          "output_type": "stream",
          "text": [
            "Epoch [1219/3000]: Train loss: 2.0419, Valid loss: 2.6807\n"
          ]
        },
        {
          "name": "stderr",
          "output_type": "stream",
          "text": [
            "Epoch [1220/3000]: 100%|██████████| 9/9 [00:00<00:00, 373.85it/s, loss=2.24]\n"
          ]
        },
        {
          "name": "stdout",
          "output_type": "stream",
          "text": [
            "Epoch [1220/3000]: Train loss: 1.9849, Valid loss: 2.8316\n"
          ]
        },
        {
          "name": "stderr",
          "output_type": "stream",
          "text": [
            "Epoch [1221/3000]: 100%|██████████| 9/9 [00:00<00:00, 513.78it/s, loss=1.46]\n"
          ]
        },
        {
          "name": "stdout",
          "output_type": "stream",
          "text": [
            "Epoch [1221/3000]: Train loss: 2.3661, Valid loss: 2.0649\n"
          ]
        },
        {
          "name": "stderr",
          "output_type": "stream",
          "text": [
            "Epoch [1222/3000]: 100%|██████████| 9/9 [00:00<00:00, 567.57it/s, loss=1.62]\n"
          ]
        },
        {
          "name": "stdout",
          "output_type": "stream",
          "text": [
            "Epoch [1222/3000]: Train loss: 2.0875, Valid loss: 2.6590\n"
          ]
        },
        {
          "name": "stderr",
          "output_type": "stream",
          "text": [
            "Epoch [1223/3000]: 100%|██████████| 9/9 [00:00<00:00, 662.65it/s, loss=1.63]\n"
          ]
        },
        {
          "name": "stdout",
          "output_type": "stream",
          "text": [
            "Epoch [1223/3000]: Train loss: 1.9888, Valid loss: 2.3179\n"
          ]
        },
        {
          "name": "stderr",
          "output_type": "stream",
          "text": [
            "Epoch [1224/3000]: 100%|██████████| 9/9 [00:00<00:00, 652.51it/s, loss=1.44]\n"
          ]
        },
        {
          "name": "stdout",
          "output_type": "stream",
          "text": [
            "Epoch [1224/3000]: Train loss: 1.8832, Valid loss: 2.2212\n"
          ]
        },
        {
          "name": "stderr",
          "output_type": "stream",
          "text": [
            "Epoch [1225/3000]: 100%|██████████| 9/9 [00:00<00:00, 658.52it/s, loss=1.6]\n"
          ]
        },
        {
          "name": "stdout",
          "output_type": "stream",
          "text": [
            "Epoch [1225/3000]: Train loss: 2.0434, Valid loss: 2.3567\n"
          ]
        },
        {
          "name": "stderr",
          "output_type": "stream",
          "text": [
            "Epoch [1226/3000]: 100%|██████████| 9/9 [00:00<00:00, 531.63it/s, loss=1.53]\n"
          ]
        },
        {
          "name": "stdout",
          "output_type": "stream",
          "text": [
            "Epoch [1226/3000]: Train loss: 1.8768, Valid loss: 2.2744\n"
          ]
        },
        {
          "name": "stderr",
          "output_type": "stream",
          "text": [
            "Epoch [1227/3000]: 100%|██████████| 9/9 [00:00<00:00, 395.59it/s, loss=1.78]\n"
          ]
        },
        {
          "name": "stdout",
          "output_type": "stream",
          "text": [
            "Epoch [1227/3000]: Train loss: 1.8699, Valid loss: 2.2377\n"
          ]
        },
        {
          "name": "stderr",
          "output_type": "stream",
          "text": [
            "Epoch [1228/3000]: 100%|██████████| 9/9 [00:00<00:00, 279.73it/s, loss=1.39]\n"
          ]
        },
        {
          "name": "stdout",
          "output_type": "stream",
          "text": [
            "Epoch [1228/3000]: Train loss: 1.7960, Valid loss: 2.4425\n"
          ]
        },
        {
          "name": "stderr",
          "output_type": "stream",
          "text": [
            "Epoch [1229/3000]: 100%|██████████| 9/9 [00:00<00:00, 386.94it/s, loss=1.75]\n"
          ]
        },
        {
          "name": "stdout",
          "output_type": "stream",
          "text": [
            "Epoch [1229/3000]: Train loss: 1.8159, Valid loss: 2.1643\n"
          ]
        },
        {
          "name": "stderr",
          "output_type": "stream",
          "text": [
            "Epoch [1230/3000]: 100%|██████████| 9/9 [00:00<00:00, 442.76it/s, loss=1.68]\n"
          ]
        },
        {
          "name": "stdout",
          "output_type": "stream",
          "text": [
            "Epoch [1230/3000]: Train loss: 1.9466, Valid loss: 2.6523\n"
          ]
        },
        {
          "name": "stderr",
          "output_type": "stream",
          "text": [
            "Epoch [1231/3000]: 100%|██████████| 9/9 [00:00<00:00, 364.42it/s, loss=1.92]\n"
          ]
        },
        {
          "name": "stdout",
          "output_type": "stream",
          "text": [
            "Epoch [1231/3000]: Train loss: 2.0910, Valid loss: 2.6501\n"
          ]
        },
        {
          "name": "stderr",
          "output_type": "stream",
          "text": [
            "Epoch [1232/3000]: 100%|██████████| 9/9 [00:00<00:00, 121.89it/s, loss=2.18]\n"
          ]
        },
        {
          "name": "stdout",
          "output_type": "stream",
          "text": [
            "Epoch [1232/3000]: Train loss: 2.3885, Valid loss: 3.1754\n"
          ]
        },
        {
          "name": "stderr",
          "output_type": "stream",
          "text": [
            "Epoch [1233/3000]: 100%|██████████| 9/9 [00:00<00:00, 390.96it/s, loss=2.4]\n"
          ]
        },
        {
          "name": "stdout",
          "output_type": "stream",
          "text": [
            "Epoch [1233/3000]: Train loss: 3.1076, Valid loss: 3.3509\n"
          ]
        },
        {
          "name": "stderr",
          "output_type": "stream",
          "text": [
            "Epoch [1234/3000]: 100%|██████████| 9/9 [00:00<00:00, 506.84it/s, loss=3.01]\n"
          ]
        },
        {
          "name": "stdout",
          "output_type": "stream",
          "text": [
            "Epoch [1234/3000]: Train loss: 2.8522, Valid loss: 3.1608\n"
          ]
        },
        {
          "name": "stderr",
          "output_type": "stream",
          "text": [
            "Epoch [1235/3000]: 100%|██████████| 9/9 [00:00<00:00, 497.62it/s, loss=1.67]\n"
          ]
        },
        {
          "name": "stdout",
          "output_type": "stream",
          "text": [
            "Epoch [1235/3000]: Train loss: 2.2741, Valid loss: 4.7619\n"
          ]
        },
        {
          "name": "stderr",
          "output_type": "stream",
          "text": [
            "Epoch [1236/3000]: 100%|██████████| 9/9 [00:00<00:00, 445.44it/s, loss=2.94]\n"
          ]
        },
        {
          "name": "stdout",
          "output_type": "stream",
          "text": [
            "Epoch [1236/3000]: Train loss: 3.8328, Valid loss: 4.0251\n"
          ]
        },
        {
          "name": "stderr",
          "output_type": "stream",
          "text": [
            "Epoch [1237/3000]: 100%|██████████| 9/9 [00:00<00:00, 528.69it/s, loss=5.52]\n"
          ]
        },
        {
          "name": "stdout",
          "output_type": "stream",
          "text": [
            "Epoch [1237/3000]: Train loss: 3.6700, Valid loss: 2.8006\n"
          ]
        },
        {
          "name": "stderr",
          "output_type": "stream",
          "text": [
            "Epoch [1238/3000]: 100%|██████████| 9/9 [00:00<00:00, 317.02it/s, loss=2.43]\n"
          ]
        },
        {
          "name": "stdout",
          "output_type": "stream",
          "text": [
            "Epoch [1238/3000]: Train loss: 2.9296, Valid loss: 3.1412\n"
          ]
        },
        {
          "name": "stderr",
          "output_type": "stream",
          "text": [
            "Epoch [1239/3000]: 100%|██████████| 9/9 [00:00<00:00, 529.85it/s, loss=1.56]\n"
          ]
        },
        {
          "name": "stdout",
          "output_type": "stream",
          "text": [
            "Epoch [1239/3000]: Train loss: 2.1388, Valid loss: 2.1221\n"
          ]
        },
        {
          "name": "stderr",
          "output_type": "stream",
          "text": [
            "Epoch [1240/3000]: 100%|██████████| 9/9 [00:00<00:00, 412.73it/s, loss=2.11]\n"
          ]
        },
        {
          "name": "stdout",
          "output_type": "stream",
          "text": [
            "Epoch [1240/3000]: Train loss: 1.9673, Valid loss: 1.9642\n"
          ]
        },
        {
          "name": "stderr",
          "output_type": "stream",
          "text": [
            "Epoch [1241/3000]: 100%|██████████| 9/9 [00:00<00:00, 436.45it/s, loss=2.25]\n"
          ]
        },
        {
          "name": "stdout",
          "output_type": "stream",
          "text": [
            "Epoch [1241/3000]: Train loss: 2.0345, Valid loss: 3.2775\n"
          ]
        },
        {
          "name": "stderr",
          "output_type": "stream",
          "text": [
            "Epoch [1242/3000]: 100%|██████████| 9/9 [00:00<00:00, 426.79it/s, loss=2.04]\n"
          ]
        },
        {
          "name": "stdout",
          "output_type": "stream",
          "text": [
            "Epoch [1242/3000]: Train loss: 1.9940, Valid loss: 2.0157\n"
          ]
        },
        {
          "name": "stderr",
          "output_type": "stream",
          "text": [
            "Epoch [1243/3000]: 100%|██████████| 9/9 [00:00<00:00, 383.93it/s, loss=2.55]\n"
          ]
        },
        {
          "name": "stdout",
          "output_type": "stream",
          "text": [
            "Epoch [1243/3000]: Train loss: 2.2023, Valid loss: 2.5050\n"
          ]
        },
        {
          "name": "stderr",
          "output_type": "stream",
          "text": [
            "Epoch [1244/3000]: 100%|██████████| 9/9 [00:00<00:00, 138.46it/s, loss=2.35]\n"
          ]
        },
        {
          "name": "stdout",
          "output_type": "stream",
          "text": [
            "Epoch [1244/3000]: Train loss: 2.2300, Valid loss: 3.2706\n"
          ]
        },
        {
          "name": "stderr",
          "output_type": "stream",
          "text": [
            "Epoch [1245/3000]: 100%|██████████| 9/9 [00:00<00:00, 442.49it/s, loss=2.37]\n"
          ]
        },
        {
          "name": "stdout",
          "output_type": "stream",
          "text": [
            "Epoch [1245/3000]: Train loss: 2.3263, Valid loss: 4.2186\n"
          ]
        },
        {
          "name": "stderr",
          "output_type": "stream",
          "text": [
            "Epoch [1246/3000]: 100%|██████████| 9/9 [00:00<00:00, 505.34it/s, loss=2.09]\n"
          ]
        },
        {
          "name": "stdout",
          "output_type": "stream",
          "text": [
            "Epoch [1246/3000]: Train loss: 2.5843, Valid loss: 2.7431\n"
          ]
        },
        {
          "name": "stderr",
          "output_type": "stream",
          "text": [
            "Epoch [1247/3000]: 100%|██████████| 9/9 [00:00<00:00, 563.49it/s, loss=2.25]\n"
          ]
        },
        {
          "name": "stdout",
          "output_type": "stream",
          "text": [
            "Epoch [1247/3000]: Train loss: 1.9527, Valid loss: 1.9372\n"
          ]
        },
        {
          "name": "stderr",
          "output_type": "stream",
          "text": [
            "Epoch [1248/3000]: 100%|██████████| 9/9 [00:00<00:00, 185.99it/s, loss=1.89]\n"
          ]
        },
        {
          "name": "stdout",
          "output_type": "stream",
          "text": [
            "Epoch [1248/3000]: Train loss: 1.8414, Valid loss: 2.1008\n"
          ]
        },
        {
          "name": "stderr",
          "output_type": "stream",
          "text": [
            "Epoch [1249/3000]: 100%|██████████| 9/9 [00:00<00:00, 174.71it/s, loss=2.5]\n"
          ]
        },
        {
          "name": "stdout",
          "output_type": "stream",
          "text": [
            "Epoch [1249/3000]: Train loss: 1.8578, Valid loss: 2.5073\n"
          ]
        },
        {
          "name": "stderr",
          "output_type": "stream",
          "text": [
            "Epoch [1250/3000]: 100%|██████████| 9/9 [00:00<00:00, 319.20it/s, loss=1.92]\n"
          ]
        },
        {
          "name": "stdout",
          "output_type": "stream",
          "text": [
            "Epoch [1250/3000]: Train loss: 1.9436, Valid loss: 2.1408\n"
          ]
        },
        {
          "name": "stderr",
          "output_type": "stream",
          "text": [
            "Epoch [1251/3000]: 100%|██████████| 9/9 [00:00<00:00, 318.54it/s, loss=1.43]\n"
          ]
        },
        {
          "name": "stdout",
          "output_type": "stream",
          "text": [
            "Epoch [1251/3000]: Train loss: 2.5375, Valid loss: 2.9220\n"
          ]
        },
        {
          "name": "stderr",
          "output_type": "stream",
          "text": [
            "Epoch [1252/3000]: 100%|██████████| 9/9 [00:00<00:00, 253.27it/s, loss=2.77]\n"
          ]
        },
        {
          "name": "stdout",
          "output_type": "stream",
          "text": [
            "Epoch [1252/3000]: Train loss: 2.5572, Valid loss: 2.1445\n"
          ]
        },
        {
          "name": "stderr",
          "output_type": "stream",
          "text": [
            "Epoch [1253/3000]: 100%|██████████| 9/9 [00:00<00:00, 320.16it/s, loss=3.19]\n"
          ]
        },
        {
          "name": "stdout",
          "output_type": "stream",
          "text": [
            "Epoch [1253/3000]: Train loss: 2.3136, Valid loss: 2.3129\n"
          ]
        },
        {
          "name": "stderr",
          "output_type": "stream",
          "text": [
            "Epoch [1254/3000]: 100%|██████████| 9/9 [00:00<00:00, 125.13it/s, loss=2.06]\n"
          ]
        },
        {
          "name": "stdout",
          "output_type": "stream",
          "text": [
            "Epoch [1254/3000]: Train loss: 1.9286, Valid loss: 2.6945\n"
          ]
        },
        {
          "name": "stderr",
          "output_type": "stream",
          "text": [
            "Epoch [1255/3000]: 100%|██████████| 9/9 [00:00<00:00, 116.57it/s, loss=1.84]\n"
          ]
        },
        {
          "name": "stdout",
          "output_type": "stream",
          "text": [
            "Epoch [1255/3000]: Train loss: 2.0558, Valid loss: 2.4396\n"
          ]
        },
        {
          "name": "stderr",
          "output_type": "stream",
          "text": [
            "Epoch [1256/3000]: 100%|██████████| 9/9 [00:00<00:00, 434.86it/s, loss=2.17]\n"
          ]
        },
        {
          "name": "stdout",
          "output_type": "stream",
          "text": [
            "Epoch [1256/3000]: Train loss: 2.2459, Valid loss: 2.1042\n"
          ]
        },
        {
          "name": "stderr",
          "output_type": "stream",
          "text": [
            "Epoch [1257/3000]: 100%|██████████| 9/9 [00:00<00:00, 474.63it/s, loss=1.92]\n"
          ]
        },
        {
          "name": "stdout",
          "output_type": "stream",
          "text": [
            "Epoch [1257/3000]: Train loss: 1.9996, Valid loss: 3.9485\n"
          ]
        },
        {
          "name": "stderr",
          "output_type": "stream",
          "text": [
            "Epoch [1258/3000]: 100%|██████████| 9/9 [00:00<00:00, 306.03it/s, loss=2.53]\n"
          ]
        },
        {
          "name": "stdout",
          "output_type": "stream",
          "text": [
            "Epoch [1258/3000]: Train loss: 2.0825, Valid loss: 2.6088\n"
          ]
        },
        {
          "name": "stderr",
          "output_type": "stream",
          "text": [
            "Epoch [1259/3000]: 100%|██████████| 9/9 [00:00<00:00, 320.10it/s, loss=2.09]\n"
          ]
        },
        {
          "name": "stdout",
          "output_type": "stream",
          "text": [
            "Epoch [1259/3000]: Train loss: 2.0800, Valid loss: 2.3538\n"
          ]
        },
        {
          "name": "stderr",
          "output_type": "stream",
          "text": [
            "Epoch [1260/3000]: 100%|██████████| 9/9 [00:00<00:00, 187.31it/s, loss=1.32]\n"
          ]
        },
        {
          "name": "stdout",
          "output_type": "stream",
          "text": [
            "Epoch [1260/3000]: Train loss: 1.8628, Valid loss: 1.7386\n",
            "Saving model with loss 1.739...\n"
          ]
        },
        {
          "name": "stderr",
          "output_type": "stream",
          "text": [
            "Epoch [1261/3000]: 100%|██████████| 9/9 [00:00<00:00, 263.31it/s, loss=1.71]\n"
          ]
        },
        {
          "name": "stdout",
          "output_type": "stream",
          "text": [
            "Epoch [1261/3000]: Train loss: 2.0335, Valid loss: 2.3831\n"
          ]
        },
        {
          "name": "stderr",
          "output_type": "stream",
          "text": [
            "Epoch [1262/3000]: 100%|██████████| 9/9 [00:00<00:00, 298.14it/s, loss=1.64]\n"
          ]
        },
        {
          "name": "stdout",
          "output_type": "stream",
          "text": [
            "Epoch [1262/3000]: Train loss: 2.0116, Valid loss: 5.1704\n"
          ]
        },
        {
          "name": "stderr",
          "output_type": "stream",
          "text": [
            "Epoch [1263/3000]: 100%|██████████| 9/9 [00:00<00:00, 347.21it/s, loss=2.85]\n"
          ]
        },
        {
          "name": "stdout",
          "output_type": "stream",
          "text": [
            "Epoch [1263/3000]: Train loss: 3.7115, Valid loss: 4.8895\n"
          ]
        },
        {
          "name": "stderr",
          "output_type": "stream",
          "text": [
            "Epoch [1264/3000]: 100%|██████████| 9/9 [00:00<00:00, 447.98it/s, loss=4.49]\n"
          ]
        },
        {
          "name": "stdout",
          "output_type": "stream",
          "text": [
            "Epoch [1264/3000]: Train loss: 4.8702, Valid loss: 4.0614\n"
          ]
        },
        {
          "name": "stderr",
          "output_type": "stream",
          "text": [
            "Epoch [1265/3000]: 100%|██████████| 9/9 [00:00<00:00, 505.62it/s, loss=2.63]\n"
          ]
        },
        {
          "name": "stdout",
          "output_type": "stream",
          "text": [
            "Epoch [1265/3000]: Train loss: 3.2634, Valid loss: 2.8279\n"
          ]
        },
        {
          "name": "stderr",
          "output_type": "stream",
          "text": [
            "Epoch [1266/3000]: 100%|██████████| 9/9 [00:00<00:00, 470.72it/s, loss=1.95]\n"
          ]
        },
        {
          "name": "stdout",
          "output_type": "stream",
          "text": [
            "Epoch [1266/3000]: Train loss: 2.3313, Valid loss: 2.3564\n"
          ]
        },
        {
          "name": "stderr",
          "output_type": "stream",
          "text": [
            "Epoch [1267/3000]: 100%|██████████| 9/9 [00:00<00:00, 130.36it/s, loss=1.76]\n"
          ]
        },
        {
          "name": "stdout",
          "output_type": "stream",
          "text": [
            "Epoch [1267/3000]: Train loss: 1.8698, Valid loss: 1.9344\n"
          ]
        },
        {
          "name": "stderr",
          "output_type": "stream",
          "text": [
            "Epoch [1268/3000]: 100%|██████████| 9/9 [00:00<00:00, 411.32it/s, loss=1.37]\n"
          ]
        },
        {
          "name": "stdout",
          "output_type": "stream",
          "text": [
            "Epoch [1268/3000]: Train loss: 1.7741, Valid loss: 2.0609\n"
          ]
        },
        {
          "name": "stderr",
          "output_type": "stream",
          "text": [
            "Epoch [1269/3000]: 100%|██████████| 9/9 [00:00<00:00, 419.43it/s, loss=1.86]\n"
          ]
        },
        {
          "name": "stdout",
          "output_type": "stream",
          "text": [
            "Epoch [1269/3000]: Train loss: 1.9083, Valid loss: 2.1813\n"
          ]
        },
        {
          "name": "stderr",
          "output_type": "stream",
          "text": [
            "Epoch [1270/3000]: 100%|██████████| 9/9 [00:00<00:00, 534.00it/s, loss=2.89]\n"
          ]
        },
        {
          "name": "stdout",
          "output_type": "stream",
          "text": [
            "Epoch [1270/3000]: Train loss: 2.0649, Valid loss: 5.1808\n"
          ]
        },
        {
          "name": "stderr",
          "output_type": "stream",
          "text": [
            "Epoch [1271/3000]: 100%|██████████| 9/9 [00:00<00:00, 509.33it/s, loss=2.06]\n"
          ]
        },
        {
          "name": "stdout",
          "output_type": "stream",
          "text": [
            "Epoch [1271/3000]: Train loss: 3.5683, Valid loss: 2.3984\n"
          ]
        },
        {
          "name": "stderr",
          "output_type": "stream",
          "text": [
            "Epoch [1272/3000]: 100%|██████████| 9/9 [00:00<00:00, 446.34it/s, loss=1.79]\n"
          ]
        },
        {
          "name": "stdout",
          "output_type": "stream",
          "text": [
            "Epoch [1272/3000]: Train loss: 1.9429, Valid loss: 1.9740\n"
          ]
        },
        {
          "name": "stderr",
          "output_type": "stream",
          "text": [
            "Epoch [1273/3000]: 100%|██████████| 9/9 [00:00<00:00, 378.99it/s, loss=2.38]\n"
          ]
        },
        {
          "name": "stdout",
          "output_type": "stream",
          "text": [
            "Epoch [1273/3000]: Train loss: 1.9536, Valid loss: 3.1570\n"
          ]
        },
        {
          "name": "stderr",
          "output_type": "stream",
          "text": [
            "Epoch [1274/3000]: 100%|██████████| 9/9 [00:00<00:00, 571.65it/s, loss=2.4]\n"
          ]
        },
        {
          "name": "stdout",
          "output_type": "stream",
          "text": [
            "Epoch [1274/3000]: Train loss: 2.0533, Valid loss: 2.3296\n"
          ]
        },
        {
          "name": "stderr",
          "output_type": "stream",
          "text": [
            "Epoch [1275/3000]: 100%|██████████| 9/9 [00:00<00:00, 498.56it/s, loss=2.79]\n"
          ]
        },
        {
          "name": "stdout",
          "output_type": "stream",
          "text": [
            "Epoch [1275/3000]: Train loss: 2.2564, Valid loss: 2.3648\n"
          ]
        },
        {
          "name": "stderr",
          "output_type": "stream",
          "text": [
            "Epoch [1276/3000]: 100%|██████████| 9/9 [00:00<00:00, 450.68it/s, loss=1.82]\n"
          ]
        },
        {
          "name": "stdout",
          "output_type": "stream",
          "text": [
            "Epoch [1276/3000]: Train loss: 1.9706, Valid loss: 3.6989\n"
          ]
        },
        {
          "name": "stderr",
          "output_type": "stream",
          "text": [
            "Epoch [1277/3000]: 100%|██████████| 9/9 [00:00<00:00, 117.91it/s, loss=1.95]\n"
          ]
        },
        {
          "name": "stdout",
          "output_type": "stream",
          "text": [
            "Epoch [1277/3000]: Train loss: 2.6178, Valid loss: 2.3235\n"
          ]
        },
        {
          "name": "stderr",
          "output_type": "stream",
          "text": [
            "Epoch [1278/3000]: 100%|██████████| 9/9 [00:00<00:00, 254.52it/s, loss=4.06]\n"
          ]
        },
        {
          "name": "stdout",
          "output_type": "stream",
          "text": [
            "Epoch [1278/3000]: Train loss: 2.6801, Valid loss: 2.0871\n"
          ]
        },
        {
          "name": "stderr",
          "output_type": "stream",
          "text": [
            "Epoch [1279/3000]: 100%|██████████| 9/9 [00:00<00:00, 312.67it/s, loss=2.11]\n"
          ]
        },
        {
          "name": "stdout",
          "output_type": "stream",
          "text": [
            "Epoch [1279/3000]: Train loss: 2.3054, Valid loss: 2.4213\n"
          ]
        },
        {
          "name": "stderr",
          "output_type": "stream",
          "text": [
            "Epoch [1280/3000]: 100%|██████████| 9/9 [00:00<00:00, 165.10it/s, loss=1.91]\n"
          ]
        },
        {
          "name": "stdout",
          "output_type": "stream",
          "text": [
            "Epoch [1280/3000]: Train loss: 1.8640, Valid loss: 2.5920\n"
          ]
        },
        {
          "name": "stderr",
          "output_type": "stream",
          "text": [
            "Epoch [1281/3000]: 100%|██████████| 9/9 [00:00<00:00, 111.45it/s, loss=2.29]\n"
          ]
        },
        {
          "name": "stdout",
          "output_type": "stream",
          "text": [
            "Epoch [1281/3000]: Train loss: 2.1789, Valid loss: 2.8519\n"
          ]
        },
        {
          "name": "stderr",
          "output_type": "stream",
          "text": [
            "Epoch [1282/3000]: 100%|██████████| 9/9 [00:00<00:00, 354.47it/s, loss=2.14]\n"
          ]
        },
        {
          "name": "stdout",
          "output_type": "stream",
          "text": [
            "Epoch [1282/3000]: Train loss: 2.0558, Valid loss: 2.0166\n"
          ]
        },
        {
          "name": "stderr",
          "output_type": "stream",
          "text": [
            "Epoch [1283/3000]: 100%|██████████| 9/9 [00:00<00:00, 448.31it/s, loss=1.79]\n"
          ]
        },
        {
          "name": "stdout",
          "output_type": "stream",
          "text": [
            "Epoch [1283/3000]: Train loss: 1.8737, Valid loss: 1.8537\n"
          ]
        },
        {
          "name": "stderr",
          "output_type": "stream",
          "text": [
            "Epoch [1284/3000]: 100%|██████████| 9/9 [00:00<00:00, 467.31it/s, loss=1.83]\n"
          ]
        },
        {
          "name": "stdout",
          "output_type": "stream",
          "text": [
            "Epoch [1284/3000]: Train loss: 1.8792, Valid loss: 2.1675\n"
          ]
        },
        {
          "name": "stderr",
          "output_type": "stream",
          "text": [
            "Epoch [1285/3000]: 100%|██████████| 9/9 [00:00<00:00, 518.76it/s, loss=2.46]\n"
          ]
        },
        {
          "name": "stdout",
          "output_type": "stream",
          "text": [
            "Epoch [1285/3000]: Train loss: 1.9808, Valid loss: 2.2585\n"
          ]
        },
        {
          "name": "stderr",
          "output_type": "stream",
          "text": [
            "Epoch [1286/3000]: 100%|██████████| 9/9 [00:00<00:00, 380.18it/s, loss=1.84]\n"
          ]
        },
        {
          "name": "stdout",
          "output_type": "stream",
          "text": [
            "Epoch [1286/3000]: Train loss: 1.9487, Valid loss: 2.1109\n"
          ]
        },
        {
          "name": "stderr",
          "output_type": "stream",
          "text": [
            "Epoch [1287/3000]: 100%|██████████| 9/9 [00:00<00:00, 321.04it/s, loss=1.53]\n"
          ]
        },
        {
          "name": "stdout",
          "output_type": "stream",
          "text": [
            "Epoch [1287/3000]: Train loss: 1.7705, Valid loss: 2.0710\n"
          ]
        },
        {
          "name": "stderr",
          "output_type": "stream",
          "text": [
            "Epoch [1288/3000]: 100%|██████████| 9/9 [00:00<00:00, 330.15it/s, loss=2.4]\n"
          ]
        },
        {
          "name": "stdout",
          "output_type": "stream",
          "text": [
            "Epoch [1288/3000]: Train loss: 1.9287, Valid loss: 1.8803\n"
          ]
        },
        {
          "name": "stderr",
          "output_type": "stream",
          "text": [
            "Epoch [1289/3000]: 100%|██████████| 9/9 [00:00<00:00, 335.63it/s, loss=1.68]\n"
          ]
        },
        {
          "name": "stdout",
          "output_type": "stream",
          "text": [
            "Epoch [1289/3000]: Train loss: 1.8956, Valid loss: 2.0629\n"
          ]
        },
        {
          "name": "stderr",
          "output_type": "stream",
          "text": [
            "Epoch [1290/3000]: 100%|██████████| 9/9 [00:00<00:00, 295.94it/s, loss=1.54]\n"
          ]
        },
        {
          "name": "stdout",
          "output_type": "stream",
          "text": [
            "Epoch [1290/3000]: Train loss: 1.7814, Valid loss: 2.4944\n"
          ]
        },
        {
          "name": "stderr",
          "output_type": "stream",
          "text": [
            "Epoch [1291/3000]: 100%|██████████| 9/9 [00:00<00:00, 139.33it/s, loss=2.45]\n"
          ]
        },
        {
          "name": "stdout",
          "output_type": "stream",
          "text": [
            "Epoch [1291/3000]: Train loss: 2.0699, Valid loss: 4.0110\n"
          ]
        },
        {
          "name": "stderr",
          "output_type": "stream",
          "text": [
            "Epoch [1292/3000]: 100%|██████████| 9/9 [00:00<00:00, 353.63it/s, loss=2.29]\n"
          ]
        },
        {
          "name": "stdout",
          "output_type": "stream",
          "text": [
            "Epoch [1292/3000]: Train loss: 2.4134, Valid loss: 3.2414\n"
          ]
        },
        {
          "name": "stderr",
          "output_type": "stream",
          "text": [
            "Epoch [1293/3000]: 100%|██████████| 9/9 [00:00<00:00, 431.81it/s, loss=1.67]\n"
          ]
        },
        {
          "name": "stdout",
          "output_type": "stream",
          "text": [
            "Epoch [1293/3000]: Train loss: 2.0829, Valid loss: 2.2012\n"
          ]
        },
        {
          "name": "stderr",
          "output_type": "stream",
          "text": [
            "Epoch [1294/3000]: 100%|██████████| 9/9 [00:00<00:00, 550.27it/s, loss=2.21]\n"
          ]
        },
        {
          "name": "stdout",
          "output_type": "stream",
          "text": [
            "Epoch [1294/3000]: Train loss: 2.2010, Valid loss: 3.0706\n"
          ]
        },
        {
          "name": "stderr",
          "output_type": "stream",
          "text": [
            "Epoch [1295/3000]: 100%|██████████| 9/9 [00:00<00:00, 437.85it/s, loss=2.48]\n"
          ]
        },
        {
          "name": "stdout",
          "output_type": "stream",
          "text": [
            "Epoch [1295/3000]: Train loss: 2.3145, Valid loss: 2.2776\n"
          ]
        },
        {
          "name": "stderr",
          "output_type": "stream",
          "text": [
            "Epoch [1296/3000]: 100%|██████████| 9/9 [00:00<00:00, 478.77it/s, loss=3]\n"
          ]
        },
        {
          "name": "stdout",
          "output_type": "stream",
          "text": [
            "Epoch [1296/3000]: Train loss: 2.4863, Valid loss: 2.7937\n"
          ]
        },
        {
          "name": "stderr",
          "output_type": "stream",
          "text": [
            "Epoch [1297/3000]: 100%|██████████| 9/9 [00:00<00:00, 459.66it/s, loss=1.85]\n"
          ]
        },
        {
          "name": "stdout",
          "output_type": "stream",
          "text": [
            "Epoch [1297/3000]: Train loss: 2.0976, Valid loss: 2.4284\n"
          ]
        },
        {
          "name": "stderr",
          "output_type": "stream",
          "text": [
            "Epoch [1298/3000]: 100%|██████████| 9/9 [00:00<00:00, 492.80it/s, loss=1.96]\n"
          ]
        },
        {
          "name": "stdout",
          "output_type": "stream",
          "text": [
            "Epoch [1298/3000]: Train loss: 1.8293, Valid loss: 2.2188\n"
          ]
        },
        {
          "name": "stderr",
          "output_type": "stream",
          "text": [
            "Epoch [1299/3000]: 100%|██████████| 9/9 [00:00<00:00, 533.26it/s, loss=1.76]\n"
          ]
        },
        {
          "name": "stdout",
          "output_type": "stream",
          "text": [
            "Epoch [1299/3000]: Train loss: 1.8361, Valid loss: 2.4704\n"
          ]
        },
        {
          "name": "stderr",
          "output_type": "stream",
          "text": [
            "Epoch [1300/3000]: 100%|██████████| 9/9 [00:00<00:00, 380.66it/s, loss=2.8]\n"
          ]
        },
        {
          "name": "stdout",
          "output_type": "stream",
          "text": [
            "Epoch [1300/3000]: Train loss: 2.2414, Valid loss: 2.3347\n"
          ]
        },
        {
          "name": "stderr",
          "output_type": "stream",
          "text": [
            "Epoch [1301/3000]: 100%|██████████| 9/9 [00:00<00:00, 504.71it/s, loss=1.55]\n"
          ]
        },
        {
          "name": "stdout",
          "output_type": "stream",
          "text": [
            "Epoch [1301/3000]: Train loss: 2.1102, Valid loss: 2.4503\n"
          ]
        },
        {
          "name": "stderr",
          "output_type": "stream",
          "text": [
            "Epoch [1302/3000]: 100%|██████████| 9/9 [00:00<00:00, 362.62it/s, loss=2.29]\n"
          ]
        },
        {
          "name": "stdout",
          "output_type": "stream",
          "text": [
            "Epoch [1302/3000]: Train loss: 1.9759, Valid loss: 2.2160\n"
          ]
        },
        {
          "name": "stderr",
          "output_type": "stream",
          "text": [
            "Epoch [1303/3000]: 100%|██████████| 9/9 [00:00<00:00, 77.07it/s, loss=1.43]\n"
          ]
        },
        {
          "name": "stdout",
          "output_type": "stream",
          "text": [
            "Epoch [1303/3000]: Train loss: 1.8498, Valid loss: 1.8114\n"
          ]
        },
        {
          "name": "stderr",
          "output_type": "stream",
          "text": [
            "Epoch [1304/3000]: 100%|██████████| 9/9 [00:00<00:00, 228.21it/s, loss=1.82]\n"
          ]
        },
        {
          "name": "stdout",
          "output_type": "stream",
          "text": [
            "Epoch [1304/3000]: Train loss: 1.7876, Valid loss: 3.1681\n"
          ]
        },
        {
          "name": "stderr",
          "output_type": "stream",
          "text": [
            "Epoch [1305/3000]: 100%|██████████| 9/9 [00:00<00:00, 412.28it/s, loss=2.24]\n"
          ]
        },
        {
          "name": "stdout",
          "output_type": "stream",
          "text": [
            "Epoch [1305/3000]: Train loss: 2.4487, Valid loss: 2.4110\n"
          ]
        },
        {
          "name": "stderr",
          "output_type": "stream",
          "text": [
            "Epoch [1306/3000]: 100%|██████████| 9/9 [00:00<00:00, 497.15it/s, loss=2.32]\n"
          ]
        },
        {
          "name": "stdout",
          "output_type": "stream",
          "text": [
            "Epoch [1306/3000]: Train loss: 1.8601, Valid loss: 2.5729\n"
          ]
        },
        {
          "name": "stderr",
          "output_type": "stream",
          "text": [
            "Epoch [1307/3000]: 100%|██████████| 9/9 [00:00<00:00, 461.12it/s, loss=1.45]\n"
          ]
        },
        {
          "name": "stdout",
          "output_type": "stream",
          "text": [
            "Epoch [1307/3000]: Train loss: 1.8109, Valid loss: 1.9288\n"
          ]
        },
        {
          "name": "stderr",
          "output_type": "stream",
          "text": [
            "Epoch [1308/3000]: 100%|██████████| 9/9 [00:00<00:00, 478.24it/s, loss=1.83]\n"
          ]
        },
        {
          "name": "stdout",
          "output_type": "stream",
          "text": [
            "Epoch [1308/3000]: Train loss: 1.8732, Valid loss: 2.6997\n"
          ]
        },
        {
          "name": "stderr",
          "output_type": "stream",
          "text": [
            "Epoch [1309/3000]: 100%|██████████| 9/9 [00:00<00:00, 260.12it/s, loss=1.77]\n"
          ]
        },
        {
          "name": "stdout",
          "output_type": "stream",
          "text": [
            "Epoch [1309/3000]: Train loss: 1.9825, Valid loss: 3.0069\n"
          ]
        },
        {
          "name": "stderr",
          "output_type": "stream",
          "text": [
            "Epoch [1310/3000]: 100%|██████████| 9/9 [00:00<00:00, 533.91it/s, loss=2.15]\n"
          ]
        },
        {
          "name": "stdout",
          "output_type": "stream",
          "text": [
            "Epoch [1310/3000]: Train loss: 2.0679, Valid loss: 2.0842\n"
          ]
        },
        {
          "name": "stderr",
          "output_type": "stream",
          "text": [
            "Epoch [1311/3000]: 100%|██████████| 9/9 [00:00<00:00, 169.37it/s, loss=1.37]\n"
          ]
        },
        {
          "name": "stdout",
          "output_type": "stream",
          "text": [
            "Epoch [1311/3000]: Train loss: 1.9260, Valid loss: 2.5464\n"
          ]
        },
        {
          "name": "stderr",
          "output_type": "stream",
          "text": [
            "Epoch [1312/3000]: 100%|██████████| 9/9 [00:00<00:00, 405.75it/s, loss=1.43]\n"
          ]
        },
        {
          "name": "stdout",
          "output_type": "stream",
          "text": [
            "Epoch [1312/3000]: Train loss: 1.7716, Valid loss: 2.1777\n"
          ]
        },
        {
          "name": "stderr",
          "output_type": "stream",
          "text": [
            "Epoch [1313/3000]: 100%|██████████| 9/9 [00:00<00:00, 417.25it/s, loss=1.25]\n"
          ]
        },
        {
          "name": "stdout",
          "output_type": "stream",
          "text": [
            "Epoch [1313/3000]: Train loss: 1.7569, Valid loss: 2.3178\n"
          ]
        },
        {
          "name": "stderr",
          "output_type": "stream",
          "text": [
            "Epoch [1314/3000]: 100%|██████████| 9/9 [00:00<00:00, 610.87it/s, loss=1.65]\n"
          ]
        },
        {
          "name": "stdout",
          "output_type": "stream",
          "text": [
            "Epoch [1314/3000]: Train loss: 1.9569, Valid loss: 2.3451\n"
          ]
        },
        {
          "name": "stderr",
          "output_type": "stream",
          "text": [
            "Epoch [1315/3000]: 100%|██████████| 9/9 [00:00<00:00, 502.29it/s, loss=2.55]\n"
          ]
        },
        {
          "name": "stdout",
          "output_type": "stream",
          "text": [
            "Epoch [1315/3000]: Train loss: 2.0230, Valid loss: 2.0969\n"
          ]
        },
        {
          "name": "stderr",
          "output_type": "stream",
          "text": [
            "Epoch [1316/3000]: 100%|██████████| 9/9 [00:00<00:00, 378.04it/s, loss=2.99]\n"
          ]
        },
        {
          "name": "stdout",
          "output_type": "stream",
          "text": [
            "Epoch [1316/3000]: Train loss: 2.6238, Valid loss: 2.8979\n"
          ]
        },
        {
          "name": "stderr",
          "output_type": "stream",
          "text": [
            "Epoch [1317/3000]: 100%|██████████| 9/9 [00:00<00:00, 506.78it/s, loss=1.88]\n"
          ]
        },
        {
          "name": "stdout",
          "output_type": "stream",
          "text": [
            "Epoch [1317/3000]: Train loss: 1.9959, Valid loss: 2.4138\n"
          ]
        },
        {
          "name": "stderr",
          "output_type": "stream",
          "text": [
            "Epoch [1318/3000]: 100%|██████████| 9/9 [00:00<00:00, 573.00it/s, loss=2.66]\n"
          ]
        },
        {
          "name": "stdout",
          "output_type": "stream",
          "text": [
            "Epoch [1318/3000]: Train loss: 1.9522, Valid loss: 3.0081\n"
          ]
        },
        {
          "name": "stderr",
          "output_type": "stream",
          "text": [
            "Epoch [1319/3000]: 100%|██████████| 9/9 [00:00<00:00, 290.46it/s, loss=1.65]\n"
          ]
        },
        {
          "name": "stdout",
          "output_type": "stream",
          "text": [
            "Epoch [1319/3000]: Train loss: 2.3075, Valid loss: 2.2362\n"
          ]
        },
        {
          "name": "stderr",
          "output_type": "stream",
          "text": [
            "Epoch [1320/3000]: 100%|██████████| 9/9 [00:00<00:00, 283.45it/s, loss=1.76]\n"
          ]
        },
        {
          "name": "stdout",
          "output_type": "stream",
          "text": [
            "Epoch [1320/3000]: Train loss: 1.9307, Valid loss: 2.6486\n"
          ]
        },
        {
          "name": "stderr",
          "output_type": "stream",
          "text": [
            "Epoch [1321/3000]: 100%|██████████| 9/9 [00:00<00:00, 279.29it/s, loss=5.12]\n"
          ]
        },
        {
          "name": "stdout",
          "output_type": "stream",
          "text": [
            "Epoch [1321/3000]: Train loss: 3.4076, Valid loss: 2.0280\n"
          ]
        },
        {
          "name": "stderr",
          "output_type": "stream",
          "text": [
            "Epoch [1322/3000]: 100%|██████████| 9/9 [00:00<00:00, 369.97it/s, loss=3.29]\n"
          ]
        },
        {
          "name": "stdout",
          "output_type": "stream",
          "text": [
            "Epoch [1322/3000]: Train loss: 2.7083, Valid loss: 2.9758\n"
          ]
        },
        {
          "name": "stderr",
          "output_type": "stream",
          "text": [
            "Epoch [1323/3000]: 100%|██████████| 9/9 [00:00<00:00, 426.94it/s, loss=2.07]\n"
          ]
        },
        {
          "name": "stdout",
          "output_type": "stream",
          "text": [
            "Epoch [1323/3000]: Train loss: 2.0145, Valid loss: 2.3112\n"
          ]
        },
        {
          "name": "stderr",
          "output_type": "stream",
          "text": [
            "Epoch [1324/3000]: 100%|██████████| 9/9 [00:00<00:00, 355.84it/s, loss=2.18]\n"
          ]
        },
        {
          "name": "stdout",
          "output_type": "stream",
          "text": [
            "Epoch [1324/3000]: Train loss: 2.4883, Valid loss: 2.5092\n"
          ]
        },
        {
          "name": "stderr",
          "output_type": "stream",
          "text": [
            "Epoch [1325/3000]: 100%|██████████| 9/9 [00:00<00:00, 398.83it/s, loss=1.53]\n"
          ]
        },
        {
          "name": "stdout",
          "output_type": "stream",
          "text": [
            "Epoch [1325/3000]: Train loss: 2.9338, Valid loss: 3.4942\n"
          ]
        },
        {
          "name": "stderr",
          "output_type": "stream",
          "text": [
            "Epoch [1326/3000]: 100%|██████████| 9/9 [00:00<00:00, 261.49it/s, loss=2.16]\n"
          ]
        },
        {
          "name": "stdout",
          "output_type": "stream",
          "text": [
            "Epoch [1326/3000]: Train loss: 1.9571, Valid loss: 2.3876\n"
          ]
        },
        {
          "name": "stderr",
          "output_type": "stream",
          "text": [
            "Epoch [1327/3000]: 100%|██████████| 9/9 [00:00<00:00, 448.41it/s, loss=1.69]\n"
          ]
        },
        {
          "name": "stdout",
          "output_type": "stream",
          "text": [
            "Epoch [1327/3000]: Train loss: 1.9094, Valid loss: 2.9505\n"
          ]
        },
        {
          "name": "stderr",
          "output_type": "stream",
          "text": [
            "Epoch [1328/3000]: 100%|██████████| 9/9 [00:00<00:00, 415.90it/s, loss=2.87]\n"
          ]
        },
        {
          "name": "stdout",
          "output_type": "stream",
          "text": [
            "Epoch [1328/3000]: Train loss: 2.1974, Valid loss: 2.3188\n"
          ]
        },
        {
          "name": "stderr",
          "output_type": "stream",
          "text": [
            "Epoch [1329/3000]: 100%|██████████| 9/9 [00:00<00:00, 484.13it/s, loss=2.03]\n"
          ]
        },
        {
          "name": "stdout",
          "output_type": "stream",
          "text": [
            "Epoch [1329/3000]: Train loss: 2.1564, Valid loss: 2.8823\n"
          ]
        },
        {
          "name": "stderr",
          "output_type": "stream",
          "text": [
            "Epoch [1330/3000]: 100%|██████████| 9/9 [00:00<00:00, 376.13it/s, loss=1.73]\n"
          ]
        },
        {
          "name": "stdout",
          "output_type": "stream",
          "text": [
            "Epoch [1330/3000]: Train loss: 2.1920, Valid loss: 2.8608\n"
          ]
        },
        {
          "name": "stderr",
          "output_type": "stream",
          "text": [
            "Epoch [1331/3000]: 100%|██████████| 9/9 [00:00<00:00, 357.41it/s, loss=2.12]\n"
          ]
        },
        {
          "name": "stdout",
          "output_type": "stream",
          "text": [
            "Epoch [1331/3000]: Train loss: 1.9947, Valid loss: 1.8580\n"
          ]
        },
        {
          "name": "stderr",
          "output_type": "stream",
          "text": [
            "Epoch [1332/3000]: 100%|██████████| 9/9 [00:00<00:00, 534.77it/s, loss=1.99]\n"
          ]
        },
        {
          "name": "stdout",
          "output_type": "stream",
          "text": [
            "Epoch [1332/3000]: Train loss: 1.8154, Valid loss: 2.7867\n"
          ]
        },
        {
          "name": "stderr",
          "output_type": "stream",
          "text": [
            "Epoch [1333/3000]: 100%|██████████| 9/9 [00:00<00:00, 509.72it/s, loss=1.6]\n"
          ]
        },
        {
          "name": "stdout",
          "output_type": "stream",
          "text": [
            "Epoch [1333/3000]: Train loss: 1.8813, Valid loss: 2.5392\n"
          ]
        },
        {
          "name": "stderr",
          "output_type": "stream",
          "text": [
            "Epoch [1334/3000]: 100%|██████████| 9/9 [00:00<00:00, 406.77it/s, loss=1.63]\n"
          ]
        },
        {
          "name": "stdout",
          "output_type": "stream",
          "text": [
            "Epoch [1334/3000]: Train loss: 1.9414, Valid loss: 1.9047\n"
          ]
        },
        {
          "name": "stderr",
          "output_type": "stream",
          "text": [
            "Epoch [1335/3000]: 100%|██████████| 9/9 [00:00<00:00, 494.12it/s, loss=1.95]\n"
          ]
        },
        {
          "name": "stdout",
          "output_type": "stream",
          "text": [
            "Epoch [1335/3000]: Train loss: 1.9168, Valid loss: 2.4803\n"
          ]
        },
        {
          "name": "stderr",
          "output_type": "stream",
          "text": [
            "Epoch [1336/3000]: 100%|██████████| 9/9 [00:00<00:00, 378.80it/s, loss=2.27]\n"
          ]
        },
        {
          "name": "stdout",
          "output_type": "stream",
          "text": [
            "Epoch [1336/3000]: Train loss: 1.9473, Valid loss: 2.0373\n"
          ]
        },
        {
          "name": "stderr",
          "output_type": "stream",
          "text": [
            "Epoch [1337/3000]: 100%|██████████| 9/9 [00:00<00:00, 457.74it/s, loss=1.92]\n"
          ]
        },
        {
          "name": "stdout",
          "output_type": "stream",
          "text": [
            "Epoch [1337/3000]: Train loss: 1.8941, Valid loss: 2.3346\n"
          ]
        },
        {
          "name": "stderr",
          "output_type": "stream",
          "text": [
            "Epoch [1338/3000]: 100%|██████████| 9/9 [00:00<00:00, 471.85it/s, loss=1.8]\n"
          ]
        },
        {
          "name": "stdout",
          "output_type": "stream",
          "text": [
            "Epoch [1338/3000]: Train loss: 1.8372, Valid loss: 2.7096\n"
          ]
        },
        {
          "name": "stderr",
          "output_type": "stream",
          "text": [
            "Epoch [1339/3000]: 100%|██████████| 9/9 [00:00<00:00, 176.48it/s, loss=2.78]\n"
          ]
        },
        {
          "name": "stdout",
          "output_type": "stream",
          "text": [
            "Epoch [1339/3000]: Train loss: 1.9252, Valid loss: 1.8378\n"
          ]
        },
        {
          "name": "stderr",
          "output_type": "stream",
          "text": [
            "Epoch [1340/3000]: 100%|██████████| 9/9 [00:00<00:00, 183.04it/s, loss=2.4]\n"
          ]
        },
        {
          "name": "stdout",
          "output_type": "stream",
          "text": [
            "Epoch [1340/3000]: Train loss: 1.9461, Valid loss: 1.9538\n"
          ]
        },
        {
          "name": "stderr",
          "output_type": "stream",
          "text": [
            "Epoch [1341/3000]: 100%|██████████| 9/9 [00:00<00:00, 207.43it/s, loss=1.75]\n"
          ]
        },
        {
          "name": "stdout",
          "output_type": "stream",
          "text": [
            "Epoch [1341/3000]: Train loss: 1.9731, Valid loss: 2.4232\n"
          ]
        },
        {
          "name": "stderr",
          "output_type": "stream",
          "text": [
            "Epoch [1342/3000]: 100%|██████████| 9/9 [00:00<00:00, 213.25it/s, loss=3.4]\n"
          ]
        },
        {
          "name": "stdout",
          "output_type": "stream",
          "text": [
            "Epoch [1342/3000]: Train loss: 1.9981, Valid loss: 2.4939\n"
          ]
        },
        {
          "name": "stderr",
          "output_type": "stream",
          "text": [
            "Epoch [1343/3000]: 100%|██████████| 9/9 [00:00<00:00, 298.99it/s, loss=2.63]\n"
          ]
        },
        {
          "name": "stdout",
          "output_type": "stream",
          "text": [
            "Epoch [1343/3000]: Train loss: 2.0044, Valid loss: 2.2669\n"
          ]
        },
        {
          "name": "stderr",
          "output_type": "stream",
          "text": [
            "Epoch [1344/3000]: 100%|██████████| 9/9 [00:00<00:00, 236.03it/s, loss=3]\n"
          ]
        },
        {
          "name": "stdout",
          "output_type": "stream",
          "text": [
            "Epoch [1344/3000]: Train loss: 2.6230, Valid loss: 4.7419\n"
          ]
        },
        {
          "name": "stderr",
          "output_type": "stream",
          "text": [
            "Epoch [1345/3000]: 100%|██████████| 9/9 [00:00<00:00, 331.69it/s, loss=2.94]\n"
          ]
        },
        {
          "name": "stdout",
          "output_type": "stream",
          "text": [
            "Epoch [1345/3000]: Train loss: 3.0231, Valid loss: 4.6482\n"
          ]
        },
        {
          "name": "stderr",
          "output_type": "stream",
          "text": [
            "Epoch [1346/3000]: 100%|██████████| 9/9 [00:00<00:00, 337.03it/s, loss=1.8]\n"
          ]
        },
        {
          "name": "stdout",
          "output_type": "stream",
          "text": [
            "Epoch [1346/3000]: Train loss: 3.2724, Valid loss: 4.2765\n"
          ]
        },
        {
          "name": "stderr",
          "output_type": "stream",
          "text": [
            "Epoch [1347/3000]: 100%|██████████| 9/9 [00:00<00:00, 333.71it/s, loss=1.58]\n"
          ]
        },
        {
          "name": "stdout",
          "output_type": "stream",
          "text": [
            "Epoch [1347/3000]: Train loss: 2.6906, Valid loss: 2.6255\n"
          ]
        },
        {
          "name": "stderr",
          "output_type": "stream",
          "text": [
            "Epoch [1348/3000]: 100%|██████████| 9/9 [00:00<00:00, 413.49it/s, loss=1.75]\n"
          ]
        },
        {
          "name": "stdout",
          "output_type": "stream",
          "text": [
            "Epoch [1348/3000]: Train loss: 2.2240, Valid loss: 2.2032\n"
          ]
        },
        {
          "name": "stderr",
          "output_type": "stream",
          "text": [
            "Epoch [1349/3000]: 100%|██████████| 9/9 [00:00<00:00, 137.07it/s, loss=1.2]\n"
          ]
        },
        {
          "name": "stdout",
          "output_type": "stream",
          "text": [
            "Epoch [1349/3000]: Train loss: 1.9736, Valid loss: 2.2555\n"
          ]
        },
        {
          "name": "stderr",
          "output_type": "stream",
          "text": [
            "Epoch [1350/3000]: 100%|██████████| 9/9 [00:00<00:00, 493.51it/s, loss=2.66]\n"
          ]
        },
        {
          "name": "stdout",
          "output_type": "stream",
          "text": [
            "Epoch [1350/3000]: Train loss: 2.1340, Valid loss: 2.4344\n"
          ]
        },
        {
          "name": "stderr",
          "output_type": "stream",
          "text": [
            "Epoch [1351/3000]: 100%|██████████| 9/9 [00:00<00:00, 522.13it/s, loss=3.76]\n"
          ]
        },
        {
          "name": "stdout",
          "output_type": "stream",
          "text": [
            "Epoch [1351/3000]: Train loss: 3.1795, Valid loss: 3.5213\n"
          ]
        },
        {
          "name": "stderr",
          "output_type": "stream",
          "text": [
            "Epoch [1352/3000]: 100%|██████████| 9/9 [00:00<00:00, 488.42it/s, loss=2.02]\n"
          ]
        },
        {
          "name": "stdout",
          "output_type": "stream",
          "text": [
            "Epoch [1352/3000]: Train loss: 2.7279, Valid loss: 2.4759\n"
          ]
        },
        {
          "name": "stderr",
          "output_type": "stream",
          "text": [
            "Epoch [1353/3000]: 100%|██████████| 9/9 [00:00<00:00, 294.83it/s, loss=1.47]\n"
          ]
        },
        {
          "name": "stdout",
          "output_type": "stream",
          "text": [
            "Epoch [1353/3000]: Train loss: 1.9134, Valid loss: 1.9301\n"
          ]
        },
        {
          "name": "stderr",
          "output_type": "stream",
          "text": [
            "Epoch [1354/3000]: 100%|██████████| 9/9 [00:00<00:00, 322.64it/s, loss=1.86]\n"
          ]
        },
        {
          "name": "stdout",
          "output_type": "stream",
          "text": [
            "Epoch [1354/3000]: Train loss: 1.7823, Valid loss: 2.4015\n"
          ]
        },
        {
          "name": "stderr",
          "output_type": "stream",
          "text": [
            "Epoch [1355/3000]: 100%|██████████| 9/9 [00:00<00:00, 353.25it/s, loss=1.99]\n"
          ]
        },
        {
          "name": "stdout",
          "output_type": "stream",
          "text": [
            "Epoch [1355/3000]: Train loss: 1.8791, Valid loss: 2.6594\n"
          ]
        },
        {
          "name": "stderr",
          "output_type": "stream",
          "text": [
            "Epoch [1356/3000]: 100%|██████████| 9/9 [00:00<00:00, 303.23it/s, loss=1.97]\n"
          ]
        },
        {
          "name": "stdout",
          "output_type": "stream",
          "text": [
            "Epoch [1356/3000]: Train loss: 1.9593, Valid loss: 1.9182\n"
          ]
        },
        {
          "name": "stderr",
          "output_type": "stream",
          "text": [
            "Epoch [1357/3000]: 100%|██████████| 9/9 [00:00<00:00, 115.39it/s, loss=2.23]\n"
          ]
        },
        {
          "name": "stdout",
          "output_type": "stream",
          "text": [
            "Epoch [1357/3000]: Train loss: 1.8367, Valid loss: 2.1710\n"
          ]
        },
        {
          "name": "stderr",
          "output_type": "stream",
          "text": [
            "Epoch [1358/3000]: 100%|██████████| 9/9 [00:00<00:00, 406.39it/s, loss=2.17]\n"
          ]
        },
        {
          "name": "stdout",
          "output_type": "stream",
          "text": [
            "Epoch [1358/3000]: Train loss: 1.8602, Valid loss: 2.2570\n"
          ]
        },
        {
          "name": "stderr",
          "output_type": "stream",
          "text": [
            "Epoch [1359/3000]: 100%|██████████| 9/9 [00:00<00:00, 493.28it/s, loss=1.9]\n"
          ]
        },
        {
          "name": "stdout",
          "output_type": "stream",
          "text": [
            "Epoch [1359/3000]: Train loss: 1.9747, Valid loss: 2.0859\n"
          ]
        },
        {
          "name": "stderr",
          "output_type": "stream",
          "text": [
            "Epoch [1360/3000]: 100%|██████████| 9/9 [00:00<00:00, 468.78it/s, loss=1.74]\n"
          ]
        },
        {
          "name": "stdout",
          "output_type": "stream",
          "text": [
            "Epoch [1360/3000]: Train loss: 1.8590, Valid loss: 2.4451\n"
          ]
        },
        {
          "name": "stderr",
          "output_type": "stream",
          "text": [
            "Epoch [1361/3000]: 100%|██████████| 9/9 [00:00<00:00, 337.08it/s, loss=1.32]\n"
          ]
        },
        {
          "name": "stdout",
          "output_type": "stream",
          "text": [
            "Epoch [1361/3000]: Train loss: 1.8579, Valid loss: 2.5826\n"
          ]
        },
        {
          "name": "stderr",
          "output_type": "stream",
          "text": [
            "Epoch [1362/3000]: 100%|██████████| 9/9 [00:00<00:00, 461.68it/s, loss=2.18]\n"
          ]
        },
        {
          "name": "stdout",
          "output_type": "stream",
          "text": [
            "Epoch [1362/3000]: Train loss: 1.9146, Valid loss: 2.9848\n"
          ]
        },
        {
          "name": "stderr",
          "output_type": "stream",
          "text": [
            "Epoch [1363/3000]: 100%|██████████| 9/9 [00:00<00:00, 439.09it/s, loss=1.46]\n"
          ]
        },
        {
          "name": "stdout",
          "output_type": "stream",
          "text": [
            "Epoch [1363/3000]: Train loss: 1.9883, Valid loss: 2.4105\n"
          ]
        },
        {
          "name": "stderr",
          "output_type": "stream",
          "text": [
            "Epoch [1364/3000]: 100%|██████████| 9/9 [00:00<00:00, 405.97it/s, loss=3.38]\n"
          ]
        },
        {
          "name": "stdout",
          "output_type": "stream",
          "text": [
            "Epoch [1364/3000]: Train loss: 2.2819, Valid loss: 1.8835\n"
          ]
        },
        {
          "name": "stderr",
          "output_type": "stream",
          "text": [
            "Epoch [1365/3000]: 100%|██████████| 9/9 [00:00<00:00, 109.72it/s, loss=3.08]\n"
          ]
        },
        {
          "name": "stdout",
          "output_type": "stream",
          "text": [
            "Epoch [1365/3000]: Train loss: 2.1801, Valid loss: 1.8119\n"
          ]
        },
        {
          "name": "stderr",
          "output_type": "stream",
          "text": [
            "Epoch [1366/3000]: 100%|██████████| 9/9 [00:00<00:00, 376.74it/s, loss=1.7]"
          ]
        },
        {
          "name": "stdout",
          "output_type": "stream",
          "text": [
            "Epoch [1366/3000]: Train loss: 2.1516, Valid loss: 1.9787\n"
          ]
        },
        {
          "name": "stderr",
          "output_type": "stream",
          "text": [
            "\n",
            "Epoch [1367/3000]: 100%|██████████| 9/9 [00:00<00:00, 443.59it/s, loss=1.57]\n"
          ]
        },
        {
          "name": "stdout",
          "output_type": "stream",
          "text": [
            "Epoch [1367/3000]: Train loss: 2.1831, Valid loss: 3.0499\n"
          ]
        },
        {
          "name": "stderr",
          "output_type": "stream",
          "text": [
            "Epoch [1368/3000]: 100%|██████████| 9/9 [00:00<00:00, 476.72it/s, loss=1.51]\n"
          ]
        },
        {
          "name": "stdout",
          "output_type": "stream",
          "text": [
            "Epoch [1368/3000]: Train loss: 2.2140, Valid loss: 2.1067\n"
          ]
        },
        {
          "name": "stderr",
          "output_type": "stream",
          "text": [
            "Epoch [1369/3000]: 100%|██████████| 9/9 [00:00<00:00, 276.98it/s, loss=2.84]\n"
          ]
        },
        {
          "name": "stdout",
          "output_type": "stream",
          "text": [
            "Epoch [1369/3000]: Train loss: 2.0082, Valid loss: 1.7960\n"
          ]
        },
        {
          "name": "stderr",
          "output_type": "stream",
          "text": [
            "Epoch [1370/3000]: 100%|██████████| 9/9 [00:00<00:00, 382.29it/s, loss=1.2]\n"
          ]
        },
        {
          "name": "stdout",
          "output_type": "stream",
          "text": [
            "Epoch [1370/3000]: Train loss: 1.8047, Valid loss: 1.9713\n"
          ]
        },
        {
          "name": "stderr",
          "output_type": "stream",
          "text": [
            "Epoch [1371/3000]: 100%|██████████| 9/9 [00:00<00:00, 350.83it/s, loss=1.67]\n"
          ]
        },
        {
          "name": "stdout",
          "output_type": "stream",
          "text": [
            "Epoch [1371/3000]: Train loss: 1.7570, Valid loss: 1.8277\n"
          ]
        },
        {
          "name": "stderr",
          "output_type": "stream",
          "text": [
            "Epoch [1372/3000]: 100%|██████████| 9/9 [00:00<00:00, 402.02it/s, loss=2.7]\n"
          ]
        },
        {
          "name": "stdout",
          "output_type": "stream",
          "text": [
            "Epoch [1372/3000]: Train loss: 1.9590, Valid loss: 3.1817\n"
          ]
        },
        {
          "name": "stderr",
          "output_type": "stream",
          "text": [
            "Epoch [1373/3000]: 100%|██████████| 9/9 [00:00<00:00, 121.16it/s, loss=2.19]\n"
          ]
        },
        {
          "name": "stdout",
          "output_type": "stream",
          "text": [
            "Epoch [1373/3000]: Train loss: 2.0269, Valid loss: 1.8357\n"
          ]
        },
        {
          "name": "stderr",
          "output_type": "stream",
          "text": [
            "Epoch [1374/3000]: 100%|██████████| 9/9 [00:00<00:00, 411.32it/s, loss=2.63]\n"
          ]
        },
        {
          "name": "stdout",
          "output_type": "stream",
          "text": [
            "Epoch [1374/3000]: Train loss: 2.1022, Valid loss: 2.1229\n"
          ]
        },
        {
          "name": "stderr",
          "output_type": "stream",
          "text": [
            "Epoch [1375/3000]: 100%|██████████| 9/9 [00:00<00:00, 442.78it/s, loss=2.06]\n"
          ]
        },
        {
          "name": "stdout",
          "output_type": "stream",
          "text": [
            "Epoch [1375/3000]: Train loss: 2.0875, Valid loss: 2.1904\n"
          ]
        },
        {
          "name": "stderr",
          "output_type": "stream",
          "text": [
            "Epoch [1376/3000]: 100%|██████████| 9/9 [00:00<00:00, 402.41it/s, loss=2.12]\n"
          ]
        },
        {
          "name": "stdout",
          "output_type": "stream",
          "text": [
            "Epoch [1376/3000]: Train loss: 1.9900, Valid loss: 2.6628\n"
          ]
        },
        {
          "name": "stderr",
          "output_type": "stream",
          "text": [
            "Epoch [1377/3000]: 100%|██████████| 9/9 [00:00<00:00, 280.82it/s, loss=2.5]\n"
          ]
        },
        {
          "name": "stdout",
          "output_type": "stream",
          "text": [
            "Epoch [1377/3000]: Train loss: 2.1156, Valid loss: 2.5720\n"
          ]
        },
        {
          "name": "stderr",
          "output_type": "stream",
          "text": [
            "Epoch [1378/3000]: 100%|██████████| 9/9 [00:00<00:00, 410.51it/s, loss=2.11]\n"
          ]
        },
        {
          "name": "stdout",
          "output_type": "stream",
          "text": [
            "Epoch [1378/3000]: Train loss: 1.9714, Valid loss: 3.6128\n"
          ]
        },
        {
          "name": "stderr",
          "output_type": "stream",
          "text": [
            "Epoch [1379/3000]: 100%|██████████| 9/9 [00:00<00:00, 312.33it/s, loss=3.51]\n"
          ]
        },
        {
          "name": "stdout",
          "output_type": "stream",
          "text": [
            "Epoch [1379/3000]: Train loss: 2.7142, Valid loss: 2.1836\n"
          ]
        },
        {
          "name": "stderr",
          "output_type": "stream",
          "text": [
            "Epoch [1380/3000]: 100%|██████████| 9/9 [00:00<00:00, 340.95it/s, loss=3.44]\n"
          ]
        },
        {
          "name": "stdout",
          "output_type": "stream",
          "text": [
            "Epoch [1380/3000]: Train loss: 2.7036, Valid loss: 1.9893\n"
          ]
        },
        {
          "name": "stderr",
          "output_type": "stream",
          "text": [
            "Epoch [1381/3000]: 100%|██████████| 9/9 [00:00<00:00, 122.40it/s, loss=3.58]\n"
          ]
        },
        {
          "name": "stdout",
          "output_type": "stream",
          "text": [
            "Epoch [1381/3000]: Train loss: 2.8814, Valid loss: 3.4190\n"
          ]
        },
        {
          "name": "stderr",
          "output_type": "stream",
          "text": [
            "Epoch [1382/3000]: 100%|██████████| 9/9 [00:00<00:00, 422.76it/s, loss=2.5]\n"
          ]
        },
        {
          "name": "stdout",
          "output_type": "stream",
          "text": [
            "Epoch [1382/3000]: Train loss: 2.5915, Valid loss: 2.0771\n"
          ]
        },
        {
          "name": "stderr",
          "output_type": "stream",
          "text": [
            "Epoch [1383/3000]: 100%|██████████| 9/9 [00:00<00:00, 476.82it/s, loss=2.45]\n"
          ]
        },
        {
          "name": "stdout",
          "output_type": "stream",
          "text": [
            "Epoch [1383/3000]: Train loss: 2.0208, Valid loss: 2.0015\n"
          ]
        },
        {
          "name": "stderr",
          "output_type": "stream",
          "text": [
            "Epoch [1384/3000]: 100%|██████████| 9/9 [00:00<00:00, 493.10it/s, loss=1.72]\n"
          ]
        },
        {
          "name": "stdout",
          "output_type": "stream",
          "text": [
            "Epoch [1384/3000]: Train loss: 1.8881, Valid loss: 2.2874\n"
          ]
        },
        {
          "name": "stderr",
          "output_type": "stream",
          "text": [
            "Epoch [1385/3000]: 100%|██████████| 9/9 [00:00<00:00, 276.28it/s, loss=2.53]\n"
          ]
        },
        {
          "name": "stdout",
          "output_type": "stream",
          "text": [
            "Epoch [1385/3000]: Train loss: 2.2311, Valid loss: 2.1396\n"
          ]
        },
        {
          "name": "stderr",
          "output_type": "stream",
          "text": [
            "Epoch [1386/3000]: 100%|██████████| 9/9 [00:00<00:00, 255.65it/s, loss=1.89]\n"
          ]
        },
        {
          "name": "stdout",
          "output_type": "stream",
          "text": [
            "Epoch [1386/3000]: Train loss: 1.8644, Valid loss: 2.5891\n"
          ]
        },
        {
          "name": "stderr",
          "output_type": "stream",
          "text": [
            "Epoch [1387/3000]: 100%|██████████| 9/9 [00:00<00:00, 274.97it/s, loss=1.77]\n"
          ]
        },
        {
          "name": "stdout",
          "output_type": "stream",
          "text": [
            "Epoch [1387/3000]: Train loss: 2.0153, Valid loss: 2.8048\n"
          ]
        },
        {
          "name": "stderr",
          "output_type": "stream",
          "text": [
            "Epoch [1388/3000]: 100%|██████████| 9/9 [00:00<00:00, 243.72it/s, loss=2.12]\n"
          ]
        },
        {
          "name": "stdout",
          "output_type": "stream",
          "text": [
            "Epoch [1388/3000]: Train loss: 2.3156, Valid loss: 2.3165\n"
          ]
        },
        {
          "name": "stderr",
          "output_type": "stream",
          "text": [
            "Epoch [1389/3000]: 100%|██████████| 9/9 [00:00<00:00, 339.93it/s, loss=1.67]\n"
          ]
        },
        {
          "name": "stdout",
          "output_type": "stream",
          "text": [
            "Epoch [1389/3000]: Train loss: 1.8506, Valid loss: 2.3364\n"
          ]
        },
        {
          "name": "stderr",
          "output_type": "stream",
          "text": [
            "Epoch [1390/3000]: 100%|██████████| 9/9 [00:00<00:00, 477.51it/s, loss=2.38]\n"
          ]
        },
        {
          "name": "stdout",
          "output_type": "stream",
          "text": [
            "Epoch [1390/3000]: Train loss: 1.8825, Valid loss: 2.3253\n"
          ]
        },
        {
          "name": "stderr",
          "output_type": "stream",
          "text": [
            "Epoch [1391/3000]: 100%|██████████| 9/9 [00:00<00:00, 493.31it/s, loss=1.65]\n"
          ]
        },
        {
          "name": "stdout",
          "output_type": "stream",
          "text": [
            "Epoch [1391/3000]: Train loss: 1.9509, Valid loss: 2.0716\n"
          ]
        },
        {
          "name": "stderr",
          "output_type": "stream",
          "text": [
            "Epoch [1392/3000]: 100%|██████████| 9/9 [00:00<00:00, 417.44it/s, loss=2.06]\n"
          ]
        },
        {
          "name": "stdout",
          "output_type": "stream",
          "text": [
            "Epoch [1392/3000]: Train loss: 1.9168, Valid loss: 1.9899\n"
          ]
        },
        {
          "name": "stderr",
          "output_type": "stream",
          "text": [
            "Epoch [1393/3000]: 100%|██████████| 9/9 [00:00<00:00, 379.09it/s, loss=2.25]\n"
          ]
        },
        {
          "name": "stdout",
          "output_type": "stream",
          "text": [
            "Epoch [1393/3000]: Train loss: 1.9039, Valid loss: 2.0278\n"
          ]
        },
        {
          "name": "stderr",
          "output_type": "stream",
          "text": [
            "Epoch [1394/3000]: 100%|██████████| 9/9 [00:00<00:00, 132.44it/s, loss=2.02]\n"
          ]
        },
        {
          "name": "stdout",
          "output_type": "stream",
          "text": [
            "Epoch [1394/3000]: Train loss: 1.9189, Valid loss: 2.7439\n"
          ]
        },
        {
          "name": "stderr",
          "output_type": "stream",
          "text": [
            "Epoch [1395/3000]: 100%|██████████| 9/9 [00:00<00:00, 394.98it/s, loss=3.18]\n"
          ]
        },
        {
          "name": "stdout",
          "output_type": "stream",
          "text": [
            "Epoch [1395/3000]: Train loss: 2.4844, Valid loss: 3.7782\n"
          ]
        },
        {
          "name": "stderr",
          "output_type": "stream",
          "text": [
            "Epoch [1396/3000]: 100%|██████████| 9/9 [00:00<00:00, 424.45it/s, loss=1.89]\n"
          ]
        },
        {
          "name": "stdout",
          "output_type": "stream",
          "text": [
            "Epoch [1396/3000]: Train loss: 2.6646, Valid loss: 2.6181\n"
          ]
        },
        {
          "name": "stderr",
          "output_type": "stream",
          "text": [
            "Epoch [1397/3000]: 100%|██████████| 9/9 [00:00<00:00, 444.35it/s, loss=1.69]\n"
          ]
        },
        {
          "name": "stdout",
          "output_type": "stream",
          "text": [
            "Epoch [1397/3000]: Train loss: 1.9516, Valid loss: 2.0557\n"
          ]
        },
        {
          "name": "stderr",
          "output_type": "stream",
          "text": [
            "Epoch [1398/3000]: 100%|██████████| 9/9 [00:00<00:00, 569.34it/s, loss=1.81]\n"
          ]
        },
        {
          "name": "stdout",
          "output_type": "stream",
          "text": [
            "Epoch [1398/3000]: Train loss: 1.8133, Valid loss: 1.7695\n"
          ]
        },
        {
          "name": "stderr",
          "output_type": "stream",
          "text": [
            "Epoch [1399/3000]: 100%|██████████| 9/9 [00:00<00:00, 436.11it/s, loss=1.92]\n"
          ]
        },
        {
          "name": "stdout",
          "output_type": "stream",
          "text": [
            "Epoch [1399/3000]: Train loss: 1.7706, Valid loss: 2.1121\n"
          ]
        },
        {
          "name": "stderr",
          "output_type": "stream",
          "text": [
            "Epoch [1400/3000]: 100%|██████████| 9/9 [00:00<00:00, 455.07it/s, loss=2.07]\n"
          ]
        },
        {
          "name": "stdout",
          "output_type": "stream",
          "text": [
            "Epoch [1400/3000]: Train loss: 1.8930, Valid loss: 2.4784\n"
          ]
        },
        {
          "name": "stderr",
          "output_type": "stream",
          "text": [
            "Epoch [1401/3000]: 100%|██████████| 9/9 [00:00<00:00, 566.47it/s, loss=1.51]\n"
          ]
        },
        {
          "name": "stdout",
          "output_type": "stream",
          "text": [
            "Epoch [1401/3000]: Train loss: 2.0908, Valid loss: 4.3254\n"
          ]
        },
        {
          "name": "stderr",
          "output_type": "stream",
          "text": [
            "Epoch [1402/3000]: 100%|██████████| 9/9 [00:00<00:00, 258.68it/s, loss=2.16]\n"
          ]
        },
        {
          "name": "stdout",
          "output_type": "stream",
          "text": [
            "Epoch [1402/3000]: Train loss: 2.6162, Valid loss: 2.2479\n"
          ]
        },
        {
          "name": "stderr",
          "output_type": "stream",
          "text": [
            "Epoch [1403/3000]: 100%|██████████| 9/9 [00:00<00:00, 457.21it/s, loss=1.67]\n"
          ]
        },
        {
          "name": "stdout",
          "output_type": "stream",
          "text": [
            "Epoch [1403/3000]: Train loss: 2.4168, Valid loss: 2.1793\n"
          ]
        },
        {
          "name": "stderr",
          "output_type": "stream",
          "text": [
            "Epoch [1404/3000]: 100%|██████████| 9/9 [00:00<00:00, 286.29it/s, loss=2.56]\n"
          ]
        },
        {
          "name": "stdout",
          "output_type": "stream",
          "text": [
            "Epoch [1404/3000]: Train loss: 2.1050, Valid loss: 2.2651\n"
          ]
        },
        {
          "name": "stderr",
          "output_type": "stream",
          "text": [
            "Epoch [1405/3000]: 100%|██████████| 9/9 [00:00<00:00, 307.68it/s, loss=2.01]\n"
          ]
        },
        {
          "name": "stdout",
          "output_type": "stream",
          "text": [
            "Epoch [1405/3000]: Train loss: 2.1849, Valid loss: 3.6395\n"
          ]
        },
        {
          "name": "stderr",
          "output_type": "stream",
          "text": [
            "Epoch [1406/3000]: 100%|██████████| 9/9 [00:00<00:00, 261.63it/s, loss=1.86]\n"
          ]
        },
        {
          "name": "stdout",
          "output_type": "stream",
          "text": [
            "Epoch [1406/3000]: Train loss: 2.3635, Valid loss: 1.9981\n"
          ]
        },
        {
          "name": "stderr",
          "output_type": "stream",
          "text": [
            "Epoch [1407/3000]: 100%|██████████| 9/9 [00:00<00:00, 395.62it/s, loss=4.32]\n"
          ]
        },
        {
          "name": "stdout",
          "output_type": "stream",
          "text": [
            "Epoch [1407/3000]: Train loss: 2.2470, Valid loss: 1.8539\n"
          ]
        },
        {
          "name": "stderr",
          "output_type": "stream",
          "text": [
            "Epoch [1408/3000]: 100%|██████████| 9/9 [00:00<00:00, 282.07it/s, loss=1.66]\n"
          ]
        },
        {
          "name": "stdout",
          "output_type": "stream",
          "text": [
            "Epoch [1408/3000]: Train loss: 2.4335, Valid loss: 2.9351\n"
          ]
        },
        {
          "name": "stderr",
          "output_type": "stream",
          "text": [
            "Epoch [1409/3000]: 100%|██████████| 9/9 [00:00<00:00, 549.26it/s, loss=1.38]\n"
          ]
        },
        {
          "name": "stdout",
          "output_type": "stream",
          "text": [
            "Epoch [1409/3000]: Train loss: 1.8657, Valid loss: 1.9819\n"
          ]
        },
        {
          "name": "stderr",
          "output_type": "stream",
          "text": [
            "Epoch [1410/3000]: 100%|██████████| 9/9 [00:00<00:00, 388.30it/s, loss=1.59]\n"
          ]
        },
        {
          "name": "stdout",
          "output_type": "stream",
          "text": [
            "Epoch [1410/3000]: Train loss: 1.7640, Valid loss: 2.4188\n"
          ]
        },
        {
          "name": "stderr",
          "output_type": "stream",
          "text": [
            "Epoch [1411/3000]: 100%|██████████| 9/9 [00:00<00:00, 137.59it/s, loss=2.1]\n"
          ]
        },
        {
          "name": "stdout",
          "output_type": "stream",
          "text": [
            "Epoch [1411/3000]: Train loss: 1.8445, Valid loss: 2.5954\n"
          ]
        },
        {
          "name": "stderr",
          "output_type": "stream",
          "text": [
            "Epoch [1412/3000]: 100%|██████████| 9/9 [00:00<00:00, 514.99it/s, loss=1.38]\n"
          ]
        },
        {
          "name": "stdout",
          "output_type": "stream",
          "text": [
            "Epoch [1412/3000]: Train loss: 1.8545, Valid loss: 2.6449\n"
          ]
        },
        {
          "name": "stderr",
          "output_type": "stream",
          "text": [
            "Epoch [1413/3000]: 100%|██████████| 9/9 [00:00<00:00, 501.47it/s, loss=2.66]\n"
          ]
        },
        {
          "name": "stdout",
          "output_type": "stream",
          "text": [
            "Epoch [1413/3000]: Train loss: 1.9233, Valid loss: 2.5035\n"
          ]
        },
        {
          "name": "stderr",
          "output_type": "stream",
          "text": [
            "Epoch [1414/3000]: 100%|██████████| 9/9 [00:00<00:00, 366.47it/s, loss=1.52]\n"
          ]
        },
        {
          "name": "stdout",
          "output_type": "stream",
          "text": [
            "Epoch [1414/3000]: Train loss: 2.0908, Valid loss: 3.1408\n"
          ]
        },
        {
          "name": "stderr",
          "output_type": "stream",
          "text": [
            "Epoch [1415/3000]: 100%|██████████| 9/9 [00:00<00:00, 356.79it/s, loss=1.75]\n"
          ]
        },
        {
          "name": "stdout",
          "output_type": "stream",
          "text": [
            "Epoch [1415/3000]: Train loss: 2.3063, Valid loss: 1.9943\n"
          ]
        },
        {
          "name": "stderr",
          "output_type": "stream",
          "text": [
            "Epoch [1416/3000]: 100%|██████████| 9/9 [00:00<00:00, 381.49it/s, loss=2.19]\n"
          ]
        },
        {
          "name": "stdout",
          "output_type": "stream",
          "text": [
            "Epoch [1416/3000]: Train loss: 2.0466, Valid loss: 2.3761\n"
          ]
        },
        {
          "name": "stderr",
          "output_type": "stream",
          "text": [
            "Epoch [1417/3000]: 100%|██████████| 9/9 [00:00<00:00, 492.36it/s, loss=2.43]\n"
          ]
        },
        {
          "name": "stdout",
          "output_type": "stream",
          "text": [
            "Epoch [1417/3000]: Train loss: 2.1408, Valid loss: 2.2574\n"
          ]
        },
        {
          "name": "stderr",
          "output_type": "stream",
          "text": [
            "Epoch [1418/3000]: 100%|██████████| 9/9 [00:00<00:00, 155.34it/s, loss=2.42]\n"
          ]
        },
        {
          "name": "stdout",
          "output_type": "stream",
          "text": [
            "Epoch [1418/3000]: Train loss: 1.9442, Valid loss: 2.7314\n"
          ]
        },
        {
          "name": "stderr",
          "output_type": "stream",
          "text": [
            "Epoch [1419/3000]: 100%|██████████| 9/9 [00:00<00:00, 231.29it/s, loss=1.65]\n"
          ]
        },
        {
          "name": "stdout",
          "output_type": "stream",
          "text": [
            "Epoch [1419/3000]: Train loss: 1.9196, Valid loss: 2.9008\n"
          ]
        },
        {
          "name": "stderr",
          "output_type": "stream",
          "text": [
            "Epoch [1420/3000]: 100%|██████████| 9/9 [00:00<00:00, 255.25it/s, loss=2.39]\n"
          ]
        },
        {
          "name": "stdout",
          "output_type": "stream",
          "text": [
            "Epoch [1420/3000]: Train loss: 2.3331, Valid loss: 2.6912\n"
          ]
        },
        {
          "name": "stderr",
          "output_type": "stream",
          "text": [
            "Epoch [1421/3000]: 100%|██████████| 9/9 [00:00<00:00, 339.84it/s, loss=1.46]\n"
          ]
        },
        {
          "name": "stdout",
          "output_type": "stream",
          "text": [
            "Epoch [1421/3000]: Train loss: 1.9575, Valid loss: 2.1324\n"
          ]
        },
        {
          "name": "stderr",
          "output_type": "stream",
          "text": [
            "Epoch [1422/3000]: 100%|██████████| 9/9 [00:00<00:00, 360.34it/s, loss=2.34]\n"
          ]
        },
        {
          "name": "stdout",
          "output_type": "stream",
          "text": [
            "Epoch [1422/3000]: Train loss: 1.9149, Valid loss: 2.5410\n"
          ]
        },
        {
          "name": "stderr",
          "output_type": "stream",
          "text": [
            "Epoch [1423/3000]: 100%|██████████| 9/9 [00:00<00:00, 432.92it/s, loss=3.17]\n"
          ]
        },
        {
          "name": "stdout",
          "output_type": "stream",
          "text": [
            "Epoch [1423/3000]: Train loss: 2.1962, Valid loss: 1.7735\n"
          ]
        },
        {
          "name": "stderr",
          "output_type": "stream",
          "text": [
            "Epoch [1424/3000]: 100%|██████████| 9/9 [00:00<00:00, 400.02it/s, loss=1.97]\n"
          ]
        },
        {
          "name": "stdout",
          "output_type": "stream",
          "text": [
            "Epoch [1424/3000]: Train loss: 3.0794, Valid loss: 2.5185\n"
          ]
        },
        {
          "name": "stderr",
          "output_type": "stream",
          "text": [
            "Epoch [1425/3000]: 100%|██████████| 9/9 [00:00<00:00, 428.49it/s, loss=1.84]\n"
          ]
        },
        {
          "name": "stdout",
          "output_type": "stream",
          "text": [
            "Epoch [1425/3000]: Train loss: 1.8892, Valid loss: 2.6116\n"
          ]
        },
        {
          "name": "stderr",
          "output_type": "stream",
          "text": [
            "Epoch [1426/3000]: 100%|██████████| 9/9 [00:00<00:00, 351.41it/s, loss=2.08]\n"
          ]
        },
        {
          "name": "stdout",
          "output_type": "stream",
          "text": [
            "Epoch [1426/3000]: Train loss: 2.0885, Valid loss: 2.0412\n"
          ]
        },
        {
          "name": "stderr",
          "output_type": "stream",
          "text": [
            "Epoch [1427/3000]: 100%|██████████| 9/9 [00:00<00:00, 420.54it/s, loss=2.09]\n"
          ]
        },
        {
          "name": "stdout",
          "output_type": "stream",
          "text": [
            "Epoch [1427/3000]: Train loss: 2.0052, Valid loss: 2.7551\n"
          ]
        },
        {
          "name": "stderr",
          "output_type": "stream",
          "text": [
            "Epoch [1428/3000]: 100%|██████████| 9/9 [00:00<00:00, 393.79it/s, loss=1.89]\n"
          ]
        },
        {
          "name": "stdout",
          "output_type": "stream",
          "text": [
            "Epoch [1428/3000]: Train loss: 2.1304, Valid loss: 2.4822\n"
          ]
        },
        {
          "name": "stderr",
          "output_type": "stream",
          "text": [
            "Epoch [1429/3000]: 100%|██████████| 9/9 [00:00<00:00, 427.64it/s, loss=2.02]\n"
          ]
        },
        {
          "name": "stdout",
          "output_type": "stream",
          "text": [
            "Epoch [1429/3000]: Train loss: 2.1211, Valid loss: 2.0479\n"
          ]
        },
        {
          "name": "stderr",
          "output_type": "stream",
          "text": [
            "Epoch [1430/3000]: 100%|██████████| 9/9 [00:00<00:00, 309.75it/s, loss=1.59]\n"
          ]
        },
        {
          "name": "stdout",
          "output_type": "stream",
          "text": [
            "Epoch [1430/3000]: Train loss: 1.8468, Valid loss: 1.8606\n"
          ]
        },
        {
          "name": "stderr",
          "output_type": "stream",
          "text": [
            "Epoch [1431/3000]: 100%|██████████| 9/9 [00:00<00:00, 251.30it/s, loss=1.76]\n"
          ]
        },
        {
          "name": "stdout",
          "output_type": "stream",
          "text": [
            "Epoch [1431/3000]: Train loss: 2.0083, Valid loss: 2.1296\n"
          ]
        },
        {
          "name": "stderr",
          "output_type": "stream",
          "text": [
            "Epoch [1432/3000]: 100%|██████████| 9/9 [00:00<00:00, 473.91it/s, loss=1.55]\n"
          ]
        },
        {
          "name": "stdout",
          "output_type": "stream",
          "text": [
            "Epoch [1432/3000]: Train loss: 1.7226, Valid loss: 1.9923\n"
          ]
        },
        {
          "name": "stderr",
          "output_type": "stream",
          "text": [
            "Epoch [1433/3000]: 100%|██████████| 9/9 [00:00<00:00, 378.23it/s, loss=2.02]\n"
          ]
        },
        {
          "name": "stdout",
          "output_type": "stream",
          "text": [
            "Epoch [1433/3000]: Train loss: 1.8956, Valid loss: 2.1762\n"
          ]
        },
        {
          "name": "stderr",
          "output_type": "stream",
          "text": [
            "Epoch [1434/3000]: 100%|██████████| 9/9 [00:00<00:00, 451.16it/s, loss=1.95]\n"
          ]
        },
        {
          "name": "stdout",
          "output_type": "stream",
          "text": [
            "Epoch [1434/3000]: Train loss: 1.8417, Valid loss: 2.3884\n"
          ]
        },
        {
          "name": "stderr",
          "output_type": "stream",
          "text": [
            "Epoch [1435/3000]: 100%|██████████| 9/9 [00:00<00:00, 436.28it/s, loss=2.21]\n"
          ]
        },
        {
          "name": "stdout",
          "output_type": "stream",
          "text": [
            "Epoch [1435/3000]: Train loss: 2.2539, Valid loss: 2.0169\n"
          ]
        },
        {
          "name": "stderr",
          "output_type": "stream",
          "text": [
            "Epoch [1436/3000]: 100%|██████████| 9/9 [00:00<00:00, 370.83it/s, loss=2.31]\n"
          ]
        },
        {
          "name": "stdout",
          "output_type": "stream",
          "text": [
            "Epoch [1436/3000]: Train loss: 2.1460, Valid loss: 2.5997\n"
          ]
        },
        {
          "name": "stderr",
          "output_type": "stream",
          "text": [
            "Epoch [1437/3000]: 100%|██████████| 9/9 [00:00<00:00, 206.82it/s, loss=2.38]\n"
          ]
        },
        {
          "name": "stdout",
          "output_type": "stream",
          "text": [
            "Epoch [1437/3000]: Train loss: 2.1498, Valid loss: 3.5684\n"
          ]
        },
        {
          "name": "stderr",
          "output_type": "stream",
          "text": [
            "Epoch [1438/3000]: 100%|██████████| 9/9 [00:00<00:00, 129.91it/s, loss=2.52]\n"
          ]
        },
        {
          "name": "stdout",
          "output_type": "stream",
          "text": [
            "Epoch [1438/3000]: Train loss: 2.5756, Valid loss: 2.2955\n"
          ]
        },
        {
          "name": "stderr",
          "output_type": "stream",
          "text": [
            "Epoch [1439/3000]: 100%|██████████| 9/9 [00:00<00:00, 154.46it/s, loss=1.36]\n"
          ]
        },
        {
          "name": "stdout",
          "output_type": "stream",
          "text": [
            "Epoch [1439/3000]: Train loss: 2.1482, Valid loss: 1.9666\n"
          ]
        },
        {
          "name": "stderr",
          "output_type": "stream",
          "text": [
            "Epoch [1440/3000]: 100%|██████████| 9/9 [00:00<00:00, 330.34it/s, loss=1.6]\n"
          ]
        },
        {
          "name": "stdout",
          "output_type": "stream",
          "text": [
            "Epoch [1440/3000]: Train loss: 1.7819, Valid loss: 2.9530\n"
          ]
        },
        {
          "name": "stderr",
          "output_type": "stream",
          "text": [
            "Epoch [1441/3000]: 100%|██████████| 9/9 [00:00<00:00, 527.89it/s, loss=1.67]\n"
          ]
        },
        {
          "name": "stdout",
          "output_type": "stream",
          "text": [
            "Epoch [1441/3000]: Train loss: 2.1257, Valid loss: 2.4795\n"
          ]
        },
        {
          "name": "stderr",
          "output_type": "stream",
          "text": [
            "Epoch [1442/3000]: 100%|██████████| 9/9 [00:00<00:00, 378.49it/s, loss=1.63]\n"
          ]
        },
        {
          "name": "stdout",
          "output_type": "stream",
          "text": [
            "Epoch [1442/3000]: Train loss: 1.9365, Valid loss: 2.1422\n"
          ]
        },
        {
          "name": "stderr",
          "output_type": "stream",
          "text": [
            "Epoch [1443/3000]: 100%|██████████| 9/9 [00:00<00:00, 401.79it/s, loss=1.51]\n"
          ]
        },
        {
          "name": "stdout",
          "output_type": "stream",
          "text": [
            "Epoch [1443/3000]: Train loss: 1.7300, Valid loss: 2.0296\n"
          ]
        },
        {
          "name": "stderr",
          "output_type": "stream",
          "text": [
            "Epoch [1444/3000]: 100%|██████████| 9/9 [00:00<00:00, 391.37it/s, loss=1.83]\n"
          ]
        },
        {
          "name": "stdout",
          "output_type": "stream",
          "text": [
            "Epoch [1444/3000]: Train loss: 1.8383, Valid loss: 2.1918\n"
          ]
        },
        {
          "name": "stderr",
          "output_type": "stream",
          "text": [
            "Epoch [1445/3000]: 100%|██████████| 9/9 [00:00<00:00, 442.49it/s, loss=1.97]\n"
          ]
        },
        {
          "name": "stdout",
          "output_type": "stream",
          "text": [
            "Epoch [1445/3000]: Train loss: 1.8176, Valid loss: 2.1592\n"
          ]
        },
        {
          "name": "stderr",
          "output_type": "stream",
          "text": [
            "Epoch [1446/3000]: 100%|██████████| 9/9 [00:00<00:00, 357.23it/s, loss=1.65]\n"
          ]
        },
        {
          "name": "stdout",
          "output_type": "stream",
          "text": [
            "Epoch [1446/3000]: Train loss: 2.0243, Valid loss: 1.9696\n"
          ]
        },
        {
          "name": "stderr",
          "output_type": "stream",
          "text": [
            "Epoch [1447/3000]: 100%|██████████| 9/9 [00:00<00:00, 472.17it/s, loss=2.01]\n"
          ]
        },
        {
          "name": "stdout",
          "output_type": "stream",
          "text": [
            "Epoch [1447/3000]: Train loss: 1.9073, Valid loss: 2.4080\n"
          ]
        },
        {
          "name": "stderr",
          "output_type": "stream",
          "text": [
            "Epoch [1448/3000]: 100%|██████████| 9/9 [00:00<00:00, 146.64it/s, loss=1.79]\n"
          ]
        },
        {
          "name": "stdout",
          "output_type": "stream",
          "text": [
            "Epoch [1448/3000]: Train loss: 1.8344, Valid loss: 2.6127\n"
          ]
        },
        {
          "name": "stderr",
          "output_type": "stream",
          "text": [
            "Epoch [1449/3000]: 100%|██████████| 9/9 [00:00<00:00, 573.85it/s, loss=2.09]\n"
          ]
        },
        {
          "name": "stdout",
          "output_type": "stream",
          "text": [
            "Epoch [1449/3000]: Train loss: 1.8725, Valid loss: 2.1848\n"
          ]
        },
        {
          "name": "stderr",
          "output_type": "stream",
          "text": [
            "Epoch [1450/3000]: 100%|██████████| 9/9 [00:00<00:00, 461.78it/s, loss=1.78]\n"
          ]
        },
        {
          "name": "stdout",
          "output_type": "stream",
          "text": [
            "Epoch [1450/3000]: Train loss: 1.7998, Valid loss: 1.8950\n"
          ]
        },
        {
          "name": "stderr",
          "output_type": "stream",
          "text": [
            "Epoch [1451/3000]: 100%|██████████| 9/9 [00:00<00:00, 481.38it/s, loss=1.96]\n"
          ]
        },
        {
          "name": "stdout",
          "output_type": "stream",
          "text": [
            "Epoch [1451/3000]: Train loss: 1.7544, Valid loss: 1.8800\n"
          ]
        },
        {
          "name": "stderr",
          "output_type": "stream",
          "text": [
            "Epoch [1452/3000]: 100%|██████████| 9/9 [00:00<00:00, 395.76it/s, loss=2.26]\n"
          ]
        },
        {
          "name": "stdout",
          "output_type": "stream",
          "text": [
            "Epoch [1452/3000]: Train loss: 1.8981, Valid loss: 2.0214\n"
          ]
        },
        {
          "name": "stderr",
          "output_type": "stream",
          "text": [
            "Epoch [1453/3000]: 100%|██████████| 9/9 [00:00<00:00, 460.46it/s, loss=2.63]\n"
          ]
        },
        {
          "name": "stdout",
          "output_type": "stream",
          "text": [
            "Epoch [1453/3000]: Train loss: 2.0639, Valid loss: 2.2250\n"
          ]
        },
        {
          "name": "stderr",
          "output_type": "stream",
          "text": [
            "Epoch [1454/3000]: 100%|██████████| 9/9 [00:00<00:00, 393.08it/s, loss=2.14]\n"
          ]
        },
        {
          "name": "stdout",
          "output_type": "stream",
          "text": [
            "Epoch [1454/3000]: Train loss: 2.0081, Valid loss: 2.5715\n"
          ]
        },
        {
          "name": "stderr",
          "output_type": "stream",
          "text": [
            "Epoch [1455/3000]: 100%|██████████| 9/9 [00:00<00:00, 441.52it/s, loss=1.92]\n"
          ]
        },
        {
          "name": "stdout",
          "output_type": "stream",
          "text": [
            "Epoch [1455/3000]: Train loss: 1.8655, Valid loss: 2.1002\n"
          ]
        },
        {
          "name": "stderr",
          "output_type": "stream",
          "text": [
            "Epoch [1456/3000]: 100%|██████████| 9/9 [00:00<00:00, 279.61it/s, loss=1.66]\n"
          ]
        },
        {
          "name": "stdout",
          "output_type": "stream",
          "text": [
            "Epoch [1456/3000]: Train loss: 1.7398, Valid loss: 2.3717\n"
          ]
        },
        {
          "name": "stderr",
          "output_type": "stream",
          "text": [
            "Epoch [1457/3000]: 100%|██████████| 9/9 [00:00<00:00, 421.65it/s, loss=1.71]\n"
          ]
        },
        {
          "name": "stdout",
          "output_type": "stream",
          "text": [
            "Epoch [1457/3000]: Train loss: 1.8625, Valid loss: 2.7325\n"
          ]
        },
        {
          "name": "stderr",
          "output_type": "stream",
          "text": [
            "Epoch [1458/3000]: 100%|██████████| 9/9 [00:00<00:00, 306.05it/s, loss=2.62]\n"
          ]
        },
        {
          "name": "stdout",
          "output_type": "stream",
          "text": [
            "Epoch [1458/3000]: Train loss: 2.2849, Valid loss: 2.1927\n"
          ]
        },
        {
          "name": "stderr",
          "output_type": "stream",
          "text": [
            "Epoch [1459/3000]: 100%|██████████| 9/9 [00:00<00:00, 119.51it/s, loss=1.95]\n"
          ]
        },
        {
          "name": "stdout",
          "output_type": "stream",
          "text": [
            "Epoch [1459/3000]: Train loss: 2.0705, Valid loss: 1.8910\n"
          ]
        },
        {
          "name": "stderr",
          "output_type": "stream",
          "text": [
            "Epoch [1460/3000]: 100%|██████████| 9/9 [00:00<00:00, 267.53it/s, loss=1.85]\n"
          ]
        },
        {
          "name": "stdout",
          "output_type": "stream",
          "text": [
            "Epoch [1460/3000]: Train loss: 1.9790, Valid loss: 2.6006\n"
          ]
        },
        {
          "name": "stderr",
          "output_type": "stream",
          "text": [
            "Epoch [1461/3000]: 100%|██████████| 9/9 [00:00<00:00, 375.55it/s, loss=1.75]\n"
          ]
        },
        {
          "name": "stdout",
          "output_type": "stream",
          "text": [
            "Epoch [1461/3000]: Train loss: 1.8571, Valid loss: 2.6505\n"
          ]
        },
        {
          "name": "stderr",
          "output_type": "stream",
          "text": [
            "Epoch [1462/3000]: 100%|██████████| 9/9 [00:00<00:00, 314.99it/s, loss=1.54]\n"
          ]
        },
        {
          "name": "stdout",
          "output_type": "stream",
          "text": [
            "Epoch [1462/3000]: Train loss: 1.9408, Valid loss: 1.9936\n"
          ]
        },
        {
          "name": "stderr",
          "output_type": "stream",
          "text": [
            "Epoch [1463/3000]: 100%|██████████| 9/9 [00:00<00:00, 377.03it/s, loss=2.56]\n"
          ]
        },
        {
          "name": "stdout",
          "output_type": "stream",
          "text": [
            "Epoch [1463/3000]: Train loss: 1.9173, Valid loss: 2.0659\n"
          ]
        },
        {
          "name": "stderr",
          "output_type": "stream",
          "text": [
            "Epoch [1464/3000]: 100%|██████████| 9/9 [00:00<00:00, 404.04it/s, loss=1.56]\n"
          ]
        },
        {
          "name": "stdout",
          "output_type": "stream",
          "text": [
            "Epoch [1464/3000]: Train loss: 1.8163, Valid loss: 1.9749\n"
          ]
        },
        {
          "name": "stderr",
          "output_type": "stream",
          "text": [
            "Epoch [1465/3000]: 100%|██████████| 9/9 [00:00<00:00, 412.85it/s, loss=1.8]\n"
          ]
        },
        {
          "name": "stdout",
          "output_type": "stream",
          "text": [
            "Epoch [1465/3000]: Train loss: 1.9187, Valid loss: 1.8260\n"
          ]
        },
        {
          "name": "stderr",
          "output_type": "stream",
          "text": [
            "Epoch [1466/3000]: 100%|██████████| 9/9 [00:00<00:00, 440.66it/s, loss=1.63]\n"
          ]
        },
        {
          "name": "stdout",
          "output_type": "stream",
          "text": [
            "Epoch [1466/3000]: Train loss: 2.1527, Valid loss: 2.9922\n"
          ]
        },
        {
          "name": "stderr",
          "output_type": "stream",
          "text": [
            "Epoch [1467/3000]: 100%|██████████| 9/9 [00:00<00:00, 305.77it/s, loss=1.62]\n"
          ]
        },
        {
          "name": "stdout",
          "output_type": "stream",
          "text": [
            "Epoch [1467/3000]: Train loss: 1.9993, Valid loss: 2.5036\n"
          ]
        },
        {
          "name": "stderr",
          "output_type": "stream",
          "text": [
            "Epoch [1468/3000]: 100%|██████████| 9/9 [00:00<00:00, 356.09it/s, loss=2.59]\n"
          ]
        },
        {
          "name": "stdout",
          "output_type": "stream",
          "text": [
            "Epoch [1468/3000]: Train loss: 2.0886, Valid loss: 2.9044\n"
          ]
        },
        {
          "name": "stderr",
          "output_type": "stream",
          "text": [
            "Epoch [1469/3000]: 100%|██████████| 9/9 [00:00<00:00, 334.59it/s, loss=2.26]\n"
          ]
        },
        {
          "name": "stdout",
          "output_type": "stream",
          "text": [
            "Epoch [1469/3000]: Train loss: 2.0411, Valid loss: 2.4297\n"
          ]
        },
        {
          "name": "stderr",
          "output_type": "stream",
          "text": [
            "Epoch [1470/3000]: 100%|██████████| 9/9 [00:00<00:00, 382.44it/s, loss=1.62]\n"
          ]
        },
        {
          "name": "stdout",
          "output_type": "stream",
          "text": [
            "Epoch [1470/3000]: Train loss: 2.0601, Valid loss: 2.2250\n"
          ]
        },
        {
          "name": "stderr",
          "output_type": "stream",
          "text": [
            "Epoch [1471/3000]: 100%|██████████| 9/9 [00:00<00:00, 351.92it/s, loss=2.2]\n"
          ]
        },
        {
          "name": "stdout",
          "output_type": "stream",
          "text": [
            "Epoch [1471/3000]: Train loss: 2.3250, Valid loss: 1.9665\n"
          ]
        },
        {
          "name": "stderr",
          "output_type": "stream",
          "text": [
            "Epoch [1472/3000]: 100%|██████████| 9/9 [00:00<00:00, 129.39it/s, loss=1.7]\n"
          ]
        },
        {
          "name": "stdout",
          "output_type": "stream",
          "text": [
            "Epoch [1472/3000]: Train loss: 2.0437, Valid loss: 2.1773\n"
          ]
        },
        {
          "name": "stderr",
          "output_type": "stream",
          "text": [
            "Epoch [1473/3000]: 100%|██████████| 9/9 [00:00<00:00, 398.24it/s, loss=2.07]\n"
          ]
        },
        {
          "name": "stdout",
          "output_type": "stream",
          "text": [
            "Epoch [1473/3000]: Train loss: 1.8108, Valid loss: 2.2745\n"
          ]
        },
        {
          "name": "stderr",
          "output_type": "stream",
          "text": [
            "Epoch [1474/3000]: 100%|██████████| 9/9 [00:00<00:00, 405.55it/s, loss=1.73]\n"
          ]
        },
        {
          "name": "stdout",
          "output_type": "stream",
          "text": [
            "Epoch [1474/3000]: Train loss: 1.8979, Valid loss: 3.2245\n"
          ]
        },
        {
          "name": "stderr",
          "output_type": "stream",
          "text": [
            "Epoch [1475/3000]: 100%|██████████| 9/9 [00:00<00:00, 573.35it/s, loss=1.63]\n"
          ]
        },
        {
          "name": "stdout",
          "output_type": "stream",
          "text": [
            "Epoch [1475/3000]: Train loss: 2.3824, Valid loss: 1.8368\n"
          ]
        },
        {
          "name": "stderr",
          "output_type": "stream",
          "text": [
            "Epoch [1476/3000]: 100%|██████████| 9/9 [00:00<00:00, 450.83it/s, loss=1.69]\n"
          ]
        },
        {
          "name": "stdout",
          "output_type": "stream",
          "text": [
            "Epoch [1476/3000]: Train loss: 2.2703, Valid loss: 2.2749\n"
          ]
        },
        {
          "name": "stderr",
          "output_type": "stream",
          "text": [
            "Epoch [1477/3000]: 100%|██████████| 9/9 [00:00<00:00, 410.81it/s, loss=1.53]\n"
          ]
        },
        {
          "name": "stdout",
          "output_type": "stream",
          "text": [
            "Epoch [1477/3000]: Train loss: 1.9646, Valid loss: 1.8756\n"
          ]
        },
        {
          "name": "stderr",
          "output_type": "stream",
          "text": [
            "Epoch [1478/3000]: 100%|██████████| 9/9 [00:00<00:00, 369.72it/s, loss=2.03]\n"
          ]
        },
        {
          "name": "stdout",
          "output_type": "stream",
          "text": [
            "Epoch [1478/3000]: Train loss: 1.8187, Valid loss: 2.3462\n"
          ]
        },
        {
          "name": "stderr",
          "output_type": "stream",
          "text": [
            "Epoch [1479/3000]: 100%|██████████| 9/9 [00:00<00:00, 464.93it/s, loss=1.24]\n"
          ]
        },
        {
          "name": "stdout",
          "output_type": "stream",
          "text": [
            "Epoch [1479/3000]: Train loss: 1.9154, Valid loss: 1.9930\n"
          ]
        },
        {
          "name": "stderr",
          "output_type": "stream",
          "text": [
            "Epoch [1480/3000]: 100%|██████████| 9/9 [00:00<00:00, 498.81it/s, loss=1.54]\n"
          ]
        },
        {
          "name": "stdout",
          "output_type": "stream",
          "text": [
            "Epoch [1480/3000]: Train loss: 1.8027, Valid loss: 2.3263\n"
          ]
        },
        {
          "name": "stderr",
          "output_type": "stream",
          "text": [
            "Epoch [1481/3000]: 100%|██████████| 9/9 [00:00<00:00, 582.93it/s, loss=1.63]\n"
          ]
        },
        {
          "name": "stdout",
          "output_type": "stream",
          "text": [
            "Epoch [1481/3000]: Train loss: 1.8549, Valid loss: 1.7732\n"
          ]
        },
        {
          "name": "stderr",
          "output_type": "stream",
          "text": [
            "Epoch [1482/3000]: 100%|██████████| 9/9 [00:00<00:00, 587.40it/s, loss=1.54]\n"
          ]
        },
        {
          "name": "stdout",
          "output_type": "stream",
          "text": [
            "Epoch [1482/3000]: Train loss: 1.7297, Valid loss: 2.3556\n"
          ]
        },
        {
          "name": "stderr",
          "output_type": "stream",
          "text": [
            "Epoch [1483/3000]: 100%|██████████| 9/9 [00:00<00:00, 292.41it/s, loss=1.62]\n"
          ]
        },
        {
          "name": "stdout",
          "output_type": "stream",
          "text": [
            "Epoch [1483/3000]: Train loss: 1.7182, Valid loss: 1.6449\n",
            "Saving model with loss 1.645...\n"
          ]
        },
        {
          "name": "stderr",
          "output_type": "stream",
          "text": [
            "Epoch [1484/3000]: 100%|██████████| 9/9 [00:00<00:00, 425.89it/s, loss=1.43]\n"
          ]
        },
        {
          "name": "stdout",
          "output_type": "stream",
          "text": [
            "Epoch [1484/3000]: Train loss: 1.7141, Valid loss: 2.0346\n"
          ]
        },
        {
          "name": "stderr",
          "output_type": "stream",
          "text": [
            "Epoch [1485/3000]: 100%|██████████| 9/9 [00:00<00:00, 147.22it/s, loss=2.47]\n"
          ]
        },
        {
          "name": "stdout",
          "output_type": "stream",
          "text": [
            "Epoch [1485/3000]: Train loss: 1.8761, Valid loss: 4.4612\n"
          ]
        },
        {
          "name": "stderr",
          "output_type": "stream",
          "text": [
            "Epoch [1486/3000]: 100%|██████████| 9/9 [00:00<00:00, 329.04it/s, loss=2.39]\n"
          ]
        },
        {
          "name": "stdout",
          "output_type": "stream",
          "text": [
            "Epoch [1486/3000]: Train loss: 2.7242, Valid loss: 3.3456\n"
          ]
        },
        {
          "name": "stderr",
          "output_type": "stream",
          "text": [
            "Epoch [1487/3000]: 100%|██████████| 9/9 [00:00<00:00, 455.53it/s, loss=2.11]\n"
          ]
        },
        {
          "name": "stdout",
          "output_type": "stream",
          "text": [
            "Epoch [1487/3000]: Train loss: 2.4706, Valid loss: 2.1431\n"
          ]
        },
        {
          "name": "stderr",
          "output_type": "stream",
          "text": [
            "Epoch [1488/3000]: 100%|██████████| 9/9 [00:00<00:00, 309.78it/s, loss=1.77]\n"
          ]
        },
        {
          "name": "stdout",
          "output_type": "stream",
          "text": [
            "Epoch [1488/3000]: Train loss: 1.7839, Valid loss: 2.5370\n"
          ]
        },
        {
          "name": "stderr",
          "output_type": "stream",
          "text": [
            "Epoch [1489/3000]: 100%|██████████| 9/9 [00:00<00:00, 287.71it/s, loss=2.06]\n"
          ]
        },
        {
          "name": "stdout",
          "output_type": "stream",
          "text": [
            "Epoch [1489/3000]: Train loss: 2.0076, Valid loss: 2.1486\n"
          ]
        },
        {
          "name": "stderr",
          "output_type": "stream",
          "text": [
            "Epoch [1490/3000]: 100%|██████████| 9/9 [00:00<00:00, 192.37it/s, loss=1.92]\n"
          ]
        },
        {
          "name": "stdout",
          "output_type": "stream",
          "text": [
            "Epoch [1490/3000]: Train loss: 1.8378, Valid loss: 2.1927\n"
          ]
        },
        {
          "name": "stderr",
          "output_type": "stream",
          "text": [
            "Epoch [1491/3000]: 100%|██████████| 9/9 [00:00<00:00, 225.57it/s, loss=1.79]\n"
          ]
        },
        {
          "name": "stdout",
          "output_type": "stream",
          "text": [
            "Epoch [1491/3000]: Train loss: 1.7988, Valid loss: 1.9106\n"
          ]
        },
        {
          "name": "stderr",
          "output_type": "stream",
          "text": [
            "Epoch [1492/3000]: 100%|██████████| 9/9 [00:00<00:00, 350.59it/s, loss=1.53]\n"
          ]
        },
        {
          "name": "stdout",
          "output_type": "stream",
          "text": [
            "Epoch [1492/3000]: Train loss: 1.7843, Valid loss: 2.1239\n"
          ]
        },
        {
          "name": "stderr",
          "output_type": "stream",
          "text": [
            "Epoch [1493/3000]: 100%|██████████| 9/9 [00:00<00:00, 376.08it/s, loss=2.64]\n"
          ]
        },
        {
          "name": "stdout",
          "output_type": "stream",
          "text": [
            "Epoch [1493/3000]: Train loss: 1.8286, Valid loss: 2.5177\n"
          ]
        },
        {
          "name": "stderr",
          "output_type": "stream",
          "text": [
            "Epoch [1494/3000]: 100%|██████████| 9/9 [00:00<00:00, 255.94it/s, loss=2.39]\n"
          ]
        },
        {
          "name": "stdout",
          "output_type": "stream",
          "text": [
            "Epoch [1494/3000]: Train loss: 2.0291, Valid loss: 2.3491\n"
          ]
        },
        {
          "name": "stderr",
          "output_type": "stream",
          "text": [
            "Epoch [1495/3000]: 100%|██████████| 9/9 [00:00<00:00, 286.82it/s, loss=2.11]\n"
          ]
        },
        {
          "name": "stdout",
          "output_type": "stream",
          "text": [
            "Epoch [1495/3000]: Train loss: 1.9452, Valid loss: 2.8202\n"
          ]
        },
        {
          "name": "stderr",
          "output_type": "stream",
          "text": [
            "Epoch [1496/3000]: 100%|██████████| 9/9 [00:00<00:00, 270.66it/s, loss=2.17]\n"
          ]
        },
        {
          "name": "stdout",
          "output_type": "stream",
          "text": [
            "Epoch [1496/3000]: Train loss: 2.0789, Valid loss: 1.8299\n"
          ]
        },
        {
          "name": "stderr",
          "output_type": "stream",
          "text": [
            "Epoch [1497/3000]: 100%|██████████| 9/9 [00:00<00:00, 373.93it/s, loss=1.43]\n"
          ]
        },
        {
          "name": "stdout",
          "output_type": "stream",
          "text": [
            "Epoch [1497/3000]: Train loss: 1.8450, Valid loss: 1.9093\n"
          ]
        },
        {
          "name": "stderr",
          "output_type": "stream",
          "text": [
            "Epoch [1498/3000]: 100%|██████████| 9/9 [00:00<00:00, 293.74it/s, loss=2.38]\n"
          ]
        },
        {
          "name": "stdout",
          "output_type": "stream",
          "text": [
            "Epoch [1498/3000]: Train loss: 2.0517, Valid loss: 2.5428\n"
          ]
        },
        {
          "name": "stderr",
          "output_type": "stream",
          "text": [
            "Epoch [1499/3000]: 100%|██████████| 9/9 [00:00<00:00, 416.80it/s, loss=2.82]\n"
          ]
        },
        {
          "name": "stdout",
          "output_type": "stream",
          "text": [
            "Epoch [1499/3000]: Train loss: 2.1512, Valid loss: 2.8399\n"
          ]
        },
        {
          "name": "stderr",
          "output_type": "stream",
          "text": [
            "Epoch [1500/3000]: 100%|██████████| 9/9 [00:00<00:00, 123.04it/s, loss=1.9]\n"
          ]
        },
        {
          "name": "stdout",
          "output_type": "stream",
          "text": [
            "Epoch [1500/3000]: Train loss: 2.1408, Valid loss: 1.9844\n"
          ]
        },
        {
          "name": "stderr",
          "output_type": "stream",
          "text": [
            "Epoch [1501/3000]: 100%|██████████| 9/9 [00:00<00:00, 362.06it/s, loss=2]\n"
          ]
        },
        {
          "name": "stdout",
          "output_type": "stream",
          "text": [
            "Epoch [1501/3000]: Train loss: 1.9842, Valid loss: 1.6657\n"
          ]
        },
        {
          "name": "stderr",
          "output_type": "stream",
          "text": [
            "Epoch [1502/3000]: 100%|██████████| 9/9 [00:00<00:00, 511.04it/s, loss=1.52]\n"
          ]
        },
        {
          "name": "stdout",
          "output_type": "stream",
          "text": [
            "Epoch [1502/3000]: Train loss: 2.1027, Valid loss: 2.6502\n"
          ]
        },
        {
          "name": "stderr",
          "output_type": "stream",
          "text": [
            "Epoch [1503/3000]: 100%|██████████| 9/9 [00:00<00:00, 447.20it/s, loss=1.73]\n"
          ]
        },
        {
          "name": "stdout",
          "output_type": "stream",
          "text": [
            "Epoch [1503/3000]: Train loss: 1.7975, Valid loss: 2.1104\n"
          ]
        },
        {
          "name": "stderr",
          "output_type": "stream",
          "text": [
            "Epoch [1504/3000]: 100%|██████████| 9/9 [00:00<00:00, 409.16it/s, loss=1.75]\n"
          ]
        },
        {
          "name": "stdout",
          "output_type": "stream",
          "text": [
            "Epoch [1504/3000]: Train loss: 1.7733, Valid loss: 2.4110\n"
          ]
        },
        {
          "name": "stderr",
          "output_type": "stream",
          "text": [
            "Epoch [1505/3000]: 100%|██████████| 9/9 [00:00<00:00, 521.01it/s, loss=2.72]\n"
          ]
        },
        {
          "name": "stdout",
          "output_type": "stream",
          "text": [
            "Epoch [1505/3000]: Train loss: 2.3636, Valid loss: 1.9183\n"
          ]
        },
        {
          "name": "stderr",
          "output_type": "stream",
          "text": [
            "Epoch [1506/3000]: 100%|██████████| 9/9 [00:00<00:00, 502.26it/s, loss=1.76]\n"
          ]
        },
        {
          "name": "stdout",
          "output_type": "stream",
          "text": [
            "Epoch [1506/3000]: Train loss: 2.0416, Valid loss: 2.2558\n"
          ]
        },
        {
          "name": "stderr",
          "output_type": "stream",
          "text": [
            "Epoch [1507/3000]: 100%|██████████| 9/9 [00:00<00:00, 482.70it/s, loss=2.01]\n"
          ]
        },
        {
          "name": "stdout",
          "output_type": "stream",
          "text": [
            "Epoch [1507/3000]: Train loss: 2.3487, Valid loss: 2.3278\n"
          ]
        },
        {
          "name": "stderr",
          "output_type": "stream",
          "text": [
            "Epoch [1508/3000]: 100%|██████████| 9/9 [00:00<00:00, 422.40it/s, loss=2.27]\n"
          ]
        },
        {
          "name": "stdout",
          "output_type": "stream",
          "text": [
            "Epoch [1508/3000]: Train loss: 2.0336, Valid loss: 2.2325\n"
          ]
        },
        {
          "name": "stderr",
          "output_type": "stream",
          "text": [
            "Epoch [1509/3000]: 100%|██████████| 9/9 [00:00<00:00, 495.23it/s, loss=2.25]\n"
          ]
        },
        {
          "name": "stdout",
          "output_type": "stream",
          "text": [
            "Epoch [1509/3000]: Train loss: 2.1033, Valid loss: 2.0694\n"
          ]
        },
        {
          "name": "stderr",
          "output_type": "stream",
          "text": [
            "Epoch [1510/3000]: 100%|██████████| 9/9 [00:00<00:00, 378.22it/s, loss=2.06]\n"
          ]
        },
        {
          "name": "stdout",
          "output_type": "stream",
          "text": [
            "Epoch [1510/3000]: Train loss: 1.9937, Valid loss: 2.6349\n"
          ]
        },
        {
          "name": "stderr",
          "output_type": "stream",
          "text": [
            "Epoch [1511/3000]: 100%|██████████| 9/9 [00:00<00:00, 537.47it/s, loss=1.83]\n"
          ]
        },
        {
          "name": "stdout",
          "output_type": "stream",
          "text": [
            "Epoch [1511/3000]: Train loss: 2.0691, Valid loss: 1.9159\n"
          ]
        },
        {
          "name": "stderr",
          "output_type": "stream",
          "text": [
            "Epoch [1512/3000]: 100%|██████████| 9/9 [00:00<00:00, 586.93it/s, loss=1.99]\n"
          ]
        },
        {
          "name": "stdout",
          "output_type": "stream",
          "text": [
            "Epoch [1512/3000]: Train loss: 1.8145, Valid loss: 1.9520\n"
          ]
        },
        {
          "name": "stderr",
          "output_type": "stream",
          "text": [
            "Epoch [1513/3000]: 100%|██████████| 9/9 [00:00<00:00, 127.63it/s, loss=2.76]\n"
          ]
        },
        {
          "name": "stdout",
          "output_type": "stream",
          "text": [
            "Epoch [1513/3000]: Train loss: 1.8580, Valid loss: 3.8413\n"
          ]
        },
        {
          "name": "stderr",
          "output_type": "stream",
          "text": [
            "Epoch [1514/3000]: 100%|██████████| 9/9 [00:00<00:00, 535.15it/s, loss=1.89]\n"
          ]
        },
        {
          "name": "stdout",
          "output_type": "stream",
          "text": [
            "Epoch [1514/3000]: Train loss: 2.2811, Valid loss: 2.3142\n"
          ]
        },
        {
          "name": "stderr",
          "output_type": "stream",
          "text": [
            "Epoch [1515/3000]: 100%|██████████| 9/9 [00:00<00:00, 469.66it/s, loss=2.52]\n"
          ]
        },
        {
          "name": "stdout",
          "output_type": "stream",
          "text": [
            "Epoch [1515/3000]: Train loss: 2.2762, Valid loss: 2.0108\n"
          ]
        },
        {
          "name": "stderr",
          "output_type": "stream",
          "text": [
            "Epoch [1516/3000]: 100%|██████████| 9/9 [00:00<00:00, 561.14it/s, loss=2.28]\n"
          ]
        },
        {
          "name": "stdout",
          "output_type": "stream",
          "text": [
            "Epoch [1516/3000]: Train loss: 1.9139, Valid loss: 2.8611\n"
          ]
        },
        {
          "name": "stderr",
          "output_type": "stream",
          "text": [
            "Epoch [1517/3000]: 100%|██████████| 9/9 [00:00<00:00, 525.39it/s, loss=1.42]\n"
          ]
        },
        {
          "name": "stdout",
          "output_type": "stream",
          "text": [
            "Epoch [1517/3000]: Train loss: 1.7818, Valid loss: 2.2235\n"
          ]
        },
        {
          "name": "stderr",
          "output_type": "stream",
          "text": [
            "Epoch [1518/3000]: 100%|██████████| 9/9 [00:00<00:00, 615.69it/s, loss=1.46]\n"
          ]
        },
        {
          "name": "stdout",
          "output_type": "stream",
          "text": [
            "Epoch [1518/3000]: Train loss: 1.7222, Valid loss: 2.3172\n"
          ]
        },
        {
          "name": "stderr",
          "output_type": "stream",
          "text": [
            "Epoch [1519/3000]: 100%|██████████| 9/9 [00:00<00:00, 326.48it/s, loss=2.42]\n"
          ]
        },
        {
          "name": "stdout",
          "output_type": "stream",
          "text": [
            "Epoch [1519/3000]: Train loss: 1.8510, Valid loss: 1.9307\n"
          ]
        },
        {
          "name": "stderr",
          "output_type": "stream",
          "text": [
            "Epoch [1520/3000]: 100%|██████████| 9/9 [00:00<00:00, 283.50it/s, loss=2.01]\n"
          ]
        },
        {
          "name": "stdout",
          "output_type": "stream",
          "text": [
            "Epoch [1520/3000]: Train loss: 1.9983, Valid loss: 2.4118\n"
          ]
        },
        {
          "name": "stderr",
          "output_type": "stream",
          "text": [
            "Epoch [1521/3000]: 100%|██████████| 9/9 [00:00<00:00, 458.02it/s, loss=2.15]\n"
          ]
        },
        {
          "name": "stdout",
          "output_type": "stream",
          "text": [
            "Epoch [1521/3000]: Train loss: 1.9351, Valid loss: 1.8883\n"
          ]
        },
        {
          "name": "stderr",
          "output_type": "stream",
          "text": [
            "Epoch [1522/3000]: 100%|██████████| 9/9 [00:00<00:00, 480.44it/s, loss=1.95]\n"
          ]
        },
        {
          "name": "stdout",
          "output_type": "stream",
          "text": [
            "Epoch [1522/3000]: Train loss: 1.7451, Valid loss: 2.0249\n"
          ]
        },
        {
          "name": "stderr",
          "output_type": "stream",
          "text": [
            "Epoch [1523/3000]: 100%|██████████| 9/9 [00:00<00:00, 595.68it/s, loss=2.03]\n"
          ]
        },
        {
          "name": "stdout",
          "output_type": "stream",
          "text": [
            "Epoch [1523/3000]: Train loss: 1.9086, Valid loss: 4.0319\n"
          ]
        },
        {
          "name": "stderr",
          "output_type": "stream",
          "text": [
            "Epoch [1524/3000]: 100%|██████████| 9/9 [00:00<00:00, 446.63it/s, loss=1.67]\n"
          ]
        },
        {
          "name": "stdout",
          "output_type": "stream",
          "text": [
            "Epoch [1524/3000]: Train loss: 2.1517, Valid loss: 3.0991\n"
          ]
        },
        {
          "name": "stderr",
          "output_type": "stream",
          "text": [
            "Epoch [1525/3000]: 100%|██████████| 9/9 [00:00<00:00, 424.09it/s, loss=2.72]\n"
          ]
        },
        {
          "name": "stdout",
          "output_type": "stream",
          "text": [
            "Epoch [1525/3000]: Train loss: 2.3616, Valid loss: 1.7629\n"
          ]
        },
        {
          "name": "stderr",
          "output_type": "stream",
          "text": [
            "Epoch [1526/3000]: 100%|██████████| 9/9 [00:00<00:00, 515.17it/s, loss=2.43]\n"
          ]
        },
        {
          "name": "stdout",
          "output_type": "stream",
          "text": [
            "Epoch [1526/3000]: Train loss: 2.2032, Valid loss: 2.0469\n"
          ]
        },
        {
          "name": "stderr",
          "output_type": "stream",
          "text": [
            "Epoch [1527/3000]: 100%|██████████| 9/9 [00:00<00:00, 188.78it/s, loss=2.05]\n"
          ]
        },
        {
          "name": "stdout",
          "output_type": "stream",
          "text": [
            "Epoch [1527/3000]: Train loss: 1.9980, Valid loss: 1.9728\n"
          ]
        },
        {
          "name": "stderr",
          "output_type": "stream",
          "text": [
            "Epoch [1528/3000]: 100%|██████████| 9/9 [00:00<00:00, 487.96it/s, loss=2.04]\n"
          ]
        },
        {
          "name": "stdout",
          "output_type": "stream",
          "text": [
            "Epoch [1528/3000]: Train loss: 1.9844, Valid loss: 2.0877\n"
          ]
        },
        {
          "name": "stderr",
          "output_type": "stream",
          "text": [
            "Epoch [1529/3000]: 100%|██████████| 9/9 [00:00<00:00, 443.09it/s, loss=1.2]\n"
          ]
        },
        {
          "name": "stdout",
          "output_type": "stream",
          "text": [
            "Epoch [1529/3000]: Train loss: 1.7831, Valid loss: 1.8770\n"
          ]
        },
        {
          "name": "stderr",
          "output_type": "stream",
          "text": [
            "Epoch [1530/3000]: 100%|██████████| 9/9 [00:00<00:00, 459.47it/s, loss=1.47]\n"
          ]
        },
        {
          "name": "stdout",
          "output_type": "stream",
          "text": [
            "Epoch [1530/3000]: Train loss: 1.7124, Valid loss: 2.3688\n"
          ]
        },
        {
          "name": "stderr",
          "output_type": "stream",
          "text": [
            "Epoch [1531/3000]: 100%|██████████| 9/9 [00:00<00:00, 460.20it/s, loss=2]\n"
          ]
        },
        {
          "name": "stdout",
          "output_type": "stream",
          "text": [
            "Epoch [1531/3000]: Train loss: 1.8940, Valid loss: 2.6482\n"
          ]
        },
        {
          "name": "stderr",
          "output_type": "stream",
          "text": [
            "Epoch [1532/3000]: 100%|██████████| 9/9 [00:00<00:00, 353.65it/s, loss=1.48]\n"
          ]
        },
        {
          "name": "stdout",
          "output_type": "stream",
          "text": [
            "Epoch [1532/3000]: Train loss: 1.8810, Valid loss: 2.3194\n"
          ]
        },
        {
          "name": "stderr",
          "output_type": "stream",
          "text": [
            "Epoch [1533/3000]: 100%|██████████| 9/9 [00:00<00:00, 132.99it/s, loss=2.46]\n"
          ]
        },
        {
          "name": "stdout",
          "output_type": "stream",
          "text": [
            "Epoch [1533/3000]: Train loss: 2.1850, Valid loss: 1.9832\n"
          ]
        },
        {
          "name": "stderr",
          "output_type": "stream",
          "text": [
            "Epoch [1534/3000]: 100%|██████████| 9/9 [00:00<00:00, 539.54it/s, loss=3]\n"
          ]
        },
        {
          "name": "stdout",
          "output_type": "stream",
          "text": [
            "Epoch [1534/3000]: Train loss: 1.9064, Valid loss: 2.2521\n"
          ]
        },
        {
          "name": "stderr",
          "output_type": "stream",
          "text": [
            "Epoch [1535/3000]: 100%|██████████| 9/9 [00:00<00:00, 487.73it/s, loss=1.4]\n"
          ]
        },
        {
          "name": "stdout",
          "output_type": "stream",
          "text": [
            "Epoch [1535/3000]: Train loss: 1.8815, Valid loss: 1.8177\n"
          ]
        },
        {
          "name": "stderr",
          "output_type": "stream",
          "text": [
            "Epoch [1536/3000]: 100%|██████████| 9/9 [00:00<00:00, 351.58it/s, loss=1.26]\n"
          ]
        },
        {
          "name": "stdout",
          "output_type": "stream",
          "text": [
            "Epoch [1536/3000]: Train loss: 1.7713, Valid loss: 2.5629\n"
          ]
        },
        {
          "name": "stderr",
          "output_type": "stream",
          "text": [
            "Epoch [1537/3000]: 100%|██████████| 9/9 [00:00<00:00, 484.16it/s, loss=1.72]"
          ]
        },
        {
          "name": "stdout",
          "output_type": "stream",
          "text": [
            "Epoch [1537/3000]: Train loss: 1.8976, Valid loss: 2.0265"
          ]
        },
        {
          "name": "stderr",
          "output_type": "stream",
          "text": [
            "\n"
          ]
        },
        {
          "name": "stdout",
          "output_type": "stream",
          "text": [
            "\n"
          ]
        },
        {
          "name": "stderr",
          "output_type": "stream",
          "text": [
            "Epoch [1538/3000]: 100%|██████████| 9/9 [00:00<00:00, 546.81it/s, loss=2.15]\n"
          ]
        },
        {
          "name": "stdout",
          "output_type": "stream",
          "text": [
            "Epoch [1538/3000]: Train loss: 2.0154, Valid loss: 2.0598\n"
          ]
        },
        {
          "name": "stderr",
          "output_type": "stream",
          "text": [
            "Epoch [1539/3000]: 100%|██████████| 9/9 [00:00<00:00, 408.85it/s, loss=1.8]\n"
          ]
        },
        {
          "name": "stdout",
          "output_type": "stream",
          "text": [
            "Epoch [1539/3000]: Train loss: 2.1732, Valid loss: 2.1628\n"
          ]
        },
        {
          "name": "stderr",
          "output_type": "stream",
          "text": [
            "Epoch [1540/3000]: 100%|██████████| 9/9 [00:00<00:00, 135.89it/s, loss=1.73]\n"
          ]
        },
        {
          "name": "stdout",
          "output_type": "stream",
          "text": [
            "Epoch [1540/3000]: Train loss: 1.9720, Valid loss: 1.7740\n"
          ]
        },
        {
          "name": "stderr",
          "output_type": "stream",
          "text": [
            "Epoch [1541/3000]: 100%|██████████| 9/9 [00:00<00:00, 431.36it/s, loss=1.35]\n"
          ]
        },
        {
          "name": "stdout",
          "output_type": "stream",
          "text": [
            "Epoch [1541/3000]: Train loss: 2.1833, Valid loss: 2.2821\n"
          ]
        },
        {
          "name": "stderr",
          "output_type": "stream",
          "text": [
            "Epoch [1542/3000]: 100%|██████████| 9/9 [00:00<00:00, 544.93it/s, loss=2.2]\n"
          ]
        },
        {
          "name": "stdout",
          "output_type": "stream",
          "text": [
            "Epoch [1542/3000]: Train loss: 1.8347, Valid loss: 2.0995\n"
          ]
        },
        {
          "name": "stderr",
          "output_type": "stream",
          "text": [
            "Epoch [1543/3000]: 100%|██████████| 9/9 [00:00<00:00, 494.81it/s, loss=2.04]\n"
          ]
        },
        {
          "name": "stdout",
          "output_type": "stream",
          "text": [
            "Epoch [1543/3000]: Train loss: 1.7711, Valid loss: 2.1436\n"
          ]
        },
        {
          "name": "stderr",
          "output_type": "stream",
          "text": [
            "Epoch [1544/3000]: 100%|██████████| 9/9 [00:00<00:00, 421.68it/s, loss=1.76]\n"
          ]
        },
        {
          "name": "stdout",
          "output_type": "stream",
          "text": [
            "Epoch [1544/3000]: Train loss: 1.8369, Valid loss: 1.8393\n"
          ]
        },
        {
          "name": "stderr",
          "output_type": "stream",
          "text": [
            "Epoch [1545/3000]: 100%|██████████| 9/9 [00:00<00:00, 525.79it/s, loss=1.65]\n"
          ]
        },
        {
          "name": "stdout",
          "output_type": "stream",
          "text": [
            "Epoch [1545/3000]: Train loss: 1.9258, Valid loss: 2.4284\n"
          ]
        },
        {
          "name": "stderr",
          "output_type": "stream",
          "text": [
            "Epoch [1546/3000]: 100%|██████████| 9/9 [00:00<00:00, 600.80it/s, loss=1.36]\n"
          ]
        },
        {
          "name": "stdout",
          "output_type": "stream",
          "text": [
            "Epoch [1546/3000]: Train loss: 1.9172, Valid loss: 3.0148\n"
          ]
        },
        {
          "name": "stderr",
          "output_type": "stream",
          "text": [
            "Epoch [1547/3000]: 100%|██████████| 9/9 [00:00<00:00, 344.55it/s, loss=2.59]\n"
          ]
        },
        {
          "name": "stdout",
          "output_type": "stream",
          "text": [
            "Epoch [1547/3000]: Train loss: 2.2683, Valid loss: 2.3214\n"
          ]
        },
        {
          "name": "stderr",
          "output_type": "stream",
          "text": [
            "Epoch [1548/3000]: 100%|██████████| 9/9 [00:00<00:00, 477.38it/s, loss=2.86]\n"
          ]
        },
        {
          "name": "stdout",
          "output_type": "stream",
          "text": [
            "Epoch [1548/3000]: Train loss: 2.1653, Valid loss: 2.1951\n"
          ]
        },
        {
          "name": "stderr",
          "output_type": "stream",
          "text": [
            "Epoch [1549/3000]: 100%|██████████| 9/9 [00:00<00:00, 445.46it/s, loss=1.52]\n"
          ]
        },
        {
          "name": "stdout",
          "output_type": "stream",
          "text": [
            "Epoch [1549/3000]: Train loss: 2.0199, Valid loss: 2.2399\n"
          ]
        },
        {
          "name": "stderr",
          "output_type": "stream",
          "text": [
            "Epoch [1550/3000]: 100%|██████████| 9/9 [00:00<00:00, 532.08it/s, loss=2.12]\n"
          ]
        },
        {
          "name": "stdout",
          "output_type": "stream",
          "text": [
            "Epoch [1550/3000]: Train loss: 1.7781, Valid loss: 1.7960\n"
          ]
        },
        {
          "name": "stderr",
          "output_type": "stream",
          "text": [
            "Epoch [1551/3000]: 100%|██████████| 9/9 [00:00<00:00, 497.35it/s, loss=2.37]\n"
          ]
        },
        {
          "name": "stdout",
          "output_type": "stream",
          "text": [
            "Epoch [1551/3000]: Train loss: 2.1076, Valid loss: 2.8553\n"
          ]
        },
        {
          "name": "stderr",
          "output_type": "stream",
          "text": [
            "Epoch [1552/3000]: 100%|██████████| 9/9 [00:00<00:00, 386.25it/s, loss=2]\n"
          ]
        },
        {
          "name": "stdout",
          "output_type": "stream",
          "text": [
            "Epoch [1552/3000]: Train loss: 1.9456, Valid loss: 1.9776\n"
          ]
        },
        {
          "name": "stderr",
          "output_type": "stream",
          "text": [
            "Epoch [1553/3000]: 100%|██████████| 9/9 [00:00<00:00, 435.22it/s, loss=3.14]\n"
          ]
        },
        {
          "name": "stdout",
          "output_type": "stream",
          "text": [
            "Epoch [1553/3000]: Train loss: 2.5079, Valid loss: 2.1896\n"
          ]
        },
        {
          "name": "stderr",
          "output_type": "stream",
          "text": [
            "Epoch [1554/3000]: 100%|██████████| 9/9 [00:00<00:00, 561.72it/s, loss=2.25]\n"
          ]
        },
        {
          "name": "stdout",
          "output_type": "stream",
          "text": [
            "Epoch [1554/3000]: Train loss: 2.3308, Valid loss: 3.8322\n"
          ]
        },
        {
          "name": "stderr",
          "output_type": "stream",
          "text": [
            "Epoch [1555/3000]: 100%|██████████| 9/9 [00:00<00:00, 519.89it/s, loss=1.96]\n"
          ]
        },
        {
          "name": "stdout",
          "output_type": "stream",
          "text": [
            "Epoch [1555/3000]: Train loss: 2.0116, Valid loss: 2.0121\n"
          ]
        },
        {
          "name": "stderr",
          "output_type": "stream",
          "text": [
            "Epoch [1556/3000]: 100%|██████████| 9/9 [00:00<00:00, 556.00it/s, loss=2.58]\n"
          ]
        },
        {
          "name": "stdout",
          "output_type": "stream",
          "text": [
            "Epoch [1556/3000]: Train loss: 1.8611, Valid loss: 2.0403\n"
          ]
        },
        {
          "name": "stderr",
          "output_type": "stream",
          "text": [
            "Epoch [1557/3000]: 100%|██████████| 9/9 [00:00<00:00, 494.89it/s, loss=1.91]\n"
          ]
        },
        {
          "name": "stdout",
          "output_type": "stream",
          "text": [
            "Epoch [1557/3000]: Train loss: 1.8527, Valid loss: 2.7325\n"
          ]
        },
        {
          "name": "stderr",
          "output_type": "stream",
          "text": [
            "Epoch [1558/3000]: 100%|██████████| 9/9 [00:00<00:00, 574.34it/s, loss=1.67]\n"
          ]
        },
        {
          "name": "stdout",
          "output_type": "stream",
          "text": [
            "Epoch [1558/3000]: Train loss: 1.9407, Valid loss: 2.4177\n"
          ]
        },
        {
          "name": "stderr",
          "output_type": "stream",
          "text": [
            "Epoch [1559/3000]: 100%|██████████| 9/9 [00:00<00:00, 539.11it/s, loss=1.84]\n"
          ]
        },
        {
          "name": "stdout",
          "output_type": "stream",
          "text": [
            "Epoch [1559/3000]: Train loss: 2.0891, Valid loss: 1.9411\n"
          ]
        },
        {
          "name": "stderr",
          "output_type": "stream",
          "text": [
            "Epoch [1560/3000]: 100%|██████████| 9/9 [00:00<00:00, 127.30it/s, loss=1.88]\n"
          ]
        },
        {
          "name": "stdout",
          "output_type": "stream",
          "text": [
            "Epoch [1560/3000]: Train loss: 1.7775, Valid loss: 1.9014\n"
          ]
        },
        {
          "name": "stderr",
          "output_type": "stream",
          "text": [
            "Epoch [1561/3000]: 100%|██████████| 9/9 [00:00<00:00, 552.39it/s, loss=2.41]\n"
          ]
        },
        {
          "name": "stdout",
          "output_type": "stream",
          "text": [
            "Epoch [1561/3000]: Train loss: 1.8648, Valid loss: 2.1375\n"
          ]
        },
        {
          "name": "stderr",
          "output_type": "stream",
          "text": [
            "Epoch [1562/3000]: 100%|██████████| 9/9 [00:00<00:00, 104.30it/s, loss=1.66]\n"
          ]
        },
        {
          "name": "stdout",
          "output_type": "stream",
          "text": [
            "Epoch [1562/3000]: Train loss: 1.7243, Valid loss: 2.2383\n"
          ]
        },
        {
          "name": "stderr",
          "output_type": "stream",
          "text": [
            "Epoch [1563/3000]: 100%|██████████| 9/9 [00:00<00:00, 453.54it/s, loss=1.3]\n"
          ]
        },
        {
          "name": "stdout",
          "output_type": "stream",
          "text": [
            "Epoch [1563/3000]: Train loss: 1.7761, Valid loss: 2.2346\n"
          ]
        },
        {
          "name": "stderr",
          "output_type": "stream",
          "text": [
            "Epoch [1564/3000]: 100%|██████████| 9/9 [00:00<00:00, 453.13it/s, loss=1.87]\n"
          ]
        },
        {
          "name": "stdout",
          "output_type": "stream",
          "text": [
            "Epoch [1564/3000]: Train loss: 1.7355, Valid loss: 1.9442\n"
          ]
        },
        {
          "name": "stderr",
          "output_type": "stream",
          "text": [
            "Epoch [1565/3000]: 100%|██████████| 9/9 [00:00<00:00, 547.98it/s, loss=2.13]\n"
          ]
        },
        {
          "name": "stdout",
          "output_type": "stream",
          "text": [
            "Epoch [1565/3000]: Train loss: 1.7975, Valid loss: 1.9947\n"
          ]
        },
        {
          "name": "stderr",
          "output_type": "stream",
          "text": [
            "Epoch [1566/3000]: 100%|██████████| 9/9 [00:00<00:00, 137.85it/s, loss=2.1]\n"
          ]
        },
        {
          "name": "stdout",
          "output_type": "stream",
          "text": [
            "Epoch [1566/3000]: Train loss: 1.8676, Valid loss: 2.2589\n"
          ]
        },
        {
          "name": "stderr",
          "output_type": "stream",
          "text": [
            "Epoch [1567/3000]: 100%|██████████| 9/9 [00:00<00:00, 428.21it/s, loss=1.56]\n"
          ]
        },
        {
          "name": "stdout",
          "output_type": "stream",
          "text": [
            "Epoch [1567/3000]: Train loss: 1.9439, Valid loss: 2.1481\n"
          ]
        },
        {
          "name": "stderr",
          "output_type": "stream",
          "text": [
            "Epoch [1568/3000]: 100%|██████████| 9/9 [00:00<00:00, 547.95it/s, loss=1.63]\n"
          ]
        },
        {
          "name": "stdout",
          "output_type": "stream",
          "text": [
            "Epoch [1568/3000]: Train loss: 1.8698, Valid loss: 1.9455\n"
          ]
        },
        {
          "name": "stderr",
          "output_type": "stream",
          "text": [
            "Epoch [1569/3000]: 100%|██████████| 9/9 [00:00<00:00, 498.64it/s, loss=1.55]\n"
          ]
        },
        {
          "name": "stdout",
          "output_type": "stream",
          "text": [
            "Epoch [1569/3000]: Train loss: 1.7889, Valid loss: 2.0484\n"
          ]
        },
        {
          "name": "stderr",
          "output_type": "stream",
          "text": [
            "Epoch [1570/3000]: 100%|██████████| 9/9 [00:00<00:00, 510.65it/s, loss=1.72]\n"
          ]
        },
        {
          "name": "stdout",
          "output_type": "stream",
          "text": [
            "Epoch [1570/3000]: Train loss: 1.7398, Valid loss: 2.1137\n"
          ]
        },
        {
          "name": "stderr",
          "output_type": "stream",
          "text": [
            "Epoch [1571/3000]: 100%|██████████| 9/9 [00:00<00:00, 604.03it/s, loss=1.91]\n"
          ]
        },
        {
          "name": "stdout",
          "output_type": "stream",
          "text": [
            "Epoch [1571/3000]: Train loss: 1.7452, Valid loss: 1.9966\n"
          ]
        },
        {
          "name": "stderr",
          "output_type": "stream",
          "text": [
            "Epoch [1572/3000]: 100%|██████████| 9/9 [00:00<00:00, 544.50it/s, loss=1.57]"
          ]
        },
        {
          "name": "stdout",
          "output_type": "stream",
          "text": [
            "Epoch [1572/3000]: Train loss: 1.8093, Valid loss: 1.7877\n"
          ]
        },
        {
          "name": "stderr",
          "output_type": "stream",
          "text": [
            "\n",
            "Epoch [1573/3000]: 100%|██████████| 9/9 [00:00<00:00, 349.46it/s, loss=1.89]\n"
          ]
        },
        {
          "name": "stdout",
          "output_type": "stream",
          "text": [
            "Epoch [1573/3000]: Train loss: 1.8269, Valid loss: 2.4614\n"
          ]
        },
        {
          "name": "stderr",
          "output_type": "stream",
          "text": [
            "Epoch [1574/3000]: 100%|██████████| 9/9 [00:00<00:00, 292.71it/s, loss=1.97]\n"
          ]
        },
        {
          "name": "stdout",
          "output_type": "stream",
          "text": [
            "Epoch [1574/3000]: Train loss: 1.7771, Valid loss: 2.0030\n"
          ]
        },
        {
          "name": "stderr",
          "output_type": "stream",
          "text": [
            "Epoch [1575/3000]: 100%|██████████| 9/9 [00:00<00:00, 436.02it/s, loss=1.44]\n"
          ]
        },
        {
          "name": "stdout",
          "output_type": "stream",
          "text": [
            "Epoch [1575/3000]: Train loss: 1.7267, Valid loss: 2.0875\n"
          ]
        },
        {
          "name": "stderr",
          "output_type": "stream",
          "text": [
            "Epoch [1576/3000]: 100%|██████████| 9/9 [00:00<00:00, 503.75it/s, loss=1.53]\n"
          ]
        },
        {
          "name": "stdout",
          "output_type": "stream",
          "text": [
            "Epoch [1576/3000]: Train loss: 1.7131, Valid loss: 2.2380\n"
          ]
        },
        {
          "name": "stderr",
          "output_type": "stream",
          "text": [
            "Epoch [1577/3000]: 100%|██████████| 9/9 [00:00<00:00, 410.06it/s, loss=1.68]\n"
          ]
        },
        {
          "name": "stdout",
          "output_type": "stream",
          "text": [
            "Epoch [1577/3000]: Train loss: 1.7113, Valid loss: 2.0720\n"
          ]
        },
        {
          "name": "stderr",
          "output_type": "stream",
          "text": [
            "Epoch [1578/3000]: 100%|██████████| 9/9 [00:00<00:00, 481.93it/s, loss=3.18]\n"
          ]
        },
        {
          "name": "stdout",
          "output_type": "stream",
          "text": [
            "Epoch [1578/3000]: Train loss: 1.9707, Valid loss: 2.7133\n"
          ]
        },
        {
          "name": "stderr",
          "output_type": "stream",
          "text": [
            "Epoch [1579/3000]: 100%|██████████| 9/9 [00:00<00:00, 459.40it/s, loss=1.31]\n"
          ]
        },
        {
          "name": "stdout",
          "output_type": "stream",
          "text": [
            "Epoch [1579/3000]: Train loss: 1.8127, Valid loss: 2.2704\n"
          ]
        },
        {
          "name": "stderr",
          "output_type": "stream",
          "text": [
            "Epoch [1580/3000]: 100%|██████████| 9/9 [00:00<00:00, 130.25it/s, loss=2.3]\n"
          ]
        },
        {
          "name": "stdout",
          "output_type": "stream",
          "text": [
            "Epoch [1580/3000]: Train loss: 1.8841, Valid loss: 2.6954\n"
          ]
        },
        {
          "name": "stderr",
          "output_type": "stream",
          "text": [
            "Epoch [1581/3000]: 100%|██████████| 9/9 [00:00<00:00, 534.25it/s, loss=1.95]\n"
          ]
        },
        {
          "name": "stdout",
          "output_type": "stream",
          "text": [
            "Epoch [1581/3000]: Train loss: 1.9562, Valid loss: 2.3442\n"
          ]
        },
        {
          "name": "stderr",
          "output_type": "stream",
          "text": [
            "Epoch [1582/3000]: 100%|██████████| 9/9 [00:00<00:00, 553.91it/s, loss=1.78]\n"
          ]
        },
        {
          "name": "stdout",
          "output_type": "stream",
          "text": [
            "Epoch [1582/3000]: Train loss: 1.8158, Valid loss: 2.0158\n"
          ]
        },
        {
          "name": "stderr",
          "output_type": "stream",
          "text": [
            "Epoch [1583/3000]: 100%|██████████| 9/9 [00:00<00:00, 395.50it/s, loss=2.55]\n"
          ]
        },
        {
          "name": "stdout",
          "output_type": "stream",
          "text": [
            "Epoch [1583/3000]: Train loss: 1.9092, Valid loss: 2.1374\n"
          ]
        },
        {
          "name": "stderr",
          "output_type": "stream",
          "text": [
            "Epoch [1584/3000]: 100%|██████████| 9/9 [00:00<00:00, 492.96it/s, loss=2.83]\n"
          ]
        },
        {
          "name": "stdout",
          "output_type": "stream",
          "text": [
            "Epoch [1584/3000]: Train loss: 1.9882, Valid loss: 4.7387\n"
          ]
        },
        {
          "name": "stderr",
          "output_type": "stream",
          "text": [
            "Epoch [1585/3000]: 100%|██████████| 9/9 [00:00<00:00, 550.66it/s, loss=2.65]\n"
          ]
        },
        {
          "name": "stdout",
          "output_type": "stream",
          "text": [
            "Epoch [1585/3000]: Train loss: 2.6238, Valid loss: 2.6626\n"
          ]
        },
        {
          "name": "stderr",
          "output_type": "stream",
          "text": [
            "Epoch [1586/3000]: 100%|██████████| 9/9 [00:00<00:00, 508.50it/s, loss=2.79]\n"
          ]
        },
        {
          "name": "stdout",
          "output_type": "stream",
          "text": [
            "Epoch [1586/3000]: Train loss: 2.4725, Valid loss: 2.0956\n"
          ]
        },
        {
          "name": "stderr",
          "output_type": "stream",
          "text": [
            "Epoch [1587/3000]: 100%|██████████| 9/9 [00:00<00:00, 558.91it/s, loss=2.35]\n"
          ]
        },
        {
          "name": "stdout",
          "output_type": "stream",
          "text": [
            "Epoch [1587/3000]: Train loss: 2.0391, Valid loss: 3.2485\n"
          ]
        },
        {
          "name": "stderr",
          "output_type": "stream",
          "text": [
            "Epoch [1588/3000]: 100%|██████████| 9/9 [00:00<00:00, 426.70it/s, loss=1.82]\n"
          ]
        },
        {
          "name": "stdout",
          "output_type": "stream",
          "text": [
            "Epoch [1588/3000]: Train loss: 2.1378, Valid loss: 1.9623\n"
          ]
        },
        {
          "name": "stderr",
          "output_type": "stream",
          "text": [
            "Epoch [1589/3000]: 100%|██████████| 9/9 [00:00<00:00, 506.16it/s, loss=2.59]\n"
          ]
        },
        {
          "name": "stdout",
          "output_type": "stream",
          "text": [
            "Epoch [1589/3000]: Train loss: 2.5035, Valid loss: 2.7016\n"
          ]
        },
        {
          "name": "stderr",
          "output_type": "stream",
          "text": [
            "Epoch [1590/3000]: 100%|██████████| 9/9 [00:00<00:00, 472.02it/s, loss=1.87]\n"
          ]
        },
        {
          "name": "stdout",
          "output_type": "stream",
          "text": [
            "Epoch [1590/3000]: Train loss: 1.9066, Valid loss: 2.0354\n"
          ]
        },
        {
          "name": "stderr",
          "output_type": "stream",
          "text": [
            "Epoch [1591/3000]: 100%|██████████| 9/9 [00:00<00:00, 391.61it/s, loss=1.45]\n"
          ]
        },
        {
          "name": "stdout",
          "output_type": "stream",
          "text": [
            "Epoch [1591/3000]: Train loss: 2.0430, Valid loss: 3.0942\n"
          ]
        },
        {
          "name": "stderr",
          "output_type": "stream",
          "text": [
            "Epoch [1592/3000]: 100%|██████████| 9/9 [00:00<00:00, 515.38it/s, loss=2.2]\n"
          ]
        },
        {
          "name": "stdout",
          "output_type": "stream",
          "text": [
            "Epoch [1592/3000]: Train loss: 1.9734, Valid loss: 1.9627\n"
          ]
        },
        {
          "name": "stderr",
          "output_type": "stream",
          "text": [
            "Epoch [1593/3000]: 100%|██████████| 9/9 [00:00<00:00, 315.89it/s, loss=2.47]\n"
          ]
        },
        {
          "name": "stdout",
          "output_type": "stream",
          "text": [
            "Epoch [1593/3000]: Train loss: 1.7573, Valid loss: 2.8587\n"
          ]
        },
        {
          "name": "stderr",
          "output_type": "stream",
          "text": [
            "Epoch [1594/3000]: 100%|██████████| 9/9 [00:00<00:00, 479.44it/s, loss=1.52]\n"
          ]
        },
        {
          "name": "stdout",
          "output_type": "stream",
          "text": [
            "Epoch [1594/3000]: Train loss: 1.8330, Valid loss: 2.1863\n"
          ]
        },
        {
          "name": "stderr",
          "output_type": "stream",
          "text": [
            "Epoch [1595/3000]: 100%|██████████| 9/9 [00:00<00:00, 439.36it/s, loss=1.97]\n"
          ]
        },
        {
          "name": "stdout",
          "output_type": "stream",
          "text": [
            "Epoch [1595/3000]: Train loss: 1.9749, Valid loss: 1.9062\n"
          ]
        },
        {
          "name": "stderr",
          "output_type": "stream",
          "text": [
            "Epoch [1596/3000]: 100%|██████████| 9/9 [00:00<00:00, 441.63it/s, loss=1.93]\n"
          ]
        },
        {
          "name": "stdout",
          "output_type": "stream",
          "text": [
            "Epoch [1596/3000]: Train loss: 1.8951, Valid loss: 2.0228\n"
          ]
        },
        {
          "name": "stderr",
          "output_type": "stream",
          "text": [
            "Epoch [1597/3000]: 100%|██████████| 9/9 [00:00<00:00, 570.59it/s, loss=3.76]\n"
          ]
        },
        {
          "name": "stdout",
          "output_type": "stream",
          "text": [
            "Epoch [1597/3000]: Train loss: 2.5203, Valid loss: 2.9215\n"
          ]
        },
        {
          "name": "stderr",
          "output_type": "stream",
          "text": [
            "Epoch [1598/3000]: 100%|██████████| 9/9 [00:00<00:00, 504.11it/s, loss=1.91]\n"
          ]
        },
        {
          "name": "stdout",
          "output_type": "stream",
          "text": [
            "Epoch [1598/3000]: Train loss: 2.1335, Valid loss: 2.0574\n"
          ]
        },
        {
          "name": "stderr",
          "output_type": "stream",
          "text": [
            "Epoch [1599/3000]: 100%|██████████| 9/9 [00:00<00:00, 541.26it/s, loss=2.09]\n"
          ]
        },
        {
          "name": "stdout",
          "output_type": "stream",
          "text": [
            "Epoch [1599/3000]: Train loss: 1.8030, Valid loss: 2.6105\n"
          ]
        },
        {
          "name": "stderr",
          "output_type": "stream",
          "text": [
            "Epoch [1600/3000]: 100%|██████████| 9/9 [00:00<00:00, 395.26it/s, loss=1.9]\n"
          ]
        },
        {
          "name": "stdout",
          "output_type": "stream",
          "text": [
            "Epoch [1600/3000]: Train loss: 1.8063, Valid loss: 1.7878\n"
          ]
        },
        {
          "name": "stderr",
          "output_type": "stream",
          "text": [
            "Epoch [1601/3000]: 100%|██████████| 9/9 [00:00<00:00, 376.15it/s, loss=1.63]\n"
          ]
        },
        {
          "name": "stdout",
          "output_type": "stream",
          "text": [
            "Epoch [1601/3000]: Train loss: 1.7109, Valid loss: 2.3254\n"
          ]
        },
        {
          "name": "stderr",
          "output_type": "stream",
          "text": [
            "Epoch [1602/3000]: 100%|██████████| 9/9 [00:00<00:00, 461.85it/s, loss=1.62]\n"
          ]
        },
        {
          "name": "stdout",
          "output_type": "stream",
          "text": [
            "Epoch [1602/3000]: Train loss: 1.7671, Valid loss: 2.4394\n"
          ]
        },
        {
          "name": "stderr",
          "output_type": "stream",
          "text": [
            "Epoch [1603/3000]: 100%|██████████| 9/9 [00:00<00:00, 492.98it/s, loss=2.81]\n"
          ]
        },
        {
          "name": "stdout",
          "output_type": "stream",
          "text": [
            "Epoch [1603/3000]: Train loss: 1.9780, Valid loss: 2.7579\n"
          ]
        },
        {
          "name": "stderr",
          "output_type": "stream",
          "text": [
            "Epoch [1604/3000]: 100%|██████████| 9/9 [00:00<00:00, 456.21it/s, loss=1.38]\n"
          ]
        },
        {
          "name": "stdout",
          "output_type": "stream",
          "text": [
            "Epoch [1604/3000]: Train loss: 1.9708, Valid loss: 2.7569\n"
          ]
        },
        {
          "name": "stderr",
          "output_type": "stream",
          "text": [
            "Epoch [1605/3000]: 100%|██████████| 9/9 [00:00<00:00, 172.93it/s, loss=1.55]\n"
          ]
        },
        {
          "name": "stdout",
          "output_type": "stream",
          "text": [
            "Epoch [1605/3000]: Train loss: 1.8406, Valid loss: 1.8180\n"
          ]
        },
        {
          "name": "stderr",
          "output_type": "stream",
          "text": [
            "Epoch [1606/3000]: 100%|██████████| 9/9 [00:00<00:00, 551.77it/s, loss=1.33]\n"
          ]
        },
        {
          "name": "stdout",
          "output_type": "stream",
          "text": [
            "Epoch [1606/3000]: Train loss: 1.6909, Valid loss: 2.8816\n"
          ]
        },
        {
          "name": "stderr",
          "output_type": "stream",
          "text": [
            "Epoch [1607/3000]: 100%|██████████| 9/9 [00:00<00:00, 538.60it/s, loss=2]\n"
          ]
        },
        {
          "name": "stdout",
          "output_type": "stream",
          "text": [
            "Epoch [1607/3000]: Train loss: 1.9452, Valid loss: 2.4705\n"
          ]
        },
        {
          "name": "stderr",
          "output_type": "stream",
          "text": [
            "Epoch [1608/3000]: 100%|██████████| 9/9 [00:00<00:00, 522.89it/s, loss=1.45]\n"
          ]
        },
        {
          "name": "stdout",
          "output_type": "stream",
          "text": [
            "Epoch [1608/3000]: Train loss: 1.7173, Valid loss: 2.1102\n"
          ]
        },
        {
          "name": "stderr",
          "output_type": "stream",
          "text": [
            "Epoch [1609/3000]: 100%|██████████| 9/9 [00:00<00:00, 557.00it/s, loss=1.54]\n"
          ]
        },
        {
          "name": "stdout",
          "output_type": "stream",
          "text": [
            "Epoch [1609/3000]: Train loss: 1.6960, Valid loss: 2.4524\n"
          ]
        },
        {
          "name": "stderr",
          "output_type": "stream",
          "text": [
            "Epoch [1610/3000]: 100%|██████████| 9/9 [00:00<00:00, 373.85it/s, loss=2.34]\n"
          ]
        },
        {
          "name": "stdout",
          "output_type": "stream",
          "text": [
            "Epoch [1610/3000]: Train loss: 1.7395, Valid loss: 1.9199\n"
          ]
        },
        {
          "name": "stderr",
          "output_type": "stream",
          "text": [
            "Epoch [1611/3000]: 100%|██████████| 9/9 [00:00<00:00, 372.84it/s, loss=1.38]\n"
          ]
        },
        {
          "name": "stdout",
          "output_type": "stream",
          "text": [
            "Epoch [1611/3000]: Train loss: 1.7424, Valid loss: 1.9105\n"
          ]
        },
        {
          "name": "stderr",
          "output_type": "stream",
          "text": [
            "Epoch [1612/3000]: 100%|██████████| 9/9 [00:00<00:00, 586.85it/s, loss=2.11]\n"
          ]
        },
        {
          "name": "stdout",
          "output_type": "stream",
          "text": [
            "Epoch [1612/3000]: Train loss: 1.7482, Valid loss: 2.0650\n"
          ]
        },
        {
          "name": "stderr",
          "output_type": "stream",
          "text": [
            "Epoch [1613/3000]: 100%|██████████| 9/9 [00:00<00:00, 475.11it/s, loss=1.51]\n"
          ]
        },
        {
          "name": "stdout",
          "output_type": "stream",
          "text": [
            "Epoch [1613/3000]: Train loss: 1.7649, Valid loss: 1.8941\n"
          ]
        },
        {
          "name": "stderr",
          "output_type": "stream",
          "text": [
            "Epoch [1614/3000]: 100%|██████████| 9/9 [00:00<00:00, 429.54it/s, loss=2.08]\n"
          ]
        },
        {
          "name": "stdout",
          "output_type": "stream",
          "text": [
            "Epoch [1614/3000]: Train loss: 1.7772, Valid loss: 1.9947\n"
          ]
        },
        {
          "name": "stderr",
          "output_type": "stream",
          "text": [
            "Epoch [1615/3000]: 100%|██████████| 9/9 [00:00<00:00, 490.78it/s, loss=1.62]\n"
          ]
        },
        {
          "name": "stdout",
          "output_type": "stream",
          "text": [
            "Epoch [1615/3000]: Train loss: 1.8293, Valid loss: 2.0326\n"
          ]
        },
        {
          "name": "stderr",
          "output_type": "stream",
          "text": [
            "Epoch [1616/3000]: 100%|██████████| 9/9 [00:00<00:00, 403.07it/s, loss=1.86]\n"
          ]
        },
        {
          "name": "stdout",
          "output_type": "stream",
          "text": [
            "Epoch [1616/3000]: Train loss: 1.9778, Valid loss: 3.2229\n"
          ]
        },
        {
          "name": "stderr",
          "output_type": "stream",
          "text": [
            "Epoch [1617/3000]: 100%|██████████| 9/9 [00:00<00:00, 193.18it/s, loss=1.84]\n"
          ]
        },
        {
          "name": "stdout",
          "output_type": "stream",
          "text": [
            "Epoch [1617/3000]: Train loss: 2.2781, Valid loss: 2.2705\n"
          ]
        },
        {
          "name": "stderr",
          "output_type": "stream",
          "text": [
            "Epoch [1618/3000]: 100%|██████████| 9/9 [00:00<00:00, 490.03it/s, loss=1.47]\n"
          ]
        },
        {
          "name": "stdout",
          "output_type": "stream",
          "text": [
            "Epoch [1618/3000]: Train loss: 1.7444, Valid loss: 1.9099\n"
          ]
        },
        {
          "name": "stderr",
          "output_type": "stream",
          "text": [
            "Epoch [1619/3000]: 100%|██████████| 9/9 [00:00<00:00, 418.17it/s, loss=1.36]\n"
          ]
        },
        {
          "name": "stdout",
          "output_type": "stream",
          "text": [
            "Epoch [1619/3000]: Train loss: 1.8213, Valid loss: 1.9586\n"
          ]
        },
        {
          "name": "stderr",
          "output_type": "stream",
          "text": [
            "Epoch [1620/3000]: 100%|██████████| 9/9 [00:00<00:00, 423.13it/s, loss=1.27]\n"
          ]
        },
        {
          "name": "stdout",
          "output_type": "stream",
          "text": [
            "Epoch [1620/3000]: Train loss: 1.6732, Valid loss: 2.6999\n"
          ]
        },
        {
          "name": "stderr",
          "output_type": "stream",
          "text": [
            "Epoch [1621/3000]: 100%|██████████| 9/9 [00:00<00:00, 594.18it/s, loss=1.88]\n"
          ]
        },
        {
          "name": "stdout",
          "output_type": "stream",
          "text": [
            "Epoch [1621/3000]: Train loss: 1.9902, Valid loss: 2.7012\n"
          ]
        },
        {
          "name": "stderr",
          "output_type": "stream",
          "text": [
            "Epoch [1622/3000]: 100%|██████████| 9/9 [00:00<00:00, 445.94it/s, loss=1.98]\n"
          ]
        },
        {
          "name": "stdout",
          "output_type": "stream",
          "text": [
            "Epoch [1622/3000]: Train loss: 2.2426, Valid loss: 2.7402\n"
          ]
        },
        {
          "name": "stderr",
          "output_type": "stream",
          "text": [
            "Epoch [1623/3000]: 100%|██████████| 9/9 [00:00<00:00, 533.61it/s, loss=2.37]\n"
          ]
        },
        {
          "name": "stdout",
          "output_type": "stream",
          "text": [
            "Epoch [1623/3000]: Train loss: 2.2232, Valid loss: 2.1136\n"
          ]
        },
        {
          "name": "stderr",
          "output_type": "stream",
          "text": [
            "Epoch [1624/3000]: 100%|██████████| 9/9 [00:00<00:00, 535.23it/s, loss=6.22]\n"
          ]
        },
        {
          "name": "stdout",
          "output_type": "stream",
          "text": [
            "Epoch [1624/3000]: Train loss: 3.3514, Valid loss: 2.0852\n"
          ]
        },
        {
          "name": "stderr",
          "output_type": "stream",
          "text": [
            "Epoch [1625/3000]: 100%|██████████| 9/9 [00:00<00:00, 376.88it/s, loss=5.44]\n"
          ]
        },
        {
          "name": "stdout",
          "output_type": "stream",
          "text": [
            "Epoch [1625/3000]: Train loss: 2.9974, Valid loss: 3.5336\n"
          ]
        },
        {
          "name": "stderr",
          "output_type": "stream",
          "text": [
            "Epoch [1626/3000]: 100%|██████████| 9/9 [00:00<00:00, 543.68it/s, loss=2.18]\n"
          ]
        },
        {
          "name": "stdout",
          "output_type": "stream",
          "text": [
            "Epoch [1626/3000]: Train loss: 2.3045, Valid loss: 2.1855\n"
          ]
        },
        {
          "name": "stderr",
          "output_type": "stream",
          "text": [
            "Epoch [1627/3000]: 100%|██████████| 9/9 [00:00<00:00, 517.39it/s, loss=1.67]\n"
          ]
        },
        {
          "name": "stdout",
          "output_type": "stream",
          "text": [
            "Epoch [1627/3000]: Train loss: 1.8551, Valid loss: 2.0299\n"
          ]
        },
        {
          "name": "stderr",
          "output_type": "stream",
          "text": [
            "Epoch [1628/3000]: 100%|██████████| 9/9 [00:00<00:00, 122.51it/s, loss=2.05]\n"
          ]
        },
        {
          "name": "stdout",
          "output_type": "stream",
          "text": [
            "Epoch [1628/3000]: Train loss: 1.7434, Valid loss: 1.9621\n"
          ]
        },
        {
          "name": "stderr",
          "output_type": "stream",
          "text": [
            "Epoch [1629/3000]: 100%|██████████| 9/9 [00:00<00:00, 497.53it/s, loss=1.62]\n"
          ]
        },
        {
          "name": "stdout",
          "output_type": "stream",
          "text": [
            "Epoch [1629/3000]: Train loss: 1.7679, Valid loss: 2.0437\n"
          ]
        },
        {
          "name": "stderr",
          "output_type": "stream",
          "text": [
            "Epoch [1630/3000]: 100%|██████████| 9/9 [00:00<00:00, 435.48it/s, loss=2.03]\n"
          ]
        },
        {
          "name": "stdout",
          "output_type": "stream",
          "text": [
            "Epoch [1630/3000]: Train loss: 2.0298, Valid loss: 2.2946\n"
          ]
        },
        {
          "name": "stderr",
          "output_type": "stream",
          "text": [
            "Epoch [1631/3000]: 100%|██████████| 9/9 [00:00<00:00, 412.81it/s, loss=1.46]\n"
          ]
        },
        {
          "name": "stdout",
          "output_type": "stream",
          "text": [
            "Epoch [1631/3000]: Train loss: 1.9703, Valid loss: 3.1553\n"
          ]
        },
        {
          "name": "stderr",
          "output_type": "stream",
          "text": [
            "Epoch [1632/3000]: 100%|██████████| 9/9 [00:00<00:00, 436.13it/s, loss=2.15]\n"
          ]
        },
        {
          "name": "stdout",
          "output_type": "stream",
          "text": [
            "Epoch [1632/3000]: Train loss: 1.9293, Valid loss: 3.3132\n"
          ]
        },
        {
          "name": "stderr",
          "output_type": "stream",
          "text": [
            "Epoch [1633/3000]: 100%|██████████| 9/9 [00:00<00:00, 595.99it/s, loss=1.8]\n"
          ]
        },
        {
          "name": "stdout",
          "output_type": "stream",
          "text": [
            "Epoch [1633/3000]: Train loss: 2.1186, Valid loss: 1.7982\n"
          ]
        },
        {
          "name": "stderr",
          "output_type": "stream",
          "text": [
            "Epoch [1634/3000]: 100%|██████████| 9/9 [00:00<00:00, 468.40it/s, loss=1.95]\n"
          ]
        },
        {
          "name": "stdout",
          "output_type": "stream",
          "text": [
            "Epoch [1634/3000]: Train loss: 1.7171, Valid loss: 1.8995\n"
          ]
        },
        {
          "name": "stderr",
          "output_type": "stream",
          "text": [
            "Epoch [1635/3000]: 100%|██████████| 9/9 [00:00<00:00, 542.00it/s, loss=1.46]\n"
          ]
        },
        {
          "name": "stdout",
          "output_type": "stream",
          "text": [
            "Epoch [1635/3000]: Train loss: 1.9248, Valid loss: 2.2502\n"
          ]
        },
        {
          "name": "stderr",
          "output_type": "stream",
          "text": [
            "Epoch [1636/3000]: 100%|██████████| 9/9 [00:00<00:00, 394.79it/s, loss=1.13]\n"
          ]
        },
        {
          "name": "stdout",
          "output_type": "stream",
          "text": [
            "Epoch [1636/3000]: Train loss: 1.6909, Valid loss: 2.1452\n"
          ]
        },
        {
          "name": "stderr",
          "output_type": "stream",
          "text": [
            "Epoch [1637/3000]: 100%|██████████| 9/9 [00:00<00:00, 472.22it/s, loss=1.79]\n"
          ]
        },
        {
          "name": "stdout",
          "output_type": "stream",
          "text": [
            "Epoch [1637/3000]: Train loss: 1.7550, Valid loss: 2.0535\n"
          ]
        },
        {
          "name": "stderr",
          "output_type": "stream",
          "text": [
            "Epoch [1638/3000]: 100%|██████████| 9/9 [00:00<00:00, 535.65it/s, loss=2.01]\n"
          ]
        },
        {
          "name": "stdout",
          "output_type": "stream",
          "text": [
            "Epoch [1638/3000]: Train loss: 1.7776, Valid loss: 2.3292\n"
          ]
        },
        {
          "name": "stderr",
          "output_type": "stream",
          "text": [
            "Epoch [1639/3000]: 100%|██████████| 9/9 [00:00<00:00, 88.95it/s, loss=1.77]\n"
          ]
        },
        {
          "name": "stdout",
          "output_type": "stream",
          "text": [
            "Epoch [1639/3000]: Train loss: 1.8824, Valid loss: 1.7574\n"
          ]
        },
        {
          "name": "stderr",
          "output_type": "stream",
          "text": [
            "Epoch [1640/3000]: 100%|██████████| 9/9 [00:00<00:00, 545.45it/s, loss=1.68]\n"
          ]
        },
        {
          "name": "stdout",
          "output_type": "stream",
          "text": [
            "Epoch [1640/3000]: Train loss: 1.7387, Valid loss: 1.9149\n"
          ]
        },
        {
          "name": "stderr",
          "output_type": "stream",
          "text": [
            "Epoch [1641/3000]: 100%|██████████| 9/9 [00:00<00:00, 509.22it/s, loss=1.63]\n"
          ]
        },
        {
          "name": "stdout",
          "output_type": "stream",
          "text": [
            "Epoch [1641/3000]: Train loss: 1.7146, Valid loss: 1.7964\n"
          ]
        },
        {
          "name": "stderr",
          "output_type": "stream",
          "text": [
            "Epoch [1642/3000]: 100%|██████████| 9/9 [00:00<00:00, 539.28it/s, loss=2.58]\n"
          ]
        },
        {
          "name": "stdout",
          "output_type": "stream",
          "text": [
            "Epoch [1642/3000]: Train loss: 1.8212, Valid loss: 2.2848\n"
          ]
        },
        {
          "name": "stderr",
          "output_type": "stream",
          "text": [
            "Epoch [1643/3000]: 100%|██████████| 9/9 [00:00<00:00, 532.99it/s, loss=2.7]\n"
          ]
        },
        {
          "name": "stdout",
          "output_type": "stream",
          "text": [
            "Epoch [1643/3000]: Train loss: 2.0408, Valid loss: 3.6870\n"
          ]
        },
        {
          "name": "stderr",
          "output_type": "stream",
          "text": [
            "Epoch [1644/3000]: 100%|██████████| 9/9 [00:00<00:00, 556.31it/s, loss=3.67]\n"
          ]
        },
        {
          "name": "stdout",
          "output_type": "stream",
          "text": [
            "Epoch [1644/3000]: Train loss: 2.9067, Valid loss: 2.1825\n"
          ]
        },
        {
          "name": "stderr",
          "output_type": "stream",
          "text": [
            "Epoch [1645/3000]: 100%|██████████| 9/9 [00:00<00:00, 413.23it/s, loss=3.48]\n"
          ]
        },
        {
          "name": "stdout",
          "output_type": "stream",
          "text": [
            "Epoch [1645/3000]: Train loss: 2.4762, Valid loss: 3.6349\n"
          ]
        },
        {
          "name": "stderr",
          "output_type": "stream",
          "text": [
            "Epoch [1646/3000]: 100%|██████████| 9/9 [00:00<00:00, 363.93it/s, loss=2.37]\n"
          ]
        },
        {
          "name": "stdout",
          "output_type": "stream",
          "text": [
            "Epoch [1646/3000]: Train loss: 2.3539, Valid loss: 2.9011\n"
          ]
        },
        {
          "name": "stderr",
          "output_type": "stream",
          "text": [
            "Epoch [1647/3000]: 100%|██████████| 9/9 [00:00<00:00, 590.59it/s, loss=1.71]\n"
          ]
        },
        {
          "name": "stdout",
          "output_type": "stream",
          "text": [
            "Epoch [1647/3000]: Train loss: 2.0580, Valid loss: 3.4002\n"
          ]
        },
        {
          "name": "stderr",
          "output_type": "stream",
          "text": [
            "Epoch [1648/3000]: 100%|██████████| 9/9 [00:00<00:00, 566.25it/s, loss=2.89]\n"
          ]
        },
        {
          "name": "stdout",
          "output_type": "stream",
          "text": [
            "Epoch [1648/3000]: Train loss: 2.3135, Valid loss: 1.9766\n"
          ]
        },
        {
          "name": "stderr",
          "output_type": "stream",
          "text": [
            "Epoch [1649/3000]: 100%|██████████| 9/9 [00:00<00:00, 307.24it/s, loss=1.52]\n"
          ]
        },
        {
          "name": "stdout",
          "output_type": "stream",
          "text": [
            "Epoch [1649/3000]: Train loss: 1.9216, Valid loss: 2.5633\n"
          ]
        },
        {
          "name": "stderr",
          "output_type": "stream",
          "text": [
            "Epoch [1650/3000]: 100%|██████████| 9/9 [00:00<00:00, 572.63it/s, loss=2.11]\n"
          ]
        },
        {
          "name": "stdout",
          "output_type": "stream",
          "text": [
            "Epoch [1650/3000]: Train loss: 2.0125, Valid loss: 2.4196\n"
          ]
        },
        {
          "name": "stderr",
          "output_type": "stream",
          "text": [
            "Epoch [1651/3000]: 100%|██████████| 9/9 [00:00<00:00, 558.24it/s, loss=2.43]\n"
          ]
        },
        {
          "name": "stdout",
          "output_type": "stream",
          "text": [
            "Epoch [1651/3000]: Train loss: 1.9555, Valid loss: 3.8824\n"
          ]
        },
        {
          "name": "stderr",
          "output_type": "stream",
          "text": [
            "Epoch [1652/3000]: 100%|██████████| 9/9 [00:00<00:00, 316.35it/s, loss=1.57]\n"
          ]
        },
        {
          "name": "stdout",
          "output_type": "stream",
          "text": [
            "Epoch [1652/3000]: Train loss: 2.4290, Valid loss: 3.2373\n"
          ]
        },
        {
          "name": "stderr",
          "output_type": "stream",
          "text": [
            "Epoch [1653/3000]: 100%|██████████| 9/9 [00:00<00:00, 551.37it/s, loss=1.22]\n"
          ]
        },
        {
          "name": "stdout",
          "output_type": "stream",
          "text": [
            "Epoch [1653/3000]: Train loss: 2.0095, Valid loss: 2.3899\n"
          ]
        },
        {
          "name": "stderr",
          "output_type": "stream",
          "text": [
            "Epoch [1654/3000]: 100%|██████████| 9/9 [00:00<00:00, 444.49it/s, loss=1.52]\n"
          ]
        },
        {
          "name": "stdout",
          "output_type": "stream",
          "text": [
            "Epoch [1654/3000]: Train loss: 1.6847, Valid loss: 2.2036\n"
          ]
        },
        {
          "name": "stderr",
          "output_type": "stream",
          "text": [
            "Epoch [1655/3000]: 100%|██████████| 9/9 [00:00<00:00, 422.94it/s, loss=2.05]\n"
          ]
        },
        {
          "name": "stdout",
          "output_type": "stream",
          "text": [
            "Epoch [1655/3000]: Train loss: 1.9579, Valid loss: 2.3386\n"
          ]
        },
        {
          "name": "stderr",
          "output_type": "stream",
          "text": [
            "Epoch [1656/3000]: 100%|██████████| 9/9 [00:00<00:00, 403.08it/s, loss=1.62]\n"
          ]
        },
        {
          "name": "stdout",
          "output_type": "stream",
          "text": [
            "Epoch [1656/3000]: Train loss: 2.1843, Valid loss: 3.2673\n"
          ]
        },
        {
          "name": "stderr",
          "output_type": "stream",
          "text": [
            "Epoch [1657/3000]: 100%|██████████| 9/9 [00:00<00:00, 486.09it/s, loss=2.23]\n"
          ]
        },
        {
          "name": "stdout",
          "output_type": "stream",
          "text": [
            "Epoch [1657/3000]: Train loss: 2.0540, Valid loss: 1.7421\n"
          ]
        },
        {
          "name": "stderr",
          "output_type": "stream",
          "text": [
            "Epoch [1658/3000]: 100%|██████████| 9/9 [00:00<00:00, 132.06it/s, loss=1.75]\n"
          ]
        },
        {
          "name": "stdout",
          "output_type": "stream",
          "text": [
            "Epoch [1658/3000]: Train loss: 1.9061, Valid loss: 2.3710\n"
          ]
        },
        {
          "name": "stderr",
          "output_type": "stream",
          "text": [
            "Epoch [1659/3000]: 100%|██████████| 9/9 [00:00<00:00, 528.83it/s, loss=1.72]\n"
          ]
        },
        {
          "name": "stdout",
          "output_type": "stream",
          "text": [
            "Epoch [1659/3000]: Train loss: 2.2157, Valid loss: 2.8827\n"
          ]
        },
        {
          "name": "stderr",
          "output_type": "stream",
          "text": [
            "Epoch [1660/3000]: 100%|██████████| 9/9 [00:00<00:00, 438.36it/s, loss=2.84]\n"
          ]
        },
        {
          "name": "stdout",
          "output_type": "stream",
          "text": [
            "Epoch [1660/3000]: Train loss: 2.2892, Valid loss: 2.3193\n"
          ]
        },
        {
          "name": "stderr",
          "output_type": "stream",
          "text": [
            "Epoch [1661/3000]: 100%|██████████| 9/9 [00:00<00:00, 453.69it/s, loss=1.82]\n"
          ]
        },
        {
          "name": "stdout",
          "output_type": "stream",
          "text": [
            "Epoch [1661/3000]: Train loss: 1.9110, Valid loss: 2.0193\n"
          ]
        },
        {
          "name": "stderr",
          "output_type": "stream",
          "text": [
            "Epoch [1662/3000]: 100%|██████████| 9/9 [00:00<00:00, 453.56it/s, loss=2.48]\n"
          ]
        },
        {
          "name": "stdout",
          "output_type": "stream",
          "text": [
            "Epoch [1662/3000]: Train loss: 1.7881, Valid loss: 2.1751\n"
          ]
        },
        {
          "name": "stderr",
          "output_type": "stream",
          "text": [
            "Epoch [1663/3000]: 100%|██████████| 9/9 [00:00<00:00, 428.18it/s, loss=1.67]\n"
          ]
        },
        {
          "name": "stdout",
          "output_type": "stream",
          "text": [
            "Epoch [1663/3000]: Train loss: 1.8233, Valid loss: 2.0229\n"
          ]
        },
        {
          "name": "stderr",
          "output_type": "stream",
          "text": [
            "Epoch [1664/3000]: 100%|██████████| 9/9 [00:00<00:00, 142.44it/s, loss=1.86]\n"
          ]
        },
        {
          "name": "stdout",
          "output_type": "stream",
          "text": [
            "Epoch [1664/3000]: Train loss: 1.8496, Valid loss: 2.1268\n"
          ]
        },
        {
          "name": "stderr",
          "output_type": "stream",
          "text": [
            "Epoch [1665/3000]: 100%|██████████| 9/9 [00:00<00:00, 480.13it/s, loss=2.65]\n"
          ]
        },
        {
          "name": "stdout",
          "output_type": "stream",
          "text": [
            "Epoch [1665/3000]: Train loss: 1.8398, Valid loss: 1.7475\n"
          ]
        },
        {
          "name": "stderr",
          "output_type": "stream",
          "text": [
            "Epoch [1666/3000]: 100%|██████████| 9/9 [00:00<00:00, 460.97it/s, loss=1.93]\n"
          ]
        },
        {
          "name": "stdout",
          "output_type": "stream",
          "text": [
            "Epoch [1666/3000]: Train loss: 1.9025, Valid loss: 1.9717\n"
          ]
        },
        {
          "name": "stderr",
          "output_type": "stream",
          "text": [
            "Epoch [1667/3000]: 100%|██████████| 9/9 [00:00<00:00, 443.46it/s, loss=3.44]\n"
          ]
        },
        {
          "name": "stdout",
          "output_type": "stream",
          "text": [
            "Epoch [1667/3000]: Train loss: 2.3021, Valid loss: 1.9106\n"
          ]
        },
        {
          "name": "stderr",
          "output_type": "stream",
          "text": [
            "Epoch [1668/3000]: 100%|██████████| 9/9 [00:00<00:00, 423.61it/s, loss=2.14]\n"
          ]
        },
        {
          "name": "stdout",
          "output_type": "stream",
          "text": [
            "Epoch [1668/3000]: Train loss: 2.3504, Valid loss: 2.6676\n"
          ]
        },
        {
          "name": "stderr",
          "output_type": "stream",
          "text": [
            "Epoch [1669/3000]: 100%|██████████| 9/9 [00:00<00:00, 528.63it/s, loss=2.72]\n"
          ]
        },
        {
          "name": "stdout",
          "output_type": "stream",
          "text": [
            "Epoch [1669/3000]: Train loss: 2.1042, Valid loss: 2.3115\n"
          ]
        },
        {
          "name": "stderr",
          "output_type": "stream",
          "text": [
            "Epoch [1670/3000]: 100%|██████████| 9/9 [00:00<00:00, 157.21it/s, loss=2.48]\n"
          ]
        },
        {
          "name": "stdout",
          "output_type": "stream",
          "text": [
            "Epoch [1670/3000]: Train loss: 1.9042, Valid loss: 2.8578\n"
          ]
        },
        {
          "name": "stderr",
          "output_type": "stream",
          "text": [
            "Epoch [1671/3000]: 100%|██████████| 9/9 [00:00<00:00, 308.20it/s, loss=1.43]\n"
          ]
        },
        {
          "name": "stdout",
          "output_type": "stream",
          "text": [
            "Epoch [1671/3000]: Train loss: 1.9843, Valid loss: 2.6421\n"
          ]
        },
        {
          "name": "stderr",
          "output_type": "stream",
          "text": [
            "Epoch [1672/3000]: 100%|██████████| 9/9 [00:00<00:00, 388.77it/s, loss=1.84]\n"
          ]
        },
        {
          "name": "stdout",
          "output_type": "stream",
          "text": [
            "Epoch [1672/3000]: Train loss: 2.1251, Valid loss: 2.4651\n"
          ]
        },
        {
          "name": "stderr",
          "output_type": "stream",
          "text": [
            "Epoch [1673/3000]: 100%|██████████| 9/9 [00:00<00:00, 443.76it/s, loss=1.72]\n"
          ]
        },
        {
          "name": "stdout",
          "output_type": "stream",
          "text": [
            "Epoch [1673/3000]: Train loss: 2.0375, Valid loss: 2.4946\n"
          ]
        },
        {
          "name": "stderr",
          "output_type": "stream",
          "text": [
            "Epoch [1674/3000]: 100%|██████████| 9/9 [00:00<00:00, 476.19it/s, loss=1.66]\n"
          ]
        },
        {
          "name": "stdout",
          "output_type": "stream",
          "text": [
            "Epoch [1674/3000]: Train loss: 1.7392, Valid loss: 2.3439\n"
          ]
        },
        {
          "name": "stderr",
          "output_type": "stream",
          "text": [
            "Epoch [1675/3000]: 100%|██████████| 9/9 [00:00<00:00, 133.25it/s, loss=1.52]\n"
          ]
        },
        {
          "name": "stdout",
          "output_type": "stream",
          "text": [
            "Epoch [1675/3000]: Train loss: 1.8789, Valid loss: 1.8642\n"
          ]
        },
        {
          "name": "stderr",
          "output_type": "stream",
          "text": [
            "Epoch [1676/3000]: 100%|██████████| 9/9 [00:00<00:00, 99.53it/s, loss=1.74]\n"
          ]
        },
        {
          "name": "stdout",
          "output_type": "stream",
          "text": [
            "Epoch [1676/3000]: Train loss: 1.8135, Valid loss: 1.7969\n"
          ]
        },
        {
          "name": "stderr",
          "output_type": "stream",
          "text": [
            "Epoch [1677/3000]: 100%|██████████| 9/9 [00:00<00:00, 513.02it/s, loss=1.57]\n"
          ]
        },
        {
          "name": "stdout",
          "output_type": "stream",
          "text": [
            "Epoch [1677/3000]: Train loss: 1.7354, Valid loss: 3.0315\n"
          ]
        },
        {
          "name": "stderr",
          "output_type": "stream",
          "text": [
            "Epoch [1678/3000]: 100%|██████████| 9/9 [00:00<00:00, 449.12it/s, loss=1.71]\n"
          ]
        },
        {
          "name": "stdout",
          "output_type": "stream",
          "text": [
            "Epoch [1678/3000]: Train loss: 1.9491, Valid loss: 2.6514\n"
          ]
        },
        {
          "name": "stderr",
          "output_type": "stream",
          "text": [
            "Epoch [1679/3000]: 100%|██████████| 9/9 [00:00<00:00, 374.17it/s, loss=2.73]\n"
          ]
        },
        {
          "name": "stdout",
          "output_type": "stream",
          "text": [
            "Epoch [1679/3000]: Train loss: 2.1579, Valid loss: 2.0305\n"
          ]
        },
        {
          "name": "stderr",
          "output_type": "stream",
          "text": [
            "Epoch [1680/3000]: 100%|██████████| 9/9 [00:00<00:00, 551.37it/s, loss=2.32]\n"
          ]
        },
        {
          "name": "stdout",
          "output_type": "stream",
          "text": [
            "Epoch [1680/3000]: Train loss: 2.1231, Valid loss: 2.3565\n"
          ]
        },
        {
          "name": "stderr",
          "output_type": "stream",
          "text": [
            "Epoch [1681/3000]: 100%|██████████| 9/9 [00:00<00:00, 356.43it/s, loss=1.7]\n"
          ]
        },
        {
          "name": "stdout",
          "output_type": "stream",
          "text": [
            "Epoch [1681/3000]: Train loss: 1.7382, Valid loss: 1.9911\n"
          ]
        },
        {
          "name": "stderr",
          "output_type": "stream",
          "text": [
            "Epoch [1682/3000]: 100%|██████████| 9/9 [00:00<00:00, 228.84it/s, loss=1.47]\n"
          ]
        },
        {
          "name": "stdout",
          "output_type": "stream",
          "text": [
            "Epoch [1682/3000]: Train loss: 1.6578, Valid loss: 1.9484\n"
          ]
        },
        {
          "name": "stderr",
          "output_type": "stream",
          "text": [
            "Epoch [1683/3000]: 100%|██████████| 9/9 [00:00<00:00, 265.46it/s, loss=1.63]\n"
          ]
        },
        {
          "name": "stdout",
          "output_type": "stream",
          "text": [
            "Epoch [1683/3000]: Train loss: 1.6845, Valid loss: 1.9248\n"
          ]
        },
        {
          "name": "stderr",
          "output_type": "stream",
          "text": [
            "Epoch [1684/3000]: 100%|██████████| 9/9 [00:00<00:00, 319.06it/s, loss=1.66]\n"
          ]
        },
        {
          "name": "stdout",
          "output_type": "stream",
          "text": [
            "Epoch [1684/3000]: Train loss: 1.7072, Valid loss: 2.0880\n"
          ]
        },
        {
          "name": "stderr",
          "output_type": "stream",
          "text": [
            "Epoch [1685/3000]: 100%|██████████| 9/9 [00:00<00:00, 282.50it/s, loss=1.87]\n"
          ]
        },
        {
          "name": "stdout",
          "output_type": "stream",
          "text": [
            "Epoch [1685/3000]: Train loss: 1.7358, Valid loss: 2.8294\n"
          ]
        },
        {
          "name": "stderr",
          "output_type": "stream",
          "text": [
            "Epoch [1686/3000]: 100%|██████████| 9/9 [00:00<00:00, 263.77it/s, loss=1.59]\n"
          ]
        },
        {
          "name": "stdout",
          "output_type": "stream",
          "text": [
            "Epoch [1686/3000]: Train loss: 1.8902, Valid loss: 2.3645\n"
          ]
        },
        {
          "name": "stderr",
          "output_type": "stream",
          "text": [
            "Epoch [1687/3000]: 100%|██████████| 9/9 [00:00<00:00, 216.74it/s, loss=1.71]\n"
          ]
        },
        {
          "name": "stdout",
          "output_type": "stream",
          "text": [
            "Epoch [1687/3000]: Train loss: 1.7417, Valid loss: 2.1360\n"
          ]
        },
        {
          "name": "stderr",
          "output_type": "stream",
          "text": [
            "Epoch [1688/3000]: 100%|██████████| 9/9 [00:00<00:00, 275.73it/s, loss=3.04]\n"
          ]
        },
        {
          "name": "stdout",
          "output_type": "stream",
          "text": [
            "Epoch [1688/3000]: Train loss: 2.0575, Valid loss: 2.2241\n"
          ]
        },
        {
          "name": "stderr",
          "output_type": "stream",
          "text": [
            "Epoch [1689/3000]: 100%|██████████| 9/9 [00:00<00:00, 346.90it/s, loss=1.52]\n"
          ]
        },
        {
          "name": "stdout",
          "output_type": "stream",
          "text": [
            "Epoch [1689/3000]: Train loss: 1.7573, Valid loss: 1.8426\n"
          ]
        },
        {
          "name": "stderr",
          "output_type": "stream",
          "text": [
            "Epoch [1690/3000]: 100%|██████████| 9/9 [00:00<00:00, 426.64it/s, loss=1.77]"
          ]
        },
        {
          "name": "stdout",
          "output_type": "stream",
          "text": [
            "Epoch [1690/3000]: Train loss: 1.7018, Valid loss: 2.1091"
          ]
        },
        {
          "name": "stderr",
          "output_type": "stream",
          "text": [
            "\n"
          ]
        },
        {
          "name": "stdout",
          "output_type": "stream",
          "text": [
            "\n"
          ]
        },
        {
          "name": "stderr",
          "output_type": "stream",
          "text": [
            "Epoch [1691/3000]: 100%|██████████| 9/9 [00:00<00:00, 360.65it/s, loss=1.91]\n"
          ]
        },
        {
          "name": "stdout",
          "output_type": "stream",
          "text": [
            "Epoch [1691/3000]: Train loss: 2.2255, Valid loss: 2.6593\n"
          ]
        },
        {
          "name": "stderr",
          "output_type": "stream",
          "text": [
            "Epoch [1692/3000]: 100%|██████████| 9/9 [00:00<00:00, 494.88it/s, loss=1.48]\n"
          ]
        },
        {
          "name": "stdout",
          "output_type": "stream",
          "text": [
            "Epoch [1692/3000]: Train loss: 2.0002, Valid loss: 1.9373\n"
          ]
        },
        {
          "name": "stderr",
          "output_type": "stream",
          "text": [
            "Epoch [1693/3000]: 100%|██████████| 9/9 [00:00<00:00, 396.72it/s, loss=1.68]\n"
          ]
        },
        {
          "name": "stdout",
          "output_type": "stream",
          "text": [
            "Epoch [1693/3000]: Train loss: 1.7179, Valid loss: 1.7417\n"
          ]
        },
        {
          "name": "stderr",
          "output_type": "stream",
          "text": [
            "Epoch [1694/3000]: 100%|██████████| 9/9 [00:00<00:00, 480.64it/s, loss=1.34]\n"
          ]
        },
        {
          "name": "stdout",
          "output_type": "stream",
          "text": [
            "Epoch [1694/3000]: Train loss: 1.7023, Valid loss: 2.6507\n"
          ]
        },
        {
          "name": "stderr",
          "output_type": "stream",
          "text": [
            "Epoch [1695/3000]: 100%|██████████| 9/9 [00:00<00:00, 499.61it/s, loss=2.18]\n"
          ]
        },
        {
          "name": "stdout",
          "output_type": "stream",
          "text": [
            "Epoch [1695/3000]: Train loss: 1.8068, Valid loss: 2.5793\n"
          ]
        },
        {
          "name": "stderr",
          "output_type": "stream",
          "text": [
            "Epoch [1696/3000]: 100%|██████████| 9/9 [00:00<00:00, 244.81it/s, loss=1.41]\n"
          ]
        },
        {
          "name": "stdout",
          "output_type": "stream",
          "text": [
            "Epoch [1696/3000]: Train loss: 1.8047, Valid loss: 2.2761\n"
          ]
        },
        {
          "name": "stderr",
          "output_type": "stream",
          "text": [
            "Epoch [1697/3000]: 100%|██████████| 9/9 [00:00<00:00, 519.93it/s, loss=1.93]\n"
          ]
        },
        {
          "name": "stdout",
          "output_type": "stream",
          "text": [
            "Epoch [1697/3000]: Train loss: 1.8249, Valid loss: 2.5834\n"
          ]
        },
        {
          "name": "stderr",
          "output_type": "stream",
          "text": [
            "Epoch [1698/3000]: 100%|██████████| 9/9 [00:00<00:00, 563.84it/s, loss=1.88]\n"
          ]
        },
        {
          "name": "stdout",
          "output_type": "stream",
          "text": [
            "Epoch [1698/3000]: Train loss: 1.9492, Valid loss: 1.8910\n"
          ]
        },
        {
          "name": "stderr",
          "output_type": "stream",
          "text": [
            "Epoch [1699/3000]: 100%|██████████| 9/9 [00:00<00:00, 370.98it/s, loss=1.67]\n"
          ]
        },
        {
          "name": "stdout",
          "output_type": "stream",
          "text": [
            "Epoch [1699/3000]: Train loss: 1.8223, Valid loss: 2.4426\n"
          ]
        },
        {
          "name": "stderr",
          "output_type": "stream",
          "text": [
            "Epoch [1700/3000]: 100%|██████████| 9/9 [00:00<00:00, 144.71it/s, loss=1.8]\n"
          ]
        },
        {
          "name": "stdout",
          "output_type": "stream",
          "text": [
            "Epoch [1700/3000]: Train loss: 1.9230, Valid loss: 2.1970\n"
          ]
        },
        {
          "name": "stderr",
          "output_type": "stream",
          "text": [
            "Epoch [1701/3000]: 100%|██████████| 9/9 [00:00<00:00, 537.59it/s, loss=1.7]\n"
          ]
        },
        {
          "name": "stdout",
          "output_type": "stream",
          "text": [
            "Epoch [1701/3000]: Train loss: 1.9637, Valid loss: 2.2973\n"
          ]
        },
        {
          "name": "stderr",
          "output_type": "stream",
          "text": [
            "Epoch [1702/3000]: 100%|██████████| 9/9 [00:00<00:00, 469.12it/s, loss=1.55]\n"
          ]
        },
        {
          "name": "stdout",
          "output_type": "stream",
          "text": [
            "Epoch [1702/3000]: Train loss: 2.1057, Valid loss: 2.7654\n"
          ]
        },
        {
          "name": "stderr",
          "output_type": "stream",
          "text": [
            "Epoch [1703/3000]: 100%|██████████| 9/9 [00:00<00:00, 499.54it/s, loss=1.47]\n"
          ]
        },
        {
          "name": "stdout",
          "output_type": "stream",
          "text": [
            "Epoch [1703/3000]: Train loss: 1.8720, Valid loss: 2.2606\n"
          ]
        },
        {
          "name": "stderr",
          "output_type": "stream",
          "text": [
            "Epoch [1704/3000]: 100%|██████████| 9/9 [00:00<00:00, 252.19it/s, loss=1.96]\n"
          ]
        },
        {
          "name": "stdout",
          "output_type": "stream",
          "text": [
            "Epoch [1704/3000]: Train loss: 1.8714, Valid loss: 1.9557\n"
          ]
        },
        {
          "name": "stderr",
          "output_type": "stream",
          "text": [
            "Epoch [1705/3000]: 100%|██████████| 9/9 [00:00<00:00, 198.72it/s, loss=2.23]\n"
          ]
        },
        {
          "name": "stdout",
          "output_type": "stream",
          "text": [
            "Epoch [1705/3000]: Train loss: 1.7641, Valid loss: 2.0788\n"
          ]
        },
        {
          "name": "stderr",
          "output_type": "stream",
          "text": [
            "Epoch [1706/3000]: 100%|██████████| 9/9 [00:00<00:00, 237.63it/s, loss=1.87]\n"
          ]
        },
        {
          "name": "stdout",
          "output_type": "stream",
          "text": [
            "Epoch [1706/3000]: Train loss: 1.7959, Valid loss: 2.3372\n"
          ]
        },
        {
          "name": "stderr",
          "output_type": "stream",
          "text": [
            "Epoch [1707/3000]: 100%|██████████| 9/9 [00:00<00:00, 259.75it/s, loss=1.64]\n"
          ]
        },
        {
          "name": "stdout",
          "output_type": "stream",
          "text": [
            "Epoch [1707/3000]: Train loss: 1.8616, Valid loss: 2.6677\n"
          ]
        },
        {
          "name": "stderr",
          "output_type": "stream",
          "text": [
            "Epoch [1708/3000]: 100%|██████████| 9/9 [00:00<00:00, 107.52it/s, loss=2.28]\n"
          ]
        },
        {
          "name": "stdout",
          "output_type": "stream",
          "text": [
            "Epoch [1708/3000]: Train loss: 1.9910, Valid loss: 4.0044\n"
          ]
        },
        {
          "name": "stderr",
          "output_type": "stream",
          "text": [
            "Epoch [1709/3000]: 100%|██████████| 9/9 [00:00<00:00, 458.88it/s, loss=2.37]\n"
          ]
        },
        {
          "name": "stdout",
          "output_type": "stream",
          "text": [
            "Epoch [1709/3000]: Train loss: 2.7400, Valid loss: 2.3393\n"
          ]
        },
        {
          "name": "stderr",
          "output_type": "stream",
          "text": [
            "Epoch [1710/3000]: 100%|██████████| 9/9 [00:00<00:00, 370.57it/s, loss=2.04]\n"
          ]
        },
        {
          "name": "stdout",
          "output_type": "stream",
          "text": [
            "Epoch [1710/3000]: Train loss: 1.9878, Valid loss: 2.0629\n"
          ]
        },
        {
          "name": "stderr",
          "output_type": "stream",
          "text": [
            "Epoch [1711/3000]: 100%|██████████| 9/9 [00:00<00:00, 400.60it/s, loss=1.89]\n"
          ]
        },
        {
          "name": "stdout",
          "output_type": "stream",
          "text": [
            "Epoch [1711/3000]: Train loss: 1.7280, Valid loss: 1.9205\n"
          ]
        },
        {
          "name": "stderr",
          "output_type": "stream",
          "text": [
            "Epoch [1712/3000]: 100%|██████████| 9/9 [00:00<00:00, 414.04it/s, loss=1.54]\n"
          ]
        },
        {
          "name": "stdout",
          "output_type": "stream",
          "text": [
            "Epoch [1712/3000]: Train loss: 1.7218, Valid loss: 1.8832\n"
          ]
        },
        {
          "name": "stderr",
          "output_type": "stream",
          "text": [
            "Epoch [1713/3000]: 100%|██████████| 9/9 [00:00<00:00, 305.88it/s, loss=2.16]\n"
          ]
        },
        {
          "name": "stdout",
          "output_type": "stream",
          "text": [
            "Epoch [1713/3000]: Train loss: 1.7583, Valid loss: 1.8658\n"
          ]
        },
        {
          "name": "stderr",
          "output_type": "stream",
          "text": [
            "Epoch [1714/3000]: 100%|██████████| 9/9 [00:00<00:00, 392.66it/s, loss=1.79]\n"
          ]
        },
        {
          "name": "stdout",
          "output_type": "stream",
          "text": [
            "Epoch [1714/3000]: Train loss: 1.8293, Valid loss: 2.2701\n"
          ]
        },
        {
          "name": "stderr",
          "output_type": "stream",
          "text": [
            "Epoch [1715/3000]: 100%|██████████| 9/9 [00:00<00:00, 164.21it/s, loss=3.62]\n"
          ]
        },
        {
          "name": "stdout",
          "output_type": "stream",
          "text": [
            "Epoch [1715/3000]: Train loss: 2.1474, Valid loss: 1.9024\n"
          ]
        },
        {
          "name": "stderr",
          "output_type": "stream",
          "text": [
            "Epoch [1716/3000]: 100%|██████████| 9/9 [00:00<00:00, 116.19it/s, loss=1.7]\n"
          ]
        },
        {
          "name": "stdout",
          "output_type": "stream",
          "text": [
            "Epoch [1716/3000]: Train loss: 2.2470, Valid loss: 3.6057\n"
          ]
        },
        {
          "name": "stderr",
          "output_type": "stream",
          "text": [
            "Epoch [1717/3000]: 100%|██████████| 9/9 [00:00<00:00, 491.85it/s, loss=3.17]"
          ]
        },
        {
          "name": "stdout",
          "output_type": "stream",
          "text": [
            "Epoch [1717/3000]: Train loss: 2.3068, Valid loss: 1.9234"
          ]
        },
        {
          "name": "stderr",
          "output_type": "stream",
          "text": [
            "\n"
          ]
        },
        {
          "name": "stdout",
          "output_type": "stream",
          "text": [
            "\n"
          ]
        },
        {
          "name": "stderr",
          "output_type": "stream",
          "text": [
            "Epoch [1718/3000]: 100%|██████████| 9/9 [00:00<00:00, 390.44it/s, loss=1.75]\n"
          ]
        },
        {
          "name": "stdout",
          "output_type": "stream",
          "text": [
            "Epoch [1718/3000]: Train loss: 2.2578, Valid loss: 2.9803\n"
          ]
        },
        {
          "name": "stderr",
          "output_type": "stream",
          "text": [
            "Epoch [1719/3000]: 100%|██████████| 9/9 [00:00<00:00, 488.78it/s, loss=2.86]\n"
          ]
        },
        {
          "name": "stdout",
          "output_type": "stream",
          "text": [
            "Epoch [1719/3000]: Train loss: 2.3859, Valid loss: 3.0109\n"
          ]
        },
        {
          "name": "stderr",
          "output_type": "stream",
          "text": [
            "Epoch [1720/3000]: 100%|██████████| 9/9 [00:00<00:00, 521.71it/s, loss=1.86]\n"
          ]
        },
        {
          "name": "stdout",
          "output_type": "stream",
          "text": [
            "Epoch [1720/3000]: Train loss: 1.9719, Valid loss: 2.0136\n"
          ]
        },
        {
          "name": "stderr",
          "output_type": "stream",
          "text": [
            "Epoch [1721/3000]: 100%|██████████| 9/9 [00:00<00:00, 149.30it/s, loss=1.86]\n"
          ]
        },
        {
          "name": "stdout",
          "output_type": "stream",
          "text": [
            "Epoch [1721/3000]: Train loss: 1.8028, Valid loss: 2.0696\n"
          ]
        },
        {
          "name": "stderr",
          "output_type": "stream",
          "text": [
            "Epoch [1722/3000]: 100%|██████████| 9/9 [00:00<00:00, 388.33it/s, loss=1.7]\n"
          ]
        },
        {
          "name": "stdout",
          "output_type": "stream",
          "text": [
            "Epoch [1722/3000]: Train loss: 1.7447, Valid loss: 2.1922\n"
          ]
        },
        {
          "name": "stderr",
          "output_type": "stream",
          "text": [
            "Epoch [1723/3000]: 100%|██████████| 9/9 [00:00<00:00, 457.38it/s, loss=1.7]\n"
          ]
        },
        {
          "name": "stdout",
          "output_type": "stream",
          "text": [
            "Epoch [1723/3000]: Train loss: 1.7517, Valid loss: 2.3922\n"
          ]
        },
        {
          "name": "stderr",
          "output_type": "stream",
          "text": [
            "Epoch [1724/3000]: 100%|██████████| 9/9 [00:00<00:00, 339.24it/s, loss=1.27]\n"
          ]
        },
        {
          "name": "stdout",
          "output_type": "stream",
          "text": [
            "Epoch [1724/3000]: Train loss: 1.6911, Valid loss: 1.7643\n"
          ]
        },
        {
          "name": "stderr",
          "output_type": "stream",
          "text": [
            "Epoch [1725/3000]: 100%|██████████| 9/9 [00:00<00:00, 401.48it/s, loss=1.81]\n"
          ]
        },
        {
          "name": "stdout",
          "output_type": "stream",
          "text": [
            "Epoch [1725/3000]: Train loss: 2.0324, Valid loss: 2.0421\n"
          ]
        },
        {
          "name": "stderr",
          "output_type": "stream",
          "text": [
            "Epoch [1726/3000]: 100%|██████████| 9/9 [00:00<00:00, 499.08it/s, loss=2.03]\n"
          ]
        },
        {
          "name": "stdout",
          "output_type": "stream",
          "text": [
            "Epoch [1726/3000]: Train loss: 1.7242, Valid loss: 2.1905\n"
          ]
        },
        {
          "name": "stderr",
          "output_type": "stream",
          "text": [
            "Epoch [1727/3000]: 100%|██████████| 9/9 [00:00<00:00, 476.07it/s, loss=1.57]\n"
          ]
        },
        {
          "name": "stdout",
          "output_type": "stream",
          "text": [
            "Epoch [1727/3000]: Train loss: 1.7212, Valid loss: 1.9334\n"
          ]
        },
        {
          "name": "stderr",
          "output_type": "stream",
          "text": [
            "Epoch [1728/3000]: 100%|██████████| 9/9 [00:00<00:00, 116.48it/s, loss=1.59]\n"
          ]
        },
        {
          "name": "stdout",
          "output_type": "stream",
          "text": [
            "Epoch [1728/3000]: Train loss: 1.7698, Valid loss: 2.6993\n"
          ]
        },
        {
          "name": "stderr",
          "output_type": "stream",
          "text": [
            "Epoch [1729/3000]: 100%|██████████| 9/9 [00:00<00:00, 558.93it/s, loss=1.91]\n"
          ]
        },
        {
          "name": "stdout",
          "output_type": "stream",
          "text": [
            "Epoch [1729/3000]: Train loss: 2.1748, Valid loss: 2.2552\n"
          ]
        },
        {
          "name": "stderr",
          "output_type": "stream",
          "text": [
            "Epoch [1730/3000]: 100%|██████████| 9/9 [00:00<00:00, 389.34it/s, loss=1.64]\n"
          ]
        },
        {
          "name": "stdout",
          "output_type": "stream",
          "text": [
            "Epoch [1730/3000]: Train loss: 1.7366, Valid loss: 1.7441\n"
          ]
        },
        {
          "name": "stderr",
          "output_type": "stream",
          "text": [
            "Epoch [1731/3000]: 100%|██████████| 9/9 [00:00<00:00, 386.81it/s, loss=2.04]\n"
          ]
        },
        {
          "name": "stdout",
          "output_type": "stream",
          "text": [
            "Epoch [1731/3000]: Train loss: 1.9145, Valid loss: 2.5020\n"
          ]
        },
        {
          "name": "stderr",
          "output_type": "stream",
          "text": [
            "Epoch [1732/3000]: 100%|██████████| 9/9 [00:00<00:00, 525.76it/s, loss=3.16]\n"
          ]
        },
        {
          "name": "stdout",
          "output_type": "stream",
          "text": [
            "Epoch [1732/3000]: Train loss: 2.6458, Valid loss: 2.0992\n"
          ]
        },
        {
          "name": "stderr",
          "output_type": "stream",
          "text": [
            "Epoch [1733/3000]: 100%|██████████| 9/9 [00:00<00:00, 421.07it/s, loss=3.17]\n"
          ]
        },
        {
          "name": "stdout",
          "output_type": "stream",
          "text": [
            "Epoch [1733/3000]: Train loss: 2.2472, Valid loss: 2.9477\n"
          ]
        },
        {
          "name": "stderr",
          "output_type": "stream",
          "text": [
            "Epoch [1734/3000]: 100%|██████████| 9/9 [00:00<00:00, 515.36it/s, loss=1.66]\n"
          ]
        },
        {
          "name": "stdout",
          "output_type": "stream",
          "text": [
            "Epoch [1734/3000]: Train loss: 2.0845, Valid loss: 2.5932\n"
          ]
        },
        {
          "name": "stderr",
          "output_type": "stream",
          "text": [
            "Epoch [1735/3000]: 100%|██████████| 9/9 [00:00<00:00, 358.89it/s, loss=2.21]\n"
          ]
        },
        {
          "name": "stdout",
          "output_type": "stream",
          "text": [
            "Epoch [1735/3000]: Train loss: 2.0200, Valid loss: 2.2843\n"
          ]
        },
        {
          "name": "stderr",
          "output_type": "stream",
          "text": [
            "Epoch [1736/3000]: 100%|██████████| 9/9 [00:00<00:00, 319.48it/s, loss=2.05]\n"
          ]
        },
        {
          "name": "stdout",
          "output_type": "stream",
          "text": [
            "Epoch [1736/3000]: Train loss: 1.9382, Valid loss: 3.6924\n"
          ]
        },
        {
          "name": "stderr",
          "output_type": "stream",
          "text": [
            "Epoch [1737/3000]: 100%|██████████| 9/9 [00:00<00:00, 387.33it/s, loss=1.39]\n"
          ]
        },
        {
          "name": "stdout",
          "output_type": "stream",
          "text": [
            "Epoch [1737/3000]: Train loss: 2.0196, Valid loss: 1.9308\n"
          ]
        },
        {
          "name": "stderr",
          "output_type": "stream",
          "text": [
            "Epoch [1738/3000]: 100%|██████████| 9/9 [00:00<00:00, 248.18it/s, loss=2.3]\n"
          ]
        },
        {
          "name": "stdout",
          "output_type": "stream",
          "text": [
            "Epoch [1738/3000]: Train loss: 1.8236, Valid loss: 3.2682\n"
          ]
        },
        {
          "name": "stderr",
          "output_type": "stream",
          "text": [
            "Epoch [1739/3000]: 100%|██████████| 9/9 [00:00<00:00, 324.92it/s, loss=3.21]\n"
          ]
        },
        {
          "name": "stdout",
          "output_type": "stream",
          "text": [
            "Epoch [1739/3000]: Train loss: 2.4634, Valid loss: 1.8356\n"
          ]
        },
        {
          "name": "stderr",
          "output_type": "stream",
          "text": [
            "Epoch [1740/3000]: 100%|██████████| 9/9 [00:00<00:00, 337.74it/s, loss=3.1]\n"
          ]
        },
        {
          "name": "stdout",
          "output_type": "stream",
          "text": [
            "Epoch [1740/3000]: Train loss: 2.0884, Valid loss: 3.2073\n"
          ]
        },
        {
          "name": "stderr",
          "output_type": "stream",
          "text": [
            "Epoch [1741/3000]: 100%|██████████| 9/9 [00:00<00:00, 280.15it/s, loss=1.64]\n"
          ]
        },
        {
          "name": "stdout",
          "output_type": "stream",
          "text": [
            "Epoch [1741/3000]: Train loss: 2.3115, Valid loss: 2.0265\n"
          ]
        },
        {
          "name": "stderr",
          "output_type": "stream",
          "text": [
            "Epoch [1742/3000]: 100%|██████████| 9/9 [00:00<00:00, 350.11it/s, loss=1.17]\n"
          ]
        },
        {
          "name": "stdout",
          "output_type": "stream",
          "text": [
            "Epoch [1742/3000]: Train loss: 1.8309, Valid loss: 3.9216\n"
          ]
        },
        {
          "name": "stderr",
          "output_type": "stream",
          "text": [
            "Epoch [1743/3000]: 100%|██████████| 9/9 [00:00<00:00, 138.72it/s, loss=4.98]\n"
          ]
        },
        {
          "name": "stdout",
          "output_type": "stream",
          "text": [
            "Epoch [1743/3000]: Train loss: 3.0370, Valid loss: 3.5908\n"
          ]
        },
        {
          "name": "stderr",
          "output_type": "stream",
          "text": [
            "Epoch [1744/3000]: 100%|██████████| 9/9 [00:00<00:00, 398.30it/s, loss=3.43]\n"
          ]
        },
        {
          "name": "stdout",
          "output_type": "stream",
          "text": [
            "Epoch [1744/3000]: Train loss: 2.5616, Valid loss: 3.8312\n"
          ]
        },
        {
          "name": "stderr",
          "output_type": "stream",
          "text": [
            "Epoch [1745/3000]: 100%|██████████| 9/9 [00:00<00:00, 449.30it/s, loss=2.66]\n"
          ]
        },
        {
          "name": "stdout",
          "output_type": "stream",
          "text": [
            "Epoch [1745/3000]: Train loss: 2.5478, Valid loss: 2.2445\n"
          ]
        },
        {
          "name": "stderr",
          "output_type": "stream",
          "text": [
            "Epoch [1746/3000]: 100%|██████████| 9/9 [00:00<00:00, 443.41it/s, loss=4.63]\n"
          ]
        },
        {
          "name": "stdout",
          "output_type": "stream",
          "text": [
            "Epoch [1746/3000]: Train loss: 2.7506, Valid loss: 3.4412\n"
          ]
        },
        {
          "name": "stderr",
          "output_type": "stream",
          "text": [
            "Epoch [1747/3000]: 100%|██████████| 9/9 [00:00<00:00, 442.96it/s, loss=4.31]\n"
          ]
        },
        {
          "name": "stdout",
          "output_type": "stream",
          "text": [
            "Epoch [1747/3000]: Train loss: 2.8889, Valid loss: 3.4330\n"
          ]
        },
        {
          "name": "stderr",
          "output_type": "stream",
          "text": [
            "Epoch [1748/3000]: 100%|██████████| 9/9 [00:00<00:00, 305.79it/s, loss=2.91]\n"
          ]
        },
        {
          "name": "stdout",
          "output_type": "stream",
          "text": [
            "Epoch [1748/3000]: Train loss: 2.8788, Valid loss: 4.4622\n"
          ]
        },
        {
          "name": "stderr",
          "output_type": "stream",
          "text": [
            "Epoch [1749/3000]: 100%|██████████| 9/9 [00:00<00:00, 368.03it/s, loss=1.6]\n"
          ]
        },
        {
          "name": "stdout",
          "output_type": "stream",
          "text": [
            "Epoch [1749/3000]: Train loss: 2.8921, Valid loss: 2.3530\n"
          ]
        },
        {
          "name": "stderr",
          "output_type": "stream",
          "text": [
            "Epoch [1750/3000]: 100%|██████████| 9/9 [00:00<00:00, 339.88it/s, loss=1.84]\n"
          ]
        },
        {
          "name": "stdout",
          "output_type": "stream",
          "text": [
            "Epoch [1750/3000]: Train loss: 1.7999, Valid loss: 2.6454\n"
          ]
        },
        {
          "name": "stderr",
          "output_type": "stream",
          "text": [
            "Epoch [1751/3000]: 100%|██████████| 9/9 [00:00<00:00, 286.00it/s, loss=1.56]\n"
          ]
        },
        {
          "name": "stdout",
          "output_type": "stream",
          "text": [
            "Epoch [1751/3000]: Train loss: 1.6776, Valid loss: 2.2510\n"
          ]
        },
        {
          "name": "stderr",
          "output_type": "stream",
          "text": [
            "Epoch [1752/3000]: 100%|██████████| 9/9 [00:00<00:00, 295.44it/s, loss=1.19]\n"
          ]
        },
        {
          "name": "stdout",
          "output_type": "stream",
          "text": [
            "Epoch [1752/3000]: Train loss: 1.7558, Valid loss: 2.0170\n"
          ]
        },
        {
          "name": "stderr",
          "output_type": "stream",
          "text": [
            "Epoch [1753/3000]: 100%|██████████| 9/9 [00:00<00:00, 227.62it/s, loss=1.97]\n"
          ]
        },
        {
          "name": "stdout",
          "output_type": "stream",
          "text": [
            "Epoch [1753/3000]: Train loss: 1.7885, Valid loss: 2.2719\n"
          ]
        },
        {
          "name": "stderr",
          "output_type": "stream",
          "text": [
            "Epoch [1754/3000]: 100%|██████████| 9/9 [00:00<00:00, 129.21it/s, loss=2.95]\n"
          ]
        },
        {
          "name": "stdout",
          "output_type": "stream",
          "text": [
            "Epoch [1754/3000]: Train loss: 2.1383, Valid loss: 2.2173\n"
          ]
        },
        {
          "name": "stderr",
          "output_type": "stream",
          "text": [
            "Epoch [1755/3000]: 100%|██████████| 9/9 [00:00<00:00, 250.89it/s, loss=2.21]\n"
          ]
        },
        {
          "name": "stdout",
          "output_type": "stream",
          "text": [
            "Epoch [1755/3000]: Train loss: 2.0372, Valid loss: 2.0924\n"
          ]
        },
        {
          "name": "stderr",
          "output_type": "stream",
          "text": [
            "Epoch [1756/3000]: 100%|██████████| 9/9 [00:00<00:00, 302.17it/s, loss=2.03]\n"
          ]
        },
        {
          "name": "stdout",
          "output_type": "stream",
          "text": [
            "Epoch [1756/3000]: Train loss: 1.8750, Valid loss: 2.3278\n"
          ]
        },
        {
          "name": "stderr",
          "output_type": "stream",
          "text": [
            "Epoch [1757/3000]: 100%|██████████| 9/9 [00:00<00:00, 502.08it/s, loss=2.26]\n"
          ]
        },
        {
          "name": "stdout",
          "output_type": "stream",
          "text": [
            "Epoch [1757/3000]: Train loss: 1.9623, Valid loss: 1.8207\n"
          ]
        },
        {
          "name": "stderr",
          "output_type": "stream",
          "text": [
            "Epoch [1758/3000]: 100%|██████████| 9/9 [00:00<00:00, 302.68it/s, loss=1.55]\n"
          ]
        },
        {
          "name": "stdout",
          "output_type": "stream",
          "text": [
            "Epoch [1758/3000]: Train loss: 1.7869, Valid loss: 1.9577\n"
          ]
        },
        {
          "name": "stderr",
          "output_type": "stream",
          "text": [
            "Epoch [1759/3000]: 100%|██████████| 9/9 [00:00<00:00, 483.97it/s, loss=1.7]\n"
          ]
        },
        {
          "name": "stdout",
          "output_type": "stream",
          "text": [
            "Epoch [1759/3000]: Train loss: 1.7815, Valid loss: 2.2071\n"
          ]
        },
        {
          "name": "stderr",
          "output_type": "stream",
          "text": [
            "Epoch [1760/3000]: 100%|██████████| 9/9 [00:00<00:00, 350.52it/s, loss=1.3]\n"
          ]
        },
        {
          "name": "stdout",
          "output_type": "stream",
          "text": [
            "Epoch [1760/3000]: Train loss: 1.7897, Valid loss: 2.5475\n"
          ]
        },
        {
          "name": "stderr",
          "output_type": "stream",
          "text": [
            "Epoch [1761/3000]: 100%|██████████| 9/9 [00:00<00:00, 317.98it/s, loss=1.97]\n"
          ]
        },
        {
          "name": "stdout",
          "output_type": "stream",
          "text": [
            "Epoch [1761/3000]: Train loss: 1.8651, Valid loss: 2.3314\n"
          ]
        },
        {
          "name": "stderr",
          "output_type": "stream",
          "text": [
            "Epoch [1762/3000]: 100%|██████████| 9/9 [00:00<00:00, 429.86it/s, loss=1.89]\n"
          ]
        },
        {
          "name": "stdout",
          "output_type": "stream",
          "text": [
            "Epoch [1762/3000]: Train loss: 2.0996, Valid loss: 2.2357\n"
          ]
        },
        {
          "name": "stderr",
          "output_type": "stream",
          "text": [
            "Epoch [1763/3000]: 100%|██████████| 9/9 [00:00<00:00, 415.90it/s, loss=2]\n"
          ]
        },
        {
          "name": "stdout",
          "output_type": "stream",
          "text": [
            "Epoch [1763/3000]: Train loss: 1.7774, Valid loss: 2.3311\n"
          ]
        },
        {
          "name": "stderr",
          "output_type": "stream",
          "text": [
            "Epoch [1764/3000]: 100%|██████████| 9/9 [00:00<00:00, 438.36it/s, loss=2.2]\n"
          ]
        },
        {
          "name": "stdout",
          "output_type": "stream",
          "text": [
            "Epoch [1764/3000]: Train loss: 1.7516, Valid loss: 1.9988\n"
          ]
        },
        {
          "name": "stderr",
          "output_type": "stream",
          "text": [
            "Epoch [1765/3000]: 100%|██████████| 9/9 [00:00<00:00, 375.47it/s, loss=1.84]\n"
          ]
        },
        {
          "name": "stdout",
          "output_type": "stream",
          "text": [
            "Epoch [1765/3000]: Train loss: 1.6666, Valid loss: 2.4861\n"
          ]
        },
        {
          "name": "stderr",
          "output_type": "stream",
          "text": [
            "Epoch [1766/3000]: 100%|██████████| 9/9 [00:00<00:00, 120.31it/s, loss=1.57]\n"
          ]
        },
        {
          "name": "stdout",
          "output_type": "stream",
          "text": [
            "Epoch [1766/3000]: Train loss: 1.8746, Valid loss: 1.9981\n"
          ]
        },
        {
          "name": "stderr",
          "output_type": "stream",
          "text": [
            "Epoch [1767/3000]: 100%|██████████| 9/9 [00:00<00:00, 214.99it/s, loss=1.53]\n"
          ]
        },
        {
          "name": "stdout",
          "output_type": "stream",
          "text": [
            "Epoch [1767/3000]: Train loss: 1.7618, Valid loss: 2.2835\n"
          ]
        },
        {
          "name": "stderr",
          "output_type": "stream",
          "text": [
            "Epoch [1768/3000]: 100%|██████████| 9/9 [00:00<00:00, 242.50it/s, loss=1.36]\n"
          ]
        },
        {
          "name": "stdout",
          "output_type": "stream",
          "text": [
            "Epoch [1768/3000]: Train loss: 1.7847, Valid loss: 2.4364\n"
          ]
        },
        {
          "name": "stderr",
          "output_type": "stream",
          "text": [
            "Epoch [1769/3000]: 100%|██████████| 9/9 [00:00<00:00, 398.40it/s, loss=1.52]\n"
          ]
        },
        {
          "name": "stdout",
          "output_type": "stream",
          "text": [
            "Epoch [1769/3000]: Train loss: 1.6760, Valid loss: 1.8146\n"
          ]
        },
        {
          "name": "stderr",
          "output_type": "stream",
          "text": [
            "Epoch [1770/3000]: 100%|██████████| 9/9 [00:00<00:00, 379.88it/s, loss=2.04]\n"
          ]
        },
        {
          "name": "stdout",
          "output_type": "stream",
          "text": [
            "Epoch [1770/3000]: Train loss: 1.7306, Valid loss: 2.5226\n"
          ]
        },
        {
          "name": "stderr",
          "output_type": "stream",
          "text": [
            "Epoch [1771/3000]: 100%|██████████| 9/9 [00:00<00:00, 344.09it/s, loss=1.8]\n"
          ]
        },
        {
          "name": "stdout",
          "output_type": "stream",
          "text": [
            "Epoch [1771/3000]: Train loss: 1.7640, Valid loss: 2.2325\n"
          ]
        },
        {
          "name": "stderr",
          "output_type": "stream",
          "text": [
            "Epoch [1772/3000]: 100%|██████████| 9/9 [00:00<00:00, 147.46it/s, loss=2.22]\n"
          ]
        },
        {
          "name": "stdout",
          "output_type": "stream",
          "text": [
            "Epoch [1772/3000]: Train loss: 1.8093, Valid loss: 2.2097\n"
          ]
        },
        {
          "name": "stderr",
          "output_type": "stream",
          "text": [
            "Epoch [1773/3000]: 100%|██████████| 9/9 [00:00<00:00, 439.89it/s, loss=1.83]\n"
          ]
        },
        {
          "name": "stdout",
          "output_type": "stream",
          "text": [
            "Epoch [1773/3000]: Train loss: 1.7753, Valid loss: 2.0046\n"
          ]
        },
        {
          "name": "stderr",
          "output_type": "stream",
          "text": [
            "Epoch [1774/3000]: 100%|██████████| 9/9 [00:00<00:00, 454.48it/s, loss=1.31]\n"
          ]
        },
        {
          "name": "stdout",
          "output_type": "stream",
          "text": [
            "Epoch [1774/3000]: Train loss: 1.6577, Valid loss: 2.0724\n"
          ]
        },
        {
          "name": "stderr",
          "output_type": "stream",
          "text": [
            "Epoch [1775/3000]: 100%|██████████| 9/9 [00:00<00:00, 352.68it/s, loss=1.72]\n"
          ]
        },
        {
          "name": "stdout",
          "output_type": "stream",
          "text": [
            "Epoch [1775/3000]: Train loss: 1.7641, Valid loss: 1.7418\n"
          ]
        },
        {
          "name": "stderr",
          "output_type": "stream",
          "text": [
            "Epoch [1776/3000]: 100%|██████████| 9/9 [00:00<00:00, 292.34it/s, loss=2.09]\n"
          ]
        },
        {
          "name": "stdout",
          "output_type": "stream",
          "text": [
            "Epoch [1776/3000]: Train loss: 1.7216, Valid loss: 2.2448\n"
          ]
        },
        {
          "name": "stderr",
          "output_type": "stream",
          "text": [
            "Epoch [1777/3000]: 100%|██████████| 9/9 [00:00<00:00, 429.39it/s, loss=2.01]\n"
          ]
        },
        {
          "name": "stdout",
          "output_type": "stream",
          "text": [
            "Epoch [1777/3000]: Train loss: 1.7202, Valid loss: 2.4242\n"
          ]
        },
        {
          "name": "stderr",
          "output_type": "stream",
          "text": [
            "Epoch [1778/3000]: 100%|██████████| 9/9 [00:00<00:00, 333.02it/s, loss=1.16]\n"
          ]
        },
        {
          "name": "stdout",
          "output_type": "stream",
          "text": [
            "Epoch [1778/3000]: Train loss: 1.9001, Valid loss: 2.4894\n"
          ]
        },
        {
          "name": "stderr",
          "output_type": "stream",
          "text": [
            "Epoch [1779/3000]: 100%|██████████| 9/9 [00:00<00:00, 116.50it/s, loss=2.02]\n"
          ]
        },
        {
          "name": "stdout",
          "output_type": "stream",
          "text": [
            "Epoch [1779/3000]: Train loss: 1.8402, Valid loss: 1.9891\n"
          ]
        },
        {
          "name": "stderr",
          "output_type": "stream",
          "text": [
            "Epoch [1780/3000]: 100%|██████████| 9/9 [00:00<00:00, 149.72it/s, loss=1.92]\n"
          ]
        },
        {
          "name": "stdout",
          "output_type": "stream",
          "text": [
            "Epoch [1780/3000]: Train loss: 1.9222, Valid loss: 2.7747\n"
          ]
        },
        {
          "name": "stderr",
          "output_type": "stream",
          "text": [
            "Epoch [1781/3000]: 100%|██████████| 9/9 [00:00<00:00, 175.79it/s, loss=1.4]\n"
          ]
        },
        {
          "name": "stdout",
          "output_type": "stream",
          "text": [
            "Epoch [1781/3000]: Train loss: 1.9737, Valid loss: 1.8875\n"
          ]
        },
        {
          "name": "stderr",
          "output_type": "stream",
          "text": [
            "Epoch [1782/3000]: 100%|██████████| 9/9 [00:00<00:00, 249.06it/s, loss=1.43]\n"
          ]
        },
        {
          "name": "stdout",
          "output_type": "stream",
          "text": [
            "Epoch [1782/3000]: Train loss: 1.6826, Valid loss: 1.9553\n"
          ]
        },
        {
          "name": "stderr",
          "output_type": "stream",
          "text": [
            "Epoch [1783/3000]: 100%|██████████| 9/9 [00:00<00:00, 230.85it/s, loss=1.84]\n"
          ]
        },
        {
          "name": "stdout",
          "output_type": "stream",
          "text": [
            "Epoch [1783/3000]: Train loss: 1.8583, Valid loss: 2.4979\n"
          ]
        },
        {
          "name": "stderr",
          "output_type": "stream",
          "text": [
            "Epoch [1784/3000]: 100%|██████████| 9/9 [00:00<00:00, 190.41it/s, loss=2.1]\n"
          ]
        },
        {
          "name": "stdout",
          "output_type": "stream",
          "text": [
            "Epoch [1784/3000]: Train loss: 1.9950, Valid loss: 2.7452\n"
          ]
        },
        {
          "name": "stderr",
          "output_type": "stream",
          "text": [
            "Epoch [1785/3000]: 100%|██████████| 9/9 [00:00<00:00, 172.27it/s, loss=1.23]\n"
          ]
        },
        {
          "name": "stdout",
          "output_type": "stream",
          "text": [
            "Epoch [1785/3000]: Train loss: 2.2476, Valid loss: 3.6301\n"
          ]
        },
        {
          "name": "stderr",
          "output_type": "stream",
          "text": [
            "Epoch [1786/3000]: 100%|██████████| 9/9 [00:00<00:00, 196.37it/s, loss=2.18]\n"
          ]
        },
        {
          "name": "stdout",
          "output_type": "stream",
          "text": [
            "Epoch [1786/3000]: Train loss: 2.3762, Valid loss: 2.1166\n"
          ]
        },
        {
          "name": "stderr",
          "output_type": "stream",
          "text": [
            "Epoch [1787/3000]: 100%|██████████| 9/9 [00:00<00:00, 198.70it/s, loss=2.35]\n"
          ]
        },
        {
          "name": "stdout",
          "output_type": "stream",
          "text": [
            "Epoch [1787/3000]: Train loss: 1.9511, Valid loss: 2.2211\n"
          ]
        },
        {
          "name": "stderr",
          "output_type": "stream",
          "text": [
            "Epoch [1788/3000]: 100%|██████████| 9/9 [00:00<00:00, 252.15it/s, loss=2.28]\n"
          ]
        },
        {
          "name": "stdout",
          "output_type": "stream",
          "text": [
            "Epoch [1788/3000]: Train loss: 2.1585, Valid loss: 2.6345\n"
          ]
        },
        {
          "name": "stderr",
          "output_type": "stream",
          "text": [
            "Epoch [1789/3000]: 100%|██████████| 9/9 [00:00<00:00, 264.83it/s, loss=1.56]\n"
          ]
        },
        {
          "name": "stdout",
          "output_type": "stream",
          "text": [
            "Epoch [1789/3000]: Train loss: 1.9558, Valid loss: 1.8683\n"
          ]
        },
        {
          "name": "stderr",
          "output_type": "stream",
          "text": [
            "Epoch [1790/3000]: 100%|██████████| 9/9 [00:00<00:00, 312.68it/s, loss=2.7]\n"
          ]
        },
        {
          "name": "stdout",
          "output_type": "stream",
          "text": [
            "Epoch [1790/3000]: Train loss: 1.7853, Valid loss: 1.6711\n"
          ]
        },
        {
          "name": "stderr",
          "output_type": "stream",
          "text": [
            "Epoch [1791/3000]: 100%|██████████| 9/9 [00:00<00:00, 297.87it/s, loss=1.51]\n"
          ]
        },
        {
          "name": "stdout",
          "output_type": "stream",
          "text": [
            "Epoch [1791/3000]: Train loss: 1.8760, Valid loss: 2.6425\n"
          ]
        },
        {
          "name": "stderr",
          "output_type": "stream",
          "text": [
            "Epoch [1792/3000]: 100%|██████████| 9/9 [00:00<00:00, 338.09it/s, loss=1.45]\n"
          ]
        },
        {
          "name": "stdout",
          "output_type": "stream",
          "text": [
            "Epoch [1792/3000]: Train loss: 2.0657, Valid loss: 2.2474\n"
          ]
        },
        {
          "name": "stderr",
          "output_type": "stream",
          "text": [
            "Epoch [1793/3000]: 100%|██████████| 9/9 [00:00<00:00, 93.17it/s, loss=1.82]\n"
          ]
        },
        {
          "name": "stdout",
          "output_type": "stream",
          "text": [
            "Epoch [1793/3000]: Train loss: 1.8230, Valid loss: 1.9105\n"
          ]
        },
        {
          "name": "stderr",
          "output_type": "stream",
          "text": [
            "Epoch [1794/3000]: 100%|██████████| 9/9 [00:00<00:00, 107.33it/s, loss=1.21]\n"
          ]
        },
        {
          "name": "stdout",
          "output_type": "stream",
          "text": [
            "Epoch [1794/3000]: Train loss: 1.6320, Valid loss: 2.0443\n"
          ]
        },
        {
          "name": "stderr",
          "output_type": "stream",
          "text": [
            "Epoch [1795/3000]: 100%|██████████| 9/9 [00:00<00:00, 245.02it/s, loss=1.75]\n"
          ]
        },
        {
          "name": "stdout",
          "output_type": "stream",
          "text": [
            "Epoch [1795/3000]: Train loss: 1.7465, Valid loss: 1.9523\n"
          ]
        },
        {
          "name": "stderr",
          "output_type": "stream",
          "text": [
            "Epoch [1796/3000]: 100%|██████████| 9/9 [00:00<00:00, 291.35it/s, loss=2.29]\n"
          ]
        },
        {
          "name": "stdout",
          "output_type": "stream",
          "text": [
            "Epoch [1796/3000]: Train loss: 1.7752, Valid loss: 2.3258\n"
          ]
        },
        {
          "name": "stderr",
          "output_type": "stream",
          "text": [
            "Epoch [1797/3000]: 100%|██████████| 9/9 [00:00<00:00, 142.45it/s, loss=1.92]\n"
          ]
        },
        {
          "name": "stdout",
          "output_type": "stream",
          "text": [
            "Epoch [1797/3000]: Train loss: 2.0163, Valid loss: 2.2152\n"
          ]
        },
        {
          "name": "stderr",
          "output_type": "stream",
          "text": [
            "Epoch [1798/3000]: 100%|██████████| 9/9 [00:00<00:00, 250.17it/s, loss=1.31]\n"
          ]
        },
        {
          "name": "stdout",
          "output_type": "stream",
          "text": [
            "Epoch [1798/3000]: Train loss: 1.8569, Valid loss: 2.6056\n"
          ]
        },
        {
          "name": "stderr",
          "output_type": "stream",
          "text": [
            "Epoch [1799/3000]: 100%|██████████| 9/9 [00:00<00:00, 340.51it/s, loss=1.54]\n"
          ]
        },
        {
          "name": "stdout",
          "output_type": "stream",
          "text": [
            "Epoch [1799/3000]: Train loss: 1.7474, Valid loss: 1.9743\n"
          ]
        },
        {
          "name": "stderr",
          "output_type": "stream",
          "text": [
            "Epoch [1800/3000]: 100%|██████████| 9/9 [00:00<00:00, 283.59it/s, loss=1.8]\n"
          ]
        },
        {
          "name": "stdout",
          "output_type": "stream",
          "text": [
            "Epoch [1800/3000]: Train loss: 1.8558, Valid loss: 1.9070\n"
          ]
        },
        {
          "name": "stderr",
          "output_type": "stream",
          "text": [
            "Epoch [1801/3000]: 100%|██████████| 9/9 [00:00<00:00, 188.29it/s, loss=1.57]\n"
          ]
        },
        {
          "name": "stdout",
          "output_type": "stream",
          "text": [
            "Epoch [1801/3000]: Train loss: 1.7789, Valid loss: 2.0832\n"
          ]
        },
        {
          "name": "stderr",
          "output_type": "stream",
          "text": [
            "Epoch [1802/3000]: 100%|██████████| 9/9 [00:00<00:00, 340.00it/s, loss=2.13]\n"
          ]
        },
        {
          "name": "stdout",
          "output_type": "stream",
          "text": [
            "Epoch [1802/3000]: Train loss: 1.7665, Valid loss: 2.1707\n"
          ]
        },
        {
          "name": "stderr",
          "output_type": "stream",
          "text": [
            "Epoch [1803/3000]: 100%|██████████| 9/9 [00:00<00:00, 357.94it/s, loss=2.23]\n"
          ]
        },
        {
          "name": "stdout",
          "output_type": "stream",
          "text": [
            "Epoch [1803/3000]: Train loss: 1.9335, Valid loss: 2.0713\n"
          ]
        },
        {
          "name": "stderr",
          "output_type": "stream",
          "text": [
            "Epoch [1804/3000]: 100%|██████████| 9/9 [00:00<00:00, 430.67it/s, loss=1.61]\n"
          ]
        },
        {
          "name": "stdout",
          "output_type": "stream",
          "text": [
            "Epoch [1804/3000]: Train loss: 1.6884, Valid loss: 1.6570\n"
          ]
        },
        {
          "name": "stderr",
          "output_type": "stream",
          "text": [
            "Epoch [1805/3000]: 100%|██████████| 9/9 [00:00<00:00, 397.63it/s, loss=1.93]\n"
          ]
        },
        {
          "name": "stdout",
          "output_type": "stream",
          "text": [
            "Epoch [1805/3000]: Train loss: 1.7180, Valid loss: 1.9613\n"
          ]
        },
        {
          "name": "stderr",
          "output_type": "stream",
          "text": [
            "Epoch [1806/3000]: 100%|██████████| 9/9 [00:00<00:00, 395.49it/s, loss=1.8]\n"
          ]
        },
        {
          "name": "stdout",
          "output_type": "stream",
          "text": [
            "Epoch [1806/3000]: Train loss: 1.8463, Valid loss: 2.0822\n"
          ]
        },
        {
          "name": "stderr",
          "output_type": "stream",
          "text": [
            "Epoch [1807/3000]: 100%|██████████| 9/9 [00:00<00:00, 390.59it/s, loss=3.24]\n"
          ]
        },
        {
          "name": "stdout",
          "output_type": "stream",
          "text": [
            "Epoch [1807/3000]: Train loss: 2.5450, Valid loss: 2.8458\n"
          ]
        },
        {
          "name": "stderr",
          "output_type": "stream",
          "text": [
            "Epoch [1808/3000]: 100%|██████████| 9/9 [00:00<00:00, 471.80it/s, loss=2.02]\n"
          ]
        },
        {
          "name": "stdout",
          "output_type": "stream",
          "text": [
            "Epoch [1808/3000]: Train loss: 2.1162, Valid loss: 2.5203\n"
          ]
        },
        {
          "name": "stderr",
          "output_type": "stream",
          "text": [
            "Epoch [1809/3000]: 100%|██████████| 9/9 [00:00<00:00, 274.88it/s, loss=2.24]\n"
          ]
        },
        {
          "name": "stdout",
          "output_type": "stream",
          "text": [
            "Epoch [1809/3000]: Train loss: 1.8542, Valid loss: 2.2203\n"
          ]
        },
        {
          "name": "stderr",
          "output_type": "stream",
          "text": [
            "Epoch [1810/3000]: 100%|██████████| 9/9 [00:00<00:00, 80.46it/s, loss=1.39]\n"
          ]
        },
        {
          "name": "stdout",
          "output_type": "stream",
          "text": [
            "Epoch [1810/3000]: Train loss: 1.6709, Valid loss: 1.8248\n"
          ]
        },
        {
          "name": "stderr",
          "output_type": "stream",
          "text": [
            "Epoch [1811/3000]: 100%|██████████| 9/9 [00:00<00:00, 234.36it/s, loss=2.14]\n"
          ]
        },
        {
          "name": "stdout",
          "output_type": "stream",
          "text": [
            "Epoch [1811/3000]: Train loss: 1.6758, Valid loss: 1.9029\n"
          ]
        },
        {
          "name": "stderr",
          "output_type": "stream",
          "text": [
            "Epoch [1812/3000]: 100%|██████████| 9/9 [00:00<00:00, 234.34it/s, loss=2.09]\n"
          ]
        },
        {
          "name": "stdout",
          "output_type": "stream",
          "text": [
            "Epoch [1812/3000]: Train loss: 1.7659, Valid loss: 3.2371\n"
          ]
        },
        {
          "name": "stderr",
          "output_type": "stream",
          "text": [
            "Epoch [1813/3000]: 100%|██████████| 9/9 [00:00<00:00, 338.36it/s, loss=1.88]\n"
          ]
        },
        {
          "name": "stdout",
          "output_type": "stream",
          "text": [
            "Epoch [1813/3000]: Train loss: 1.8799, Valid loss: 2.1241\n"
          ]
        },
        {
          "name": "stderr",
          "output_type": "stream",
          "text": [
            "Epoch [1814/3000]: 100%|██████████| 9/9 [00:00<00:00, 383.64it/s, loss=1.45]\n"
          ]
        },
        {
          "name": "stdout",
          "output_type": "stream",
          "text": [
            "Epoch [1814/3000]: Train loss: 1.6549, Valid loss: 2.0913\n"
          ]
        },
        {
          "name": "stderr",
          "output_type": "stream",
          "text": [
            "Epoch [1815/3000]: 100%|██████████| 9/9 [00:00<00:00, 238.67it/s, loss=3.01]\n"
          ]
        },
        {
          "name": "stdout",
          "output_type": "stream",
          "text": [
            "Epoch [1815/3000]: Train loss: 1.9433, Valid loss: 3.9546\n"
          ]
        },
        {
          "name": "stderr",
          "output_type": "stream",
          "text": [
            "Epoch [1816/3000]: 100%|██████████| 9/9 [00:00<00:00, 189.36it/s, loss=1.28]\n"
          ]
        },
        {
          "name": "stdout",
          "output_type": "stream",
          "text": [
            "Epoch [1816/3000]: Train loss: 2.2756, Valid loss: 2.6931\n"
          ]
        },
        {
          "name": "stderr",
          "output_type": "stream",
          "text": [
            "Epoch [1817/3000]: 100%|██████████| 9/9 [00:00<00:00, 303.88it/s, loss=2.07]\n"
          ]
        },
        {
          "name": "stdout",
          "output_type": "stream",
          "text": [
            "Epoch [1817/3000]: Train loss: 2.2162, Valid loss: 2.0966\n"
          ]
        },
        {
          "name": "stderr",
          "output_type": "stream",
          "text": [
            "Epoch [1818/3000]: 100%|██████████| 9/9 [00:00<00:00, 310.19it/s, loss=2.03]\n"
          ]
        },
        {
          "name": "stdout",
          "output_type": "stream",
          "text": [
            "Epoch [1818/3000]: Train loss: 1.9464, Valid loss: 1.9941\n"
          ]
        },
        {
          "name": "stderr",
          "output_type": "stream",
          "text": [
            "Epoch [1819/3000]: 100%|██████████| 9/9 [00:00<00:00, 83.32it/s, loss=1.7] \n"
          ]
        },
        {
          "name": "stdout",
          "output_type": "stream",
          "text": [
            "Epoch [1819/3000]: Train loss: 1.7215, Valid loss: 2.0657\n"
          ]
        },
        {
          "name": "stderr",
          "output_type": "stream",
          "text": [
            "Epoch [1820/3000]: 100%|██████████| 9/9 [00:00<00:00, 192.25it/s, loss=2.89]\n"
          ]
        },
        {
          "name": "stdout",
          "output_type": "stream",
          "text": [
            "Epoch [1820/3000]: Train loss: 1.9874, Valid loss: 2.1434\n"
          ]
        },
        {
          "name": "stderr",
          "output_type": "stream",
          "text": [
            "Epoch [1821/3000]: 100%|██████████| 9/9 [00:00<00:00, 222.38it/s, loss=1.59]\n"
          ]
        },
        {
          "name": "stdout",
          "output_type": "stream",
          "text": [
            "Epoch [1821/3000]: Train loss: 1.7786, Valid loss: 2.9466\n"
          ]
        },
        {
          "name": "stderr",
          "output_type": "stream",
          "text": [
            "Epoch [1822/3000]: 100%|██████████| 9/9 [00:00<00:00, 240.55it/s, loss=1.72]\n"
          ]
        },
        {
          "name": "stdout",
          "output_type": "stream",
          "text": [
            "Epoch [1822/3000]: Train loss: 1.7973, Valid loss: 2.4482\n"
          ]
        },
        {
          "name": "stderr",
          "output_type": "stream",
          "text": [
            "Epoch [1823/3000]: 100%|██████████| 9/9 [00:00<00:00, 254.72it/s, loss=1.21]\n"
          ]
        },
        {
          "name": "stdout",
          "output_type": "stream",
          "text": [
            "Epoch [1823/3000]: Train loss: 1.7995, Valid loss: 1.6735\n"
          ]
        },
        {
          "name": "stderr",
          "output_type": "stream",
          "text": [
            "Epoch [1824/3000]: 100%|██████████| 9/9 [00:00<00:00, 332.56it/s, loss=1.89]\n"
          ]
        },
        {
          "name": "stdout",
          "output_type": "stream",
          "text": [
            "Epoch [1824/3000]: Train loss: 1.7124, Valid loss: 1.8375\n"
          ]
        },
        {
          "name": "stderr",
          "output_type": "stream",
          "text": [
            "Epoch [1825/3000]: 100%|██████████| 9/9 [00:00<00:00, 529.53it/s, loss=2.22]\n"
          ]
        },
        {
          "name": "stdout",
          "output_type": "stream",
          "text": [
            "Epoch [1825/3000]: Train loss: 1.7562, Valid loss: 2.6586\n"
          ]
        },
        {
          "name": "stderr",
          "output_type": "stream",
          "text": [
            "Epoch [1826/3000]: 100%|██████████| 9/9 [00:00<00:00, 325.81it/s, loss=1.84]\n"
          ]
        },
        {
          "name": "stdout",
          "output_type": "stream",
          "text": [
            "Epoch [1826/3000]: Train loss: 2.0872, Valid loss: 4.1693\n"
          ]
        },
        {
          "name": "stderr",
          "output_type": "stream",
          "text": [
            "Epoch [1827/3000]: 100%|██████████| 9/9 [00:00<00:00, 467.42it/s, loss=1.92]\n"
          ]
        },
        {
          "name": "stdout",
          "output_type": "stream",
          "text": [
            "Epoch [1827/3000]: Train loss: 2.7291, Valid loss: 2.7111\n"
          ]
        },
        {
          "name": "stderr",
          "output_type": "stream",
          "text": [
            "Epoch [1828/3000]: 100%|██████████| 9/9 [00:00<00:00, 373.24it/s, loss=1.64]\n"
          ]
        },
        {
          "name": "stdout",
          "output_type": "stream",
          "text": [
            "Epoch [1828/3000]: Train loss: 2.2025, Valid loss: 2.9183\n"
          ]
        },
        {
          "name": "stderr",
          "output_type": "stream",
          "text": [
            "Epoch [1829/3000]: 100%|██████████| 9/9 [00:00<00:00, 483.30it/s, loss=1.86]\n"
          ]
        },
        {
          "name": "stdout",
          "output_type": "stream",
          "text": [
            "Epoch [1829/3000]: Train loss: 1.9213, Valid loss: 2.1886\n"
          ]
        },
        {
          "name": "stderr",
          "output_type": "stream",
          "text": [
            "Epoch [1830/3000]: 100%|██████████| 9/9 [00:00<00:00, 319.75it/s, loss=1.68]\n"
          ]
        },
        {
          "name": "stdout",
          "output_type": "stream",
          "text": [
            "Epoch [1830/3000]: Train loss: 1.8278, Valid loss: 1.8616\n"
          ]
        },
        {
          "name": "stderr",
          "output_type": "stream",
          "text": [
            "Epoch [1831/3000]: 100%|██████████| 9/9 [00:00<00:00, 130.68it/s, loss=1.88]\n"
          ]
        },
        {
          "name": "stdout",
          "output_type": "stream",
          "text": [
            "Epoch [1831/3000]: Train loss: 1.7448, Valid loss: 2.4741\n"
          ]
        },
        {
          "name": "stderr",
          "output_type": "stream",
          "text": [
            "Epoch [1832/3000]: 100%|██████████| 9/9 [00:00<00:00, 510.26it/s, loss=2.27]\n"
          ]
        },
        {
          "name": "stdout",
          "output_type": "stream",
          "text": [
            "Epoch [1832/3000]: Train loss: 2.1042, Valid loss: 2.0075\n"
          ]
        },
        {
          "name": "stderr",
          "output_type": "stream",
          "text": [
            "Epoch [1833/3000]: 100%|██████████| 9/9 [00:00<00:00, 317.19it/s, loss=1.68]\n"
          ]
        },
        {
          "name": "stdout",
          "output_type": "stream",
          "text": [
            "Epoch [1833/3000]: Train loss: 1.8262, Valid loss: 2.4803\n"
          ]
        },
        {
          "name": "stderr",
          "output_type": "stream",
          "text": [
            "Epoch [1834/3000]: 100%|██████████| 9/9 [00:00<00:00, 303.53it/s, loss=1.37]\n"
          ]
        },
        {
          "name": "stdout",
          "output_type": "stream",
          "text": [
            "Epoch [1834/3000]: Train loss: 1.7963, Valid loss: 1.8969\n"
          ]
        },
        {
          "name": "stderr",
          "output_type": "stream",
          "text": [
            "Epoch [1835/3000]: 100%|██████████| 9/9 [00:00<00:00, 460.57it/s, loss=1.28]\n"
          ]
        },
        {
          "name": "stdout",
          "output_type": "stream",
          "text": [
            "Epoch [1835/3000]: Train loss: 1.7953, Valid loss: 2.4312\n"
          ]
        },
        {
          "name": "stderr",
          "output_type": "stream",
          "text": [
            "Epoch [1836/3000]: 100%|██████████| 9/9 [00:00<00:00, 345.86it/s, loss=1.54]\n"
          ]
        },
        {
          "name": "stdout",
          "output_type": "stream",
          "text": [
            "Epoch [1836/3000]: Train loss: 1.8515, Valid loss: 2.5683\n"
          ]
        },
        {
          "name": "stderr",
          "output_type": "stream",
          "text": [
            "Epoch [1837/3000]: 100%|██████████| 9/9 [00:00<00:00, 418.22it/s, loss=1.42]\n"
          ]
        },
        {
          "name": "stdout",
          "output_type": "stream",
          "text": [
            "Epoch [1837/3000]: Train loss: 1.7620, Valid loss: 1.9294\n"
          ]
        },
        {
          "name": "stderr",
          "output_type": "stream",
          "text": [
            "Epoch [1838/3000]: 100%|██████████| 9/9 [00:00<00:00, 393.11it/s, loss=2.07]\n"
          ]
        },
        {
          "name": "stdout",
          "output_type": "stream",
          "text": [
            "Epoch [1838/3000]: Train loss: 1.7862, Valid loss: 2.2669\n"
          ]
        },
        {
          "name": "stderr",
          "output_type": "stream",
          "text": [
            "Epoch [1839/3000]: 100%|██████████| 9/9 [00:00<00:00, 246.62it/s, loss=1.65]\n"
          ]
        },
        {
          "name": "stdout",
          "output_type": "stream",
          "text": [
            "Epoch [1839/3000]: Train loss: 2.1221, Valid loss: 2.9156\n"
          ]
        },
        {
          "name": "stderr",
          "output_type": "stream",
          "text": [
            "Epoch [1840/3000]: 100%|██████████| 9/9 [00:00<00:00, 218.11it/s, loss=1.56]\n"
          ]
        },
        {
          "name": "stdout",
          "output_type": "stream",
          "text": [
            "Epoch [1840/3000]: Train loss: 2.0314, Valid loss: 2.2147\n"
          ]
        },
        {
          "name": "stderr",
          "output_type": "stream",
          "text": [
            "Epoch [1841/3000]: 100%|██████████| 9/9 [00:00<00:00, 271.95it/s, loss=2.66]\n"
          ]
        },
        {
          "name": "stdout",
          "output_type": "stream",
          "text": [
            "Epoch [1841/3000]: Train loss: 2.1648, Valid loss: 2.2172\n"
          ]
        },
        {
          "name": "stderr",
          "output_type": "stream",
          "text": [
            "Epoch [1842/3000]: 100%|██████████| 9/9 [00:00<00:00, 355.73it/s, loss=2.95]\n"
          ]
        },
        {
          "name": "stdout",
          "output_type": "stream",
          "text": [
            "Epoch [1842/3000]: Train loss: 2.2124, Valid loss: 1.9935\n"
          ]
        },
        {
          "name": "stderr",
          "output_type": "stream",
          "text": [
            "Epoch [1843/3000]: 100%|██████████| 9/9 [00:00<00:00, 513.34it/s, loss=1.68]\n"
          ]
        },
        {
          "name": "stdout",
          "output_type": "stream",
          "text": [
            "Epoch [1843/3000]: Train loss: 1.7654, Valid loss: 1.8383\n"
          ]
        },
        {
          "name": "stderr",
          "output_type": "stream",
          "text": [
            "Epoch [1844/3000]: 100%|██████████| 9/9 [00:00<00:00, 382.05it/s, loss=2.18]\n"
          ]
        },
        {
          "name": "stdout",
          "output_type": "stream",
          "text": [
            "Epoch [1844/3000]: Train loss: 1.7536, Valid loss: 2.2841\n"
          ]
        },
        {
          "name": "stderr",
          "output_type": "stream",
          "text": [
            "Epoch [1845/3000]: 100%|██████████| 9/9 [00:00<00:00, 96.60it/s, loss=2.44]\n"
          ]
        },
        {
          "name": "stdout",
          "output_type": "stream",
          "text": [
            "Epoch [1845/3000]: Train loss: 2.0177, Valid loss: 2.2679\n"
          ]
        },
        {
          "name": "stderr",
          "output_type": "stream",
          "text": [
            "Epoch [1846/3000]: 100%|██████████| 9/9 [00:00<00:00, 376.10it/s, loss=2.34]\n"
          ]
        },
        {
          "name": "stdout",
          "output_type": "stream",
          "text": [
            "Epoch [1846/3000]: Train loss: 1.7449, Valid loss: 2.8764\n"
          ]
        },
        {
          "name": "stderr",
          "output_type": "stream",
          "text": [
            "Epoch [1847/3000]: 100%|██████████| 9/9 [00:00<00:00, 349.26it/s, loss=2.3]\n"
          ]
        },
        {
          "name": "stdout",
          "output_type": "stream",
          "text": [
            "Epoch [1847/3000]: Train loss: 2.3695, Valid loss: 2.7931\n"
          ]
        },
        {
          "name": "stderr",
          "output_type": "stream",
          "text": [
            "Epoch [1848/3000]: 100%|██████████| 9/9 [00:00<00:00, 332.35it/s, loss=1.89]\n"
          ]
        },
        {
          "name": "stdout",
          "output_type": "stream",
          "text": [
            "Epoch [1848/3000]: Train loss: 2.4289, Valid loss: 1.7537\n"
          ]
        },
        {
          "name": "stderr",
          "output_type": "stream",
          "text": [
            "Epoch [1849/3000]: 100%|██████████| 9/9 [00:00<00:00, 302.01it/s, loss=1.38]\n"
          ]
        },
        {
          "name": "stdout",
          "output_type": "stream",
          "text": [
            "Epoch [1849/3000]: Train loss: 1.7838, Valid loss: 1.9200\n"
          ]
        },
        {
          "name": "stderr",
          "output_type": "stream",
          "text": [
            "Epoch [1850/3000]: 100%|██████████| 9/9 [00:00<00:00, 359.65it/s, loss=2.83]\n"
          ]
        },
        {
          "name": "stdout",
          "output_type": "stream",
          "text": [
            "Epoch [1850/3000]: Train loss: 1.8181, Valid loss: 1.9194\n"
          ]
        },
        {
          "name": "stderr",
          "output_type": "stream",
          "text": [
            "Epoch [1851/3000]: 100%|██████████| 9/9 [00:00<00:00, 347.93it/s, loss=1.54]\n"
          ]
        },
        {
          "name": "stdout",
          "output_type": "stream",
          "text": [
            "Epoch [1851/3000]: Train loss: 1.9890, Valid loss: 2.1096\n"
          ]
        },
        {
          "name": "stderr",
          "output_type": "stream",
          "text": [
            "Epoch [1852/3000]: 100%|██████████| 9/9 [00:00<00:00, 132.46it/s, loss=1.91]\n"
          ]
        },
        {
          "name": "stdout",
          "output_type": "stream",
          "text": [
            "Epoch [1852/3000]: Train loss: 1.9869, Valid loss: 2.3408\n"
          ]
        },
        {
          "name": "stderr",
          "output_type": "stream",
          "text": [
            "Epoch [1853/3000]: 100%|██████████| 9/9 [00:00<00:00, 438.56it/s, loss=1.8]\n"
          ]
        },
        {
          "name": "stdout",
          "output_type": "stream",
          "text": [
            "Epoch [1853/3000]: Train loss: 1.9574, Valid loss: 2.2130\n"
          ]
        },
        {
          "name": "stderr",
          "output_type": "stream",
          "text": [
            "Epoch [1854/3000]: 100%|██████████| 9/9 [00:00<00:00, 341.02it/s, loss=1.6]\n"
          ]
        },
        {
          "name": "stdout",
          "output_type": "stream",
          "text": [
            "Epoch [1854/3000]: Train loss: 1.7802, Valid loss: 2.0711\n"
          ]
        },
        {
          "name": "stderr",
          "output_type": "stream",
          "text": [
            "Epoch [1855/3000]: 100%|██████████| 9/9 [00:00<00:00, 337.48it/s, loss=1.39]\n"
          ]
        },
        {
          "name": "stdout",
          "output_type": "stream",
          "text": [
            "Epoch [1855/3000]: Train loss: 1.6948, Valid loss: 1.9401\n"
          ]
        },
        {
          "name": "stderr",
          "output_type": "stream",
          "text": [
            "Epoch [1856/3000]: 100%|██████████| 9/9 [00:00<00:00, 278.21it/s, loss=1.68]\n"
          ]
        },
        {
          "name": "stdout",
          "output_type": "stream",
          "text": [
            "Epoch [1856/3000]: Train loss: 1.8471, Valid loss: 2.2352\n"
          ]
        },
        {
          "name": "stderr",
          "output_type": "stream",
          "text": [
            "Epoch [1857/3000]: 100%|██████████| 9/9 [00:00<00:00, 373.72it/s, loss=1.63]\n"
          ]
        },
        {
          "name": "stdout",
          "output_type": "stream",
          "text": [
            "Epoch [1857/3000]: Train loss: 1.7483, Valid loss: 1.8846\n"
          ]
        },
        {
          "name": "stderr",
          "output_type": "stream",
          "text": [
            "Epoch [1858/3000]: 100%|██████████| 9/9 [00:00<00:00, 354.23it/s, loss=1.51]\n"
          ]
        },
        {
          "name": "stdout",
          "output_type": "stream",
          "text": [
            "Epoch [1858/3000]: Train loss: 1.6590, Valid loss: 1.9836\n"
          ]
        },
        {
          "name": "stderr",
          "output_type": "stream",
          "text": [
            "Epoch [1859/3000]: 100%|██████████| 9/9 [00:00<00:00, 304.83it/s, loss=2.01]\n"
          ]
        },
        {
          "name": "stdout",
          "output_type": "stream",
          "text": [
            "Epoch [1859/3000]: Train loss: 1.7537, Valid loss: 2.0622\n"
          ]
        },
        {
          "name": "stderr",
          "output_type": "stream",
          "text": [
            "Epoch [1860/3000]: 100%|██████████| 9/9 [00:00<00:00, 355.14it/s, loss=1.99]\n"
          ]
        },
        {
          "name": "stdout",
          "output_type": "stream",
          "text": [
            "Epoch [1860/3000]: Train loss: 1.8165, Valid loss: 1.9124\n"
          ]
        },
        {
          "name": "stderr",
          "output_type": "stream",
          "text": [
            "Epoch [1861/3000]: 100%|██████████| 9/9 [00:00<00:00, 522.34it/s, loss=1.5]\n"
          ]
        },
        {
          "name": "stdout",
          "output_type": "stream",
          "text": [
            "Epoch [1861/3000]: Train loss: 1.7020, Valid loss: 1.9022\n"
          ]
        },
        {
          "name": "stderr",
          "output_type": "stream",
          "text": [
            "Epoch [1862/3000]: 100%|██████████| 9/9 [00:00<00:00, 321.45it/s, loss=1.6]\n"
          ]
        },
        {
          "name": "stdout",
          "output_type": "stream",
          "text": [
            "Epoch [1862/3000]: Train loss: 1.6269, Valid loss: 2.0090\n"
          ]
        },
        {
          "name": "stderr",
          "output_type": "stream",
          "text": [
            "Epoch [1863/3000]: 100%|██████████| 9/9 [00:00<00:00, 256.05it/s, loss=1.75]\n"
          ]
        },
        {
          "name": "stdout",
          "output_type": "stream",
          "text": [
            "Epoch [1863/3000]: Train loss: 1.6665, Valid loss: 2.3244\n"
          ]
        },
        {
          "name": "stderr",
          "output_type": "stream",
          "text": [
            "Epoch [1864/3000]: 100%|██████████| 9/9 [00:00<00:00, 486.83it/s, loss=1.34]\n"
          ]
        },
        {
          "name": "stdout",
          "output_type": "stream",
          "text": [
            "Epoch [1864/3000]: Train loss: 1.6909, Valid loss: 2.6104\n"
          ]
        },
        {
          "name": "stderr",
          "output_type": "stream",
          "text": [
            "Epoch [1865/3000]: 100%|██████████| 9/9 [00:00<00:00, 603.43it/s, loss=1.52]\n"
          ]
        },
        {
          "name": "stdout",
          "output_type": "stream",
          "text": [
            "Epoch [1865/3000]: Train loss: 1.7027, Valid loss: 2.0620\n"
          ]
        },
        {
          "name": "stderr",
          "output_type": "stream",
          "text": [
            "Epoch [1866/3000]: 100%|██████████| 9/9 [00:00<00:00, 471.06it/s, loss=2.33]\n"
          ]
        },
        {
          "name": "stdout",
          "output_type": "stream",
          "text": [
            "Epoch [1866/3000]: Train loss: 1.8393, Valid loss: 3.4741\n"
          ]
        },
        {
          "name": "stderr",
          "output_type": "stream",
          "text": [
            "Epoch [1867/3000]: 100%|██████████| 9/9 [00:00<00:00, 439.26it/s, loss=1.74]\n"
          ]
        },
        {
          "name": "stdout",
          "output_type": "stream",
          "text": [
            "Epoch [1867/3000]: Train loss: 2.0293, Valid loss: 2.3013\n"
          ]
        },
        {
          "name": "stderr",
          "output_type": "stream",
          "text": [
            "Epoch [1868/3000]: 100%|██████████| 9/9 [00:00<00:00, 508.76it/s, loss=1.72]\n"
          ]
        },
        {
          "name": "stdout",
          "output_type": "stream",
          "text": [
            "Epoch [1868/3000]: Train loss: 1.9802, Valid loss: 2.2240\n"
          ]
        },
        {
          "name": "stderr",
          "output_type": "stream",
          "text": [
            "Epoch [1869/3000]: 100%|██████████| 9/9 [00:00<00:00, 543.08it/s, loss=1.93]\n"
          ]
        },
        {
          "name": "stdout",
          "output_type": "stream",
          "text": [
            "Epoch [1869/3000]: Train loss: 1.7011, Valid loss: 1.7969\n"
          ]
        },
        {
          "name": "stderr",
          "output_type": "stream",
          "text": [
            "Epoch [1870/3000]: 100%|██████████| 9/9 [00:00<00:00, 106.58it/s, loss=2.05]\n"
          ]
        },
        {
          "name": "stdout",
          "output_type": "stream",
          "text": [
            "Epoch [1870/3000]: Train loss: 1.6765, Valid loss: 2.6971\n"
          ]
        },
        {
          "name": "stderr",
          "output_type": "stream",
          "text": [
            "Epoch [1871/3000]: 100%|██████████| 9/9 [00:00<00:00, 571.49it/s, loss=1.38]\n"
          ]
        },
        {
          "name": "stdout",
          "output_type": "stream",
          "text": [
            "Epoch [1871/3000]: Train loss: 1.7109, Valid loss: 1.9418\n"
          ]
        },
        {
          "name": "stderr",
          "output_type": "stream",
          "text": [
            "Epoch [1872/3000]: 100%|██████████| 9/9 [00:00<00:00, 226.63it/s, loss=1.69]\n"
          ]
        },
        {
          "name": "stdout",
          "output_type": "stream",
          "text": [
            "Epoch [1872/3000]: Train loss: 1.6966, Valid loss: 3.3888\n"
          ]
        },
        {
          "name": "stderr",
          "output_type": "stream",
          "text": [
            "Epoch [1873/3000]: 100%|██████████| 9/9 [00:00<00:00, 455.76it/s, loss=2.18]\n"
          ]
        },
        {
          "name": "stdout",
          "output_type": "stream",
          "text": [
            "Epoch [1873/3000]: Train loss: 2.2780, Valid loss: 1.7922\n"
          ]
        },
        {
          "name": "stderr",
          "output_type": "stream",
          "text": [
            "Epoch [1874/3000]: 100%|██████████| 9/9 [00:00<00:00, 581.33it/s, loss=1.64]\n"
          ]
        },
        {
          "name": "stdout",
          "output_type": "stream",
          "text": [
            "Epoch [1874/3000]: Train loss: 1.8490, Valid loss: 2.0951\n"
          ]
        },
        {
          "name": "stderr",
          "output_type": "stream",
          "text": [
            "Epoch [1875/3000]: 100%|██████████| 9/9 [00:00<00:00, 603.18it/s, loss=1.57]\n"
          ]
        },
        {
          "name": "stdout",
          "output_type": "stream",
          "text": [
            "Epoch [1875/3000]: Train loss: 1.8448, Valid loss: 2.2689\n"
          ]
        },
        {
          "name": "stderr",
          "output_type": "stream",
          "text": [
            "Epoch [1876/3000]: 100%|██████████| 9/9 [00:00<00:00, 156.88it/s, loss=2.02]\n"
          ]
        },
        {
          "name": "stdout",
          "output_type": "stream",
          "text": [
            "Epoch [1876/3000]: Train loss: 1.8785, Valid loss: 2.1056\n"
          ]
        },
        {
          "name": "stderr",
          "output_type": "stream",
          "text": [
            "Epoch [1877/3000]: 100%|██████████| 9/9 [00:00<00:00, 592.03it/s, loss=2.35]\n"
          ]
        },
        {
          "name": "stdout",
          "output_type": "stream",
          "text": [
            "Epoch [1877/3000]: Train loss: 2.6428, Valid loss: 2.5277\n"
          ]
        },
        {
          "name": "stderr",
          "output_type": "stream",
          "text": [
            "Epoch [1878/3000]: 100%|██████████| 9/9 [00:00<00:00, 495.78it/s, loss=2.04]\n"
          ]
        },
        {
          "name": "stdout",
          "output_type": "stream",
          "text": [
            "Epoch [1878/3000]: Train loss: 1.9245, Valid loss: 2.4750\n"
          ]
        },
        {
          "name": "stderr",
          "output_type": "stream",
          "text": [
            "Epoch [1879/3000]: 100%|██████████| 9/9 [00:00<00:00, 583.61it/s, loss=2.79]\n"
          ]
        },
        {
          "name": "stdout",
          "output_type": "stream",
          "text": [
            "Epoch [1879/3000]: Train loss: 2.0648, Valid loss: 2.4068\n"
          ]
        },
        {
          "name": "stderr",
          "output_type": "stream",
          "text": [
            "Epoch [1880/3000]: 100%|██████████| 9/9 [00:00<00:00, 447.76it/s, loss=1.56]\n"
          ]
        },
        {
          "name": "stdout",
          "output_type": "stream",
          "text": [
            "Epoch [1880/3000]: Train loss: 1.7272, Valid loss: 2.1734\n"
          ]
        },
        {
          "name": "stderr",
          "output_type": "stream",
          "text": [
            "Epoch [1881/3000]: 100%|██████████| 9/9 [00:00<00:00, 529.38it/s, loss=2.24]\n"
          ]
        },
        {
          "name": "stdout",
          "output_type": "stream",
          "text": [
            "Epoch [1881/3000]: Train loss: 1.9184, Valid loss: 2.1949\n"
          ]
        },
        {
          "name": "stderr",
          "output_type": "stream",
          "text": [
            "Epoch [1882/3000]: 100%|██████████| 9/9 [00:00<00:00, 624.91it/s, loss=1.74]\n"
          ]
        },
        {
          "name": "stdout",
          "output_type": "stream",
          "text": [
            "Epoch [1882/3000]: Train loss: 1.7827, Valid loss: 2.0389\n"
          ]
        },
        {
          "name": "stderr",
          "output_type": "stream",
          "text": [
            "Epoch [1883/3000]: 100%|██████████| 9/9 [00:00<00:00, 616.09it/s, loss=1.93]\n"
          ]
        },
        {
          "name": "stdout",
          "output_type": "stream",
          "text": [
            "Epoch [1883/3000]: Train loss: 1.7506, Valid loss: 2.2620\n",
            "\n",
            "Model is not improving, so we halt the training session.\n"
          ]
        }
      ],
      "source": [
        "model = My_Model(input_dim=x_train.shape[1]).to(device) # put your model and data on the same computation device.\n",
        "trainer(train_loader, valid_loader, model, config, device)"
      ]
    },
    {
      "cell_type": "markdown",
      "metadata": {
        "id": "Ik09KPqU-di-"
      },
      "source": [
        "# Plot learning curves with `tensorboard` (optional)\n",
        "\n",
        "`tensorboard` is a tool that allows you to visualize your training progress.\n",
        "\n",
        "If this block does not display your learning curve, please wait for few minutes, and re-run this block. It might take some time to load your logging information."
      ]
    },
    {
      "cell_type": "code",
      "execution_count": 36,
      "metadata": {
        "id": "loA4nKmLGQ-n"
      },
      "outputs": [
        {
          "data": {
            "text/plain": [
              "Reusing TensorBoard on port 6006 (pid 258), started 0:15:09 ago. (Use '!kill 258' to kill it.)"
            ]
          },
          "metadata": {},
          "output_type": "display_data"
        },
        {
          "data": {
            "text/html": [
              "\n",
              "      <iframe id=\"tensorboard-frame-c806b4c9a9427280\" width=\"100%\" height=\"800\" frameborder=\"0\">\n",
              "      </iframe>\n",
              "      <script>\n",
              "        (function() {\n",
              "          const frame = document.getElementById(\"tensorboard-frame-c806b4c9a9427280\");\n",
              "          const url = new URL(\"http://localhost\");\n",
              "          const port = 6006;\n",
              "          if (port) {\n",
              "            url.port = port;\n",
              "          }\n",
              "          frame.src = url;\n",
              "        })();\n",
              "      </script>\n",
              "    "
            ],
            "text/plain": [
              "<IPython.core.display.HTML object>"
            ]
          },
          "metadata": {},
          "output_type": "display_data"
        }
      ],
      "source": [
        "%reload_ext tensorboard\n",
        "%tensorboard --logdir=./runs/"
      ]
    },
    {
      "cell_type": "markdown",
      "metadata": {
        "id": "yhAHGqC9-woK"
      },
      "source": [
        "# Testing\n",
        "The predictions of your model on testing set will be stored at `pred.csv`."
      ]
    },
    {
      "cell_type": "code",
      "execution_count": 37,
      "metadata": {
        "id": "Q5eVdpbvAlAe"
      },
      "outputs": [
        {
          "name": "stderr",
          "output_type": "stream",
          "text": [
            "100%|██████████| 5/5 [00:00<00:00, 864.02it/s]\n"
          ]
        }
      ],
      "source": [
        "def save_pred(preds, file):\n",
        "    ''' Save predictions to specified file '''\n",
        "    with open(file, 'w') as fp:\n",
        "        writer = csv.writer(fp)\n",
        "        writer.writerow(['id', 'tested_positive'])\n",
        "        for i, p in enumerate(preds):\n",
        "            writer.writerow([i, p])\n",
        "\n",
        "model = My_Model(input_dim=x_train.shape[1]).to(device)\n",
        "model.load_state_dict(torch.load(config['save_path']))\n",
        "preds = predict(test_loader, model, device)\n",
        "save_pred(preds, 'pred.csv')"
      ]
    },
    {
      "cell_type": "markdown",
      "metadata": {
        "id": "IJ_k5rY0GvSV"
      },
      "source": [
        "# Reference\n",
        "This notebook uses code written by Heng-Jui Chang @ NTUEE (https://github.com/ga642381/ML2021-Spring/blob/main/HW01/HW01.ipynb)"
      ]
    },
    {
      "cell_type": "markdown",
      "metadata": {},
      "source": []
    }
  ],
  "metadata": {
    "accelerator": "GPU",
    "colab": {
      "gpuType": "T4",
      "provenance": [],
      "toc_visible": true
    },
    "kernelspec": {
      "display_name": "Python 3",
      "name": "python3"
    },
    "language_info": {
      "codemirror_mode": {
        "name": "ipython",
        "version": 3
      },
      "file_extension": ".py",
      "mimetype": "text/x-python",
      "name": "python",
      "nbconvert_exporter": "python",
      "pygments_lexer": "ipython3",
      "version": "3.11.3"
    }
  },
  "nbformat": 4,
  "nbformat_minor": 0
}
