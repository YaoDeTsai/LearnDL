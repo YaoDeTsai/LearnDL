{
  "cells": [
    {
      "cell_type": "markdown",
      "metadata": {
        "id": "guE34D3Fj2R9"
      },
      "source": [
        "# **Homework 1: COVID-19 Cases Prediction (Regression)**"
      ]
    },
    {
      "cell_type": "markdown",
      "metadata": {
        "id": "V57zhcTp1Xxb"
      },
      "source": [
        "Objectives:\n",
        "* Solve a regression problem with deep neural networks (DNN).\n",
        "* Understand basic DNN training tips.\n",
        "* Familiarize yourself with PyTorch.\n",
        "\n",
        "If you have any questions, please contact the TAs via TA hours, NTU COOL, or email to mlta-2022-spring@googlegroups.com"
      ]
    },
    {
      "cell_type": "markdown",
      "metadata": {
        "id": "Tm2aXcb-j9Fc"
      },
      "source": [
        "# Download data\n",
        "If the Google Drive links below do not work, you can download data from [Kaggle](https://www.kaggle.com/t/a3ebd5b5542f0f55e828d4f00de8e59a), and upload data manually to the workspace."
      ]
    },
    {
      "cell_type": "code",
      "execution_count": 6,
      "metadata": {
        "id": "YPmfl-awlKZA"
      },
      "outputs": [
        {
          "name": "stdout",
          "output_type": "stream",
          "text": [
            "zsh:1: command not found: gdown\n",
            "zsh:1: command not found: gdown\n"
          ]
        }
      ],
      "source": [
        "!gdown --id '1kLSW_-cW2Huj7bh84YTdimGBOJaODiOS' --output covid.train.csv\n",
        "!gdown --id '1iiI5qROrAhZn-o4FPqsE97bMzDEFvIdg' --output covid.test.csv"
      ]
    },
    {
      "cell_type": "markdown",
      "metadata": {
        "id": "igqIMEgu64-F"
      },
      "source": [
        "# Import packages"
      ]
    },
    {
      "cell_type": "code",
      "execution_count": 14,
      "metadata": {
        "id": "xybQNYCXYu13"
      },
      "outputs": [],
      "source": [
        "# Numerical Operations\n",
        "import math\n",
        "import numpy as np\n",
        "\n",
        "# Reading/Writing Data\n",
        "import pandas as pd\n",
        "import os\n",
        "import csv\n",
        "\n",
        "# For Progress Bar\n",
        "from tqdm import tqdm\n",
        "\n",
        "# Pytorch\n",
        "import torch\n",
        "import torch.nn as nn\n",
        "from torch.utils.data import Dataset, DataLoader, random_split\n",
        "\n",
        "# For plotting learning curve\n",
        "from torch.utils.tensorboard import SummaryWriter"
      ]
    },
    {
      "cell_type": "markdown",
      "metadata": {
        "id": "fTAVqRfc2KK3"
      },
      "source": [
        "# Some Utility Functions\n",
        "\n",
        "You do not need to modify this part."
      ]
    },
    {
      "cell_type": "code",
      "execution_count": 4,
      "metadata": {
        "id": "RbrcpfYN2I-H"
      },
      "outputs": [],
      "source": [
        "def same_seed(seed):\n",
        "    '''Fixes random number generator seeds for reproducibility.'''\n",
        "    torch.backends.cudnn.deterministic = True\n",
        "    torch.backends.cudnn.benchmark = False\n",
        "    np.random.seed(seed)\n",
        "    torch.manual_seed(seed)\n",
        "    if torch.cuda.is_available():\n",
        "        torch.cuda.manual_seed_all(seed)\n",
        "\n",
        "def train_valid_split(data_set, valid_ratio, seed):\n",
        "    '''Split provided training data into training set and validation set'''\n",
        "    valid_set_size = int(valid_ratio * len(data_set))\n",
        "    train_set_size = len(data_set) - valid_set_size\n",
        "    train_set, valid_set = random_split(data_set, [train_set_size, valid_set_size], generator=torch.Generator().manual_seed(seed))\n",
        "    return np.array(train_set), np.array(valid_set)\n",
        "\n",
        "def predict(test_loader, model, device):\n",
        "    model.eval() # Set your model to evaluation mode.\n",
        "    preds = []\n",
        "    for x in tqdm(test_loader):\n",
        "        x = x.to(device)\n",
        "        with torch.no_grad():\n",
        "            pred = model(x)\n",
        "            preds.append(pred.detach().cpu())\n",
        "    preds = torch.cat(preds, dim=0).numpy()\n",
        "    return preds"
      ]
    },
    {
      "cell_type": "markdown",
      "metadata": {
        "id": "IqO3lTm78nNO"
      },
      "source": [
        "# Dataset"
      ]
    },
    {
      "cell_type": "code",
      "execution_count": 5,
      "metadata": {
        "id": "-mjaJM0wprMs"
      },
      "outputs": [],
      "source": [
        "class COVID19Dataset(Dataset):\n",
        "    '''\n",
        "    x: Features.\n",
        "    y: Targets, if none, do prediction.\n",
        "    '''\n",
        "    def __init__(self, x, y=None):\n",
        "        if y is None:\n",
        "            self.y = y\n",
        "        else:\n",
        "            self.y = torch.FloatTensor(y)\n",
        "        self.x = torch.FloatTensor(x)\n",
        "\n",
        "    def __getitem__(self, idx):\n",
        "        if self.y is None:\n",
        "            return self.x[idx]\n",
        "        else:\n",
        "            return self.x[idx], self.y[idx]\n",
        "\n",
        "    def __len__(self):\n",
        "        return len(self.x)"
      ]
    },
    {
      "cell_type": "markdown",
      "metadata": {
        "id": "m73ooU75CL_j"
      },
      "source": [
        "# Neural Network Model\n",
        "Try out different model architectures by modifying the class below."
      ]
    },
    {
      "cell_type": "code",
      "execution_count": 6,
      "metadata": {
        "id": "Qn97_WvvrEkG"
      },
      "outputs": [],
      "source": [
        "class My_Model(nn.Module):\n",
        "    def __init__(self, input_dim):\n",
        "        super(My_Model, self).__init__()\n",
        "        # TODO: modify model's structure, be aware of dimensions.\n",
        "        self.layers = nn.Sequential(\n",
        "            nn.Linear(input_dim, 16),\n",
        "            nn.ReLU(),\n",
        "            nn.Linear(16, 8),\n",
        "            nn.ReLU(),\n",
        "            nn.Linear(8, 1)\n",
        "        )\n",
        "\n",
        "    def forward(self, x):\n",
        "        x = self.layers(x)\n",
        "        x = x.squeeze(1) # (B, 1) -> (B)\n",
        "        return x"
      ]
    },
    {
      "cell_type": "markdown",
      "metadata": {
        "id": "x5-LKF6R8xeq"
      },
      "source": [
        "# Feature Selection\n",
        "Choose features you deem useful by modifying the function below."
      ]
    },
    {
      "cell_type": "code",
      "execution_count": 7,
      "metadata": {
        "id": "0FEnKRaIIeKp"
      },
      "outputs": [],
      "source": [
        "def select_feat(train_data, valid_data, test_data, select_all=True):\n",
        "    '''Selects useful features to perform regression'''\n",
        "    y_train, y_valid = train_data[:,-1], valid_data[:,-1]\n",
        "    raw_x_train, raw_x_valid, raw_x_test = train_data[:,:-1], valid_data[:,:-1], test_data\n",
        "\n",
        "    if select_all:\n",
        "        feat_idx = list(range(raw_x_train.shape[1]))\n",
        "    else:\n",
        "        feat_idx = [0,1,2,3,4] # TODO: Select suitable feature columns.\n",
        "\n",
        "    return raw_x_train[:,feat_idx], raw_x_valid[:,feat_idx], raw_x_test[:,feat_idx], y_train, y_valid"
      ]
    },
    {
      "cell_type": "markdown",
      "metadata": {},
      "source": [
        "##RF\n",
        "\n"
      ]
    },
    {
      "cell_type": "code",
      "execution_count": 8,
      "metadata": {},
      "outputs": [],
      "source": [
        "from sklearn.ensemble import RandomForestRegressor\n",
        "from sklearn.feature_selection import SelectFromModel\n",
        "\n",
        "def select_feat(train_data, valid_data, test_data, threshold=0.0001, select_all=True):\n",
        "    '''Selects features using Random Forest feature importance'''\n",
        "    y_train, y_valid = train_data[:,-1], valid_data[:,-1]\n",
        "    raw_x_train, raw_x_valid, raw_x_test = train_data[:,:-1], valid_data[:,:-1], test_data\n",
        "\n",
        "    if select_all:\n",
        "        feat_idx = list(range(raw_x_train.shape[1]))\n",
        "    else:\n",
        "        # 创建一个RandomForestRegressor模型，可以调整超参数\n",
        "        model = RandomForestRegressor(n_estimators=100, max_depth=10)  # 例如，设置树的数量和最大深度\n",
        "        \n",
        "        # 拟合模型到训练数据\n",
        "        model.fit(raw_x_train, y_train)\n",
        "        \n",
        "        # 获取特征重要性\n",
        "        feature_importances = model.feature_importances_\n",
        "        \n",
        "        # 创建特征选择器，基于特征重要性\n",
        "        selector = SelectFromModel(model, threshold=threshold)\n",
        "        \n",
        "        # 拟合选择器到训练数据\n",
        "        selector.fit(raw_x_train, y_train)\n",
        "        \n",
        "        # 获取选择的特征的索引\n",
        "        feat_idx = selector.get_support(indices=True)\n",
        "        \n",
        "\n",
        "    return raw_x_train[:, feat_idx], raw_x_valid[:, feat_idx], raw_x_test[:, feat_idx], y_train, y_valid\n"
      ]
    },
    {
      "cell_type": "markdown",
      "metadata": {},
      "source": [
        "##Lasso"
      ]
    },
    {
      "cell_type": "code",
      "execution_count": 9,
      "metadata": {},
      "outputs": [],
      "source": [
        "from sklearn.linear_model import Lasso\n",
        "\n",
        "def select_feat(train_data, valid_data, test_data, alpha=0.001):\n",
        "    '''Selects features using Lasso Regression'''\n",
        "    y_train, y_valid = train_data[:,-1], valid_data[:,-1]\n",
        "    raw_x_train, raw_x_valid, raw_x_test = train_data[:,:-1], valid_data[:,:-1], test_data\n",
        "\n",
        "    # 创建 Lasso 模型\n",
        "    model = Lasso(alpha=alpha)\n",
        "\n",
        "    # 拟合 Lasso 模型到训练数据\n",
        "    model.fit(raw_x_train, y_train)\n",
        "\n",
        "    # 获取特征的系数，系数不为零的特征将被选择\n",
        "    coef = model.coef_\n",
        "    \n",
        "    # 获取非零系数的特征索引\n",
        "    feat_idx = [i for i in range(len(coef)) if coef[i] != 0]\n",
        "    \n",
        "\n",
        "    return raw_x_train[:, feat_idx], raw_x_valid[:, feat_idx], raw_x_test[:, feat_idx], y_train, y_valid\n"
      ]
    },
    {
      "cell_type": "markdown",
      "metadata": {},
      "source": [
        "##correlation pearson"
      ]
    },
    {
      "cell_type": "code",
      "execution_count": 47,
      "metadata": {},
      "outputs": [],
      "source": [
        "import numpy as np\n",
        "\n",
        "def select_feat(train_data, valid_data, test_data, select_all=True, threshold=0.2):\n",
        "    '''Selects useful features to perform regression based on Pearson correlation'''\n",
        "    y_train, y_valid = train_data[:,-1], valid_data[:,-1]\n",
        "    raw_x_train, raw_x_valid, raw_x_test = train_data[:,:-1], valid_data[:,:-1], test_data\n",
        "    \n",
        "    if select_all:\n",
        "        # Calculate Pearson correlation coefficients between features and target variable\n",
        "        corr_with_target = [abs(np.corrcoef(raw_x_train[:, i], y_train)[0, 1]) for i in range(raw_x_train.shape[1] - 1)]\n",
        "\n",
        "        # Select features with correlation above the specified threshold\n",
        "        feat_idx = [i for i, corr in enumerate(corr_with_target) if corr >= threshold]\n",
        "        #feat_idx = list(set(feat_idx).union(set(range(37))))\n",
        "    else:\n",
        "        # TODO: Select suitable feature columns based on Pearson correlation.\n",
        "        feat_idx = [0, 1, 2, 3, 4]  # Replace with your selection criteria.\n",
        "\n",
        "    return raw_x_train[:, feat_idx], raw_x_valid[:, feat_idx], raw_x_test[:, feat_idx], y_train, y_valid\n"
      ]
    },
    {
      "cell_type": "code",
      "execution_count": 10,
      "metadata": {},
      "outputs": [],
      "source": [
        "from sklearn.ensemble import RandomForestRegressor\n",
        "\n",
        "def select_feat(train_data, valid_data, test_data, select_all=True, num_features=5):\n",
        "    '''Selects useful features to perform regression based on feature importance from Random Forest'''\n",
        "    y_train, y_valid = train_data[:,-1], valid_data[:,-1]\n",
        "    raw_x_train, raw_x_valid, raw_x_test = train_data[:,:-1], valid_data[:,:-1], test_data\n",
        "\n",
        "    if select_all:\n",
        "        # Train a Random Forest model to calculate feature importances\n",
        "        forest = RandomForestRegressor(n_estimators=500)\n",
        "        forest.fit(raw_x_train, y_train)\n",
        "        \n",
        "        # Get feature importances and select the top features\n",
        "        importances = forest.feature_importances_\n",
        "        feat_idx = np.argsort(importances)[::-1][:num_features]\n",
        "    else:\n",
        "        # TODO: Select suitable feature columns based on feature importance from Random Forest.\n",
        "        feat_idx = [0, 1, 2, 3, 4]  # Replace with your selection criteria.\n",
        "\n",
        "    return raw_x_train[:, feat_idx], raw_x_valid[:, feat_idx], raw_x_test[:, feat_idx], y_train, y_valid\n"
      ]
    },
    {
      "cell_type": "markdown",
      "metadata": {
        "id": "kADIPNQ2Ih5X"
      },
      "source": [
        "# Training Loop"
      ]
    },
    {
      "cell_type": "code",
      "execution_count": 85,
      "metadata": {
        "id": "k4Rq8_TztAhq"
      },
      "outputs": [],
      "source": [
        "def trainer(train_loader, valid_loader, model, config, device):\n",
        "\n",
        "    criterion = nn.MSELoss(reduction='mean') # Define your loss function, do not modify this.\n",
        "\n",
        "    # Define your optimization algorithm.\n",
        "    # TODO: Please check https://py torch.org/docs/stable/optim.html to get more available algorithms.\n",
        "    # TODO: L2 regularization (optimizer(weight decay...) or implement by your self).\n",
        "    #optimizer = torch.optim.SGD(model.parameters(), lr=config['learning_rate'], momentum=0.9)\n",
        "    optimizer = torch.optim.SGD(model.parameters(), lr=config['learning_rate'], weight_decay=1e-4)\n",
        "\n",
        "    writer = SummaryWriter() # Writer of tensoboard.\n",
        "\n",
        "    if not os.path.isdir('./models'):\n",
        "        os.mkdir('./models') # Create directory of saving models.\n",
        "\n",
        "    n_epochs, best_loss, step, early_stop_count = config['n_epochs'], math.inf, 0, 0\n",
        "\n",
        "    for epoch in range(n_epochs):\n",
        "        model.train() # Set your model to train mode.\n",
        "        loss_record = []\n",
        "\n",
        "        # tqdm is a package to visualize your training progress.\n",
        "        train_pbar = tqdm(train_loader, position=0, leave=True)\n",
        "\n",
        "        for x, y in train_pbar:\n",
        "            optimizer.zero_grad()               # Set gradient to zero.\n",
        "            x, y = x.to(device), y.to(device)   # Move your data to device.\n",
        "            pred = model(x)\n",
        "            loss = criterion(pred, y)\n",
        "            loss.backward()                     # Compute gradient(backpropagation).\n",
        "            optimizer.step()                    # Update parameters.\n",
        "            step += 1\n",
        "            loss_record.append(loss.detach().item())\n",
        "\n",
        "            # Display current epoch number and loss on tqdm progress bar.\n",
        "            train_pbar.set_description(f'Epoch [{epoch+1}/{n_epochs}]')\n",
        "            train_pbar.set_postfix({'loss': loss.detach().item()})\n",
        "\n",
        "        mean_train_loss = sum(loss_record)/len(loss_record)\n",
        "        writer.add_scalar('Loss/train', mean_train_loss, step)\n",
        "\n",
        "        model.eval() # Set your model to evaluation mode.\n",
        "        loss_record = []\n",
        "        for x, y in valid_loader:\n",
        "            x, y = x.to(device), y.to(device)\n",
        "            with torch.no_grad():\n",
        "                pred = model(x)\n",
        "                loss = criterion(pred, y)\n",
        "\n",
        "            loss_record.append(loss.item())\n",
        "\n",
        "        mean_valid_loss = sum(loss_record)/len(loss_record)\n",
        "        print(f'Epoch [{epoch+1}/{n_epochs}]: Train loss: {mean_train_loss:.4f}, Valid loss: {mean_valid_loss:.4f}')\n",
        "        writer.add_scalar('Loss/valid', mean_valid_loss, step)\n",
        "\n",
        "        if mean_valid_loss < best_loss:\n",
        "            best_loss = mean_valid_loss\n",
        "            torch.save(model.state_dict(), config['save_path']) # Save your best model\n",
        "            print('Saving model with loss {:.3f}...'.format(best_loss))\n",
        "            early_stop_count = 0\n",
        "        else:\n",
        "            early_stop_count += 1\n",
        "\n",
        "        if early_stop_count >= config['early_stop']:\n",
        "            print('\\nModel is not improving, so we halt the training session.')\n",
        "            return"
      ]
    },
    {
      "cell_type": "markdown",
      "metadata": {
        "id": "0pgkOh2e9UjE"
      },
      "source": [
        "# Configurations\n",
        "`config` contains hyper-parameters for training and the path to save your model."
      ]
    },
    {
      "cell_type": "code",
      "execution_count": 86,
      "metadata": {
        "id": "QoWPUahCtoT6"
      },
      "outputs": [],
      "source": [
        "device = 'cuda' if torch.cuda.is_available() else 'cpu'\n",
        "config = {\n",
        "    'seed': 5201314,      # Your seed number, you can pick your lucky number. :)\n",
        "    'select_all': True,   # Whether to use all features.\n",
        "    'valid_ratio': 0.2,   # validation_size = train_size * valid_ratio\n",
        "    'n_epochs': 3000,     # Number of epochs.\n",
        "    'batch_size': 256,\n",
        "    'learning_rate': 1e-5,\n",
        "    'early_stop': 400,    # If model has not improved for this many consecutive epochs, stop training.\n",
        "    'save_path': './models/model.ckpt'  # Your model will be saved here.\n",
        "}"
      ]
    },
    {
      "cell_type": "markdown",
      "metadata": {
        "id": "lrS-aJJh9XkW"
      },
      "source": [
        "# Dataloader\n",
        "Read data from files and set up training, validation, and testing sets. You do not need to modify this part."
      ]
    },
    {
      "cell_type": "code",
      "execution_count": 87,
      "metadata": {
        "id": "2jc7ZfDot2t9"
      },
      "outputs": [
        {
          "name": "stdout",
          "output_type": "stream",
          "text": [
            "train_data size: (2160, 117)\n",
            "valid_data size: (539, 117)\n",
            "test_data size: (1078, 116)\n",
            "number of features: 63\n"
          ]
        }
      ],
      "source": [
        "# Set seed for reproducibility\n",
        "same_seed(config['seed'])\n",
        "\n",
        "\n",
        "# train_data size: 2699 x 118 (id + 37 states + 16 features x 5 days)\n",
        "# test_data size: 1078 x 117 (without last day's positive rate)\n",
        "train_data, test_data = pd.read_csv('./covid.train.csv').values[:,1:], pd.read_csv('./covid.test.csv').values[:,1:]\n",
        "train_data, valid_data = train_valid_split(train_data, config['valid_ratio'], config['seed'])\n",
        "\n",
        "# Print out the data size.\n",
        "print(f\"\"\"train_data size: {train_data.shape}\n",
        "valid_data size: {valid_data.shape}\n",
        "test_data size: {test_data.shape}\"\"\")\n",
        "\n",
        "# Select features\n",
        "x_train, x_valid, x_test, y_train, y_valid = select_feat(train_data, valid_data, test_data, config['select_all'])\n",
        "\n",
        "# Print out the number of features.\n",
        "print(f'number of features: {x_train.shape[1]}')\n",
        "\n",
        "train_dataset, valid_dataset, test_dataset = COVID19Dataset(x_train, y_train), \\\n",
        "                                            COVID19Dataset(x_valid, y_valid), \\\n",
        "                                            COVID19Dataset(x_test)\n",
        "\n",
        "# Pytorch data loader loads pytorch dataset into batches.\n",
        "train_loader = DataLoader(train_dataset, batch_size=config['batch_size'], shuffle=True, pin_memory=True)\n",
        "valid_loader = DataLoader(valid_dataset, batch_size=config['batch_size'], shuffle=True, pin_memory=True)\n",
        "test_loader = DataLoader(test_dataset, batch_size=config['batch_size'], shuffle=False, pin_memory=True)"
      ]
    },
    {
      "cell_type": "markdown",
      "metadata": {
        "id": "0OBYgjCA-YwD"
      },
      "source": [
        "# Start training!"
      ]
    },
    {
      "cell_type": "code",
      "execution_count": 88,
      "metadata": {
        "id": "YdttVRkAfu2t"
      },
      "outputs": [
        {
          "name": "stderr",
          "output_type": "stream",
          "text": [
            "Epoch [1/3000]: 100%|██████████| 9/9 [00:00<00:00, 83.84it/s, loss=89.1]\n"
          ]
        },
        {
          "name": "stdout",
          "output_type": "stream",
          "text": [
            "Epoch [1/3000]: Train loss: 151.9208, Valid loss: 114.1422\n",
            "Saving model with loss 114.142...\n"
          ]
        },
        {
          "name": "stderr",
          "output_type": "stream",
          "text": [
            "Epoch [2/3000]: 100%|██████████| 9/9 [00:00<00:00, 107.67it/s, loss=32.3]\n"
          ]
        },
        {
          "name": "stdout",
          "output_type": "stream",
          "text": [
            "Epoch [2/3000]: Train loss: 76.8780, Valid loss: 60.9730\n",
            "Saving model with loss 60.973...\n"
          ]
        },
        {
          "name": "stderr",
          "output_type": "stream",
          "text": [
            "Epoch [3/3000]: 100%|██████████| 9/9 [00:00<00:00, 59.49it/s, loss=49.8]\n"
          ]
        },
        {
          "name": "stdout",
          "output_type": "stream",
          "text": [
            "Epoch [3/3000]: Train loss: 53.2097, Valid loss: 49.2236\n",
            "Saving model with loss 49.224...\n"
          ]
        },
        {
          "name": "stderr",
          "output_type": "stream",
          "text": [
            "Epoch [4/3000]: 100%|██████████| 9/9 [00:00<00:00, 116.01it/s, loss=34.8]\n"
          ]
        },
        {
          "name": "stdout",
          "output_type": "stream",
          "text": [
            "Epoch [4/3000]: Train loss: 41.2406, Valid loss: 36.7733\n",
            "Saving model with loss 36.773...\n"
          ]
        },
        {
          "name": "stderr",
          "output_type": "stream",
          "text": [
            "Epoch [5/3000]: 100%|██████████| 9/9 [00:00<00:00, 123.97it/s, loss=36.7]\n"
          ]
        },
        {
          "name": "stdout",
          "output_type": "stream",
          "text": [
            "Epoch [5/3000]: Train loss: 37.0863, Valid loss: 43.3735\n"
          ]
        },
        {
          "name": "stderr",
          "output_type": "stream",
          "text": [
            "Epoch [6/3000]: 100%|██████████| 9/9 [00:00<00:00, 106.40it/s, loss=27.3]\n"
          ]
        },
        {
          "name": "stdout",
          "output_type": "stream",
          "text": [
            "Epoch [6/3000]: Train loss: 34.5528, Valid loss: 38.2413\n"
          ]
        },
        {
          "name": "stderr",
          "output_type": "stream",
          "text": [
            "Epoch [7/3000]: 100%|██████████| 9/9 [00:00<00:00, 108.56it/s, loss=35.9]\n"
          ]
        },
        {
          "name": "stdout",
          "output_type": "stream",
          "text": [
            "Epoch [7/3000]: Train loss: 33.9779, Valid loss: 38.4551\n"
          ]
        },
        {
          "name": "stderr",
          "output_type": "stream",
          "text": [
            "Epoch [8/3000]: 100%|██████████| 9/9 [00:00<00:00, 114.27it/s, loss=31.4]\n"
          ]
        },
        {
          "name": "stdout",
          "output_type": "stream",
          "text": [
            "Epoch [8/3000]: Train loss: 32.8614, Valid loss: 33.2900\n",
            "Saving model with loss 33.290...\n"
          ]
        },
        {
          "name": "stderr",
          "output_type": "stream",
          "text": [
            "Epoch [9/3000]: 100%|██████████| 9/9 [00:00<00:00, 114.48it/s, loss=40.3]\n"
          ]
        },
        {
          "name": "stdout",
          "output_type": "stream",
          "text": [
            "Epoch [9/3000]: Train loss: 32.7285, Valid loss: 39.2562\n"
          ]
        },
        {
          "name": "stderr",
          "output_type": "stream",
          "text": [
            "Epoch [10/3000]: 100%|██████████| 9/9 [00:00<00:00, 117.69it/s, loss=27.3]\n"
          ]
        },
        {
          "name": "stdout",
          "output_type": "stream",
          "text": [
            "Epoch [10/3000]: Train loss: 31.3106, Valid loss: 32.8091\n",
            "Saving model with loss 32.809...\n"
          ]
        },
        {
          "name": "stderr",
          "output_type": "stream",
          "text": [
            "Epoch [11/3000]: 100%|██████████| 9/9 [00:00<00:00, 114.31it/s, loss=29.7]\n"
          ]
        },
        {
          "name": "stdout",
          "output_type": "stream",
          "text": [
            "Epoch [11/3000]: Train loss: 30.8586, Valid loss: 31.1474\n",
            "Saving model with loss 31.147...\n"
          ]
        },
        {
          "name": "stderr",
          "output_type": "stream",
          "text": [
            "Epoch [12/3000]: 100%|██████████| 9/9 [00:00<00:00, 107.51it/s, loss=28.1]\n"
          ]
        },
        {
          "name": "stdout",
          "output_type": "stream",
          "text": [
            "Epoch [12/3000]: Train loss: 30.1778, Valid loss: 29.0318\n",
            "Saving model with loss 29.032...\n"
          ]
        },
        {
          "name": "stderr",
          "output_type": "stream",
          "text": [
            "Epoch [13/3000]: 100%|██████████| 9/9 [00:00<00:00, 95.89it/s, loss=33.1]\n"
          ]
        },
        {
          "name": "stdout",
          "output_type": "stream",
          "text": [
            "Epoch [13/3000]: Train loss: 29.9210, Valid loss: 35.2925\n"
          ]
        },
        {
          "name": "stderr",
          "output_type": "stream",
          "text": [
            "Epoch [14/3000]: 100%|██████████| 9/9 [00:00<00:00, 105.27it/s, loss=20.1]\n"
          ]
        },
        {
          "name": "stdout",
          "output_type": "stream",
          "text": [
            "Epoch [14/3000]: Train loss: 28.5538, Valid loss: 29.9115\n"
          ]
        },
        {
          "name": "stderr",
          "output_type": "stream",
          "text": [
            "Epoch [15/3000]: 100%|██████████| 9/9 [00:00<00:00, 132.00it/s, loss=38.4]"
          ]
        },
        {
          "name": "stdout",
          "output_type": "stream",
          "text": [
            "Epoch [15/3000]: Train loss: 29.1633, Valid loss: 34.7914"
          ]
        },
        {
          "name": "stderr",
          "output_type": "stream",
          "text": [
            "\n"
          ]
        },
        {
          "name": "stdout",
          "output_type": "stream",
          "text": [
            "\n"
          ]
        },
        {
          "name": "stderr",
          "output_type": "stream",
          "text": [
            "Epoch [16/3000]: 100%|██████████| 9/9 [00:00<00:00, 107.41it/s, loss=22.7]\n"
          ]
        },
        {
          "name": "stdout",
          "output_type": "stream",
          "text": [
            "Epoch [16/3000]: Train loss: 27.6353, Valid loss: 27.6735\n",
            "Saving model with loss 27.674...\n"
          ]
        },
        {
          "name": "stderr",
          "output_type": "stream",
          "text": [
            "Epoch [17/3000]: 100%|██████████| 9/9 [00:00<00:00, 115.82it/s, loss=21.6]\n"
          ]
        },
        {
          "name": "stdout",
          "output_type": "stream",
          "text": [
            "Epoch [17/3000]: Train loss: 27.0364, Valid loss: 28.4777\n"
          ]
        },
        {
          "name": "stderr",
          "output_type": "stream",
          "text": [
            "Epoch [18/3000]: 100%|██████████| 9/9 [00:00<00:00, 122.13it/s, loss=23]"
          ]
        },
        {
          "name": "stdout",
          "output_type": "stream",
          "text": [
            "Epoch [18/3000]: Train loss: 26.6037, Valid loss: 29.2246\n"
          ]
        },
        {
          "name": "stderr",
          "output_type": "stream",
          "text": [
            "\n",
            "Epoch [19/3000]: 100%|██████████| 9/9 [00:00<00:00, 134.81it/s, loss=30.6]\n"
          ]
        },
        {
          "name": "stdout",
          "output_type": "stream",
          "text": [
            "Epoch [19/3000]: Train loss: 26.5710, Valid loss: 26.8676\n",
            "Saving model with loss 26.868...\n"
          ]
        },
        {
          "name": "stderr",
          "output_type": "stream",
          "text": [
            "Epoch [20/3000]: 100%|██████████| 9/9 [00:00<00:00, 127.55it/s, loss=24.6]\n"
          ]
        },
        {
          "name": "stdout",
          "output_type": "stream",
          "text": [
            "Epoch [20/3000]: Train loss: 25.6852, Valid loss: 27.8818\n"
          ]
        },
        {
          "name": "stderr",
          "output_type": "stream",
          "text": [
            "Epoch [21/3000]: 100%|██████████| 9/9 [00:00<00:00, 110.72it/s, loss=20]\n"
          ]
        },
        {
          "name": "stdout",
          "output_type": "stream",
          "text": [
            "Epoch [21/3000]: Train loss: 24.9150, Valid loss: 30.3164\n"
          ]
        },
        {
          "name": "stderr",
          "output_type": "stream",
          "text": [
            "Epoch [22/3000]: 100%|██████████| 9/9 [00:00<00:00, 117.28it/s, loss=21.7]\n"
          ]
        },
        {
          "name": "stdout",
          "output_type": "stream",
          "text": [
            "Epoch [22/3000]: Train loss: 24.5238, Valid loss: 25.6460\n",
            "Saving model with loss 25.646...\n"
          ]
        },
        {
          "name": "stderr",
          "output_type": "stream",
          "text": [
            "Epoch [23/3000]: 100%|██████████| 9/9 [00:00<00:00, 126.01it/s, loss=22]\n"
          ]
        },
        {
          "name": "stdout",
          "output_type": "stream",
          "text": [
            "Epoch [23/3000]: Train loss: 24.0620, Valid loss: 25.5945\n",
            "Saving model with loss 25.594...\n"
          ]
        },
        {
          "name": "stderr",
          "output_type": "stream",
          "text": [
            "Epoch [24/3000]: 100%|██████████| 9/9 [00:00<00:00, 133.29it/s, loss=25.9]\n"
          ]
        },
        {
          "name": "stdout",
          "output_type": "stream",
          "text": [
            "Epoch [24/3000]: Train loss: 23.8288, Valid loss: 23.8356\n",
            "Saving model with loss 23.836...\n"
          ]
        },
        {
          "name": "stderr",
          "output_type": "stream",
          "text": [
            "Epoch [25/3000]: 100%|██████████| 9/9 [00:00<00:00, 132.54it/s, loss=22]\n"
          ]
        },
        {
          "name": "stdout",
          "output_type": "stream",
          "text": [
            "Epoch [25/3000]: Train loss: 23.1081, Valid loss: 27.2309\n"
          ]
        },
        {
          "name": "stderr",
          "output_type": "stream",
          "text": [
            "Epoch [26/3000]: 100%|██████████| 9/9 [00:00<00:00, 117.34it/s, loss=21]\n"
          ]
        },
        {
          "name": "stdout",
          "output_type": "stream",
          "text": [
            "Epoch [26/3000]: Train loss: 22.5960, Valid loss: 26.6146\n"
          ]
        },
        {
          "name": "stderr",
          "output_type": "stream",
          "text": [
            "Epoch [27/3000]: 100%|██████████| 9/9 [00:00<00:00, 119.28it/s, loss=22.7]\n"
          ]
        },
        {
          "name": "stdout",
          "output_type": "stream",
          "text": [
            "Epoch [27/3000]: Train loss: 22.2302, Valid loss: 27.4829\n"
          ]
        },
        {
          "name": "stderr",
          "output_type": "stream",
          "text": [
            "Epoch [28/3000]: 100%|██████████| 9/9 [00:00<00:00, 110.47it/s, loss=29.4]\n"
          ]
        },
        {
          "name": "stdout",
          "output_type": "stream",
          "text": [
            "Epoch [28/3000]: Train loss: 22.2061, Valid loss: 20.9852\n",
            "Saving model with loss 20.985...\n"
          ]
        },
        {
          "name": "stderr",
          "output_type": "stream",
          "text": [
            "Epoch [29/3000]: 100%|██████████| 9/9 [00:00<00:00, 124.42it/s, loss=21.5]\n"
          ]
        },
        {
          "name": "stdout",
          "output_type": "stream",
          "text": [
            "Epoch [29/3000]: Train loss: 21.2490, Valid loss: 22.8203\n"
          ]
        },
        {
          "name": "stderr",
          "output_type": "stream",
          "text": [
            "Epoch [30/3000]: 100%|██████████| 9/9 [00:00<00:00, 124.96it/s, loss=20.4]\n"
          ]
        },
        {
          "name": "stdout",
          "output_type": "stream",
          "text": [
            "Epoch [30/3000]: Train loss: 20.7335, Valid loss: 21.3645\n"
          ]
        },
        {
          "name": "stderr",
          "output_type": "stream",
          "text": [
            "Epoch [31/3000]: 100%|██████████| 9/9 [00:00<00:00, 138.32it/s, loss=17]\n"
          ]
        },
        {
          "name": "stdout",
          "output_type": "stream",
          "text": [
            "Epoch [31/3000]: Train loss: 20.0816, Valid loss: 22.1143\n"
          ]
        },
        {
          "name": "stderr",
          "output_type": "stream",
          "text": [
            "Epoch [32/3000]: 100%|██████████| 9/9 [00:00<00:00, 123.53it/s, loss=20.5]\n"
          ]
        },
        {
          "name": "stdout",
          "output_type": "stream",
          "text": [
            "Epoch [32/3000]: Train loss: 19.8543, Valid loss: 21.4042\n"
          ]
        },
        {
          "name": "stderr",
          "output_type": "stream",
          "text": [
            "Epoch [33/3000]: 100%|██████████| 9/9 [00:00<00:00, 113.77it/s, loss=19.1]\n"
          ]
        },
        {
          "name": "stdout",
          "output_type": "stream",
          "text": [
            "Epoch [33/3000]: Train loss: 19.3101, Valid loss: 20.6329\n",
            "Saving model with loss 20.633...\n"
          ]
        },
        {
          "name": "stderr",
          "output_type": "stream",
          "text": [
            "Epoch [34/3000]: 100%|██████████| 9/9 [00:00<00:00, 75.22it/s, loss=17.7]\n"
          ]
        },
        {
          "name": "stdout",
          "output_type": "stream",
          "text": [
            "Epoch [34/3000]: Train loss: 18.7138, Valid loss: 20.5277\n",
            "Saving model with loss 20.528...\n"
          ]
        },
        {
          "name": "stderr",
          "output_type": "stream",
          "text": [
            "Epoch [35/3000]: 100%|██████████| 9/9 [00:00<00:00, 114.36it/s, loss=17.9]\n"
          ]
        },
        {
          "name": "stdout",
          "output_type": "stream",
          "text": [
            "Epoch [35/3000]: Train loss: 18.1143, Valid loss: 20.5239\n",
            "Saving model with loss 20.524...\n"
          ]
        },
        {
          "name": "stderr",
          "output_type": "stream",
          "text": [
            "Epoch [36/3000]: 100%|██████████| 9/9 [00:00<00:00, 127.27it/s, loss=16.3]\n"
          ]
        },
        {
          "name": "stdout",
          "output_type": "stream",
          "text": [
            "Epoch [36/3000]: Train loss: 17.2759, Valid loss: 20.4236\n",
            "Saving model with loss 20.424...\n"
          ]
        },
        {
          "name": "stderr",
          "output_type": "stream",
          "text": [
            "Epoch [37/3000]: 100%|██████████| 9/9 [00:00<00:00, 126.55it/s, loss=9.81]\n"
          ]
        },
        {
          "name": "stdout",
          "output_type": "stream",
          "text": [
            "Epoch [37/3000]: Train loss: 16.1473, Valid loss: 18.5563\n",
            "Saving model with loss 18.556...\n"
          ]
        },
        {
          "name": "stderr",
          "output_type": "stream",
          "text": [
            "Epoch [38/3000]: 100%|██████████| 9/9 [00:00<00:00, 119.94it/s, loss=16.1]\n"
          ]
        },
        {
          "name": "stdout",
          "output_type": "stream",
          "text": [
            "Epoch [38/3000]: Train loss: 15.9358, Valid loss: 15.5254\n",
            "Saving model with loss 15.525...\n"
          ]
        },
        {
          "name": "stderr",
          "output_type": "stream",
          "text": [
            "Epoch [39/3000]: 100%|██████████| 9/9 [00:00<00:00, 105.41it/s, loss=17]\n"
          ]
        },
        {
          "name": "stdout",
          "output_type": "stream",
          "text": [
            "Epoch [39/3000]: Train loss: 15.4311, Valid loss: 16.7370\n"
          ]
        },
        {
          "name": "stderr",
          "output_type": "stream",
          "text": [
            "Epoch [40/3000]: 100%|██████████| 9/9 [00:00<00:00, 124.03it/s, loss=18.2]\n"
          ]
        },
        {
          "name": "stdout",
          "output_type": "stream",
          "text": [
            "Epoch [40/3000]: Train loss: 15.0156, Valid loss: 15.0413\n",
            "Saving model with loss 15.041...\n"
          ]
        },
        {
          "name": "stderr",
          "output_type": "stream",
          "text": [
            "Epoch [41/3000]: 100%|██████████| 9/9 [00:00<00:00, 127.46it/s, loss=14.5]\n"
          ]
        },
        {
          "name": "stdout",
          "output_type": "stream",
          "text": [
            "Epoch [41/3000]: Train loss: 14.2973, Valid loss: 14.0379\n",
            "Saving model with loss 14.038...\n"
          ]
        },
        {
          "name": "stderr",
          "output_type": "stream",
          "text": [
            "Epoch [42/3000]: 100%|██████████| 9/9 [00:00<00:00, 127.86it/s, loss=14.3]\n"
          ]
        },
        {
          "name": "stdout",
          "output_type": "stream",
          "text": [
            "Epoch [42/3000]: Train loss: 13.8557, Valid loss: 15.3130\n"
          ]
        },
        {
          "name": "stderr",
          "output_type": "stream",
          "text": [
            "Epoch [43/3000]: 100%|██████████| 9/9 [00:00<00:00, 118.22it/s, loss=15.2]\n"
          ]
        },
        {
          "name": "stdout",
          "output_type": "stream",
          "text": [
            "Epoch [43/3000]: Train loss: 13.5007, Valid loss: 12.6351\n",
            "Saving model with loss 12.635...\n"
          ]
        },
        {
          "name": "stderr",
          "output_type": "stream",
          "text": [
            "Epoch [44/3000]: 100%|██████████| 9/9 [00:00<00:00, 129.22it/s, loss=12.7]\n"
          ]
        },
        {
          "name": "stdout",
          "output_type": "stream",
          "text": [
            "Epoch [44/3000]: Train loss: 12.9432, Valid loss: 13.4797\n"
          ]
        },
        {
          "name": "stderr",
          "output_type": "stream",
          "text": [
            "Epoch [45/3000]: 100%|██████████| 9/9 [00:00<00:00, 133.96it/s, loss=12]\n"
          ]
        },
        {
          "name": "stdout",
          "output_type": "stream",
          "text": [
            "Epoch [45/3000]: Train loss: 12.5264, Valid loss: 14.0351\n"
          ]
        },
        {
          "name": "stderr",
          "output_type": "stream",
          "text": [
            "Epoch [46/3000]: 100%|██████████| 9/9 [00:00<00:00, 125.54it/s, loss=13.3]\n"
          ]
        },
        {
          "name": "stdout",
          "output_type": "stream",
          "text": [
            "Epoch [46/3000]: Train loss: 12.2598, Valid loss: 12.4840\n",
            "Saving model with loss 12.484...\n"
          ]
        },
        {
          "name": "stderr",
          "output_type": "stream",
          "text": [
            "Epoch [47/3000]: 100%|██████████| 9/9 [00:00<00:00, 127.13it/s, loss=13.6]\n"
          ]
        },
        {
          "name": "stdout",
          "output_type": "stream",
          "text": [
            "Epoch [47/3000]: Train loss: 11.9166, Valid loss: 14.0360\n"
          ]
        },
        {
          "name": "stderr",
          "output_type": "stream",
          "text": [
            "Epoch [48/3000]: 100%|██████████| 9/9 [00:00<00:00, 124.61it/s, loss=11.2]\n"
          ]
        },
        {
          "name": "stdout",
          "output_type": "stream",
          "text": [
            "Epoch [48/3000]: Train loss: 11.4301, Valid loss: 12.2349\n",
            "Saving model with loss 12.235...\n"
          ]
        },
        {
          "name": "stderr",
          "output_type": "stream",
          "text": [
            "Epoch [49/3000]: 100%|██████████| 9/9 [00:00<00:00, 113.48it/s, loss=11.3]\n"
          ]
        },
        {
          "name": "stdout",
          "output_type": "stream",
          "text": [
            "Epoch [49/3000]: Train loss: 11.1227, Valid loss: 12.2509\n"
          ]
        },
        {
          "name": "stderr",
          "output_type": "stream",
          "text": [
            "Epoch [50/3000]: 100%|██████████| 9/9 [00:00<00:00, 123.01it/s, loss=10]\n"
          ]
        },
        {
          "name": "stdout",
          "output_type": "stream",
          "text": [
            "Epoch [50/3000]: Train loss: 10.7504, Valid loss: 11.0812\n",
            "Saving model with loss 11.081...\n"
          ]
        },
        {
          "name": "stderr",
          "output_type": "stream",
          "text": [
            "Epoch [51/3000]: 100%|██████████| 9/9 [00:00<00:00, 124.96it/s, loss=9.98]\n"
          ]
        },
        {
          "name": "stdout",
          "output_type": "stream",
          "text": [
            "Epoch [51/3000]: Train loss: 10.4652, Valid loss: 11.9827\n"
          ]
        },
        {
          "name": "stderr",
          "output_type": "stream",
          "text": [
            "Epoch [52/3000]: 100%|██████████| 9/9 [00:00<00:00, 125.14it/s, loss=7.23]"
          ]
        },
        {
          "name": "stdout",
          "output_type": "stream",
          "text": [
            "Epoch [52/3000]: Train loss: 10.0211, Valid loss: 11.6600"
          ]
        },
        {
          "name": "stderr",
          "output_type": "stream",
          "text": [
            "\n"
          ]
        },
        {
          "name": "stdout",
          "output_type": "stream",
          "text": [
            "\n"
          ]
        },
        {
          "name": "stderr",
          "output_type": "stream",
          "text": [
            "Epoch [53/3000]: 100%|██████████| 9/9 [00:00<00:00, 116.00it/s, loss=9.85]\n"
          ]
        },
        {
          "name": "stdout",
          "output_type": "stream",
          "text": [
            "Epoch [53/3000]: Train loss: 9.9297, Valid loss: 10.3529\n",
            "Saving model with loss 10.353...\n"
          ]
        },
        {
          "name": "stderr",
          "output_type": "stream",
          "text": [
            "Epoch [54/3000]: 100%|██████████| 9/9 [00:00<00:00, 119.20it/s, loss=7.35]\n"
          ]
        },
        {
          "name": "stdout",
          "output_type": "stream",
          "text": [
            "Epoch [54/3000]: Train loss: 9.5346, Valid loss: 9.8321\n",
            "Saving model with loss 9.832...\n"
          ]
        },
        {
          "name": "stderr",
          "output_type": "stream",
          "text": [
            "Epoch [55/3000]: 100%|██████████| 9/9 [00:00<00:00, 118.11it/s, loss=11.2]\n"
          ]
        },
        {
          "name": "stdout",
          "output_type": "stream",
          "text": [
            "Epoch [55/3000]: Train loss: 9.5445, Valid loss: 10.8766\n"
          ]
        },
        {
          "name": "stderr",
          "output_type": "stream",
          "text": [
            "Epoch [56/3000]: 100%|██████████| 9/9 [00:00<00:00, 63.71it/s, loss=8.7] \n"
          ]
        },
        {
          "name": "stdout",
          "output_type": "stream",
          "text": [
            "Epoch [56/3000]: Train loss: 9.1727, Valid loss: 10.4709\n"
          ]
        },
        {
          "name": "stderr",
          "output_type": "stream",
          "text": [
            "Epoch [57/3000]: 100%|██████████| 9/9 [00:00<00:00, 123.30it/s, loss=9.16]\n"
          ]
        },
        {
          "name": "stdout",
          "output_type": "stream",
          "text": [
            "Epoch [57/3000]: Train loss: 8.9938, Valid loss: 8.2438\n",
            "Saving model with loss 8.244...\n"
          ]
        },
        {
          "name": "stderr",
          "output_type": "stream",
          "text": [
            "Epoch [58/3000]: 100%|██████████| 9/9 [00:00<00:00, 121.74it/s, loss=9.16]\n"
          ]
        },
        {
          "name": "stdout",
          "output_type": "stream",
          "text": [
            "Epoch [58/3000]: Train loss: 8.8032, Valid loss: 9.2473\n"
          ]
        },
        {
          "name": "stderr",
          "output_type": "stream",
          "text": [
            "Epoch [59/3000]: 100%|██████████| 9/9 [00:00<00:00, 126.80it/s, loss=7.68]"
          ]
        },
        {
          "name": "stdout",
          "output_type": "stream",
          "text": [
            "Epoch [59/3000]: Train loss: 8.5310, Valid loss: 7.9419"
          ]
        },
        {
          "name": "stderr",
          "output_type": "stream",
          "text": [
            "\n"
          ]
        },
        {
          "name": "stdout",
          "output_type": "stream",
          "text": [
            "\n",
            "Saving model with loss 7.942...\n"
          ]
        },
        {
          "name": "stderr",
          "output_type": "stream",
          "text": [
            "Epoch [60/3000]: 100%|██████████| 9/9 [00:00<00:00, 82.94it/s, loss=6.62]\n"
          ]
        },
        {
          "name": "stdout",
          "output_type": "stream",
          "text": [
            "Epoch [60/3000]: Train loss: 8.2979, Valid loss: 8.5981\n"
          ]
        },
        {
          "name": "stderr",
          "output_type": "stream",
          "text": [
            "Epoch [61/3000]: 100%|██████████| 9/9 [00:00<00:00, 38.37it/s, loss=7.93]\n"
          ]
        },
        {
          "name": "stdout",
          "output_type": "stream",
          "text": [
            "Epoch [61/3000]: Train loss: 8.2233, Valid loss: 8.5006\n"
          ]
        },
        {
          "name": "stderr",
          "output_type": "stream",
          "text": [
            "Epoch [62/3000]: 100%|██████████| 9/9 [00:00<00:00, 119.54it/s, loss=6.62]\n"
          ]
        },
        {
          "name": "stdout",
          "output_type": "stream",
          "text": [
            "Epoch [62/3000]: Train loss: 7.9964, Valid loss: 8.3122\n"
          ]
        },
        {
          "name": "stderr",
          "output_type": "stream",
          "text": [
            "Epoch [63/3000]: 100%|██████████| 9/9 [00:00<00:00, 123.44it/s, loss=6.99]\n"
          ]
        },
        {
          "name": "stdout",
          "output_type": "stream",
          "text": [
            "Epoch [63/3000]: Train loss: 7.8774, Valid loss: 8.2188\n"
          ]
        },
        {
          "name": "stderr",
          "output_type": "stream",
          "text": [
            "Epoch [64/3000]: 100%|██████████| 9/9 [00:00<00:00, 115.25it/s, loss=8.12]\n"
          ]
        },
        {
          "name": "stdout",
          "output_type": "stream",
          "text": [
            "Epoch [64/3000]: Train loss: 7.8174, Valid loss: 7.3399\n",
            "Saving model with loss 7.340...\n"
          ]
        },
        {
          "name": "stderr",
          "output_type": "stream",
          "text": [
            "Epoch [65/3000]: 100%|██████████| 9/9 [00:00<00:00, 119.82it/s, loss=5.84]\n"
          ]
        },
        {
          "name": "stdout",
          "output_type": "stream",
          "text": [
            "Epoch [65/3000]: Train loss: 7.5590, Valid loss: 7.4105\n"
          ]
        },
        {
          "name": "stderr",
          "output_type": "stream",
          "text": [
            "Epoch [66/3000]: 100%|██████████| 9/9 [00:00<00:00, 129.19it/s, loss=6.4]\n"
          ]
        },
        {
          "name": "stdout",
          "output_type": "stream",
          "text": [
            "Epoch [66/3000]: Train loss: 7.4760, Valid loss: 8.5524\n"
          ]
        },
        {
          "name": "stderr",
          "output_type": "stream",
          "text": [
            "Epoch [67/3000]: 100%|██████████| 9/9 [00:00<00:00, 133.91it/s, loss=6.51]\n"
          ]
        },
        {
          "name": "stdout",
          "output_type": "stream",
          "text": [
            "Epoch [67/3000]: Train loss: 7.3745, Valid loss: 9.3352\n"
          ]
        },
        {
          "name": "stderr",
          "output_type": "stream",
          "text": [
            "Epoch [68/3000]: 100%|██████████| 9/9 [00:00<00:00, 125.23it/s, loss=7.44]\n"
          ]
        },
        {
          "name": "stdout",
          "output_type": "stream",
          "text": [
            "Epoch [68/3000]: Train loss: 7.3349, Valid loss: 6.5921\n",
            "Saving model with loss 6.592...\n"
          ]
        },
        {
          "name": "stderr",
          "output_type": "stream",
          "text": [
            "Epoch [69/3000]: 100%|██████████| 9/9 [00:00<00:00, 129.24it/s, loss=8.82]\n"
          ]
        },
        {
          "name": "stdout",
          "output_type": "stream",
          "text": [
            "Epoch [69/3000]: Train loss: 7.3243, Valid loss: 8.1679\n"
          ]
        },
        {
          "name": "stderr",
          "output_type": "stream",
          "text": [
            "Epoch [70/3000]: 100%|██████████| 9/9 [00:00<00:00, 123.32it/s, loss=5.26]\n"
          ]
        },
        {
          "name": "stdout",
          "output_type": "stream",
          "text": [
            "Epoch [70/3000]: Train loss: 7.0073, Valid loss: 7.5952\n"
          ]
        },
        {
          "name": "stderr",
          "output_type": "stream",
          "text": [
            "Epoch [71/3000]: 100%|██████████| 9/9 [00:00<00:00, 120.36it/s, loss=7.72]\n"
          ]
        },
        {
          "name": "stdout",
          "output_type": "stream",
          "text": [
            "Epoch [71/3000]: Train loss: 7.0809, Valid loss: 7.4080\n"
          ]
        },
        {
          "name": "stderr",
          "output_type": "stream",
          "text": [
            "Epoch [72/3000]: 100%|██████████| 9/9 [00:00<00:00, 126.10it/s, loss=8.68]\n"
          ]
        },
        {
          "name": "stdout",
          "output_type": "stream",
          "text": [
            "Epoch [72/3000]: Train loss: 7.0584, Valid loss: 8.1509\n"
          ]
        },
        {
          "name": "stderr",
          "output_type": "stream",
          "text": [
            "Epoch [73/3000]: 100%|██████████| 9/9 [00:00<00:00, 134.34it/s, loss=5.52]\n"
          ]
        },
        {
          "name": "stdout",
          "output_type": "stream",
          "text": [
            "Epoch [73/3000]: Train loss: 6.7849, Valid loss: 6.3190\n",
            "Saving model with loss 6.319...\n"
          ]
        },
        {
          "name": "stderr",
          "output_type": "stream",
          "text": [
            "Epoch [74/3000]: 100%|██████████| 9/9 [00:00<00:00, 129.21it/s, loss=5.54]\n"
          ]
        },
        {
          "name": "stdout",
          "output_type": "stream",
          "text": [
            "Epoch [74/3000]: Train loss: 6.7218, Valid loss: 6.7915\n"
          ]
        },
        {
          "name": "stderr",
          "output_type": "stream",
          "text": [
            "Epoch [75/3000]: 100%|██████████| 9/9 [00:00<00:00, 120.69it/s, loss=5.92]\n"
          ]
        },
        {
          "name": "stdout",
          "output_type": "stream",
          "text": [
            "Epoch [75/3000]: Train loss: 6.6750, Valid loss: 7.6722\n"
          ]
        },
        {
          "name": "stderr",
          "output_type": "stream",
          "text": [
            "Epoch [76/3000]: 100%|██████████| 9/9 [00:00<00:00, 74.95it/s, loss=7.2] \n"
          ]
        },
        {
          "name": "stdout",
          "output_type": "stream",
          "text": [
            "Epoch [76/3000]: Train loss: 6.6947, Valid loss: 6.9006\n"
          ]
        },
        {
          "name": "stderr",
          "output_type": "stream",
          "text": [
            "Epoch [77/3000]: 100%|██████████| 9/9 [00:00<00:00, 113.57it/s, loss=5.64]\n"
          ]
        },
        {
          "name": "stdout",
          "output_type": "stream",
          "text": [
            "Epoch [77/3000]: Train loss: 6.5362, Valid loss: 6.5388\n"
          ]
        },
        {
          "name": "stderr",
          "output_type": "stream",
          "text": [
            "Epoch [78/3000]: 100%|██████████| 9/9 [00:00<00:00, 120.57it/s, loss=5.08]\n"
          ]
        },
        {
          "name": "stdout",
          "output_type": "stream",
          "text": [
            "Epoch [78/3000]: Train loss: 6.4476, Valid loss: 6.6144\n"
          ]
        },
        {
          "name": "stderr",
          "output_type": "stream",
          "text": [
            "Epoch [79/3000]: 100%|██████████| 9/9 [00:00<00:00, 122.64it/s, loss=5.08]\n"
          ]
        },
        {
          "name": "stdout",
          "output_type": "stream",
          "text": [
            "Epoch [79/3000]: Train loss: 6.3999, Valid loss: 6.8856\n"
          ]
        },
        {
          "name": "stderr",
          "output_type": "stream",
          "text": [
            "Epoch [80/3000]: 100%|██████████| 9/9 [00:00<00:00, 121.68it/s, loss=6.89]\n"
          ]
        },
        {
          "name": "stdout",
          "output_type": "stream",
          "text": [
            "Epoch [80/3000]: Train loss: 6.4633, Valid loss: 6.0752\n",
            "Saving model with loss 6.075...\n"
          ]
        },
        {
          "name": "stderr",
          "output_type": "stream",
          "text": [
            "Epoch [81/3000]: 100%|██████████| 9/9 [00:00<00:00, 120.37it/s, loss=7.11]\n"
          ]
        },
        {
          "name": "stdout",
          "output_type": "stream",
          "text": [
            "Epoch [81/3000]: Train loss: 6.4263, Valid loss: 6.5771\n"
          ]
        },
        {
          "name": "stderr",
          "output_type": "stream",
          "text": [
            "Epoch [82/3000]: 100%|██████████| 9/9 [00:00<00:00, 130.11it/s, loss=7.28]\n"
          ]
        },
        {
          "name": "stdout",
          "output_type": "stream",
          "text": [
            "Epoch [82/3000]: Train loss: 6.3986, Valid loss: 5.9485\n",
            "Saving model with loss 5.949...\n"
          ]
        },
        {
          "name": "stderr",
          "output_type": "stream",
          "text": [
            "Epoch [83/3000]: 100%|██████████| 9/9 [00:00<00:00, 127.96it/s, loss=6.54]\n"
          ]
        },
        {
          "name": "stdout",
          "output_type": "stream",
          "text": [
            "Epoch [83/3000]: Train loss: 6.3080, Valid loss: 6.5912\n"
          ]
        },
        {
          "name": "stderr",
          "output_type": "stream",
          "text": [
            "Epoch [84/3000]: 100%|██████████| 9/9 [00:00<00:00, 136.60it/s, loss=6.06]\n"
          ]
        },
        {
          "name": "stdout",
          "output_type": "stream",
          "text": [
            "Epoch [84/3000]: Train loss: 6.2400, Valid loss: 5.7332\n",
            "Saving model with loss 5.733...\n"
          ]
        },
        {
          "name": "stderr",
          "output_type": "stream",
          "text": [
            "Epoch [85/3000]: 100%|██████████| 9/9 [00:00<00:00, 116.89it/s, loss=5.72]\n"
          ]
        },
        {
          "name": "stdout",
          "output_type": "stream",
          "text": [
            "Epoch [85/3000]: Train loss: 6.1844, Valid loss: 6.3844\n"
          ]
        },
        {
          "name": "stderr",
          "output_type": "stream",
          "text": [
            "Epoch [86/3000]: 100%|██████████| 9/9 [00:00<00:00, 127.01it/s, loss=5.74]\n"
          ]
        },
        {
          "name": "stdout",
          "output_type": "stream",
          "text": [
            "Epoch [86/3000]: Train loss: 6.1503, Valid loss: 6.7070\n"
          ]
        },
        {
          "name": "stderr",
          "output_type": "stream",
          "text": [
            "Epoch [87/3000]: 100%|██████████| 9/9 [00:00<00:00, 132.01it/s, loss=5.1]\n"
          ]
        },
        {
          "name": "stdout",
          "output_type": "stream",
          "text": [
            "Epoch [87/3000]: Train loss: 6.0812, Valid loss: 5.8663\n"
          ]
        },
        {
          "name": "stderr",
          "output_type": "stream",
          "text": [
            "Epoch [88/3000]: 100%|██████████| 9/9 [00:00<00:00, 126.03it/s, loss=5.99]\n"
          ]
        },
        {
          "name": "stdout",
          "output_type": "stream",
          "text": [
            "Epoch [88/3000]: Train loss: 6.1055, Valid loss: 6.5688\n"
          ]
        },
        {
          "name": "stderr",
          "output_type": "stream",
          "text": [
            "Epoch [89/3000]: 100%|██████████| 9/9 [00:00<00:00, 130.76it/s, loss=5.38]\n"
          ]
        },
        {
          "name": "stdout",
          "output_type": "stream",
          "text": [
            "Epoch [89/3000]: Train loss: 6.0357, Valid loss: 5.5468\n",
            "Saving model with loss 5.547...\n"
          ]
        },
        {
          "name": "stderr",
          "output_type": "stream",
          "text": [
            "Epoch [90/3000]: 100%|██████████| 9/9 [00:00<00:00, 119.57it/s, loss=5.83]\n"
          ]
        },
        {
          "name": "stdout",
          "output_type": "stream",
          "text": [
            "Epoch [90/3000]: Train loss: 6.0392, Valid loss: 7.5647\n"
          ]
        },
        {
          "name": "stderr",
          "output_type": "stream",
          "text": [
            "Epoch [91/3000]: 100%|██████████| 9/9 [00:00<00:00, 122.00it/s, loss=7.13]"
          ]
        },
        {
          "name": "stdout",
          "output_type": "stream",
          "text": [
            "Epoch [91/3000]: Train loss: 6.0967, Valid loss: 5.5358"
          ]
        },
        {
          "name": "stderr",
          "output_type": "stream",
          "text": [
            "\n"
          ]
        },
        {
          "name": "stdout",
          "output_type": "stream",
          "text": [
            "\n",
            "Saving model with loss 5.536...\n"
          ]
        },
        {
          "name": "stderr",
          "output_type": "stream",
          "text": [
            "Epoch [92/3000]: 100%|██████████| 9/9 [00:00<00:00, 126.66it/s, loss=5.22]\n"
          ]
        },
        {
          "name": "stdout",
          "output_type": "stream",
          "text": [
            "Epoch [92/3000]: Train loss: 5.9517, Valid loss: 7.0942\n"
          ]
        },
        {
          "name": "stderr",
          "output_type": "stream",
          "text": [
            "Epoch [93/3000]: 100%|██████████| 9/9 [00:00<00:00, 139.24it/s, loss=5.69]\n"
          ]
        },
        {
          "name": "stdout",
          "output_type": "stream",
          "text": [
            "Epoch [93/3000]: Train loss: 5.9576, Valid loss: 6.2928\n"
          ]
        },
        {
          "name": "stderr",
          "output_type": "stream",
          "text": [
            "Epoch [94/3000]: 100%|██████████| 9/9 [00:00<00:00, 122.27it/s, loss=5.88]\n"
          ]
        },
        {
          "name": "stdout",
          "output_type": "stream",
          "text": [
            "Epoch [94/3000]: Train loss: 5.9461, Valid loss: 5.8583\n"
          ]
        },
        {
          "name": "stderr",
          "output_type": "stream",
          "text": [
            "Epoch [95/3000]: 100%|██████████| 9/9 [00:00<00:00, 105.77it/s, loss=5.49]\n"
          ]
        },
        {
          "name": "stdout",
          "output_type": "stream",
          "text": [
            "Epoch [95/3000]: Train loss: 5.9048, Valid loss: 6.5267\n"
          ]
        },
        {
          "name": "stderr",
          "output_type": "stream",
          "text": [
            "Epoch [96/3000]: 100%|██████████| 9/9 [00:00<00:00, 121.16it/s, loss=6.41]\n"
          ]
        },
        {
          "name": "stdout",
          "output_type": "stream",
          "text": [
            "Epoch [96/3000]: Train loss: 5.9429, Valid loss: 6.6865\n"
          ]
        },
        {
          "name": "stderr",
          "output_type": "stream",
          "text": [
            "Epoch [97/3000]: 100%|██████████| 9/9 [00:00<00:00, 132.03it/s, loss=7.04]\n"
          ]
        },
        {
          "name": "stdout",
          "output_type": "stream",
          "text": [
            "Epoch [97/3000]: Train loss: 5.9553, Valid loss: 5.6935\n"
          ]
        },
        {
          "name": "stderr",
          "output_type": "stream",
          "text": [
            "Epoch [98/3000]: 100%|██████████| 9/9 [00:00<00:00, 72.79it/s, loss=4.17]\n"
          ]
        },
        {
          "name": "stdout",
          "output_type": "stream",
          "text": [
            "Epoch [98/3000]: Train loss: 5.7562, Valid loss: 5.3510\n",
            "Saving model with loss 5.351...\n"
          ]
        },
        {
          "name": "stderr",
          "output_type": "stream",
          "text": [
            "Epoch [99/3000]: 100%|██████████| 9/9 [00:00<00:00, 120.87it/s, loss=5.37]\n"
          ]
        },
        {
          "name": "stdout",
          "output_type": "stream",
          "text": [
            "Epoch [99/3000]: Train loss: 5.8070, Valid loss: 5.9473\n"
          ]
        },
        {
          "name": "stderr",
          "output_type": "stream",
          "text": [
            "Epoch [100/3000]: 100%|██████████| 9/9 [00:00<00:00, 120.13it/s, loss=5.73]\n"
          ]
        },
        {
          "name": "stdout",
          "output_type": "stream",
          "text": [
            "Epoch [100/3000]: Train loss: 5.8136, Valid loss: 5.2903\n",
            "Saving model with loss 5.290...\n"
          ]
        },
        {
          "name": "stderr",
          "output_type": "stream",
          "text": [
            "Epoch [101/3000]: 100%|██████████| 9/9 [00:00<00:00, 119.97it/s, loss=6.16]\n"
          ]
        },
        {
          "name": "stdout",
          "output_type": "stream",
          "text": [
            "Epoch [101/3000]: Train loss: 5.8180, Valid loss: 6.6471\n"
          ]
        },
        {
          "name": "stderr",
          "output_type": "stream",
          "text": [
            "Epoch [102/3000]: 100%|██████████| 9/9 [00:00<00:00, 127.11it/s, loss=6.79]\n"
          ]
        },
        {
          "name": "stdout",
          "output_type": "stream",
          "text": [
            "Epoch [102/3000]: Train loss: 5.8410, Valid loss: 6.3629\n"
          ]
        },
        {
          "name": "stderr",
          "output_type": "stream",
          "text": [
            "Epoch [103/3000]: 100%|██████████| 9/9 [00:00<00:00, 122.44it/s, loss=5.48]\n"
          ]
        },
        {
          "name": "stdout",
          "output_type": "stream",
          "text": [
            "Epoch [103/3000]: Train loss: 5.7483, Valid loss: 5.2674\n",
            "Saving model with loss 5.267...\n"
          ]
        },
        {
          "name": "stderr",
          "output_type": "stream",
          "text": [
            "Epoch [104/3000]: 100%|██████████| 9/9 [00:00<00:00, 84.69it/s, loss=6.28]\n"
          ]
        },
        {
          "name": "stdout",
          "output_type": "stream",
          "text": [
            "Epoch [104/3000]: Train loss: 5.7726, Valid loss: 5.7404\n"
          ]
        },
        {
          "name": "stderr",
          "output_type": "stream",
          "text": [
            "Epoch [105/3000]: 100%|██████████| 9/9 [00:00<00:00, 116.36it/s, loss=6.49]\n"
          ]
        },
        {
          "name": "stdout",
          "output_type": "stream",
          "text": [
            "Epoch [105/3000]: Train loss: 5.7672, Valid loss: 6.5312\n"
          ]
        },
        {
          "name": "stderr",
          "output_type": "stream",
          "text": [
            "Epoch [106/3000]: 100%|██████████| 9/9 [00:00<00:00, 133.03it/s, loss=5.21]\n"
          ]
        },
        {
          "name": "stdout",
          "output_type": "stream",
          "text": [
            "Epoch [106/3000]: Train loss: 5.6767, Valid loss: 6.0806\n"
          ]
        },
        {
          "name": "stderr",
          "output_type": "stream",
          "text": [
            "Epoch [107/3000]: 100%|██████████| 9/9 [00:00<00:00, 99.65it/s, loss=5.42]\n"
          ]
        },
        {
          "name": "stdout",
          "output_type": "stream",
          "text": [
            "Epoch [107/3000]: Train loss: 5.6669, Valid loss: 5.1954\n",
            "Saving model with loss 5.195...\n"
          ]
        },
        {
          "name": "stderr",
          "output_type": "stream",
          "text": [
            "Epoch [108/3000]: 100%|██████████| 9/9 [00:00<00:00, 131.15it/s, loss=5.49]"
          ]
        },
        {
          "name": "stdout",
          "output_type": "stream",
          "text": [
            "Epoch [108/3000]: Train loss: 5.6575, Valid loss: 5.5966"
          ]
        },
        {
          "name": "stderr",
          "output_type": "stream",
          "text": [
            "\n"
          ]
        },
        {
          "name": "stdout",
          "output_type": "stream",
          "text": [
            "\n"
          ]
        },
        {
          "name": "stderr",
          "output_type": "stream",
          "text": [
            "Epoch [109/3000]: 100%|██████████| 9/9 [00:00<00:00, 128.73it/s, loss=5.15]\n"
          ]
        },
        {
          "name": "stdout",
          "output_type": "stream",
          "text": [
            "Epoch [109/3000]: Train loss: 5.6218, Valid loss: 5.5899\n"
          ]
        },
        {
          "name": "stderr",
          "output_type": "stream",
          "text": [
            "Epoch [110/3000]: 100%|██████████| 9/9 [00:00<00:00, 129.61it/s, loss=5.68]\n"
          ]
        },
        {
          "name": "stdout",
          "output_type": "stream",
          "text": [
            "Epoch [110/3000]: Train loss: 5.6393, Valid loss: 5.9358\n"
          ]
        },
        {
          "name": "stderr",
          "output_type": "stream",
          "text": [
            "Epoch [111/3000]: 100%|██████████| 9/9 [00:00<00:00, 132.35it/s, loss=8.17]\n"
          ]
        },
        {
          "name": "stdout",
          "output_type": "stream",
          "text": [
            "Epoch [111/3000]: Train loss: 5.7749, Valid loss: 5.1374\n",
            "Saving model with loss 5.137...\n"
          ]
        },
        {
          "name": "stderr",
          "output_type": "stream",
          "text": [
            "Epoch [112/3000]: 100%|██████████| 9/9 [00:00<00:00, 126.18it/s, loss=6.99]\n"
          ]
        },
        {
          "name": "stdout",
          "output_type": "stream",
          "text": [
            "Epoch [112/3000]: Train loss: 5.6899, Valid loss: 5.1524\n"
          ]
        },
        {
          "name": "stderr",
          "output_type": "stream",
          "text": [
            "Epoch [113/3000]: 100%|██████████| 9/9 [00:00<00:00, 125.57it/s, loss=6.58]\n"
          ]
        },
        {
          "name": "stdout",
          "output_type": "stream",
          "text": [
            "Epoch [113/3000]: Train loss: 5.6475, Valid loss: 5.3384\n"
          ]
        },
        {
          "name": "stderr",
          "output_type": "stream",
          "text": [
            "Epoch [114/3000]: 100%|██████████| 9/9 [00:00<00:00, 128.26it/s, loss=5.12]\n"
          ]
        },
        {
          "name": "stdout",
          "output_type": "stream",
          "text": [
            "Epoch [114/3000]: Train loss: 5.5444, Valid loss: 5.7732\n"
          ]
        },
        {
          "name": "stderr",
          "output_type": "stream",
          "text": [
            "Epoch [115/3000]: 100%|██████████| 9/9 [00:00<00:00, 123.99it/s, loss=5.48]\n"
          ]
        },
        {
          "name": "stdout",
          "output_type": "stream",
          "text": [
            "Epoch [115/3000]: Train loss: 5.5539, Valid loss: 5.2693\n"
          ]
        },
        {
          "name": "stderr",
          "output_type": "stream",
          "text": [
            "Epoch [116/3000]: 100%|██████████| 9/9 [00:00<00:00, 132.75it/s, loss=7.39]\n"
          ]
        },
        {
          "name": "stdout",
          "output_type": "stream",
          "text": [
            "Epoch [116/3000]: Train loss: 5.6578, Valid loss: 6.2725\n"
          ]
        },
        {
          "name": "stderr",
          "output_type": "stream",
          "text": [
            "Epoch [117/3000]: 100%|██████████| 9/9 [00:00<00:00, 93.82it/s, loss=5.2]\n"
          ]
        },
        {
          "name": "stdout",
          "output_type": "stream",
          "text": [
            "Epoch [117/3000]: Train loss: 5.5092, Valid loss: 5.5561\n"
          ]
        },
        {
          "name": "stderr",
          "output_type": "stream",
          "text": [
            "Epoch [118/3000]: 100%|██████████| 9/9 [00:00<00:00, 110.65it/s, loss=5.38]\n"
          ]
        },
        {
          "name": "stdout",
          "output_type": "stream",
          "text": [
            "Epoch [118/3000]: Train loss: 5.5077, Valid loss: 5.9665\n"
          ]
        },
        {
          "name": "stderr",
          "output_type": "stream",
          "text": [
            "Epoch [119/3000]: 100%|██████████| 9/9 [00:00<00:00, 118.60it/s, loss=5.95]"
          ]
        },
        {
          "name": "stdout",
          "output_type": "stream",
          "text": [
            "Epoch [119/3000]: Train loss: 5.5363, Valid loss: 6.4721"
          ]
        },
        {
          "name": "stderr",
          "output_type": "stream",
          "text": [
            "\n"
          ]
        },
        {
          "name": "stdout",
          "output_type": "stream",
          "text": [
            "\n"
          ]
        },
        {
          "name": "stderr",
          "output_type": "stream",
          "text": [
            "Epoch [120/3000]: 100%|██████████| 9/9 [00:00<00:00, 113.34it/s, loss=4.96]\n"
          ]
        },
        {
          "name": "stdout",
          "output_type": "stream",
          "text": [
            "Epoch [120/3000]: Train loss: 5.4563, Valid loss: 6.0221\n"
          ]
        },
        {
          "name": "stderr",
          "output_type": "stream",
          "text": [
            "Epoch [121/3000]: 100%|██████████| 9/9 [00:00<00:00, 94.96it/s, loss=4.3]\n"
          ]
        },
        {
          "name": "stdout",
          "output_type": "stream",
          "text": [
            "Epoch [121/3000]: Train loss: 5.4056, Valid loss: 6.4981\n"
          ]
        },
        {
          "name": "stderr",
          "output_type": "stream",
          "text": [
            "Epoch [122/3000]: 100%|██████████| 9/9 [00:00<00:00, 113.15it/s, loss=5.29]\n"
          ]
        },
        {
          "name": "stdout",
          "output_type": "stream",
          "text": [
            "Epoch [122/3000]: Train loss: 5.4550, Valid loss: 5.3838\n"
          ]
        },
        {
          "name": "stderr",
          "output_type": "stream",
          "text": [
            "Epoch [123/3000]: 100%|██████████| 9/9 [00:00<00:00, 103.26it/s, loss=6.06]\n"
          ]
        },
        {
          "name": "stdout",
          "output_type": "stream",
          "text": [
            "Epoch [123/3000]: Train loss: 5.4923, Valid loss: 5.3866\n"
          ]
        },
        {
          "name": "stderr",
          "output_type": "stream",
          "text": [
            "Epoch [124/3000]: 100%|██████████| 9/9 [00:00<00:00, 108.94it/s, loss=5.34]\n"
          ]
        },
        {
          "name": "stdout",
          "output_type": "stream",
          "text": [
            "Epoch [124/3000]: Train loss: 5.4343, Valid loss: 4.8108\n",
            "Saving model with loss 4.811...\n"
          ]
        },
        {
          "name": "stderr",
          "output_type": "stream",
          "text": [
            "Epoch [125/3000]: 100%|██████████| 9/9 [00:00<00:00, 111.18it/s, loss=5.79]\n"
          ]
        },
        {
          "name": "stdout",
          "output_type": "stream",
          "text": [
            "Epoch [125/3000]: Train loss: 5.4528, Valid loss: 4.4844\n",
            "Saving model with loss 4.484...\n"
          ]
        },
        {
          "name": "stderr",
          "output_type": "stream",
          "text": [
            "Epoch [126/3000]: 100%|██████████| 9/9 [00:00<00:00, 126.57it/s, loss=6.09]\n"
          ]
        },
        {
          "name": "stdout",
          "output_type": "stream",
          "text": [
            "Epoch [126/3000]: Train loss: 5.4633, Valid loss: 4.8028\n"
          ]
        },
        {
          "name": "stderr",
          "output_type": "stream",
          "text": [
            "Epoch [127/3000]: 100%|██████████| 9/9 [00:00<00:00, 122.59it/s, loss=5.19]\n"
          ]
        },
        {
          "name": "stdout",
          "output_type": "stream",
          "text": [
            "Epoch [127/3000]: Train loss: 5.3934, Valid loss: 5.3419\n"
          ]
        },
        {
          "name": "stderr",
          "output_type": "stream",
          "text": [
            "Epoch [128/3000]: 100%|██████████| 9/9 [00:00<00:00, 114.75it/s, loss=6.36]\n"
          ]
        },
        {
          "name": "stdout",
          "output_type": "stream",
          "text": [
            "Epoch [128/3000]: Train loss: 5.4512, Valid loss: 5.6865\n"
          ]
        },
        {
          "name": "stderr",
          "output_type": "stream",
          "text": [
            "Epoch [129/3000]: 100%|██████████| 9/9 [00:00<00:00, 119.17it/s, loss=5.64]\n"
          ]
        },
        {
          "name": "stdout",
          "output_type": "stream",
          "text": [
            "Epoch [129/3000]: Train loss: 5.3957, Valid loss: 5.6702\n"
          ]
        },
        {
          "name": "stderr",
          "output_type": "stream",
          "text": [
            "Epoch [130/3000]: 100%|██████████| 9/9 [00:00<00:00, 125.15it/s, loss=6.61]\n"
          ]
        },
        {
          "name": "stdout",
          "output_type": "stream",
          "text": [
            "Epoch [130/3000]: Train loss: 5.4474, Valid loss: 5.1576\n"
          ]
        },
        {
          "name": "stderr",
          "output_type": "stream",
          "text": [
            "Epoch [131/3000]: 100%|██████████| 9/9 [00:00<00:00, 134.24it/s, loss=7.27]\n"
          ]
        },
        {
          "name": "stdout",
          "output_type": "stream",
          "text": [
            "Epoch [131/3000]: Train loss: 5.4785, Valid loss: 4.9634\n"
          ]
        },
        {
          "name": "stderr",
          "output_type": "stream",
          "text": [
            "Epoch [132/3000]: 100%|██████████| 9/9 [00:00<00:00, 137.58it/s, loss=5.34]\n"
          ]
        },
        {
          "name": "stdout",
          "output_type": "stream",
          "text": [
            "Epoch [132/3000]: Train loss: 5.3472, Valid loss: 5.9058\n"
          ]
        },
        {
          "name": "stderr",
          "output_type": "stream",
          "text": [
            "Epoch [133/3000]: 100%|██████████| 9/9 [00:00<00:00, 129.98it/s, loss=4.91]\n"
          ]
        },
        {
          "name": "stdout",
          "output_type": "stream",
          "text": [
            "Epoch [133/3000]: Train loss: 5.3150, Valid loss: 6.0725\n"
          ]
        },
        {
          "name": "stderr",
          "output_type": "stream",
          "text": [
            "Epoch [134/3000]: 100%|██████████| 9/9 [00:00<00:00, 122.84it/s, loss=3.46]\n"
          ]
        },
        {
          "name": "stdout",
          "output_type": "stream",
          "text": [
            "Epoch [134/3000]: Train loss: 5.2096, Valid loss: 6.3868\n"
          ]
        },
        {
          "name": "stderr",
          "output_type": "stream",
          "text": [
            "Epoch [135/3000]: 100%|██████████| 9/9 [00:00<00:00, 130.34it/s, loss=4.78]\n"
          ]
        },
        {
          "name": "stdout",
          "output_type": "stream",
          "text": [
            "Epoch [135/3000]: Train loss: 5.2781, Valid loss: 5.2763\n"
          ]
        },
        {
          "name": "stderr",
          "output_type": "stream",
          "text": [
            "Epoch [136/3000]: 100%|██████████| 9/9 [00:00<00:00, 77.74it/s, loss=3.58]\n"
          ]
        },
        {
          "name": "stdout",
          "output_type": "stream",
          "text": [
            "Epoch [136/3000]: Train loss: 5.1998, Valid loss: 5.0783\n"
          ]
        },
        {
          "name": "stderr",
          "output_type": "stream",
          "text": [
            "Epoch [137/3000]: 100%|██████████| 9/9 [00:00<00:00, 134.89it/s, loss=4.55]\n"
          ]
        },
        {
          "name": "stdout",
          "output_type": "stream",
          "text": [
            "Epoch [137/3000]: Train loss: 5.2482, Valid loss: 5.9710\n"
          ]
        },
        {
          "name": "stderr",
          "output_type": "stream",
          "text": [
            "Epoch [138/3000]: 100%|██████████| 9/9 [00:00<00:00, 125.79it/s, loss=6.35]\n"
          ]
        },
        {
          "name": "stdout",
          "output_type": "stream",
          "text": [
            "Epoch [138/3000]: Train loss: 5.3505, Valid loss: 4.6015\n"
          ]
        },
        {
          "name": "stderr",
          "output_type": "stream",
          "text": [
            "Epoch [139/3000]: 100%|██████████| 9/9 [00:00<00:00, 131.15it/s, loss=5.36]\n"
          ]
        },
        {
          "name": "stdout",
          "output_type": "stream",
          "text": [
            "Epoch [139/3000]: Train loss: 5.2754, Valid loss: 5.1455\n"
          ]
        },
        {
          "name": "stderr",
          "output_type": "stream",
          "text": [
            "Epoch [140/3000]: 100%|██████████| 9/9 [00:00<00:00, 130.97it/s, loss=4.44]\n"
          ]
        },
        {
          "name": "stdout",
          "output_type": "stream",
          "text": [
            "Epoch [140/3000]: Train loss: 5.2076, Valid loss: 5.0451\n"
          ]
        },
        {
          "name": "stderr",
          "output_type": "stream",
          "text": [
            "Epoch [141/3000]: 100%|██████████| 9/9 [00:00<00:00, 129.28it/s, loss=5.11]\n"
          ]
        },
        {
          "name": "stdout",
          "output_type": "stream",
          "text": [
            "Epoch [141/3000]: Train loss: 5.2417, Valid loss: 5.9954\n"
          ]
        },
        {
          "name": "stderr",
          "output_type": "stream",
          "text": [
            "Epoch [142/3000]: 100%|██████████| 9/9 [00:00<00:00, 134.50it/s, loss=5.6]\n"
          ]
        },
        {
          "name": "stdout",
          "output_type": "stream",
          "text": [
            "Epoch [142/3000]: Train loss: 5.2636, Valid loss: 4.7716\n"
          ]
        },
        {
          "name": "stderr",
          "output_type": "stream",
          "text": [
            "Epoch [143/3000]: 100%|██████████| 9/9 [00:00<00:00, 131.60it/s, loss=5.15]\n"
          ]
        },
        {
          "name": "stdout",
          "output_type": "stream",
          "text": [
            "Epoch [143/3000]: Train loss: 5.2229, Valid loss: 5.3490\n"
          ]
        },
        {
          "name": "stderr",
          "output_type": "stream",
          "text": [
            "Epoch [144/3000]: 100%|██████████| 9/9 [00:00<00:00, 130.35it/s, loss=5.63]\n"
          ]
        },
        {
          "name": "stdout",
          "output_type": "stream",
          "text": [
            "Epoch [144/3000]: Train loss: 5.2476, Valid loss: 4.9811\n"
          ]
        },
        {
          "name": "stderr",
          "output_type": "stream",
          "text": [
            "Epoch [145/3000]: 100%|██████████| 9/9 [00:00<00:00, 130.22it/s, loss=5.27]\n"
          ]
        },
        {
          "name": "stdout",
          "output_type": "stream",
          "text": [
            "Epoch [145/3000]: Train loss: 5.2171, Valid loss: 5.5851\n"
          ]
        },
        {
          "name": "stderr",
          "output_type": "stream",
          "text": [
            "Epoch [146/3000]: 100%|██████████| 9/9 [00:00<00:00, 131.10it/s, loss=5.15]\n"
          ]
        },
        {
          "name": "stdout",
          "output_type": "stream",
          "text": [
            "Epoch [146/3000]: Train loss: 5.1941, Valid loss: 5.5530\n"
          ]
        },
        {
          "name": "stderr",
          "output_type": "stream",
          "text": [
            "Epoch [147/3000]: 100%|██████████| 9/9 [00:00<00:00, 140.68it/s, loss=7.08]\n"
          ]
        },
        {
          "name": "stdout",
          "output_type": "stream",
          "text": [
            "Epoch [147/3000]: Train loss: 5.3087, Valid loss: 4.6356\n"
          ]
        },
        {
          "name": "stderr",
          "output_type": "stream",
          "text": [
            "Epoch [148/3000]: 100%|██████████| 9/9 [00:00<00:00, 135.93it/s, loss=5.52]\n"
          ]
        },
        {
          "name": "stdout",
          "output_type": "stream",
          "text": [
            "Epoch [148/3000]: Train loss: 5.2016, Valid loss: 5.2645\n"
          ]
        },
        {
          "name": "stderr",
          "output_type": "stream",
          "text": [
            "Epoch [149/3000]: 100%|██████████| 9/9 [00:00<00:00, 133.94it/s, loss=4.33]\n"
          ]
        },
        {
          "name": "stdout",
          "output_type": "stream",
          "text": [
            "Epoch [149/3000]: Train loss: 5.1158, Valid loss: 5.3022\n"
          ]
        },
        {
          "name": "stderr",
          "output_type": "stream",
          "text": [
            "Epoch [150/3000]: 100%|██████████| 9/9 [00:00<00:00, 136.07it/s, loss=6.12]\n"
          ]
        },
        {
          "name": "stdout",
          "output_type": "stream",
          "text": [
            "Epoch [150/3000]: Train loss: 5.2198, Valid loss: 4.6607\n"
          ]
        },
        {
          "name": "stderr",
          "output_type": "stream",
          "text": [
            "Epoch [151/3000]: 100%|██████████| 9/9 [00:00<00:00, 134.50it/s, loss=7.5]\n"
          ]
        },
        {
          "name": "stdout",
          "output_type": "stream",
          "text": [
            "Epoch [151/3000]: Train loss: 5.2958, Valid loss: 5.1891\n"
          ]
        },
        {
          "name": "stderr",
          "output_type": "stream",
          "text": [
            "Epoch [152/3000]: 100%|██████████| 9/9 [00:00<00:00, 137.78it/s, loss=6.45]\n"
          ]
        },
        {
          "name": "stdout",
          "output_type": "stream",
          "text": [
            "Epoch [152/3000]: Train loss: 5.2216, Valid loss: 5.1694\n"
          ]
        },
        {
          "name": "stderr",
          "output_type": "stream",
          "text": [
            "Epoch [153/3000]: 100%|██████████| 9/9 [00:00<00:00, 145.37it/s, loss=4.89]\n"
          ]
        },
        {
          "name": "stdout",
          "output_type": "stream",
          "text": [
            "Epoch [153/3000]: Train loss: 5.1121, Valid loss: 4.9294\n"
          ]
        },
        {
          "name": "stderr",
          "output_type": "stream",
          "text": [
            "Epoch [154/3000]: 100%|██████████| 9/9 [00:00<00:00, 66.91it/s, loss=4.89]\n"
          ]
        },
        {
          "name": "stdout",
          "output_type": "stream",
          "text": [
            "Epoch [154/3000]: Train loss: 5.1028, Valid loss: 4.7164\n"
          ]
        },
        {
          "name": "stderr",
          "output_type": "stream",
          "text": [
            "Epoch [155/3000]: 100%|██████████| 9/9 [00:00<00:00, 135.02it/s, loss=6.48]\n"
          ]
        },
        {
          "name": "stdout",
          "output_type": "stream",
          "text": [
            "Epoch [155/3000]: Train loss: 5.1969, Valid loss: 5.3049\n"
          ]
        },
        {
          "name": "stderr",
          "output_type": "stream",
          "text": [
            "Epoch [156/3000]: 100%|██████████| 9/9 [00:00<00:00, 138.03it/s, loss=4.53]\n"
          ]
        },
        {
          "name": "stdout",
          "output_type": "stream",
          "text": [
            "Epoch [156/3000]: Train loss: 5.0698, Valid loss: 5.5364\n"
          ]
        },
        {
          "name": "stderr",
          "output_type": "stream",
          "text": [
            "Epoch [157/3000]: 100%|██████████| 9/9 [00:00<00:00, 136.25it/s, loss=4.93]\n"
          ]
        },
        {
          "name": "stdout",
          "output_type": "stream",
          "text": [
            "Epoch [157/3000]: Train loss: 5.0813, Valid loss: 4.6879\n"
          ]
        },
        {
          "name": "stderr",
          "output_type": "stream",
          "text": [
            "Epoch [158/3000]: 100%|██████████| 9/9 [00:00<00:00, 142.95it/s, loss=5.19]\n"
          ]
        },
        {
          "name": "stdout",
          "output_type": "stream",
          "text": [
            "Epoch [158/3000]: Train loss: 5.0862, Valid loss: 4.9134\n"
          ]
        },
        {
          "name": "stderr",
          "output_type": "stream",
          "text": [
            "Epoch [159/3000]: 100%|██████████| 9/9 [00:00<00:00, 144.02it/s, loss=5.98]\n"
          ]
        },
        {
          "name": "stdout",
          "output_type": "stream",
          "text": [
            "Epoch [159/3000]: Train loss: 5.1270, Valid loss: 5.2603\n"
          ]
        },
        {
          "name": "stderr",
          "output_type": "stream",
          "text": [
            "Epoch [160/3000]: 100%|██████████| 9/9 [00:00<00:00, 140.17it/s, loss=7.18]\n"
          ]
        },
        {
          "name": "stdout",
          "output_type": "stream",
          "text": [
            "Epoch [160/3000]: Train loss: 5.1926, Valid loss: 4.8304\n"
          ]
        },
        {
          "name": "stderr",
          "output_type": "stream",
          "text": [
            "Epoch [161/3000]: 100%|██████████| 9/9 [00:00<00:00, 134.64it/s, loss=6.26]\n"
          ]
        },
        {
          "name": "stdout",
          "output_type": "stream",
          "text": [
            "Epoch [161/3000]: Train loss: 5.1243, Valid loss: 4.9764\n"
          ]
        },
        {
          "name": "stderr",
          "output_type": "stream",
          "text": [
            "Epoch [162/3000]: 100%|██████████| 9/9 [00:00<00:00, 137.47it/s, loss=5.12]\n"
          ]
        },
        {
          "name": "stdout",
          "output_type": "stream",
          "text": [
            "Epoch [162/3000]: Train loss: 5.0450, Valid loss: 6.4016\n"
          ]
        },
        {
          "name": "stderr",
          "output_type": "stream",
          "text": [
            "Epoch [163/3000]: 100%|██████████| 9/9 [00:00<00:00, 137.38it/s, loss=5.34]\n"
          ]
        },
        {
          "name": "stdout",
          "output_type": "stream",
          "text": [
            "Epoch [163/3000]: Train loss: 5.0479, Valid loss: 5.0499\n"
          ]
        },
        {
          "name": "stderr",
          "output_type": "stream",
          "text": [
            "Epoch [164/3000]: 100%|██████████| 9/9 [00:00<00:00, 141.69it/s, loss=4.7]\n"
          ]
        },
        {
          "name": "stdout",
          "output_type": "stream",
          "text": [
            "Epoch [164/3000]: Train loss: 5.0032, Valid loss: 4.4117\n",
            "Saving model with loss 4.412...\n"
          ]
        },
        {
          "name": "stderr",
          "output_type": "stream",
          "text": [
            "Epoch [165/3000]: 100%|██████████| 9/9 [00:00<00:00, 139.70it/s, loss=5.19]\n"
          ]
        },
        {
          "name": "stdout",
          "output_type": "stream",
          "text": [
            "Epoch [165/3000]: Train loss: 5.0220, Valid loss: 4.7853\n"
          ]
        },
        {
          "name": "stderr",
          "output_type": "stream",
          "text": [
            "Epoch [166/3000]: 100%|██████████| 9/9 [00:00<00:00, 141.56it/s, loss=5.82]\n"
          ]
        },
        {
          "name": "stdout",
          "output_type": "stream",
          "text": [
            "Epoch [166/3000]: Train loss: 5.0524, Valid loss: 4.8272\n"
          ]
        },
        {
          "name": "stderr",
          "output_type": "stream",
          "text": [
            "Epoch [167/3000]: 100%|██████████| 9/9 [00:00<00:00, 141.53it/s, loss=4.29]\n"
          ]
        },
        {
          "name": "stdout",
          "output_type": "stream",
          "text": [
            "Epoch [167/3000]: Train loss: 4.9477, Valid loss: 4.5944\n"
          ]
        },
        {
          "name": "stderr",
          "output_type": "stream",
          "text": [
            "Epoch [168/3000]: 100%|██████████| 9/9 [00:00<00:00, 127.46it/s, loss=4.05]\n"
          ]
        },
        {
          "name": "stdout",
          "output_type": "stream",
          "text": [
            "Epoch [168/3000]: Train loss: 4.9236, Valid loss: 4.5623\n"
          ]
        },
        {
          "name": "stderr",
          "output_type": "stream",
          "text": [
            "Epoch [169/3000]: 100%|██████████| 9/9 [00:00<00:00, 146.03it/s, loss=5.01]\n"
          ]
        },
        {
          "name": "stdout",
          "output_type": "stream",
          "text": [
            "Epoch [169/3000]: Train loss: 4.9749, Valid loss: 4.5227\n"
          ]
        },
        {
          "name": "stderr",
          "output_type": "stream",
          "text": [
            "Epoch [170/3000]: 100%|██████████| 9/9 [00:00<00:00, 144.19it/s, loss=4.82]\n"
          ]
        },
        {
          "name": "stdout",
          "output_type": "stream",
          "text": [
            "Epoch [170/3000]: Train loss: 4.9628, Valid loss: 4.9774\n"
          ]
        },
        {
          "name": "stderr",
          "output_type": "stream",
          "text": [
            "Epoch [171/3000]: 100%|██████████| 9/9 [00:00<00:00, 144.03it/s, loss=4.88]\n"
          ]
        },
        {
          "name": "stdout",
          "output_type": "stream",
          "text": [
            "Epoch [171/3000]: Train loss: 4.9503, Valid loss: 5.0281\n"
          ]
        },
        {
          "name": "stderr",
          "output_type": "stream",
          "text": [
            "Epoch [172/3000]: 100%|██████████| 9/9 [00:00<00:00, 144.58it/s, loss=7.03]\n"
          ]
        },
        {
          "name": "stdout",
          "output_type": "stream",
          "text": [
            "Epoch [172/3000]: Train loss: 5.0779, Valid loss: 4.7107\n"
          ]
        },
        {
          "name": "stderr",
          "output_type": "stream",
          "text": [
            "Epoch [173/3000]: 100%|██████████| 9/9 [00:00<00:00, 137.90it/s, loss=6.4]\n"
          ]
        },
        {
          "name": "stdout",
          "output_type": "stream",
          "text": [
            "Epoch [173/3000]: Train loss: 5.0326, Valid loss: 4.3794\n",
            "Saving model with loss 4.379...\n"
          ]
        },
        {
          "name": "stderr",
          "output_type": "stream",
          "text": [
            "Epoch [174/3000]: 100%|██████████| 9/9 [00:00<00:00, 146.38it/s, loss=4.02]\n"
          ]
        },
        {
          "name": "stdout",
          "output_type": "stream",
          "text": [
            "Epoch [174/3000]: Train loss: 4.8720, Valid loss: 5.3916\n"
          ]
        },
        {
          "name": "stderr",
          "output_type": "stream",
          "text": [
            "Epoch [175/3000]: 100%|██████████| 9/9 [00:00<00:00, 138.85it/s, loss=5.48]\n"
          ]
        },
        {
          "name": "stdout",
          "output_type": "stream",
          "text": [
            "Epoch [175/3000]: Train loss: 4.9582, Valid loss: 4.1380\n",
            "Saving model with loss 4.138...\n"
          ]
        },
        {
          "name": "stderr",
          "output_type": "stream",
          "text": [
            "Epoch [176/3000]: 100%|██████████| 9/9 [00:00<00:00, 141.05it/s, loss=5.81]\n"
          ]
        },
        {
          "name": "stdout",
          "output_type": "stream",
          "text": [
            "Epoch [176/3000]: Train loss: 4.9674, Valid loss: 5.5520\n"
          ]
        },
        {
          "name": "stderr",
          "output_type": "stream",
          "text": [
            "Epoch [177/3000]: 100%|██████████| 9/9 [00:00<00:00, 93.73it/s, loss=6.35]\n"
          ]
        },
        {
          "name": "stdout",
          "output_type": "stream",
          "text": [
            "Epoch [177/3000]: Train loss: 4.9954, Valid loss: 4.8889\n"
          ]
        },
        {
          "name": "stderr",
          "output_type": "stream",
          "text": [
            "Epoch [178/3000]: 100%|██████████| 9/9 [00:00<00:00, 121.75it/s, loss=4.97]\n"
          ]
        },
        {
          "name": "stdout",
          "output_type": "stream",
          "text": [
            "Epoch [178/3000]: Train loss: 4.9001, Valid loss: 4.0844\n",
            "Saving model with loss 4.084...\n"
          ]
        },
        {
          "name": "stderr",
          "output_type": "stream",
          "text": [
            "Epoch [179/3000]: 100%|██████████| 9/9 [00:00<00:00, 136.86it/s, loss=6.35]\n"
          ]
        },
        {
          "name": "stdout",
          "output_type": "stream",
          "text": [
            "Epoch [179/3000]: Train loss: 4.9770, Valid loss: 4.8437\n"
          ]
        },
        {
          "name": "stderr",
          "output_type": "stream",
          "text": [
            "Epoch [180/3000]: 100%|██████████| 9/9 [00:00<00:00, 136.66it/s, loss=5.75]\n"
          ]
        },
        {
          "name": "stdout",
          "output_type": "stream",
          "text": [
            "Epoch [180/3000]: Train loss: 4.9288, Valid loss: 5.0554\n"
          ]
        },
        {
          "name": "stderr",
          "output_type": "stream",
          "text": [
            "Epoch [181/3000]: 100%|██████████| 9/9 [00:00<00:00, 130.68it/s, loss=6.35]\n"
          ]
        },
        {
          "name": "stdout",
          "output_type": "stream",
          "text": [
            "Epoch [181/3000]: Train loss: 4.9612, Valid loss: 5.0705\n"
          ]
        },
        {
          "name": "stderr",
          "output_type": "stream",
          "text": [
            "Epoch [182/3000]: 100%|██████████| 9/9 [00:00<00:00, 140.46it/s, loss=4.31]\n"
          ]
        },
        {
          "name": "stdout",
          "output_type": "stream",
          "text": [
            "Epoch [182/3000]: Train loss: 4.8210, Valid loss: 4.3702\n"
          ]
        },
        {
          "name": "stderr",
          "output_type": "stream",
          "text": [
            "Epoch [183/3000]: 100%|██████████| 9/9 [00:00<00:00, 141.74it/s, loss=4.24]\n"
          ]
        },
        {
          "name": "stdout",
          "output_type": "stream",
          "text": [
            "Epoch [183/3000]: Train loss: 4.8105, Valid loss: 4.3673\n"
          ]
        },
        {
          "name": "stderr",
          "output_type": "stream",
          "text": [
            "Epoch [184/3000]: 100%|██████████| 9/9 [00:00<00:00, 128.50it/s, loss=3.79]\n"
          ]
        },
        {
          "name": "stdout",
          "output_type": "stream",
          "text": [
            "Epoch [184/3000]: Train loss: 4.7775, Valid loss: 4.4845\n"
          ]
        },
        {
          "name": "stderr",
          "output_type": "stream",
          "text": [
            "Epoch [185/3000]: 100%|██████████| 9/9 [00:00<00:00, 126.02it/s, loss=5.04]\n"
          ]
        },
        {
          "name": "stdout",
          "output_type": "stream",
          "text": [
            "Epoch [185/3000]: Train loss: 4.8468, Valid loss: 5.1364\n"
          ]
        },
        {
          "name": "stderr",
          "output_type": "stream",
          "text": [
            "Epoch [186/3000]: 100%|██████████| 9/9 [00:00<00:00, 139.94it/s, loss=4.31]\n"
          ]
        },
        {
          "name": "stdout",
          "output_type": "stream",
          "text": [
            "Epoch [186/3000]: Train loss: 4.7957, Valid loss: 4.1329\n"
          ]
        },
        {
          "name": "stderr",
          "output_type": "stream",
          "text": [
            "Epoch [187/3000]: 100%|██████████| 9/9 [00:00<00:00, 134.55it/s, loss=5.57]\n"
          ]
        },
        {
          "name": "stdout",
          "output_type": "stream",
          "text": [
            "Epoch [187/3000]: Train loss: 4.8634, Valid loss: 5.0127\n"
          ]
        },
        {
          "name": "stderr",
          "output_type": "stream",
          "text": [
            "Epoch [188/3000]: 100%|██████████| 9/9 [00:00<00:00, 135.13it/s, loss=5.08]\n"
          ]
        },
        {
          "name": "stdout",
          "output_type": "stream",
          "text": [
            "Epoch [188/3000]: Train loss: 4.8233, Valid loss: 4.9411\n"
          ]
        },
        {
          "name": "stderr",
          "output_type": "stream",
          "text": [
            "Epoch [189/3000]: 100%|██████████| 9/9 [00:00<00:00, 135.89it/s, loss=5.4]\n"
          ]
        },
        {
          "name": "stdout",
          "output_type": "stream",
          "text": [
            "Epoch [189/3000]: Train loss: 4.8355, Valid loss: 5.4072\n"
          ]
        },
        {
          "name": "stderr",
          "output_type": "stream",
          "text": [
            "Epoch [190/3000]: 100%|██████████| 9/9 [00:00<00:00, 130.10it/s, loss=5.31]\n"
          ]
        },
        {
          "name": "stdout",
          "output_type": "stream",
          "text": [
            "Epoch [190/3000]: Train loss: 4.8225, Valid loss: 4.3629\n"
          ]
        },
        {
          "name": "stderr",
          "output_type": "stream",
          "text": [
            "Epoch [191/3000]: 100%|██████████| 9/9 [00:00<00:00, 142.36it/s, loss=4.46]\n"
          ]
        },
        {
          "name": "stdout",
          "output_type": "stream",
          "text": [
            "Epoch [191/3000]: Train loss: 4.7583, Valid loss: 6.0658\n"
          ]
        },
        {
          "name": "stderr",
          "output_type": "stream",
          "text": [
            "Epoch [192/3000]: 100%|██████████| 9/9 [00:00<00:00, 139.24it/s, loss=6.19]\n"
          ]
        },
        {
          "name": "stdout",
          "output_type": "stream",
          "text": [
            "Epoch [192/3000]: Train loss: 4.8668, Valid loss: 4.9076\n"
          ]
        },
        {
          "name": "stderr",
          "output_type": "stream",
          "text": [
            "Epoch [193/3000]: 100%|██████████| 9/9 [00:00<00:00, 142.59it/s, loss=4.85]\n"
          ]
        },
        {
          "name": "stdout",
          "output_type": "stream",
          "text": [
            "Epoch [193/3000]: Train loss: 4.7694, Valid loss: 4.2807\n"
          ]
        },
        {
          "name": "stderr",
          "output_type": "stream",
          "text": [
            "Epoch [194/3000]: 100%|██████████| 9/9 [00:00<00:00, 142.93it/s, loss=4.76]\n"
          ]
        },
        {
          "name": "stdout",
          "output_type": "stream",
          "text": [
            "Epoch [194/3000]: Train loss: 4.7594, Valid loss: 4.5505\n"
          ]
        },
        {
          "name": "stderr",
          "output_type": "stream",
          "text": [
            "Epoch [195/3000]: 100%|██████████| 9/9 [00:00<00:00, 140.14it/s, loss=6.97]\n"
          ]
        },
        {
          "name": "stdout",
          "output_type": "stream",
          "text": [
            "Epoch [195/3000]: Train loss: 4.8919, Valid loss: 4.4390\n"
          ]
        },
        {
          "name": "stderr",
          "output_type": "stream",
          "text": [
            "Epoch [196/3000]: 100%|██████████| 9/9 [00:00<00:00, 133.73it/s, loss=4.29]\n"
          ]
        },
        {
          "name": "stdout",
          "output_type": "stream",
          "text": [
            "Epoch [196/3000]: Train loss: 4.7158, Valid loss: 5.1248\n"
          ]
        },
        {
          "name": "stderr",
          "output_type": "stream",
          "text": [
            "Epoch [197/3000]: 100%|██████████| 9/9 [00:00<00:00, 152.20it/s, loss=4.75]\n"
          ]
        },
        {
          "name": "stdout",
          "output_type": "stream",
          "text": [
            "Epoch [197/3000]: Train loss: 4.7394, Valid loss: 4.9321\n"
          ]
        },
        {
          "name": "stderr",
          "output_type": "stream",
          "text": [
            "Epoch [198/3000]: 100%|██████████| 9/9 [00:00<00:00, 140.39it/s, loss=5.01]\n"
          ]
        },
        {
          "name": "stdout",
          "output_type": "stream",
          "text": [
            "Epoch [198/3000]: Train loss: 4.7462, Valid loss: 4.7377\n"
          ]
        },
        {
          "name": "stderr",
          "output_type": "stream",
          "text": [
            "Epoch [199/3000]: 100%|██████████| 9/9 [00:00<00:00, 102.44it/s, loss=4.69]\n"
          ]
        },
        {
          "name": "stdout",
          "output_type": "stream",
          "text": [
            "Epoch [199/3000]: Train loss: 4.7180, Valid loss: 4.8711\n"
          ]
        },
        {
          "name": "stderr",
          "output_type": "stream",
          "text": [
            "Epoch [200/3000]: 100%|██████████| 9/9 [00:00<00:00, 133.94it/s, loss=4.88]\n"
          ]
        },
        {
          "name": "stdout",
          "output_type": "stream",
          "text": [
            "Epoch [200/3000]: Train loss: 4.7212, Valid loss: 5.0227\n"
          ]
        },
        {
          "name": "stderr",
          "output_type": "stream",
          "text": [
            "Epoch [201/3000]: 100%|██████████| 9/9 [00:00<00:00, 149.16it/s, loss=4.56]\n"
          ]
        },
        {
          "name": "stdout",
          "output_type": "stream",
          "text": [
            "Epoch [201/3000]: Train loss: 4.6951, Valid loss: 4.5761\n"
          ]
        },
        {
          "name": "stderr",
          "output_type": "stream",
          "text": [
            "Epoch [202/3000]: 100%|██████████| 9/9 [00:00<00:00, 143.30it/s, loss=4.92]\n"
          ]
        },
        {
          "name": "stdout",
          "output_type": "stream",
          "text": [
            "Epoch [202/3000]: Train loss: 4.7104, Valid loss: 4.7376\n"
          ]
        },
        {
          "name": "stderr",
          "output_type": "stream",
          "text": [
            "Epoch [203/3000]: 100%|██████████| 9/9 [00:00<00:00, 138.81it/s, loss=4.94]\n"
          ]
        },
        {
          "name": "stdout",
          "output_type": "stream",
          "text": [
            "Epoch [203/3000]: Train loss: 4.7022, Valid loss: 4.1693\n"
          ]
        },
        {
          "name": "stderr",
          "output_type": "stream",
          "text": [
            "Epoch [204/3000]: 100%|██████████| 9/9 [00:00<00:00, 122.58it/s, loss=3.94]\n"
          ]
        },
        {
          "name": "stdout",
          "output_type": "stream",
          "text": [
            "Epoch [204/3000]: Train loss: 4.6352, Valid loss: 4.8576\n"
          ]
        },
        {
          "name": "stderr",
          "output_type": "stream",
          "text": [
            "Epoch [205/3000]: 100%|██████████| 9/9 [00:00<00:00, 103.86it/s, loss=5.05]\n"
          ]
        },
        {
          "name": "stdout",
          "output_type": "stream",
          "text": [
            "Epoch [205/3000]: Train loss: 4.7002, Valid loss: 4.3146\n"
          ]
        },
        {
          "name": "stderr",
          "output_type": "stream",
          "text": [
            "Epoch [206/3000]: 100%|██████████| 9/9 [00:00<00:00, 100.19it/s, loss=4.01]\n"
          ]
        },
        {
          "name": "stdout",
          "output_type": "stream",
          "text": [
            "Epoch [206/3000]: Train loss: 4.6276, Valid loss: 4.6666\n"
          ]
        },
        {
          "name": "stderr",
          "output_type": "stream",
          "text": [
            "Epoch [207/3000]: 100%|██████████| 9/9 [00:00<00:00, 107.29it/s, loss=5.31]\n"
          ]
        },
        {
          "name": "stdout",
          "output_type": "stream",
          "text": [
            "Epoch [207/3000]: Train loss: 4.6964, Valid loss: 4.5791\n"
          ]
        },
        {
          "name": "stderr",
          "output_type": "stream",
          "text": [
            "Epoch [208/3000]: 100%|██████████| 9/9 [00:00<00:00, 114.50it/s, loss=4.81]\n"
          ]
        },
        {
          "name": "stdout",
          "output_type": "stream",
          "text": [
            "Epoch [208/3000]: Train loss: 4.6561, Valid loss: 4.3342\n"
          ]
        },
        {
          "name": "stderr",
          "output_type": "stream",
          "text": [
            "Epoch [209/3000]: 100%|██████████| 9/9 [00:00<00:00, 110.40it/s, loss=4.85]\n"
          ]
        },
        {
          "name": "stdout",
          "output_type": "stream",
          "text": [
            "Epoch [209/3000]: Train loss: 4.6536, Valid loss: 5.1699\n"
          ]
        },
        {
          "name": "stderr",
          "output_type": "stream",
          "text": [
            "Epoch [210/3000]: 100%|██████████| 9/9 [00:00<00:00, 105.81it/s, loss=4.63]\n"
          ]
        },
        {
          "name": "stdout",
          "output_type": "stream",
          "text": [
            "Epoch [210/3000]: Train loss: 4.6335, Valid loss: 5.6122\n"
          ]
        },
        {
          "name": "stderr",
          "output_type": "stream",
          "text": [
            "Epoch [211/3000]: 100%|██████████| 9/9 [00:00<00:00, 105.11it/s, loss=4.48]\n"
          ]
        },
        {
          "name": "stdout",
          "output_type": "stream",
          "text": [
            "Epoch [211/3000]: Train loss: 4.6234, Valid loss: 4.6658\n"
          ]
        },
        {
          "name": "stderr",
          "output_type": "stream",
          "text": [
            "Epoch [212/3000]: 100%|██████████| 9/9 [00:00<00:00, 112.03it/s, loss=5.47]\n"
          ]
        },
        {
          "name": "stdout",
          "output_type": "stream",
          "text": [
            "Epoch [212/3000]: Train loss: 4.6687, Valid loss: 4.3157\n"
          ]
        },
        {
          "name": "stderr",
          "output_type": "stream",
          "text": [
            "Epoch [213/3000]: 100%|██████████| 9/9 [00:00<00:00, 116.40it/s, loss=4.33]\n"
          ]
        },
        {
          "name": "stdout",
          "output_type": "stream",
          "text": [
            "Epoch [213/3000]: Train loss: 4.5908, Valid loss: 5.1308\n"
          ]
        },
        {
          "name": "stderr",
          "output_type": "stream",
          "text": [
            "Epoch [214/3000]: 100%|██████████| 9/9 [00:00<00:00, 137.17it/s, loss=5.58]\n"
          ]
        },
        {
          "name": "stdout",
          "output_type": "stream",
          "text": [
            "Epoch [214/3000]: Train loss: 4.6652, Valid loss: 3.9668\n",
            "Saving model with loss 3.967...\n"
          ]
        },
        {
          "name": "stderr",
          "output_type": "stream",
          "text": [
            "Epoch [215/3000]: 100%|██████████| 9/9 [00:00<00:00, 133.04it/s, loss=5.33]\n"
          ]
        },
        {
          "name": "stdout",
          "output_type": "stream",
          "text": [
            "Epoch [215/3000]: Train loss: 4.6419, Valid loss: 4.7745\n"
          ]
        },
        {
          "name": "stderr",
          "output_type": "stream",
          "text": [
            "Epoch [216/3000]: 100%|██████████| 9/9 [00:00<00:00, 132.31it/s, loss=4.71]\n"
          ]
        },
        {
          "name": "stdout",
          "output_type": "stream",
          "text": [
            "Epoch [216/3000]: Train loss: 4.5955, Valid loss: 4.4854\n"
          ]
        },
        {
          "name": "stderr",
          "output_type": "stream",
          "text": [
            "Epoch [217/3000]: 100%|██████████| 9/9 [00:00<00:00, 126.12it/s, loss=3.98]\n"
          ]
        },
        {
          "name": "stdout",
          "output_type": "stream",
          "text": [
            "Epoch [217/3000]: Train loss: 4.5427, Valid loss: 5.0391\n"
          ]
        },
        {
          "name": "stderr",
          "output_type": "stream",
          "text": [
            "Epoch [218/3000]: 100%|██████████| 9/9 [00:00<00:00, 134.19it/s, loss=4.55]\n"
          ]
        },
        {
          "name": "stdout",
          "output_type": "stream",
          "text": [
            "Epoch [218/3000]: Train loss: 4.5743, Valid loss: 4.1189\n"
          ]
        },
        {
          "name": "stderr",
          "output_type": "stream",
          "text": [
            "Epoch [219/3000]: 100%|██████████| 9/9 [00:00<00:00, 88.55it/s, loss=4.78]\n"
          ]
        },
        {
          "name": "stdout",
          "output_type": "stream",
          "text": [
            "Epoch [219/3000]: Train loss: 4.5766, Valid loss: 4.6364\n"
          ]
        },
        {
          "name": "stderr",
          "output_type": "stream",
          "text": [
            "Epoch [220/3000]: 100%|██████████| 9/9 [00:00<00:00, 134.65it/s, loss=4.18]\n"
          ]
        },
        {
          "name": "stdout",
          "output_type": "stream",
          "text": [
            "Epoch [220/3000]: Train loss: 4.5335, Valid loss: 4.7336\n"
          ]
        },
        {
          "name": "stderr",
          "output_type": "stream",
          "text": [
            "Epoch [221/3000]: 100%|██████████| 9/9 [00:00<00:00, 130.99it/s, loss=5.02]\n"
          ]
        },
        {
          "name": "stdout",
          "output_type": "stream",
          "text": [
            "Epoch [221/3000]: Train loss: 4.5779, Valid loss: 4.8626\n"
          ]
        },
        {
          "name": "stderr",
          "output_type": "stream",
          "text": [
            "Epoch [222/3000]: 100%|██████████| 9/9 [00:00<00:00, 129.48it/s, loss=5.73]\n"
          ]
        },
        {
          "name": "stdout",
          "output_type": "stream",
          "text": [
            "Epoch [222/3000]: Train loss: 4.6193, Valid loss: 4.2484\n"
          ]
        },
        {
          "name": "stderr",
          "output_type": "stream",
          "text": [
            "Epoch [223/3000]: 100%|██████████| 9/9 [00:00<00:00, 129.72it/s, loss=5.22]\n"
          ]
        },
        {
          "name": "stdout",
          "output_type": "stream",
          "text": [
            "Epoch [223/3000]: Train loss: 4.5816, Valid loss: 4.3293\n"
          ]
        },
        {
          "name": "stderr",
          "output_type": "stream",
          "text": [
            "Epoch [224/3000]: 100%|██████████| 9/9 [00:00<00:00, 116.55it/s, loss=4.6]\n"
          ]
        },
        {
          "name": "stdout",
          "output_type": "stream",
          "text": [
            "Epoch [224/3000]: Train loss: 4.5302, Valid loss: 4.2209\n"
          ]
        },
        {
          "name": "stderr",
          "output_type": "stream",
          "text": [
            "Epoch [225/3000]: 100%|██████████| 9/9 [00:00<00:00, 102.22it/s, loss=4.06]\n"
          ]
        },
        {
          "name": "stdout",
          "output_type": "stream",
          "text": [
            "Epoch [225/3000]: Train loss: 4.4912, Valid loss: 5.2283\n"
          ]
        },
        {
          "name": "stderr",
          "output_type": "stream",
          "text": [
            "Epoch [226/3000]: 100%|██████████| 9/9 [00:00<00:00, 124.97it/s, loss=4.45]\n"
          ]
        },
        {
          "name": "stdout",
          "output_type": "stream",
          "text": [
            "Epoch [226/3000]: Train loss: 4.5096, Valid loss: 3.9722\n"
          ]
        },
        {
          "name": "stderr",
          "output_type": "stream",
          "text": [
            "Epoch [227/3000]: 100%|██████████| 9/9 [00:00<00:00, 137.66it/s, loss=4.74]\n"
          ]
        },
        {
          "name": "stdout",
          "output_type": "stream",
          "text": [
            "Epoch [227/3000]: Train loss: 4.5191, Valid loss: 4.4995\n"
          ]
        },
        {
          "name": "stderr",
          "output_type": "stream",
          "text": [
            "Epoch [228/3000]: 100%|██████████| 9/9 [00:00<00:00, 128.71it/s, loss=6.11]\n"
          ]
        },
        {
          "name": "stdout",
          "output_type": "stream",
          "text": [
            "Epoch [228/3000]: Train loss: 4.5958, Valid loss: 3.9644\n",
            "Saving model with loss 3.964...\n"
          ]
        },
        {
          "name": "stderr",
          "output_type": "stream",
          "text": [
            "Epoch [229/3000]: 100%|██████████| 9/9 [00:00<00:00, 127.68it/s, loss=4.62]\n"
          ]
        },
        {
          "name": "stdout",
          "output_type": "stream",
          "text": [
            "Epoch [229/3000]: Train loss: 4.4970, Valid loss: 4.8212\n"
          ]
        },
        {
          "name": "stderr",
          "output_type": "stream",
          "text": [
            "Epoch [230/3000]: 100%|██████████| 9/9 [00:00<00:00, 132.82it/s, loss=4]\n"
          ]
        },
        {
          "name": "stdout",
          "output_type": "stream",
          "text": [
            "Epoch [230/3000]: Train loss: 4.4507, Valid loss: 4.3735\n"
          ]
        },
        {
          "name": "stderr",
          "output_type": "stream",
          "text": [
            "Epoch [231/3000]: 100%|██████████| 9/9 [00:00<00:00, 119.26it/s, loss=4.46]\n"
          ]
        },
        {
          "name": "stdout",
          "output_type": "stream",
          "text": [
            "Epoch [231/3000]: Train loss: 4.4760, Valid loss: 4.4875\n"
          ]
        },
        {
          "name": "stderr",
          "output_type": "stream",
          "text": [
            "Epoch [232/3000]: 100%|██████████| 9/9 [00:00<00:00, 110.07it/s, loss=3.4]\n"
          ]
        },
        {
          "name": "stdout",
          "output_type": "stream",
          "text": [
            "Epoch [232/3000]: Train loss: 4.4005, Valid loss: 4.6233\n"
          ]
        },
        {
          "name": "stderr",
          "output_type": "stream",
          "text": [
            "Epoch [233/3000]: 100%|██████████| 9/9 [00:00<00:00, 115.98it/s, loss=4.7]"
          ]
        },
        {
          "name": "stdout",
          "output_type": "stream",
          "text": [
            "Epoch [233/3000]: Train loss: 4.4742, Valid loss: 4.7050"
          ]
        },
        {
          "name": "stderr",
          "output_type": "stream",
          "text": [
            "\n"
          ]
        },
        {
          "name": "stdout",
          "output_type": "stream",
          "text": [
            "\n"
          ]
        },
        {
          "name": "stderr",
          "output_type": "stream",
          "text": [
            "Epoch [234/3000]: 100%|██████████| 9/9 [00:00<00:00, 137.93it/s, loss=5.16]\n"
          ]
        },
        {
          "name": "stdout",
          "output_type": "stream",
          "text": [
            "Epoch [234/3000]: Train loss: 4.4949, Valid loss: 4.1644\n"
          ]
        },
        {
          "name": "stderr",
          "output_type": "stream",
          "text": [
            "Epoch [235/3000]: 100%|██████████| 9/9 [00:00<00:00, 131.58it/s, loss=4.93]\n"
          ]
        },
        {
          "name": "stdout",
          "output_type": "stream",
          "text": [
            "Epoch [235/3000]: Train loss: 4.4738, Valid loss: 3.8356\n",
            "Saving model with loss 3.836...\n"
          ]
        },
        {
          "name": "stderr",
          "output_type": "stream",
          "text": [
            "Epoch [236/3000]: 100%|██████████| 9/9 [00:00<00:00, 124.80it/s, loss=4.2]\n"
          ]
        },
        {
          "name": "stdout",
          "output_type": "stream",
          "text": [
            "Epoch [236/3000]: Train loss: 4.4226, Valid loss: 4.6423\n"
          ]
        },
        {
          "name": "stderr",
          "output_type": "stream",
          "text": [
            "Epoch [237/3000]: 100%|██████████| 9/9 [00:00<00:00, 129.87it/s, loss=3.82]\n"
          ]
        },
        {
          "name": "stdout",
          "output_type": "stream",
          "text": [
            "Epoch [237/3000]: Train loss: 4.4009, Valid loss: 4.3527\n"
          ]
        },
        {
          "name": "stderr",
          "output_type": "stream",
          "text": [
            "Epoch [238/3000]: 100%|██████████| 9/9 [00:00<00:00, 129.42it/s, loss=3.6]\n"
          ]
        },
        {
          "name": "stdout",
          "output_type": "stream",
          "text": [
            "Epoch [238/3000]: Train loss: 4.3762, Valid loss: 4.3029\n"
          ]
        },
        {
          "name": "stderr",
          "output_type": "stream",
          "text": [
            "Epoch [239/3000]: 100%|██████████| 9/9 [00:00<00:00, 136.69it/s, loss=5.75]\n"
          ]
        },
        {
          "name": "stdout",
          "output_type": "stream",
          "text": [
            "Epoch [239/3000]: Train loss: 4.5010, Valid loss: 4.0521\n"
          ]
        },
        {
          "name": "stderr",
          "output_type": "stream",
          "text": [
            "Epoch [240/3000]: 100%|██████████| 9/9 [00:00<00:00, 133.54it/s, loss=3.6]\n"
          ]
        },
        {
          "name": "stdout",
          "output_type": "stream",
          "text": [
            "Epoch [240/3000]: Train loss: 4.3598, Valid loss: 4.4762\n"
          ]
        },
        {
          "name": "stderr",
          "output_type": "stream",
          "text": [
            "Epoch [241/3000]: 100%|██████████| 9/9 [00:00<00:00, 85.87it/s, loss=5.48]\n"
          ]
        },
        {
          "name": "stdout",
          "output_type": "stream",
          "text": [
            "Epoch [241/3000]: Train loss: 4.4691, Valid loss: 4.5034\n"
          ]
        },
        {
          "name": "stderr",
          "output_type": "stream",
          "text": [
            "Epoch [242/3000]: 100%|██████████| 9/9 [00:00<00:00, 135.08it/s, loss=4.5]\n"
          ]
        },
        {
          "name": "stdout",
          "output_type": "stream",
          "text": [
            "Epoch [242/3000]: Train loss: 4.4075, Valid loss: 4.3239\n"
          ]
        },
        {
          "name": "stderr",
          "output_type": "stream",
          "text": [
            "Epoch [243/3000]: 100%|██████████| 9/9 [00:00<00:00, 139.06it/s, loss=4.8]\n"
          ]
        },
        {
          "name": "stdout",
          "output_type": "stream",
          "text": [
            "Epoch [243/3000]: Train loss: 4.4168, Valid loss: 4.7141\n"
          ]
        },
        {
          "name": "stderr",
          "output_type": "stream",
          "text": [
            "Epoch [244/3000]: 100%|██████████| 9/9 [00:00<00:00, 138.26it/s, loss=4.18]\n"
          ]
        },
        {
          "name": "stdout",
          "output_type": "stream",
          "text": [
            "Epoch [244/3000]: Train loss: 4.3671, Valid loss: 5.0532\n"
          ]
        },
        {
          "name": "stderr",
          "output_type": "stream",
          "text": [
            "Epoch [245/3000]: 100%|██████████| 9/9 [00:00<00:00, 121.90it/s, loss=4.03]\n"
          ]
        },
        {
          "name": "stdout",
          "output_type": "stream",
          "text": [
            "Epoch [245/3000]: Train loss: 4.3512, Valid loss: 4.2253\n"
          ]
        },
        {
          "name": "stderr",
          "output_type": "stream",
          "text": [
            "Epoch [246/3000]: 100%|██████████| 9/9 [00:00<00:00, 120.38it/s, loss=4.67]\n"
          ]
        },
        {
          "name": "stdout",
          "output_type": "stream",
          "text": [
            "Epoch [246/3000]: Train loss: 4.3865, Valid loss: 4.4064\n"
          ]
        },
        {
          "name": "stderr",
          "output_type": "stream",
          "text": [
            "Epoch [247/3000]: 100%|██████████| 9/9 [00:00<00:00, 130.97it/s, loss=5.44]\n"
          ]
        },
        {
          "name": "stdout",
          "output_type": "stream",
          "text": [
            "Epoch [247/3000]: Train loss: 4.4260, Valid loss: 3.9272\n"
          ]
        },
        {
          "name": "stderr",
          "output_type": "stream",
          "text": [
            "Epoch [248/3000]: 100%|██████████| 9/9 [00:00<00:00, 130.11it/s, loss=4.04]\n"
          ]
        },
        {
          "name": "stdout",
          "output_type": "stream",
          "text": [
            "Epoch [248/3000]: Train loss: 4.3334, Valid loss: 3.9305\n"
          ]
        },
        {
          "name": "stderr",
          "output_type": "stream",
          "text": [
            "Epoch [249/3000]: 100%|██████████| 9/9 [00:00<00:00, 134.32it/s, loss=3.91]\n"
          ]
        },
        {
          "name": "stdout",
          "output_type": "stream",
          "text": [
            "Epoch [249/3000]: Train loss: 4.3176, Valid loss: 4.2020\n"
          ]
        },
        {
          "name": "stderr",
          "output_type": "stream",
          "text": [
            "Epoch [250/3000]: 100%|██████████| 9/9 [00:00<00:00, 132.50it/s, loss=4.89]\n"
          ]
        },
        {
          "name": "stdout",
          "output_type": "stream",
          "text": [
            "Epoch [250/3000]: Train loss: 4.3738, Valid loss: 4.2611\n"
          ]
        },
        {
          "name": "stderr",
          "output_type": "stream",
          "text": [
            "Epoch [251/3000]: 100%|██████████| 9/9 [00:00<00:00, 136.76it/s, loss=3.18]\n"
          ]
        },
        {
          "name": "stdout",
          "output_type": "stream",
          "text": [
            "Epoch [251/3000]: Train loss: 4.2597, Valid loss: 4.2388\n"
          ]
        },
        {
          "name": "stderr",
          "output_type": "stream",
          "text": [
            "Epoch [252/3000]: 100%|██████████| 9/9 [00:00<00:00, 128.39it/s, loss=4.71]\n"
          ]
        },
        {
          "name": "stdout",
          "output_type": "stream",
          "text": [
            "Epoch [252/3000]: Train loss: 4.3501, Valid loss: 4.3445\n"
          ]
        },
        {
          "name": "stderr",
          "output_type": "stream",
          "text": [
            "Epoch [253/3000]: 100%|██████████| 9/9 [00:00<00:00, 134.53it/s, loss=5.02]\n"
          ]
        },
        {
          "name": "stdout",
          "output_type": "stream",
          "text": [
            "Epoch [253/3000]: Train loss: 4.3617, Valid loss: 4.3927\n"
          ]
        },
        {
          "name": "stderr",
          "output_type": "stream",
          "text": [
            "Epoch [254/3000]: 100%|██████████| 9/9 [00:00<00:00, 136.68it/s, loss=2.78]\n"
          ]
        },
        {
          "name": "stdout",
          "output_type": "stream",
          "text": [
            "Epoch [254/3000]: Train loss: 4.2147, Valid loss: 4.7931\n"
          ]
        },
        {
          "name": "stderr",
          "output_type": "stream",
          "text": [
            "Epoch [255/3000]: 100%|██████████| 9/9 [00:00<00:00, 131.96it/s, loss=4.96]\n"
          ]
        },
        {
          "name": "stdout",
          "output_type": "stream",
          "text": [
            "Epoch [255/3000]: Train loss: 4.3408, Valid loss: 3.7631\n",
            "Saving model with loss 3.763...\n"
          ]
        },
        {
          "name": "stderr",
          "output_type": "stream",
          "text": [
            "Epoch [256/3000]: 100%|██████████| 9/9 [00:00<00:00, 132.91it/s, loss=4.97]\n"
          ]
        },
        {
          "name": "stdout",
          "output_type": "stream",
          "text": [
            "Epoch [256/3000]: Train loss: 4.3409, Valid loss: 4.9116\n"
          ]
        },
        {
          "name": "stderr",
          "output_type": "stream",
          "text": [
            "Epoch [257/3000]: 100%|██████████| 9/9 [00:00<00:00, 130.89it/s, loss=3.62]\n"
          ]
        },
        {
          "name": "stdout",
          "output_type": "stream",
          "text": [
            "Epoch [257/3000]: Train loss: 4.2474, Valid loss: 3.9137\n"
          ]
        },
        {
          "name": "stderr",
          "output_type": "stream",
          "text": [
            "Epoch [258/3000]: 100%|██████████| 9/9 [00:00<00:00, 126.13it/s, loss=5.13]\n"
          ]
        },
        {
          "name": "stdout",
          "output_type": "stream",
          "text": [
            "Epoch [258/3000]: Train loss: 4.3349, Valid loss: 4.2714\n"
          ]
        },
        {
          "name": "stderr",
          "output_type": "stream",
          "text": [
            "Epoch [259/3000]: 100%|██████████| 9/9 [00:00<00:00, 127.26it/s, loss=3.97]\n"
          ]
        },
        {
          "name": "stdout",
          "output_type": "stream",
          "text": [
            "Epoch [259/3000]: Train loss: 4.2559, Valid loss: 4.0605\n"
          ]
        },
        {
          "name": "stderr",
          "output_type": "stream",
          "text": [
            "Epoch [260/3000]: 100%|██████████| 9/9 [00:00<00:00, 131.73it/s, loss=2.53]\n"
          ]
        },
        {
          "name": "stdout",
          "output_type": "stream",
          "text": [
            "Epoch [260/3000]: Train loss: 4.1620, Valid loss: 4.5146\n"
          ]
        },
        {
          "name": "stderr",
          "output_type": "stream",
          "text": [
            "Epoch [261/3000]: 100%|██████████| 9/9 [00:00<00:00, 116.51it/s, loss=4.98]\n"
          ]
        },
        {
          "name": "stdout",
          "output_type": "stream",
          "text": [
            "Epoch [261/3000]: Train loss: 4.3055, Valid loss: 4.5732\n"
          ]
        },
        {
          "name": "stderr",
          "output_type": "stream",
          "text": [
            "Epoch [262/3000]: 100%|██████████| 9/9 [00:00<00:00, 116.82it/s, loss=5.16]\n"
          ]
        },
        {
          "name": "stdout",
          "output_type": "stream",
          "text": [
            "Epoch [262/3000]: Train loss: 4.3105, Valid loss: 4.1607\n"
          ]
        },
        {
          "name": "stderr",
          "output_type": "stream",
          "text": [
            "Epoch [263/3000]: 100%|██████████| 9/9 [00:00<00:00, 128.03it/s, loss=4.41]\n"
          ]
        },
        {
          "name": "stdout",
          "output_type": "stream",
          "text": [
            "Epoch [263/3000]: Train loss: 4.2610, Valid loss: 3.9312\n"
          ]
        },
        {
          "name": "stderr",
          "output_type": "stream",
          "text": [
            "Epoch [264/3000]: 100%|██████████| 9/9 [00:00<00:00, 125.04it/s, loss=4.15]\n"
          ]
        },
        {
          "name": "stdout",
          "output_type": "stream",
          "text": [
            "Epoch [264/3000]: Train loss: 4.2365, Valid loss: 4.0044\n"
          ]
        },
        {
          "name": "stderr",
          "output_type": "stream",
          "text": [
            "Epoch [265/3000]: 100%|██████████| 9/9 [00:00<00:00, 130.70it/s, loss=3.92]\n"
          ]
        },
        {
          "name": "stdout",
          "output_type": "stream",
          "text": [
            "Epoch [265/3000]: Train loss: 4.2173, Valid loss: 4.2095\n"
          ]
        },
        {
          "name": "stderr",
          "output_type": "stream",
          "text": [
            "Epoch [266/3000]: 100%|██████████| 9/9 [00:00<00:00, 141.26it/s, loss=5.25]\n"
          ]
        },
        {
          "name": "stdout",
          "output_type": "stream",
          "text": [
            "Epoch [266/3000]: Train loss: 4.2921, Valid loss: 4.2899\n"
          ]
        },
        {
          "name": "stderr",
          "output_type": "stream",
          "text": [
            "Epoch [267/3000]: 100%|██████████| 9/9 [00:00<00:00, 138.15it/s, loss=3.03]\n"
          ]
        },
        {
          "name": "stdout",
          "output_type": "stream",
          "text": [
            "Epoch [267/3000]: Train loss: 4.1456, Valid loss: 4.2626\n"
          ]
        },
        {
          "name": "stderr",
          "output_type": "stream",
          "text": [
            "Epoch [268/3000]: 100%|██████████| 9/9 [00:00<00:00, 132.26it/s, loss=3.59]\n"
          ]
        },
        {
          "name": "stdout",
          "output_type": "stream",
          "text": [
            "Epoch [268/3000]: Train loss: 4.1764, Valid loss: 4.3139\n"
          ]
        },
        {
          "name": "stderr",
          "output_type": "stream",
          "text": [
            "Epoch [269/3000]: 100%|██████████| 9/9 [00:00<00:00, 134.35it/s, loss=3.59]\n"
          ]
        },
        {
          "name": "stdout",
          "output_type": "stream",
          "text": [
            "Epoch [269/3000]: Train loss: 4.1709, Valid loss: 4.8701\n"
          ]
        },
        {
          "name": "stderr",
          "output_type": "stream",
          "text": [
            "Epoch [270/3000]: 100%|██████████| 9/9 [00:00<00:00, 134.31it/s, loss=3.37]\n"
          ]
        },
        {
          "name": "stdout",
          "output_type": "stream",
          "text": [
            "Epoch [270/3000]: Train loss: 4.1512, Valid loss: 3.6078\n",
            "Saving model with loss 3.608...\n"
          ]
        },
        {
          "name": "stderr",
          "output_type": "stream",
          "text": [
            "Epoch [271/3000]: 100%|██████████| 9/9 [00:00<00:00, 131.89it/s, loss=4.36]\n"
          ]
        },
        {
          "name": "stdout",
          "output_type": "stream",
          "text": [
            "Epoch [271/3000]: Train loss: 4.2081, Valid loss: 4.4040\n"
          ]
        },
        {
          "name": "stderr",
          "output_type": "stream",
          "text": [
            "Epoch [272/3000]: 100%|██████████| 9/9 [00:00<00:00, 128.87it/s, loss=3.08]\n"
          ]
        },
        {
          "name": "stdout",
          "output_type": "stream",
          "text": [
            "Epoch [272/3000]: Train loss: 4.1179, Valid loss: 3.9921\n"
          ]
        },
        {
          "name": "stderr",
          "output_type": "stream",
          "text": [
            "Epoch [273/3000]: 100%|██████████| 9/9 [00:00<00:00, 133.49it/s, loss=3.28]\n"
          ]
        },
        {
          "name": "stdout",
          "output_type": "stream",
          "text": [
            "Epoch [273/3000]: Train loss: 4.1267, Valid loss: 3.6884\n"
          ]
        },
        {
          "name": "stderr",
          "output_type": "stream",
          "text": [
            "Epoch [274/3000]: 100%|██████████| 9/9 [00:00<00:00, 122.77it/s, loss=4.66]\n"
          ]
        },
        {
          "name": "stdout",
          "output_type": "stream",
          "text": [
            "Epoch [274/3000]: Train loss: 4.2052, Valid loss: 4.1308\n"
          ]
        },
        {
          "name": "stderr",
          "output_type": "stream",
          "text": [
            "Epoch [275/3000]: 100%|██████████| 9/9 [00:00<00:00, 134.93it/s, loss=4.21]\n"
          ]
        },
        {
          "name": "stdout",
          "output_type": "stream",
          "text": [
            "Epoch [275/3000]: Train loss: 4.1787, Valid loss: 3.7002\n"
          ]
        },
        {
          "name": "stderr",
          "output_type": "stream",
          "text": [
            "Epoch [276/3000]: 100%|██████████| 9/9 [00:00<00:00, 124.27it/s, loss=3.07]\n"
          ]
        },
        {
          "name": "stdout",
          "output_type": "stream",
          "text": [
            "Epoch [276/3000]: Train loss: 4.0938, Valid loss: 4.2445\n"
          ]
        },
        {
          "name": "stderr",
          "output_type": "stream",
          "text": [
            "Epoch [277/3000]: 100%|██████████| 9/9 [00:00<00:00, 131.20it/s, loss=3.09]\n"
          ]
        },
        {
          "name": "stdout",
          "output_type": "stream",
          "text": [
            "Epoch [277/3000]: Train loss: 4.0901, Valid loss: 3.2371\n",
            "Saving model with loss 3.237...\n"
          ]
        },
        {
          "name": "stderr",
          "output_type": "stream",
          "text": [
            "Epoch [278/3000]: 100%|██████████| 9/9 [00:00<00:00, 133.86it/s, loss=4.27]\n"
          ]
        },
        {
          "name": "stdout",
          "output_type": "stream",
          "text": [
            "Epoch [278/3000]: Train loss: 4.1587, Valid loss: 4.3394\n"
          ]
        },
        {
          "name": "stderr",
          "output_type": "stream",
          "text": [
            "Epoch [279/3000]: 100%|██████████| 9/9 [00:00<00:00, 136.43it/s, loss=4.69]\n"
          ]
        },
        {
          "name": "stdout",
          "output_type": "stream",
          "text": [
            "Epoch [279/3000]: Train loss: 4.1766, Valid loss: 5.1195\n"
          ]
        },
        {
          "name": "stderr",
          "output_type": "stream",
          "text": [
            "Epoch [280/3000]: 100%|██████████| 9/9 [00:00<00:00, 134.23it/s, loss=4.22]\n"
          ]
        },
        {
          "name": "stdout",
          "output_type": "stream",
          "text": [
            "Epoch [280/3000]: Train loss: 4.1426, Valid loss: 3.8904\n"
          ]
        },
        {
          "name": "stderr",
          "output_type": "stream",
          "text": [
            "Epoch [281/3000]: 100%|██████████| 9/9 [00:00<00:00, 137.04it/s, loss=3.44]\n"
          ]
        },
        {
          "name": "stdout",
          "output_type": "stream",
          "text": [
            "Epoch [281/3000]: Train loss: 4.0894, Valid loss: 4.3865\n"
          ]
        },
        {
          "name": "stderr",
          "output_type": "stream",
          "text": [
            "Epoch [282/3000]: 100%|██████████| 9/9 [00:00<00:00, 126.86it/s, loss=4.86]\n"
          ]
        },
        {
          "name": "stdout",
          "output_type": "stream",
          "text": [
            "Epoch [282/3000]: Train loss: 4.1695, Valid loss: 4.2191\n"
          ]
        },
        {
          "name": "stderr",
          "output_type": "stream",
          "text": [
            "Epoch [283/3000]: 100%|██████████| 9/9 [00:00<00:00, 115.40it/s, loss=3.2]"
          ]
        },
        {
          "name": "stdout",
          "output_type": "stream",
          "text": [
            "Epoch [283/3000]: Train loss: 4.0596, Valid loss: 3.6723"
          ]
        },
        {
          "name": "stderr",
          "output_type": "stream",
          "text": [
            "\n"
          ]
        },
        {
          "name": "stdout",
          "output_type": "stream",
          "text": [
            "\n"
          ]
        },
        {
          "name": "stderr",
          "output_type": "stream",
          "text": [
            "Epoch [284/3000]: 100%|██████████| 9/9 [00:00<00:00, 130.10it/s, loss=4.03]\n"
          ]
        },
        {
          "name": "stdout",
          "output_type": "stream",
          "text": [
            "Epoch [284/3000]: Train loss: 4.1060, Valid loss: 4.0898\n"
          ]
        },
        {
          "name": "stderr",
          "output_type": "stream",
          "text": [
            "Epoch [285/3000]: 100%|██████████| 9/9 [00:00<00:00, 130.41it/s, loss=4.25]\n"
          ]
        },
        {
          "name": "stdout",
          "output_type": "stream",
          "text": [
            "Epoch [285/3000]: Train loss: 4.1158, Valid loss: 4.1317\n"
          ]
        },
        {
          "name": "stderr",
          "output_type": "stream",
          "text": [
            "Epoch [286/3000]: 100%|██████████| 9/9 [00:00<00:00, 134.85it/s, loss=3.66]\n"
          ]
        },
        {
          "name": "stdout",
          "output_type": "stream",
          "text": [
            "Epoch [286/3000]: Train loss: 4.0712, Valid loss: 4.2550\n"
          ]
        },
        {
          "name": "stderr",
          "output_type": "stream",
          "text": [
            "Epoch [287/3000]: 100%|██████████| 9/9 [00:00<00:00, 134.16it/s, loss=3.37]\n"
          ]
        },
        {
          "name": "stdout",
          "output_type": "stream",
          "text": [
            "Epoch [287/3000]: Train loss: 4.0509, Valid loss: 4.2693\n"
          ]
        },
        {
          "name": "stderr",
          "output_type": "stream",
          "text": [
            "Epoch [288/3000]: 100%|██████████| 9/9 [00:00<00:00, 130.77it/s, loss=4.3]\n"
          ]
        },
        {
          "name": "stdout",
          "output_type": "stream",
          "text": [
            "Epoch [288/3000]: Train loss: 4.0993, Valid loss: 4.1040\n"
          ]
        },
        {
          "name": "stderr",
          "output_type": "stream",
          "text": [
            "Epoch [289/3000]: 100%|██████████| 9/9 [00:00<00:00, 141.56it/s, loss=3.72]\n"
          ]
        },
        {
          "name": "stdout",
          "output_type": "stream",
          "text": [
            "Epoch [289/3000]: Train loss: 4.0617, Valid loss: 4.1144\n"
          ]
        },
        {
          "name": "stderr",
          "output_type": "stream",
          "text": [
            "Epoch [290/3000]: 100%|██████████| 9/9 [00:00<00:00, 138.86it/s, loss=4.08]\n"
          ]
        },
        {
          "name": "stdout",
          "output_type": "stream",
          "text": [
            "Epoch [290/3000]: Train loss: 4.0739, Valid loss: 4.2640\n"
          ]
        },
        {
          "name": "stderr",
          "output_type": "stream",
          "text": [
            "Epoch [291/3000]: 100%|██████████| 9/9 [00:00<00:00, 40.89it/s, loss=2.88]\n"
          ]
        },
        {
          "name": "stdout",
          "output_type": "stream",
          "text": [
            "Epoch [291/3000]: Train loss: 3.9913, Valid loss: 4.6150\n"
          ]
        },
        {
          "name": "stderr",
          "output_type": "stream",
          "text": [
            "Epoch [292/3000]: 100%|██████████| 9/9 [00:00<00:00, 128.50it/s, loss=4.91]\n"
          ]
        },
        {
          "name": "stdout",
          "output_type": "stream",
          "text": [
            "Epoch [292/3000]: Train loss: 4.1133, Valid loss: 4.0875\n"
          ]
        },
        {
          "name": "stderr",
          "output_type": "stream",
          "text": [
            "Epoch [293/3000]: 100%|██████████| 9/9 [00:00<00:00, 123.89it/s, loss=3.82]\n"
          ]
        },
        {
          "name": "stdout",
          "output_type": "stream",
          "text": [
            "Epoch [293/3000]: Train loss: 4.0414, Valid loss: 3.9549\n"
          ]
        },
        {
          "name": "stderr",
          "output_type": "stream",
          "text": [
            "Epoch [294/3000]: 100%|██████████| 9/9 [00:00<00:00, 126.65it/s, loss=3.4]\n"
          ]
        },
        {
          "name": "stdout",
          "output_type": "stream",
          "text": [
            "Epoch [294/3000]: Train loss: 4.0082, Valid loss: 3.8954\n"
          ]
        },
        {
          "name": "stderr",
          "output_type": "stream",
          "text": [
            "Epoch [295/3000]: 100%|██████████| 9/9 [00:00<00:00, 138.47it/s, loss=4.4]\n"
          ]
        },
        {
          "name": "stdout",
          "output_type": "stream",
          "text": [
            "Epoch [295/3000]: Train loss: 4.0642, Valid loss: 3.6157\n"
          ]
        },
        {
          "name": "stderr",
          "output_type": "stream",
          "text": [
            "Epoch [296/3000]: 100%|██████████| 9/9 [00:00<00:00, 132.27it/s, loss=4.23]\n"
          ]
        },
        {
          "name": "stdout",
          "output_type": "stream",
          "text": [
            "Epoch [296/3000]: Train loss: 4.0503, Valid loss: 3.5564\n"
          ]
        },
        {
          "name": "stderr",
          "output_type": "stream",
          "text": [
            "Epoch [297/3000]: 100%|██████████| 9/9 [00:00<00:00, 134.69it/s, loss=4.72]\n"
          ]
        },
        {
          "name": "stdout",
          "output_type": "stream",
          "text": [
            "Epoch [297/3000]: Train loss: 4.0722, Valid loss: 3.8062\n"
          ]
        },
        {
          "name": "stderr",
          "output_type": "stream",
          "text": [
            "Epoch [298/3000]: 100%|██████████| 9/9 [00:00<00:00, 131.87it/s, loss=3.59]\n"
          ]
        },
        {
          "name": "stdout",
          "output_type": "stream",
          "text": [
            "Epoch [298/3000]: Train loss: 3.9955, Valid loss: 4.5688\n"
          ]
        },
        {
          "name": "stderr",
          "output_type": "stream",
          "text": [
            "Epoch [299/3000]: 100%|██████████| 9/9 [00:00<00:00, 140.08it/s, loss=4.82]\n"
          ]
        },
        {
          "name": "stdout",
          "output_type": "stream",
          "text": [
            "Epoch [299/3000]: Train loss: 4.0668, Valid loss: 3.8219\n"
          ]
        },
        {
          "name": "stderr",
          "output_type": "stream",
          "text": [
            "Epoch [300/3000]: 100%|██████████| 9/9 [00:00<00:00, 134.32it/s, loss=3.69]\n"
          ]
        },
        {
          "name": "stdout",
          "output_type": "stream",
          "text": [
            "Epoch [300/3000]: Train loss: 3.9919, Valid loss: 4.2520\n"
          ]
        },
        {
          "name": "stderr",
          "output_type": "stream",
          "text": [
            "Epoch [301/3000]: 100%|██████████| 9/9 [00:00<00:00, 128.56it/s, loss=3.9]\n"
          ]
        },
        {
          "name": "stdout",
          "output_type": "stream",
          "text": [
            "Epoch [301/3000]: Train loss: 4.0003, Valid loss: 4.9006\n"
          ]
        },
        {
          "name": "stderr",
          "output_type": "stream",
          "text": [
            "Epoch [302/3000]: 100%|██████████| 9/9 [00:00<00:00, 113.98it/s, loss=5.11]\n"
          ]
        },
        {
          "name": "stdout",
          "output_type": "stream",
          "text": [
            "Epoch [302/3000]: Train loss: 4.0666, Valid loss: 4.2328\n"
          ]
        },
        {
          "name": "stderr",
          "output_type": "stream",
          "text": [
            "Epoch [303/3000]: 100%|██████████| 9/9 [00:00<00:00, 105.38it/s, loss=4.69]\n"
          ]
        },
        {
          "name": "stdout",
          "output_type": "stream",
          "text": [
            "Epoch [303/3000]: Train loss: 4.0370, Valid loss: 3.7691\n"
          ]
        },
        {
          "name": "stderr",
          "output_type": "stream",
          "text": [
            "Epoch [304/3000]: 100%|██████████| 9/9 [00:00<00:00, 133.69it/s, loss=4.47]\n"
          ]
        },
        {
          "name": "stdout",
          "output_type": "stream",
          "text": [
            "Epoch [304/3000]: Train loss: 4.0155, Valid loss: 3.9168\n"
          ]
        },
        {
          "name": "stderr",
          "output_type": "stream",
          "text": [
            "Epoch [305/3000]: 100%|██████████| 9/9 [00:00<00:00, 126.41it/s, loss=3.53]\n"
          ]
        },
        {
          "name": "stdout",
          "output_type": "stream",
          "text": [
            "Epoch [305/3000]: Train loss: 3.9574, Valid loss: 3.3639\n"
          ]
        },
        {
          "name": "stderr",
          "output_type": "stream",
          "text": [
            "Epoch [306/3000]: 100%|██████████| 9/9 [00:00<00:00, 132.54it/s, loss=4.21]\n"
          ]
        },
        {
          "name": "stdout",
          "output_type": "stream",
          "text": [
            "Epoch [306/3000]: Train loss: 3.9885, Valid loss: 4.5726\n"
          ]
        },
        {
          "name": "stderr",
          "output_type": "stream",
          "text": [
            "Epoch [307/3000]: 100%|██████████| 9/9 [00:00<00:00, 131.06it/s, loss=4.49]\n"
          ]
        },
        {
          "name": "stdout",
          "output_type": "stream",
          "text": [
            "Epoch [307/3000]: Train loss: 4.0022, Valid loss: 3.6466\n"
          ]
        },
        {
          "name": "stderr",
          "output_type": "stream",
          "text": [
            "Epoch [308/3000]: 100%|██████████| 9/9 [00:00<00:00, 136.04it/s, loss=3.39]\n"
          ]
        },
        {
          "name": "stdout",
          "output_type": "stream",
          "text": [
            "Epoch [308/3000]: Train loss: 3.9274, Valid loss: 3.6547\n"
          ]
        },
        {
          "name": "stderr",
          "output_type": "stream",
          "text": [
            "Epoch [309/3000]: 100%|██████████| 9/9 [00:00<00:00, 126.89it/s, loss=3.45]\n"
          ]
        },
        {
          "name": "stdout",
          "output_type": "stream",
          "text": [
            "Epoch [309/3000]: Train loss: 3.9227, Valid loss: 4.1664\n"
          ]
        },
        {
          "name": "stderr",
          "output_type": "stream",
          "text": [
            "Epoch [310/3000]: 100%|██████████| 9/9 [00:00<00:00, 130.07it/s, loss=5.44]\n"
          ]
        },
        {
          "name": "stdout",
          "output_type": "stream",
          "text": [
            "Epoch [310/3000]: Train loss: 4.0409, Valid loss: 4.3661\n"
          ]
        },
        {
          "name": "stderr",
          "output_type": "stream",
          "text": [
            "Epoch [311/3000]: 100%|██████████| 9/9 [00:00<00:00, 130.49it/s, loss=4.55]\n"
          ]
        },
        {
          "name": "stdout",
          "output_type": "stream",
          "text": [
            "Epoch [311/3000]: Train loss: 3.9841, Valid loss: 3.6828\n"
          ]
        },
        {
          "name": "stderr",
          "output_type": "stream",
          "text": [
            "Epoch [312/3000]: 100%|██████████| 9/9 [00:00<00:00, 123.36it/s, loss=3.75]\n"
          ]
        },
        {
          "name": "stdout",
          "output_type": "stream",
          "text": [
            "Epoch [312/3000]: Train loss: 3.9302, Valid loss: 3.4735\n"
          ]
        },
        {
          "name": "stderr",
          "output_type": "stream",
          "text": [
            "Epoch [313/3000]: 100%|██████████| 9/9 [00:00<00:00, 143.95it/s, loss=4.75]\n"
          ]
        },
        {
          "name": "stdout",
          "output_type": "stream",
          "text": [
            "Epoch [313/3000]: Train loss: 3.9823, Valid loss: 3.6960\n"
          ]
        },
        {
          "name": "stderr",
          "output_type": "stream",
          "text": [
            "Epoch [314/3000]: 100%|██████████| 9/9 [00:00<00:00, 129.24it/s, loss=3.21]\n"
          ]
        },
        {
          "name": "stdout",
          "output_type": "stream",
          "text": [
            "Epoch [314/3000]: Train loss: 3.8804, Valid loss: 4.1947\n"
          ]
        },
        {
          "name": "stderr",
          "output_type": "stream",
          "text": [
            "Epoch [315/3000]: 100%|██████████| 9/9 [00:00<00:00, 128.00it/s, loss=3.75]\n"
          ]
        },
        {
          "name": "stdout",
          "output_type": "stream",
          "text": [
            "Epoch [315/3000]: Train loss: 3.9117, Valid loss: 3.7917\n"
          ]
        },
        {
          "name": "stderr",
          "output_type": "stream",
          "text": [
            "Epoch [316/3000]: 100%|██████████| 9/9 [00:00<00:00, 139.89it/s, loss=3.25]\n"
          ]
        },
        {
          "name": "stdout",
          "output_type": "stream",
          "text": [
            "Epoch [316/3000]: Train loss: 3.8725, Valid loss: 3.8415\n"
          ]
        },
        {
          "name": "stderr",
          "output_type": "stream",
          "text": [
            "Epoch [317/3000]: 100%|██████████| 9/9 [00:00<00:00, 130.91it/s, loss=4.61]\n"
          ]
        },
        {
          "name": "stdout",
          "output_type": "stream",
          "text": [
            "Epoch [317/3000]: Train loss: 3.9501, Valid loss: 3.7663\n"
          ]
        },
        {
          "name": "stderr",
          "output_type": "stream",
          "text": [
            "Epoch [318/3000]: 100%|██████████| 9/9 [00:00<00:00, 131.23it/s, loss=3.7]\n"
          ]
        },
        {
          "name": "stdout",
          "output_type": "stream",
          "text": [
            "Epoch [318/3000]: Train loss: 3.8867, Valid loss: 3.6915\n"
          ]
        },
        {
          "name": "stderr",
          "output_type": "stream",
          "text": [
            "Epoch [319/3000]: 100%|██████████| 9/9 [00:00<00:00, 135.17it/s, loss=4.39]\n"
          ]
        },
        {
          "name": "stdout",
          "output_type": "stream",
          "text": [
            "Epoch [319/3000]: Train loss: 3.9292, Valid loss: 3.5663\n"
          ]
        },
        {
          "name": "stderr",
          "output_type": "stream",
          "text": [
            "Epoch [320/3000]: 100%|██████████| 9/9 [00:00<00:00, 136.29it/s, loss=4.05]\n"
          ]
        },
        {
          "name": "stdout",
          "output_type": "stream",
          "text": [
            "Epoch [320/3000]: Train loss: 3.8992, Valid loss: 4.2763\n"
          ]
        },
        {
          "name": "stderr",
          "output_type": "stream",
          "text": [
            "Epoch [321/3000]: 100%|██████████| 9/9 [00:00<00:00, 132.48it/s, loss=3.49]\n"
          ]
        },
        {
          "name": "stdout",
          "output_type": "stream",
          "text": [
            "Epoch [321/3000]: Train loss: 3.8592, Valid loss: 4.0854\n"
          ]
        },
        {
          "name": "stderr",
          "output_type": "stream",
          "text": [
            "Epoch [322/3000]: 100%|██████████| 9/9 [00:00<00:00, 134.97it/s, loss=2.8]\n"
          ]
        },
        {
          "name": "stdout",
          "output_type": "stream",
          "text": [
            "Epoch [322/3000]: Train loss: 3.8103, Valid loss: 3.9481\n"
          ]
        },
        {
          "name": "stderr",
          "output_type": "stream",
          "text": [
            "Epoch [323/3000]: 100%|██████████| 9/9 [00:00<00:00, 137.66it/s, loss=3.87]\n"
          ]
        },
        {
          "name": "stdout",
          "output_type": "stream",
          "text": [
            "Epoch [323/3000]: Train loss: 3.8714, Valid loss: 4.1040\n"
          ]
        },
        {
          "name": "stderr",
          "output_type": "stream",
          "text": [
            "Epoch [324/3000]: 100%|██████████| 9/9 [00:00<00:00, 80.73it/s, loss=4.04]\n"
          ]
        },
        {
          "name": "stdout",
          "output_type": "stream",
          "text": [
            "Epoch [324/3000]: Train loss: 3.8763, Valid loss: 4.1436\n"
          ]
        },
        {
          "name": "stderr",
          "output_type": "stream",
          "text": [
            "Epoch [325/3000]: 100%|██████████| 9/9 [00:00<00:00, 125.22it/s, loss=5.04]\n"
          ]
        },
        {
          "name": "stdout",
          "output_type": "stream",
          "text": [
            "Epoch [325/3000]: Train loss: 3.9368, Valid loss: 4.0429\n"
          ]
        },
        {
          "name": "stderr",
          "output_type": "stream",
          "text": [
            "Epoch [326/3000]: 100%|██████████| 9/9 [00:00<00:00, 133.27it/s, loss=3.97]\n"
          ]
        },
        {
          "name": "stdout",
          "output_type": "stream",
          "text": [
            "Epoch [326/3000]: Train loss: 3.8642, Valid loss: 3.9265\n"
          ]
        },
        {
          "name": "stderr",
          "output_type": "stream",
          "text": [
            "Epoch [327/3000]: 100%|██████████| 9/9 [00:00<00:00, 128.90it/s, loss=3.27]\n"
          ]
        },
        {
          "name": "stdout",
          "output_type": "stream",
          "text": [
            "Epoch [327/3000]: Train loss: 3.8120, Valid loss: 3.6992\n"
          ]
        },
        {
          "name": "stderr",
          "output_type": "stream",
          "text": [
            "Epoch [328/3000]: 100%|██████████| 9/9 [00:00<00:00, 139.94it/s, loss=3.68]\n"
          ]
        },
        {
          "name": "stdout",
          "output_type": "stream",
          "text": [
            "Epoch [328/3000]: Train loss: 3.8319, Valid loss: 4.0005\n"
          ]
        },
        {
          "name": "stderr",
          "output_type": "stream",
          "text": [
            "Epoch [329/3000]: 100%|██████████| 9/9 [00:00<00:00, 132.63it/s, loss=3.03]\n"
          ]
        },
        {
          "name": "stdout",
          "output_type": "stream",
          "text": [
            "Epoch [329/3000]: Train loss: 3.7876, Valid loss: 3.6599\n"
          ]
        },
        {
          "name": "stderr",
          "output_type": "stream",
          "text": [
            "Epoch [330/3000]: 100%|██████████| 9/9 [00:00<00:00, 135.72it/s, loss=2.57]\n"
          ]
        },
        {
          "name": "stdout",
          "output_type": "stream",
          "text": [
            "Epoch [330/3000]: Train loss: 3.7514, Valid loss: 3.4625\n"
          ]
        },
        {
          "name": "stderr",
          "output_type": "stream",
          "text": [
            "Epoch [331/3000]: 100%|██████████| 9/9 [00:00<00:00, 124.19it/s, loss=3.11]\n"
          ]
        },
        {
          "name": "stdout",
          "output_type": "stream",
          "text": [
            "Epoch [331/3000]: Train loss: 3.7818, Valid loss: 3.9721\n"
          ]
        },
        {
          "name": "stderr",
          "output_type": "stream",
          "text": [
            "Epoch [332/3000]: 100%|██████████| 9/9 [00:00<00:00, 127.30it/s, loss=3.3]\n"
          ]
        },
        {
          "name": "stdout",
          "output_type": "stream",
          "text": [
            "Epoch [332/3000]: Train loss: 3.7880, Valid loss: 4.3438\n"
          ]
        },
        {
          "name": "stderr",
          "output_type": "stream",
          "text": [
            "Epoch [333/3000]: 100%|██████████| 9/9 [00:00<00:00, 122.33it/s, loss=4.72]\n"
          ]
        },
        {
          "name": "stdout",
          "output_type": "stream",
          "text": [
            "Epoch [333/3000]: Train loss: 3.8696, Valid loss: 3.6786\n"
          ]
        },
        {
          "name": "stderr",
          "output_type": "stream",
          "text": [
            "Epoch [334/3000]: 100%|██████████| 9/9 [00:00<00:00, 116.57it/s, loss=3.83]"
          ]
        },
        {
          "name": "stdout",
          "output_type": "stream",
          "text": [
            "Epoch [334/3000]: Train loss: 3.8117, Valid loss: 3.2910\n"
          ]
        },
        {
          "name": "stderr",
          "output_type": "stream",
          "text": [
            "\n",
            "Epoch [335/3000]: 100%|██████████| 9/9 [00:00<00:00, 145.16it/s, loss=3.76]\n"
          ]
        },
        {
          "name": "stdout",
          "output_type": "stream",
          "text": [
            "Epoch [335/3000]: Train loss: 3.8014, Valid loss: 3.1164\n",
            "Saving model with loss 3.116...\n"
          ]
        },
        {
          "name": "stderr",
          "output_type": "stream",
          "text": [
            "Epoch [336/3000]: 100%|██████████| 9/9 [00:00<00:00, 130.08it/s, loss=3.81]\n"
          ]
        },
        {
          "name": "stdout",
          "output_type": "stream",
          "text": [
            "Epoch [336/3000]: Train loss: 3.7987, Valid loss: 3.9246\n"
          ]
        },
        {
          "name": "stderr",
          "output_type": "stream",
          "text": [
            "Epoch [337/3000]: 100%|██████████| 9/9 [00:00<00:00, 127.77it/s, loss=3.73]\n"
          ]
        },
        {
          "name": "stdout",
          "output_type": "stream",
          "text": [
            "Epoch [337/3000]: Train loss: 3.7851, Valid loss: 3.5541\n"
          ]
        },
        {
          "name": "stderr",
          "output_type": "stream",
          "text": [
            "Epoch [338/3000]: 100%|██████████| 9/9 [00:00<00:00, 125.63it/s, loss=3.86]\n"
          ]
        },
        {
          "name": "stdout",
          "output_type": "stream",
          "text": [
            "Epoch [338/3000]: Train loss: 3.7936, Valid loss: 3.9081\n"
          ]
        },
        {
          "name": "stderr",
          "output_type": "stream",
          "text": [
            "Epoch [339/3000]: 100%|██████████| 9/9 [00:00<00:00, 130.60it/s, loss=2.21]\n"
          ]
        },
        {
          "name": "stdout",
          "output_type": "stream",
          "text": [
            "Epoch [339/3000]: Train loss: 3.6808, Valid loss: 3.7155\n"
          ]
        },
        {
          "name": "stderr",
          "output_type": "stream",
          "text": [
            "Epoch [340/3000]: 100%|██████████| 9/9 [00:00<00:00, 96.97it/s, loss=4.42]\n"
          ]
        },
        {
          "name": "stdout",
          "output_type": "stream",
          "text": [
            "Epoch [340/3000]: Train loss: 3.8145, Valid loss: 3.1681\n"
          ]
        },
        {
          "name": "stderr",
          "output_type": "stream",
          "text": [
            "Epoch [341/3000]: 100%|██████████| 9/9 [00:00<00:00, 129.42it/s, loss=3.73]"
          ]
        },
        {
          "name": "stdout",
          "output_type": "stream",
          "text": [
            "Epoch [341/3000]: Train loss: 3.7691, Valid loss: 3.3510"
          ]
        },
        {
          "name": "stderr",
          "output_type": "stream",
          "text": [
            "\n"
          ]
        },
        {
          "name": "stdout",
          "output_type": "stream",
          "text": [
            "\n"
          ]
        },
        {
          "name": "stderr",
          "output_type": "stream",
          "text": [
            "Epoch [342/3000]: 100%|██████████| 9/9 [00:00<00:00, 80.34it/s, loss=4.23]\n"
          ]
        },
        {
          "name": "stdout",
          "output_type": "stream",
          "text": [
            "Epoch [342/3000]: Train loss: 3.7917, Valid loss: 3.4314\n"
          ]
        },
        {
          "name": "stderr",
          "output_type": "stream",
          "text": [
            "Epoch [343/3000]: 100%|██████████| 9/9 [00:00<00:00, 130.12it/s, loss=3.58]\n"
          ]
        },
        {
          "name": "stdout",
          "output_type": "stream",
          "text": [
            "Epoch [343/3000]: Train loss: 3.7511, Valid loss: 4.1984\n"
          ]
        },
        {
          "name": "stderr",
          "output_type": "stream",
          "text": [
            "Epoch [344/3000]: 100%|██████████| 9/9 [00:00<00:00, 130.63it/s, loss=4.13]\n"
          ]
        },
        {
          "name": "stdout",
          "output_type": "stream",
          "text": [
            "Epoch [344/3000]: Train loss: 3.7746, Valid loss: 3.3513\n"
          ]
        },
        {
          "name": "stderr",
          "output_type": "stream",
          "text": [
            "Epoch [345/3000]: 100%|██████████| 9/9 [00:00<00:00, 136.19it/s, loss=3.45]\n"
          ]
        },
        {
          "name": "stdout",
          "output_type": "stream",
          "text": [
            "Epoch [345/3000]: Train loss: 3.7287, Valid loss: 3.2140\n"
          ]
        },
        {
          "name": "stderr",
          "output_type": "stream",
          "text": [
            "Epoch [346/3000]: 100%|██████████| 9/9 [00:00<00:00, 100.33it/s, loss=4.72]\n"
          ]
        },
        {
          "name": "stdout",
          "output_type": "stream",
          "text": [
            "Epoch [346/3000]: Train loss: 3.8027, Valid loss: 3.6881\n"
          ]
        },
        {
          "name": "stderr",
          "output_type": "stream",
          "text": [
            "Epoch [347/3000]: 100%|██████████| 9/9 [00:00<00:00, 130.07it/s, loss=4.15]\n"
          ]
        },
        {
          "name": "stdout",
          "output_type": "stream",
          "text": [
            "Epoch [347/3000]: Train loss: 3.7618, Valid loss: 3.8061\n"
          ]
        },
        {
          "name": "stderr",
          "output_type": "stream",
          "text": [
            "Epoch [348/3000]: 100%|██████████| 9/9 [00:00<00:00, 102.73it/s, loss=3.65]\n"
          ]
        },
        {
          "name": "stdout",
          "output_type": "stream",
          "text": [
            "Epoch [348/3000]: Train loss: 3.7298, Valid loss: 3.9540\n"
          ]
        },
        {
          "name": "stderr",
          "output_type": "stream",
          "text": [
            "Epoch [349/3000]: 100%|██████████| 9/9 [00:00<00:00, 124.93it/s, loss=2.62]\n"
          ]
        },
        {
          "name": "stdout",
          "output_type": "stream",
          "text": [
            "Epoch [349/3000]: Train loss: 3.6546, Valid loss: 3.4025\n"
          ]
        },
        {
          "name": "stderr",
          "output_type": "stream",
          "text": [
            "Epoch [350/3000]: 100%|██████████| 9/9 [00:00<00:00, 130.84it/s, loss=3.17]\n"
          ]
        },
        {
          "name": "stdout",
          "output_type": "stream",
          "text": [
            "Epoch [350/3000]: Train loss: 3.6860, Valid loss: 3.3225\n"
          ]
        },
        {
          "name": "stderr",
          "output_type": "stream",
          "text": [
            "Epoch [351/3000]: 100%|██████████| 9/9 [00:00<00:00, 130.02it/s, loss=3.23]\n"
          ]
        },
        {
          "name": "stdout",
          "output_type": "stream",
          "text": [
            "Epoch [351/3000]: Train loss: 3.6832, Valid loss: 3.6925\n"
          ]
        },
        {
          "name": "stderr",
          "output_type": "stream",
          "text": [
            "Epoch [352/3000]: 100%|██████████| 9/9 [00:00<00:00, 127.53it/s, loss=3.5]\n"
          ]
        },
        {
          "name": "stdout",
          "output_type": "stream",
          "text": [
            "Epoch [352/3000]: Train loss: 3.6955, Valid loss: 3.4640\n"
          ]
        },
        {
          "name": "stderr",
          "output_type": "stream",
          "text": [
            "Epoch [353/3000]: 100%|██████████| 9/9 [00:00<00:00, 119.41it/s, loss=4.28]"
          ]
        },
        {
          "name": "stdout",
          "output_type": "stream",
          "text": [
            "Epoch [353/3000]: Train loss: 3.7372, Valid loss: 3.5988"
          ]
        },
        {
          "name": "stderr",
          "output_type": "stream",
          "text": [
            "\n"
          ]
        },
        {
          "name": "stdout",
          "output_type": "stream",
          "text": [
            "\n"
          ]
        },
        {
          "name": "stderr",
          "output_type": "stream",
          "text": [
            "Epoch [354/3000]: 100%|██████████| 9/9 [00:00<00:00, 113.28it/s, loss=4.76]\n"
          ]
        },
        {
          "name": "stdout",
          "output_type": "stream",
          "text": [
            "Epoch [354/3000]: Train loss: 3.7617, Valid loss: 3.8943\n"
          ]
        },
        {
          "name": "stderr",
          "output_type": "stream",
          "text": [
            "Epoch [355/3000]: 100%|██████████| 9/9 [00:00<00:00, 131.48it/s, loss=3.03]\n"
          ]
        },
        {
          "name": "stdout",
          "output_type": "stream",
          "text": [
            "Epoch [355/3000]: Train loss: 3.6507, Valid loss: 3.8477\n"
          ]
        },
        {
          "name": "stderr",
          "output_type": "stream",
          "text": [
            "Epoch [356/3000]: 100%|██████████| 9/9 [00:00<00:00, 132.14it/s, loss=3.08]\n"
          ]
        },
        {
          "name": "stdout",
          "output_type": "stream",
          "text": [
            "Epoch [356/3000]: Train loss: 3.6486, Valid loss: 3.7870\n"
          ]
        },
        {
          "name": "stderr",
          "output_type": "stream",
          "text": [
            "Epoch [357/3000]: 100%|██████████| 9/9 [00:00<00:00, 131.16it/s, loss=3.84]\n"
          ]
        },
        {
          "name": "stdout",
          "output_type": "stream",
          "text": [
            "Epoch [357/3000]: Train loss: 3.6960, Valid loss: 3.8603\n"
          ]
        },
        {
          "name": "stderr",
          "output_type": "stream",
          "text": [
            "Epoch [358/3000]: 100%|██████████| 9/9 [00:00<00:00, 94.76it/s, loss=3.47]\n"
          ]
        },
        {
          "name": "stdout",
          "output_type": "stream",
          "text": [
            "Epoch [358/3000]: Train loss: 3.6619, Valid loss: 3.6712\n"
          ]
        },
        {
          "name": "stderr",
          "output_type": "stream",
          "text": [
            "Epoch [359/3000]: 100%|██████████| 9/9 [00:00<00:00, 110.73it/s, loss=3.58]\n"
          ]
        },
        {
          "name": "stdout",
          "output_type": "stream",
          "text": [
            "Epoch [359/3000]: Train loss: 3.6641, Valid loss: 3.2137\n"
          ]
        },
        {
          "name": "stderr",
          "output_type": "stream",
          "text": [
            "Epoch [360/3000]: 100%|██████████| 9/9 [00:00<00:00, 121.27it/s, loss=3.1]\n"
          ]
        },
        {
          "name": "stdout",
          "output_type": "stream",
          "text": [
            "Epoch [360/3000]: Train loss: 3.6288, Valid loss: 3.7388\n"
          ]
        },
        {
          "name": "stderr",
          "output_type": "stream",
          "text": [
            "Epoch [361/3000]: 100%|██████████| 9/9 [00:00<00:00, 117.91it/s, loss=3.65]\n"
          ]
        },
        {
          "name": "stdout",
          "output_type": "stream",
          "text": [
            "Epoch [361/3000]: Train loss: 3.6566, Valid loss: 3.4412\n"
          ]
        },
        {
          "name": "stderr",
          "output_type": "stream",
          "text": [
            "Epoch [362/3000]: 100%|██████████| 9/9 [00:00<00:00, 121.73it/s, loss=3.45]\n"
          ]
        },
        {
          "name": "stdout",
          "output_type": "stream",
          "text": [
            "Epoch [362/3000]: Train loss: 3.6395, Valid loss: 3.6853\n"
          ]
        },
        {
          "name": "stderr",
          "output_type": "stream",
          "text": [
            "Epoch [363/3000]: 100%|██████████| 9/9 [00:00<00:00, 113.75it/s, loss=3.78]\n"
          ]
        },
        {
          "name": "stdout",
          "output_type": "stream",
          "text": [
            "Epoch [363/3000]: Train loss: 3.6544, Valid loss: 3.2799\n"
          ]
        },
        {
          "name": "stderr",
          "output_type": "stream",
          "text": [
            "Epoch [364/3000]: 100%|██████████| 9/9 [00:00<00:00, 115.10it/s, loss=2.94]\n"
          ]
        },
        {
          "name": "stdout",
          "output_type": "stream",
          "text": [
            "Epoch [364/3000]: Train loss: 3.5982, Valid loss: 3.7348\n"
          ]
        },
        {
          "name": "stderr",
          "output_type": "stream",
          "text": [
            "Epoch [365/3000]: 100%|██████████| 9/9 [00:00<00:00, 113.44it/s, loss=3.38]"
          ]
        },
        {
          "name": "stdout",
          "output_type": "stream",
          "text": [
            "Epoch [365/3000]: Train loss: 3.6203, Valid loss: 3.3919"
          ]
        },
        {
          "name": "stderr",
          "output_type": "stream",
          "text": [
            "\n"
          ]
        },
        {
          "name": "stdout",
          "output_type": "stream",
          "text": [
            "\n"
          ]
        },
        {
          "name": "stderr",
          "output_type": "stream",
          "text": [
            "Epoch [366/3000]: 100%|██████████| 9/9 [00:00<00:00, 113.49it/s, loss=3.38]\n"
          ]
        },
        {
          "name": "stdout",
          "output_type": "stream",
          "text": [
            "Epoch [366/3000]: Train loss: 3.6150, Valid loss: 2.7983\n",
            "Saving model with loss 2.798...\n"
          ]
        },
        {
          "name": "stderr",
          "output_type": "stream",
          "text": [
            "Epoch [367/3000]: 100%|██████████| 9/9 [00:00<00:00, 116.52it/s, loss=3.93]\n"
          ]
        },
        {
          "name": "stdout",
          "output_type": "stream",
          "text": [
            "Epoch [367/3000]: Train loss: 3.6490, Valid loss: 3.4124\n"
          ]
        },
        {
          "name": "stderr",
          "output_type": "stream",
          "text": [
            "Epoch [368/3000]: 100%|██████████| 9/9 [00:00<00:00, 37.96it/s, loss=3.89]\n"
          ]
        },
        {
          "name": "stdout",
          "output_type": "stream",
          "text": [
            "Epoch [368/3000]: Train loss: 3.6371, Valid loss: 3.6398\n"
          ]
        },
        {
          "name": "stderr",
          "output_type": "stream",
          "text": [
            "Epoch [369/3000]: 100%|██████████| 9/9 [00:00<00:00, 118.87it/s, loss=3.71]\n"
          ]
        },
        {
          "name": "stdout",
          "output_type": "stream",
          "text": [
            "Epoch [369/3000]: Train loss: 3.6225, Valid loss: 3.8304\n"
          ]
        },
        {
          "name": "stderr",
          "output_type": "stream",
          "text": [
            "Epoch [370/3000]: 100%|██████████| 9/9 [00:00<00:00, 117.29it/s, loss=3.07]\n"
          ]
        },
        {
          "name": "stdout",
          "output_type": "stream",
          "text": [
            "Epoch [370/3000]: Train loss: 3.5747, Valid loss: 4.1457\n"
          ]
        },
        {
          "name": "stderr",
          "output_type": "stream",
          "text": [
            "Epoch [371/3000]: 100%|██████████| 9/9 [00:00<00:00, 116.54it/s, loss=2.66]\n"
          ]
        },
        {
          "name": "stdout",
          "output_type": "stream",
          "text": [
            "Epoch [371/3000]: Train loss: 3.5477, Valid loss: 3.4513\n"
          ]
        },
        {
          "name": "stderr",
          "output_type": "stream",
          "text": [
            "Epoch [372/3000]: 100%|██████████| 9/9 [00:00<00:00, 122.71it/s, loss=3.17]\n"
          ]
        },
        {
          "name": "stdout",
          "output_type": "stream",
          "text": [
            "Epoch [372/3000]: Train loss: 3.5706, Valid loss: 3.4981\n"
          ]
        },
        {
          "name": "stderr",
          "output_type": "stream",
          "text": [
            "Epoch [373/3000]: 100%|██████████| 9/9 [00:00<00:00, 114.72it/s, loss=3.33]\n"
          ]
        },
        {
          "name": "stdout",
          "output_type": "stream",
          "text": [
            "Epoch [373/3000]: Train loss: 3.5777, Valid loss: 3.1315\n"
          ]
        },
        {
          "name": "stderr",
          "output_type": "stream",
          "text": [
            "Epoch [374/3000]: 100%|██████████| 9/9 [00:00<00:00, 118.52it/s, loss=2.31]\n"
          ]
        },
        {
          "name": "stdout",
          "output_type": "stream",
          "text": [
            "Epoch [374/3000]: Train loss: 3.5074, Valid loss: 3.7248\n"
          ]
        },
        {
          "name": "stderr",
          "output_type": "stream",
          "text": [
            "Epoch [375/3000]: 100%|██████████| 9/9 [00:00<00:00, 98.63it/s, loss=3.24]\n"
          ]
        },
        {
          "name": "stdout",
          "output_type": "stream",
          "text": [
            "Epoch [375/3000]: Train loss: 3.5632, Valid loss: 3.2269\n"
          ]
        },
        {
          "name": "stderr",
          "output_type": "stream",
          "text": [
            "Epoch [376/3000]: 100%|██████████| 9/9 [00:00<00:00, 122.93it/s, loss=5.15]\n"
          ]
        },
        {
          "name": "stdout",
          "output_type": "stream",
          "text": [
            "Epoch [376/3000]: Train loss: 3.6777, Valid loss: 3.3470\n"
          ]
        },
        {
          "name": "stderr",
          "output_type": "stream",
          "text": [
            "Epoch [377/3000]: 100%|██████████| 9/9 [00:00<00:00, 117.05it/s, loss=4.15]\n"
          ]
        },
        {
          "name": "stdout",
          "output_type": "stream",
          "text": [
            "Epoch [377/3000]: Train loss: 3.6091, Valid loss: 3.4500\n"
          ]
        },
        {
          "name": "stderr",
          "output_type": "stream",
          "text": [
            "Epoch [378/3000]: 100%|██████████| 9/9 [00:00<00:00, 143.21it/s, loss=3.32]\n"
          ]
        },
        {
          "name": "stdout",
          "output_type": "stream",
          "text": [
            "Epoch [378/3000]: Train loss: 3.5533, Valid loss: 2.8425\n"
          ]
        },
        {
          "name": "stderr",
          "output_type": "stream",
          "text": [
            "Epoch [379/3000]: 100%|██████████| 9/9 [00:00<00:00, 131.11it/s, loss=3.57]\n"
          ]
        },
        {
          "name": "stdout",
          "output_type": "stream",
          "text": [
            "Epoch [379/3000]: Train loss: 3.5651, Valid loss: 3.3848\n"
          ]
        },
        {
          "name": "stderr",
          "output_type": "stream",
          "text": [
            "Epoch [380/3000]: 100%|██████████| 9/9 [00:00<00:00, 128.46it/s, loss=3.4]\n"
          ]
        },
        {
          "name": "stdout",
          "output_type": "stream",
          "text": [
            "Epoch [380/3000]: Train loss: 3.5467, Valid loss: 3.0336\n"
          ]
        },
        {
          "name": "stderr",
          "output_type": "stream",
          "text": [
            "Epoch [381/3000]: 100%|██████████| 9/9 [00:00<00:00, 136.96it/s, loss=3.21]\n"
          ]
        },
        {
          "name": "stdout",
          "output_type": "stream",
          "text": [
            "Epoch [381/3000]: Train loss: 3.5285, Valid loss: 2.8530\n"
          ]
        },
        {
          "name": "stderr",
          "output_type": "stream",
          "text": [
            "Epoch [382/3000]: 100%|██████████| 9/9 [00:00<00:00, 128.25it/s, loss=3.6]\n"
          ]
        },
        {
          "name": "stdout",
          "output_type": "stream",
          "text": [
            "Epoch [382/3000]: Train loss: 3.5516, Valid loss: 3.0617\n"
          ]
        },
        {
          "name": "stderr",
          "output_type": "stream",
          "text": [
            "Epoch [383/3000]: 100%|██████████| 9/9 [00:00<00:00, 133.86it/s, loss=3.34]\n"
          ]
        },
        {
          "name": "stdout",
          "output_type": "stream",
          "text": [
            "Epoch [383/3000]: Train loss: 3.5290, Valid loss: 4.0560\n"
          ]
        },
        {
          "name": "stderr",
          "output_type": "stream",
          "text": [
            "Epoch [384/3000]: 100%|██████████| 9/9 [00:00<00:00, 127.39it/s, loss=3.33]\n"
          ]
        },
        {
          "name": "stdout",
          "output_type": "stream",
          "text": [
            "Epoch [384/3000]: Train loss: 3.5229, Valid loss: 3.7838\n"
          ]
        },
        {
          "name": "stderr",
          "output_type": "stream",
          "text": [
            "Epoch [385/3000]: 100%|██████████| 9/9 [00:00<00:00, 135.65it/s, loss=3.61]\n"
          ]
        },
        {
          "name": "stdout",
          "output_type": "stream",
          "text": [
            "Epoch [385/3000]: Train loss: 3.5368, Valid loss: 3.2186\n"
          ]
        },
        {
          "name": "stderr",
          "output_type": "stream",
          "text": [
            "Epoch [386/3000]: 100%|██████████| 9/9 [00:00<00:00, 125.55it/s, loss=3.47]\n"
          ]
        },
        {
          "name": "stdout",
          "output_type": "stream",
          "text": [
            "Epoch [386/3000]: Train loss: 3.5231, Valid loss: 3.1682\n"
          ]
        },
        {
          "name": "stderr",
          "output_type": "stream",
          "text": [
            "Epoch [387/3000]: 100%|██████████| 9/9 [00:00<00:00, 138.21it/s, loss=5.36]\n"
          ]
        },
        {
          "name": "stdout",
          "output_type": "stream",
          "text": [
            "Epoch [387/3000]: Train loss: 3.6351, Valid loss: 3.4196\n"
          ]
        },
        {
          "name": "stderr",
          "output_type": "stream",
          "text": [
            "Epoch [388/3000]: 100%|██████████| 9/9 [00:00<00:00, 139.11it/s, loss=3.62]\n"
          ]
        },
        {
          "name": "stdout",
          "output_type": "stream",
          "text": [
            "Epoch [388/3000]: Train loss: 3.5213, Valid loss: 4.1997\n"
          ]
        },
        {
          "name": "stderr",
          "output_type": "stream",
          "text": [
            "Epoch [389/3000]: 100%|██████████| 9/9 [00:00<00:00, 96.23it/s, loss=3.53]\n"
          ]
        },
        {
          "name": "stdout",
          "output_type": "stream",
          "text": [
            "Epoch [389/3000]: Train loss: 3.5119, Valid loss: 3.3702\n"
          ]
        },
        {
          "name": "stderr",
          "output_type": "stream",
          "text": [
            "Epoch [390/3000]: 100%|██████████| 9/9 [00:00<00:00, 120.52it/s, loss=3.72]\n"
          ]
        },
        {
          "name": "stdout",
          "output_type": "stream",
          "text": [
            "Epoch [390/3000]: Train loss: 3.5167, Valid loss: 3.2356\n"
          ]
        },
        {
          "name": "stderr",
          "output_type": "stream",
          "text": [
            "Epoch [391/3000]: 100%|██████████| 9/9 [00:00<00:00, 85.49it/s, loss=3.33]\n"
          ]
        },
        {
          "name": "stdout",
          "output_type": "stream",
          "text": [
            "Epoch [391/3000]: Train loss: 3.4893, Valid loss: 2.9729\n"
          ]
        },
        {
          "name": "stderr",
          "output_type": "stream",
          "text": [
            "Epoch [392/3000]: 100%|██████████| 9/9 [00:00<00:00, 108.04it/s, loss=3.79]\n"
          ]
        },
        {
          "name": "stdout",
          "output_type": "stream",
          "text": [
            "Epoch [392/3000]: Train loss: 3.5184, Valid loss: 3.2314\n"
          ]
        },
        {
          "name": "stderr",
          "output_type": "stream",
          "text": [
            "Epoch [393/3000]: 100%|██████████| 9/9 [00:00<00:00, 114.65it/s, loss=3.47]\n"
          ]
        },
        {
          "name": "stdout",
          "output_type": "stream",
          "text": [
            "Epoch [393/3000]: Train loss: 3.4883, Valid loss: 3.2598\n"
          ]
        },
        {
          "name": "stderr",
          "output_type": "stream",
          "text": [
            "Epoch [394/3000]: 100%|██████████| 9/9 [00:00<00:00, 117.32it/s, loss=3.25]"
          ]
        },
        {
          "name": "stdout",
          "output_type": "stream",
          "text": [
            "Epoch [394/3000]: Train loss: 3.4712, Valid loss: 4.2391"
          ]
        },
        {
          "name": "stderr",
          "output_type": "stream",
          "text": [
            "\n"
          ]
        },
        {
          "name": "stdout",
          "output_type": "stream",
          "text": [
            "\n"
          ]
        },
        {
          "name": "stderr",
          "output_type": "stream",
          "text": [
            "Epoch [395/3000]: 100%|██████████| 9/9 [00:00<00:00, 112.93it/s, loss=3.02]"
          ]
        },
        {
          "name": "stdout",
          "output_type": "stream",
          "text": [
            "Epoch [395/3000]: Train loss: 3.4519, Valid loss: 3.1552"
          ]
        },
        {
          "name": "stderr",
          "output_type": "stream",
          "text": [
            "\n"
          ]
        },
        {
          "name": "stdout",
          "output_type": "stream",
          "text": [
            "\n"
          ]
        },
        {
          "name": "stderr",
          "output_type": "stream",
          "text": [
            "Epoch [396/3000]: 100%|██████████| 9/9 [00:00<00:00, 105.87it/s, loss=2.98]\n"
          ]
        },
        {
          "name": "stdout",
          "output_type": "stream",
          "text": [
            "Epoch [396/3000]: Train loss: 3.4438, Valid loss: 3.6094\n"
          ]
        },
        {
          "name": "stderr",
          "output_type": "stream",
          "text": [
            "Epoch [397/3000]: 100%|██████████| 9/9 [00:00<00:00, 114.78it/s, loss=4.14]\n"
          ]
        },
        {
          "name": "stdout",
          "output_type": "stream",
          "text": [
            "Epoch [397/3000]: Train loss: 3.5135, Valid loss: 4.4942\n"
          ]
        },
        {
          "name": "stderr",
          "output_type": "stream",
          "text": [
            "Epoch [398/3000]: 100%|██████████| 9/9 [00:00<00:00, 117.65it/s, loss=3.22]\n"
          ]
        },
        {
          "name": "stdout",
          "output_type": "stream",
          "text": [
            "Epoch [398/3000]: Train loss: 3.4514, Valid loss: 3.8348\n"
          ]
        },
        {
          "name": "stderr",
          "output_type": "stream",
          "text": [
            "Epoch [399/3000]: 100%|██████████| 9/9 [00:00<00:00, 116.32it/s, loss=3.11]\n"
          ]
        },
        {
          "name": "stdout",
          "output_type": "stream",
          "text": [
            "Epoch [399/3000]: Train loss: 3.4428, Valid loss: 3.9363\n"
          ]
        },
        {
          "name": "stderr",
          "output_type": "stream",
          "text": [
            "Epoch [400/3000]: 100%|██████████| 9/9 [00:00<00:00, 116.71it/s, loss=2.84]\n"
          ]
        },
        {
          "name": "stdout",
          "output_type": "stream",
          "text": [
            "Epoch [400/3000]: Train loss: 3.4171, Valid loss: 4.3747\n"
          ]
        },
        {
          "name": "stderr",
          "output_type": "stream",
          "text": [
            "Epoch [401/3000]: 100%|██████████| 9/9 [00:00<00:00, 112.65it/s, loss=4.34]\n"
          ]
        },
        {
          "name": "stdout",
          "output_type": "stream",
          "text": [
            "Epoch [401/3000]: Train loss: 3.5070, Valid loss: 3.3566\n"
          ]
        },
        {
          "name": "stderr",
          "output_type": "stream",
          "text": [
            "Epoch [402/3000]: 100%|██████████| 9/9 [00:00<00:00, 118.96it/s, loss=2.63]"
          ]
        },
        {
          "name": "stdout",
          "output_type": "stream",
          "text": [
            "Epoch [402/3000]: Train loss: 3.3948, Valid loss: 3.4394"
          ]
        },
        {
          "name": "stderr",
          "output_type": "stream",
          "text": [
            "\n"
          ]
        },
        {
          "name": "stdout",
          "output_type": "stream",
          "text": [
            "\n"
          ]
        },
        {
          "name": "stderr",
          "output_type": "stream",
          "text": [
            "Epoch [403/3000]: 100%|██████████| 9/9 [00:00<00:00, 125.42it/s, loss=3.17]\n"
          ]
        },
        {
          "name": "stdout",
          "output_type": "stream",
          "text": [
            "Epoch [403/3000]: Train loss: 3.4260, Valid loss: 2.8867\n"
          ]
        },
        {
          "name": "stderr",
          "output_type": "stream",
          "text": [
            "Epoch [404/3000]: 100%|██████████| 9/9 [00:00<00:00, 135.61it/s, loss=2.58]\n"
          ]
        },
        {
          "name": "stdout",
          "output_type": "stream",
          "text": [
            "Epoch [404/3000]: Train loss: 3.3815, Valid loss: 3.0677\n"
          ]
        },
        {
          "name": "stderr",
          "output_type": "stream",
          "text": [
            "Epoch [405/3000]: 100%|██████████| 9/9 [00:00<00:00, 119.09it/s, loss=5.22]\n"
          ]
        },
        {
          "name": "stdout",
          "output_type": "stream",
          "text": [
            "Epoch [405/3000]: Train loss: 3.5423, Valid loss: 2.9633\n"
          ]
        },
        {
          "name": "stderr",
          "output_type": "stream",
          "text": [
            "Epoch [406/3000]: 100%|██████████| 9/9 [00:00<00:00, 117.84it/s, loss=3.33]\n"
          ]
        },
        {
          "name": "stdout",
          "output_type": "stream",
          "text": [
            "Epoch [406/3000]: Train loss: 3.4217, Valid loss: 3.2530\n"
          ]
        },
        {
          "name": "stderr",
          "output_type": "stream",
          "text": [
            "Epoch [407/3000]: 100%|██████████| 9/9 [00:00<00:00, 83.70it/s, loss=3.1]\n"
          ]
        },
        {
          "name": "stdout",
          "output_type": "stream",
          "text": [
            "Epoch [407/3000]: Train loss: 3.3997, Valid loss: 3.6302\n"
          ]
        },
        {
          "name": "stderr",
          "output_type": "stream",
          "text": [
            "Epoch [408/3000]: 100%|██████████| 9/9 [00:00<00:00, 128.46it/s, loss=3.91]\n"
          ]
        },
        {
          "name": "stdout",
          "output_type": "stream",
          "text": [
            "Epoch [408/3000]: Train loss: 3.4458, Valid loss: 3.0661\n"
          ]
        },
        {
          "name": "stderr",
          "output_type": "stream",
          "text": [
            "Epoch [409/3000]: 100%|██████████| 9/9 [00:00<00:00, 122.70it/s, loss=2.97]\n"
          ]
        },
        {
          "name": "stdout",
          "output_type": "stream",
          "text": [
            "Epoch [409/3000]: Train loss: 3.3824, Valid loss: 2.8900\n"
          ]
        },
        {
          "name": "stderr",
          "output_type": "stream",
          "text": [
            "Epoch [410/3000]: 100%|██████████| 9/9 [00:00<00:00, 129.25it/s, loss=3.29]\n"
          ]
        },
        {
          "name": "stdout",
          "output_type": "stream",
          "text": [
            "Epoch [410/3000]: Train loss: 3.3978, Valid loss: 3.8873\n"
          ]
        },
        {
          "name": "stderr",
          "output_type": "stream",
          "text": [
            "Epoch [411/3000]: 100%|██████████| 9/9 [00:00<00:00, 133.99it/s, loss=3.54]\n"
          ]
        },
        {
          "name": "stdout",
          "output_type": "stream",
          "text": [
            "Epoch [411/3000]: Train loss: 3.4084, Valid loss: 3.8253\n"
          ]
        },
        {
          "name": "stderr",
          "output_type": "stream",
          "text": [
            "Epoch [412/3000]: 100%|██████████| 9/9 [00:00<00:00, 117.27it/s, loss=3.24]\n"
          ]
        },
        {
          "name": "stdout",
          "output_type": "stream",
          "text": [
            "Epoch [412/3000]: Train loss: 3.3867, Valid loss: 3.5540\n"
          ]
        },
        {
          "name": "stderr",
          "output_type": "stream",
          "text": [
            "Epoch [413/3000]: 100%|██████████| 9/9 [00:00<00:00, 119.88it/s, loss=3.8]\n"
          ]
        },
        {
          "name": "stdout",
          "output_type": "stream",
          "text": [
            "Epoch [413/3000]: Train loss: 3.4213, Valid loss: 3.4824\n"
          ]
        },
        {
          "name": "stderr",
          "output_type": "stream",
          "text": [
            "Epoch [414/3000]: 100%|██████████| 9/9 [00:00<00:00, 123.95it/s, loss=3.3]\n"
          ]
        },
        {
          "name": "stdout",
          "output_type": "stream",
          "text": [
            "Epoch [414/3000]: Train loss: 3.3824, Valid loss: 3.7178\n"
          ]
        },
        {
          "name": "stderr",
          "output_type": "stream",
          "text": [
            "Epoch [415/3000]: 100%|██████████| 9/9 [00:00<00:00, 122.17it/s, loss=2.82]\n"
          ]
        },
        {
          "name": "stdout",
          "output_type": "stream",
          "text": [
            "Epoch [415/3000]: Train loss: 3.3475, Valid loss: 3.5086\n"
          ]
        },
        {
          "name": "stderr",
          "output_type": "stream",
          "text": [
            "Epoch [416/3000]: 100%|██████████| 9/9 [00:00<00:00, 113.29it/s, loss=3.25]\n"
          ]
        },
        {
          "name": "stdout",
          "output_type": "stream",
          "text": [
            "Epoch [416/3000]: Train loss: 3.3692, Valid loss: 3.4508\n"
          ]
        },
        {
          "name": "stderr",
          "output_type": "stream",
          "text": [
            "Epoch [417/3000]: 100%|██████████| 9/9 [00:00<00:00, 119.72it/s, loss=2.71]"
          ]
        },
        {
          "name": "stdout",
          "output_type": "stream",
          "text": [
            "Epoch [417/3000]: Train loss: 3.3344, Valid loss: 3.1948"
          ]
        },
        {
          "name": "stderr",
          "output_type": "stream",
          "text": [
            "\n"
          ]
        },
        {
          "name": "stdout",
          "output_type": "stream",
          "text": [
            "\n"
          ]
        },
        {
          "name": "stderr",
          "output_type": "stream",
          "text": [
            "Epoch [418/3000]: 100%|██████████| 9/9 [00:00<00:00, 116.33it/s, loss=2.82]"
          ]
        },
        {
          "name": "stdout",
          "output_type": "stream",
          "text": [
            "Epoch [418/3000]: Train loss: 3.3330, Valid loss: 3.8033"
          ]
        },
        {
          "name": "stderr",
          "output_type": "stream",
          "text": [
            "\n"
          ]
        },
        {
          "name": "stdout",
          "output_type": "stream",
          "text": [
            "\n"
          ]
        },
        {
          "name": "stderr",
          "output_type": "stream",
          "text": [
            "Epoch [419/3000]: 100%|██████████| 9/9 [00:00<00:00, 120.68it/s, loss=3.57]\n"
          ]
        },
        {
          "name": "stdout",
          "output_type": "stream",
          "text": [
            "Epoch [419/3000]: Train loss: 3.3808, Valid loss: 3.7290\n"
          ]
        },
        {
          "name": "stderr",
          "output_type": "stream",
          "text": [
            "Epoch [420/3000]: 100%|██████████| 9/9 [00:00<00:00, 119.16it/s, loss=3.18]\n"
          ]
        },
        {
          "name": "stdout",
          "output_type": "stream",
          "text": [
            "Epoch [420/3000]: Train loss: 3.3459, Valid loss: 3.2272\n"
          ]
        },
        {
          "name": "stderr",
          "output_type": "stream",
          "text": [
            "Epoch [421/3000]: 100%|██████████| 9/9 [00:00<00:00, 121.64it/s, loss=3.52]\n"
          ]
        },
        {
          "name": "stdout",
          "output_type": "stream",
          "text": [
            "Epoch [421/3000]: Train loss: 3.3625, Valid loss: 3.0199\n"
          ]
        },
        {
          "name": "stderr",
          "output_type": "stream",
          "text": [
            "Epoch [422/3000]: 100%|██████████| 9/9 [00:00<00:00, 72.53it/s, loss=3.91]\n"
          ]
        },
        {
          "name": "stdout",
          "output_type": "stream",
          "text": [
            "Epoch [422/3000]: Train loss: 3.3855, Valid loss: 2.8417\n"
          ]
        },
        {
          "name": "stderr",
          "output_type": "stream",
          "text": [
            "Epoch [423/3000]: 100%|██████████| 9/9 [00:00<00:00, 119.90it/s, loss=3.36]\n"
          ]
        },
        {
          "name": "stdout",
          "output_type": "stream",
          "text": [
            "Epoch [423/3000]: Train loss: 3.3482, Valid loss: 3.1207\n"
          ]
        },
        {
          "name": "stderr",
          "output_type": "stream",
          "text": [
            "Epoch [424/3000]: 100%|██████████| 9/9 [00:00<00:00, 118.57it/s, loss=3.9]\n"
          ]
        },
        {
          "name": "stdout",
          "output_type": "stream",
          "text": [
            "Epoch [424/3000]: Train loss: 3.3719, Valid loss: 3.5029\n"
          ]
        },
        {
          "name": "stderr",
          "output_type": "stream",
          "text": [
            "Epoch [425/3000]: 100%|██████████| 9/9 [00:00<00:00, 105.11it/s, loss=2.68]\n"
          ]
        },
        {
          "name": "stdout",
          "output_type": "stream",
          "text": [
            "Epoch [425/3000]: Train loss: 3.2925, Valid loss: 3.3666\n"
          ]
        },
        {
          "name": "stderr",
          "output_type": "stream",
          "text": [
            "Epoch [426/3000]: 100%|██████████| 9/9 [00:00<00:00, 108.44it/s, loss=4.31]\n"
          ]
        },
        {
          "name": "stdout",
          "output_type": "stream",
          "text": [
            "Epoch [426/3000]: Train loss: 3.3912, Valid loss: 2.8420\n"
          ]
        },
        {
          "name": "stderr",
          "output_type": "stream",
          "text": [
            "Epoch [427/3000]: 100%|██████████| 9/9 [00:00<00:00, 115.88it/s, loss=4.07]\n"
          ]
        },
        {
          "name": "stdout",
          "output_type": "stream",
          "text": [
            "Epoch [427/3000]: Train loss: 3.3712, Valid loss: 2.8897\n"
          ]
        },
        {
          "name": "stderr",
          "output_type": "stream",
          "text": [
            "Epoch [428/3000]: 100%|██████████| 9/9 [00:00<00:00, 122.80it/s, loss=4.67]"
          ]
        },
        {
          "name": "stdout",
          "output_type": "stream",
          "text": [
            "Epoch [428/3000]: Train loss: 3.4025, Valid loss: 2.8868"
          ]
        },
        {
          "name": "stderr",
          "output_type": "stream",
          "text": [
            "\n"
          ]
        },
        {
          "name": "stdout",
          "output_type": "stream",
          "text": [
            "\n"
          ]
        },
        {
          "name": "stderr",
          "output_type": "stream",
          "text": [
            "Epoch [429/3000]: 100%|██████████| 9/9 [00:00<00:00, 121.81it/s, loss=3.26]\n"
          ]
        },
        {
          "name": "stdout",
          "output_type": "stream",
          "text": [
            "Epoch [429/3000]: Train loss: 3.3097, Valid loss: 4.2368\n"
          ]
        },
        {
          "name": "stderr",
          "output_type": "stream",
          "text": [
            "Epoch [430/3000]: 100%|██████████| 9/9 [00:00<00:00, 131.94it/s, loss=3.3]\n"
          ]
        },
        {
          "name": "stdout",
          "output_type": "stream",
          "text": [
            "Epoch [430/3000]: Train loss: 3.3078, Valid loss: 2.7238\n",
            "Saving model with loss 2.724...\n"
          ]
        },
        {
          "name": "stderr",
          "output_type": "stream",
          "text": [
            "Epoch [431/3000]: 100%|██████████| 9/9 [00:00<00:00, 121.11it/s, loss=2.66]\n"
          ]
        },
        {
          "name": "stdout",
          "output_type": "stream",
          "text": [
            "Epoch [431/3000]: Train loss: 3.2629, Valid loss: 3.0042\n"
          ]
        },
        {
          "name": "stderr",
          "output_type": "stream",
          "text": [
            "Epoch [432/3000]: 100%|██████████| 9/9 [00:00<00:00, 119.52it/s, loss=3.48]\n"
          ]
        },
        {
          "name": "stdout",
          "output_type": "stream",
          "text": [
            "Epoch [432/3000]: Train loss: 3.3106, Valid loss: 3.6023\n"
          ]
        },
        {
          "name": "stderr",
          "output_type": "stream",
          "text": [
            "Epoch [433/3000]: 100%|██████████| 9/9 [00:00<00:00, 124.29it/s, loss=2.65]\n"
          ]
        },
        {
          "name": "stdout",
          "output_type": "stream",
          "text": [
            "Epoch [433/3000]: Train loss: 3.2547, Valid loss: 3.6332\n"
          ]
        },
        {
          "name": "stderr",
          "output_type": "stream",
          "text": [
            "Epoch [434/3000]: 100%|██████████| 9/9 [00:00<00:00, 115.81it/s, loss=3.21]\n"
          ]
        },
        {
          "name": "stdout",
          "output_type": "stream",
          "text": [
            "Epoch [434/3000]: Train loss: 3.2870, Valid loss: 3.3268\n"
          ]
        },
        {
          "name": "stderr",
          "output_type": "stream",
          "text": [
            "Epoch [435/3000]: 100%|██████████| 9/9 [00:00<00:00, 75.32it/s, loss=3.33]\n"
          ]
        },
        {
          "name": "stdout",
          "output_type": "stream",
          "text": [
            "Epoch [435/3000]: Train loss: 3.2888, Valid loss: 3.3530\n"
          ]
        },
        {
          "name": "stderr",
          "output_type": "stream",
          "text": [
            "Epoch [436/3000]: 100%|██████████| 9/9 [00:00<00:00, 124.97it/s, loss=3.69]\n"
          ]
        },
        {
          "name": "stdout",
          "output_type": "stream",
          "text": [
            "Epoch [436/3000]: Train loss: 3.3066, Valid loss: 3.3543\n"
          ]
        },
        {
          "name": "stderr",
          "output_type": "stream",
          "text": [
            "Epoch [437/3000]: 100%|██████████| 9/9 [00:00<00:00, 113.07it/s, loss=2.89]\n"
          ]
        },
        {
          "name": "stdout",
          "output_type": "stream",
          "text": [
            "Epoch [437/3000]: Train loss: 3.2534, Valid loss: 3.5059\n"
          ]
        },
        {
          "name": "stderr",
          "output_type": "stream",
          "text": [
            "Epoch [438/3000]: 100%|██████████| 9/9 [00:00<00:00, 115.49it/s, loss=3.48]\n"
          ]
        },
        {
          "name": "stdout",
          "output_type": "stream",
          "text": [
            "Epoch [438/3000]: Train loss: 3.2846, Valid loss: 3.1966\n"
          ]
        },
        {
          "name": "stderr",
          "output_type": "stream",
          "text": [
            "Epoch [439/3000]: 100%|██████████| 9/9 [00:00<00:00, 119.34it/s, loss=3.53]\n"
          ]
        },
        {
          "name": "stdout",
          "output_type": "stream",
          "text": [
            "Epoch [439/3000]: Train loss: 3.2844, Valid loss: 3.3978\n"
          ]
        },
        {
          "name": "stderr",
          "output_type": "stream",
          "text": [
            "Epoch [440/3000]: 100%|██████████| 9/9 [00:00<00:00, 122.96it/s, loss=3.91]\n"
          ]
        },
        {
          "name": "stdout",
          "output_type": "stream",
          "text": [
            "Epoch [440/3000]: Train loss: 3.3021, Valid loss: 3.0678\n"
          ]
        },
        {
          "name": "stderr",
          "output_type": "stream",
          "text": [
            "Epoch [441/3000]: 100%|██████████| 9/9 [00:00<00:00, 125.34it/s, loss=2.84]\n"
          ]
        },
        {
          "name": "stdout",
          "output_type": "stream",
          "text": [
            "Epoch [441/3000]: Train loss: 3.2327, Valid loss: 3.2400\n"
          ]
        },
        {
          "name": "stderr",
          "output_type": "stream",
          "text": [
            "Epoch [442/3000]: 100%|██████████| 9/9 [00:00<00:00, 133.05it/s, loss=3.2]\n"
          ]
        },
        {
          "name": "stdout",
          "output_type": "stream",
          "text": [
            "Epoch [442/3000]: Train loss: 3.2501, Valid loss: 4.1244\n"
          ]
        },
        {
          "name": "stderr",
          "output_type": "stream",
          "text": [
            "Epoch [443/3000]: 100%|██████████| 9/9 [00:00<00:00, 126.84it/s, loss=2.66]\n"
          ]
        },
        {
          "name": "stdout",
          "output_type": "stream",
          "text": [
            "Epoch [443/3000]: Train loss: 3.2120, Valid loss: 2.9026\n"
          ]
        },
        {
          "name": "stderr",
          "output_type": "stream",
          "text": [
            "Epoch [444/3000]: 100%|██████████| 9/9 [00:00<00:00, 126.47it/s, loss=3.06]\n"
          ]
        },
        {
          "name": "stdout",
          "output_type": "stream",
          "text": [
            "Epoch [444/3000]: Train loss: 3.2343, Valid loss: 3.5506\n"
          ]
        },
        {
          "name": "stderr",
          "output_type": "stream",
          "text": [
            "Epoch [445/3000]: 100%|██████████| 9/9 [00:00<00:00, 41.10it/s, loss=3.06]\n"
          ]
        },
        {
          "name": "stdout",
          "output_type": "stream",
          "text": [
            "Epoch [445/3000]: Train loss: 3.2289, Valid loss: 3.1023\n"
          ]
        },
        {
          "name": "stderr",
          "output_type": "stream",
          "text": [
            "Epoch [446/3000]: 100%|██████████| 9/9 [00:00<00:00, 125.92it/s, loss=3.55]\n"
          ]
        },
        {
          "name": "stdout",
          "output_type": "stream",
          "text": [
            "Epoch [446/3000]: Train loss: 3.2540, Valid loss: 3.4555\n"
          ]
        },
        {
          "name": "stderr",
          "output_type": "stream",
          "text": [
            "Epoch [447/3000]: 100%|██████████| 9/9 [00:00<00:00, 129.31it/s, loss=3.19]\n"
          ]
        },
        {
          "name": "stdout",
          "output_type": "stream",
          "text": [
            "Epoch [447/3000]: Train loss: 3.2285, Valid loss: 3.1394\n"
          ]
        },
        {
          "name": "stderr",
          "output_type": "stream",
          "text": [
            "Epoch [448/3000]: 100%|██████████| 9/9 [00:00<00:00, 126.09it/s, loss=2.61]\n"
          ]
        },
        {
          "name": "stdout",
          "output_type": "stream",
          "text": [
            "Epoch [448/3000]: Train loss: 3.1888, Valid loss: 3.0947\n"
          ]
        },
        {
          "name": "stderr",
          "output_type": "stream",
          "text": [
            "Epoch [449/3000]: 100%|██████████| 9/9 [00:00<00:00, 123.45it/s, loss=3.9]\n"
          ]
        },
        {
          "name": "stdout",
          "output_type": "stream",
          "text": [
            "Epoch [449/3000]: Train loss: 3.2625, Valid loss: 3.3875\n"
          ]
        },
        {
          "name": "stderr",
          "output_type": "stream",
          "text": [
            "Epoch [450/3000]: 100%|██████████| 9/9 [00:00<00:00, 121.85it/s, loss=3.32]\n"
          ]
        },
        {
          "name": "stdout",
          "output_type": "stream",
          "text": [
            "Epoch [450/3000]: Train loss: 3.2256, Valid loss: 3.4199\n"
          ]
        },
        {
          "name": "stderr",
          "output_type": "stream",
          "text": [
            "Epoch [451/3000]: 100%|██████████| 9/9 [00:00<00:00, 122.69it/s, loss=2.43]\n"
          ]
        },
        {
          "name": "stdout",
          "output_type": "stream",
          "text": [
            "Epoch [451/3000]: Train loss: 3.1671, Valid loss: 3.2061\n"
          ]
        },
        {
          "name": "stderr",
          "output_type": "stream",
          "text": [
            "Epoch [452/3000]: 100%|██████████| 9/9 [00:00<00:00, 92.96it/s, loss=3.79]\n"
          ]
        },
        {
          "name": "stdout",
          "output_type": "stream",
          "text": [
            "Epoch [452/3000]: Train loss: 3.2448, Valid loss: 3.2246\n"
          ]
        },
        {
          "name": "stderr",
          "output_type": "stream",
          "text": [
            "Epoch [453/3000]: 100%|██████████| 9/9 [00:00<00:00, 124.43it/s, loss=3.17]\n"
          ]
        },
        {
          "name": "stdout",
          "output_type": "stream",
          "text": [
            "Epoch [453/3000]: Train loss: 3.2036, Valid loss: 3.4908\n"
          ]
        },
        {
          "name": "stderr",
          "output_type": "stream",
          "text": [
            "Epoch [454/3000]: 100%|██████████| 9/9 [00:00<00:00, 129.69it/s, loss=3.06]\n"
          ]
        },
        {
          "name": "stdout",
          "output_type": "stream",
          "text": [
            "Epoch [454/3000]: Train loss: 3.1890, Valid loss: 2.8417\n"
          ]
        },
        {
          "name": "stderr",
          "output_type": "stream",
          "text": [
            "Epoch [455/3000]: 100%|██████████| 9/9 [00:00<00:00, 120.55it/s, loss=2.99]\n"
          ]
        },
        {
          "name": "stdout",
          "output_type": "stream",
          "text": [
            "Epoch [455/3000]: Train loss: 3.1816, Valid loss: 3.0326\n"
          ]
        },
        {
          "name": "stderr",
          "output_type": "stream",
          "text": [
            "Epoch [456/3000]: 100%|██████████| 9/9 [00:00<00:00, 119.87it/s, loss=2.97]\n"
          ]
        },
        {
          "name": "stdout",
          "output_type": "stream",
          "text": [
            "Epoch [456/3000]: Train loss: 3.1748, Valid loss: 3.2755\n"
          ]
        },
        {
          "name": "stderr",
          "output_type": "stream",
          "text": [
            "Epoch [457/3000]: 100%|██████████| 9/9 [00:00<00:00, 120.81it/s, loss=2.73]\n"
          ]
        },
        {
          "name": "stdout",
          "output_type": "stream",
          "text": [
            "Epoch [457/3000]: Train loss: 3.1590, Valid loss: 3.7314\n"
          ]
        },
        {
          "name": "stderr",
          "output_type": "stream",
          "text": [
            "Epoch [458/3000]: 100%|██████████| 9/9 [00:00<00:00, 126.41it/s, loss=3.13]\n"
          ]
        },
        {
          "name": "stdout",
          "output_type": "stream",
          "text": [
            "Epoch [458/3000]: Train loss: 3.1803, Valid loss: 2.8463\n"
          ]
        },
        {
          "name": "stderr",
          "output_type": "stream",
          "text": [
            "Epoch [459/3000]: 100%|██████████| 9/9 [00:00<00:00, 129.59it/s, loss=3.57]\n"
          ]
        },
        {
          "name": "stdout",
          "output_type": "stream",
          "text": [
            "Epoch [459/3000]: Train loss: 3.2058, Valid loss: 3.2118\n"
          ]
        },
        {
          "name": "stderr",
          "output_type": "stream",
          "text": [
            "Epoch [460/3000]: 100%|██████████| 9/9 [00:00<00:00, 119.22it/s, loss=4.22]\n"
          ]
        },
        {
          "name": "stdout",
          "output_type": "stream",
          "text": [
            "Epoch [460/3000]: Train loss: 3.2434, Valid loss: 3.2992\n"
          ]
        },
        {
          "name": "stderr",
          "output_type": "stream",
          "text": [
            "Epoch [461/3000]: 100%|██████████| 9/9 [00:00<00:00, 129.46it/s, loss=2.88]\n"
          ]
        },
        {
          "name": "stdout",
          "output_type": "stream",
          "text": [
            "Epoch [461/3000]: Train loss: 3.1507, Valid loss: 3.3514\n"
          ]
        },
        {
          "name": "stderr",
          "output_type": "stream",
          "text": [
            "Epoch [462/3000]: 100%|██████████| 9/9 [00:00<00:00, 130.11it/s, loss=3.52]\n"
          ]
        },
        {
          "name": "stdout",
          "output_type": "stream",
          "text": [
            "Epoch [462/3000]: Train loss: 3.1865, Valid loss: 2.8526\n"
          ]
        },
        {
          "name": "stderr",
          "output_type": "stream",
          "text": [
            "Epoch [463/3000]: 100%|██████████| 9/9 [00:00<00:00, 123.34it/s, loss=2.79]\n"
          ]
        },
        {
          "name": "stdout",
          "output_type": "stream",
          "text": [
            "Epoch [463/3000]: Train loss: 3.1369, Valid loss: 3.3427\n"
          ]
        },
        {
          "name": "stderr",
          "output_type": "stream",
          "text": [
            "Epoch [464/3000]: 100%|██████████| 9/9 [00:00<00:00, 116.60it/s, loss=3.57]\n"
          ]
        },
        {
          "name": "stdout",
          "output_type": "stream",
          "text": [
            "Epoch [464/3000]: Train loss: 3.1802, Valid loss: 3.3477\n"
          ]
        },
        {
          "name": "stderr",
          "output_type": "stream",
          "text": [
            "Epoch [465/3000]: 100%|██████████| 9/9 [00:00<00:00, 118.62it/s, loss=3.48]"
          ]
        },
        {
          "name": "stdout",
          "output_type": "stream",
          "text": [
            "Epoch [465/3000]: Train loss: 3.1746, Valid loss: 2.7450"
          ]
        },
        {
          "name": "stderr",
          "output_type": "stream",
          "text": [
            "\n"
          ]
        },
        {
          "name": "stdout",
          "output_type": "stream",
          "text": [
            "\n"
          ]
        },
        {
          "name": "stderr",
          "output_type": "stream",
          "text": [
            "Epoch [466/3000]: 100%|██████████| 9/9 [00:00<00:00, 109.14it/s, loss=3.01]"
          ]
        },
        {
          "name": "stdout",
          "output_type": "stream",
          "text": [
            "Epoch [466/3000]: Train loss: 3.1367, Valid loss: 3.2820"
          ]
        },
        {
          "name": "stderr",
          "output_type": "stream",
          "text": [
            "\n"
          ]
        },
        {
          "name": "stdout",
          "output_type": "stream",
          "text": [
            "\n"
          ]
        },
        {
          "name": "stderr",
          "output_type": "stream",
          "text": [
            "Epoch [467/3000]: 100%|██████████| 9/9 [00:00<00:00, 112.33it/s, loss=3.66]\n"
          ]
        },
        {
          "name": "stdout",
          "output_type": "stream",
          "text": [
            "Epoch [467/3000]: Train loss: 3.1727, Valid loss: 3.2202\n"
          ]
        },
        {
          "name": "stderr",
          "output_type": "stream",
          "text": [
            "Epoch [468/3000]: 100%|██████████| 9/9 [00:00<00:00, 61.74it/s, loss=4.17]\n"
          ]
        },
        {
          "name": "stdout",
          "output_type": "stream",
          "text": [
            "Epoch [468/3000]: Train loss: 3.2029, Valid loss: 2.9666\n"
          ]
        },
        {
          "name": "stderr",
          "output_type": "stream",
          "text": [
            "Epoch [469/3000]: 100%|██████████| 9/9 [00:00<00:00, 111.86it/s, loss=2.3]\n"
          ]
        },
        {
          "name": "stdout",
          "output_type": "stream",
          "text": [
            "Epoch [469/3000]: Train loss: 3.0833, Valid loss: 3.4883\n"
          ]
        },
        {
          "name": "stderr",
          "output_type": "stream",
          "text": [
            "Epoch [470/3000]: 100%|██████████| 9/9 [00:00<00:00, 114.28it/s, loss=3.27]\n"
          ]
        },
        {
          "name": "stdout",
          "output_type": "stream",
          "text": [
            "Epoch [470/3000]: Train loss: 3.1385, Valid loss: 3.6736\n"
          ]
        },
        {
          "name": "stderr",
          "output_type": "stream",
          "text": [
            "Epoch [471/3000]: 100%|██████████| 9/9 [00:00<00:00, 107.99it/s, loss=2.86]"
          ]
        },
        {
          "name": "stdout",
          "output_type": "stream",
          "text": [
            "Epoch [471/3000]: Train loss: 3.1079, Valid loss: 3.0252"
          ]
        },
        {
          "name": "stderr",
          "output_type": "stream",
          "text": [
            "\n"
          ]
        },
        {
          "name": "stdout",
          "output_type": "stream",
          "text": [
            "\n"
          ]
        },
        {
          "name": "stderr",
          "output_type": "stream",
          "text": [
            "Epoch [472/3000]: 100%|██████████| 9/9 [00:00<00:00, 109.71it/s, loss=3.32]\n"
          ]
        },
        {
          "name": "stdout",
          "output_type": "stream",
          "text": [
            "Epoch [472/3000]: Train loss: 3.1326, Valid loss: 3.0525\n"
          ]
        },
        {
          "name": "stderr",
          "output_type": "stream",
          "text": [
            "Epoch [473/3000]: 100%|██████████| 9/9 [00:00<00:00, 110.73it/s, loss=3.31]\n"
          ]
        },
        {
          "name": "stdout",
          "output_type": "stream",
          "text": [
            "Epoch [473/3000]: Train loss: 3.1287, Valid loss: 3.0802\n"
          ]
        },
        {
          "name": "stderr",
          "output_type": "stream",
          "text": [
            "Epoch [474/3000]: 100%|██████████| 9/9 [00:00<00:00, 109.17it/s, loss=2.52]\n"
          ]
        },
        {
          "name": "stdout",
          "output_type": "stream",
          "text": [
            "Epoch [474/3000]: Train loss: 3.0755, Valid loss: 3.3580\n"
          ]
        },
        {
          "name": "stderr",
          "output_type": "stream",
          "text": [
            "Epoch [475/3000]: 100%|██████████| 9/9 [00:00<00:00, 109.81it/s, loss=2.92]\n"
          ]
        },
        {
          "name": "stdout",
          "output_type": "stream",
          "text": [
            "Epoch [475/3000]: Train loss: 3.0956, Valid loss: 2.9029\n"
          ]
        },
        {
          "name": "stderr",
          "output_type": "stream",
          "text": [
            "Epoch [476/3000]: 100%|██████████| 9/9 [00:00<00:00, 107.37it/s, loss=3.5]\n"
          ]
        },
        {
          "name": "stdout",
          "output_type": "stream",
          "text": [
            "Epoch [476/3000]: Train loss: 3.1265, Valid loss: 3.0634\n"
          ]
        },
        {
          "name": "stderr",
          "output_type": "stream",
          "text": [
            "Epoch [477/3000]: 100%|██████████| 9/9 [00:00<00:00, 113.22it/s, loss=3.06]\n"
          ]
        },
        {
          "name": "stdout",
          "output_type": "stream",
          "text": [
            "Epoch [477/3000]: Train loss: 3.0966, Valid loss: 3.2635\n"
          ]
        },
        {
          "name": "stderr",
          "output_type": "stream",
          "text": [
            "Epoch [478/3000]: 100%|██████████| 9/9 [00:00<00:00, 107.60it/s, loss=3.45]\n"
          ]
        },
        {
          "name": "stdout",
          "output_type": "stream",
          "text": [
            "Epoch [478/3000]: Train loss: 3.1165, Valid loss: 3.0136\n"
          ]
        },
        {
          "name": "stderr",
          "output_type": "stream",
          "text": [
            "Epoch [479/3000]: 100%|██████████| 9/9 [00:00<00:00, 113.74it/s, loss=3.09]\n"
          ]
        },
        {
          "name": "stdout",
          "output_type": "stream",
          "text": [
            "Epoch [479/3000]: Train loss: 3.0901, Valid loss: 2.9669\n"
          ]
        },
        {
          "name": "stderr",
          "output_type": "stream",
          "text": [
            "Epoch [480/3000]: 100%|██████████| 9/9 [00:00<00:00, 112.23it/s, loss=3.06]\n"
          ]
        },
        {
          "name": "stdout",
          "output_type": "stream",
          "text": [
            "Epoch [480/3000]: Train loss: 3.0851, Valid loss: 3.2123\n"
          ]
        },
        {
          "name": "stderr",
          "output_type": "stream",
          "text": [
            "Epoch [481/3000]: 100%|██████████| 9/9 [00:00<00:00, 80.82it/s, loss=3.69]\n"
          ]
        },
        {
          "name": "stdout",
          "output_type": "stream",
          "text": [
            "Epoch [481/3000]: Train loss: 3.1199, Valid loss: 2.5121\n",
            "Saving model with loss 2.512...\n"
          ]
        },
        {
          "name": "stderr",
          "output_type": "stream",
          "text": [
            "Epoch [482/3000]: 100%|██████████| 9/9 [00:00<00:00, 111.10it/s, loss=3.02]\n"
          ]
        },
        {
          "name": "stdout",
          "output_type": "stream",
          "text": [
            "Epoch [482/3000]: Train loss: 3.0773, Valid loss: 3.1624\n"
          ]
        },
        {
          "name": "stderr",
          "output_type": "stream",
          "text": [
            "Epoch [483/3000]: 100%|██████████| 9/9 [00:00<00:00, 116.17it/s, loss=2.49]\n"
          ]
        },
        {
          "name": "stdout",
          "output_type": "stream",
          "text": [
            "Epoch [483/3000]: Train loss: 3.0382, Valid loss: 2.8623\n"
          ]
        },
        {
          "name": "stderr",
          "output_type": "stream",
          "text": [
            "Epoch [484/3000]: 100%|██████████| 9/9 [00:00<00:00, 111.54it/s, loss=3.23]"
          ]
        },
        {
          "name": "stdout",
          "output_type": "stream",
          "text": [
            "Epoch [484/3000]: Train loss: 3.0799, Valid loss: 3.0311"
          ]
        },
        {
          "name": "stderr",
          "output_type": "stream",
          "text": [
            "\n"
          ]
        },
        {
          "name": "stdout",
          "output_type": "stream",
          "text": [
            "\n"
          ]
        },
        {
          "name": "stderr",
          "output_type": "stream",
          "text": [
            "Epoch [485/3000]: 100%|██████████| 9/9 [00:00<00:00, 109.67it/s, loss=3.26]\n"
          ]
        },
        {
          "name": "stdout",
          "output_type": "stream",
          "text": [
            "Epoch [485/3000]: Train loss: 3.0798, Valid loss: 2.7194\n"
          ]
        },
        {
          "name": "stderr",
          "output_type": "stream",
          "text": [
            "Epoch [486/3000]: 100%|██████████| 9/9 [00:00<00:00, 115.39it/s, loss=3.63]\n"
          ]
        },
        {
          "name": "stdout",
          "output_type": "stream",
          "text": [
            "Epoch [486/3000]: Train loss: 3.0963, Valid loss: 3.0839\n"
          ]
        },
        {
          "name": "stderr",
          "output_type": "stream",
          "text": [
            "Epoch [487/3000]: 100%|██████████| 9/9 [00:00<00:00, 112.76it/s, loss=2.66]\n"
          ]
        },
        {
          "name": "stdout",
          "output_type": "stream",
          "text": [
            "Epoch [487/3000]: Train loss: 3.0330, Valid loss: 2.8989\n"
          ]
        },
        {
          "name": "stderr",
          "output_type": "stream",
          "text": [
            "Epoch [488/3000]: 100%|██████████| 9/9 [00:00<00:00, 111.06it/s, loss=2.97]\n"
          ]
        },
        {
          "name": "stdout",
          "output_type": "stream",
          "text": [
            "Epoch [488/3000]: Train loss: 3.0500, Valid loss: 3.5426\n"
          ]
        },
        {
          "name": "stderr",
          "output_type": "stream",
          "text": [
            "Epoch [489/3000]: 100%|██████████| 9/9 [00:00<00:00, 117.41it/s, loss=3.36]\n"
          ]
        },
        {
          "name": "stdout",
          "output_type": "stream",
          "text": [
            "Epoch [489/3000]: Train loss: 3.0679, Valid loss: 2.8686\n"
          ]
        },
        {
          "name": "stderr",
          "output_type": "stream",
          "text": [
            "Epoch [490/3000]: 100%|██████████| 9/9 [00:00<00:00, 123.02it/s, loss=2.45]\n"
          ]
        },
        {
          "name": "stdout",
          "output_type": "stream",
          "text": [
            "Epoch [490/3000]: Train loss: 3.0084, Valid loss: 3.0573\n"
          ]
        },
        {
          "name": "stderr",
          "output_type": "stream",
          "text": [
            "Epoch [491/3000]: 100%|██████████| 9/9 [00:00<00:00, 108.22it/s, loss=2.57]"
          ]
        },
        {
          "name": "stdout",
          "output_type": "stream",
          "text": [
            "Epoch [491/3000]: Train loss: 3.0133, Valid loss: 3.4462"
          ]
        },
        {
          "name": "stderr",
          "output_type": "stream",
          "text": [
            "\n"
          ]
        },
        {
          "name": "stdout",
          "output_type": "stream",
          "text": [
            "\n"
          ]
        },
        {
          "name": "stderr",
          "output_type": "stream",
          "text": [
            "Epoch [492/3000]: 100%|██████████| 9/9 [00:00<00:00, 126.07it/s, loss=2.68]\n"
          ]
        },
        {
          "name": "stdout",
          "output_type": "stream",
          "text": [
            "Epoch [492/3000]: Train loss: 3.0148, Valid loss: 3.3181\n"
          ]
        },
        {
          "name": "stderr",
          "output_type": "stream",
          "text": [
            "Epoch [493/3000]: 100%|██████████| 9/9 [00:00<00:00, 115.20it/s, loss=3.28]\n"
          ]
        },
        {
          "name": "stdout",
          "output_type": "stream",
          "text": [
            "Epoch [493/3000]: Train loss: 3.0476, Valid loss: 3.3009\n"
          ]
        },
        {
          "name": "stderr",
          "output_type": "stream",
          "text": [
            "Epoch [494/3000]: 100%|██████████| 9/9 [00:00<00:00, 113.15it/s, loss=2.49]"
          ]
        },
        {
          "name": "stdout",
          "output_type": "stream",
          "text": [
            "Epoch [494/3000]: Train loss: 2.9950, Valid loss: 2.9380"
          ]
        },
        {
          "name": "stderr",
          "output_type": "stream",
          "text": [
            "\n"
          ]
        },
        {
          "name": "stdout",
          "output_type": "stream",
          "text": [
            "\n"
          ]
        },
        {
          "name": "stderr",
          "output_type": "stream",
          "text": [
            "Epoch [495/3000]: 100%|██████████| 9/9 [00:00<00:00, 112.16it/s, loss=3.18]\n"
          ]
        },
        {
          "name": "stdout",
          "output_type": "stream",
          "text": [
            "Epoch [495/3000]: Train loss: 3.0361, Valid loss: 3.2950\n"
          ]
        },
        {
          "name": "stderr",
          "output_type": "stream",
          "text": [
            "Epoch [496/3000]: 100%|██████████| 9/9 [00:00<00:00, 124.93it/s, loss=2.45]"
          ]
        },
        {
          "name": "stdout",
          "output_type": "stream",
          "text": [
            "Epoch [496/3000]: Train loss: 2.9855, Valid loss: 2.8914\n"
          ]
        },
        {
          "name": "stderr",
          "output_type": "stream",
          "text": [
            "\n",
            "Epoch [497/3000]: 100%|██████████| 9/9 [00:00<00:00, 119.26it/s, loss=3.32]\n"
          ]
        },
        {
          "name": "stdout",
          "output_type": "stream",
          "text": [
            "Epoch [497/3000]: Train loss: 3.0399, Valid loss: 3.0162\n"
          ]
        },
        {
          "name": "stderr",
          "output_type": "stream",
          "text": [
            "Epoch [498/3000]: 100%|██████████| 9/9 [00:00<00:00, 124.08it/s, loss=3.76]\n"
          ]
        },
        {
          "name": "stdout",
          "output_type": "stream",
          "text": [
            "Epoch [498/3000]: Train loss: 3.0603, Valid loss: 3.0573\n"
          ]
        },
        {
          "name": "stderr",
          "output_type": "stream",
          "text": [
            "Epoch [499/3000]: 100%|██████████| 9/9 [00:00<00:00, 65.03it/s, loss=2.49]\n"
          ]
        },
        {
          "name": "stdout",
          "output_type": "stream",
          "text": [
            "Epoch [499/3000]: Train loss: 2.9772, Valid loss: 2.9614\n"
          ]
        },
        {
          "name": "stderr",
          "output_type": "stream",
          "text": [
            "Epoch [500/3000]: 100%|██████████| 9/9 [00:00<00:00, 120.26it/s, loss=2.81]\n"
          ]
        },
        {
          "name": "stdout",
          "output_type": "stream",
          "text": [
            "Epoch [500/3000]: Train loss: 2.9959, Valid loss: 2.9494\n"
          ]
        },
        {
          "name": "stderr",
          "output_type": "stream",
          "text": [
            "Epoch [501/3000]: 100%|██████████| 9/9 [00:00<00:00, 123.86it/s, loss=2.41]\n"
          ]
        },
        {
          "name": "stdout",
          "output_type": "stream",
          "text": [
            "Epoch [501/3000]: Train loss: 2.9681, Valid loss: 2.8478\n"
          ]
        },
        {
          "name": "stderr",
          "output_type": "stream",
          "text": [
            "Epoch [502/3000]: 100%|██████████| 9/9 [00:00<00:00, 85.47it/s, loss=2.59]\n"
          ]
        },
        {
          "name": "stdout",
          "output_type": "stream",
          "text": [
            "Epoch [502/3000]: Train loss: 2.9750, Valid loss: 3.3040\n"
          ]
        },
        {
          "name": "stderr",
          "output_type": "stream",
          "text": [
            "Epoch [503/3000]: 100%|██████████| 9/9 [00:00<00:00, 99.52it/s, loss=3.94]\n"
          ]
        },
        {
          "name": "stdout",
          "output_type": "stream",
          "text": [
            "Epoch [503/3000]: Train loss: 3.0523, Valid loss: 2.5117\n",
            "Saving model with loss 2.512...\n"
          ]
        },
        {
          "name": "stderr",
          "output_type": "stream",
          "text": [
            "Epoch [504/3000]: 100%|██████████| 9/9 [00:00<00:00, 96.54it/s, loss=3.03]\n"
          ]
        },
        {
          "name": "stdout",
          "output_type": "stream",
          "text": [
            "Epoch [504/3000]: Train loss: 2.9916, Valid loss: 3.1574\n"
          ]
        },
        {
          "name": "stderr",
          "output_type": "stream",
          "text": [
            "Epoch [505/3000]: 100%|██████████| 9/9 [00:00<00:00, 112.45it/s, loss=2.75]\n"
          ]
        },
        {
          "name": "stdout",
          "output_type": "stream",
          "text": [
            "Epoch [505/3000]: Train loss: 2.9708, Valid loss: 3.2952\n"
          ]
        },
        {
          "name": "stderr",
          "output_type": "stream",
          "text": [
            "Epoch [506/3000]: 100%|██████████| 9/9 [00:00<00:00, 121.05it/s, loss=4.46]\n"
          ]
        },
        {
          "name": "stdout",
          "output_type": "stream",
          "text": [
            "Epoch [506/3000]: Train loss: 3.0727, Valid loss: 2.8266\n"
          ]
        },
        {
          "name": "stderr",
          "output_type": "stream",
          "text": [
            "Epoch [507/3000]: 100%|██████████| 9/9 [00:00<00:00, 118.91it/s, loss=3.17]\n"
          ]
        },
        {
          "name": "stdout",
          "output_type": "stream",
          "text": [
            "Epoch [507/3000]: Train loss: 2.9939, Valid loss: 2.7398\n"
          ]
        },
        {
          "name": "stderr",
          "output_type": "stream",
          "text": [
            "Epoch [508/3000]: 100%|██████████| 9/9 [00:00<00:00, 111.37it/s, loss=2.96]\n"
          ]
        },
        {
          "name": "stdout",
          "output_type": "stream",
          "text": [
            "Epoch [508/3000]: Train loss: 2.9747, Valid loss: 3.5856\n"
          ]
        },
        {
          "name": "stderr",
          "output_type": "stream",
          "text": [
            "Epoch [509/3000]: 100%|██████████| 9/9 [00:00<00:00, 116.20it/s, loss=3.65]\n"
          ]
        },
        {
          "name": "stdout",
          "output_type": "stream",
          "text": [
            "Epoch [509/3000]: Train loss: 3.0189, Valid loss: 3.0569\n"
          ]
        },
        {
          "name": "stderr",
          "output_type": "stream",
          "text": [
            "Epoch [510/3000]: 100%|██████████| 9/9 [00:00<00:00, 129.80it/s, loss=3.24]\n"
          ]
        },
        {
          "name": "stdout",
          "output_type": "stream",
          "text": [
            "Epoch [510/3000]: Train loss: 2.9817, Valid loss: 2.5204\n"
          ]
        },
        {
          "name": "stderr",
          "output_type": "stream",
          "text": [
            "Epoch [511/3000]: 100%|██████████| 9/9 [00:00<00:00, 119.81it/s, loss=2.89]\n"
          ]
        },
        {
          "name": "stdout",
          "output_type": "stream",
          "text": [
            "Epoch [511/3000]: Train loss: 2.9582, Valid loss: 2.7738\n"
          ]
        },
        {
          "name": "stderr",
          "output_type": "stream",
          "text": [
            "Epoch [512/3000]: 100%|██████████| 9/9 [00:00<00:00, 120.30it/s, loss=2.62]"
          ]
        },
        {
          "name": "stdout",
          "output_type": "stream",
          "text": [
            "Epoch [512/3000]: Train loss: 2.9389, Valid loss: 3.0575"
          ]
        },
        {
          "name": "stderr",
          "output_type": "stream",
          "text": [
            "\n"
          ]
        },
        {
          "name": "stdout",
          "output_type": "stream",
          "text": [
            "\n"
          ]
        },
        {
          "name": "stderr",
          "output_type": "stream",
          "text": [
            "Epoch [513/3000]: 100%|██████████| 9/9 [00:00<00:00, 128.95it/s, loss=2.03]\n"
          ]
        },
        {
          "name": "stdout",
          "output_type": "stream",
          "text": [
            "Epoch [513/3000]: Train loss: 2.8953, Valid loss: 2.5947\n"
          ]
        },
        {
          "name": "stderr",
          "output_type": "stream",
          "text": [
            "Epoch [514/3000]: 100%|██████████| 9/9 [00:00<00:00, 114.21it/s, loss=2.97]\n"
          ]
        },
        {
          "name": "stdout",
          "output_type": "stream",
          "text": [
            "Epoch [514/3000]: Train loss: 2.9523, Valid loss: 2.5905\n"
          ]
        },
        {
          "name": "stderr",
          "output_type": "stream",
          "text": [
            "Epoch [515/3000]: 100%|██████████| 9/9 [00:00<00:00, 65.34it/s, loss=3.4] \n"
          ]
        },
        {
          "name": "stdout",
          "output_type": "stream",
          "text": [
            "Epoch [515/3000]: Train loss: 2.9735, Valid loss: 2.9193\n"
          ]
        },
        {
          "name": "stderr",
          "output_type": "stream",
          "text": [
            "Epoch [516/3000]: 100%|██████████| 9/9 [00:00<00:00, 104.88it/s, loss=3.3]\n"
          ]
        },
        {
          "name": "stdout",
          "output_type": "stream",
          "text": [
            "Epoch [516/3000]: Train loss: 2.9643, Valid loss: 2.5959\n"
          ]
        },
        {
          "name": "stderr",
          "output_type": "stream",
          "text": [
            "Epoch [517/3000]: 100%|██████████| 9/9 [00:00<00:00, 100.96it/s, loss=2.94]\n"
          ]
        },
        {
          "name": "stdout",
          "output_type": "stream",
          "text": [
            "Epoch [517/3000]: Train loss: 2.9407, Valid loss: 2.6341\n"
          ]
        },
        {
          "name": "stderr",
          "output_type": "stream",
          "text": [
            "Epoch [518/3000]: 100%|██████████| 9/9 [00:00<00:00, 106.71it/s, loss=2.13]\n"
          ]
        },
        {
          "name": "stdout",
          "output_type": "stream",
          "text": [
            "Epoch [518/3000]: Train loss: 2.8883, Valid loss: 2.7466\n"
          ]
        },
        {
          "name": "stderr",
          "output_type": "stream",
          "text": [
            "Epoch [519/3000]: 100%|██████████| 9/9 [00:00<00:00, 116.92it/s, loss=2.67]\n"
          ]
        },
        {
          "name": "stdout",
          "output_type": "stream",
          "text": [
            "Epoch [519/3000]: Train loss: 2.9167, Valid loss: 3.2876\n"
          ]
        },
        {
          "name": "stderr",
          "output_type": "stream",
          "text": [
            "Epoch [520/3000]: 100%|██████████| 9/9 [00:00<00:00, 127.74it/s, loss=3.22]\n"
          ]
        },
        {
          "name": "stdout",
          "output_type": "stream",
          "text": [
            "Epoch [520/3000]: Train loss: 2.9452, Valid loss: 2.9059\n"
          ]
        },
        {
          "name": "stderr",
          "output_type": "stream",
          "text": [
            "Epoch [521/3000]: 100%|██████████| 9/9 [00:00<00:00, 127.07it/s, loss=2.94]\n"
          ]
        },
        {
          "name": "stdout",
          "output_type": "stream",
          "text": [
            "Epoch [521/3000]: Train loss: 2.9247, Valid loss: 3.0989\n"
          ]
        },
        {
          "name": "stderr",
          "output_type": "stream",
          "text": [
            "Epoch [522/3000]: 100%|██████████| 9/9 [00:00<00:00, 40.79it/s, loss=2.69]\n"
          ]
        },
        {
          "name": "stdout",
          "output_type": "stream",
          "text": [
            "Epoch [522/3000]: Train loss: 2.9029, Valid loss: 2.7459\n"
          ]
        },
        {
          "name": "stderr",
          "output_type": "stream",
          "text": [
            "Epoch [523/3000]: 100%|██████████| 9/9 [00:00<00:00, 123.83it/s, loss=3.04]\n"
          ]
        },
        {
          "name": "stdout",
          "output_type": "stream",
          "text": [
            "Epoch [523/3000]: Train loss: 2.9255, Valid loss: 3.0420\n"
          ]
        },
        {
          "name": "stderr",
          "output_type": "stream",
          "text": [
            "Epoch [524/3000]: 100%|██████████| 9/9 [00:00<00:00, 132.53it/s, loss=2.96]\n"
          ]
        },
        {
          "name": "stdout",
          "output_type": "stream",
          "text": [
            "Epoch [524/3000]: Train loss: 2.9187, Valid loss: 2.9184\n"
          ]
        },
        {
          "name": "stderr",
          "output_type": "stream",
          "text": [
            "Epoch [525/3000]: 100%|██████████| 9/9 [00:00<00:00, 124.95it/s, loss=2.7]\n"
          ]
        },
        {
          "name": "stdout",
          "output_type": "stream",
          "text": [
            "Epoch [525/3000]: Train loss: 2.8952, Valid loss: 2.9821\n"
          ]
        },
        {
          "name": "stderr",
          "output_type": "stream",
          "text": [
            "Epoch [526/3000]: 100%|██████████| 9/9 [00:00<00:00, 123.11it/s, loss=3.3]\n"
          ]
        },
        {
          "name": "stdout",
          "output_type": "stream",
          "text": [
            "Epoch [526/3000]: Train loss: 2.9299, Valid loss: 2.6666\n"
          ]
        },
        {
          "name": "stderr",
          "output_type": "stream",
          "text": [
            "Epoch [527/3000]: 100%|██████████| 9/9 [00:00<00:00, 109.56it/s, loss=3.19]"
          ]
        },
        {
          "name": "stdout",
          "output_type": "stream",
          "text": [
            "Epoch [527/3000]: Train loss: 2.9195, Valid loss: 3.4674"
          ]
        },
        {
          "name": "stderr",
          "output_type": "stream",
          "text": [
            "\n"
          ]
        },
        {
          "name": "stdout",
          "output_type": "stream",
          "text": [
            "\n"
          ]
        },
        {
          "name": "stderr",
          "output_type": "stream",
          "text": [
            "Epoch [528/3000]: 100%|██████████| 9/9 [00:00<00:00, 121.00it/s, loss=3]\n"
          ]
        },
        {
          "name": "stdout",
          "output_type": "stream",
          "text": [
            "Epoch [528/3000]: Train loss: 2.9069, Valid loss: 2.5360\n"
          ]
        },
        {
          "name": "stderr",
          "output_type": "stream",
          "text": [
            "Epoch [529/3000]: 100%|██████████| 9/9 [00:00<00:00, 125.54it/s, loss=3.29]\n"
          ]
        },
        {
          "name": "stdout",
          "output_type": "stream",
          "text": [
            "Epoch [529/3000]: Train loss: 2.9201, Valid loss: 2.6498\n"
          ]
        },
        {
          "name": "stderr",
          "output_type": "stream",
          "text": [
            "Epoch [530/3000]: 100%|██████████| 9/9 [00:00<00:00, 119.85it/s, loss=2.83]\n"
          ]
        },
        {
          "name": "stdout",
          "output_type": "stream",
          "text": [
            "Epoch [530/3000]: Train loss: 2.8871, Valid loss: 3.1378\n"
          ]
        },
        {
          "name": "stderr",
          "output_type": "stream",
          "text": [
            "Epoch [531/3000]: 100%|██████████| 9/9 [00:00<00:00, 116.86it/s, loss=2.7]"
          ]
        },
        {
          "name": "stdout",
          "output_type": "stream",
          "text": [
            "Epoch [531/3000]: Train loss: 2.8746, Valid loss: 2.6759"
          ]
        },
        {
          "name": "stderr",
          "output_type": "stream",
          "text": [
            "\n"
          ]
        },
        {
          "name": "stdout",
          "output_type": "stream",
          "text": [
            "\n"
          ]
        },
        {
          "name": "stderr",
          "output_type": "stream",
          "text": [
            "Epoch [532/3000]: 100%|██████████| 9/9 [00:00<00:00, 121.93it/s, loss=2.93]\n"
          ]
        },
        {
          "name": "stdout",
          "output_type": "stream",
          "text": [
            "Epoch [532/3000]: Train loss: 2.8858, Valid loss: 2.9835\n"
          ]
        },
        {
          "name": "stderr",
          "output_type": "stream",
          "text": [
            "Epoch [533/3000]: 100%|██████████| 9/9 [00:00<00:00, 73.16it/s, loss=2.96]\n"
          ]
        },
        {
          "name": "stdout",
          "output_type": "stream",
          "text": [
            "Epoch [533/3000]: Train loss: 2.8857, Valid loss: 3.1791\n"
          ]
        },
        {
          "name": "stderr",
          "output_type": "stream",
          "text": [
            "Epoch [534/3000]: 100%|██████████| 9/9 [00:00<00:00, 111.87it/s, loss=2.84]\n"
          ]
        },
        {
          "name": "stdout",
          "output_type": "stream",
          "text": [
            "Epoch [534/3000]: Train loss: 2.8732, Valid loss: 2.6238\n"
          ]
        },
        {
          "name": "stderr",
          "output_type": "stream",
          "text": [
            "Epoch [535/3000]: 100%|██████████| 9/9 [00:00<00:00, 120.81it/s, loss=2.79]\n"
          ]
        },
        {
          "name": "stdout",
          "output_type": "stream",
          "text": [
            "Epoch [535/3000]: Train loss: 2.8656, Valid loss: 2.5560\n"
          ]
        },
        {
          "name": "stderr",
          "output_type": "stream",
          "text": [
            "Epoch [536/3000]: 100%|██████████| 9/9 [00:00<00:00, 127.07it/s, loss=2.51]\n"
          ]
        },
        {
          "name": "stdout",
          "output_type": "stream",
          "text": [
            "Epoch [536/3000]: Train loss: 2.8463, Valid loss: 2.8797\n"
          ]
        },
        {
          "name": "stderr",
          "output_type": "stream",
          "text": [
            "Epoch [537/3000]: 100%|██████████| 9/9 [00:00<00:00, 116.98it/s, loss=2.76]\n"
          ]
        },
        {
          "name": "stdout",
          "output_type": "stream",
          "text": [
            "Epoch [537/3000]: Train loss: 2.8605, Valid loss: 2.5654\n"
          ]
        },
        {
          "name": "stderr",
          "output_type": "stream",
          "text": [
            "Epoch [538/3000]: 100%|██████████| 9/9 [00:00<00:00, 123.28it/s, loss=3.77]\n"
          ]
        },
        {
          "name": "stdout",
          "output_type": "stream",
          "text": [
            "Epoch [538/3000]: Train loss: 2.9165, Valid loss: 2.7439\n"
          ]
        },
        {
          "name": "stderr",
          "output_type": "stream",
          "text": [
            "Epoch [539/3000]: 100%|██████████| 9/9 [00:00<00:00, 121.80it/s, loss=2.42]"
          ]
        },
        {
          "name": "stdout",
          "output_type": "stream",
          "text": [
            "Epoch [539/3000]: Train loss: 2.8318, Valid loss: 2.9360"
          ]
        },
        {
          "name": "stderr",
          "output_type": "stream",
          "text": [
            "\n"
          ]
        },
        {
          "name": "stdout",
          "output_type": "stream",
          "text": [
            "\n"
          ]
        },
        {
          "name": "stderr",
          "output_type": "stream",
          "text": [
            "Epoch [540/3000]: 100%|██████████| 9/9 [00:00<00:00, 129.29it/s, loss=3.07]\n"
          ]
        },
        {
          "name": "stdout",
          "output_type": "stream",
          "text": [
            "Epoch [540/3000]: Train loss: 2.8674, Valid loss: 2.4257\n",
            "Saving model with loss 2.426...\n"
          ]
        },
        {
          "name": "stderr",
          "output_type": "stream",
          "text": [
            "Epoch [541/3000]: 100%|██████████| 9/9 [00:00<00:00, 130.83it/s, loss=2.31]\n"
          ]
        },
        {
          "name": "stdout",
          "output_type": "stream",
          "text": [
            "Epoch [541/3000]: Train loss: 2.8166, Valid loss: 2.8270\n"
          ]
        },
        {
          "name": "stderr",
          "output_type": "stream",
          "text": [
            "Epoch [542/3000]: 100%|██████████| 9/9 [00:00<00:00, 122.09it/s, loss=3.05]\n"
          ]
        },
        {
          "name": "stdout",
          "output_type": "stream",
          "text": [
            "Epoch [542/3000]: Train loss: 2.8580, Valid loss: 3.3432\n"
          ]
        },
        {
          "name": "stderr",
          "output_type": "stream",
          "text": [
            "Epoch [543/3000]: 100%|██████████| 9/9 [00:00<00:00, 126.29it/s, loss=3.22]\n"
          ]
        },
        {
          "name": "stdout",
          "output_type": "stream",
          "text": [
            "Epoch [543/3000]: Train loss: 2.8723, Valid loss: 3.3765\n"
          ]
        },
        {
          "name": "stderr",
          "output_type": "stream",
          "text": [
            "Epoch [544/3000]: 100%|██████████| 9/9 [00:00<00:00, 122.83it/s, loss=3.56]\n"
          ]
        },
        {
          "name": "stdout",
          "output_type": "stream",
          "text": [
            "Epoch [544/3000]: Train loss: 2.8884, Valid loss: 2.5283\n"
          ]
        },
        {
          "name": "stderr",
          "output_type": "stream",
          "text": [
            "Epoch [545/3000]: 100%|██████████| 9/9 [00:00<00:00, 119.15it/s, loss=2.71]\n"
          ]
        },
        {
          "name": "stdout",
          "output_type": "stream",
          "text": [
            "Epoch [545/3000]: Train loss: 2.8284, Valid loss: 3.1936\n"
          ]
        },
        {
          "name": "stderr",
          "output_type": "stream",
          "text": [
            "Epoch [546/3000]: 100%|██████████| 9/9 [00:00<00:00, 125.99it/s, loss=3.49]\n"
          ]
        },
        {
          "name": "stdout",
          "output_type": "stream",
          "text": [
            "Epoch [546/3000]: Train loss: 2.8739, Valid loss: 2.8198\n"
          ]
        },
        {
          "name": "stderr",
          "output_type": "stream",
          "text": [
            "Epoch [547/3000]: 100%|██████████| 9/9 [00:00<00:00, 132.29it/s, loss=3.13]\n"
          ]
        },
        {
          "name": "stdout",
          "output_type": "stream",
          "text": [
            "Epoch [547/3000]: Train loss: 2.8459, Valid loss: 2.8009\n"
          ]
        },
        {
          "name": "stderr",
          "output_type": "stream",
          "text": [
            "Epoch [548/3000]: 100%|██████████| 9/9 [00:00<00:00, 137.88it/s, loss=2.42]\n"
          ]
        },
        {
          "name": "stdout",
          "output_type": "stream",
          "text": [
            "Epoch [548/3000]: Train loss: 2.8005, Valid loss: 2.5843\n"
          ]
        },
        {
          "name": "stderr",
          "output_type": "stream",
          "text": [
            "Epoch [549/3000]: 100%|██████████| 9/9 [00:00<00:00, 125.60it/s, loss=3.02]\n"
          ]
        },
        {
          "name": "stdout",
          "output_type": "stream",
          "text": [
            "Epoch [549/3000]: Train loss: 2.8352, Valid loss: 2.6655\n"
          ]
        },
        {
          "name": "stderr",
          "output_type": "stream",
          "text": [
            "Epoch [550/3000]: 100%|██████████| 9/9 [00:00<00:00, 119.71it/s, loss=3.26]\n"
          ]
        },
        {
          "name": "stdout",
          "output_type": "stream",
          "text": [
            "Epoch [550/3000]: Train loss: 2.8476, Valid loss: 2.6264\n"
          ]
        },
        {
          "name": "stderr",
          "output_type": "stream",
          "text": [
            "Epoch [551/3000]: 100%|██████████| 9/9 [00:00<00:00, 118.57it/s, loss=3.58]\n"
          ]
        },
        {
          "name": "stdout",
          "output_type": "stream",
          "text": [
            "Epoch [551/3000]: Train loss: 2.8607, Valid loss: 2.7082\n"
          ]
        },
        {
          "name": "stderr",
          "output_type": "stream",
          "text": [
            "Epoch [552/3000]: 100%|██████████| 9/9 [00:00<00:00, 117.75it/s, loss=1.83]\n"
          ]
        },
        {
          "name": "stdout",
          "output_type": "stream",
          "text": [
            "Epoch [552/3000]: Train loss: 2.7539, Valid loss: 2.7859\n"
          ]
        },
        {
          "name": "stderr",
          "output_type": "stream",
          "text": [
            "Epoch [553/3000]: 100%|██████████| 9/9 [00:00<00:00, 111.72it/s, loss=2.46]\n"
          ]
        },
        {
          "name": "stdout",
          "output_type": "stream",
          "text": [
            "Epoch [553/3000]: Train loss: 2.7839, Valid loss: 2.5523\n"
          ]
        },
        {
          "name": "stderr",
          "output_type": "stream",
          "text": [
            "Epoch [554/3000]: 100%|██████████| 9/9 [00:00<00:00, 130.15it/s, loss=2.42]"
          ]
        },
        {
          "name": "stdout",
          "output_type": "stream",
          "text": [
            "Epoch [554/3000]: Train loss: 2.7778, Valid loss: 2.5772"
          ]
        },
        {
          "name": "stderr",
          "output_type": "stream",
          "text": [
            "\n"
          ]
        },
        {
          "name": "stdout",
          "output_type": "stream",
          "text": [
            "\n"
          ]
        },
        {
          "name": "stderr",
          "output_type": "stream",
          "text": [
            "Epoch [555/3000]: 100%|██████████| 9/9 [00:00<00:00, 113.18it/s, loss=2.87]\n"
          ]
        },
        {
          "name": "stdout",
          "output_type": "stream",
          "text": [
            "Epoch [555/3000]: Train loss: 2.8043, Valid loss: 2.8371\n"
          ]
        },
        {
          "name": "stderr",
          "output_type": "stream",
          "text": [
            "Epoch [556/3000]: 100%|██████████| 9/9 [00:00<00:00, 119.14it/s, loss=2.81]\n"
          ]
        },
        {
          "name": "stdout",
          "output_type": "stream",
          "text": [
            "Epoch [556/3000]: Train loss: 2.7967, Valid loss: 3.0293\n"
          ]
        },
        {
          "name": "stderr",
          "output_type": "stream",
          "text": [
            "Epoch [557/3000]: 100%|██████████| 9/9 [00:00<00:00, 114.95it/s, loss=2.37]\n"
          ]
        },
        {
          "name": "stdout",
          "output_type": "stream",
          "text": [
            "Epoch [557/3000]: Train loss: 2.7698, Valid loss: 2.5074\n"
          ]
        },
        {
          "name": "stderr",
          "output_type": "stream",
          "text": [
            "Epoch [558/3000]: 100%|██████████| 9/9 [00:00<00:00, 120.82it/s, loss=2.63]\n"
          ]
        },
        {
          "name": "stdout",
          "output_type": "stream",
          "text": [
            "Epoch [558/3000]: Train loss: 2.7785, Valid loss: 3.2346\n"
          ]
        },
        {
          "name": "stderr",
          "output_type": "stream",
          "text": [
            "Epoch [559/3000]: 100%|██████████| 9/9 [00:00<00:00, 116.20it/s, loss=2.82]\n"
          ]
        },
        {
          "name": "stdout",
          "output_type": "stream",
          "text": [
            "Epoch [559/3000]: Train loss: 2.7913, Valid loss: 2.3615\n",
            "Saving model with loss 2.361...\n"
          ]
        },
        {
          "name": "stderr",
          "output_type": "stream",
          "text": [
            "Epoch [560/3000]: 100%|██████████| 9/9 [00:00<00:00, 120.35it/s, loss=2.34]"
          ]
        },
        {
          "name": "stdout",
          "output_type": "stream",
          "text": [
            "Epoch [560/3000]: Train loss: 2.7548, Valid loss: 2.4744"
          ]
        },
        {
          "name": "stderr",
          "output_type": "stream",
          "text": [
            "\n"
          ]
        },
        {
          "name": "stdout",
          "output_type": "stream",
          "text": [
            "\n"
          ]
        },
        {
          "name": "stderr",
          "output_type": "stream",
          "text": [
            "Epoch [561/3000]: 100%|██████████| 9/9 [00:00<00:00, 118.93it/s, loss=3.09]"
          ]
        },
        {
          "name": "stdout",
          "output_type": "stream",
          "text": [
            "Epoch [561/3000]: Train loss: 2.7993, Valid loss: 2.5440"
          ]
        },
        {
          "name": "stderr",
          "output_type": "stream",
          "text": [
            "\n"
          ]
        },
        {
          "name": "stdout",
          "output_type": "stream",
          "text": [
            "\n"
          ]
        },
        {
          "name": "stderr",
          "output_type": "stream",
          "text": [
            "Epoch [562/3000]: 100%|██████████| 9/9 [00:00<00:00, 128.50it/s, loss=2.88]\n"
          ]
        },
        {
          "name": "stdout",
          "output_type": "stream",
          "text": [
            "Epoch [562/3000]: Train loss: 2.7825, Valid loss: 2.4878\n"
          ]
        },
        {
          "name": "stderr",
          "output_type": "stream",
          "text": [
            "Epoch [563/3000]: 100%|██████████| 9/9 [00:00<00:00, 121.77it/s, loss=2.58]\n"
          ]
        },
        {
          "name": "stdout",
          "output_type": "stream",
          "text": [
            "Epoch [563/3000]: Train loss: 2.7626, Valid loss: 2.9052\n"
          ]
        },
        {
          "name": "stderr",
          "output_type": "stream",
          "text": [
            "Epoch [564/3000]: 100%|██████████| 9/9 [00:00<00:00, 120.46it/s, loss=3.58]"
          ]
        },
        {
          "name": "stdout",
          "output_type": "stream",
          "text": [
            "Epoch [564/3000]: Train loss: 2.8224, Valid loss: 2.5839"
          ]
        },
        {
          "name": "stderr",
          "output_type": "stream",
          "text": [
            "\n"
          ]
        },
        {
          "name": "stdout",
          "output_type": "stream",
          "text": [
            "\n"
          ]
        },
        {
          "name": "stderr",
          "output_type": "stream",
          "text": [
            "Epoch [565/3000]: 100%|██████████| 9/9 [00:00<00:00, 114.38it/s, loss=2.27]\n"
          ]
        },
        {
          "name": "stdout",
          "output_type": "stream",
          "text": [
            "Epoch [565/3000]: Train loss: 2.7377, Valid loss: 2.5992\n"
          ]
        },
        {
          "name": "stderr",
          "output_type": "stream",
          "text": [
            "Epoch [566/3000]: 100%|██████████| 9/9 [00:00<00:00, 121.40it/s, loss=3.24]\n"
          ]
        },
        {
          "name": "stdout",
          "output_type": "stream",
          "text": [
            "Epoch [566/3000]: Train loss: 2.7938, Valid loss: 3.0759\n"
          ]
        },
        {
          "name": "stderr",
          "output_type": "stream",
          "text": [
            "Epoch [567/3000]: 100%|██████████| 9/9 [00:00<00:00, 119.64it/s, loss=2.74]\n"
          ]
        },
        {
          "name": "stdout",
          "output_type": "stream",
          "text": [
            "Epoch [567/3000]: Train loss: 2.7598, Valid loss: 2.3370\n",
            "Saving model with loss 2.337...\n"
          ]
        },
        {
          "name": "stderr",
          "output_type": "stream",
          "text": [
            "Epoch [568/3000]: 100%|██████████| 9/9 [00:00<00:00, 122.74it/s, loss=2.43]\n"
          ]
        },
        {
          "name": "stdout",
          "output_type": "stream",
          "text": [
            "Epoch [568/3000]: Train loss: 2.7376, Valid loss: 2.5091\n"
          ]
        },
        {
          "name": "stderr",
          "output_type": "stream",
          "text": [
            "Epoch [569/3000]: 100%|██████████| 9/9 [00:00<00:00, 113.94it/s, loss=2.26]\n"
          ]
        },
        {
          "name": "stdout",
          "output_type": "stream",
          "text": [
            "Epoch [569/3000]: Train loss: 2.7230, Valid loss: 2.4256\n"
          ]
        },
        {
          "name": "stderr",
          "output_type": "stream",
          "text": [
            "Epoch [570/3000]: 100%|██████████| 9/9 [00:00<00:00, 71.98it/s, loss=2.05]\n"
          ]
        },
        {
          "name": "stdout",
          "output_type": "stream",
          "text": [
            "Epoch [570/3000]: Train loss: 2.7062, Valid loss: 2.4071\n"
          ]
        },
        {
          "name": "stderr",
          "output_type": "stream",
          "text": [
            "Epoch [571/3000]: 100%|██████████| 9/9 [00:00<00:00, 119.70it/s, loss=2.98]\n"
          ]
        },
        {
          "name": "stdout",
          "output_type": "stream",
          "text": [
            "Epoch [571/3000]: Train loss: 2.7609, Valid loss: 2.6528\n"
          ]
        },
        {
          "name": "stderr",
          "output_type": "stream",
          "text": [
            "Epoch [572/3000]: 100%|██████████| 9/9 [00:00<00:00, 115.76it/s, loss=1.91]\n"
          ]
        },
        {
          "name": "stdout",
          "output_type": "stream",
          "text": [
            "Epoch [572/3000]: Train loss: 2.6887, Valid loss: 3.4751\n"
          ]
        },
        {
          "name": "stderr",
          "output_type": "stream",
          "text": [
            "Epoch [573/3000]: 100%|██████████| 9/9 [00:00<00:00, 121.20it/s, loss=3.68]\n"
          ]
        },
        {
          "name": "stdout",
          "output_type": "stream",
          "text": [
            "Epoch [573/3000]: Train loss: 2.8032, Valid loss: 2.8134\n"
          ]
        },
        {
          "name": "stderr",
          "output_type": "stream",
          "text": [
            "Epoch [574/3000]: 100%|██████████| 9/9 [00:00<00:00, 122.96it/s, loss=2.65]\n"
          ]
        },
        {
          "name": "stdout",
          "output_type": "stream",
          "text": [
            "Epoch [574/3000]: Train loss: 2.7287, Valid loss: 2.7020\n"
          ]
        },
        {
          "name": "stderr",
          "output_type": "stream",
          "text": [
            "Epoch [575/3000]: 100%|██████████| 9/9 [00:00<00:00, 111.85it/s, loss=2.17]\n"
          ]
        },
        {
          "name": "stdout",
          "output_type": "stream",
          "text": [
            "Epoch [575/3000]: Train loss: 2.6972, Valid loss: 2.5311\n"
          ]
        },
        {
          "name": "stderr",
          "output_type": "stream",
          "text": [
            "Epoch [576/3000]: 100%|██████████| 9/9 [00:00<00:00, 118.91it/s, loss=2.87]"
          ]
        },
        {
          "name": "stdout",
          "output_type": "stream",
          "text": [
            "Epoch [576/3000]: Train loss: 2.7375, Valid loss: 2.7349"
          ]
        },
        {
          "name": "stderr",
          "output_type": "stream",
          "text": [
            "\n"
          ]
        },
        {
          "name": "stdout",
          "output_type": "stream",
          "text": [
            "\n"
          ]
        },
        {
          "name": "stderr",
          "output_type": "stream",
          "text": [
            "Epoch [577/3000]: 100%|██████████| 9/9 [00:00<00:00, 123.38it/s, loss=2.55]\n"
          ]
        },
        {
          "name": "stdout",
          "output_type": "stream",
          "text": [
            "Epoch [577/3000]: Train loss: 2.7151, Valid loss: 2.2779\n",
            "Saving model with loss 2.278...\n"
          ]
        },
        {
          "name": "stderr",
          "output_type": "stream",
          "text": [
            "Epoch [578/3000]: 100%|██████████| 9/9 [00:00<00:00, 120.19it/s, loss=2.81]\n"
          ]
        },
        {
          "name": "stdout",
          "output_type": "stream",
          "text": [
            "Epoch [578/3000]: Train loss: 2.7304, Valid loss: 2.2478\n",
            "Saving model with loss 2.248...\n"
          ]
        },
        {
          "name": "stderr",
          "output_type": "stream",
          "text": [
            "Epoch [579/3000]: 100%|██████████| 9/9 [00:00<00:00, 121.55it/s, loss=2.23]\n"
          ]
        },
        {
          "name": "stdout",
          "output_type": "stream",
          "text": [
            "Epoch [579/3000]: Train loss: 2.6883, Valid loss: 2.2506\n"
          ]
        },
        {
          "name": "stderr",
          "output_type": "stream",
          "text": [
            "Epoch [580/3000]: 100%|██████████| 9/9 [00:00<00:00, 120.02it/s, loss=2.38]\n"
          ]
        },
        {
          "name": "stdout",
          "output_type": "stream",
          "text": [
            "Epoch [580/3000]: Train loss: 2.6961, Valid loss: 3.0061\n"
          ]
        },
        {
          "name": "stderr",
          "output_type": "stream",
          "text": [
            "Epoch [581/3000]: 100%|██████████| 9/9 [00:00<00:00, 113.19it/s, loss=2.81]"
          ]
        },
        {
          "name": "stdout",
          "output_type": "stream",
          "text": [
            "Epoch [581/3000]: Train loss: 2.7193, Valid loss: 3.7817"
          ]
        },
        {
          "name": "stderr",
          "output_type": "stream",
          "text": [
            "\n"
          ]
        },
        {
          "name": "stdout",
          "output_type": "stream",
          "text": [
            "\n"
          ]
        },
        {
          "name": "stderr",
          "output_type": "stream",
          "text": [
            "Epoch [582/3000]: 100%|██████████| 9/9 [00:00<00:00, 73.01it/s, loss=2.4] \n"
          ]
        },
        {
          "name": "stdout",
          "output_type": "stream",
          "text": [
            "Epoch [582/3000]: Train loss: 2.6894, Valid loss: 2.5727\n"
          ]
        },
        {
          "name": "stderr",
          "output_type": "stream",
          "text": [
            "Epoch [583/3000]: 100%|██████████| 9/9 [00:00<00:00, 124.68it/s, loss=2.27]\n"
          ]
        },
        {
          "name": "stdout",
          "output_type": "stream",
          "text": [
            "Epoch [583/3000]: Train loss: 2.6778, Valid loss: 2.8855\n"
          ]
        },
        {
          "name": "stderr",
          "output_type": "stream",
          "text": [
            "Epoch [584/3000]: 100%|██████████| 9/9 [00:00<00:00, 129.31it/s, loss=3.02]\n"
          ]
        },
        {
          "name": "stdout",
          "output_type": "stream",
          "text": [
            "Epoch [584/3000]: Train loss: 2.7231, Valid loss: 3.1054\n"
          ]
        },
        {
          "name": "stderr",
          "output_type": "stream",
          "text": [
            "Epoch [585/3000]: 100%|██████████| 9/9 [00:00<00:00, 116.72it/s, loss=3.9]"
          ]
        },
        {
          "name": "stdout",
          "output_type": "stream",
          "text": [
            "Epoch [585/3000]: Train loss: 2.7765, Valid loss: 3.0299\n"
          ]
        },
        {
          "name": "stderr",
          "output_type": "stream",
          "text": [
            "\n",
            "Epoch [586/3000]: 100%|██████████| 9/9 [00:00<00:00, 113.39it/s, loss=3.1]\n"
          ]
        },
        {
          "name": "stdout",
          "output_type": "stream",
          "text": [
            "Epoch [586/3000]: Train loss: 2.7206, Valid loss: 3.2167\n"
          ]
        },
        {
          "name": "stderr",
          "output_type": "stream",
          "text": [
            "Epoch [587/3000]: 100%|██████████| 9/9 [00:00<00:00, 101.05it/s, loss=2.63]\n"
          ]
        },
        {
          "name": "stdout",
          "output_type": "stream",
          "text": [
            "Epoch [587/3000]: Train loss: 2.6899, Valid loss: 2.5301\n"
          ]
        },
        {
          "name": "stderr",
          "output_type": "stream",
          "text": [
            "Epoch [588/3000]: 100%|██████████| 9/9 [00:00<00:00, 112.71it/s, loss=2.73]\n"
          ]
        },
        {
          "name": "stdout",
          "output_type": "stream",
          "text": [
            "Epoch [588/3000]: Train loss: 2.6941, Valid loss: 2.8432\n"
          ]
        },
        {
          "name": "stderr",
          "output_type": "stream",
          "text": [
            "Epoch [589/3000]: 100%|██████████| 9/9 [00:00<00:00, 111.19it/s, loss=2.52]\n"
          ]
        },
        {
          "name": "stdout",
          "output_type": "stream",
          "text": [
            "Epoch [589/3000]: Train loss: 2.6751, Valid loss: 3.6605\n"
          ]
        },
        {
          "name": "stderr",
          "output_type": "stream",
          "text": [
            "Epoch [590/3000]: 100%|██████████| 9/9 [00:00<00:00, 109.73it/s, loss=3.27]\n"
          ]
        },
        {
          "name": "stdout",
          "output_type": "stream",
          "text": [
            "Epoch [590/3000]: Train loss: 2.7214, Valid loss: 2.5239\n"
          ]
        },
        {
          "name": "stderr",
          "output_type": "stream",
          "text": [
            "Epoch [591/3000]: 100%|██████████| 9/9 [00:00<00:00, 121.49it/s, loss=2.22]\n"
          ]
        },
        {
          "name": "stdout",
          "output_type": "stream",
          "text": [
            "Epoch [591/3000]: Train loss: 2.6510, Valid loss: 3.1430\n"
          ]
        },
        {
          "name": "stderr",
          "output_type": "stream",
          "text": [
            "Epoch [592/3000]: 100%|██████████| 9/9 [00:00<00:00, 115.85it/s, loss=2.67]\n"
          ]
        },
        {
          "name": "stdout",
          "output_type": "stream",
          "text": [
            "Epoch [592/3000]: Train loss: 2.6794, Valid loss: 2.6919\n"
          ]
        },
        {
          "name": "stderr",
          "output_type": "stream",
          "text": [
            "Epoch [593/3000]: 100%|██████████| 9/9 [00:00<00:00, 116.06it/s, loss=2.87]\n"
          ]
        },
        {
          "name": "stdout",
          "output_type": "stream",
          "text": [
            "Epoch [593/3000]: Train loss: 2.6865, Valid loss: 2.4750\n"
          ]
        },
        {
          "name": "stderr",
          "output_type": "stream",
          "text": [
            "Epoch [594/3000]: 100%|██████████| 9/9 [00:00<00:00, 133.28it/s, loss=2.97]\n"
          ]
        },
        {
          "name": "stdout",
          "output_type": "stream",
          "text": [
            "Epoch [594/3000]: Train loss: 2.6925, Valid loss: 2.5691\n"
          ]
        },
        {
          "name": "stderr",
          "output_type": "stream",
          "text": [
            "Epoch [595/3000]: 100%|██████████| 9/9 [00:00<00:00, 128.18it/s, loss=3.29]\n"
          ]
        },
        {
          "name": "stdout",
          "output_type": "stream",
          "text": [
            "Epoch [595/3000]: Train loss: 2.7060, Valid loss: 2.9575\n"
          ]
        },
        {
          "name": "stderr",
          "output_type": "stream",
          "text": [
            "Epoch [596/3000]: 100%|██████████| 9/9 [00:00<00:00, 101.73it/s, loss=2.93]\n"
          ]
        },
        {
          "name": "stdout",
          "output_type": "stream",
          "text": [
            "Epoch [596/3000]: Train loss: 2.6810, Valid loss: 2.2610\n"
          ]
        },
        {
          "name": "stderr",
          "output_type": "stream",
          "text": [
            "Epoch [597/3000]: 100%|██████████| 9/9 [00:00<00:00, 124.02it/s, loss=2.77]\n"
          ]
        },
        {
          "name": "stdout",
          "output_type": "stream",
          "text": [
            "Epoch [597/3000]: Train loss: 2.6708, Valid loss: 2.7860\n"
          ]
        },
        {
          "name": "stderr",
          "output_type": "stream",
          "text": [
            "Epoch [598/3000]: 100%|██████████| 9/9 [00:00<00:00, 117.93it/s, loss=2.95]\n"
          ]
        },
        {
          "name": "stdout",
          "output_type": "stream",
          "text": [
            "Epoch [598/3000]: Train loss: 2.6804, Valid loss: 2.1328\n",
            "Saving model with loss 2.133...\n"
          ]
        },
        {
          "name": "stderr",
          "output_type": "stream",
          "text": [
            "Epoch [599/3000]: 100%|██████████| 9/9 [00:00<00:00, 39.54it/s, loss=2.73]\n"
          ]
        },
        {
          "name": "stdout",
          "output_type": "stream",
          "text": [
            "Epoch [599/3000]: Train loss: 2.6607, Valid loss: 2.1723\n"
          ]
        },
        {
          "name": "stderr",
          "output_type": "stream",
          "text": [
            "Epoch [600/3000]: 100%|██████████| 9/9 [00:00<00:00, 115.34it/s, loss=2.68]\n"
          ]
        },
        {
          "name": "stdout",
          "output_type": "stream",
          "text": [
            "Epoch [600/3000]: Train loss: 2.6545, Valid loss: 2.9879\n"
          ]
        },
        {
          "name": "stderr",
          "output_type": "stream",
          "text": [
            "Epoch [601/3000]: 100%|██████████| 9/9 [00:00<00:00, 117.06it/s, loss=2.67]\n"
          ]
        },
        {
          "name": "stdout",
          "output_type": "stream",
          "text": [
            "Epoch [601/3000]: Train loss: 2.6499, Valid loss: 3.1303\n"
          ]
        },
        {
          "name": "stderr",
          "output_type": "stream",
          "text": [
            "Epoch [602/3000]: 100%|██████████| 9/9 [00:00<00:00, 118.80it/s, loss=2.38]\n"
          ]
        },
        {
          "name": "stdout",
          "output_type": "stream",
          "text": [
            "Epoch [602/3000]: Train loss: 2.6309, Valid loss: 2.5390\n"
          ]
        },
        {
          "name": "stderr",
          "output_type": "stream",
          "text": [
            "Epoch [603/3000]: 100%|██████████| 9/9 [00:00<00:00, 108.74it/s, loss=3.62]\n"
          ]
        },
        {
          "name": "stdout",
          "output_type": "stream",
          "text": [
            "Epoch [603/3000]: Train loss: 2.7078, Valid loss: 2.6379\n"
          ]
        },
        {
          "name": "stderr",
          "output_type": "stream",
          "text": [
            "Epoch [604/3000]: 100%|██████████| 9/9 [00:00<00:00, 114.66it/s, loss=2.37]\n"
          ]
        },
        {
          "name": "stdout",
          "output_type": "stream",
          "text": [
            "Epoch [604/3000]: Train loss: 2.6239, Valid loss: 2.6094\n"
          ]
        },
        {
          "name": "stderr",
          "output_type": "stream",
          "text": [
            "Epoch [605/3000]: 100%|██████████| 9/9 [00:00<00:00, 105.55it/s, loss=2.77]\n"
          ]
        },
        {
          "name": "stdout",
          "output_type": "stream",
          "text": [
            "Epoch [605/3000]: Train loss: 2.6447, Valid loss: 2.7127\n"
          ]
        },
        {
          "name": "stderr",
          "output_type": "stream",
          "text": [
            "Epoch [606/3000]: 100%|██████████| 9/9 [00:00<00:00, 109.78it/s, loss=2.75]\n"
          ]
        },
        {
          "name": "stdout",
          "output_type": "stream",
          "text": [
            "Epoch [606/3000]: Train loss: 2.6421, Valid loss: 2.5467\n"
          ]
        },
        {
          "name": "stderr",
          "output_type": "stream",
          "text": [
            "Epoch [607/3000]: 100%|██████████| 9/9 [00:00<00:00, 105.80it/s, loss=1.69]\n"
          ]
        },
        {
          "name": "stdout",
          "output_type": "stream",
          "text": [
            "Epoch [607/3000]: Train loss: 2.5724, Valid loss: 2.4548\n"
          ]
        },
        {
          "name": "stderr",
          "output_type": "stream",
          "text": [
            "Epoch [608/3000]: 100%|██████████| 9/9 [00:00<00:00, 107.14it/s, loss=2.89]\n"
          ]
        },
        {
          "name": "stdout",
          "output_type": "stream",
          "text": [
            "Epoch [608/3000]: Train loss: 2.6439, Valid loss: 2.5850\n"
          ]
        },
        {
          "name": "stderr",
          "output_type": "stream",
          "text": [
            "Epoch [609/3000]: 100%|██████████| 9/9 [00:00<00:00, 81.38it/s, loss=2.27]\n"
          ]
        },
        {
          "name": "stdout",
          "output_type": "stream",
          "text": [
            "Epoch [609/3000]: Train loss: 2.6047, Valid loss: 2.1515\n"
          ]
        },
        {
          "name": "stderr",
          "output_type": "stream",
          "text": [
            "Epoch [610/3000]: 100%|██████████| 9/9 [00:00<00:00, 85.20it/s, loss=2.8]\n"
          ]
        },
        {
          "name": "stdout",
          "output_type": "stream",
          "text": [
            "Epoch [610/3000]: Train loss: 2.6366, Valid loss: 2.5969\n"
          ]
        },
        {
          "name": "stderr",
          "output_type": "stream",
          "text": [
            "Epoch [611/3000]: 100%|██████████| 9/9 [00:00<00:00, 91.06it/s, loss=2.83]\n"
          ]
        },
        {
          "name": "stdout",
          "output_type": "stream",
          "text": [
            "Epoch [611/3000]: Train loss: 2.6327, Valid loss: 2.5881\n"
          ]
        },
        {
          "name": "stderr",
          "output_type": "stream",
          "text": [
            "Epoch [612/3000]: 100%|██████████| 9/9 [00:00<00:00, 104.11it/s, loss=2.31]\n"
          ]
        },
        {
          "name": "stdout",
          "output_type": "stream",
          "text": [
            "Epoch [612/3000]: Train loss: 2.5998, Valid loss: 2.5473\n"
          ]
        },
        {
          "name": "stderr",
          "output_type": "stream",
          "text": [
            "Epoch [613/3000]: 100%|██████████| 9/9 [00:00<00:00, 98.59it/s, loss=2.17]\n"
          ]
        },
        {
          "name": "stdout",
          "output_type": "stream",
          "text": [
            "Epoch [613/3000]: Train loss: 2.5848, Valid loss: 2.7179\n"
          ]
        },
        {
          "name": "stderr",
          "output_type": "stream",
          "text": [
            "Epoch [614/3000]: 100%|██████████| 9/9 [00:00<00:00, 104.56it/s, loss=2.35]\n"
          ]
        },
        {
          "name": "stdout",
          "output_type": "stream",
          "text": [
            "Epoch [614/3000]: Train loss: 2.5939, Valid loss: 2.5994\n"
          ]
        },
        {
          "name": "stderr",
          "output_type": "stream",
          "text": [
            "Epoch [615/3000]: 100%|██████████| 9/9 [00:00<00:00, 113.79it/s, loss=2.66]\n"
          ]
        },
        {
          "name": "stdout",
          "output_type": "stream",
          "text": [
            "Epoch [615/3000]: Train loss: 2.6098, Valid loss: 2.7456\n"
          ]
        },
        {
          "name": "stderr",
          "output_type": "stream",
          "text": [
            "Epoch [616/3000]: 100%|██████████| 9/9 [00:00<00:00, 113.94it/s, loss=2.89]\n"
          ]
        },
        {
          "name": "stdout",
          "output_type": "stream",
          "text": [
            "Epoch [616/3000]: Train loss: 2.6221, Valid loss: 2.4977\n"
          ]
        },
        {
          "name": "stderr",
          "output_type": "stream",
          "text": [
            "Epoch [617/3000]: 100%|██████████| 9/9 [00:00<00:00, 101.87it/s, loss=3.2]\n"
          ]
        },
        {
          "name": "stdout",
          "output_type": "stream",
          "text": [
            "Epoch [617/3000]: Train loss: 2.6396, Valid loss: 2.4871\n"
          ]
        },
        {
          "name": "stderr",
          "output_type": "stream",
          "text": [
            "Epoch [618/3000]: 100%|██████████| 9/9 [00:00<00:00, 105.93it/s, loss=2.99]\n"
          ]
        },
        {
          "name": "stdout",
          "output_type": "stream",
          "text": [
            "Epoch [618/3000]: Train loss: 2.6243, Valid loss: 2.3259\n"
          ]
        },
        {
          "name": "stderr",
          "output_type": "stream",
          "text": [
            "Epoch [619/3000]: 100%|██████████| 9/9 [00:00<00:00, 106.06it/s, loss=2.24]\n"
          ]
        },
        {
          "name": "stdout",
          "output_type": "stream",
          "text": [
            "Epoch [619/3000]: Train loss: 2.5726, Valid loss: 2.8918\n"
          ]
        },
        {
          "name": "stderr",
          "output_type": "stream",
          "text": [
            "Epoch [620/3000]: 100%|██████████| 9/9 [00:00<00:00, 108.08it/s, loss=2.57]\n"
          ]
        },
        {
          "name": "stdout",
          "output_type": "stream",
          "text": [
            "Epoch [620/3000]: Train loss: 2.5911, Valid loss: 2.5129\n"
          ]
        },
        {
          "name": "stderr",
          "output_type": "stream",
          "text": [
            "Epoch [621/3000]: 100%|██████████| 9/9 [00:00<00:00, 120.96it/s, loss=2.91]\n"
          ]
        },
        {
          "name": "stdout",
          "output_type": "stream",
          "text": [
            "Epoch [621/3000]: Train loss: 2.6080, Valid loss: 2.6640\n"
          ]
        },
        {
          "name": "stderr",
          "output_type": "stream",
          "text": [
            "Epoch [622/3000]: 100%|██████████| 9/9 [00:00<00:00, 118.64it/s, loss=2.15]\n"
          ]
        },
        {
          "name": "stdout",
          "output_type": "stream",
          "text": [
            "Epoch [622/3000]: Train loss: 2.5594, Valid loss: 2.4842\n"
          ]
        },
        {
          "name": "stderr",
          "output_type": "stream",
          "text": [
            "Epoch [623/3000]: 100%|██████████| 9/9 [00:00<00:00, 104.00it/s, loss=2.64]\n"
          ]
        },
        {
          "name": "stdout",
          "output_type": "stream",
          "text": [
            "Epoch [623/3000]: Train loss: 2.5893, Valid loss: 2.4646\n"
          ]
        },
        {
          "name": "stderr",
          "output_type": "stream",
          "text": [
            "Epoch [624/3000]: 100%|██████████| 9/9 [00:00<00:00, 109.10it/s, loss=3.29]\n"
          ]
        },
        {
          "name": "stdout",
          "output_type": "stream",
          "text": [
            "Epoch [624/3000]: Train loss: 2.6270, Valid loss: 2.5100\n"
          ]
        },
        {
          "name": "stderr",
          "output_type": "stream",
          "text": [
            "Epoch [625/3000]: 100%|██████████| 9/9 [00:00<00:00, 85.82it/s, loss=2.78]\n"
          ]
        },
        {
          "name": "stdout",
          "output_type": "stream",
          "text": [
            "Epoch [625/3000]: Train loss: 2.5903, Valid loss: 2.5747\n"
          ]
        },
        {
          "name": "stderr",
          "output_type": "stream",
          "text": [
            "Epoch [626/3000]: 100%|██████████| 9/9 [00:00<00:00, 107.91it/s, loss=2.38]\n"
          ]
        },
        {
          "name": "stdout",
          "output_type": "stream",
          "text": [
            "Epoch [626/3000]: Train loss: 2.5636, Valid loss: 2.3474\n"
          ]
        },
        {
          "name": "stderr",
          "output_type": "stream",
          "text": [
            "Epoch [627/3000]: 100%|██████████| 9/9 [00:00<00:00, 114.72it/s, loss=2.14]\n"
          ]
        },
        {
          "name": "stdout",
          "output_type": "stream",
          "text": [
            "Epoch [627/3000]: Train loss: 2.5474, Valid loss: 2.2776\n"
          ]
        },
        {
          "name": "stderr",
          "output_type": "stream",
          "text": [
            "Epoch [628/3000]: 100%|██████████| 9/9 [00:00<00:00, 115.37it/s, loss=2.75]\n"
          ]
        },
        {
          "name": "stdout",
          "output_type": "stream",
          "text": [
            "Epoch [628/3000]: Train loss: 2.5806, Valid loss: 2.6191\n"
          ]
        },
        {
          "name": "stderr",
          "output_type": "stream",
          "text": [
            "Epoch [629/3000]: 100%|██████████| 9/9 [00:00<00:00, 110.31it/s, loss=2.71]\n"
          ]
        },
        {
          "name": "stdout",
          "output_type": "stream",
          "text": [
            "Epoch [629/3000]: Train loss: 2.5773, Valid loss: 2.6541\n"
          ]
        },
        {
          "name": "stderr",
          "output_type": "stream",
          "text": [
            "Epoch [630/3000]: 100%|██████████| 9/9 [00:00<00:00, 114.25it/s, loss=3.08]"
          ]
        },
        {
          "name": "stdout",
          "output_type": "stream",
          "text": [
            "Epoch [630/3000]: Train loss: 2.5966, Valid loss: 2.5900"
          ]
        },
        {
          "name": "stderr",
          "output_type": "stream",
          "text": [
            "\n"
          ]
        },
        {
          "name": "stdout",
          "output_type": "stream",
          "text": [
            "\n"
          ]
        },
        {
          "name": "stderr",
          "output_type": "stream",
          "text": [
            "Epoch [631/3000]: 100%|██████████| 9/9 [00:00<00:00, 109.53it/s, loss=3.09]\n"
          ]
        },
        {
          "name": "stdout",
          "output_type": "stream",
          "text": [
            "Epoch [631/3000]: Train loss: 2.5970, Valid loss: 2.1837\n"
          ]
        },
        {
          "name": "stderr",
          "output_type": "stream",
          "text": [
            "Epoch [632/3000]: 100%|██████████| 9/9 [00:00<00:00, 115.43it/s, loss=2.57]\n"
          ]
        },
        {
          "name": "stdout",
          "output_type": "stream",
          "text": [
            "Epoch [632/3000]: Train loss: 2.5587, Valid loss: 2.5684\n"
          ]
        },
        {
          "name": "stderr",
          "output_type": "stream",
          "text": [
            "Epoch [633/3000]: 100%|██████████| 9/9 [00:00<00:00, 110.82it/s, loss=2.93]\n"
          ]
        },
        {
          "name": "stdout",
          "output_type": "stream",
          "text": [
            "Epoch [633/3000]: Train loss: 2.5814, Valid loss: 2.5639\n"
          ]
        },
        {
          "name": "stderr",
          "output_type": "stream",
          "text": [
            "Epoch [634/3000]: 100%|██████████| 9/9 [00:00<00:00, 112.66it/s, loss=2.78]\n"
          ]
        },
        {
          "name": "stdout",
          "output_type": "stream",
          "text": [
            "Epoch [634/3000]: Train loss: 2.5669, Valid loss: 2.7186\n"
          ]
        },
        {
          "name": "stderr",
          "output_type": "stream",
          "text": [
            "Epoch [635/3000]: 100%|██████████| 9/9 [00:00<00:00, 119.33it/s, loss=2.78]\n"
          ]
        },
        {
          "name": "stdout",
          "output_type": "stream",
          "text": [
            "Epoch [635/3000]: Train loss: 2.5660, Valid loss: 2.9447\n"
          ]
        },
        {
          "name": "stderr",
          "output_type": "stream",
          "text": [
            "Epoch [636/3000]: 100%|██████████| 9/9 [00:00<00:00, 119.84it/s, loss=2.94]\n"
          ]
        },
        {
          "name": "stdout",
          "output_type": "stream",
          "text": [
            "Epoch [636/3000]: Train loss: 2.5702, Valid loss: 2.4994\n"
          ]
        },
        {
          "name": "stderr",
          "output_type": "stream",
          "text": [
            "Epoch [637/3000]: 100%|██████████| 9/9 [00:00<00:00, 115.48it/s, loss=2.78]"
          ]
        },
        {
          "name": "stdout",
          "output_type": "stream",
          "text": [
            "Epoch [637/3000]: Train loss: 2.5593, Valid loss: 2.5143"
          ]
        },
        {
          "name": "stderr",
          "output_type": "stream",
          "text": [
            "\n"
          ]
        },
        {
          "name": "stdout",
          "output_type": "stream",
          "text": [
            "\n"
          ]
        },
        {
          "name": "stderr",
          "output_type": "stream",
          "text": [
            "Epoch [638/3000]: 100%|██████████| 9/9 [00:00<00:00, 116.77it/s, loss=2.4]\n"
          ]
        },
        {
          "name": "stdout",
          "output_type": "stream",
          "text": [
            "Epoch [638/3000]: Train loss: 2.5319, Valid loss: 2.9383\n"
          ]
        },
        {
          "name": "stderr",
          "output_type": "stream",
          "text": [
            "Epoch [639/3000]: 100%|██████████| 9/9 [00:00<00:00, 124.47it/s, loss=2.63]"
          ]
        },
        {
          "name": "stdout",
          "output_type": "stream",
          "text": [
            "Epoch [639/3000]: Train loss: 2.5470, Valid loss: 2.4090"
          ]
        },
        {
          "name": "stderr",
          "output_type": "stream",
          "text": [
            "\n"
          ]
        },
        {
          "name": "stdout",
          "output_type": "stream",
          "text": [
            "\n"
          ]
        },
        {
          "name": "stderr",
          "output_type": "stream",
          "text": [
            "Epoch [640/3000]: 100%|██████████| 9/9 [00:00<00:00, 123.78it/s, loss=1.76]\n"
          ]
        },
        {
          "name": "stdout",
          "output_type": "stream",
          "text": [
            "Epoch [640/3000]: Train loss: 2.4865, Valid loss: 2.3943\n"
          ]
        },
        {
          "name": "stderr",
          "output_type": "stream",
          "text": [
            "Epoch [641/3000]: 100%|██████████| 9/9 [00:00<00:00, 117.87it/s, loss=2.69]"
          ]
        },
        {
          "name": "stdout",
          "output_type": "stream",
          "text": [
            "Epoch [641/3000]: Train loss: 2.5440, Valid loss: 3.0081\n"
          ]
        },
        {
          "name": "stderr",
          "output_type": "stream",
          "text": [
            "\n",
            "Epoch [642/3000]: 100%|██████████| 9/9 [00:00<00:00, 84.37it/s, loss=2.64]\n"
          ]
        },
        {
          "name": "stdout",
          "output_type": "stream",
          "text": [
            "Epoch [642/3000]: Train loss: 2.5368, Valid loss: 2.7059\n"
          ]
        },
        {
          "name": "stderr",
          "output_type": "stream",
          "text": [
            "Epoch [643/3000]: 100%|██████████| 9/9 [00:00<00:00, 107.67it/s, loss=2.16]\n"
          ]
        },
        {
          "name": "stdout",
          "output_type": "stream",
          "text": [
            "Epoch [643/3000]: Train loss: 2.5043, Valid loss: 2.6217\n"
          ]
        },
        {
          "name": "stderr",
          "output_type": "stream",
          "text": [
            "Epoch [644/3000]: 100%|██████████| 9/9 [00:00<00:00, 119.92it/s, loss=2.32]"
          ]
        },
        {
          "name": "stdout",
          "output_type": "stream",
          "text": [
            "Epoch [644/3000]: Train loss: 2.5139, Valid loss: 3.0903"
          ]
        },
        {
          "name": "stderr",
          "output_type": "stream",
          "text": [
            "\n"
          ]
        },
        {
          "name": "stdout",
          "output_type": "stream",
          "text": [
            "\n"
          ]
        },
        {
          "name": "stderr",
          "output_type": "stream",
          "text": [
            "Epoch [645/3000]: 100%|██████████| 9/9 [00:00<00:00, 120.89it/s, loss=2.93]\n"
          ]
        },
        {
          "name": "stdout",
          "output_type": "stream",
          "text": [
            "Epoch [645/3000]: Train loss: 2.5462, Valid loss: 2.3892\n"
          ]
        },
        {
          "name": "stderr",
          "output_type": "stream",
          "text": [
            "Epoch [646/3000]: 100%|██████████| 9/9 [00:00<00:00, 123.46it/s, loss=2.91]\n"
          ]
        },
        {
          "name": "stdout",
          "output_type": "stream",
          "text": [
            "Epoch [646/3000]: Train loss: 2.5430, Valid loss: 2.2471\n"
          ]
        },
        {
          "name": "stderr",
          "output_type": "stream",
          "text": [
            "Epoch [647/3000]: 100%|██████████| 9/9 [00:00<00:00, 120.56it/s, loss=2.45]\n"
          ]
        },
        {
          "name": "stdout",
          "output_type": "stream",
          "text": [
            "Epoch [647/3000]: Train loss: 2.5116, Valid loss: 2.7466\n"
          ]
        },
        {
          "name": "stderr",
          "output_type": "stream",
          "text": [
            "Epoch [648/3000]: 100%|██████████| 9/9 [00:00<00:00, 125.78it/s, loss=3.08]\n"
          ]
        },
        {
          "name": "stdout",
          "output_type": "stream",
          "text": [
            "Epoch [648/3000]: Train loss: 2.5490, Valid loss: 2.5851\n"
          ]
        },
        {
          "name": "stderr",
          "output_type": "stream",
          "text": [
            "Epoch [649/3000]: 100%|██████████| 9/9 [00:00<00:00, 120.99it/s, loss=2.77]\n"
          ]
        },
        {
          "name": "stdout",
          "output_type": "stream",
          "text": [
            "Epoch [649/3000]: Train loss: 2.5281, Valid loss: 2.3708\n"
          ]
        },
        {
          "name": "stderr",
          "output_type": "stream",
          "text": [
            "Epoch [650/3000]: 100%|██████████| 9/9 [00:00<00:00, 110.22it/s, loss=2.39]\n"
          ]
        },
        {
          "name": "stdout",
          "output_type": "stream",
          "text": [
            "Epoch [650/3000]: Train loss: 2.5013, Valid loss: 2.8401\n"
          ]
        },
        {
          "name": "stderr",
          "output_type": "stream",
          "text": [
            "Epoch [651/3000]: 100%|██████████| 9/9 [00:00<00:00, 104.29it/s, loss=2.86]\n"
          ]
        },
        {
          "name": "stdout",
          "output_type": "stream",
          "text": [
            "Epoch [651/3000]: Train loss: 2.5273, Valid loss: 1.9804\n",
            "Saving model with loss 1.980...\n"
          ]
        },
        {
          "name": "stderr",
          "output_type": "stream",
          "text": [
            "Epoch [652/3000]: 100%|██████████| 9/9 [00:00<00:00, 107.43it/s, loss=3.14]\n"
          ]
        },
        {
          "name": "stdout",
          "output_type": "stream",
          "text": [
            "Epoch [652/3000]: Train loss: 2.5460, Valid loss: 2.2634\n"
          ]
        },
        {
          "name": "stderr",
          "output_type": "stream",
          "text": [
            "Epoch [653/3000]: 100%|██████████| 9/9 [00:00<00:00, 101.35it/s, loss=2.2]\n"
          ]
        },
        {
          "name": "stdout",
          "output_type": "stream",
          "text": [
            "Epoch [653/3000]: Train loss: 2.4817, Valid loss: 2.2442\n"
          ]
        },
        {
          "name": "stderr",
          "output_type": "stream",
          "text": [
            "Epoch [654/3000]: 100%|██████████| 9/9 [00:00<00:00, 107.88it/s, loss=2.43]\n"
          ]
        },
        {
          "name": "stdout",
          "output_type": "stream",
          "text": [
            "Epoch [654/3000]: Train loss: 2.4949, Valid loss: 2.4733\n"
          ]
        },
        {
          "name": "stderr",
          "output_type": "stream",
          "text": [
            "Epoch [655/3000]: 100%|██████████| 9/9 [00:00<00:00, 104.16it/s, loss=1.98]\n"
          ]
        },
        {
          "name": "stdout",
          "output_type": "stream",
          "text": [
            "Epoch [655/3000]: Train loss: 2.4661, Valid loss: 2.6205\n"
          ]
        },
        {
          "name": "stderr",
          "output_type": "stream",
          "text": [
            "Epoch [656/3000]: 100%|██████████| 9/9 [00:00<00:00, 69.36it/s, loss=2.5] \n"
          ]
        },
        {
          "name": "stdout",
          "output_type": "stream",
          "text": [
            "Epoch [656/3000]: Train loss: 2.4903, Valid loss: 2.4637\n"
          ]
        },
        {
          "name": "stderr",
          "output_type": "stream",
          "text": [
            "Epoch [657/3000]: 100%|██████████| 9/9 [00:00<00:00, 100.13it/s, loss=2.76]\n"
          ]
        },
        {
          "name": "stdout",
          "output_type": "stream",
          "text": [
            "Epoch [657/3000]: Train loss: 2.5111, Valid loss: 2.3528\n"
          ]
        },
        {
          "name": "stderr",
          "output_type": "stream",
          "text": [
            "Epoch [658/3000]: 100%|██████████| 9/9 [00:00<00:00, 108.63it/s, loss=2.35]\n"
          ]
        },
        {
          "name": "stdout",
          "output_type": "stream",
          "text": [
            "Epoch [658/3000]: Train loss: 2.4788, Valid loss: 2.6035\n"
          ]
        },
        {
          "name": "stderr",
          "output_type": "stream",
          "text": [
            "Epoch [659/3000]: 100%|██████████| 9/9 [00:00<00:00, 76.10it/s, loss=2.27]\n"
          ]
        },
        {
          "name": "stdout",
          "output_type": "stream",
          "text": [
            "Epoch [659/3000]: Train loss: 2.4725, Valid loss: 2.2318\n"
          ]
        },
        {
          "name": "stderr",
          "output_type": "stream",
          "text": [
            "Epoch [660/3000]: 100%|██████████| 9/9 [00:00<00:00, 104.01it/s, loss=2.93]\n"
          ]
        },
        {
          "name": "stdout",
          "output_type": "stream",
          "text": [
            "Epoch [660/3000]: Train loss: 2.5117, Valid loss: 2.6019\n"
          ]
        },
        {
          "name": "stderr",
          "output_type": "stream",
          "text": [
            "Epoch [661/3000]: 100%|██████████| 9/9 [00:00<00:00, 124.90it/s, loss=2.82]\n"
          ]
        },
        {
          "name": "stdout",
          "output_type": "stream",
          "text": [
            "Epoch [661/3000]: Train loss: 2.4999, Valid loss: 2.2543\n"
          ]
        },
        {
          "name": "stderr",
          "output_type": "stream",
          "text": [
            "Epoch [662/3000]: 100%|██████████| 9/9 [00:00<00:00, 93.14it/s, loss=3.35]\n"
          ]
        },
        {
          "name": "stdout",
          "output_type": "stream",
          "text": [
            "Epoch [662/3000]: Train loss: 2.5321, Valid loss: 2.4244\n"
          ]
        },
        {
          "name": "stderr",
          "output_type": "stream",
          "text": [
            "Epoch [663/3000]: 100%|██████████| 9/9 [00:00<00:00, 130.40it/s, loss=2.4]\n"
          ]
        },
        {
          "name": "stdout",
          "output_type": "stream",
          "text": [
            "Epoch [663/3000]: Train loss: 2.4705, Valid loss: 2.6813\n"
          ]
        },
        {
          "name": "stderr",
          "output_type": "stream",
          "text": [
            "Epoch [664/3000]: 100%|██████████| 9/9 [00:00<00:00, 139.33it/s, loss=2.54]\n"
          ]
        },
        {
          "name": "stdout",
          "output_type": "stream",
          "text": [
            "Epoch [664/3000]: Train loss: 2.4777, Valid loss: 2.4091\n"
          ]
        },
        {
          "name": "stderr",
          "output_type": "stream",
          "text": [
            "Epoch [665/3000]: 100%|██████████| 9/9 [00:00<00:00, 122.25it/s, loss=2.64]\n"
          ]
        },
        {
          "name": "stdout",
          "output_type": "stream",
          "text": [
            "Epoch [665/3000]: Train loss: 2.4818, Valid loss: 2.4286\n"
          ]
        },
        {
          "name": "stderr",
          "output_type": "stream",
          "text": [
            "Epoch [666/3000]: 100%|██████████| 9/9 [00:00<00:00, 141.00it/s, loss=2.26]\n"
          ]
        },
        {
          "name": "stdout",
          "output_type": "stream",
          "text": [
            "Epoch [666/3000]: Train loss: 2.4533, Valid loss: 2.2962\n"
          ]
        },
        {
          "name": "stderr",
          "output_type": "stream",
          "text": [
            "Epoch [667/3000]: 100%|██████████| 9/9 [00:00<00:00, 118.84it/s, loss=2.11]"
          ]
        },
        {
          "name": "stdout",
          "output_type": "stream",
          "text": [
            "Epoch [667/3000]: Train loss: 2.4437, Valid loss: 2.2209"
          ]
        },
        {
          "name": "stderr",
          "output_type": "stream",
          "text": [
            "\n"
          ]
        },
        {
          "name": "stdout",
          "output_type": "stream",
          "text": [
            "\n"
          ]
        },
        {
          "name": "stderr",
          "output_type": "stream",
          "text": [
            "Epoch [668/3000]: 100%|██████████| 9/9 [00:00<00:00, 125.56it/s, loss=2.59]"
          ]
        },
        {
          "name": "stdout",
          "output_type": "stream",
          "text": [
            "Epoch [668/3000]: Train loss: 2.4694, Valid loss: 2.6782"
          ]
        },
        {
          "name": "stderr",
          "output_type": "stream",
          "text": [
            "\n"
          ]
        },
        {
          "name": "stdout",
          "output_type": "stream",
          "text": [
            "\n"
          ]
        },
        {
          "name": "stderr",
          "output_type": "stream",
          "text": [
            "Epoch [669/3000]: 100%|██████████| 9/9 [00:00<00:00, 126.55it/s, loss=2.43]\n"
          ]
        },
        {
          "name": "stdout",
          "output_type": "stream",
          "text": [
            "Epoch [669/3000]: Train loss: 2.4567, Valid loss: 2.6199\n"
          ]
        },
        {
          "name": "stderr",
          "output_type": "stream",
          "text": [
            "Epoch [670/3000]: 100%|██████████| 9/9 [00:00<00:00, 127.17it/s, loss=2.52]\n"
          ]
        },
        {
          "name": "stdout",
          "output_type": "stream",
          "text": [
            "Epoch [670/3000]: Train loss: 2.4623, Valid loss: 2.3951\n"
          ]
        },
        {
          "name": "stderr",
          "output_type": "stream",
          "text": [
            "Epoch [671/3000]: 100%|██████████| 9/9 [00:00<00:00, 128.44it/s, loss=2.76]\n"
          ]
        },
        {
          "name": "stdout",
          "output_type": "stream",
          "text": [
            "Epoch [671/3000]: Train loss: 2.4747, Valid loss: 2.4080\n"
          ]
        },
        {
          "name": "stderr",
          "output_type": "stream",
          "text": [
            "Epoch [672/3000]: 100%|██████████| 9/9 [00:00<00:00, 144.50it/s, loss=2.22]\n"
          ]
        },
        {
          "name": "stdout",
          "output_type": "stream",
          "text": [
            "Epoch [672/3000]: Train loss: 2.4391, Valid loss: 2.2942\n"
          ]
        },
        {
          "name": "stderr",
          "output_type": "stream",
          "text": [
            "Epoch [673/3000]: 100%|██████████| 9/9 [00:00<00:00, 150.32it/s, loss=2.36]\n"
          ]
        },
        {
          "name": "stdout",
          "output_type": "stream",
          "text": [
            "Epoch [673/3000]: Train loss: 2.4458, Valid loss: 2.5543\n"
          ]
        },
        {
          "name": "stderr",
          "output_type": "stream",
          "text": [
            "Epoch [674/3000]: 100%|██████████| 9/9 [00:00<00:00, 148.50it/s, loss=2.78]\n"
          ]
        },
        {
          "name": "stdout",
          "output_type": "stream",
          "text": [
            "Epoch [674/3000]: Train loss: 2.4709, Valid loss: 2.5915\n"
          ]
        },
        {
          "name": "stderr",
          "output_type": "stream",
          "text": [
            "Epoch [675/3000]: 100%|██████████| 9/9 [00:00<00:00, 133.81it/s, loss=2.55]\n"
          ]
        },
        {
          "name": "stdout",
          "output_type": "stream",
          "text": [
            "Epoch [675/3000]: Train loss: 2.4512, Valid loss: 2.2339\n"
          ]
        },
        {
          "name": "stderr",
          "output_type": "stream",
          "text": [
            "Epoch [676/3000]: 100%|██████████| 9/9 [00:00<00:00, 43.13it/s, loss=2.58]\n"
          ]
        },
        {
          "name": "stdout",
          "output_type": "stream",
          "text": [
            "Epoch [676/3000]: Train loss: 2.4506, Valid loss: 2.7674\n"
          ]
        },
        {
          "name": "stderr",
          "output_type": "stream",
          "text": [
            "Epoch [677/3000]: 100%|██████████| 9/9 [00:00<00:00, 142.64it/s, loss=2.64]\n"
          ]
        },
        {
          "name": "stdout",
          "output_type": "stream",
          "text": [
            "Epoch [677/3000]: Train loss: 2.4503, Valid loss: 2.4496\n"
          ]
        },
        {
          "name": "stderr",
          "output_type": "stream",
          "text": [
            "Epoch [678/3000]: 100%|██████████| 9/9 [00:00<00:00, 155.18it/s, loss=2.77]\n"
          ]
        },
        {
          "name": "stdout",
          "output_type": "stream",
          "text": [
            "Epoch [678/3000]: Train loss: 2.4619, Valid loss: 2.9334\n"
          ]
        },
        {
          "name": "stderr",
          "output_type": "stream",
          "text": [
            "Epoch [679/3000]: 100%|██████████| 9/9 [00:00<00:00, 136.85it/s, loss=3.1]\n"
          ]
        },
        {
          "name": "stdout",
          "output_type": "stream",
          "text": [
            "Epoch [679/3000]: Train loss: 2.4792, Valid loss: 2.7429\n"
          ]
        },
        {
          "name": "stderr",
          "output_type": "stream",
          "text": [
            "Epoch [680/3000]: 100%|██████████| 9/9 [00:00<00:00, 140.56it/s, loss=2.42]\n"
          ]
        },
        {
          "name": "stdout",
          "output_type": "stream",
          "text": [
            "Epoch [680/3000]: Train loss: 2.4333, Valid loss: 2.5286\n"
          ]
        },
        {
          "name": "stderr",
          "output_type": "stream",
          "text": [
            "Epoch [681/3000]: 100%|██████████| 9/9 [00:00<00:00, 144.54it/s, loss=2.91]\n"
          ]
        },
        {
          "name": "stdout",
          "output_type": "stream",
          "text": [
            "Epoch [681/3000]: Train loss: 2.4619, Valid loss: 2.7836\n"
          ]
        },
        {
          "name": "stderr",
          "output_type": "stream",
          "text": [
            "Epoch [682/3000]: 100%|██████████| 9/9 [00:00<00:00, 139.88it/s, loss=1.72]\n"
          ]
        },
        {
          "name": "stdout",
          "output_type": "stream",
          "text": [
            "Epoch [682/3000]: Train loss: 2.3811, Valid loss: 2.6434\n"
          ]
        },
        {
          "name": "stderr",
          "output_type": "stream",
          "text": [
            "Epoch [683/3000]: 100%|██████████| 9/9 [00:00<00:00, 139.67it/s, loss=3.18]\n"
          ]
        },
        {
          "name": "stdout",
          "output_type": "stream",
          "text": [
            "Epoch [683/3000]: Train loss: 2.4716, Valid loss: 2.4200\n"
          ]
        },
        {
          "name": "stderr",
          "output_type": "stream",
          "text": [
            "Epoch [684/3000]: 100%|██████████| 9/9 [00:00<00:00, 145.34it/s, loss=3.2]\n"
          ]
        },
        {
          "name": "stdout",
          "output_type": "stream",
          "text": [
            "Epoch [684/3000]: Train loss: 2.4707, Valid loss: 2.3828\n"
          ]
        },
        {
          "name": "stderr",
          "output_type": "stream",
          "text": [
            "Epoch [685/3000]: 100%|██████████| 9/9 [00:00<00:00, 143.94it/s, loss=2.41]\n"
          ]
        },
        {
          "name": "stdout",
          "output_type": "stream",
          "text": [
            "Epoch [685/3000]: Train loss: 2.4186, Valid loss: 2.0396\n"
          ]
        },
        {
          "name": "stderr",
          "output_type": "stream",
          "text": [
            "Epoch [686/3000]: 100%|██████████| 9/9 [00:00<00:00, 133.65it/s, loss=2.51]\n"
          ]
        },
        {
          "name": "stdout",
          "output_type": "stream",
          "text": [
            "Epoch [686/3000]: Train loss: 2.4235, Valid loss: 2.8964\n"
          ]
        },
        {
          "name": "stderr",
          "output_type": "stream",
          "text": [
            "Epoch [687/3000]: 100%|██████████| 9/9 [00:00<00:00, 132.83it/s, loss=1.83]\n"
          ]
        },
        {
          "name": "stdout",
          "output_type": "stream",
          "text": [
            "Epoch [687/3000]: Train loss: 2.3788, Valid loss: 2.2530\n"
          ]
        },
        {
          "name": "stderr",
          "output_type": "stream",
          "text": [
            "Epoch [688/3000]: 100%|██████████| 9/9 [00:00<00:00, 152.69it/s, loss=3.42]\n"
          ]
        },
        {
          "name": "stdout",
          "output_type": "stream",
          "text": [
            "Epoch [688/3000]: Train loss: 2.4760, Valid loss: 2.2330\n"
          ]
        },
        {
          "name": "stderr",
          "output_type": "stream",
          "text": [
            "Epoch [689/3000]: 100%|██████████| 9/9 [00:00<00:00, 140.99it/s, loss=3.01]\n"
          ]
        },
        {
          "name": "stdout",
          "output_type": "stream",
          "text": [
            "Epoch [689/3000]: Train loss: 2.4491, Valid loss: 2.8198\n"
          ]
        },
        {
          "name": "stderr",
          "output_type": "stream",
          "text": [
            "Epoch [690/3000]: 100%|██████████| 9/9 [00:00<00:00, 128.34it/s, loss=1.74]\n"
          ]
        },
        {
          "name": "stdout",
          "output_type": "stream",
          "text": [
            "Epoch [690/3000]: Train loss: 2.3661, Valid loss: 2.6880\n"
          ]
        },
        {
          "name": "stderr",
          "output_type": "stream",
          "text": [
            "Epoch [691/3000]: 100%|██████████| 9/9 [00:00<00:00, 125.06it/s, loss=2.1]\n"
          ]
        },
        {
          "name": "stdout",
          "output_type": "stream",
          "text": [
            "Epoch [691/3000]: Train loss: 2.3858, Valid loss: 2.1490\n"
          ]
        },
        {
          "name": "stderr",
          "output_type": "stream",
          "text": [
            "Epoch [692/3000]: 100%|██████████| 9/9 [00:00<00:00, 141.42it/s, loss=2.28]\n"
          ]
        },
        {
          "name": "stdout",
          "output_type": "stream",
          "text": [
            "Epoch [692/3000]: Train loss: 2.3973, Valid loss: 2.7676\n"
          ]
        },
        {
          "name": "stderr",
          "output_type": "stream",
          "text": [
            "Epoch [693/3000]: 100%|██████████| 9/9 [00:00<00:00, 144.52it/s, loss=2.19]\n"
          ]
        },
        {
          "name": "stdout",
          "output_type": "stream",
          "text": [
            "Epoch [693/3000]: Train loss: 2.3880, Valid loss: 3.0169\n"
          ]
        },
        {
          "name": "stderr",
          "output_type": "stream",
          "text": [
            "Epoch [694/3000]: 100%|██████████| 9/9 [00:00<00:00, 144.52it/s, loss=1.99]\n"
          ]
        },
        {
          "name": "stdout",
          "output_type": "stream",
          "text": [
            "Epoch [694/3000]: Train loss: 2.3741, Valid loss: 2.2969\n"
          ]
        },
        {
          "name": "stderr",
          "output_type": "stream",
          "text": [
            "Epoch [695/3000]: 100%|██████████| 9/9 [00:00<00:00, 128.39it/s, loss=2.9]\n"
          ]
        },
        {
          "name": "stdout",
          "output_type": "stream",
          "text": [
            "Epoch [695/3000]: Train loss: 2.4295, Valid loss: 2.6342\n"
          ]
        },
        {
          "name": "stderr",
          "output_type": "stream",
          "text": [
            "Epoch [696/3000]: 100%|██████████| 9/9 [00:00<00:00, 135.02it/s, loss=2.73]\n"
          ]
        },
        {
          "name": "stdout",
          "output_type": "stream",
          "text": [
            "Epoch [696/3000]: Train loss: 2.4152, Valid loss: 2.5703\n"
          ]
        },
        {
          "name": "stderr",
          "output_type": "stream",
          "text": [
            "Epoch [697/3000]: 100%|██████████| 9/9 [00:00<00:00, 156.98it/s, loss=2.07]\n"
          ]
        },
        {
          "name": "stdout",
          "output_type": "stream",
          "text": [
            "Epoch [697/3000]: Train loss: 2.3723, Valid loss: 2.4485\n"
          ]
        },
        {
          "name": "stderr",
          "output_type": "stream",
          "text": [
            "Epoch [698/3000]: 100%|██████████| 9/9 [00:00<00:00, 130.98it/s, loss=2.45]\n"
          ]
        },
        {
          "name": "stdout",
          "output_type": "stream",
          "text": [
            "Epoch [698/3000]: Train loss: 2.3937, Valid loss: 2.2571\n"
          ]
        },
        {
          "name": "stderr",
          "output_type": "stream",
          "text": [
            "Epoch [699/3000]: 100%|██████████| 9/9 [00:00<00:00, 145.51it/s, loss=2.86]\n"
          ]
        },
        {
          "name": "stdout",
          "output_type": "stream",
          "text": [
            "Epoch [699/3000]: Train loss: 2.4170, Valid loss: 2.7681\n"
          ]
        },
        {
          "name": "stderr",
          "output_type": "stream",
          "text": [
            "Epoch [700/3000]: 100%|██████████| 9/9 [00:00<00:00, 111.74it/s, loss=3.03]\n"
          ]
        },
        {
          "name": "stdout",
          "output_type": "stream",
          "text": [
            "Epoch [700/3000]: Train loss: 2.4275, Valid loss: 2.4309\n"
          ]
        },
        {
          "name": "stderr",
          "output_type": "stream",
          "text": [
            "Epoch [701/3000]: 100%|██████████| 9/9 [00:00<00:00, 114.67it/s, loss=2.73]\n"
          ]
        },
        {
          "name": "stdout",
          "output_type": "stream",
          "text": [
            "Epoch [701/3000]: Train loss: 2.4063, Valid loss: 2.0890\n"
          ]
        },
        {
          "name": "stderr",
          "output_type": "stream",
          "text": [
            "Epoch [702/3000]: 100%|██████████| 9/9 [00:00<00:00, 140.68it/s, loss=2.3]\n"
          ]
        },
        {
          "name": "stdout",
          "output_type": "stream",
          "text": [
            "Epoch [702/3000]: Train loss: 2.3774, Valid loss: 2.6336\n"
          ]
        },
        {
          "name": "stderr",
          "output_type": "stream",
          "text": [
            "Epoch [703/3000]: 100%|██████████| 9/9 [00:00<00:00, 155.85it/s, loss=2.44]\n"
          ]
        },
        {
          "name": "stdout",
          "output_type": "stream",
          "text": [
            "Epoch [703/3000]: Train loss: 2.3808, Valid loss: 2.0328\n"
          ]
        },
        {
          "name": "stderr",
          "output_type": "stream",
          "text": [
            "Epoch [704/3000]: 100%|██████████| 9/9 [00:00<00:00, 142.64it/s, loss=2.18]\n"
          ]
        },
        {
          "name": "stdout",
          "output_type": "stream",
          "text": [
            "Epoch [704/3000]: Train loss: 2.3692, Valid loss: 2.5026\n"
          ]
        },
        {
          "name": "stderr",
          "output_type": "stream",
          "text": [
            "Epoch [705/3000]: 100%|██████████| 9/9 [00:00<00:00, 143.03it/s, loss=2.09]\n"
          ]
        },
        {
          "name": "stdout",
          "output_type": "stream",
          "text": [
            "Epoch [705/3000]: Train loss: 2.3569, Valid loss: 2.3328\n"
          ]
        },
        {
          "name": "stderr",
          "output_type": "stream",
          "text": [
            "Epoch [706/3000]: 100%|██████████| 9/9 [00:00<00:00, 142.74it/s, loss=2.73]\n"
          ]
        },
        {
          "name": "stdout",
          "output_type": "stream",
          "text": [
            "Epoch [706/3000]: Train loss: 2.3950, Valid loss: 2.6812\n"
          ]
        },
        {
          "name": "stderr",
          "output_type": "stream",
          "text": [
            "Epoch [707/3000]: 100%|██████████| 9/9 [00:00<00:00, 133.82it/s, loss=2.55]\n"
          ]
        },
        {
          "name": "stdout",
          "output_type": "stream",
          "text": [
            "Epoch [707/3000]: Train loss: 2.3795, Valid loss: 2.3697\n"
          ]
        },
        {
          "name": "stderr",
          "output_type": "stream",
          "text": [
            "Epoch [708/3000]: 100%|██████████| 9/9 [00:00<00:00, 136.62it/s, loss=1.97]\n"
          ]
        },
        {
          "name": "stdout",
          "output_type": "stream",
          "text": [
            "Epoch [708/3000]: Train loss: 2.3423, Valid loss: 2.8176\n"
          ]
        },
        {
          "name": "stderr",
          "output_type": "stream",
          "text": [
            "Epoch [709/3000]: 100%|██████████| 9/9 [00:00<00:00, 141.19it/s, loss=2.98]\n"
          ]
        },
        {
          "name": "stdout",
          "output_type": "stream",
          "text": [
            "Epoch [709/3000]: Train loss: 2.4050, Valid loss: 2.6533\n"
          ]
        },
        {
          "name": "stderr",
          "output_type": "stream",
          "text": [
            "Epoch [710/3000]: 100%|██████████| 9/9 [00:00<00:00, 139.81it/s, loss=2.73]\n"
          ]
        },
        {
          "name": "stdout",
          "output_type": "stream",
          "text": [
            "Epoch [710/3000]: Train loss: 2.3858, Valid loss: 3.1469\n"
          ]
        },
        {
          "name": "stderr",
          "output_type": "stream",
          "text": [
            "Epoch [711/3000]: 100%|██████████| 9/9 [00:00<00:00, 136.82it/s, loss=2.5]\n"
          ]
        },
        {
          "name": "stdout",
          "output_type": "stream",
          "text": [
            "Epoch [711/3000]: Train loss: 2.3700, Valid loss: 2.3975\n"
          ]
        },
        {
          "name": "stderr",
          "output_type": "stream",
          "text": [
            "Epoch [712/3000]: 100%|██████████| 9/9 [00:00<00:00, 150.59it/s, loss=1.75]\n"
          ]
        },
        {
          "name": "stdout",
          "output_type": "stream",
          "text": [
            "Epoch [712/3000]: Train loss: 2.3210, Valid loss: 2.1561\n"
          ]
        },
        {
          "name": "stderr",
          "output_type": "stream",
          "text": [
            "Epoch [713/3000]: 100%|██████████| 9/9 [00:00<00:00, 126.66it/s, loss=2.75]\n"
          ]
        },
        {
          "name": "stdout",
          "output_type": "stream",
          "text": [
            "Epoch [713/3000]: Train loss: 2.3783, Valid loss: 2.3673\n"
          ]
        },
        {
          "name": "stderr",
          "output_type": "stream",
          "text": [
            "Epoch [714/3000]: 100%|██████████| 9/9 [00:00<00:00, 149.37it/s, loss=1.73]\n"
          ]
        },
        {
          "name": "stdout",
          "output_type": "stream",
          "text": [
            "Epoch [714/3000]: Train loss: 2.3144, Valid loss: 2.8037\n"
          ]
        },
        {
          "name": "stderr",
          "output_type": "stream",
          "text": [
            "Epoch [715/3000]: 100%|██████████| 9/9 [00:00<00:00, 128.44it/s, loss=2.46]\n"
          ]
        },
        {
          "name": "stdout",
          "output_type": "stream",
          "text": [
            "Epoch [715/3000]: Train loss: 2.3585, Valid loss: 2.1781\n"
          ]
        },
        {
          "name": "stderr",
          "output_type": "stream",
          "text": [
            "Epoch [716/3000]: 100%|██████████| 9/9 [00:00<00:00, 159.71it/s, loss=2.02]\n"
          ]
        },
        {
          "name": "stdout",
          "output_type": "stream",
          "text": [
            "Epoch [716/3000]: Train loss: 2.3273, Valid loss: 2.1290\n"
          ]
        },
        {
          "name": "stderr",
          "output_type": "stream",
          "text": [
            "Epoch [717/3000]: 100%|██████████| 9/9 [00:00<00:00, 143.03it/s, loss=2.23]\n"
          ]
        },
        {
          "name": "stdout",
          "output_type": "stream",
          "text": [
            "Epoch [717/3000]: Train loss: 2.3393, Valid loss: 2.7527\n"
          ]
        },
        {
          "name": "stderr",
          "output_type": "stream",
          "text": [
            "Epoch [718/3000]: 100%|██████████| 9/9 [00:00<00:00, 133.56it/s, loss=2.29]\n"
          ]
        },
        {
          "name": "stdout",
          "output_type": "stream",
          "text": [
            "Epoch [718/3000]: Train loss: 2.3419, Valid loss: 2.6584\n"
          ]
        },
        {
          "name": "stderr",
          "output_type": "stream",
          "text": [
            "Epoch [719/3000]: 100%|██████████| 9/9 [00:00<00:00, 126.75it/s, loss=2.37]\n"
          ]
        },
        {
          "name": "stdout",
          "output_type": "stream",
          "text": [
            "Epoch [719/3000]: Train loss: 2.3450, Valid loss: 2.1100\n"
          ]
        },
        {
          "name": "stderr",
          "output_type": "stream",
          "text": [
            "Epoch [720/3000]: 100%|██████████| 9/9 [00:00<00:00, 118.97it/s, loss=2.55]"
          ]
        },
        {
          "name": "stdout",
          "output_type": "stream",
          "text": [
            "Epoch [720/3000]: Train loss: 2.3546, Valid loss: 2.4751"
          ]
        },
        {
          "name": "stderr",
          "output_type": "stream",
          "text": [
            "\n"
          ]
        },
        {
          "name": "stdout",
          "output_type": "stream",
          "text": [
            "\n"
          ]
        },
        {
          "name": "stderr",
          "output_type": "stream",
          "text": [
            "Epoch [721/3000]: 100%|██████████| 9/9 [00:00<00:00, 112.98it/s, loss=2.15]"
          ]
        },
        {
          "name": "stdout",
          "output_type": "stream",
          "text": [
            "Epoch [721/3000]: Train loss: 2.3279, Valid loss: 2.2177"
          ]
        },
        {
          "name": "stderr",
          "output_type": "stream",
          "text": [
            "\n"
          ]
        },
        {
          "name": "stdout",
          "output_type": "stream",
          "text": [
            "\n"
          ]
        },
        {
          "name": "stderr",
          "output_type": "stream",
          "text": [
            "Epoch [722/3000]: 100%|██████████| 9/9 [00:00<00:00, 139.08it/s, loss=2.61]\n"
          ]
        },
        {
          "name": "stdout",
          "output_type": "stream",
          "text": [
            "Epoch [722/3000]: Train loss: 2.3526, Valid loss: 2.6379\n"
          ]
        },
        {
          "name": "stderr",
          "output_type": "stream",
          "text": [
            "Epoch [723/3000]: 100%|██████████| 9/9 [00:00<00:00, 150.60it/s, loss=2.72]\n"
          ]
        },
        {
          "name": "stdout",
          "output_type": "stream",
          "text": [
            "Epoch [723/3000]: Train loss: 2.3582, Valid loss: 2.5837\n"
          ]
        },
        {
          "name": "stderr",
          "output_type": "stream",
          "text": [
            "Epoch [724/3000]: 100%|██████████| 9/9 [00:00<00:00, 138.16it/s, loss=2.02]\n"
          ]
        },
        {
          "name": "stdout",
          "output_type": "stream",
          "text": [
            "Epoch [724/3000]: Train loss: 2.3149, Valid loss: 2.4854\n"
          ]
        },
        {
          "name": "stderr",
          "output_type": "stream",
          "text": [
            "Epoch [725/3000]: 100%|██████████| 9/9 [00:00<00:00, 151.06it/s, loss=2.84]\n"
          ]
        },
        {
          "name": "stdout",
          "output_type": "stream",
          "text": [
            "Epoch [725/3000]: Train loss: 2.3643, Valid loss: 2.2878\n"
          ]
        },
        {
          "name": "stderr",
          "output_type": "stream",
          "text": [
            "Epoch [726/3000]: 100%|██████████| 9/9 [00:00<00:00, 137.44it/s, loss=2.21]\n"
          ]
        },
        {
          "name": "stdout",
          "output_type": "stream",
          "text": [
            "Epoch [726/3000]: Train loss: 2.3214, Valid loss: 2.1376\n"
          ]
        },
        {
          "name": "stderr",
          "output_type": "stream",
          "text": [
            "Epoch [727/3000]: 100%|██████████| 9/9 [00:00<00:00, 124.78it/s, loss=2.76]\n"
          ]
        },
        {
          "name": "stdout",
          "output_type": "stream",
          "text": [
            "Epoch [727/3000]: Train loss: 2.3538, Valid loss: 2.6915\n"
          ]
        },
        {
          "name": "stderr",
          "output_type": "stream",
          "text": [
            "Epoch [728/3000]: 100%|██████████| 9/9 [00:00<00:00, 131.37it/s, loss=2.46]\n"
          ]
        },
        {
          "name": "stdout",
          "output_type": "stream",
          "text": [
            "Epoch [728/3000]: Train loss: 2.3316, Valid loss: 2.6082\n"
          ]
        },
        {
          "name": "stderr",
          "output_type": "stream",
          "text": [
            "Epoch [729/3000]: 100%|██████████| 9/9 [00:00<00:00, 128.31it/s, loss=2.2]\n"
          ]
        },
        {
          "name": "stdout",
          "output_type": "stream",
          "text": [
            "Epoch [729/3000]: Train loss: 2.3138, Valid loss: 2.7270\n"
          ]
        },
        {
          "name": "stderr",
          "output_type": "stream",
          "text": [
            "Epoch [730/3000]: 100%|██████████| 9/9 [00:00<00:00, 126.43it/s, loss=1.82]\n"
          ]
        },
        {
          "name": "stdout",
          "output_type": "stream",
          "text": [
            "Epoch [730/3000]: Train loss: 2.2937, Valid loss: 2.1817\n"
          ]
        },
        {
          "name": "stderr",
          "output_type": "stream",
          "text": [
            "Epoch [731/3000]: 100%|██████████| 9/9 [00:00<00:00, 138.34it/s, loss=2.54]\n"
          ]
        },
        {
          "name": "stdout",
          "output_type": "stream",
          "text": [
            "Epoch [731/3000]: Train loss: 2.3321, Valid loss: 2.5682\n"
          ]
        },
        {
          "name": "stderr",
          "output_type": "stream",
          "text": [
            "Epoch [732/3000]: 100%|██████████| 9/9 [00:00<00:00, 146.07it/s, loss=2.71]\n"
          ]
        },
        {
          "name": "stdout",
          "output_type": "stream",
          "text": [
            "Epoch [732/3000]: Train loss: 2.3412, Valid loss: 2.0954\n"
          ]
        },
        {
          "name": "stderr",
          "output_type": "stream",
          "text": [
            "Epoch [733/3000]: 100%|██████████| 9/9 [00:00<00:00, 140.81it/s, loss=2.62]\n"
          ]
        },
        {
          "name": "stdout",
          "output_type": "stream",
          "text": [
            "Epoch [733/3000]: Train loss: 2.3319, Valid loss: 2.6405\n"
          ]
        },
        {
          "name": "stderr",
          "output_type": "stream",
          "text": [
            "Epoch [734/3000]: 100%|██████████| 9/9 [00:00<00:00, 142.56it/s, loss=2.03]\n"
          ]
        },
        {
          "name": "stdout",
          "output_type": "stream",
          "text": [
            "Epoch [734/3000]: Train loss: 2.2948, Valid loss: 2.3632\n"
          ]
        },
        {
          "name": "stderr",
          "output_type": "stream",
          "text": [
            "Epoch [735/3000]: 100%|██████████| 9/9 [00:00<00:00, 132.56it/s, loss=1.91]\n"
          ]
        },
        {
          "name": "stdout",
          "output_type": "stream",
          "text": [
            "Epoch [735/3000]: Train loss: 2.2847, Valid loss: 2.2705\n"
          ]
        },
        {
          "name": "stderr",
          "output_type": "stream",
          "text": [
            "Epoch [736/3000]: 100%|██████████| 9/9 [00:00<00:00, 131.53it/s, loss=2.04]\n"
          ]
        },
        {
          "name": "stdout",
          "output_type": "stream",
          "text": [
            "Epoch [736/3000]: Train loss: 2.2904, Valid loss: 2.2770\n"
          ]
        },
        {
          "name": "stderr",
          "output_type": "stream",
          "text": [
            "Epoch [737/3000]: 100%|██████████| 9/9 [00:00<00:00, 141.22it/s, loss=3.63]\n"
          ]
        },
        {
          "name": "stdout",
          "output_type": "stream",
          "text": [
            "Epoch [737/3000]: Train loss: 2.3888, Valid loss: 2.0948\n"
          ]
        },
        {
          "name": "stderr",
          "output_type": "stream",
          "text": [
            "Epoch [738/3000]: 100%|██████████| 9/9 [00:00<00:00, 101.43it/s, loss=2.06]\n"
          ]
        },
        {
          "name": "stdout",
          "output_type": "stream",
          "text": [
            "Epoch [738/3000]: Train loss: 2.2880, Valid loss: 2.2137\n"
          ]
        },
        {
          "name": "stderr",
          "output_type": "stream",
          "text": [
            "Epoch [739/3000]: 100%|██████████| 9/9 [00:00<00:00, 127.75it/s, loss=1.97]\n"
          ]
        },
        {
          "name": "stdout",
          "output_type": "stream",
          "text": [
            "Epoch [739/3000]: Train loss: 2.2825, Valid loss: 2.4824\n"
          ]
        },
        {
          "name": "stderr",
          "output_type": "stream",
          "text": [
            "Epoch [740/3000]: 100%|██████████| 9/9 [00:00<00:00, 139.91it/s, loss=2.27]\n"
          ]
        },
        {
          "name": "stdout",
          "output_type": "stream",
          "text": [
            "Epoch [740/3000]: Train loss: 2.2979, Valid loss: 2.1016\n"
          ]
        },
        {
          "name": "stderr",
          "output_type": "stream",
          "text": [
            "Epoch [741/3000]: 100%|██████████| 9/9 [00:00<00:00, 131.78it/s, loss=1.84]\n"
          ]
        },
        {
          "name": "stdout",
          "output_type": "stream",
          "text": [
            "Epoch [741/3000]: Train loss: 2.2694, Valid loss: 2.2270\n"
          ]
        },
        {
          "name": "stderr",
          "output_type": "stream",
          "text": [
            "Epoch [742/3000]: 100%|██████████| 9/9 [00:00<00:00, 119.11it/s, loss=2.61]\n"
          ]
        },
        {
          "name": "stdout",
          "output_type": "stream",
          "text": [
            "Epoch [742/3000]: Train loss: 2.3184, Valid loss: 2.6018\n"
          ]
        },
        {
          "name": "stderr",
          "output_type": "stream",
          "text": [
            "Epoch [743/3000]: 100%|██████████| 9/9 [00:00<00:00, 131.66it/s, loss=2.35]\n"
          ]
        },
        {
          "name": "stdout",
          "output_type": "stream",
          "text": [
            "Epoch [743/3000]: Train loss: 2.2984, Valid loss: 2.4090\n"
          ]
        },
        {
          "name": "stderr",
          "output_type": "stream",
          "text": [
            "Epoch [744/3000]: 100%|██████████| 9/9 [00:00<00:00, 147.98it/s, loss=2.05]\n"
          ]
        },
        {
          "name": "stdout",
          "output_type": "stream",
          "text": [
            "Epoch [744/3000]: Train loss: 2.2788, Valid loss: 2.6229\n"
          ]
        },
        {
          "name": "stderr",
          "output_type": "stream",
          "text": [
            "Epoch [745/3000]: 100%|██████████| 9/9 [00:00<00:00, 148.97it/s, loss=1.91]\n"
          ]
        },
        {
          "name": "stdout",
          "output_type": "stream",
          "text": [
            "Epoch [745/3000]: Train loss: 2.2656, Valid loss: 2.3855\n"
          ]
        },
        {
          "name": "stderr",
          "output_type": "stream",
          "text": [
            "Epoch [746/3000]: 100%|██████████| 9/9 [00:00<00:00, 127.31it/s, loss=3.16]\n"
          ]
        },
        {
          "name": "stdout",
          "output_type": "stream",
          "text": [
            "Epoch [746/3000]: Train loss: 2.3412, Valid loss: 2.3303\n"
          ]
        },
        {
          "name": "stderr",
          "output_type": "stream",
          "text": [
            "Epoch [747/3000]: 100%|██████████| 9/9 [00:00<00:00, 151.20it/s, loss=2.71]\n"
          ]
        },
        {
          "name": "stdout",
          "output_type": "stream",
          "text": [
            "Epoch [747/3000]: Train loss: 2.3130, Valid loss: 2.2022\n"
          ]
        },
        {
          "name": "stderr",
          "output_type": "stream",
          "text": [
            "Epoch [748/3000]: 100%|██████████| 9/9 [00:00<00:00, 134.37it/s, loss=2.65]\n"
          ]
        },
        {
          "name": "stdout",
          "output_type": "stream",
          "text": [
            "Epoch [748/3000]: Train loss: 2.3067, Valid loss: 2.4228\n"
          ]
        },
        {
          "name": "stderr",
          "output_type": "stream",
          "text": [
            "Epoch [749/3000]: 100%|██████████| 9/9 [00:00<00:00, 136.47it/s, loss=2.22]\n"
          ]
        },
        {
          "name": "stdout",
          "output_type": "stream",
          "text": [
            "Epoch [749/3000]: Train loss: 2.2773, Valid loss: 2.4751\n"
          ]
        },
        {
          "name": "stderr",
          "output_type": "stream",
          "text": [
            "Epoch [750/3000]: 100%|██████████| 9/9 [00:00<00:00, 142.01it/s, loss=2.43]\n"
          ]
        },
        {
          "name": "stdout",
          "output_type": "stream",
          "text": [
            "Epoch [750/3000]: Train loss: 2.2887, Valid loss: 2.4650\n"
          ]
        },
        {
          "name": "stderr",
          "output_type": "stream",
          "text": [
            "Epoch [751/3000]: 100%|██████████| 9/9 [00:00<00:00, 135.49it/s, loss=2.55]\n"
          ]
        },
        {
          "name": "stdout",
          "output_type": "stream",
          "text": [
            "Epoch [751/3000]: Train loss: 2.2955, Valid loss: 2.3623\n"
          ]
        },
        {
          "name": "stderr",
          "output_type": "stream",
          "text": [
            "Epoch [752/3000]: 100%|██████████| 9/9 [00:00<00:00, 142.69it/s, loss=2.42]\n"
          ]
        },
        {
          "name": "stdout",
          "output_type": "stream",
          "text": [
            "Epoch [752/3000]: Train loss: 2.2857, Valid loss: 2.0684\n"
          ]
        },
        {
          "name": "stderr",
          "output_type": "stream",
          "text": [
            "Epoch [753/3000]: 100%|██████████| 9/9 [00:00<00:00, 46.25it/s, loss=3.44]\n"
          ]
        },
        {
          "name": "stdout",
          "output_type": "stream",
          "text": [
            "Epoch [753/3000]: Train loss: 2.3473, Valid loss: 2.1206\n"
          ]
        },
        {
          "name": "stderr",
          "output_type": "stream",
          "text": [
            "Epoch [754/3000]: 100%|██████████| 9/9 [00:00<00:00, 124.75it/s, loss=2.36]\n"
          ]
        },
        {
          "name": "stdout",
          "output_type": "stream",
          "text": [
            "Epoch [754/3000]: Train loss: 2.2777, Valid loss: 2.3855\n"
          ]
        },
        {
          "name": "stderr",
          "output_type": "stream",
          "text": [
            "Epoch [755/3000]: 100%|██████████| 9/9 [00:00<00:00, 127.45it/s, loss=2.84]\n"
          ]
        },
        {
          "name": "stdout",
          "output_type": "stream",
          "text": [
            "Epoch [755/3000]: Train loss: 2.3044, Valid loss: 2.4291\n"
          ]
        },
        {
          "name": "stderr",
          "output_type": "stream",
          "text": [
            "Epoch [756/3000]: 100%|██████████| 9/9 [00:00<00:00, 137.16it/s, loss=1.55]\n"
          ]
        },
        {
          "name": "stdout",
          "output_type": "stream",
          "text": [
            "Epoch [756/3000]: Train loss: 2.2255, Valid loss: 2.3044\n"
          ]
        },
        {
          "name": "stderr",
          "output_type": "stream",
          "text": [
            "Epoch [757/3000]: 100%|██████████| 9/9 [00:00<00:00, 101.48it/s, loss=2.03]\n"
          ]
        },
        {
          "name": "stdout",
          "output_type": "stream",
          "text": [
            "Epoch [757/3000]: Train loss: 2.2503, Valid loss: 2.4091\n"
          ]
        },
        {
          "name": "stderr",
          "output_type": "stream",
          "text": [
            "Epoch [758/3000]: 100%|██████████| 9/9 [00:00<00:00, 132.86it/s, loss=2.17]\n"
          ]
        },
        {
          "name": "stdout",
          "output_type": "stream",
          "text": [
            "Epoch [758/3000]: Train loss: 2.2589, Valid loss: 2.4726\n"
          ]
        },
        {
          "name": "stderr",
          "output_type": "stream",
          "text": [
            "Epoch [759/3000]: 100%|██████████| 9/9 [00:00<00:00, 151.88it/s, loss=1.53]\n"
          ]
        },
        {
          "name": "stdout",
          "output_type": "stream",
          "text": [
            "Epoch [759/3000]: Train loss: 2.2162, Valid loss: 2.4892\n"
          ]
        },
        {
          "name": "stderr",
          "output_type": "stream",
          "text": [
            "Epoch [760/3000]: 100%|██████████| 9/9 [00:00<00:00, 145.47it/s, loss=2.72]\n"
          ]
        },
        {
          "name": "stdout",
          "output_type": "stream",
          "text": [
            "Epoch [760/3000]: Train loss: 2.2888, Valid loss: 2.2162\n"
          ]
        },
        {
          "name": "stderr",
          "output_type": "stream",
          "text": [
            "Epoch [761/3000]: 100%|██████████| 9/9 [00:00<00:00, 152.77it/s, loss=2.19]\n"
          ]
        },
        {
          "name": "stdout",
          "output_type": "stream",
          "text": [
            "Epoch [761/3000]: Train loss: 2.2576, Valid loss: 2.3305\n"
          ]
        },
        {
          "name": "stderr",
          "output_type": "stream",
          "text": [
            "Epoch [762/3000]: 100%|██████████| 9/9 [00:00<00:00, 143.67it/s, loss=1.95]\n"
          ]
        },
        {
          "name": "stdout",
          "output_type": "stream",
          "text": [
            "Epoch [762/3000]: Train loss: 2.2392, Valid loss: 1.9786\n",
            "Saving model with loss 1.979...\n"
          ]
        },
        {
          "name": "stderr",
          "output_type": "stream",
          "text": [
            "Epoch [763/3000]: 100%|██████████| 9/9 [00:00<00:00, 140.31it/s, loss=1.71]\n"
          ]
        },
        {
          "name": "stdout",
          "output_type": "stream",
          "text": [
            "Epoch [763/3000]: Train loss: 2.2210, Valid loss: 2.1785\n"
          ]
        },
        {
          "name": "stderr",
          "output_type": "stream",
          "text": [
            "Epoch [764/3000]: 100%|██████████| 9/9 [00:00<00:00, 148.34it/s, loss=1.98]\n"
          ]
        },
        {
          "name": "stdout",
          "output_type": "stream",
          "text": [
            "Epoch [764/3000]: Train loss: 2.2369, Valid loss: 2.3018\n"
          ]
        },
        {
          "name": "stderr",
          "output_type": "stream",
          "text": [
            "Epoch [765/3000]: 100%|██████████| 9/9 [00:00<00:00, 136.09it/s, loss=2.41]\n"
          ]
        },
        {
          "name": "stdout",
          "output_type": "stream",
          "text": [
            "Epoch [765/3000]: Train loss: 2.2605, Valid loss: 2.3740\n"
          ]
        },
        {
          "name": "stderr",
          "output_type": "stream",
          "text": [
            "Epoch [766/3000]: 100%|██████████| 9/9 [00:00<00:00, 150.63it/s, loss=2.56]\n"
          ]
        },
        {
          "name": "stdout",
          "output_type": "stream",
          "text": [
            "Epoch [766/3000]: Train loss: 2.2682, Valid loss: 2.6605\n"
          ]
        },
        {
          "name": "stderr",
          "output_type": "stream",
          "text": [
            "Epoch [767/3000]: 100%|██████████| 9/9 [00:00<00:00, 143.00it/s, loss=1.94]\n"
          ]
        },
        {
          "name": "stdout",
          "output_type": "stream",
          "text": [
            "Epoch [767/3000]: Train loss: 2.2289, Valid loss: 2.6336\n"
          ]
        },
        {
          "name": "stderr",
          "output_type": "stream",
          "text": [
            "Epoch [768/3000]: 100%|██████████| 9/9 [00:00<00:00, 135.14it/s, loss=2.61]\n"
          ]
        },
        {
          "name": "stdout",
          "output_type": "stream",
          "text": [
            "Epoch [768/3000]: Train loss: 2.2699, Valid loss: 2.0554\n"
          ]
        },
        {
          "name": "stderr",
          "output_type": "stream",
          "text": [
            "Epoch [769/3000]: 100%|██████████| 9/9 [00:00<00:00, 123.63it/s, loss=2.15]\n"
          ]
        },
        {
          "name": "stdout",
          "output_type": "stream",
          "text": [
            "Epoch [769/3000]: Train loss: 2.2377, Valid loss: 2.6259\n"
          ]
        },
        {
          "name": "stderr",
          "output_type": "stream",
          "text": [
            "Epoch [770/3000]: 100%|██████████| 9/9 [00:00<00:00, 137.89it/s, loss=2.38]\n"
          ]
        },
        {
          "name": "stdout",
          "output_type": "stream",
          "text": [
            "Epoch [770/3000]: Train loss: 2.2529, Valid loss: 2.0954\n"
          ]
        },
        {
          "name": "stderr",
          "output_type": "stream",
          "text": [
            "Epoch [771/3000]: 100%|██████████| 9/9 [00:00<00:00, 129.12it/s, loss=1.37]\n"
          ]
        },
        {
          "name": "stdout",
          "output_type": "stream",
          "text": [
            "Epoch [771/3000]: Train loss: 2.1860, Valid loss: 2.1623\n"
          ]
        },
        {
          "name": "stderr",
          "output_type": "stream",
          "text": [
            "Epoch [772/3000]: 100%|██████████| 9/9 [00:00<00:00, 135.04it/s, loss=2.3]\n"
          ]
        },
        {
          "name": "stdout",
          "output_type": "stream",
          "text": [
            "Epoch [772/3000]: Train loss: 2.2416, Valid loss: 2.0081\n"
          ]
        },
        {
          "name": "stderr",
          "output_type": "stream",
          "text": [
            "Epoch [773/3000]: 100%|██████████| 9/9 [00:00<00:00, 143.90it/s, loss=2.34]\n"
          ]
        },
        {
          "name": "stdout",
          "output_type": "stream",
          "text": [
            "Epoch [773/3000]: Train loss: 2.2405, Valid loss: 2.2316\n"
          ]
        },
        {
          "name": "stderr",
          "output_type": "stream",
          "text": [
            "Epoch [774/3000]: 100%|██████████| 9/9 [00:00<00:00, 140.21it/s, loss=2.99]\n"
          ]
        },
        {
          "name": "stdout",
          "output_type": "stream",
          "text": [
            "Epoch [774/3000]: Train loss: 2.2866, Valid loss: 2.3724\n"
          ]
        },
        {
          "name": "stderr",
          "output_type": "stream",
          "text": [
            "Epoch [775/3000]: 100%|██████████| 9/9 [00:00<00:00, 94.18it/s, loss=1.93]"
          ]
        },
        {
          "name": "stdout",
          "output_type": "stream",
          "text": [
            "Epoch [775/3000]: Train loss: 2.2134, Valid loss: 2.6085"
          ]
        },
        {
          "name": "stderr",
          "output_type": "stream",
          "text": [
            "\n"
          ]
        },
        {
          "name": "stdout",
          "output_type": "stream",
          "text": [
            "\n"
          ]
        },
        {
          "name": "stderr",
          "output_type": "stream",
          "text": [
            "Epoch [776/3000]: 100%|██████████| 9/9 [00:00<00:00, 128.80it/s, loss=2.18]\n"
          ]
        },
        {
          "name": "stdout",
          "output_type": "stream",
          "text": [
            "Epoch [776/3000]: Train loss: 2.2300, Valid loss: 2.4188\n"
          ]
        },
        {
          "name": "stderr",
          "output_type": "stream",
          "text": [
            "Epoch [777/3000]: 100%|██████████| 9/9 [00:00<00:00, 142.98it/s, loss=1.69]\n"
          ]
        },
        {
          "name": "stdout",
          "output_type": "stream",
          "text": [
            "Epoch [777/3000]: Train loss: 2.1976, Valid loss: 2.3141\n"
          ]
        },
        {
          "name": "stderr",
          "output_type": "stream",
          "text": [
            "Epoch [778/3000]: 100%|██████████| 9/9 [00:00<00:00, 135.78it/s, loss=2.65]\n"
          ]
        },
        {
          "name": "stdout",
          "output_type": "stream",
          "text": [
            "Epoch [778/3000]: Train loss: 2.2555, Valid loss: 2.4229\n"
          ]
        },
        {
          "name": "stderr",
          "output_type": "stream",
          "text": [
            "Epoch [779/3000]: 100%|██████████| 9/9 [00:00<00:00, 124.95it/s, loss=2.07]\n"
          ]
        },
        {
          "name": "stdout",
          "output_type": "stream",
          "text": [
            "Epoch [779/3000]: Train loss: 2.2179, Valid loss: 2.4604\n"
          ]
        },
        {
          "name": "stderr",
          "output_type": "stream",
          "text": [
            "Epoch [780/3000]: 100%|██████████| 9/9 [00:00<00:00, 132.97it/s, loss=2.38]\n"
          ]
        },
        {
          "name": "stdout",
          "output_type": "stream",
          "text": [
            "Epoch [780/3000]: Train loss: 2.2327, Valid loss: 2.0183\n"
          ]
        },
        {
          "name": "stderr",
          "output_type": "stream",
          "text": [
            "Epoch [781/3000]: 100%|██████████| 9/9 [00:00<00:00, 121.99it/s, loss=2.55]\n"
          ]
        },
        {
          "name": "stdout",
          "output_type": "stream",
          "text": [
            "Epoch [781/3000]: Train loss: 2.2461, Valid loss: 2.7125\n"
          ]
        },
        {
          "name": "stderr",
          "output_type": "stream",
          "text": [
            "Epoch [782/3000]: 100%|██████████| 9/9 [00:00<00:00, 139.31it/s, loss=2]\n"
          ]
        },
        {
          "name": "stdout",
          "output_type": "stream",
          "text": [
            "Epoch [782/3000]: Train loss: 2.2082, Valid loss: 2.1823\n"
          ]
        },
        {
          "name": "stderr",
          "output_type": "stream",
          "text": [
            "Epoch [783/3000]: 100%|██████████| 9/9 [00:00<00:00, 131.44it/s, loss=2.9]\n"
          ]
        },
        {
          "name": "stdout",
          "output_type": "stream",
          "text": [
            "Epoch [783/3000]: Train loss: 2.2657, Valid loss: 2.0182\n"
          ]
        },
        {
          "name": "stderr",
          "output_type": "stream",
          "text": [
            "Epoch [784/3000]: 100%|██████████| 9/9 [00:00<00:00, 131.04it/s, loss=1.54]\n"
          ]
        },
        {
          "name": "stdout",
          "output_type": "stream",
          "text": [
            "Epoch [784/3000]: Train loss: 2.1765, Valid loss: 2.2534\n"
          ]
        },
        {
          "name": "stderr",
          "output_type": "stream",
          "text": [
            "Epoch [785/3000]: 100%|██████████| 9/9 [00:00<00:00, 132.47it/s, loss=2.21]\n"
          ]
        },
        {
          "name": "stdout",
          "output_type": "stream",
          "text": [
            "Epoch [785/3000]: Train loss: 2.2149, Valid loss: 2.0773\n"
          ]
        },
        {
          "name": "stderr",
          "output_type": "stream",
          "text": [
            "Epoch [786/3000]: 100%|██████████| 9/9 [00:00<00:00, 132.25it/s, loss=1.75]\n"
          ]
        },
        {
          "name": "stdout",
          "output_type": "stream",
          "text": [
            "Epoch [786/3000]: Train loss: 2.1850, Valid loss: 2.3556\n"
          ]
        },
        {
          "name": "stderr",
          "output_type": "stream",
          "text": [
            "Epoch [787/3000]: 100%|██████████| 9/9 [00:00<00:00, 132.19it/s, loss=2.14]\n"
          ]
        },
        {
          "name": "stdout",
          "output_type": "stream",
          "text": [
            "Epoch [787/3000]: Train loss: 2.2089, Valid loss: 2.1214\n"
          ]
        },
        {
          "name": "stderr",
          "output_type": "stream",
          "text": [
            "Epoch [788/3000]: 100%|██████████| 9/9 [00:00<00:00, 135.75it/s, loss=2.66]\n"
          ]
        },
        {
          "name": "stdout",
          "output_type": "stream",
          "text": [
            "Epoch [788/3000]: Train loss: 2.2388, Valid loss: 2.4085\n"
          ]
        },
        {
          "name": "stderr",
          "output_type": "stream",
          "text": [
            "Epoch [789/3000]: 100%|██████████| 9/9 [00:00<00:00, 124.22it/s, loss=2.87]\n"
          ]
        },
        {
          "name": "stdout",
          "output_type": "stream",
          "text": [
            "Epoch [789/3000]: Train loss: 2.2497, Valid loss: 2.5382\n"
          ]
        },
        {
          "name": "stderr",
          "output_type": "stream",
          "text": [
            "Epoch [790/3000]: 100%|██████████| 9/9 [00:00<00:00, 120.02it/s, loss=2.46]"
          ]
        },
        {
          "name": "stdout",
          "output_type": "stream",
          "text": [
            "Epoch [790/3000]: Train loss: 2.2242, Valid loss: 2.1795"
          ]
        },
        {
          "name": "stderr",
          "output_type": "stream",
          "text": [
            "\n"
          ]
        },
        {
          "name": "stdout",
          "output_type": "stream",
          "text": [
            "\n"
          ]
        },
        {
          "name": "stderr",
          "output_type": "stream",
          "text": [
            "Epoch [791/3000]: 100%|██████████| 9/9 [00:00<00:00, 100.02it/s, loss=1.56]\n"
          ]
        },
        {
          "name": "stdout",
          "output_type": "stream",
          "text": [
            "Epoch [791/3000]: Train loss: 2.1639, Valid loss: 2.2020\n"
          ]
        },
        {
          "name": "stderr",
          "output_type": "stream",
          "text": [
            "Epoch [792/3000]: 100%|██████████| 9/9 [00:00<00:00, 117.82it/s, loss=1.97]\n"
          ]
        },
        {
          "name": "stdout",
          "output_type": "stream",
          "text": [
            "Epoch [792/3000]: Train loss: 2.1892, Valid loss: 2.6523\n"
          ]
        },
        {
          "name": "stderr",
          "output_type": "stream",
          "text": [
            "Epoch [793/3000]: 100%|██████████| 9/9 [00:00<00:00, 141.02it/s, loss=2.19]\n"
          ]
        },
        {
          "name": "stdout",
          "output_type": "stream",
          "text": [
            "Epoch [793/3000]: Train loss: 2.2021, Valid loss: 2.2062\n"
          ]
        },
        {
          "name": "stderr",
          "output_type": "stream",
          "text": [
            "Epoch [794/3000]: 100%|██████████| 9/9 [00:00<00:00, 123.08it/s, loss=1.8]\n"
          ]
        },
        {
          "name": "stdout",
          "output_type": "stream",
          "text": [
            "Epoch [794/3000]: Train loss: 2.1748, Valid loss: 1.8567\n",
            "Saving model with loss 1.857...\n"
          ]
        },
        {
          "name": "stderr",
          "output_type": "stream",
          "text": [
            "Epoch [795/3000]: 100%|██████████| 9/9 [00:00<00:00, 134.25it/s, loss=2.27]\n"
          ]
        },
        {
          "name": "stdout",
          "output_type": "stream",
          "text": [
            "Epoch [795/3000]: Train loss: 2.2027, Valid loss: 2.3075\n"
          ]
        },
        {
          "name": "stderr",
          "output_type": "stream",
          "text": [
            "Epoch [796/3000]: 100%|██████████| 9/9 [00:00<00:00, 131.58it/s, loss=2.46]\n"
          ]
        },
        {
          "name": "stdout",
          "output_type": "stream",
          "text": [
            "Epoch [796/3000]: Train loss: 2.2139, Valid loss: 2.6103\n"
          ]
        },
        {
          "name": "stderr",
          "output_type": "stream",
          "text": [
            "Epoch [797/3000]: 100%|██████████| 9/9 [00:00<00:00, 131.63it/s, loss=2.06]\n"
          ]
        },
        {
          "name": "stdout",
          "output_type": "stream",
          "text": [
            "Epoch [797/3000]: Train loss: 2.1873, Valid loss: 2.4066\n"
          ]
        },
        {
          "name": "stderr",
          "output_type": "stream",
          "text": [
            "Epoch [798/3000]: 100%|██████████| 9/9 [00:00<00:00, 131.87it/s, loss=2.09]\n"
          ]
        },
        {
          "name": "stdout",
          "output_type": "stream",
          "text": [
            "Epoch [798/3000]: Train loss: 2.1875, Valid loss: 2.2433\n"
          ]
        },
        {
          "name": "stderr",
          "output_type": "stream",
          "text": [
            "Epoch [799/3000]: 100%|██████████| 9/9 [00:00<00:00, 126.89it/s, loss=2.2]\n"
          ]
        },
        {
          "name": "stdout",
          "output_type": "stream",
          "text": [
            "Epoch [799/3000]: Train loss: 2.1915, Valid loss: 2.4182\n"
          ]
        },
        {
          "name": "stderr",
          "output_type": "stream",
          "text": [
            "Epoch [800/3000]: 100%|██████████| 9/9 [00:00<00:00, 126.47it/s, loss=2.61]\n"
          ]
        },
        {
          "name": "stdout",
          "output_type": "stream",
          "text": [
            "Epoch [800/3000]: Train loss: 2.2221, Valid loss: 2.1692\n"
          ]
        },
        {
          "name": "stderr",
          "output_type": "stream",
          "text": [
            "Epoch [801/3000]: 100%|██████████| 9/9 [00:00<00:00, 125.83it/s, loss=2.12]\n"
          ]
        },
        {
          "name": "stdout",
          "output_type": "stream",
          "text": [
            "Epoch [801/3000]: Train loss: 2.1851, Valid loss: 2.1741\n"
          ]
        },
        {
          "name": "stderr",
          "output_type": "stream",
          "text": [
            "Epoch [802/3000]: 100%|██████████| 9/9 [00:00<00:00, 131.98it/s, loss=2.22]\n"
          ]
        },
        {
          "name": "stdout",
          "output_type": "stream",
          "text": [
            "Epoch [802/3000]: Train loss: 2.1902, Valid loss: 2.3155\n"
          ]
        },
        {
          "name": "stderr",
          "output_type": "stream",
          "text": [
            "Epoch [803/3000]: 100%|██████████| 9/9 [00:00<00:00, 126.60it/s, loss=1.69]\n"
          ]
        },
        {
          "name": "stdout",
          "output_type": "stream",
          "text": [
            "Epoch [803/3000]: Train loss: 2.1535, Valid loss: 2.1677\n"
          ]
        },
        {
          "name": "stderr",
          "output_type": "stream",
          "text": [
            "Epoch [804/3000]: 100%|██████████| 9/9 [00:00<00:00, 120.08it/s, loss=2.03]\n"
          ]
        },
        {
          "name": "stdout",
          "output_type": "stream",
          "text": [
            "Epoch [804/3000]: Train loss: 2.1754, Valid loss: 2.4535\n"
          ]
        },
        {
          "name": "stderr",
          "output_type": "stream",
          "text": [
            "Epoch [805/3000]: 100%|██████████| 9/9 [00:00<00:00, 128.14it/s, loss=2.52]\n"
          ]
        },
        {
          "name": "stdout",
          "output_type": "stream",
          "text": [
            "Epoch [805/3000]: Train loss: 2.2020, Valid loss: 2.4071\n"
          ]
        },
        {
          "name": "stderr",
          "output_type": "stream",
          "text": [
            "Epoch [806/3000]: 100%|██████████| 9/9 [00:00<00:00, 102.65it/s, loss=2.28]"
          ]
        },
        {
          "name": "stdout",
          "output_type": "stream",
          "text": [
            "Epoch [806/3000]: Train loss: 2.1868, Valid loss: 1.8502"
          ]
        },
        {
          "name": "stderr",
          "output_type": "stream",
          "text": [
            "\n"
          ]
        },
        {
          "name": "stdout",
          "output_type": "stream",
          "text": [
            "\n",
            "Saving model with loss 1.850...\n"
          ]
        },
        {
          "name": "stderr",
          "output_type": "stream",
          "text": [
            "Epoch [807/3000]: 100%|██████████| 9/9 [00:00<00:00, 121.55it/s, loss=2.98]\n"
          ]
        },
        {
          "name": "stdout",
          "output_type": "stream",
          "text": [
            "Epoch [807/3000]: Train loss: 2.2285, Valid loss: 2.0237\n"
          ]
        },
        {
          "name": "stderr",
          "output_type": "stream",
          "text": [
            "Epoch [808/3000]: 100%|██████████| 9/9 [00:00<00:00, 132.93it/s, loss=3.07]\n"
          ]
        },
        {
          "name": "stdout",
          "output_type": "stream",
          "text": [
            "Epoch [808/3000]: Train loss: 2.2360, Valid loss: 1.9889\n"
          ]
        },
        {
          "name": "stderr",
          "output_type": "stream",
          "text": [
            "Epoch [809/3000]: 100%|██████████| 9/9 [00:00<00:00, 129.45it/s, loss=2.32]\n"
          ]
        },
        {
          "name": "stdout",
          "output_type": "stream",
          "text": [
            "Epoch [809/3000]: Train loss: 2.1841, Valid loss: 2.4926\n"
          ]
        },
        {
          "name": "stderr",
          "output_type": "stream",
          "text": [
            "Epoch [810/3000]: 100%|██████████| 9/9 [00:00<00:00, 131.95it/s, loss=1.8]\n"
          ]
        },
        {
          "name": "stdout",
          "output_type": "stream",
          "text": [
            "Epoch [810/3000]: Train loss: 2.1497, Valid loss: 2.7317\n"
          ]
        },
        {
          "name": "stderr",
          "output_type": "stream",
          "text": [
            "Epoch [811/3000]: 100%|██████████| 9/9 [00:00<00:00, 125.90it/s, loss=1.56]\n"
          ]
        },
        {
          "name": "stdout",
          "output_type": "stream",
          "text": [
            "Epoch [811/3000]: Train loss: 2.1347, Valid loss: 2.3788\n"
          ]
        },
        {
          "name": "stderr",
          "output_type": "stream",
          "text": [
            "Epoch [812/3000]: 100%|██████████| 9/9 [00:00<00:00, 123.57it/s, loss=2.41]\n"
          ]
        },
        {
          "name": "stdout",
          "output_type": "stream",
          "text": [
            "Epoch [812/3000]: Train loss: 2.1876, Valid loss: 2.5157\n"
          ]
        },
        {
          "name": "stderr",
          "output_type": "stream",
          "text": [
            "Epoch [813/3000]: 100%|██████████| 9/9 [00:00<00:00, 125.25it/s, loss=2.1]"
          ]
        },
        {
          "name": "stdout",
          "output_type": "stream",
          "text": [
            "Epoch [813/3000]: Train loss: 2.1659, Valid loss: 2.1305"
          ]
        },
        {
          "name": "stderr",
          "output_type": "stream",
          "text": [
            "\n"
          ]
        },
        {
          "name": "stdout",
          "output_type": "stream",
          "text": [
            "\n"
          ]
        },
        {
          "name": "stderr",
          "output_type": "stream",
          "text": [
            "Epoch [814/3000]: 100%|██████████| 9/9 [00:00<00:00, 126.00it/s, loss=2.73]\n"
          ]
        },
        {
          "name": "stdout",
          "output_type": "stream",
          "text": [
            "Epoch [814/3000]: Train loss: 2.2043, Valid loss: 2.1682\n"
          ]
        },
        {
          "name": "stderr",
          "output_type": "stream",
          "text": [
            "Epoch [815/3000]: 100%|██████████| 9/9 [00:00<00:00, 122.96it/s, loss=2.43]\n"
          ]
        },
        {
          "name": "stdout",
          "output_type": "stream",
          "text": [
            "Epoch [815/3000]: Train loss: 2.1842, Valid loss: 2.1564\n"
          ]
        },
        {
          "name": "stderr",
          "output_type": "stream",
          "text": [
            "Epoch [816/3000]: 100%|██████████| 9/9 [00:00<00:00, 125.46it/s, loss=2.16]\n"
          ]
        },
        {
          "name": "stdout",
          "output_type": "stream",
          "text": [
            "Epoch [816/3000]: Train loss: 2.1643, Valid loss: 2.1313\n"
          ]
        },
        {
          "name": "stderr",
          "output_type": "stream",
          "text": [
            "Epoch [817/3000]: 100%|██████████| 9/9 [00:00<00:00, 133.76it/s, loss=2.74]\n"
          ]
        },
        {
          "name": "stdout",
          "output_type": "stream",
          "text": [
            "Epoch [817/3000]: Train loss: 2.2005, Valid loss: 2.1116\n"
          ]
        },
        {
          "name": "stderr",
          "output_type": "stream",
          "text": [
            "Epoch [818/3000]: 100%|██████████| 9/9 [00:00<00:00, 131.82it/s, loss=1.81]\n"
          ]
        },
        {
          "name": "stdout",
          "output_type": "stream",
          "text": [
            "Epoch [818/3000]: Train loss: 2.1452, Valid loss: 2.3614\n"
          ]
        },
        {
          "name": "stderr",
          "output_type": "stream",
          "text": [
            "Epoch [819/3000]: 100%|██████████| 9/9 [00:00<00:00, 125.54it/s, loss=2.31]\n"
          ]
        },
        {
          "name": "stdout",
          "output_type": "stream",
          "text": [
            "Epoch [819/3000]: Train loss: 2.1677, Valid loss: 2.0571\n"
          ]
        },
        {
          "name": "stderr",
          "output_type": "stream",
          "text": [
            "Epoch [820/3000]: 100%|██████████| 9/9 [00:00<00:00, 129.07it/s, loss=2.77]\n"
          ]
        },
        {
          "name": "stdout",
          "output_type": "stream",
          "text": [
            "Epoch [820/3000]: Train loss: 2.2029, Valid loss: 2.6605\n"
          ]
        },
        {
          "name": "stderr",
          "output_type": "stream",
          "text": [
            "Epoch [821/3000]: 100%|██████████| 9/9 [00:00<00:00, 134.04it/s, loss=2.1]\n"
          ]
        },
        {
          "name": "stdout",
          "output_type": "stream",
          "text": [
            "Epoch [821/3000]: Train loss: 2.1568, Valid loss: 2.2945\n"
          ]
        },
        {
          "name": "stderr",
          "output_type": "stream",
          "text": [
            "Epoch [822/3000]: 100%|██████████| 9/9 [00:00<00:00, 140.14it/s, loss=2.12]\n"
          ]
        },
        {
          "name": "stdout",
          "output_type": "stream",
          "text": [
            "Epoch [822/3000]: Train loss: 2.1552, Valid loss: 2.1597\n"
          ]
        },
        {
          "name": "stderr",
          "output_type": "stream",
          "text": [
            "Epoch [823/3000]: 100%|██████████| 9/9 [00:00<00:00, 127.34it/s, loss=2.15]\n"
          ]
        },
        {
          "name": "stdout",
          "output_type": "stream",
          "text": [
            "Epoch [823/3000]: Train loss: 2.1539, Valid loss: 2.3452\n"
          ]
        },
        {
          "name": "stderr",
          "output_type": "stream",
          "text": [
            "Epoch [824/3000]: 100%|██████████| 9/9 [00:00<00:00, 119.02it/s, loss=2.22]\n"
          ]
        },
        {
          "name": "stdout",
          "output_type": "stream",
          "text": [
            "Epoch [824/3000]: Train loss: 2.1571, Valid loss: 2.0515\n"
          ]
        },
        {
          "name": "stderr",
          "output_type": "stream",
          "text": [
            "Epoch [825/3000]: 100%|██████████| 9/9 [00:00<00:00, 117.45it/s, loss=2.16]\n"
          ]
        },
        {
          "name": "stdout",
          "output_type": "stream",
          "text": [
            "Epoch [825/3000]: Train loss: 2.1510, Valid loss: 1.9936\n"
          ]
        },
        {
          "name": "stderr",
          "output_type": "stream",
          "text": [
            "Epoch [826/3000]: 100%|██████████| 9/9 [00:00<00:00, 130.10it/s, loss=2.02]"
          ]
        },
        {
          "name": "stdout",
          "output_type": "stream",
          "text": [
            "Epoch [826/3000]: Train loss: 2.1428, Valid loss: 2.0732"
          ]
        },
        {
          "name": "stderr",
          "output_type": "stream",
          "text": [
            "\n"
          ]
        },
        {
          "name": "stdout",
          "output_type": "stream",
          "text": [
            "\n"
          ]
        },
        {
          "name": "stderr",
          "output_type": "stream",
          "text": [
            "Epoch [827/3000]: 100%|██████████| 9/9 [00:00<00:00, 120.02it/s, loss=1.81]\n"
          ]
        },
        {
          "name": "stdout",
          "output_type": "stream",
          "text": [
            "Epoch [827/3000]: Train loss: 2.1270, Valid loss: 2.3868\n"
          ]
        },
        {
          "name": "stderr",
          "output_type": "stream",
          "text": [
            "Epoch [828/3000]: 100%|██████████| 9/9 [00:00<00:00, 133.58it/s, loss=2.09]\n"
          ]
        },
        {
          "name": "stdout",
          "output_type": "stream",
          "text": [
            "Epoch [828/3000]: Train loss: 2.1435, Valid loss: 2.1743\n"
          ]
        },
        {
          "name": "stderr",
          "output_type": "stream",
          "text": [
            "Epoch [829/3000]: 100%|██████████| 9/9 [00:00<00:00, 123.37it/s, loss=1.96]\n"
          ]
        },
        {
          "name": "stdout",
          "output_type": "stream",
          "text": [
            "Epoch [829/3000]: Train loss: 2.1352, Valid loss: 2.1855\n"
          ]
        },
        {
          "name": "stderr",
          "output_type": "stream",
          "text": [
            "Epoch [830/3000]: 100%|██████████| 9/9 [00:00<00:00, 41.79it/s, loss=1.94]\n"
          ]
        },
        {
          "name": "stdout",
          "output_type": "stream",
          "text": [
            "Epoch [830/3000]: Train loss: 2.1325, Valid loss: 2.4870\n"
          ]
        },
        {
          "name": "stderr",
          "output_type": "stream",
          "text": [
            "Epoch [831/3000]: 100%|██████████| 9/9 [00:00<00:00, 133.89it/s, loss=2.04]\n"
          ]
        },
        {
          "name": "stdout",
          "output_type": "stream",
          "text": [
            "Epoch [831/3000]: Train loss: 2.1407, Valid loss: 2.2973\n"
          ]
        },
        {
          "name": "stderr",
          "output_type": "stream",
          "text": [
            "Epoch [832/3000]: 100%|██████████| 9/9 [00:00<00:00, 142.29it/s, loss=1.93]\n"
          ]
        },
        {
          "name": "stdout",
          "output_type": "stream",
          "text": [
            "Epoch [832/3000]: Train loss: 2.1281, Valid loss: 1.9016\n"
          ]
        },
        {
          "name": "stderr",
          "output_type": "stream",
          "text": [
            "Epoch [833/3000]: 100%|██████████| 9/9 [00:00<00:00, 128.54it/s, loss=1.95]\n"
          ]
        },
        {
          "name": "stdout",
          "output_type": "stream",
          "text": [
            "Epoch [833/3000]: Train loss: 2.1281, Valid loss: 2.2087\n"
          ]
        },
        {
          "name": "stderr",
          "output_type": "stream",
          "text": [
            "Epoch [834/3000]: 100%|██████████| 9/9 [00:00<00:00, 127.93it/s, loss=2.59]\n"
          ]
        },
        {
          "name": "stdout",
          "output_type": "stream",
          "text": [
            "Epoch [834/3000]: Train loss: 2.1659, Valid loss: 2.3600\n"
          ]
        },
        {
          "name": "stderr",
          "output_type": "stream",
          "text": [
            "Epoch [835/3000]: 100%|██████████| 9/9 [00:00<00:00, 129.19it/s, loss=3.26]\n"
          ]
        },
        {
          "name": "stdout",
          "output_type": "stream",
          "text": [
            "Epoch [835/3000]: Train loss: 2.2068, Valid loss: 1.8446\n",
            "Saving model with loss 1.845...\n"
          ]
        },
        {
          "name": "stderr",
          "output_type": "stream",
          "text": [
            "Epoch [836/3000]: 100%|██████████| 9/9 [00:00<00:00, 133.45it/s, loss=1.89]\n"
          ]
        },
        {
          "name": "stdout",
          "output_type": "stream",
          "text": [
            "Epoch [836/3000]: Train loss: 2.1222, Valid loss: 2.0527\n"
          ]
        },
        {
          "name": "stderr",
          "output_type": "stream",
          "text": [
            "Epoch [837/3000]: 100%|██████████| 9/9 [00:00<00:00, 140.21it/s, loss=2.19]\n"
          ]
        },
        {
          "name": "stdout",
          "output_type": "stream",
          "text": [
            "Epoch [837/3000]: Train loss: 2.1369, Valid loss: 2.4341\n"
          ]
        },
        {
          "name": "stderr",
          "output_type": "stream",
          "text": [
            "Epoch [838/3000]: 100%|██████████| 9/9 [00:00<00:00, 127.23it/s, loss=1.86]\n"
          ]
        },
        {
          "name": "stdout",
          "output_type": "stream",
          "text": [
            "Epoch [838/3000]: Train loss: 2.1177, Valid loss: 2.1917\n"
          ]
        },
        {
          "name": "stderr",
          "output_type": "stream",
          "text": [
            "Epoch [839/3000]: 100%|██████████| 9/9 [00:00<00:00, 126.87it/s, loss=2.42]\n"
          ]
        },
        {
          "name": "stdout",
          "output_type": "stream",
          "text": [
            "Epoch [839/3000]: Train loss: 2.1494, Valid loss: 2.6149\n"
          ]
        },
        {
          "name": "stderr",
          "output_type": "stream",
          "text": [
            "Epoch [840/3000]: 100%|██████████| 9/9 [00:00<00:00, 133.74it/s, loss=2.86]\n"
          ]
        },
        {
          "name": "stdout",
          "output_type": "stream",
          "text": [
            "Epoch [840/3000]: Train loss: 2.1768, Valid loss: 2.0242\n"
          ]
        },
        {
          "name": "stderr",
          "output_type": "stream",
          "text": [
            "Epoch [841/3000]: 100%|██████████| 9/9 [00:00<00:00, 136.36it/s, loss=2.26]\n"
          ]
        },
        {
          "name": "stdout",
          "output_type": "stream",
          "text": [
            "Epoch [841/3000]: Train loss: 2.1351, Valid loss: 2.6516\n"
          ]
        },
        {
          "name": "stderr",
          "output_type": "stream",
          "text": [
            "Epoch [842/3000]: 100%|██████████| 9/9 [00:00<00:00, 136.94it/s, loss=1.91]\n"
          ]
        },
        {
          "name": "stdout",
          "output_type": "stream",
          "text": [
            "Epoch [842/3000]: Train loss: 2.1136, Valid loss: 2.2459\n"
          ]
        },
        {
          "name": "stderr",
          "output_type": "stream",
          "text": [
            "Epoch [843/3000]: 100%|██████████| 9/9 [00:00<00:00, 114.07it/s, loss=1.89]"
          ]
        },
        {
          "name": "stdout",
          "output_type": "stream",
          "text": [
            "Epoch [843/3000]: Train loss: 2.1124, Valid loss: 2.0063"
          ]
        },
        {
          "name": "stderr",
          "output_type": "stream",
          "text": [
            "\n"
          ]
        },
        {
          "name": "stdout",
          "output_type": "stream",
          "text": [
            "\n"
          ]
        },
        {
          "name": "stderr",
          "output_type": "stream",
          "text": [
            "Epoch [844/3000]: 100%|██████████| 9/9 [00:00<00:00, 112.41it/s, loss=2.35]\n"
          ]
        },
        {
          "name": "stdout",
          "output_type": "stream",
          "text": [
            "Epoch [844/3000]: Train loss: 2.1373, Valid loss: 2.5520\n"
          ]
        },
        {
          "name": "stderr",
          "output_type": "stream",
          "text": [
            "Epoch [845/3000]: 100%|██████████| 9/9 [00:00<00:00, 133.93it/s, loss=1.76]\n"
          ]
        },
        {
          "name": "stdout",
          "output_type": "stream",
          "text": [
            "Epoch [845/3000]: Train loss: 2.0989, Valid loss: 2.0534\n"
          ]
        },
        {
          "name": "stderr",
          "output_type": "stream",
          "text": [
            "Epoch [846/3000]: 100%|██████████| 9/9 [00:00<00:00, 131.56it/s, loss=2]\n"
          ]
        },
        {
          "name": "stdout",
          "output_type": "stream",
          "text": [
            "Epoch [846/3000]: Train loss: 2.1136, Valid loss: 1.9116\n"
          ]
        },
        {
          "name": "stderr",
          "output_type": "stream",
          "text": [
            "Epoch [847/3000]: 100%|██████████| 9/9 [00:00<00:00, 124.05it/s, loss=2.24]\n"
          ]
        },
        {
          "name": "stdout",
          "output_type": "stream",
          "text": [
            "Epoch [847/3000]: Train loss: 2.1273, Valid loss: 2.8543\n"
          ]
        },
        {
          "name": "stderr",
          "output_type": "stream",
          "text": [
            "Epoch [848/3000]: 100%|██████████| 9/9 [00:00<00:00, 127.86it/s, loss=1.44]\n"
          ]
        },
        {
          "name": "stdout",
          "output_type": "stream",
          "text": [
            "Epoch [848/3000]: Train loss: 2.0766, Valid loss: 2.3814\n"
          ]
        },
        {
          "name": "stderr",
          "output_type": "stream",
          "text": [
            "Epoch [849/3000]: 100%|██████████| 9/9 [00:00<00:00, 128.21it/s, loss=2]\n"
          ]
        },
        {
          "name": "stdout",
          "output_type": "stream",
          "text": [
            "Epoch [849/3000]: Train loss: 2.1119, Valid loss: 2.3700\n"
          ]
        },
        {
          "name": "stderr",
          "output_type": "stream",
          "text": [
            "Epoch [850/3000]: 100%|██████████| 9/9 [00:00<00:00, 126.99it/s, loss=2.05]\n"
          ]
        },
        {
          "name": "stdout",
          "output_type": "stream",
          "text": [
            "Epoch [850/3000]: Train loss: 2.1107, Valid loss: 2.4501\n"
          ]
        },
        {
          "name": "stderr",
          "output_type": "stream",
          "text": [
            "Epoch [851/3000]: 100%|██████████| 9/9 [00:00<00:00, 138.00it/s, loss=2.94]\n"
          ]
        },
        {
          "name": "stdout",
          "output_type": "stream",
          "text": [
            "Epoch [851/3000]: Train loss: 2.1660, Valid loss: 2.2126\n"
          ]
        },
        {
          "name": "stderr",
          "output_type": "stream",
          "text": [
            "Epoch [852/3000]: 100%|██████████| 9/9 [00:00<00:00, 125.98it/s, loss=1.89]\n"
          ]
        },
        {
          "name": "stdout",
          "output_type": "stream",
          "text": [
            "Epoch [852/3000]: Train loss: 2.0987, Valid loss: 2.4725\n"
          ]
        },
        {
          "name": "stderr",
          "output_type": "stream",
          "text": [
            "Epoch [853/3000]: 100%|██████████| 9/9 [00:00<00:00, 130.34it/s, loss=1.81]\n"
          ]
        },
        {
          "name": "stdout",
          "output_type": "stream",
          "text": [
            "Epoch [853/3000]: Train loss: 2.0914, Valid loss: 2.5196\n"
          ]
        },
        {
          "name": "stderr",
          "output_type": "stream",
          "text": [
            "Epoch [854/3000]: 100%|██████████| 9/9 [00:00<00:00, 129.55it/s, loss=1.96]\n"
          ]
        },
        {
          "name": "stdout",
          "output_type": "stream",
          "text": [
            "Epoch [854/3000]: Train loss: 2.0995, Valid loss: 2.1241\n"
          ]
        },
        {
          "name": "stderr",
          "output_type": "stream",
          "text": [
            "Epoch [855/3000]: 100%|██████████| 9/9 [00:00<00:00, 125.91it/s, loss=2.68]\n"
          ]
        },
        {
          "name": "stdout",
          "output_type": "stream",
          "text": [
            "Epoch [855/3000]: Train loss: 2.1454, Valid loss: 2.1039\n"
          ]
        },
        {
          "name": "stderr",
          "output_type": "stream",
          "text": [
            "Epoch [856/3000]: 100%|██████████| 9/9 [00:00<00:00, 100.74it/s, loss=2.4]"
          ]
        },
        {
          "name": "stdout",
          "output_type": "stream",
          "text": [
            "Epoch [856/3000]: Train loss: 2.1243, Valid loss: 2.1384"
          ]
        },
        {
          "name": "stderr",
          "output_type": "stream",
          "text": [
            "\n"
          ]
        },
        {
          "name": "stdout",
          "output_type": "stream",
          "text": [
            "\n"
          ]
        },
        {
          "name": "stderr",
          "output_type": "stream",
          "text": [
            "Epoch [857/3000]: 100%|██████████| 9/9 [00:00<00:00, 123.92it/s, loss=1.99]\n"
          ]
        },
        {
          "name": "stdout",
          "output_type": "stream",
          "text": [
            "Epoch [857/3000]: Train loss: 2.0980, Valid loss: 1.8677\n"
          ]
        },
        {
          "name": "stderr",
          "output_type": "stream",
          "text": [
            "Epoch [858/3000]: 100%|██████████| 9/9 [00:00<00:00, 122.88it/s, loss=1.78]\n"
          ]
        },
        {
          "name": "stdout",
          "output_type": "stream",
          "text": [
            "Epoch [858/3000]: Train loss: 2.0841, Valid loss: 2.0878\n"
          ]
        },
        {
          "name": "stderr",
          "output_type": "stream",
          "text": [
            "Epoch [859/3000]: 100%|██████████| 9/9 [00:00<00:00, 128.11it/s, loss=2.32]\n"
          ]
        },
        {
          "name": "stdout",
          "output_type": "stream",
          "text": [
            "Epoch [859/3000]: Train loss: 2.1165, Valid loss: 2.0023\n"
          ]
        },
        {
          "name": "stderr",
          "output_type": "stream",
          "text": [
            "Epoch [860/3000]: 100%|██████████| 9/9 [00:00<00:00, 129.74it/s, loss=1.97]\n"
          ]
        },
        {
          "name": "stdout",
          "output_type": "stream",
          "text": [
            "Epoch [860/3000]: Train loss: 2.0939, Valid loss: 2.4342\n"
          ]
        },
        {
          "name": "stderr",
          "output_type": "stream",
          "text": [
            "Epoch [861/3000]: 100%|██████████| 9/9 [00:00<00:00, 122.00it/s, loss=2.32]\n"
          ]
        },
        {
          "name": "stdout",
          "output_type": "stream",
          "text": [
            "Epoch [861/3000]: Train loss: 2.1136, Valid loss: 1.9819\n"
          ]
        },
        {
          "name": "stderr",
          "output_type": "stream",
          "text": [
            "Epoch [862/3000]: 100%|██████████| 9/9 [00:00<00:00, 117.01it/s, loss=2.09]\n"
          ]
        },
        {
          "name": "stdout",
          "output_type": "stream",
          "text": [
            "Epoch [862/3000]: Train loss: 2.0974, Valid loss: 2.4631\n"
          ]
        },
        {
          "name": "stderr",
          "output_type": "stream",
          "text": [
            "Epoch [863/3000]: 100%|██████████| 9/9 [00:00<00:00, 108.45it/s, loss=1.86]\n"
          ]
        },
        {
          "name": "stdout",
          "output_type": "stream",
          "text": [
            "Epoch [863/3000]: Train loss: 2.0843, Valid loss: 2.0457\n"
          ]
        },
        {
          "name": "stderr",
          "output_type": "stream",
          "text": [
            "Epoch [864/3000]: 100%|██████████| 9/9 [00:00<00:00, 125.65it/s, loss=2.14]\n"
          ]
        },
        {
          "name": "stdout",
          "output_type": "stream",
          "text": [
            "Epoch [864/3000]: Train loss: 2.0995, Valid loss: 1.9682\n"
          ]
        },
        {
          "name": "stderr",
          "output_type": "stream",
          "text": [
            "Epoch [865/3000]: 100%|██████████| 9/9 [00:00<00:00, 132.04it/s, loss=1.73]\n"
          ]
        },
        {
          "name": "stdout",
          "output_type": "stream",
          "text": [
            "Epoch [865/3000]: Train loss: 2.0756, Valid loss: 1.8820\n"
          ]
        },
        {
          "name": "stderr",
          "output_type": "stream",
          "text": [
            "Epoch [866/3000]: 100%|██████████| 9/9 [00:00<00:00, 130.06it/s, loss=2.58]\n"
          ]
        },
        {
          "name": "stdout",
          "output_type": "stream",
          "text": [
            "Epoch [866/3000]: Train loss: 2.1237, Valid loss: 2.2001\n"
          ]
        },
        {
          "name": "stderr",
          "output_type": "stream",
          "text": [
            "Epoch [867/3000]: 100%|██████████| 9/9 [00:00<00:00, 98.30it/s, loss=2.34]\n"
          ]
        },
        {
          "name": "stdout",
          "output_type": "stream",
          "text": [
            "Epoch [867/3000]: Train loss: 2.1080, Valid loss: 2.1093\n"
          ]
        },
        {
          "name": "stderr",
          "output_type": "stream",
          "text": [
            "Epoch [868/3000]: 100%|██████████| 9/9 [00:00<00:00, 100.50it/s, loss=1.83]\n"
          ]
        },
        {
          "name": "stdout",
          "output_type": "stream",
          "text": [
            "Epoch [868/3000]: Train loss: 2.0770, Valid loss: 2.1591\n"
          ]
        },
        {
          "name": "stderr",
          "output_type": "stream",
          "text": [
            "Epoch [869/3000]: 100%|██████████| 9/9 [00:00<00:00, 92.40it/s, loss=1.8]\n"
          ]
        },
        {
          "name": "stdout",
          "output_type": "stream",
          "text": [
            "Epoch [869/3000]: Train loss: 2.0719, Valid loss: 2.0565\n"
          ]
        },
        {
          "name": "stderr",
          "output_type": "stream",
          "text": [
            "Epoch [870/3000]: 100%|██████████| 9/9 [00:00<00:00, 83.34it/s, loss=1.8]\n"
          ]
        },
        {
          "name": "stdout",
          "output_type": "stream",
          "text": [
            "Epoch [870/3000]: Train loss: 2.0712, Valid loss: 2.2500\n"
          ]
        },
        {
          "name": "stderr",
          "output_type": "stream",
          "text": [
            "Epoch [871/3000]: 100%|██████████| 9/9 [00:00<00:00, 95.92it/s, loss=2.09]\n"
          ]
        },
        {
          "name": "stdout",
          "output_type": "stream",
          "text": [
            "Epoch [871/3000]: Train loss: 2.0895, Valid loss: 2.0258\n"
          ]
        },
        {
          "name": "stderr",
          "output_type": "stream",
          "text": [
            "Epoch [872/3000]: 100%|██████████| 9/9 [00:00<00:00, 94.96it/s, loss=1.61]\n"
          ]
        },
        {
          "name": "stdout",
          "output_type": "stream",
          "text": [
            "Epoch [872/3000]: Train loss: 2.0576, Valid loss: 2.0923\n"
          ]
        },
        {
          "name": "stderr",
          "output_type": "stream",
          "text": [
            "Epoch [873/3000]: 100%|██████████| 9/9 [00:00<00:00, 98.75it/s, loss=1.91]\n"
          ]
        },
        {
          "name": "stdout",
          "output_type": "stream",
          "text": [
            "Epoch [873/3000]: Train loss: 2.0759, Valid loss: 2.1649\n"
          ]
        },
        {
          "name": "stderr",
          "output_type": "stream",
          "text": [
            "Epoch [874/3000]: 100%|██████████| 9/9 [00:00<00:00, 108.59it/s, loss=2.03]\n"
          ]
        },
        {
          "name": "stdout",
          "output_type": "stream",
          "text": [
            "Epoch [874/3000]: Train loss: 2.0808, Valid loss: 1.8223\n",
            "Saving model with loss 1.822...\n"
          ]
        },
        {
          "name": "stderr",
          "output_type": "stream",
          "text": [
            "Epoch [875/3000]: 100%|██████████| 9/9 [00:00<00:00, 125.46it/s, loss=2.08]\n"
          ]
        },
        {
          "name": "stdout",
          "output_type": "stream",
          "text": [
            "Epoch [875/3000]: Train loss: 2.0835, Valid loss: 2.0976\n"
          ]
        },
        {
          "name": "stderr",
          "output_type": "stream",
          "text": [
            "Epoch [876/3000]: 100%|██████████| 9/9 [00:00<00:00, 127.56it/s, loss=2.17]\n"
          ]
        },
        {
          "name": "stdout",
          "output_type": "stream",
          "text": [
            "Epoch [876/3000]: Train loss: 2.0875, Valid loss: 2.1815\n"
          ]
        },
        {
          "name": "stderr",
          "output_type": "stream",
          "text": [
            "Epoch [877/3000]: 100%|██████████| 9/9 [00:00<00:00, 111.65it/s, loss=2.44]\n"
          ]
        },
        {
          "name": "stdout",
          "output_type": "stream",
          "text": [
            "Epoch [877/3000]: Train loss: 2.1020, Valid loss: 2.3204\n"
          ]
        },
        {
          "name": "stderr",
          "output_type": "stream",
          "text": [
            "Epoch [878/3000]: 100%|██████████| 9/9 [00:00<00:00, 102.36it/s, loss=2.08]\n"
          ]
        },
        {
          "name": "stdout",
          "output_type": "stream",
          "text": [
            "Epoch [878/3000]: Train loss: 2.0794, Valid loss: 2.3824\n"
          ]
        },
        {
          "name": "stderr",
          "output_type": "stream",
          "text": [
            "Epoch [879/3000]: 100%|██████████| 9/9 [00:00<00:00, 107.57it/s, loss=2.7]\n"
          ]
        },
        {
          "name": "stdout",
          "output_type": "stream",
          "text": [
            "Epoch [879/3000]: Train loss: 2.1176, Valid loss: 2.4045\n"
          ]
        },
        {
          "name": "stderr",
          "output_type": "stream",
          "text": [
            "Epoch [880/3000]: 100%|██████████| 9/9 [00:00<00:00, 115.19it/s, loss=2.04]\n"
          ]
        },
        {
          "name": "stdout",
          "output_type": "stream",
          "text": [
            "Epoch [880/3000]: Train loss: 2.0742, Valid loss: 1.9257\n"
          ]
        },
        {
          "name": "stderr",
          "output_type": "stream",
          "text": [
            "Epoch [881/3000]: 100%|██████████| 9/9 [00:00<00:00, 109.89it/s, loss=1.84]\n"
          ]
        },
        {
          "name": "stdout",
          "output_type": "stream",
          "text": [
            "Epoch [881/3000]: Train loss: 2.0610, Valid loss: 1.8448\n"
          ]
        },
        {
          "name": "stderr",
          "output_type": "stream",
          "text": [
            "Epoch [882/3000]: 100%|██████████| 9/9 [00:00<00:00, 111.94it/s, loss=2.21]\n"
          ]
        },
        {
          "name": "stdout",
          "output_type": "stream",
          "text": [
            "Epoch [882/3000]: Train loss: 2.0851, Valid loss: 2.7195\n"
          ]
        },
        {
          "name": "stderr",
          "output_type": "stream",
          "text": [
            "Epoch [883/3000]: 100%|██████████| 9/9 [00:00<00:00, 121.21it/s, loss=1.48]"
          ]
        },
        {
          "name": "stdout",
          "output_type": "stream",
          "text": [
            "Epoch [883/3000]: Train loss: 2.0358, Valid loss: 2.3477"
          ]
        },
        {
          "name": "stderr",
          "output_type": "stream",
          "text": [
            "\n"
          ]
        },
        {
          "name": "stdout",
          "output_type": "stream",
          "text": [
            "\n"
          ]
        },
        {
          "name": "stderr",
          "output_type": "stream",
          "text": [
            "Epoch [884/3000]: 100%|██████████| 9/9 [00:00<00:00, 114.18it/s, loss=1.6]\n"
          ]
        },
        {
          "name": "stdout",
          "output_type": "stream",
          "text": [
            "Epoch [884/3000]: Train loss: 2.0420, Valid loss: 1.9948\n"
          ]
        },
        {
          "name": "stderr",
          "output_type": "stream",
          "text": [
            "Epoch [885/3000]: 100%|██████████| 9/9 [00:00<00:00, 121.80it/s, loss=2.64]\n"
          ]
        },
        {
          "name": "stdout",
          "output_type": "stream",
          "text": [
            "Epoch [885/3000]: Train loss: 2.1057, Valid loss: 2.0860\n"
          ]
        },
        {
          "name": "stderr",
          "output_type": "stream",
          "text": [
            "Epoch [886/3000]: 100%|██████████| 9/9 [00:00<00:00, 117.91it/s, loss=1.69]\n"
          ]
        },
        {
          "name": "stdout",
          "output_type": "stream",
          "text": [
            "Epoch [886/3000]: Train loss: 2.0459, Valid loss: 2.0186\n"
          ]
        },
        {
          "name": "stderr",
          "output_type": "stream",
          "text": [
            "Epoch [887/3000]: 100%|██████████| 9/9 [00:00<00:00, 112.53it/s, loss=1.47]"
          ]
        },
        {
          "name": "stdout",
          "output_type": "stream",
          "text": [
            "Epoch [887/3000]: Train loss: 2.0315, Valid loss: 2.1564"
          ]
        },
        {
          "name": "stderr",
          "output_type": "stream",
          "text": [
            "\n"
          ]
        },
        {
          "name": "stdout",
          "output_type": "stream",
          "text": [
            "\n"
          ]
        },
        {
          "name": "stderr",
          "output_type": "stream",
          "text": [
            "Epoch [888/3000]: 100%|██████████| 9/9 [00:00<00:00, 115.19it/s, loss=1.79]"
          ]
        },
        {
          "name": "stdout",
          "output_type": "stream",
          "text": [
            "Epoch [888/3000]: Train loss: 2.0486, Valid loss: 2.0870"
          ]
        },
        {
          "name": "stderr",
          "output_type": "stream",
          "text": [
            "\n"
          ]
        },
        {
          "name": "stdout",
          "output_type": "stream",
          "text": [
            "\n"
          ]
        },
        {
          "name": "stderr",
          "output_type": "stream",
          "text": [
            "Epoch [889/3000]: 100%|██████████| 9/9 [00:00<00:00, 87.77it/s, loss=2.18]\n"
          ]
        },
        {
          "name": "stdout",
          "output_type": "stream",
          "text": [
            "Epoch [889/3000]: Train loss: 2.0733, Valid loss: 2.4091\n"
          ]
        },
        {
          "name": "stderr",
          "output_type": "stream",
          "text": [
            "Epoch [890/3000]: 100%|██████████| 9/9 [00:00<00:00, 88.87it/s, loss=2.22]\n"
          ]
        },
        {
          "name": "stdout",
          "output_type": "stream",
          "text": [
            "Epoch [890/3000]: Train loss: 2.0775, Valid loss: 1.9183\n"
          ]
        },
        {
          "name": "stderr",
          "output_type": "stream",
          "text": [
            "Epoch [891/3000]: 100%|██████████| 9/9 [00:00<00:00, 100.23it/s, loss=2.48]\n"
          ]
        },
        {
          "name": "stdout",
          "output_type": "stream",
          "text": [
            "Epoch [891/3000]: Train loss: 2.0891, Valid loss: 2.1400\n"
          ]
        },
        {
          "name": "stderr",
          "output_type": "stream",
          "text": [
            "Epoch [892/3000]: 100%|██████████| 9/9 [00:00<00:00, 115.73it/s, loss=2.04]\n"
          ]
        },
        {
          "name": "stdout",
          "output_type": "stream",
          "text": [
            "Epoch [892/3000]: Train loss: 2.0614, Valid loss: 2.0254\n"
          ]
        },
        {
          "name": "stderr",
          "output_type": "stream",
          "text": [
            "Epoch [893/3000]: 100%|██████████| 9/9 [00:00<00:00, 106.20it/s, loss=2.24]\n"
          ]
        },
        {
          "name": "stdout",
          "output_type": "stream",
          "text": [
            "Epoch [893/3000]: Train loss: 2.0710, Valid loss: 1.7550\n",
            "Saving model with loss 1.755...\n"
          ]
        },
        {
          "name": "stderr",
          "output_type": "stream",
          "text": [
            "Epoch [894/3000]: 100%|██████████| 9/9 [00:00<00:00, 116.39it/s, loss=1.86]\n"
          ]
        },
        {
          "name": "stdout",
          "output_type": "stream",
          "text": [
            "Epoch [894/3000]: Train loss: 2.0503, Valid loss: 1.8944\n"
          ]
        },
        {
          "name": "stderr",
          "output_type": "stream",
          "text": [
            "Epoch [895/3000]: 100%|██████████| 9/9 [00:00<00:00, 108.91it/s, loss=3.1]\n"
          ]
        },
        {
          "name": "stdout",
          "output_type": "stream",
          "text": [
            "Epoch [895/3000]: Train loss: 2.1246, Valid loss: 2.1026\n"
          ]
        },
        {
          "name": "stderr",
          "output_type": "stream",
          "text": [
            "Epoch [896/3000]: 100%|██████████| 9/9 [00:00<00:00, 85.89it/s, loss=2.02]\n"
          ]
        },
        {
          "name": "stdout",
          "output_type": "stream",
          "text": [
            "Epoch [896/3000]: Train loss: 2.0559, Valid loss: 2.2555\n"
          ]
        },
        {
          "name": "stderr",
          "output_type": "stream",
          "text": [
            "Epoch [897/3000]: 100%|██████████| 9/9 [00:00<00:00, 108.12it/s, loss=1.68]\n"
          ]
        },
        {
          "name": "stdout",
          "output_type": "stream",
          "text": [
            "Epoch [897/3000]: Train loss: 2.0342, Valid loss: 2.3930\n"
          ]
        },
        {
          "name": "stderr",
          "output_type": "stream",
          "text": [
            "Epoch [898/3000]: 100%|██████████| 9/9 [00:00<00:00, 97.15it/s, loss=2.42]\n"
          ]
        },
        {
          "name": "stdout",
          "output_type": "stream",
          "text": [
            "Epoch [898/3000]: Train loss: 2.0791, Valid loss: 1.9106\n"
          ]
        },
        {
          "name": "stderr",
          "output_type": "stream",
          "text": [
            "Epoch [899/3000]: 100%|██████████| 9/9 [00:00<00:00, 95.69it/s, loss=2.25]\n"
          ]
        },
        {
          "name": "stdout",
          "output_type": "stream",
          "text": [
            "Epoch [899/3000]: Train loss: 2.0661, Valid loss: 2.0213\n"
          ]
        },
        {
          "name": "stderr",
          "output_type": "stream",
          "text": [
            "Epoch [900/3000]: 100%|██████████| 9/9 [00:00<00:00, 111.97it/s, loss=2.23]\n"
          ]
        },
        {
          "name": "stdout",
          "output_type": "stream",
          "text": [
            "Epoch [900/3000]: Train loss: 2.0684, Valid loss: 1.9405\n"
          ]
        },
        {
          "name": "stderr",
          "output_type": "stream",
          "text": [
            "Epoch [901/3000]: 100%|██████████| 9/9 [00:00<00:00, 115.65it/s, loss=2.72]\n"
          ]
        },
        {
          "name": "stdout",
          "output_type": "stream",
          "text": [
            "Epoch [901/3000]: Train loss: 2.0934, Valid loss: 1.8444\n"
          ]
        },
        {
          "name": "stderr",
          "output_type": "stream",
          "text": [
            "Epoch [902/3000]: 100%|██████████| 9/9 [00:00<00:00, 112.65it/s, loss=1.98]\n"
          ]
        },
        {
          "name": "stdout",
          "output_type": "stream",
          "text": [
            "Epoch [902/3000]: Train loss: 2.0450, Valid loss: 2.4426\n"
          ]
        },
        {
          "name": "stderr",
          "output_type": "stream",
          "text": [
            "Epoch [903/3000]: 100%|██████████| 9/9 [00:00<00:00, 113.75it/s, loss=1.92]\n"
          ]
        },
        {
          "name": "stdout",
          "output_type": "stream",
          "text": [
            "Epoch [903/3000]: Train loss: 2.0394, Valid loss: 2.3760\n"
          ]
        },
        {
          "name": "stderr",
          "output_type": "stream",
          "text": [
            "Epoch [904/3000]: 100%|██████████| 9/9 [00:00<00:00, 113.63it/s, loss=2.18]\n"
          ]
        },
        {
          "name": "stdout",
          "output_type": "stream",
          "text": [
            "Epoch [904/3000]: Train loss: 2.0564, Valid loss: 2.0444\n"
          ]
        },
        {
          "name": "stderr",
          "output_type": "stream",
          "text": [
            "Epoch [905/3000]: 100%|██████████| 9/9 [00:00<00:00, 122.52it/s, loss=1.66]\n"
          ]
        },
        {
          "name": "stdout",
          "output_type": "stream",
          "text": [
            "Epoch [905/3000]: Train loss: 2.0219, Valid loss: 2.1659\n"
          ]
        },
        {
          "name": "stderr",
          "output_type": "stream",
          "text": [
            "Epoch [906/3000]: 100%|██████████| 9/9 [00:00<00:00, 123.68it/s, loss=1.98]\n"
          ]
        },
        {
          "name": "stdout",
          "output_type": "stream",
          "text": [
            "Epoch [906/3000]: Train loss: 2.0438, Valid loss: 2.3616\n"
          ]
        },
        {
          "name": "stderr",
          "output_type": "stream",
          "text": [
            "Epoch [907/3000]: 100%|██████████| 9/9 [00:00<00:00, 127.25it/s, loss=1.43]\n"
          ]
        },
        {
          "name": "stdout",
          "output_type": "stream",
          "text": [
            "Epoch [907/3000]: Train loss: 2.0051, Valid loss: 1.9278\n"
          ]
        },
        {
          "name": "stderr",
          "output_type": "stream",
          "text": [
            "Epoch [908/3000]: 100%|██████████| 9/9 [00:00<00:00, 132.20it/s, loss=2.9]\n"
          ]
        },
        {
          "name": "stdout",
          "output_type": "stream",
          "text": [
            "Epoch [908/3000]: Train loss: 2.0967, Valid loss: 2.0210\n"
          ]
        },
        {
          "name": "stderr",
          "output_type": "stream",
          "text": [
            "Epoch [909/3000]: 100%|██████████| 9/9 [00:00<00:00, 128.23it/s, loss=2.55]\n"
          ]
        },
        {
          "name": "stdout",
          "output_type": "stream",
          "text": [
            "Epoch [909/3000]: Train loss: 2.0760, Valid loss: 2.2385\n"
          ]
        },
        {
          "name": "stderr",
          "output_type": "stream",
          "text": [
            "Epoch [910/3000]: 100%|██████████| 9/9 [00:00<00:00, 127.57it/s, loss=2.26]\n"
          ]
        },
        {
          "name": "stdout",
          "output_type": "stream",
          "text": [
            "Epoch [910/3000]: Train loss: 2.0558, Valid loss: 2.1475\n"
          ]
        },
        {
          "name": "stderr",
          "output_type": "stream",
          "text": [
            "Epoch [911/3000]: 100%|██████████| 9/9 [00:00<00:00, 129.04it/s, loss=2.08]\n"
          ]
        },
        {
          "name": "stdout",
          "output_type": "stream",
          "text": [
            "Epoch [911/3000]: Train loss: 2.0435, Valid loss: 2.1423\n"
          ]
        },
        {
          "name": "stderr",
          "output_type": "stream",
          "text": [
            "Epoch [912/3000]: 100%|██████████| 9/9 [00:00<00:00, 127.07it/s, loss=2.23]\n"
          ]
        },
        {
          "name": "stdout",
          "output_type": "stream",
          "text": [
            "Epoch [912/3000]: Train loss: 2.0515, Valid loss: 2.2073\n"
          ]
        },
        {
          "name": "stderr",
          "output_type": "stream",
          "text": [
            "Epoch [913/3000]: 100%|██████████| 9/9 [00:00<00:00, 98.67it/s, loss=1.66]\n"
          ]
        },
        {
          "name": "stdout",
          "output_type": "stream",
          "text": [
            "Epoch [913/3000]: Train loss: 2.0107, Valid loss: 1.9017\n"
          ]
        },
        {
          "name": "stderr",
          "output_type": "stream",
          "text": [
            "Epoch [914/3000]: 100%|██████████| 9/9 [00:00<00:00, 120.24it/s, loss=2.43]\n"
          ]
        },
        {
          "name": "stdout",
          "output_type": "stream",
          "text": [
            "Epoch [914/3000]: Train loss: 2.0647, Valid loss: 2.0585\n"
          ]
        },
        {
          "name": "stderr",
          "output_type": "stream",
          "text": [
            "Epoch [915/3000]: 100%|██████████| 9/9 [00:00<00:00, 125.76it/s, loss=1.3]\n"
          ]
        },
        {
          "name": "stdout",
          "output_type": "stream",
          "text": [
            "Epoch [915/3000]: Train loss: 1.9918, Valid loss: 2.2730\n"
          ]
        },
        {
          "name": "stderr",
          "output_type": "stream",
          "text": [
            "Epoch [916/3000]: 100%|██████████| 9/9 [00:00<00:00, 130.90it/s, loss=2.4]\n"
          ]
        },
        {
          "name": "stdout",
          "output_type": "stream",
          "text": [
            "Epoch [916/3000]: Train loss: 2.0618, Valid loss: 1.8205\n"
          ]
        },
        {
          "name": "stderr",
          "output_type": "stream",
          "text": [
            "Epoch [917/3000]: 100%|██████████| 9/9 [00:00<00:00, 127.12it/s, loss=1.79]\n"
          ]
        },
        {
          "name": "stdout",
          "output_type": "stream",
          "text": [
            "Epoch [917/3000]: Train loss: 2.0192, Valid loss: 2.0052\n"
          ]
        },
        {
          "name": "stderr",
          "output_type": "stream",
          "text": [
            "Epoch [918/3000]: 100%|██████████| 9/9 [00:00<00:00, 120.29it/s, loss=2.56]\n"
          ]
        },
        {
          "name": "stdout",
          "output_type": "stream",
          "text": [
            "Epoch [918/3000]: Train loss: 2.0652, Valid loss: 1.8832\n"
          ]
        },
        {
          "name": "stderr",
          "output_type": "stream",
          "text": [
            "Epoch [919/3000]: 100%|██████████| 9/9 [00:00<00:00, 116.26it/s, loss=1.97]\n"
          ]
        },
        {
          "name": "stdout",
          "output_type": "stream",
          "text": [
            "Epoch [919/3000]: Train loss: 2.0261, Valid loss: 2.0149\n"
          ]
        },
        {
          "name": "stderr",
          "output_type": "stream",
          "text": [
            "Epoch [920/3000]: 100%|██████████| 9/9 [00:00<00:00, 120.47it/s, loss=2.08]\n"
          ]
        },
        {
          "name": "stdout",
          "output_type": "stream",
          "text": [
            "Epoch [920/3000]: Train loss: 2.0323, Valid loss: 1.9779\n"
          ]
        },
        {
          "name": "stderr",
          "output_type": "stream",
          "text": [
            "Epoch [921/3000]: 100%|██████████| 9/9 [00:00<00:00, 120.91it/s, loss=2.48]\n"
          ]
        },
        {
          "name": "stdout",
          "output_type": "stream",
          "text": [
            "Epoch [921/3000]: Train loss: 2.0567, Valid loss: 1.9065\n"
          ]
        },
        {
          "name": "stderr",
          "output_type": "stream",
          "text": [
            "Epoch [922/3000]: 100%|██████████| 9/9 [00:00<00:00, 121.92it/s, loss=1.91]\n"
          ]
        },
        {
          "name": "stdout",
          "output_type": "stream",
          "text": [
            "Epoch [922/3000]: Train loss: 2.0205, Valid loss: 2.3157\n"
          ]
        },
        {
          "name": "stderr",
          "output_type": "stream",
          "text": [
            "Epoch [923/3000]: 100%|██████████| 9/9 [00:00<00:00, 116.24it/s, loss=2.67]\n"
          ]
        },
        {
          "name": "stdout",
          "output_type": "stream",
          "text": [
            "Epoch [923/3000]: Train loss: 2.0698, Valid loss: 2.1350\n"
          ]
        },
        {
          "name": "stderr",
          "output_type": "stream",
          "text": [
            "Epoch [924/3000]: 100%|██████████| 9/9 [00:00<00:00, 105.59it/s, loss=2.04]\n"
          ]
        },
        {
          "name": "stdout",
          "output_type": "stream",
          "text": [
            "Epoch [924/3000]: Train loss: 2.0260, Valid loss: 2.1666\n"
          ]
        },
        {
          "name": "stderr",
          "output_type": "stream",
          "text": [
            "Epoch [925/3000]: 100%|██████████| 9/9 [00:00<00:00, 111.85it/s, loss=1.42]\n"
          ]
        },
        {
          "name": "stdout",
          "output_type": "stream",
          "text": [
            "Epoch [925/3000]: Train loss: 1.9878, Valid loss: 2.0648\n"
          ]
        },
        {
          "name": "stderr",
          "output_type": "stream",
          "text": [
            "Epoch [926/3000]: 100%|██████████| 9/9 [00:00<00:00, 111.00it/s, loss=2.16]\n"
          ]
        },
        {
          "name": "stdout",
          "output_type": "stream",
          "text": [
            "Epoch [926/3000]: Train loss: 2.0327, Valid loss: 2.5607\n"
          ]
        },
        {
          "name": "stderr",
          "output_type": "stream",
          "text": [
            "Epoch [927/3000]: 100%|██████████| 9/9 [00:00<00:00, 117.10it/s, loss=2.27]"
          ]
        },
        {
          "name": "stdout",
          "output_type": "stream",
          "text": [
            "Epoch [927/3000]: Train loss: 2.0384, Valid loss: 2.6921"
          ]
        },
        {
          "name": "stderr",
          "output_type": "stream",
          "text": [
            "\n"
          ]
        },
        {
          "name": "stdout",
          "output_type": "stream",
          "text": [
            "\n"
          ]
        },
        {
          "name": "stderr",
          "output_type": "stream",
          "text": [
            "Epoch [928/3000]: 100%|██████████| 9/9 [00:00<00:00, 111.40it/s, loss=2.03]\n"
          ]
        },
        {
          "name": "stdout",
          "output_type": "stream",
          "text": [
            "Epoch [928/3000]: Train loss: 2.0214, Valid loss: 2.0181\n"
          ]
        },
        {
          "name": "stderr",
          "output_type": "stream",
          "text": [
            "Epoch [929/3000]: 100%|██████████| 9/9 [00:00<00:00, 120.66it/s, loss=2.23]\n"
          ]
        },
        {
          "name": "stdout",
          "output_type": "stream",
          "text": [
            "Epoch [929/3000]: Train loss: 2.0338, Valid loss: 2.0184\n"
          ]
        },
        {
          "name": "stderr",
          "output_type": "stream",
          "text": [
            "Epoch [930/3000]: 100%|██████████| 9/9 [00:00<00:00, 128.16it/s, loss=2.11]"
          ]
        },
        {
          "name": "stdout",
          "output_type": "stream",
          "text": [
            "Epoch [930/3000]: Train loss: 2.0276, Valid loss: 1.9073"
          ]
        },
        {
          "name": "stderr",
          "output_type": "stream",
          "text": [
            "\n"
          ]
        },
        {
          "name": "stdout",
          "output_type": "stream",
          "text": [
            "\n"
          ]
        },
        {
          "name": "stderr",
          "output_type": "stream",
          "text": [
            "Epoch [931/3000]: 100%|██████████| 9/9 [00:00<00:00, 121.11it/s, loss=1.85]\n"
          ]
        },
        {
          "name": "stdout",
          "output_type": "stream",
          "text": [
            "Epoch [931/3000]: Train loss: 2.0081, Valid loss: 2.7186\n"
          ]
        },
        {
          "name": "stderr",
          "output_type": "stream",
          "text": [
            "Epoch [932/3000]: 100%|██████████| 9/9 [00:00<00:00, 105.30it/s, loss=2.5]\n"
          ]
        },
        {
          "name": "stdout",
          "output_type": "stream",
          "text": [
            "Epoch [932/3000]: Train loss: 2.0474, Valid loss: 2.1122\n"
          ]
        },
        {
          "name": "stderr",
          "output_type": "stream",
          "text": [
            "Epoch [933/3000]: 100%|██████████| 9/9 [00:00<00:00, 108.74it/s, loss=1.51]\n"
          ]
        },
        {
          "name": "stdout",
          "output_type": "stream",
          "text": [
            "Epoch [933/3000]: Train loss: 1.9845, Valid loss: 2.0362\n"
          ]
        },
        {
          "name": "stderr",
          "output_type": "stream",
          "text": [
            "Epoch [934/3000]: 100%|██████████| 9/9 [00:00<00:00, 120.58it/s, loss=1.96]"
          ]
        },
        {
          "name": "stdout",
          "output_type": "stream",
          "text": [
            "Epoch [934/3000]: Train loss: 2.0134, Valid loss: 2.4407"
          ]
        },
        {
          "name": "stderr",
          "output_type": "stream",
          "text": [
            "\n"
          ]
        },
        {
          "name": "stdout",
          "output_type": "stream",
          "text": [
            "\n"
          ]
        },
        {
          "name": "stderr",
          "output_type": "stream",
          "text": [
            "Epoch [935/3000]: 100%|██████████| 9/9 [00:00<00:00, 121.00it/s, loss=2.41]\n"
          ]
        },
        {
          "name": "stdout",
          "output_type": "stream",
          "text": [
            "Epoch [935/3000]: Train loss: 2.0412, Valid loss: 2.2296\n"
          ]
        },
        {
          "name": "stderr",
          "output_type": "stream",
          "text": [
            "Epoch [936/3000]: 100%|██████████| 9/9 [00:00<00:00, 126.32it/s, loss=2.79]\n"
          ]
        },
        {
          "name": "stdout",
          "output_type": "stream",
          "text": [
            "Epoch [936/3000]: Train loss: 2.0637, Valid loss: 2.0552\n"
          ]
        },
        {
          "name": "stderr",
          "output_type": "stream",
          "text": [
            "Epoch [937/3000]: 100%|██████████| 9/9 [00:00<00:00, 106.10it/s, loss=2.19]"
          ]
        },
        {
          "name": "stdout",
          "output_type": "stream",
          "text": [
            "Epoch [937/3000]: Train loss: 2.0271, Valid loss: 1.9631"
          ]
        },
        {
          "name": "stderr",
          "output_type": "stream",
          "text": [
            "\n"
          ]
        },
        {
          "name": "stdout",
          "output_type": "stream",
          "text": [
            "\n"
          ]
        },
        {
          "name": "stderr",
          "output_type": "stream",
          "text": [
            "Epoch [938/3000]: 100%|██████████| 9/9 [00:00<00:00, 102.78it/s, loss=2.13]\n"
          ]
        },
        {
          "name": "stdout",
          "output_type": "stream",
          "text": [
            "Epoch [938/3000]: Train loss: 2.0205, Valid loss: 2.1268\n"
          ]
        },
        {
          "name": "stderr",
          "output_type": "stream",
          "text": [
            "Epoch [939/3000]: 100%|██████████| 9/9 [00:00<00:00, 103.54it/s, loss=1.94]\n"
          ]
        },
        {
          "name": "stdout",
          "output_type": "stream",
          "text": [
            "Epoch [939/3000]: Train loss: 2.0036, Valid loss: 2.0215\n"
          ]
        },
        {
          "name": "stderr",
          "output_type": "stream",
          "text": [
            "Epoch [940/3000]: 100%|██████████| 9/9 [00:00<00:00, 108.35it/s, loss=2.08]\n"
          ]
        },
        {
          "name": "stdout",
          "output_type": "stream",
          "text": [
            "Epoch [940/3000]: Train loss: 2.0123, Valid loss: 2.2557\n"
          ]
        },
        {
          "name": "stderr",
          "output_type": "stream",
          "text": [
            "Epoch [941/3000]: 100%|██████████| 9/9 [00:00<00:00, 100.35it/s, loss=2.16]\n"
          ]
        },
        {
          "name": "stdout",
          "output_type": "stream",
          "text": [
            "Epoch [941/3000]: Train loss: 2.0180, Valid loss: 1.9677\n"
          ]
        },
        {
          "name": "stderr",
          "output_type": "stream",
          "text": [
            "Epoch [942/3000]: 100%|██████████| 9/9 [00:00<00:00, 88.68it/s, loss=2.39]\n"
          ]
        },
        {
          "name": "stdout",
          "output_type": "stream",
          "text": [
            "Epoch [942/3000]: Train loss: 2.0318, Valid loss: 2.3013\n"
          ]
        },
        {
          "name": "stderr",
          "output_type": "stream",
          "text": [
            "Epoch [943/3000]: 100%|██████████| 9/9 [00:00<00:00, 101.49it/s, loss=1.29]\n"
          ]
        },
        {
          "name": "stdout",
          "output_type": "stream",
          "text": [
            "Epoch [943/3000]: Train loss: 1.9608, Valid loss: 2.0405\n"
          ]
        },
        {
          "name": "stderr",
          "output_type": "stream",
          "text": [
            "Epoch [944/3000]: 100%|██████████| 9/9 [00:00<00:00, 103.51it/s, loss=1.95]\n"
          ]
        },
        {
          "name": "stdout",
          "output_type": "stream",
          "text": [
            "Epoch [944/3000]: Train loss: 2.0022, Valid loss: 1.7723\n"
          ]
        },
        {
          "name": "stderr",
          "output_type": "stream",
          "text": [
            "Epoch [945/3000]: 100%|██████████| 9/9 [00:00<00:00, 114.27it/s, loss=1.83]\n"
          ]
        },
        {
          "name": "stdout",
          "output_type": "stream",
          "text": [
            "Epoch [945/3000]: Train loss: 1.9939, Valid loss: 1.9898\n"
          ]
        },
        {
          "name": "stderr",
          "output_type": "stream",
          "text": [
            "Epoch [946/3000]: 100%|██████████| 9/9 [00:00<00:00, 118.19it/s, loss=2.55]\n"
          ]
        },
        {
          "name": "stdout",
          "output_type": "stream",
          "text": [
            "Epoch [946/3000]: Train loss: 2.0374, Valid loss: 2.2950\n"
          ]
        },
        {
          "name": "stderr",
          "output_type": "stream",
          "text": [
            "Epoch [947/3000]: 100%|██████████| 9/9 [00:00<00:00, 115.84it/s, loss=1.44]\n"
          ]
        },
        {
          "name": "stdout",
          "output_type": "stream",
          "text": [
            "Epoch [947/3000]: Train loss: 1.9680, Valid loss: 1.9800\n"
          ]
        },
        {
          "name": "stderr",
          "output_type": "stream",
          "text": [
            "Epoch [948/3000]: 100%|██████████| 9/9 [00:00<00:00, 88.34it/s, loss=2.09]\n"
          ]
        },
        {
          "name": "stdout",
          "output_type": "stream",
          "text": [
            "Epoch [948/3000]: Train loss: 2.0087, Valid loss: 2.3416\n"
          ]
        },
        {
          "name": "stderr",
          "output_type": "stream",
          "text": [
            "Epoch [949/3000]: 100%|██████████| 9/9 [00:00<00:00, 92.18it/s, loss=1.89]\n"
          ]
        },
        {
          "name": "stdout",
          "output_type": "stream",
          "text": [
            "Epoch [949/3000]: Train loss: 1.9935, Valid loss: 2.3380\n"
          ]
        },
        {
          "name": "stderr",
          "output_type": "stream",
          "text": [
            "Epoch [950/3000]: 100%|██████████| 9/9 [00:00<00:00, 110.42it/s, loss=2.13]\n"
          ]
        },
        {
          "name": "stdout",
          "output_type": "stream",
          "text": [
            "Epoch [950/3000]: Train loss: 2.0077, Valid loss: 2.0979\n"
          ]
        },
        {
          "name": "stderr",
          "output_type": "stream",
          "text": [
            "Epoch [951/3000]: 100%|██████████| 9/9 [00:00<00:00, 133.11it/s, loss=2.28]\n"
          ]
        },
        {
          "name": "stdout",
          "output_type": "stream",
          "text": [
            "Epoch [951/3000]: Train loss: 2.0151, Valid loss: 1.9267\n"
          ]
        },
        {
          "name": "stderr",
          "output_type": "stream",
          "text": [
            "Epoch [952/3000]: 100%|██████████| 9/9 [00:00<00:00, 130.73it/s, loss=2.17]\n"
          ]
        },
        {
          "name": "stdout",
          "output_type": "stream",
          "text": [
            "Epoch [952/3000]: Train loss: 2.0101, Valid loss: 2.2310\n"
          ]
        },
        {
          "name": "stderr",
          "output_type": "stream",
          "text": [
            "Epoch [953/3000]: 100%|██████████| 9/9 [00:00<00:00, 125.44it/s, loss=2.2]\n"
          ]
        },
        {
          "name": "stdout",
          "output_type": "stream",
          "text": [
            "Epoch [953/3000]: Train loss: 2.0085, Valid loss: 2.3987\n"
          ]
        },
        {
          "name": "stderr",
          "output_type": "stream",
          "text": [
            "Epoch [954/3000]: 100%|██████████| 9/9 [00:00<00:00, 128.73it/s, loss=1.91]\n"
          ]
        },
        {
          "name": "stdout",
          "output_type": "stream",
          "text": [
            "Epoch [954/3000]: Train loss: 1.9888, Valid loss: 2.2978\n"
          ]
        },
        {
          "name": "stderr",
          "output_type": "stream",
          "text": [
            "Epoch [955/3000]: 100%|██████████| 9/9 [00:00<00:00, 117.40it/s, loss=1.51]\n"
          ]
        },
        {
          "name": "stdout",
          "output_type": "stream",
          "text": [
            "Epoch [955/3000]: Train loss: 1.9657, Valid loss: 2.3596\n"
          ]
        },
        {
          "name": "stderr",
          "output_type": "stream",
          "text": [
            "Epoch [956/3000]: 100%|██████████| 9/9 [00:00<00:00, 108.38it/s, loss=2.27]\n"
          ]
        },
        {
          "name": "stdout",
          "output_type": "stream",
          "text": [
            "Epoch [956/3000]: Train loss: 2.0126, Valid loss: 2.0227\n"
          ]
        },
        {
          "name": "stderr",
          "output_type": "stream",
          "text": [
            "Epoch [957/3000]: 100%|██████████| 9/9 [00:00<00:00, 130.36it/s, loss=1.79]\n"
          ]
        },
        {
          "name": "stdout",
          "output_type": "stream",
          "text": [
            "Epoch [957/3000]: Train loss: 1.9812, Valid loss: 2.1763\n"
          ]
        },
        {
          "name": "stderr",
          "output_type": "stream",
          "text": [
            "Epoch [958/3000]: 100%|██████████| 9/9 [00:00<00:00, 117.30it/s, loss=1.32]\n"
          ]
        },
        {
          "name": "stdout",
          "output_type": "stream",
          "text": [
            "Epoch [958/3000]: Train loss: 1.9476, Valid loss: 2.3598\n"
          ]
        },
        {
          "name": "stderr",
          "output_type": "stream",
          "text": [
            "Epoch [959/3000]: 100%|██████████| 9/9 [00:00<00:00, 122.62it/s, loss=2.3]\n"
          ]
        },
        {
          "name": "stdout",
          "output_type": "stream",
          "text": [
            "Epoch [959/3000]: Train loss: 2.0110, Valid loss: 1.7755\n"
          ]
        },
        {
          "name": "stderr",
          "output_type": "stream",
          "text": [
            "Epoch [960/3000]: 100%|██████████| 9/9 [00:00<00:00, 131.39it/s, loss=1.71]\n"
          ]
        },
        {
          "name": "stdout",
          "output_type": "stream",
          "text": [
            "Epoch [960/3000]: Train loss: 1.9766, Valid loss: 2.3195\n"
          ]
        },
        {
          "name": "stderr",
          "output_type": "stream",
          "text": [
            "Epoch [961/3000]: 100%|██████████| 9/9 [00:00<00:00, 119.94it/s, loss=1.91]\n"
          ]
        },
        {
          "name": "stdout",
          "output_type": "stream",
          "text": [
            "Epoch [961/3000]: Train loss: 1.9836, Valid loss: 2.3565\n"
          ]
        },
        {
          "name": "stderr",
          "output_type": "stream",
          "text": [
            "Epoch [962/3000]: 100%|██████████| 9/9 [00:00<00:00, 122.63it/s, loss=1.66]"
          ]
        },
        {
          "name": "stdout",
          "output_type": "stream",
          "text": [
            "Epoch [962/3000]: Train loss: 1.9687, Valid loss: 2.0534"
          ]
        },
        {
          "name": "stderr",
          "output_type": "stream",
          "text": [
            "\n"
          ]
        },
        {
          "name": "stdout",
          "output_type": "stream",
          "text": [
            "\n"
          ]
        },
        {
          "name": "stderr",
          "output_type": "stream",
          "text": [
            "Epoch [963/3000]: 100%|██████████| 9/9 [00:00<00:00, 123.76it/s, loss=1.6]\n"
          ]
        },
        {
          "name": "stdout",
          "output_type": "stream",
          "text": [
            "Epoch [963/3000]: Train loss: 1.9631, Valid loss: 2.1040\n"
          ]
        },
        {
          "name": "stderr",
          "output_type": "stream",
          "text": [
            "Epoch [964/3000]: 100%|██████████| 9/9 [00:00<00:00, 113.02it/s, loss=1.77]"
          ]
        },
        {
          "name": "stdout",
          "output_type": "stream",
          "text": [
            "Epoch [964/3000]: Train loss: 1.9724, Valid loss: 2.0968\n"
          ]
        },
        {
          "name": "stderr",
          "output_type": "stream",
          "text": [
            "\n",
            "Epoch [965/3000]: 100%|██████████| 9/9 [00:00<00:00, 129.92it/s, loss=1.59]\n"
          ]
        },
        {
          "name": "stdout",
          "output_type": "stream",
          "text": [
            "Epoch [965/3000]: Train loss: 1.9613, Valid loss: 1.9173\n"
          ]
        },
        {
          "name": "stderr",
          "output_type": "stream",
          "text": [
            "Epoch [966/3000]: 100%|██████████| 9/9 [00:00<00:00, 102.33it/s, loss=2.45]"
          ]
        },
        {
          "name": "stdout",
          "output_type": "stream",
          "text": [
            "Epoch [966/3000]: Train loss: 2.0132, Valid loss: 2.2062\n"
          ]
        },
        {
          "name": "stderr",
          "output_type": "stream",
          "text": [
            "\n",
            "Epoch [967/3000]: 100%|██████████| 9/9 [00:00<00:00, 93.59it/s, loss=2.24]\n"
          ]
        },
        {
          "name": "stdout",
          "output_type": "stream",
          "text": [
            "Epoch [967/3000]: Train loss: 1.9993, Valid loss: 1.9388\n"
          ]
        },
        {
          "name": "stderr",
          "output_type": "stream",
          "text": [
            "Epoch [968/3000]: 100%|██████████| 9/9 [00:00<00:00, 110.71it/s, loss=1.72]\n"
          ]
        },
        {
          "name": "stdout",
          "output_type": "stream",
          "text": [
            "Epoch [968/3000]: Train loss: 1.9674, Valid loss: 1.7029\n",
            "Saving model with loss 1.703...\n"
          ]
        },
        {
          "name": "stderr",
          "output_type": "stream",
          "text": [
            "Epoch [969/3000]: 100%|██████████| 9/9 [00:00<00:00, 115.25it/s, loss=1.42]\n"
          ]
        },
        {
          "name": "stdout",
          "output_type": "stream",
          "text": [
            "Epoch [969/3000]: Train loss: 1.9482, Valid loss: 2.3127\n"
          ]
        },
        {
          "name": "stderr",
          "output_type": "stream",
          "text": [
            "Epoch [970/3000]: 100%|██████████| 9/9 [00:00<00:00, 138.98it/s, loss=1.75]\n"
          ]
        },
        {
          "name": "stdout",
          "output_type": "stream",
          "text": [
            "Epoch [970/3000]: Train loss: 1.9671, Valid loss: 2.3309\n"
          ]
        },
        {
          "name": "stderr",
          "output_type": "stream",
          "text": [
            "Epoch [971/3000]: 100%|██████████| 9/9 [00:00<00:00, 112.75it/s, loss=1.44]\n"
          ]
        },
        {
          "name": "stdout",
          "output_type": "stream",
          "text": [
            "Epoch [971/3000]: Train loss: 1.9452, Valid loss: 2.0927\n"
          ]
        },
        {
          "name": "stderr",
          "output_type": "stream",
          "text": [
            "Epoch [972/3000]: 100%|██████████| 9/9 [00:00<00:00, 117.77it/s, loss=1.23]\n"
          ]
        },
        {
          "name": "stdout",
          "output_type": "stream",
          "text": [
            "Epoch [972/3000]: Train loss: 1.9313, Valid loss: 1.8017\n"
          ]
        },
        {
          "name": "stderr",
          "output_type": "stream",
          "text": [
            "Epoch [973/3000]: 100%|██████████| 9/9 [00:00<00:00, 121.66it/s, loss=1.73]\n"
          ]
        },
        {
          "name": "stdout",
          "output_type": "stream",
          "text": [
            "Epoch [973/3000]: Train loss: 1.9617, Valid loss: 2.1949\n"
          ]
        },
        {
          "name": "stderr",
          "output_type": "stream",
          "text": [
            "Epoch [974/3000]: 100%|██████████| 9/9 [00:00<00:00, 85.09it/s, loss=2.3]\n"
          ]
        },
        {
          "name": "stdout",
          "output_type": "stream",
          "text": [
            "Epoch [974/3000]: Train loss: 1.9966, Valid loss: 1.9552\n"
          ]
        },
        {
          "name": "stderr",
          "output_type": "stream",
          "text": [
            "Epoch [975/3000]: 100%|██████████| 9/9 [00:00<00:00, 113.38it/s, loss=1.2]\n"
          ]
        },
        {
          "name": "stdout",
          "output_type": "stream",
          "text": [
            "Epoch [975/3000]: Train loss: 1.9270, Valid loss: 2.3135\n"
          ]
        },
        {
          "name": "stderr",
          "output_type": "stream",
          "text": [
            "Epoch [976/3000]: 100%|██████████| 9/9 [00:00<00:00, 126.28it/s, loss=2.39]"
          ]
        },
        {
          "name": "stdout",
          "output_type": "stream",
          "text": [
            "Epoch [976/3000]: Train loss: 2.0046, Valid loss: 2.0787"
          ]
        },
        {
          "name": "stderr",
          "output_type": "stream",
          "text": [
            "\n"
          ]
        },
        {
          "name": "stdout",
          "output_type": "stream",
          "text": [
            "\n"
          ]
        },
        {
          "name": "stderr",
          "output_type": "stream",
          "text": [
            "Epoch [977/3000]: 100%|██████████| 9/9 [00:00<00:00, 131.51it/s, loss=1.74]\n"
          ]
        },
        {
          "name": "stdout",
          "output_type": "stream",
          "text": [
            "Epoch [977/3000]: Train loss: 1.9596, Valid loss: 2.2195\n"
          ]
        },
        {
          "name": "stderr",
          "output_type": "stream",
          "text": [
            "Epoch [978/3000]: 100%|██████████| 9/9 [00:00<00:00, 127.63it/s, loss=1.72]\n"
          ]
        },
        {
          "name": "stdout",
          "output_type": "stream",
          "text": [
            "Epoch [978/3000]: Train loss: 1.9603, Valid loss: 2.3274\n"
          ]
        },
        {
          "name": "stderr",
          "output_type": "stream",
          "text": [
            "Epoch [979/3000]: 100%|██████████| 9/9 [00:00<00:00, 128.37it/s, loss=2]\n"
          ]
        },
        {
          "name": "stdout",
          "output_type": "stream",
          "text": [
            "Epoch [979/3000]: Train loss: 1.9742, Valid loss: 2.2383\n"
          ]
        },
        {
          "name": "stderr",
          "output_type": "stream",
          "text": [
            "Epoch [980/3000]: 100%|██████████| 9/9 [00:00<00:00, 127.54it/s, loss=2.44]\n"
          ]
        },
        {
          "name": "stdout",
          "output_type": "stream",
          "text": [
            "Epoch [980/3000]: Train loss: 2.0027, Valid loss: 1.9019\n"
          ]
        },
        {
          "name": "stderr",
          "output_type": "stream",
          "text": [
            "Epoch [981/3000]: 100%|██████████| 9/9 [00:00<00:00, 108.62it/s, loss=2.58]\n"
          ]
        },
        {
          "name": "stdout",
          "output_type": "stream",
          "text": [
            "Epoch [981/3000]: Train loss: 2.0116, Valid loss: 2.4004\n"
          ]
        },
        {
          "name": "stderr",
          "output_type": "stream",
          "text": [
            "Epoch [982/3000]: 100%|██████████| 9/9 [00:00<00:00, 85.82it/s, loss=1.79]\n"
          ]
        },
        {
          "name": "stdout",
          "output_type": "stream",
          "text": [
            "Epoch [982/3000]: Train loss: 1.9598, Valid loss: 1.8882\n"
          ]
        },
        {
          "name": "stderr",
          "output_type": "stream",
          "text": [
            "Epoch [983/3000]: 100%|██████████| 9/9 [00:00<00:00, 101.33it/s, loss=1.93]\n"
          ]
        },
        {
          "name": "stdout",
          "output_type": "stream",
          "text": [
            "Epoch [983/3000]: Train loss: 1.9684, Valid loss: 1.9243\n"
          ]
        },
        {
          "name": "stderr",
          "output_type": "stream",
          "text": [
            "Epoch [984/3000]: 100%|██████████| 9/9 [00:00<00:00, 96.13it/s, loss=2.23]\n"
          ]
        },
        {
          "name": "stdout",
          "output_type": "stream",
          "text": [
            "Epoch [984/3000]: Train loss: 1.9868, Valid loss: 2.1183\n"
          ]
        },
        {
          "name": "stderr",
          "output_type": "stream",
          "text": [
            "Epoch [985/3000]: 100%|██████████| 9/9 [00:00<00:00, 121.64it/s, loss=1.85]\n"
          ]
        },
        {
          "name": "stdout",
          "output_type": "stream",
          "text": [
            "Epoch [985/3000]: Train loss: 1.9599, Valid loss: 2.4025\n"
          ]
        },
        {
          "name": "stderr",
          "output_type": "stream",
          "text": [
            "Epoch [986/3000]: 100%|██████████| 9/9 [00:00<00:00, 123.95it/s, loss=1.88]"
          ]
        },
        {
          "name": "stdout",
          "output_type": "stream",
          "text": [
            "Epoch [986/3000]: Train loss: 1.9606, Valid loss: 2.3827"
          ]
        },
        {
          "name": "stderr",
          "output_type": "stream",
          "text": [
            "\n"
          ]
        },
        {
          "name": "stdout",
          "output_type": "stream",
          "text": [
            "\n"
          ]
        },
        {
          "name": "stderr",
          "output_type": "stream",
          "text": [
            "Epoch [987/3000]: 100%|██████████| 9/9 [00:00<00:00, 122.04it/s, loss=2.11]"
          ]
        },
        {
          "name": "stdout",
          "output_type": "stream",
          "text": [
            "Epoch [987/3000]: Train loss: 1.9750, Valid loss: 1.7340"
          ]
        },
        {
          "name": "stderr",
          "output_type": "stream",
          "text": [
            "\n"
          ]
        },
        {
          "name": "stdout",
          "output_type": "stream",
          "text": [
            "\n"
          ]
        },
        {
          "name": "stderr",
          "output_type": "stream",
          "text": [
            "Epoch [988/3000]: 100%|██████████| 9/9 [00:00<00:00, 121.35it/s, loss=1.5]\n"
          ]
        },
        {
          "name": "stdout",
          "output_type": "stream",
          "text": [
            "Epoch [988/3000]: Train loss: 1.9379, Valid loss: 2.2050\n"
          ]
        },
        {
          "name": "stderr",
          "output_type": "stream",
          "text": [
            "Epoch [989/3000]: 100%|██████████| 9/9 [00:00<00:00, 117.21it/s, loss=1.92]\n"
          ]
        },
        {
          "name": "stdout",
          "output_type": "stream",
          "text": [
            "Epoch [989/3000]: Train loss: 1.9629, Valid loss: 2.0801\n"
          ]
        },
        {
          "name": "stderr",
          "output_type": "stream",
          "text": [
            "Epoch [990/3000]: 100%|██████████| 9/9 [00:00<00:00, 120.55it/s, loss=2.66]"
          ]
        },
        {
          "name": "stdout",
          "output_type": "stream",
          "text": [
            "Epoch [990/3000]: Train loss: 2.0058, Valid loss: 1.8440"
          ]
        },
        {
          "name": "stderr",
          "output_type": "stream",
          "text": [
            "\n"
          ]
        },
        {
          "name": "stdout",
          "output_type": "stream",
          "text": [
            "\n"
          ]
        },
        {
          "name": "stderr",
          "output_type": "stream",
          "text": [
            "Epoch [991/3000]: 100%|██████████| 9/9 [00:00<00:00, 113.54it/s, loss=2.18]\n"
          ]
        },
        {
          "name": "stdout",
          "output_type": "stream",
          "text": [
            "Epoch [991/3000]: Train loss: 1.9755, Valid loss: 1.9810\n"
          ]
        },
        {
          "name": "stderr",
          "output_type": "stream",
          "text": [
            "Epoch [992/3000]: 100%|██████████| 9/9 [00:00<00:00, 113.35it/s, loss=1.6]"
          ]
        },
        {
          "name": "stdout",
          "output_type": "stream",
          "text": [
            "Epoch [992/3000]: Train loss: 1.9412, Valid loss: 1.9038"
          ]
        },
        {
          "name": "stderr",
          "output_type": "stream",
          "text": [
            "\n"
          ]
        },
        {
          "name": "stdout",
          "output_type": "stream",
          "text": [
            "\n"
          ]
        },
        {
          "name": "stderr",
          "output_type": "stream",
          "text": [
            "Epoch [993/3000]: 100%|██████████| 9/9 [00:00<00:00, 133.76it/s, loss=2.18]\n"
          ]
        },
        {
          "name": "stdout",
          "output_type": "stream",
          "text": [
            "Epoch [993/3000]: Train loss: 1.9749, Valid loss: 2.0870\n"
          ]
        },
        {
          "name": "stderr",
          "output_type": "stream",
          "text": [
            "Epoch [994/3000]: 100%|██████████| 9/9 [00:00<00:00, 137.47it/s, loss=1.25]\n"
          ]
        },
        {
          "name": "stdout",
          "output_type": "stream",
          "text": [
            "Epoch [994/3000]: Train loss: 1.9142, Valid loss: 2.0674\n"
          ]
        },
        {
          "name": "stderr",
          "output_type": "stream",
          "text": [
            "Epoch [995/3000]: 100%|██████████| 9/9 [00:00<00:00, 141.64it/s, loss=2.31]\n"
          ]
        },
        {
          "name": "stdout",
          "output_type": "stream",
          "text": [
            "Epoch [995/3000]: Train loss: 1.9828, Valid loss: 2.1308\n"
          ]
        },
        {
          "name": "stderr",
          "output_type": "stream",
          "text": [
            "Epoch [996/3000]: 100%|██████████| 9/9 [00:00<00:00, 133.87it/s, loss=1.99]\n"
          ]
        },
        {
          "name": "stdout",
          "output_type": "stream",
          "text": [
            "Epoch [996/3000]: Train loss: 1.9607, Valid loss: 1.9686\n"
          ]
        },
        {
          "name": "stderr",
          "output_type": "stream",
          "text": [
            "Epoch [997/3000]: 100%|██████████| 9/9 [00:00<00:00, 126.22it/s, loss=1.86]\n"
          ]
        },
        {
          "name": "stdout",
          "output_type": "stream",
          "text": [
            "Epoch [997/3000]: Train loss: 1.9529, Valid loss: 2.0774\n"
          ]
        },
        {
          "name": "stderr",
          "output_type": "stream",
          "text": [
            "Epoch [998/3000]: 100%|██████████| 9/9 [00:00<00:00, 106.31it/s, loss=1.98]\n"
          ]
        },
        {
          "name": "stdout",
          "output_type": "stream",
          "text": [
            "Epoch [998/3000]: Train loss: 1.9586, Valid loss: 1.7704\n"
          ]
        },
        {
          "name": "stderr",
          "output_type": "stream",
          "text": [
            "Epoch [999/3000]: 100%|██████████| 9/9 [00:00<00:00, 129.16it/s, loss=2.08]\n"
          ]
        },
        {
          "name": "stdout",
          "output_type": "stream",
          "text": [
            "Epoch [999/3000]: Train loss: 1.9629, Valid loss: 2.6086\n"
          ]
        },
        {
          "name": "stderr",
          "output_type": "stream",
          "text": [
            "Epoch [1000/3000]: 100%|██████████| 9/9 [00:00<00:00, 126.20it/s, loss=1.91]\n"
          ]
        },
        {
          "name": "stdout",
          "output_type": "stream",
          "text": [
            "Epoch [1000/3000]: Train loss: 1.9513, Valid loss: 1.7280\n"
          ]
        },
        {
          "name": "stderr",
          "output_type": "stream",
          "text": [
            "Epoch [1001/3000]: 100%|██████████| 9/9 [00:00<00:00, 126.15it/s, loss=2.23]\n"
          ]
        },
        {
          "name": "stdout",
          "output_type": "stream",
          "text": [
            "Epoch [1001/3000]: Train loss: 1.9724, Valid loss: 2.1831\n"
          ]
        },
        {
          "name": "stderr",
          "output_type": "stream",
          "text": [
            "Epoch [1002/3000]: 100%|██████████| 9/9 [00:00<00:00, 123.54it/s, loss=2.39]\n"
          ]
        },
        {
          "name": "stdout",
          "output_type": "stream",
          "text": [
            "Epoch [1002/3000]: Train loss: 1.9836, Valid loss: 2.2374\n"
          ]
        },
        {
          "name": "stderr",
          "output_type": "stream",
          "text": [
            "Epoch [1003/3000]: 100%|██████████| 9/9 [00:00<00:00, 103.89it/s, loss=2.46]\n"
          ]
        },
        {
          "name": "stdout",
          "output_type": "stream",
          "text": [
            "Epoch [1003/3000]: Train loss: 1.9848, Valid loss: 2.0570\n"
          ]
        },
        {
          "name": "stderr",
          "output_type": "stream",
          "text": [
            "Epoch [1004/3000]: 100%|██████████| 9/9 [00:00<00:00, 124.79it/s, loss=2.13]\n"
          ]
        },
        {
          "name": "stdout",
          "output_type": "stream",
          "text": [
            "Epoch [1004/3000]: Train loss: 1.9615, Valid loss: 2.0123\n"
          ]
        },
        {
          "name": "stderr",
          "output_type": "stream",
          "text": [
            "Epoch [1005/3000]: 100%|██████████| 9/9 [00:00<00:00, 120.84it/s, loss=1.82]\n"
          ]
        },
        {
          "name": "stdout",
          "output_type": "stream",
          "text": [
            "Epoch [1005/3000]: Train loss: 1.9460, Valid loss: 2.0293\n"
          ]
        },
        {
          "name": "stderr",
          "output_type": "stream",
          "text": [
            "Epoch [1006/3000]: 100%|██████████| 9/9 [00:00<00:00, 121.82it/s, loss=2.1]\n"
          ]
        },
        {
          "name": "stdout",
          "output_type": "stream",
          "text": [
            "Epoch [1006/3000]: Train loss: 1.9597, Valid loss: 1.9149\n"
          ]
        },
        {
          "name": "stderr",
          "output_type": "stream",
          "text": [
            "Epoch [1007/3000]: 100%|██████████| 9/9 [00:00<00:00, 124.76it/s, loss=2.18]"
          ]
        },
        {
          "name": "stdout",
          "output_type": "stream",
          "text": [
            "Epoch [1007/3000]: Train loss: 1.9630, Valid loss: 1.9334"
          ]
        },
        {
          "name": "stderr",
          "output_type": "stream",
          "text": [
            "\n"
          ]
        },
        {
          "name": "stdout",
          "output_type": "stream",
          "text": [
            "\n"
          ]
        },
        {
          "name": "stderr",
          "output_type": "stream",
          "text": [
            "Epoch [1008/3000]: 100%|██████████| 9/9 [00:00<00:00, 128.36it/s, loss=2.3]\n"
          ]
        },
        {
          "name": "stdout",
          "output_type": "stream",
          "text": [
            "Epoch [1008/3000]: Train loss: 1.9714, Valid loss: 2.0444\n"
          ]
        },
        {
          "name": "stderr",
          "output_type": "stream",
          "text": [
            "Epoch [1009/3000]: 100%|██████████| 9/9 [00:00<00:00, 114.02it/s, loss=1.74]\n"
          ]
        },
        {
          "name": "stdout",
          "output_type": "stream",
          "text": [
            "Epoch [1009/3000]: Train loss: 1.9343, Valid loss: 2.0967\n"
          ]
        },
        {
          "name": "stderr",
          "output_type": "stream",
          "text": [
            "Epoch [1010/3000]: 100%|██████████| 9/9 [00:00<00:00, 120.40it/s, loss=2.33]"
          ]
        },
        {
          "name": "stdout",
          "output_type": "stream",
          "text": [
            "Epoch [1010/3000]: Train loss: 1.9715, Valid loss: 2.1548"
          ]
        },
        {
          "name": "stderr",
          "output_type": "stream",
          "text": [
            "\n"
          ]
        },
        {
          "name": "stdout",
          "output_type": "stream",
          "text": [
            "\n"
          ]
        },
        {
          "name": "stderr",
          "output_type": "stream",
          "text": [
            "Epoch [1011/3000]: 100%|██████████| 9/9 [00:00<00:00, 121.36it/s, loss=2.04]\n"
          ]
        },
        {
          "name": "stdout",
          "output_type": "stream",
          "text": [
            "Epoch [1011/3000]: Train loss: 1.9504, Valid loss: 2.0083\n"
          ]
        },
        {
          "name": "stderr",
          "output_type": "stream",
          "text": [
            "Epoch [1012/3000]: 100%|██████████| 9/9 [00:00<00:00, 114.66it/s, loss=1.45]"
          ]
        },
        {
          "name": "stdout",
          "output_type": "stream",
          "text": [
            "Epoch [1012/3000]: Train loss: 1.9166, Valid loss: 2.1463\n"
          ]
        },
        {
          "name": "stderr",
          "output_type": "stream",
          "text": [
            "\n",
            "Epoch [1013/3000]: 100%|██████████| 9/9 [00:00<00:00, 102.22it/s, loss=1.34]\n"
          ]
        },
        {
          "name": "stdout",
          "output_type": "stream",
          "text": [
            "Epoch [1013/3000]: Train loss: 1.9054, Valid loss: 2.2588\n"
          ]
        },
        {
          "name": "stderr",
          "output_type": "stream",
          "text": [
            "Epoch [1014/3000]: 100%|██████████| 9/9 [00:00<00:00, 97.75it/s, loss=2.41]\n"
          ]
        },
        {
          "name": "stdout",
          "output_type": "stream",
          "text": [
            "Epoch [1014/3000]: Train loss: 1.9721, Valid loss: 1.9528\n"
          ]
        },
        {
          "name": "stderr",
          "output_type": "stream",
          "text": [
            "Epoch [1015/3000]: 100%|██████████| 9/9 [00:00<00:00, 120.11it/s, loss=2.07]\n"
          ]
        },
        {
          "name": "stdout",
          "output_type": "stream",
          "text": [
            "Epoch [1015/3000]: Train loss: 1.9515, Valid loss: 2.3260\n"
          ]
        },
        {
          "name": "stderr",
          "output_type": "stream",
          "text": [
            "Epoch [1016/3000]: 100%|██████████| 9/9 [00:00<00:00, 114.30it/s, loss=1.8]"
          ]
        },
        {
          "name": "stdout",
          "output_type": "stream",
          "text": [
            "Epoch [1016/3000]: Train loss: 1.9348, Valid loss: 1.9874"
          ]
        },
        {
          "name": "stderr",
          "output_type": "stream",
          "text": [
            "\n"
          ]
        },
        {
          "name": "stdout",
          "output_type": "stream",
          "text": [
            "\n"
          ]
        },
        {
          "name": "stderr",
          "output_type": "stream",
          "text": [
            "Epoch [1017/3000]: 100%|██████████| 9/9 [00:00<00:00, 114.83it/s, loss=2.3]\n"
          ]
        },
        {
          "name": "stdout",
          "output_type": "stream",
          "text": [
            "Epoch [1017/3000]: Train loss: 1.9634, Valid loss: 2.2437\n"
          ]
        },
        {
          "name": "stderr",
          "output_type": "stream",
          "text": [
            "Epoch [1018/3000]: 100%|██████████| 9/9 [00:00<00:00, 104.16it/s, loss=2.19]\n"
          ]
        },
        {
          "name": "stdout",
          "output_type": "stream",
          "text": [
            "Epoch [1018/3000]: Train loss: 1.9582, Valid loss: 1.8958\n"
          ]
        },
        {
          "name": "stderr",
          "output_type": "stream",
          "text": [
            "Epoch [1019/3000]: 100%|██████████| 9/9 [00:00<00:00, 118.58it/s, loss=2.19]\n"
          ]
        },
        {
          "name": "stdout",
          "output_type": "stream",
          "text": [
            "Epoch [1019/3000]: Train loss: 1.9546, Valid loss: 1.9530\n"
          ]
        },
        {
          "name": "stderr",
          "output_type": "stream",
          "text": [
            "Epoch [1020/3000]: 100%|██████████| 9/9 [00:00<00:00, 124.46it/s, loss=1.95]\n"
          ]
        },
        {
          "name": "stdout",
          "output_type": "stream",
          "text": [
            "Epoch [1020/3000]: Train loss: 1.9419, Valid loss: 2.2484\n"
          ]
        },
        {
          "name": "stderr",
          "output_type": "stream",
          "text": [
            "Epoch [1021/3000]: 100%|██████████| 9/9 [00:00<00:00, 119.64it/s, loss=1.99]\n"
          ]
        },
        {
          "name": "stdout",
          "output_type": "stream",
          "text": [
            "Epoch [1021/3000]: Train loss: 1.9433, Valid loss: 2.1733\n"
          ]
        },
        {
          "name": "stderr",
          "output_type": "stream",
          "text": [
            "Epoch [1022/3000]: 100%|██████████| 9/9 [00:00<00:00, 123.79it/s, loss=2.39]\n"
          ]
        },
        {
          "name": "stdout",
          "output_type": "stream",
          "text": [
            "Epoch [1022/3000]: Train loss: 1.9679, Valid loss: 1.9050\n"
          ]
        },
        {
          "name": "stderr",
          "output_type": "stream",
          "text": [
            "Epoch [1023/3000]: 100%|██████████| 9/9 [00:00<00:00, 128.50it/s, loss=1.88]\n"
          ]
        },
        {
          "name": "stdout",
          "output_type": "stream",
          "text": [
            "Epoch [1023/3000]: Train loss: 1.9322, Valid loss: 1.9342\n"
          ]
        },
        {
          "name": "stderr",
          "output_type": "stream",
          "text": [
            "Epoch [1024/3000]: 100%|██████████| 9/9 [00:00<00:00, 119.33it/s, loss=2.07]\n"
          ]
        },
        {
          "name": "stdout",
          "output_type": "stream",
          "text": [
            "Epoch [1024/3000]: Train loss: 1.9432, Valid loss: 2.4063\n"
          ]
        },
        {
          "name": "stderr",
          "output_type": "stream",
          "text": [
            "Epoch [1025/3000]: 100%|██████████| 9/9 [00:00<00:00, 124.04it/s, loss=1.41]\n"
          ]
        },
        {
          "name": "stdout",
          "output_type": "stream",
          "text": [
            "Epoch [1025/3000]: Train loss: 1.9046, Valid loss: 2.0312\n"
          ]
        },
        {
          "name": "stderr",
          "output_type": "stream",
          "text": [
            "Epoch [1026/3000]: 100%|██████████| 9/9 [00:00<00:00, 106.80it/s, loss=1.8]\n"
          ]
        },
        {
          "name": "stdout",
          "output_type": "stream",
          "text": [
            "Epoch [1026/3000]: Train loss: 1.9271, Valid loss: 1.8821\n"
          ]
        },
        {
          "name": "stderr",
          "output_type": "stream",
          "text": [
            "Epoch [1027/3000]: 100%|██████████| 9/9 [00:00<00:00, 95.51it/s, loss=1.83]\n"
          ]
        },
        {
          "name": "stdout",
          "output_type": "stream",
          "text": [
            "Epoch [1027/3000]: Train loss: 1.9270, Valid loss: 1.8203\n"
          ]
        },
        {
          "name": "stderr",
          "output_type": "stream",
          "text": [
            "Epoch [1028/3000]: 100%|██████████| 9/9 [00:00<00:00, 104.40it/s, loss=2.04]\n"
          ]
        },
        {
          "name": "stdout",
          "output_type": "stream",
          "text": [
            "Epoch [1028/3000]: Train loss: 1.9414, Valid loss: 1.8175\n"
          ]
        },
        {
          "name": "stderr",
          "output_type": "stream",
          "text": [
            "Epoch [1029/3000]: 100%|██████████| 9/9 [00:00<00:00, 126.17it/s, loss=1.87]\n"
          ]
        },
        {
          "name": "stdout",
          "output_type": "stream",
          "text": [
            "Epoch [1029/3000]: Train loss: 1.9267, Valid loss: 2.2069\n"
          ]
        },
        {
          "name": "stderr",
          "output_type": "stream",
          "text": [
            "Epoch [1030/3000]: 100%|██████████| 9/9 [00:00<00:00, 124.56it/s, loss=1.76]"
          ]
        },
        {
          "name": "stdout",
          "output_type": "stream",
          "text": [
            "Epoch [1030/3000]: Train loss: 1.9211, Valid loss: 1.9594"
          ]
        },
        {
          "name": "stderr",
          "output_type": "stream",
          "text": [
            "\n"
          ]
        },
        {
          "name": "stdout",
          "output_type": "stream",
          "text": [
            "\n"
          ]
        },
        {
          "name": "stderr",
          "output_type": "stream",
          "text": [
            "Epoch [1031/3000]: 100%|██████████| 9/9 [00:00<00:00, 119.93it/s, loss=1.85]\n"
          ]
        },
        {
          "name": "stdout",
          "output_type": "stream",
          "text": [
            "Epoch [1031/3000]: Train loss: 1.9293, Valid loss: 2.4872\n"
          ]
        },
        {
          "name": "stderr",
          "output_type": "stream",
          "text": [
            "Epoch [1032/3000]: 100%|██████████| 9/9 [00:00<00:00, 122.81it/s, loss=2.07]\n"
          ]
        },
        {
          "name": "stdout",
          "output_type": "stream",
          "text": [
            "Epoch [1032/3000]: Train loss: 1.9376, Valid loss: 2.0946\n"
          ]
        },
        {
          "name": "stderr",
          "output_type": "stream",
          "text": [
            "Epoch [1033/3000]: 100%|██████████| 9/9 [00:00<00:00, 116.88it/s, loss=1.69]\n"
          ]
        },
        {
          "name": "stdout",
          "output_type": "stream",
          "text": [
            "Epoch [1033/3000]: Train loss: 1.9131, Valid loss: 1.9459\n"
          ]
        },
        {
          "name": "stderr",
          "output_type": "stream",
          "text": [
            "Epoch [1034/3000]: 100%|██████████| 9/9 [00:00<00:00, 121.00it/s, loss=1.8]\n"
          ]
        },
        {
          "name": "stdout",
          "output_type": "stream",
          "text": [
            "Epoch [1034/3000]: Train loss: 1.9190, Valid loss: 1.8473\n"
          ]
        },
        {
          "name": "stderr",
          "output_type": "stream",
          "text": [
            "Epoch [1035/3000]: 100%|██████████| 9/9 [00:00<00:00, 126.27it/s, loss=2.44]"
          ]
        },
        {
          "name": "stdout",
          "output_type": "stream",
          "text": [
            "Epoch [1035/3000]: Train loss: 1.9640, Valid loss: 2.0011"
          ]
        },
        {
          "name": "stderr",
          "output_type": "stream",
          "text": [
            "\n"
          ]
        },
        {
          "name": "stdout",
          "output_type": "stream",
          "text": [
            "\n"
          ]
        },
        {
          "name": "stderr",
          "output_type": "stream",
          "text": [
            "Epoch [1036/3000]: 100%|██████████| 9/9 [00:00<00:00, 139.39it/s, loss=1.85]\n"
          ]
        },
        {
          "name": "stdout",
          "output_type": "stream",
          "text": [
            "Epoch [1036/3000]: Train loss: 1.9208, Valid loss: 2.0872\n"
          ]
        },
        {
          "name": "stderr",
          "output_type": "stream",
          "text": [
            "Epoch [1037/3000]: 100%|██████████| 9/9 [00:00<00:00, 139.98it/s, loss=2.5]\n"
          ]
        },
        {
          "name": "stdout",
          "output_type": "stream",
          "text": [
            "Epoch [1037/3000]: Train loss: 1.9639, Valid loss: 1.7655\n"
          ]
        },
        {
          "name": "stderr",
          "output_type": "stream",
          "text": [
            "Epoch [1038/3000]: 100%|██████████| 9/9 [00:00<00:00, 120.37it/s, loss=1.95]\n"
          ]
        },
        {
          "name": "stdout",
          "output_type": "stream",
          "text": [
            "Epoch [1038/3000]: Train loss: 1.9291, Valid loss: 2.3067\n"
          ]
        },
        {
          "name": "stderr",
          "output_type": "stream",
          "text": [
            "Epoch [1039/3000]: 100%|██████████| 9/9 [00:00<00:00, 129.28it/s, loss=2.28]\n"
          ]
        },
        {
          "name": "stdout",
          "output_type": "stream",
          "text": [
            "Epoch [1039/3000]: Train loss: 1.9484, Valid loss: 1.9490\n"
          ]
        },
        {
          "name": "stderr",
          "output_type": "stream",
          "text": [
            "Epoch [1040/3000]: 100%|██████████| 9/9 [00:00<00:00, 134.55it/s, loss=2.34]\n"
          ]
        },
        {
          "name": "stdout",
          "output_type": "stream",
          "text": [
            "Epoch [1040/3000]: Train loss: 1.9487, Valid loss: 2.5290\n"
          ]
        },
        {
          "name": "stderr",
          "output_type": "stream",
          "text": [
            "Epoch [1041/3000]: 100%|██████████| 9/9 [00:00<00:00, 130.00it/s, loss=2.51]\n"
          ]
        },
        {
          "name": "stdout",
          "output_type": "stream",
          "text": [
            "Epoch [1041/3000]: Train loss: 1.9597, Valid loss: 2.2792\n"
          ]
        },
        {
          "name": "stderr",
          "output_type": "stream",
          "text": [
            "Epoch [1042/3000]: 100%|██████████| 9/9 [00:00<00:00, 94.71it/s, loss=2.7]\n"
          ]
        },
        {
          "name": "stdout",
          "output_type": "stream",
          "text": [
            "Epoch [1042/3000]: Train loss: 1.9726, Valid loss: 2.0579\n"
          ]
        },
        {
          "name": "stderr",
          "output_type": "stream",
          "text": [
            "Epoch [1043/3000]: 100%|██████████| 9/9 [00:00<00:00, 121.76it/s, loss=1.68]\n"
          ]
        },
        {
          "name": "stdout",
          "output_type": "stream",
          "text": [
            "Epoch [1043/3000]: Train loss: 1.9074, Valid loss: 1.9976\n"
          ]
        },
        {
          "name": "stderr",
          "output_type": "stream",
          "text": [
            "Epoch [1044/3000]: 100%|██████████| 9/9 [00:00<00:00, 140.96it/s, loss=1.71]\n"
          ]
        },
        {
          "name": "stdout",
          "output_type": "stream",
          "text": [
            "Epoch [1044/3000]: Train loss: 1.9096, Valid loss: 2.2546\n"
          ]
        },
        {
          "name": "stderr",
          "output_type": "stream",
          "text": [
            "Epoch [1045/3000]: 100%|██████████| 9/9 [00:00<00:00, 130.70it/s, loss=2.1]\n"
          ]
        },
        {
          "name": "stdout",
          "output_type": "stream",
          "text": [
            "Epoch [1045/3000]: Train loss: 1.9346, Valid loss: 2.0766\n"
          ]
        },
        {
          "name": "stderr",
          "output_type": "stream",
          "text": [
            "Epoch [1046/3000]: 100%|██████████| 9/9 [00:00<00:00, 116.77it/s, loss=2.14]\n"
          ]
        },
        {
          "name": "stdout",
          "output_type": "stream",
          "text": [
            "Epoch [1046/3000]: Train loss: 1.9346, Valid loss: 2.1824\n"
          ]
        },
        {
          "name": "stderr",
          "output_type": "stream",
          "text": [
            "Epoch [1047/3000]: 100%|██████████| 9/9 [00:00<00:00, 119.63it/s, loss=1.53]\n"
          ]
        },
        {
          "name": "stdout",
          "output_type": "stream",
          "text": [
            "Epoch [1047/3000]: Train loss: 1.8968, Valid loss: 1.9268\n"
          ]
        },
        {
          "name": "stderr",
          "output_type": "stream",
          "text": [
            "Epoch [1048/3000]: 100%|██████████| 9/9 [00:00<00:00, 99.13it/s, loss=2.24]\n"
          ]
        },
        {
          "name": "stdout",
          "output_type": "stream",
          "text": [
            "Epoch [1048/3000]: Train loss: 1.9370, Valid loss: 1.7934\n"
          ]
        },
        {
          "name": "stderr",
          "output_type": "stream",
          "text": [
            "Epoch [1049/3000]: 100%|██████████| 9/9 [00:00<00:00, 114.78it/s, loss=1.87]\n"
          ]
        },
        {
          "name": "stdout",
          "output_type": "stream",
          "text": [
            "Epoch [1049/3000]: Train loss: 1.9160, Valid loss: 2.1407\n"
          ]
        },
        {
          "name": "stderr",
          "output_type": "stream",
          "text": [
            "Epoch [1050/3000]: 100%|██████████| 9/9 [00:00<00:00, 124.47it/s, loss=1.55]\n"
          ]
        },
        {
          "name": "stdout",
          "output_type": "stream",
          "text": [
            "Epoch [1050/3000]: Train loss: 1.8936, Valid loss: 2.0619\n"
          ]
        },
        {
          "name": "stderr",
          "output_type": "stream",
          "text": [
            "Epoch [1051/3000]: 100%|██████████| 9/9 [00:00<00:00, 126.76it/s, loss=1.88]\n"
          ]
        },
        {
          "name": "stdout",
          "output_type": "stream",
          "text": [
            "Epoch [1051/3000]: Train loss: 1.9137, Valid loss: 2.5144\n"
          ]
        },
        {
          "name": "stderr",
          "output_type": "stream",
          "text": [
            "Epoch [1052/3000]: 100%|██████████| 9/9 [00:00<00:00, 122.73it/s, loss=2.01]\n"
          ]
        },
        {
          "name": "stdout",
          "output_type": "stream",
          "text": [
            "Epoch [1052/3000]: Train loss: 1.9209, Valid loss: 2.4477\n"
          ]
        },
        {
          "name": "stderr",
          "output_type": "stream",
          "text": [
            "Epoch [1053/3000]: 100%|██████████| 9/9 [00:00<00:00, 118.40it/s, loss=1.72]\n"
          ]
        },
        {
          "name": "stdout",
          "output_type": "stream",
          "text": [
            "Epoch [1053/3000]: Train loss: 1.9030, Valid loss: 1.9015\n"
          ]
        },
        {
          "name": "stderr",
          "output_type": "stream",
          "text": [
            "Epoch [1054/3000]: 100%|██████████| 9/9 [00:00<00:00, 83.52it/s, loss=2.31]\n"
          ]
        },
        {
          "name": "stdout",
          "output_type": "stream",
          "text": [
            "Epoch [1054/3000]: Train loss: 1.9393, Valid loss: 2.1614\n"
          ]
        },
        {
          "name": "stderr",
          "output_type": "stream",
          "text": [
            "Epoch [1055/3000]: 100%|██████████| 9/9 [00:00<00:00, 116.33it/s, loss=1.86]\n"
          ]
        },
        {
          "name": "stdout",
          "output_type": "stream",
          "text": [
            "Epoch [1055/3000]: Train loss: 1.9110, Valid loss: 2.1147\n"
          ]
        },
        {
          "name": "stderr",
          "output_type": "stream",
          "text": [
            "Epoch [1056/3000]: 100%|██████████| 9/9 [00:00<00:00, 112.79it/s, loss=2.35]\n"
          ]
        },
        {
          "name": "stdout",
          "output_type": "stream",
          "text": [
            "Epoch [1056/3000]: Train loss: 1.9401, Valid loss: 2.0737\n"
          ]
        },
        {
          "name": "stderr",
          "output_type": "stream",
          "text": [
            "Epoch [1057/3000]: 100%|██████████| 9/9 [00:00<00:00, 84.97it/s, loss=2.06]\n"
          ]
        },
        {
          "name": "stdout",
          "output_type": "stream",
          "text": [
            "Epoch [1057/3000]: Train loss: 1.9243, Valid loss: 2.0645\n"
          ]
        },
        {
          "name": "stderr",
          "output_type": "stream",
          "text": [
            "Epoch [1058/3000]: 100%|██████████| 9/9 [00:00<00:00, 105.37it/s, loss=1.5]\n"
          ]
        },
        {
          "name": "stdout",
          "output_type": "stream",
          "text": [
            "Epoch [1058/3000]: Train loss: 1.8850, Valid loss: 1.9288\n"
          ]
        },
        {
          "name": "stderr",
          "output_type": "stream",
          "text": [
            "Epoch [1059/3000]: 100%|██████████| 9/9 [00:00<00:00, 125.27it/s, loss=2.24]\n"
          ]
        },
        {
          "name": "stdout",
          "output_type": "stream",
          "text": [
            "Epoch [1059/3000]: Train loss: 1.9330, Valid loss: 1.8834\n"
          ]
        },
        {
          "name": "stderr",
          "output_type": "stream",
          "text": [
            "Epoch [1060/3000]: 100%|██████████| 9/9 [00:00<00:00, 38.26it/s, loss=2]   \n"
          ]
        },
        {
          "name": "stdout",
          "output_type": "stream",
          "text": [
            "Epoch [1060/3000]: Train loss: 1.9182, Valid loss: 2.0640\n"
          ]
        },
        {
          "name": "stderr",
          "output_type": "stream",
          "text": [
            "Epoch [1061/3000]: 100%|██████████| 9/9 [00:00<00:00, 132.30it/s, loss=2.1]\n"
          ]
        },
        {
          "name": "stdout",
          "output_type": "stream",
          "text": [
            "Epoch [1061/3000]: Train loss: 1.9198, Valid loss: 2.0763\n"
          ]
        },
        {
          "name": "stderr",
          "output_type": "stream",
          "text": [
            "Epoch [1062/3000]: 100%|██████████| 9/9 [00:00<00:00, 139.10it/s, loss=2.04]\n"
          ]
        },
        {
          "name": "stdout",
          "output_type": "stream",
          "text": [
            "Epoch [1062/3000]: Train loss: 1.9184, Valid loss: 1.8509\n"
          ]
        },
        {
          "name": "stderr",
          "output_type": "stream",
          "text": [
            "Epoch [1063/3000]: 100%|██████████| 9/9 [00:00<00:00, 127.54it/s, loss=1.99]\n"
          ]
        },
        {
          "name": "stdout",
          "output_type": "stream",
          "text": [
            "Epoch [1063/3000]: Train loss: 1.9125, Valid loss: 2.1757\n"
          ]
        },
        {
          "name": "stderr",
          "output_type": "stream",
          "text": [
            "Epoch [1064/3000]: 100%|██████████| 9/9 [00:00<00:00, 125.76it/s, loss=1.29]\n"
          ]
        },
        {
          "name": "stdout",
          "output_type": "stream",
          "text": [
            "Epoch [1064/3000]: Train loss: 1.8699, Valid loss: 2.2549\n"
          ]
        },
        {
          "name": "stderr",
          "output_type": "stream",
          "text": [
            "Epoch [1065/3000]: 100%|██████████| 9/9 [00:00<00:00, 132.30it/s, loss=1.68]\n"
          ]
        },
        {
          "name": "stdout",
          "output_type": "stream",
          "text": [
            "Epoch [1065/3000]: Train loss: 1.8940, Valid loss: 2.0989\n"
          ]
        },
        {
          "name": "stderr",
          "output_type": "stream",
          "text": [
            "Epoch [1066/3000]: 100%|██████████| 9/9 [00:00<00:00, 126.15it/s, loss=1.9]\n"
          ]
        },
        {
          "name": "stdout",
          "output_type": "stream",
          "text": [
            "Epoch [1066/3000]: Train loss: 1.9070, Valid loss: 2.2750\n"
          ]
        },
        {
          "name": "stderr",
          "output_type": "stream",
          "text": [
            "Epoch [1067/3000]: 100%|██████████| 9/9 [00:00<00:00, 119.43it/s, loss=2.35]\n"
          ]
        },
        {
          "name": "stdout",
          "output_type": "stream",
          "text": [
            "Epoch [1067/3000]: Train loss: 1.9341, Valid loss: 1.8632\n"
          ]
        },
        {
          "name": "stderr",
          "output_type": "stream",
          "text": [
            "Epoch [1068/3000]: 100%|██████████| 9/9 [00:00<00:00, 128.35it/s, loss=1.53]\n"
          ]
        },
        {
          "name": "stdout",
          "output_type": "stream",
          "text": [
            "Epoch [1068/3000]: Train loss: 1.8827, Valid loss: 2.0619\n"
          ]
        },
        {
          "name": "stderr",
          "output_type": "stream",
          "text": [
            "Epoch [1069/3000]: 100%|██████████| 9/9 [00:00<00:00, 124.93it/s, loss=1.89]\n"
          ]
        },
        {
          "name": "stdout",
          "output_type": "stream",
          "text": [
            "Epoch [1069/3000]: Train loss: 1.9018, Valid loss: 2.0853\n"
          ]
        },
        {
          "name": "stderr",
          "output_type": "stream",
          "text": [
            "Epoch [1070/3000]: 100%|██████████| 9/9 [00:00<00:00, 131.06it/s, loss=2.64]\n"
          ]
        },
        {
          "name": "stdout",
          "output_type": "stream",
          "text": [
            "Epoch [1070/3000]: Train loss: 1.9491, Valid loss: 2.1143\n"
          ]
        },
        {
          "name": "stderr",
          "output_type": "stream",
          "text": [
            "Epoch [1071/3000]: 100%|██████████| 9/9 [00:00<00:00, 139.43it/s, loss=1.46]\n"
          ]
        },
        {
          "name": "stdout",
          "output_type": "stream",
          "text": [
            "Epoch [1071/3000]: Train loss: 1.8756, Valid loss: 1.9649\n"
          ]
        },
        {
          "name": "stderr",
          "output_type": "stream",
          "text": [
            "Epoch [1072/3000]: 100%|██████████| 9/9 [00:00<00:00, 122.30it/s, loss=1.64]\n"
          ]
        },
        {
          "name": "stdout",
          "output_type": "stream",
          "text": [
            "Epoch [1072/3000]: Train loss: 1.8859, Valid loss: 1.9894\n"
          ]
        },
        {
          "name": "stderr",
          "output_type": "stream",
          "text": [
            "Epoch [1073/3000]: 100%|██████████| 9/9 [00:00<00:00, 117.40it/s, loss=1.65]\n"
          ]
        },
        {
          "name": "stdout",
          "output_type": "stream",
          "text": [
            "Epoch [1073/3000]: Train loss: 1.8847, Valid loss: 2.1728\n"
          ]
        },
        {
          "name": "stderr",
          "output_type": "stream",
          "text": [
            "Epoch [1074/3000]: 100%|██████████| 9/9 [00:00<00:00, 124.05it/s, loss=1.66]"
          ]
        },
        {
          "name": "stdout",
          "output_type": "stream",
          "text": [
            "Epoch [1074/3000]: Train loss: 1.8872, Valid loss: 1.8703"
          ]
        },
        {
          "name": "stderr",
          "output_type": "stream",
          "text": [
            "\n"
          ]
        },
        {
          "name": "stdout",
          "output_type": "stream",
          "text": [
            "\n"
          ]
        },
        {
          "name": "stderr",
          "output_type": "stream",
          "text": [
            "Epoch [1075/3000]: 100%|██████████| 9/9 [00:00<00:00, 126.61it/s, loss=1.81]\n"
          ]
        },
        {
          "name": "stdout",
          "output_type": "stream",
          "text": [
            "Epoch [1075/3000]: Train loss: 1.8934, Valid loss: 2.0588\n"
          ]
        },
        {
          "name": "stderr",
          "output_type": "stream",
          "text": [
            "Epoch [1076/3000]: 100%|██████████| 9/9 [00:00<00:00, 128.43it/s, loss=1.71]\n"
          ]
        },
        {
          "name": "stdout",
          "output_type": "stream",
          "text": [
            "Epoch [1076/3000]: Train loss: 1.8891, Valid loss: 2.0599\n"
          ]
        },
        {
          "name": "stderr",
          "output_type": "stream",
          "text": [
            "Epoch [1077/3000]: 100%|██████████| 9/9 [00:00<00:00, 121.18it/s, loss=1.86]\n"
          ]
        },
        {
          "name": "stdout",
          "output_type": "stream",
          "text": [
            "Epoch [1077/3000]: Train loss: 1.8966, Valid loss: 1.9708\n"
          ]
        },
        {
          "name": "stderr",
          "output_type": "stream",
          "text": [
            "Epoch [1078/3000]: 100%|██████████| 9/9 [00:00<00:00, 137.41it/s, loss=1.58]\n"
          ]
        },
        {
          "name": "stdout",
          "output_type": "stream",
          "text": [
            "Epoch [1078/3000]: Train loss: 1.8792, Valid loss: 2.1084\n"
          ]
        },
        {
          "name": "stderr",
          "output_type": "stream",
          "text": [
            "Epoch [1079/3000]: 100%|██████████| 9/9 [00:00<00:00, 133.47it/s, loss=2.17]\n"
          ]
        },
        {
          "name": "stdout",
          "output_type": "stream",
          "text": [
            "Epoch [1079/3000]: Train loss: 1.9138, Valid loss: 2.3731\n"
          ]
        },
        {
          "name": "stderr",
          "output_type": "stream",
          "text": [
            "Epoch [1080/3000]: 100%|██████████| 9/9 [00:00<00:00, 133.46it/s, loss=2.36]\n"
          ]
        },
        {
          "name": "stdout",
          "output_type": "stream",
          "text": [
            "Epoch [1080/3000]: Train loss: 1.9242, Valid loss: 1.9041\n"
          ]
        },
        {
          "name": "stderr",
          "output_type": "stream",
          "text": [
            "Epoch [1081/3000]: 100%|██████████| 9/9 [00:00<00:00, 134.81it/s, loss=1.46]\n"
          ]
        },
        {
          "name": "stdout",
          "output_type": "stream",
          "text": [
            "Epoch [1081/3000]: Train loss: 1.8704, Valid loss: 1.9808\n"
          ]
        },
        {
          "name": "stderr",
          "output_type": "stream",
          "text": [
            "Epoch [1082/3000]: 100%|██████████| 9/9 [00:00<00:00, 134.23it/s, loss=2.19]\n"
          ]
        },
        {
          "name": "stdout",
          "output_type": "stream",
          "text": [
            "Epoch [1082/3000]: Train loss: 1.9136, Valid loss: 1.9142\n"
          ]
        },
        {
          "name": "stderr",
          "output_type": "stream",
          "text": [
            "Epoch [1083/3000]: 100%|██████████| 9/9 [00:00<00:00, 125.62it/s, loss=2.1]\n"
          ]
        },
        {
          "name": "stdout",
          "output_type": "stream",
          "text": [
            "Epoch [1083/3000]: Train loss: 1.9101, Valid loss: 1.8507\n"
          ]
        },
        {
          "name": "stderr",
          "output_type": "stream",
          "text": [
            "Epoch [1084/3000]: 100%|██████████| 9/9 [00:00<00:00, 114.06it/s, loss=1.66]\n"
          ]
        },
        {
          "name": "stdout",
          "output_type": "stream",
          "text": [
            "Epoch [1084/3000]: Train loss: 1.8847, Valid loss: 1.9057\n"
          ]
        },
        {
          "name": "stderr",
          "output_type": "stream",
          "text": [
            "Epoch [1085/3000]: 100%|██████████| 9/9 [00:00<00:00, 126.30it/s, loss=1.63]\n"
          ]
        },
        {
          "name": "stdout",
          "output_type": "stream",
          "text": [
            "Epoch [1085/3000]: Train loss: 1.8782, Valid loss: 2.1094\n"
          ]
        },
        {
          "name": "stderr",
          "output_type": "stream",
          "text": [
            "Epoch [1086/3000]: 100%|██████████| 9/9 [00:00<00:00, 137.56it/s, loss=2.51]\n"
          ]
        },
        {
          "name": "stdout",
          "output_type": "stream",
          "text": [
            "Epoch [1086/3000]: Train loss: 1.9310, Valid loss: 1.8915\n"
          ]
        },
        {
          "name": "stderr",
          "output_type": "stream",
          "text": [
            "Epoch [1087/3000]: 100%|██████████| 9/9 [00:00<00:00, 129.05it/s, loss=1.52]\n"
          ]
        },
        {
          "name": "stdout",
          "output_type": "stream",
          "text": [
            "Epoch [1087/3000]: Train loss: 1.8709, Valid loss: 1.8529\n"
          ]
        },
        {
          "name": "stderr",
          "output_type": "stream",
          "text": [
            "Epoch [1088/3000]: 100%|██████████| 9/9 [00:00<00:00, 106.56it/s, loss=1.82]"
          ]
        },
        {
          "name": "stdout",
          "output_type": "stream",
          "text": [
            "Epoch [1088/3000]: Train loss: 1.8891, Valid loss: 1.9315\n"
          ]
        },
        {
          "name": "stderr",
          "output_type": "stream",
          "text": [
            "\n",
            "Epoch [1089/3000]: 100%|██████████| 9/9 [00:00<00:00, 127.11it/s, loss=1.95]\n"
          ]
        },
        {
          "name": "stdout",
          "output_type": "stream",
          "text": [
            "Epoch [1089/3000]: Train loss: 1.8932, Valid loss: 2.0667\n"
          ]
        },
        {
          "name": "stderr",
          "output_type": "stream",
          "text": [
            "Epoch [1090/3000]: 100%|██████████| 9/9 [00:00<00:00, 129.52it/s, loss=1.76]\n"
          ]
        },
        {
          "name": "stdout",
          "output_type": "stream",
          "text": [
            "Epoch [1090/3000]: Train loss: 1.8822, Valid loss: 1.9175\n"
          ]
        },
        {
          "name": "stderr",
          "output_type": "stream",
          "text": [
            "Epoch [1091/3000]: 100%|██████████| 9/9 [00:00<00:00, 137.71it/s, loss=2.02]\n"
          ]
        },
        {
          "name": "stdout",
          "output_type": "stream",
          "text": [
            "Epoch [1091/3000]: Train loss: 1.8965, Valid loss: 2.0581\n"
          ]
        },
        {
          "name": "stderr",
          "output_type": "stream",
          "text": [
            "Epoch [1092/3000]: 100%|██████████| 9/9 [00:00<00:00, 123.03it/s, loss=2.17]\n"
          ]
        },
        {
          "name": "stdout",
          "output_type": "stream",
          "text": [
            "Epoch [1092/3000]: Train loss: 1.9146, Valid loss: 2.3869\n"
          ]
        },
        {
          "name": "stderr",
          "output_type": "stream",
          "text": [
            "Epoch [1093/3000]: 100%|██████████| 9/9 [00:00<00:00, 128.53it/s, loss=1.44]\n"
          ]
        },
        {
          "name": "stdout",
          "output_type": "stream",
          "text": [
            "Epoch [1093/3000]: Train loss: 1.8630, Valid loss: 1.9309\n"
          ]
        },
        {
          "name": "stderr",
          "output_type": "stream",
          "text": [
            "Epoch [1094/3000]: 100%|██████████| 9/9 [00:00<00:00, 124.44it/s, loss=2.24]\n"
          ]
        },
        {
          "name": "stdout",
          "output_type": "stream",
          "text": [
            "Epoch [1094/3000]: Train loss: 1.9100, Valid loss: 1.9656\n"
          ]
        },
        {
          "name": "stderr",
          "output_type": "stream",
          "text": [
            "Epoch [1095/3000]: 100%|██████████| 9/9 [00:00<00:00, 131.89it/s, loss=2.35]\n"
          ]
        },
        {
          "name": "stdout",
          "output_type": "stream",
          "text": [
            "Epoch [1095/3000]: Train loss: 1.9157, Valid loss: 1.9497\n"
          ]
        },
        {
          "name": "stderr",
          "output_type": "stream",
          "text": [
            "Epoch [1096/3000]: 100%|██████████| 9/9 [00:00<00:00, 136.74it/s, loss=1.55]\n"
          ]
        },
        {
          "name": "stdout",
          "output_type": "stream",
          "text": [
            "Epoch [1096/3000]: Train loss: 1.8654, Valid loss: 1.9170\n"
          ]
        },
        {
          "name": "stderr",
          "output_type": "stream",
          "text": [
            "Epoch [1097/3000]: 100%|██████████| 9/9 [00:00<00:00, 137.80it/s, loss=1.91]\n"
          ]
        },
        {
          "name": "stdout",
          "output_type": "stream",
          "text": [
            "Epoch [1097/3000]: Train loss: 1.8879, Valid loss: 1.8701\n"
          ]
        },
        {
          "name": "stderr",
          "output_type": "stream",
          "text": [
            "Epoch [1098/3000]: 100%|██████████| 9/9 [00:00<00:00, 134.30it/s, loss=1.75]\n"
          ]
        },
        {
          "name": "stdout",
          "output_type": "stream",
          "text": [
            "Epoch [1098/3000]: Train loss: 1.8759, Valid loss: 1.9868\n"
          ]
        },
        {
          "name": "stderr",
          "output_type": "stream",
          "text": [
            "Epoch [1099/3000]: 100%|██████████| 9/9 [00:00<00:00, 128.61it/s, loss=1.88]\n"
          ]
        },
        {
          "name": "stdout",
          "output_type": "stream",
          "text": [
            "Epoch [1099/3000]: Train loss: 1.8854, Valid loss: 1.8360\n"
          ]
        },
        {
          "name": "stderr",
          "output_type": "stream",
          "text": [
            "Epoch [1100/3000]: 100%|██████████| 9/9 [00:00<00:00, 132.75it/s, loss=1.6]\n"
          ]
        },
        {
          "name": "stdout",
          "output_type": "stream",
          "text": [
            "Epoch [1100/3000]: Train loss: 1.8674, Valid loss: 1.9214\n"
          ]
        },
        {
          "name": "stderr",
          "output_type": "stream",
          "text": [
            "Epoch [1101/3000]: 100%|██████████| 9/9 [00:00<00:00, 130.17it/s, loss=1.76]\n"
          ]
        },
        {
          "name": "stdout",
          "output_type": "stream",
          "text": [
            "Epoch [1101/3000]: Train loss: 1.8763, Valid loss: 2.0632\n"
          ]
        },
        {
          "name": "stderr",
          "output_type": "stream",
          "text": [
            "Epoch [1102/3000]: 100%|██████████| 9/9 [00:00<00:00, 139.46it/s, loss=1.83]\n"
          ]
        },
        {
          "name": "stdout",
          "output_type": "stream",
          "text": [
            "Epoch [1102/3000]: Train loss: 1.8828, Valid loss: 2.0706\n"
          ]
        },
        {
          "name": "stderr",
          "output_type": "stream",
          "text": [
            "Epoch [1103/3000]: 100%|██████████| 9/9 [00:00<00:00, 131.49it/s, loss=1.67]\n"
          ]
        },
        {
          "name": "stdout",
          "output_type": "stream",
          "text": [
            "Epoch [1103/3000]: Train loss: 1.8708, Valid loss: 2.0009\n"
          ]
        },
        {
          "name": "stderr",
          "output_type": "stream",
          "text": [
            "Epoch [1104/3000]: 100%|██████████| 9/9 [00:00<00:00, 98.97it/s, loss=1.89]\n"
          ]
        },
        {
          "name": "stdout",
          "output_type": "stream",
          "text": [
            "Epoch [1104/3000]: Train loss: 1.8841, Valid loss: 2.9810\n"
          ]
        },
        {
          "name": "stderr",
          "output_type": "stream",
          "text": [
            "Epoch [1105/3000]: 100%|██████████| 9/9 [00:00<00:00, 116.70it/s, loss=2.34]\n"
          ]
        },
        {
          "name": "stdout",
          "output_type": "stream",
          "text": [
            "Epoch [1105/3000]: Train loss: 1.9096, Valid loss: 1.9630\n"
          ]
        },
        {
          "name": "stderr",
          "output_type": "stream",
          "text": [
            "Epoch [1106/3000]: 100%|██████████| 9/9 [00:00<00:00, 127.02it/s, loss=1.74]\n"
          ]
        },
        {
          "name": "stdout",
          "output_type": "stream",
          "text": [
            "Epoch [1106/3000]: Train loss: 1.8726, Valid loss: 2.0425\n"
          ]
        },
        {
          "name": "stderr",
          "output_type": "stream",
          "text": [
            "Epoch [1107/3000]: 100%|██████████| 9/9 [00:00<00:00, 137.78it/s, loss=1.62]\n"
          ]
        },
        {
          "name": "stdout",
          "output_type": "stream",
          "text": [
            "Epoch [1107/3000]: Train loss: 1.8646, Valid loss: 1.9329\n"
          ]
        },
        {
          "name": "stderr",
          "output_type": "stream",
          "text": [
            "Epoch [1108/3000]: 100%|██████████| 9/9 [00:00<00:00, 130.47it/s, loss=1.57]\n"
          ]
        },
        {
          "name": "stdout",
          "output_type": "stream",
          "text": [
            "Epoch [1108/3000]: Train loss: 1.8621, Valid loss: 2.0827\n"
          ]
        },
        {
          "name": "stderr",
          "output_type": "stream",
          "text": [
            "Epoch [1109/3000]: 100%|██████████| 9/9 [00:00<00:00, 131.33it/s, loss=1.54]\n"
          ]
        },
        {
          "name": "stdout",
          "output_type": "stream",
          "text": [
            "Epoch [1109/3000]: Train loss: 1.8579, Valid loss: 2.1501\n"
          ]
        },
        {
          "name": "stderr",
          "output_type": "stream",
          "text": [
            "Epoch [1110/3000]: 100%|██████████| 9/9 [00:00<00:00, 145.23it/s, loss=1.99]\n"
          ]
        },
        {
          "name": "stdout",
          "output_type": "stream",
          "text": [
            "Epoch [1110/3000]: Train loss: 1.8893, Valid loss: 1.9503\n"
          ]
        },
        {
          "name": "stderr",
          "output_type": "stream",
          "text": [
            "Epoch [1111/3000]: 100%|██████████| 9/9 [00:00<00:00, 117.27it/s, loss=2.02]\n"
          ]
        },
        {
          "name": "stdout",
          "output_type": "stream",
          "text": [
            "Epoch [1111/3000]: Train loss: 1.8868, Valid loss: 2.0846\n"
          ]
        },
        {
          "name": "stderr",
          "output_type": "stream",
          "text": [
            "Epoch [1112/3000]: 100%|██████████| 9/9 [00:00<00:00, 120.94it/s, loss=2.23]\n"
          ]
        },
        {
          "name": "stdout",
          "output_type": "stream",
          "text": [
            "Epoch [1112/3000]: Train loss: 1.8987, Valid loss: 1.6086\n",
            "Saving model with loss 1.609...\n"
          ]
        },
        {
          "name": "stderr",
          "output_type": "stream",
          "text": [
            "Epoch [1113/3000]: 100%|██████████| 9/9 [00:00<00:00, 122.58it/s, loss=1.82]\n"
          ]
        },
        {
          "name": "stdout",
          "output_type": "stream",
          "text": [
            "Epoch [1113/3000]: Train loss: 1.8783, Valid loss: 2.2417\n"
          ]
        },
        {
          "name": "stderr",
          "output_type": "stream",
          "text": [
            "Epoch [1114/3000]: 100%|██████████| 9/9 [00:00<00:00, 121.47it/s, loss=1.83]"
          ]
        },
        {
          "name": "stdout",
          "output_type": "stream",
          "text": [
            "Epoch [1114/3000]: Train loss: 1.8724, Valid loss: 1.9421"
          ]
        },
        {
          "name": "stderr",
          "output_type": "stream",
          "text": [
            "\n"
          ]
        },
        {
          "name": "stdout",
          "output_type": "stream",
          "text": [
            "\n"
          ]
        },
        {
          "name": "stderr",
          "output_type": "stream",
          "text": [
            "Epoch [1115/3000]: 100%|██████████| 9/9 [00:00<00:00, 128.12it/s, loss=1.82]\n"
          ]
        },
        {
          "name": "stdout",
          "output_type": "stream",
          "text": [
            "Epoch [1115/3000]: Train loss: 1.8722, Valid loss: 2.1241\n"
          ]
        },
        {
          "name": "stderr",
          "output_type": "stream",
          "text": [
            "Epoch [1116/3000]: 100%|██████████| 9/9 [00:00<00:00, 133.54it/s, loss=1.8]\n"
          ]
        },
        {
          "name": "stdout",
          "output_type": "stream",
          "text": [
            "Epoch [1116/3000]: Train loss: 1.8735, Valid loss: 1.8887\n"
          ]
        },
        {
          "name": "stderr",
          "output_type": "stream",
          "text": [
            "Epoch [1117/3000]: 100%|██████████| 9/9 [00:00<00:00, 130.84it/s, loss=1.92]\n"
          ]
        },
        {
          "name": "stdout",
          "output_type": "stream",
          "text": [
            "Epoch [1117/3000]: Train loss: 1.8772, Valid loss: 2.0127\n"
          ]
        },
        {
          "name": "stderr",
          "output_type": "stream",
          "text": [
            "Epoch [1118/3000]: 100%|██████████| 9/9 [00:00<00:00, 121.26it/s, loss=1.59]\n"
          ]
        },
        {
          "name": "stdout",
          "output_type": "stream",
          "text": [
            "Epoch [1118/3000]: Train loss: 1.8553, Valid loss: 2.1210\n"
          ]
        },
        {
          "name": "stderr",
          "output_type": "stream",
          "text": [
            "Epoch [1119/3000]: 100%|██████████| 9/9 [00:00<00:00, 116.16it/s, loss=1.54]\n"
          ]
        },
        {
          "name": "stdout",
          "output_type": "stream",
          "text": [
            "Epoch [1119/3000]: Train loss: 1.8519, Valid loss: 1.9390\n"
          ]
        },
        {
          "name": "stderr",
          "output_type": "stream",
          "text": [
            "Epoch [1120/3000]: 100%|██████████| 9/9 [00:00<00:00, 95.16it/s, loss=2.48]\n"
          ]
        },
        {
          "name": "stdout",
          "output_type": "stream",
          "text": [
            "Epoch [1120/3000]: Train loss: 1.9099, Valid loss: 1.9792\n"
          ]
        },
        {
          "name": "stderr",
          "output_type": "stream",
          "text": [
            "Epoch [1121/3000]: 100%|██████████| 9/9 [00:00<00:00, 129.36it/s, loss=1.95]\n"
          ]
        },
        {
          "name": "stdout",
          "output_type": "stream",
          "text": [
            "Epoch [1121/3000]: Train loss: 1.8782, Valid loss: 1.8030\n"
          ]
        },
        {
          "name": "stderr",
          "output_type": "stream",
          "text": [
            "Epoch [1122/3000]: 100%|██████████| 9/9 [00:00<00:00, 119.97it/s, loss=1.71]\n"
          ]
        },
        {
          "name": "stdout",
          "output_type": "stream",
          "text": [
            "Epoch [1122/3000]: Train loss: 1.8614, Valid loss: 1.7727\n"
          ]
        },
        {
          "name": "stderr",
          "output_type": "stream",
          "text": [
            "Epoch [1123/3000]: 100%|██████████| 9/9 [00:00<00:00, 122.87it/s, loss=1.8]\n"
          ]
        },
        {
          "name": "stdout",
          "output_type": "stream",
          "text": [
            "Epoch [1123/3000]: Train loss: 1.8689, Valid loss: 2.2521\n"
          ]
        },
        {
          "name": "stderr",
          "output_type": "stream",
          "text": [
            "Epoch [1124/3000]: 100%|██████████| 9/9 [00:00<00:00, 118.29it/s, loss=2.25]\n"
          ]
        },
        {
          "name": "stdout",
          "output_type": "stream",
          "text": [
            "Epoch [1124/3000]: Train loss: 1.8952, Valid loss: 1.7978\n"
          ]
        },
        {
          "name": "stderr",
          "output_type": "stream",
          "text": [
            "Epoch [1125/3000]: 100%|██████████| 9/9 [00:00<00:00, 124.67it/s, loss=1.79]\n"
          ]
        },
        {
          "name": "stdout",
          "output_type": "stream",
          "text": [
            "Epoch [1125/3000]: Train loss: 1.8646, Valid loss: 1.9017\n"
          ]
        },
        {
          "name": "stderr",
          "output_type": "stream",
          "text": [
            "Epoch [1126/3000]: 100%|██████████| 9/9 [00:00<00:00, 139.28it/s, loss=2.12]\n"
          ]
        },
        {
          "name": "stdout",
          "output_type": "stream",
          "text": [
            "Epoch [1126/3000]: Train loss: 1.8843, Valid loss: 2.0049\n"
          ]
        },
        {
          "name": "stderr",
          "output_type": "stream",
          "text": [
            "Epoch [1127/3000]: 100%|██████████| 9/9 [00:00<00:00, 135.81it/s, loss=1.99]\n"
          ]
        },
        {
          "name": "stdout",
          "output_type": "stream",
          "text": [
            "Epoch [1127/3000]: Train loss: 1.8763, Valid loss: 2.0403\n"
          ]
        },
        {
          "name": "stderr",
          "output_type": "stream",
          "text": [
            "Epoch [1128/3000]: 100%|██████████| 9/9 [00:00<00:00, 125.92it/s, loss=1.71]\n"
          ]
        },
        {
          "name": "stdout",
          "output_type": "stream",
          "text": [
            "Epoch [1128/3000]: Train loss: 1.8575, Valid loss: 1.7973\n"
          ]
        },
        {
          "name": "stderr",
          "output_type": "stream",
          "text": [
            "Epoch [1129/3000]: 100%|██████████| 9/9 [00:00<00:00, 127.04it/s, loss=1.94]\n"
          ]
        },
        {
          "name": "stdout",
          "output_type": "stream",
          "text": [
            "Epoch [1129/3000]: Train loss: 1.8720, Valid loss: 1.8771\n"
          ]
        },
        {
          "name": "stderr",
          "output_type": "stream",
          "text": [
            "Epoch [1130/3000]: 100%|██████████| 9/9 [00:00<00:00, 133.83it/s, loss=1.71]\n"
          ]
        },
        {
          "name": "stdout",
          "output_type": "stream",
          "text": [
            "Epoch [1130/3000]: Train loss: 1.8569, Valid loss: 1.9617\n"
          ]
        },
        {
          "name": "stderr",
          "output_type": "stream",
          "text": [
            "Epoch [1131/3000]: 100%|██████████| 9/9 [00:00<00:00, 117.92it/s, loss=2.83]\n"
          ]
        },
        {
          "name": "stdout",
          "output_type": "stream",
          "text": [
            "Epoch [1131/3000]: Train loss: 1.9260, Valid loss: 1.7088\n"
          ]
        },
        {
          "name": "stderr",
          "output_type": "stream",
          "text": [
            "Epoch [1132/3000]: 100%|██████████| 9/9 [00:00<00:00, 129.12it/s, loss=1.8]\n"
          ]
        },
        {
          "name": "stdout",
          "output_type": "stream",
          "text": [
            "Epoch [1132/3000]: Train loss: 1.8618, Valid loss: 2.1253\n"
          ]
        },
        {
          "name": "stderr",
          "output_type": "stream",
          "text": [
            "Epoch [1133/3000]: 100%|██████████| 9/9 [00:00<00:00, 121.77it/s, loss=1.54]\n"
          ]
        },
        {
          "name": "stdout",
          "output_type": "stream",
          "text": [
            "Epoch [1133/3000]: Train loss: 1.8450, Valid loss: 2.1811\n"
          ]
        },
        {
          "name": "stderr",
          "output_type": "stream",
          "text": [
            "Epoch [1134/3000]: 100%|██████████| 9/9 [00:00<00:00, 136.39it/s, loss=2.31]\n"
          ]
        },
        {
          "name": "stdout",
          "output_type": "stream",
          "text": [
            "Epoch [1134/3000]: Train loss: 1.8920, Valid loss: 2.1330\n"
          ]
        },
        {
          "name": "stderr",
          "output_type": "stream",
          "text": [
            "Epoch [1135/3000]: 100%|██████████| 9/9 [00:00<00:00, 137.37it/s, loss=1.39]\n"
          ]
        },
        {
          "name": "stdout",
          "output_type": "stream",
          "text": [
            "Epoch [1135/3000]: Train loss: 1.8340, Valid loss: 2.4685\n"
          ]
        },
        {
          "name": "stderr",
          "output_type": "stream",
          "text": [
            "Epoch [1136/3000]: 100%|██████████| 9/9 [00:00<00:00, 92.09it/s, loss=1.45]\n"
          ]
        },
        {
          "name": "stdout",
          "output_type": "stream",
          "text": [
            "Epoch [1136/3000]: Train loss: 1.8371, Valid loss: 1.7006\n"
          ]
        },
        {
          "name": "stderr",
          "output_type": "stream",
          "text": [
            "Epoch [1137/3000]: 100%|██████████| 9/9 [00:00<00:00, 34.14it/s, loss=2]   \n"
          ]
        },
        {
          "name": "stdout",
          "output_type": "stream",
          "text": [
            "Epoch [1137/3000]: Train loss: 1.8724, Valid loss: 1.9742\n"
          ]
        },
        {
          "name": "stderr",
          "output_type": "stream",
          "text": [
            "Epoch [1138/3000]: 100%|██████████| 9/9 [00:00<00:00, 128.49it/s, loss=1.45]\n"
          ]
        },
        {
          "name": "stdout",
          "output_type": "stream",
          "text": [
            "Epoch [1138/3000]: Train loss: 1.8375, Valid loss: 1.6710\n"
          ]
        },
        {
          "name": "stderr",
          "output_type": "stream",
          "text": [
            "Epoch [1139/3000]: 100%|██████████| 9/9 [00:00<00:00, 118.71it/s, loss=1.6]\n"
          ]
        },
        {
          "name": "stdout",
          "output_type": "stream",
          "text": [
            "Epoch [1139/3000]: Train loss: 1.8464, Valid loss: 1.9786\n"
          ]
        },
        {
          "name": "stderr",
          "output_type": "stream",
          "text": [
            "Epoch [1140/3000]: 100%|██████████| 9/9 [00:00<00:00, 122.23it/s, loss=1.78]\n"
          ]
        },
        {
          "name": "stdout",
          "output_type": "stream",
          "text": [
            "Epoch [1140/3000]: Train loss: 1.8565, Valid loss: 1.7043\n"
          ]
        },
        {
          "name": "stderr",
          "output_type": "stream",
          "text": [
            "Epoch [1141/3000]: 100%|██████████| 9/9 [00:00<00:00, 104.82it/s, loss=1.56]\n"
          ]
        },
        {
          "name": "stdout",
          "output_type": "stream",
          "text": [
            "Epoch [1141/3000]: Train loss: 1.8422, Valid loss: 1.9480\n"
          ]
        },
        {
          "name": "stderr",
          "output_type": "stream",
          "text": [
            "Epoch [1142/3000]: 100%|██████████| 9/9 [00:00<00:00, 121.14it/s, loss=1.23]\n"
          ]
        },
        {
          "name": "stdout",
          "output_type": "stream",
          "text": [
            "Epoch [1142/3000]: Train loss: 1.8207, Valid loss: 1.9634\n"
          ]
        },
        {
          "name": "stderr",
          "output_type": "stream",
          "text": [
            "Epoch [1143/3000]: 100%|██████████| 9/9 [00:00<00:00, 136.25it/s, loss=1.44]\n"
          ]
        },
        {
          "name": "stdout",
          "output_type": "stream",
          "text": [
            "Epoch [1143/3000]: Train loss: 1.8337, Valid loss: 1.7436\n"
          ]
        },
        {
          "name": "stderr",
          "output_type": "stream",
          "text": [
            "Epoch [1144/3000]: 100%|██████████| 9/9 [00:00<00:00, 134.42it/s, loss=2.03]\n"
          ]
        },
        {
          "name": "stdout",
          "output_type": "stream",
          "text": [
            "Epoch [1144/3000]: Train loss: 1.8699, Valid loss: 2.2702\n"
          ]
        },
        {
          "name": "stderr",
          "output_type": "stream",
          "text": [
            "Epoch [1145/3000]: 100%|██████████| 9/9 [00:00<00:00, 133.41it/s, loss=1.97]\n"
          ]
        },
        {
          "name": "stdout",
          "output_type": "stream",
          "text": [
            "Epoch [1145/3000]: Train loss: 1.8670, Valid loss: 2.1924\n"
          ]
        },
        {
          "name": "stderr",
          "output_type": "stream",
          "text": [
            "Epoch [1146/3000]: 100%|██████████| 9/9 [00:00<00:00, 130.29it/s, loss=1.82]\n"
          ]
        },
        {
          "name": "stdout",
          "output_type": "stream",
          "text": [
            "Epoch [1146/3000]: Train loss: 1.8565, Valid loss: 2.0986\n"
          ]
        },
        {
          "name": "stderr",
          "output_type": "stream",
          "text": [
            "Epoch [1147/3000]: 100%|██████████| 9/9 [00:00<00:00, 133.77it/s, loss=1.47]\n"
          ]
        },
        {
          "name": "stdout",
          "output_type": "stream",
          "text": [
            "Epoch [1147/3000]: Train loss: 1.8346, Valid loss: 2.0162\n"
          ]
        },
        {
          "name": "stderr",
          "output_type": "stream",
          "text": [
            "Epoch [1148/3000]: 100%|██████████| 9/9 [00:00<00:00, 130.45it/s, loss=1.69]\n"
          ]
        },
        {
          "name": "stdout",
          "output_type": "stream",
          "text": [
            "Epoch [1148/3000]: Train loss: 1.8475, Valid loss: 1.8929\n"
          ]
        },
        {
          "name": "stderr",
          "output_type": "stream",
          "text": [
            "Epoch [1149/3000]: 100%|██████████| 9/9 [00:00<00:00, 142.23it/s, loss=1.77]\n"
          ]
        },
        {
          "name": "stdout",
          "output_type": "stream",
          "text": [
            "Epoch [1149/3000]: Train loss: 1.8556, Valid loss: 2.1549\n"
          ]
        },
        {
          "name": "stderr",
          "output_type": "stream",
          "text": [
            "Epoch [1150/3000]: 100%|██████████| 9/9 [00:00<00:00, 128.05it/s, loss=2.24]\n"
          ]
        },
        {
          "name": "stdout",
          "output_type": "stream",
          "text": [
            "Epoch [1150/3000]: Train loss: 1.8797, Valid loss: 2.2357\n"
          ]
        },
        {
          "name": "stderr",
          "output_type": "stream",
          "text": [
            "Epoch [1151/3000]: 100%|██████████| 9/9 [00:00<00:00, 93.85it/s, loss=1.99]\n"
          ]
        },
        {
          "name": "stdout",
          "output_type": "stream",
          "text": [
            "Epoch [1151/3000]: Train loss: 1.8664, Valid loss: 1.8260\n"
          ]
        },
        {
          "name": "stderr",
          "output_type": "stream",
          "text": [
            "Epoch [1152/3000]: 100%|██████████| 9/9 [00:00<00:00, 90.34it/s, loss=2.22]\n"
          ]
        },
        {
          "name": "stdout",
          "output_type": "stream",
          "text": [
            "Epoch [1152/3000]: Train loss: 1.8798, Valid loss: 1.8521\n"
          ]
        },
        {
          "name": "stderr",
          "output_type": "stream",
          "text": [
            "Epoch [1153/3000]: 100%|██████████| 9/9 [00:00<00:00, 117.48it/s, loss=2.53]\n"
          ]
        },
        {
          "name": "stdout",
          "output_type": "stream",
          "text": [
            "Epoch [1153/3000]: Train loss: 1.8970, Valid loss: 1.7438\n"
          ]
        },
        {
          "name": "stderr",
          "output_type": "stream",
          "text": [
            "Epoch [1154/3000]: 100%|██████████| 9/9 [00:00<00:00, 131.30it/s, loss=1.96]\n"
          ]
        },
        {
          "name": "stdout",
          "output_type": "stream",
          "text": [
            "Epoch [1154/3000]: Train loss: 1.8643, Valid loss: 2.1044\n"
          ]
        },
        {
          "name": "stderr",
          "output_type": "stream",
          "text": [
            "Epoch [1155/3000]: 100%|██████████| 9/9 [00:00<00:00, 119.03it/s, loss=1.94]"
          ]
        },
        {
          "name": "stdout",
          "output_type": "stream",
          "text": [
            "Epoch [1155/3000]: Train loss: 1.8587, Valid loss: 1.9909"
          ]
        },
        {
          "name": "stderr",
          "output_type": "stream",
          "text": [
            "\n"
          ]
        },
        {
          "name": "stdout",
          "output_type": "stream",
          "text": [
            "\n"
          ]
        },
        {
          "name": "stderr",
          "output_type": "stream",
          "text": [
            "Epoch [1156/3000]: 100%|██████████| 9/9 [00:00<00:00, 104.81it/s, loss=1.7]\n"
          ]
        },
        {
          "name": "stdout",
          "output_type": "stream",
          "text": [
            "Epoch [1156/3000]: Train loss: 1.8459, Valid loss: 1.8941\n"
          ]
        },
        {
          "name": "stderr",
          "output_type": "stream",
          "text": [
            "Epoch [1157/3000]: 100%|██████████| 9/9 [00:00<00:00, 113.42it/s, loss=2.32]\n"
          ]
        },
        {
          "name": "stdout",
          "output_type": "stream",
          "text": [
            "Epoch [1157/3000]: Train loss: 1.8815, Valid loss: 1.9989\n"
          ]
        },
        {
          "name": "stderr",
          "output_type": "stream",
          "text": [
            "Epoch [1158/3000]: 100%|██████████| 9/9 [00:00<00:00, 120.37it/s, loss=2.25]\n"
          ]
        },
        {
          "name": "stdout",
          "output_type": "stream",
          "text": [
            "Epoch [1158/3000]: Train loss: 1.8779, Valid loss: 1.8828\n"
          ]
        },
        {
          "name": "stderr",
          "output_type": "stream",
          "text": [
            "Epoch [1159/3000]: 100%|██████████| 9/9 [00:00<00:00, 91.86it/s, loss=1.91]\n"
          ]
        },
        {
          "name": "stdout",
          "output_type": "stream",
          "text": [
            "Epoch [1159/3000]: Train loss: 1.8562, Valid loss: 1.9791\n"
          ]
        },
        {
          "name": "stderr",
          "output_type": "stream",
          "text": [
            "Epoch [1160/3000]: 100%|██████████| 9/9 [00:00<00:00, 128.46it/s, loss=2.13]\n"
          ]
        },
        {
          "name": "stdout",
          "output_type": "stream",
          "text": [
            "Epoch [1160/3000]: Train loss: 1.8715, Valid loss: 1.8130\n"
          ]
        },
        {
          "name": "stderr",
          "output_type": "stream",
          "text": [
            "Epoch [1161/3000]: 100%|██████████| 9/9 [00:00<00:00, 112.74it/s, loss=1.24]"
          ]
        },
        {
          "name": "stdout",
          "output_type": "stream",
          "text": [
            "Epoch [1161/3000]: Train loss: 1.8131, Valid loss: 1.9744"
          ]
        },
        {
          "name": "stderr",
          "output_type": "stream",
          "text": [
            "\n"
          ]
        },
        {
          "name": "stdout",
          "output_type": "stream",
          "text": [
            "\n"
          ]
        },
        {
          "name": "stderr",
          "output_type": "stream",
          "text": [
            "Epoch [1162/3000]: 100%|██████████| 9/9 [00:00<00:00, 131.51it/s, loss=1.73]\n"
          ]
        },
        {
          "name": "stdout",
          "output_type": "stream",
          "text": [
            "Epoch [1162/3000]: Train loss: 1.8450, Valid loss: 1.6498\n"
          ]
        },
        {
          "name": "stderr",
          "output_type": "stream",
          "text": [
            "Epoch [1163/3000]: 100%|██████████| 9/9 [00:00<00:00, 128.17it/s, loss=1.74]\n"
          ]
        },
        {
          "name": "stdout",
          "output_type": "stream",
          "text": [
            "Epoch [1163/3000]: Train loss: 1.8442, Valid loss: 1.9294\n"
          ]
        },
        {
          "name": "stderr",
          "output_type": "stream",
          "text": [
            "Epoch [1164/3000]: 100%|██████████| 9/9 [00:00<00:00, 119.26it/s, loss=2.14]\n"
          ]
        },
        {
          "name": "stdout",
          "output_type": "stream",
          "text": [
            "Epoch [1164/3000]: Train loss: 1.8673, Valid loss: 2.2717\n"
          ]
        },
        {
          "name": "stderr",
          "output_type": "stream",
          "text": [
            "Epoch [1165/3000]: 100%|██████████| 9/9 [00:00<00:00, 127.69it/s, loss=1.71]\n"
          ]
        },
        {
          "name": "stdout",
          "output_type": "stream",
          "text": [
            "Epoch [1165/3000]: Train loss: 1.8388, Valid loss: 1.8753\n"
          ]
        },
        {
          "name": "stderr",
          "output_type": "stream",
          "text": [
            "Epoch [1166/3000]: 100%|██████████| 9/9 [00:00<00:00, 81.10it/s, loss=1.88]\n"
          ]
        },
        {
          "name": "stdout",
          "output_type": "stream",
          "text": [
            "Epoch [1166/3000]: Train loss: 1.8531, Valid loss: 1.8827\n"
          ]
        },
        {
          "name": "stderr",
          "output_type": "stream",
          "text": [
            "Epoch [1167/3000]: 100%|██████████| 9/9 [00:00<00:00, 106.36it/s, loss=2.24]\n"
          ]
        },
        {
          "name": "stdout",
          "output_type": "stream",
          "text": [
            "Epoch [1167/3000]: Train loss: 1.8750, Valid loss: 1.7544\n"
          ]
        },
        {
          "name": "stderr",
          "output_type": "stream",
          "text": [
            "Epoch [1168/3000]: 100%|██████████| 9/9 [00:00<00:00, 104.52it/s, loss=2.12]\n"
          ]
        },
        {
          "name": "stdout",
          "output_type": "stream",
          "text": [
            "Epoch [1168/3000]: Train loss: 1.8651, Valid loss: 2.2985\n"
          ]
        },
        {
          "name": "stderr",
          "output_type": "stream",
          "text": [
            "Epoch [1169/3000]: 100%|██████████| 9/9 [00:00<00:00, 119.79it/s, loss=1.9]"
          ]
        },
        {
          "name": "stdout",
          "output_type": "stream",
          "text": [
            "Epoch [1169/3000]: Train loss: 1.8503, Valid loss: 2.2445"
          ]
        },
        {
          "name": "stderr",
          "output_type": "stream",
          "text": [
            "\n"
          ]
        },
        {
          "name": "stdout",
          "output_type": "stream",
          "text": [
            "\n"
          ]
        },
        {
          "name": "stderr",
          "output_type": "stream",
          "text": [
            "Epoch [1170/3000]: 100%|██████████| 9/9 [00:00<00:00, 132.51it/s, loss=1.75]\n"
          ]
        },
        {
          "name": "stdout",
          "output_type": "stream",
          "text": [
            "Epoch [1170/3000]: Train loss: 1.8421, Valid loss: 1.8580\n"
          ]
        },
        {
          "name": "stderr",
          "output_type": "stream",
          "text": [
            "Epoch [1171/3000]: 100%|██████████| 9/9 [00:00<00:00, 136.36it/s, loss=1.32]\n"
          ]
        },
        {
          "name": "stdout",
          "output_type": "stream",
          "text": [
            "Epoch [1171/3000]: Train loss: 1.8154, Valid loss: 1.9506\n"
          ]
        },
        {
          "name": "stderr",
          "output_type": "stream",
          "text": [
            "Epoch [1172/3000]: 100%|██████████| 9/9 [00:00<00:00, 119.39it/s, loss=2.47]\n"
          ]
        },
        {
          "name": "stdout",
          "output_type": "stream",
          "text": [
            "Epoch [1172/3000]: Train loss: 1.8849, Valid loss: 1.8397\n"
          ]
        },
        {
          "name": "stderr",
          "output_type": "stream",
          "text": [
            "Epoch [1173/3000]: 100%|██████████| 9/9 [00:00<00:00, 109.81it/s, loss=1.29]\n"
          ]
        },
        {
          "name": "stdout",
          "output_type": "stream",
          "text": [
            "Epoch [1173/3000]: Train loss: 1.8138, Valid loss: 1.7096\n"
          ]
        },
        {
          "name": "stderr",
          "output_type": "stream",
          "text": [
            "Epoch [1174/3000]: 100%|██████████| 9/9 [00:00<00:00, 118.01it/s, loss=2]\n"
          ]
        },
        {
          "name": "stdout",
          "output_type": "stream",
          "text": [
            "Epoch [1174/3000]: Train loss: 1.8556, Valid loss: 2.4499\n"
          ]
        },
        {
          "name": "stderr",
          "output_type": "stream",
          "text": [
            "Epoch [1175/3000]: 100%|██████████| 9/9 [00:00<00:00, 134.27it/s, loss=1.77]\n"
          ]
        },
        {
          "name": "stdout",
          "output_type": "stream",
          "text": [
            "Epoch [1175/3000]: Train loss: 1.8419, Valid loss: 1.7594\n"
          ]
        },
        {
          "name": "stderr",
          "output_type": "stream",
          "text": [
            "Epoch [1176/3000]: 100%|██████████| 9/9 [00:00<00:00, 125.80it/s, loss=1.56]\n"
          ]
        },
        {
          "name": "stdout",
          "output_type": "stream",
          "text": [
            "Epoch [1176/3000]: Train loss: 1.8247, Valid loss: 1.7979\n"
          ]
        },
        {
          "name": "stderr",
          "output_type": "stream",
          "text": [
            "Epoch [1177/3000]: 100%|██████████| 9/9 [00:00<00:00, 127.64it/s, loss=2.2]\n"
          ]
        },
        {
          "name": "stdout",
          "output_type": "stream",
          "text": [
            "Epoch [1177/3000]: Train loss: 1.8667, Valid loss: 1.8789\n"
          ]
        },
        {
          "name": "stderr",
          "output_type": "stream",
          "text": [
            "Epoch [1178/3000]: 100%|██████████| 9/9 [00:00<00:00, 124.89it/s, loss=1.81]\n"
          ]
        },
        {
          "name": "stdout",
          "output_type": "stream",
          "text": [
            "Epoch [1178/3000]: Train loss: 1.8407, Valid loss: 1.9171\n"
          ]
        },
        {
          "name": "stderr",
          "output_type": "stream",
          "text": [
            "Epoch [1179/3000]: 100%|██████████| 9/9 [00:00<00:00, 109.88it/s, loss=1.44]"
          ]
        },
        {
          "name": "stdout",
          "output_type": "stream",
          "text": [
            "Epoch [1179/3000]: Train loss: 1.8177, Valid loss: 1.9566"
          ]
        },
        {
          "name": "stderr",
          "output_type": "stream",
          "text": [
            "\n"
          ]
        },
        {
          "name": "stdout",
          "output_type": "stream",
          "text": [
            "\n"
          ]
        },
        {
          "name": "stderr",
          "output_type": "stream",
          "text": [
            "Epoch [1180/3000]: 100%|██████████| 9/9 [00:00<00:00, 114.67it/s, loss=1.81]\n"
          ]
        },
        {
          "name": "stdout",
          "output_type": "stream",
          "text": [
            "Epoch [1180/3000]: Train loss: 1.8393, Valid loss: 2.3771\n"
          ]
        },
        {
          "name": "stderr",
          "output_type": "stream",
          "text": [
            "Epoch [1181/3000]: 100%|██████████| 9/9 [00:00<00:00, 118.61it/s, loss=1.4]\n"
          ]
        },
        {
          "name": "stdout",
          "output_type": "stream",
          "text": [
            "Epoch [1181/3000]: Train loss: 1.8130, Valid loss: 1.9628\n"
          ]
        },
        {
          "name": "stderr",
          "output_type": "stream",
          "text": [
            "Epoch [1182/3000]: 100%|██████████| 9/9 [00:00<00:00, 125.66it/s, loss=2.36]\n"
          ]
        },
        {
          "name": "stdout",
          "output_type": "stream",
          "text": [
            "Epoch [1182/3000]: Train loss: 1.8734, Valid loss: 2.0483\n"
          ]
        },
        {
          "name": "stderr",
          "output_type": "stream",
          "text": [
            "Epoch [1183/3000]: 100%|██████████| 9/9 [00:00<00:00, 122.98it/s, loss=2.39]\n"
          ]
        },
        {
          "name": "stdout",
          "output_type": "stream",
          "text": [
            "Epoch [1183/3000]: Train loss: 1.8759, Valid loss: 2.4192\n"
          ]
        },
        {
          "name": "stderr",
          "output_type": "stream",
          "text": [
            "Epoch [1184/3000]: 100%|██████████| 9/9 [00:00<00:00, 124.72it/s, loss=1.68]"
          ]
        },
        {
          "name": "stdout",
          "output_type": "stream",
          "text": [
            "Epoch [1184/3000]: Train loss: 1.8295, Valid loss: 2.5483"
          ]
        },
        {
          "name": "stderr",
          "output_type": "stream",
          "text": [
            "\n"
          ]
        },
        {
          "name": "stdout",
          "output_type": "stream",
          "text": [
            "\n"
          ]
        },
        {
          "name": "stderr",
          "output_type": "stream",
          "text": [
            "Epoch [1185/3000]: 100%|██████████| 9/9 [00:00<00:00, 115.82it/s, loss=2.19]"
          ]
        },
        {
          "name": "stdout",
          "output_type": "stream",
          "text": [
            "Epoch [1185/3000]: Train loss: 1.8606, Valid loss: 2.3387"
          ]
        },
        {
          "name": "stderr",
          "output_type": "stream",
          "text": [
            "\n"
          ]
        },
        {
          "name": "stdout",
          "output_type": "stream",
          "text": [
            "\n"
          ]
        },
        {
          "name": "stderr",
          "output_type": "stream",
          "text": [
            "Epoch [1186/3000]: 100%|██████████| 9/9 [00:00<00:00, 130.78it/s, loss=2.22]\n"
          ]
        },
        {
          "name": "stdout",
          "output_type": "stream",
          "text": [
            "Epoch [1186/3000]: Train loss: 1.8621, Valid loss: 2.0367\n"
          ]
        },
        {
          "name": "stderr",
          "output_type": "stream",
          "text": [
            "Epoch [1187/3000]: 100%|██████████| 9/9 [00:00<00:00, 110.53it/s, loss=1.56]\n"
          ]
        },
        {
          "name": "stdout",
          "output_type": "stream",
          "text": [
            "Epoch [1187/3000]: Train loss: 1.8203, Valid loss: 2.3249\n"
          ]
        },
        {
          "name": "stderr",
          "output_type": "stream",
          "text": [
            "Epoch [1188/3000]: 100%|██████████| 9/9 [00:00<00:00, 120.48it/s, loss=1.45]\n"
          ]
        },
        {
          "name": "stdout",
          "output_type": "stream",
          "text": [
            "Epoch [1188/3000]: Train loss: 1.8155, Valid loss: 1.9169\n"
          ]
        },
        {
          "name": "stderr",
          "output_type": "stream",
          "text": [
            "Epoch [1189/3000]: 100%|██████████| 9/9 [00:00<00:00, 110.12it/s, loss=1.91]\n"
          ]
        },
        {
          "name": "stdout",
          "output_type": "stream",
          "text": [
            "Epoch [1189/3000]: Train loss: 1.8438, Valid loss: 1.9213\n"
          ]
        },
        {
          "name": "stderr",
          "output_type": "stream",
          "text": [
            "Epoch [1190/3000]: 100%|██████████| 9/9 [00:00<00:00, 123.17it/s, loss=1.95]\n"
          ]
        },
        {
          "name": "stdout",
          "output_type": "stream",
          "text": [
            "Epoch [1190/3000]: Train loss: 1.8457, Valid loss: 1.8155\n"
          ]
        },
        {
          "name": "stderr",
          "output_type": "stream",
          "text": [
            "Epoch [1191/3000]: 100%|██████████| 9/9 [00:00<00:00, 120.36it/s, loss=2]\n"
          ]
        },
        {
          "name": "stdout",
          "output_type": "stream",
          "text": [
            "Epoch [1191/3000]: Train loss: 1.8467, Valid loss: 2.0801\n"
          ]
        },
        {
          "name": "stderr",
          "output_type": "stream",
          "text": [
            "Epoch [1192/3000]: 100%|██████████| 9/9 [00:00<00:00, 129.61it/s, loss=2.3]\n"
          ]
        },
        {
          "name": "stdout",
          "output_type": "stream",
          "text": [
            "Epoch [1192/3000]: Train loss: 1.8652, Valid loss: 1.9601\n"
          ]
        },
        {
          "name": "stderr",
          "output_type": "stream",
          "text": [
            "Epoch [1193/3000]: 100%|██████████| 9/9 [00:00<00:00, 121.80it/s, loss=1.97]\n"
          ]
        },
        {
          "name": "stdout",
          "output_type": "stream",
          "text": [
            "Epoch [1193/3000]: Train loss: 1.8432, Valid loss: 2.1125\n"
          ]
        },
        {
          "name": "stderr",
          "output_type": "stream",
          "text": [
            "Epoch [1194/3000]: 100%|██████████| 9/9 [00:00<00:00, 131.43it/s, loss=1.6]\n"
          ]
        },
        {
          "name": "stdout",
          "output_type": "stream",
          "text": [
            "Epoch [1194/3000]: Train loss: 1.8210, Valid loss: 1.9208\n"
          ]
        },
        {
          "name": "stderr",
          "output_type": "stream",
          "text": [
            "Epoch [1195/3000]: 100%|██████████| 9/9 [00:00<00:00, 118.66it/s, loss=1.8]\n"
          ]
        },
        {
          "name": "stdout",
          "output_type": "stream",
          "text": [
            "Epoch [1195/3000]: Train loss: 1.8343, Valid loss: 1.9826\n"
          ]
        },
        {
          "name": "stderr",
          "output_type": "stream",
          "text": [
            "Epoch [1196/3000]: 100%|██████████| 9/9 [00:00<00:00, 133.14it/s, loss=2.15]\n"
          ]
        },
        {
          "name": "stdout",
          "output_type": "stream",
          "text": [
            "Epoch [1196/3000]: Train loss: 1.8552, Valid loss: 2.0546\n"
          ]
        },
        {
          "name": "stderr",
          "output_type": "stream",
          "text": [
            "Epoch [1197/3000]: 100%|██████████| 9/9 [00:00<00:00, 119.50it/s, loss=2.27]\n"
          ]
        },
        {
          "name": "stdout",
          "output_type": "stream",
          "text": [
            "Epoch [1197/3000]: Train loss: 1.8626, Valid loss: 2.0359\n"
          ]
        },
        {
          "name": "stderr",
          "output_type": "stream",
          "text": [
            "Epoch [1198/3000]: 100%|██████████| 9/9 [00:00<00:00, 127.26it/s, loss=1.98]\n"
          ]
        },
        {
          "name": "stdout",
          "output_type": "stream",
          "text": [
            "Epoch [1198/3000]: Train loss: 1.8425, Valid loss: 2.0769\n"
          ]
        },
        {
          "name": "stderr",
          "output_type": "stream",
          "text": [
            "Epoch [1199/3000]: 100%|██████████| 9/9 [00:00<00:00, 126.50it/s, loss=1.64]\n"
          ]
        },
        {
          "name": "stdout",
          "output_type": "stream",
          "text": [
            "Epoch [1199/3000]: Train loss: 1.8224, Valid loss: 1.7897\n"
          ]
        },
        {
          "name": "stderr",
          "output_type": "stream",
          "text": [
            "Epoch [1200/3000]: 100%|██████████| 9/9 [00:00<00:00, 110.98it/s, loss=1.88]"
          ]
        },
        {
          "name": "stdout",
          "output_type": "stream",
          "text": [
            "Epoch [1200/3000]: Train loss: 1.8368, Valid loss: 2.2192"
          ]
        },
        {
          "name": "stderr",
          "output_type": "stream",
          "text": [
            "\n"
          ]
        },
        {
          "name": "stdout",
          "output_type": "stream",
          "text": [
            "\n"
          ]
        },
        {
          "name": "stderr",
          "output_type": "stream",
          "text": [
            "Epoch [1201/3000]: 100%|██████████| 9/9 [00:00<00:00, 107.63it/s, loss=1.38]\n"
          ]
        },
        {
          "name": "stdout",
          "output_type": "stream",
          "text": [
            "Epoch [1201/3000]: Train loss: 1.8042, Valid loss: 1.9311\n"
          ]
        },
        {
          "name": "stderr",
          "output_type": "stream",
          "text": [
            "Epoch [1202/3000]: 100%|██████████| 9/9 [00:00<00:00, 110.52it/s, loss=1.74]\n"
          ]
        },
        {
          "name": "stdout",
          "output_type": "stream",
          "text": [
            "Epoch [1202/3000]: Train loss: 1.8265, Valid loss: 1.6771\n"
          ]
        },
        {
          "name": "stderr",
          "output_type": "stream",
          "text": [
            "Epoch [1203/3000]: 100%|██████████| 9/9 [00:00<00:00, 118.94it/s, loss=1.53]\n"
          ]
        },
        {
          "name": "stdout",
          "output_type": "stream",
          "text": [
            "Epoch [1203/3000]: Train loss: 1.8112, Valid loss: 1.7172\n"
          ]
        },
        {
          "name": "stderr",
          "output_type": "stream",
          "text": [
            "Epoch [1204/3000]: 100%|██████████| 9/9 [00:00<00:00, 126.95it/s, loss=1.74]\n"
          ]
        },
        {
          "name": "stdout",
          "output_type": "stream",
          "text": [
            "Epoch [1204/3000]: Train loss: 1.8245, Valid loss: 2.4115\n"
          ]
        },
        {
          "name": "stderr",
          "output_type": "stream",
          "text": [
            "Epoch [1205/3000]: 100%|██████████| 9/9 [00:00<00:00, 129.81it/s, loss=1.63]\n"
          ]
        },
        {
          "name": "stdout",
          "output_type": "stream",
          "text": [
            "Epoch [1205/3000]: Train loss: 1.8191, Valid loss: 1.6909\n"
          ]
        },
        {
          "name": "stderr",
          "output_type": "stream",
          "text": [
            "Epoch [1206/3000]: 100%|██████████| 9/9 [00:00<00:00, 124.13it/s, loss=1.91]\n"
          ]
        },
        {
          "name": "stdout",
          "output_type": "stream",
          "text": [
            "Epoch [1206/3000]: Train loss: 1.8366, Valid loss: 1.9691\n"
          ]
        },
        {
          "name": "stderr",
          "output_type": "stream",
          "text": [
            "Epoch [1207/3000]: 100%|██████████| 9/9 [00:00<00:00, 143.17it/s, loss=2.44]\n"
          ]
        },
        {
          "name": "stdout",
          "output_type": "stream",
          "text": [
            "Epoch [1207/3000]: Train loss: 1.8653, Valid loss: 2.0165\n"
          ]
        },
        {
          "name": "stderr",
          "output_type": "stream",
          "text": [
            "Epoch [1208/3000]: 100%|██████████| 9/9 [00:00<00:00, 125.43it/s, loss=1.95]\n"
          ]
        },
        {
          "name": "stdout",
          "output_type": "stream",
          "text": [
            "Epoch [1208/3000]: Train loss: 1.8358, Valid loss: 2.0658\n"
          ]
        },
        {
          "name": "stderr",
          "output_type": "stream",
          "text": [
            "Epoch [1209/3000]: 100%|██████████| 9/9 [00:00<00:00, 126.96it/s, loss=2.07]\n"
          ]
        },
        {
          "name": "stdout",
          "output_type": "stream",
          "text": [
            "Epoch [1209/3000]: Train loss: 1.8451, Valid loss: 2.0854\n"
          ]
        },
        {
          "name": "stderr",
          "output_type": "stream",
          "text": [
            "Epoch [1210/3000]: 100%|██████████| 9/9 [00:00<00:00, 104.48it/s, loss=2.12]\n"
          ]
        },
        {
          "name": "stdout",
          "output_type": "stream",
          "text": [
            "Epoch [1210/3000]: Train loss: 1.8459, Valid loss: 1.7545\n"
          ]
        },
        {
          "name": "stderr",
          "output_type": "stream",
          "text": [
            "Epoch [1211/3000]: 100%|██████████| 9/9 [00:00<00:00, 103.29it/s, loss=1.5]\n"
          ]
        },
        {
          "name": "stdout",
          "output_type": "stream",
          "text": [
            "Epoch [1211/3000]: Train loss: 1.8103, Valid loss: 1.9154\n"
          ]
        },
        {
          "name": "stderr",
          "output_type": "stream",
          "text": [
            "Epoch [1212/3000]: 100%|██████████| 9/9 [00:00<00:00, 117.23it/s, loss=1.62]\n"
          ]
        },
        {
          "name": "stdout",
          "output_type": "stream",
          "text": [
            "Epoch [1212/3000]: Train loss: 1.8144, Valid loss: 2.1144\n"
          ]
        },
        {
          "name": "stderr",
          "output_type": "stream",
          "text": [
            "Epoch [1213/3000]: 100%|██████████| 9/9 [00:00<00:00, 110.53it/s, loss=2.6]"
          ]
        },
        {
          "name": "stdout",
          "output_type": "stream",
          "text": [
            "Epoch [1213/3000]: Train loss: 1.8733, Valid loss: 2.2567"
          ]
        },
        {
          "name": "stderr",
          "output_type": "stream",
          "text": [
            "\n"
          ]
        },
        {
          "name": "stdout",
          "output_type": "stream",
          "text": [
            "\n"
          ]
        },
        {
          "name": "stderr",
          "output_type": "stream",
          "text": [
            "Epoch [1214/3000]: 100%|██████████| 9/9 [00:00<00:00, 41.18it/s, loss=1.62]\n"
          ]
        },
        {
          "name": "stdout",
          "output_type": "stream",
          "text": [
            "Epoch [1214/3000]: Train loss: 1.8143, Valid loss: 1.9132\n"
          ]
        },
        {
          "name": "stderr",
          "output_type": "stream",
          "text": [
            "Epoch [1215/3000]: 100%|██████████| 9/9 [00:00<00:00, 101.81it/s, loss=1.99]\n"
          ]
        },
        {
          "name": "stdout",
          "output_type": "stream",
          "text": [
            "Epoch [1215/3000]: Train loss: 1.8346, Valid loss: 1.9514\n"
          ]
        },
        {
          "name": "stderr",
          "output_type": "stream",
          "text": [
            "Epoch [1216/3000]: 100%|██████████| 9/9 [00:00<00:00, 115.84it/s, loss=1.6]\n"
          ]
        },
        {
          "name": "stdout",
          "output_type": "stream",
          "text": [
            "Epoch [1216/3000]: Train loss: 1.8107, Valid loss: 2.1107\n"
          ]
        },
        {
          "name": "stderr",
          "output_type": "stream",
          "text": [
            "Epoch [1217/3000]: 100%|██████████| 9/9 [00:00<00:00, 117.13it/s, loss=1.54]\n"
          ]
        },
        {
          "name": "stdout",
          "output_type": "stream",
          "text": [
            "Epoch [1217/3000]: Train loss: 1.8085, Valid loss: 1.7462\n"
          ]
        },
        {
          "name": "stderr",
          "output_type": "stream",
          "text": [
            "Epoch [1218/3000]: 100%|██████████| 9/9 [00:00<00:00, 116.47it/s, loss=1.95]\n"
          ]
        },
        {
          "name": "stdout",
          "output_type": "stream",
          "text": [
            "Epoch [1218/3000]: Train loss: 1.8315, Valid loss: 2.4772\n"
          ]
        },
        {
          "name": "stderr",
          "output_type": "stream",
          "text": [
            "Epoch [1219/3000]: 100%|██████████| 9/9 [00:00<00:00, 121.10it/s, loss=1.43]\n"
          ]
        },
        {
          "name": "stdout",
          "output_type": "stream",
          "text": [
            "Epoch [1219/3000]: Train loss: 1.8009, Valid loss: 2.3399\n"
          ]
        },
        {
          "name": "stderr",
          "output_type": "stream",
          "text": [
            "Epoch [1220/3000]: 100%|██████████| 9/9 [00:00<00:00, 122.83it/s, loss=1.38]\n"
          ]
        },
        {
          "name": "stdout",
          "output_type": "stream",
          "text": [
            "Epoch [1220/3000]: Train loss: 1.7969, Valid loss: 1.9565\n"
          ]
        },
        {
          "name": "stderr",
          "output_type": "stream",
          "text": [
            "Epoch [1221/3000]: 100%|██████████| 9/9 [00:00<00:00, 119.54it/s, loss=2.26]\n"
          ]
        },
        {
          "name": "stdout",
          "output_type": "stream",
          "text": [
            "Epoch [1221/3000]: Train loss: 1.8591, Valid loss: 1.9144\n"
          ]
        },
        {
          "name": "stderr",
          "output_type": "stream",
          "text": [
            "Epoch [1222/3000]: 100%|██████████| 9/9 [00:00<00:00, 125.06it/s, loss=1.72]\n"
          ]
        },
        {
          "name": "stdout",
          "output_type": "stream",
          "text": [
            "Epoch [1222/3000]: Train loss: 1.8187, Valid loss: 2.1107\n"
          ]
        },
        {
          "name": "stderr",
          "output_type": "stream",
          "text": [
            "Epoch [1223/3000]: 100%|██████████| 9/9 [00:00<00:00, 134.11it/s, loss=2.08]\n"
          ]
        },
        {
          "name": "stdout",
          "output_type": "stream",
          "text": [
            "Epoch [1223/3000]: Train loss: 1.8375, Valid loss: 2.0607\n"
          ]
        },
        {
          "name": "stderr",
          "output_type": "stream",
          "text": [
            "Epoch [1224/3000]: 100%|██████████| 9/9 [00:00<00:00, 121.64it/s, loss=1.68]\n"
          ]
        },
        {
          "name": "stdout",
          "output_type": "stream",
          "text": [
            "Epoch [1224/3000]: Train loss: 1.8154, Valid loss: 1.7369\n"
          ]
        },
        {
          "name": "stderr",
          "output_type": "stream",
          "text": [
            "Epoch [1225/3000]: 100%|██████████| 9/9 [00:00<00:00, 132.65it/s, loss=1.53]\n"
          ]
        },
        {
          "name": "stdout",
          "output_type": "stream",
          "text": [
            "Epoch [1225/3000]: Train loss: 1.8036, Valid loss: 2.1325\n"
          ]
        },
        {
          "name": "stderr",
          "output_type": "stream",
          "text": [
            "Epoch [1226/3000]: 100%|██████████| 9/9 [00:00<00:00, 127.88it/s, loss=2.22]\n"
          ]
        },
        {
          "name": "stdout",
          "output_type": "stream",
          "text": [
            "Epoch [1226/3000]: Train loss: 1.8451, Valid loss: 1.8264\n"
          ]
        },
        {
          "name": "stderr",
          "output_type": "stream",
          "text": [
            "Epoch [1227/3000]: 100%|██████████| 9/9 [00:00<00:00, 132.23it/s, loss=2.45]\n"
          ]
        },
        {
          "name": "stdout",
          "output_type": "stream",
          "text": [
            "Epoch [1227/3000]: Train loss: 1.8593, Valid loss: 2.0952\n"
          ]
        },
        {
          "name": "stderr",
          "output_type": "stream",
          "text": [
            "Epoch [1228/3000]: 100%|██████████| 9/9 [00:00<00:00, 104.22it/s, loss=1.51]"
          ]
        },
        {
          "name": "stdout",
          "output_type": "stream",
          "text": [
            "Epoch [1228/3000]: Train loss: 1.8008, Valid loss: 1.7967"
          ]
        },
        {
          "name": "stderr",
          "output_type": "stream",
          "text": [
            "\n"
          ]
        },
        {
          "name": "stdout",
          "output_type": "stream",
          "text": [
            "\n"
          ]
        },
        {
          "name": "stderr",
          "output_type": "stream",
          "text": [
            "Epoch [1229/3000]: 100%|██████████| 9/9 [00:00<00:00, 108.39it/s, loss=1.79]\n"
          ]
        },
        {
          "name": "stdout",
          "output_type": "stream",
          "text": [
            "Epoch [1229/3000]: Train loss: 1.8199, Valid loss: 1.9146\n"
          ]
        },
        {
          "name": "stderr",
          "output_type": "stream",
          "text": [
            "Epoch [1230/3000]: 100%|██████████| 9/9 [00:00<00:00, 134.34it/s, loss=1.34]"
          ]
        },
        {
          "name": "stdout",
          "output_type": "stream",
          "text": [
            "Epoch [1230/3000]: Train loss: 1.7864, Valid loss: 1.6861\n"
          ]
        },
        {
          "name": "stderr",
          "output_type": "stream",
          "text": [
            "\n",
            "Epoch [1231/3000]: 100%|██████████| 9/9 [00:00<00:00, 133.47it/s, loss=2.33]\n"
          ]
        },
        {
          "name": "stdout",
          "output_type": "stream",
          "text": [
            "Epoch [1231/3000]: Train loss: 1.8489, Valid loss: 1.8997\n"
          ]
        },
        {
          "name": "stderr",
          "output_type": "stream",
          "text": [
            "Epoch [1232/3000]: 100%|██████████| 9/9 [00:00<00:00, 124.82it/s, loss=1.15]\n"
          ]
        },
        {
          "name": "stdout",
          "output_type": "stream",
          "text": [
            "Epoch [1232/3000]: Train loss: 1.7753, Valid loss: 1.9630\n"
          ]
        },
        {
          "name": "stderr",
          "output_type": "stream",
          "text": [
            "Epoch [1233/3000]: 100%|██████████| 9/9 [00:00<00:00, 140.77it/s, loss=1.86]\n"
          ]
        },
        {
          "name": "stdout",
          "output_type": "stream",
          "text": [
            "Epoch [1233/3000]: Train loss: 1.8211, Valid loss: 1.8697\n"
          ]
        },
        {
          "name": "stderr",
          "output_type": "stream",
          "text": [
            "Epoch [1234/3000]: 100%|██████████| 9/9 [00:00<00:00, 129.27it/s, loss=1.85]\n"
          ]
        },
        {
          "name": "stdout",
          "output_type": "stream",
          "text": [
            "Epoch [1234/3000]: Train loss: 1.8194, Valid loss: 1.7570\n"
          ]
        },
        {
          "name": "stderr",
          "output_type": "stream",
          "text": [
            "Epoch [1235/3000]: 100%|██████████| 9/9 [00:00<00:00, 119.85it/s, loss=2.69]\n"
          ]
        },
        {
          "name": "stdout",
          "output_type": "stream",
          "text": [
            "Epoch [1235/3000]: Train loss: 1.8684, Valid loss: 2.1986\n"
          ]
        },
        {
          "name": "stderr",
          "output_type": "stream",
          "text": [
            "Epoch [1236/3000]: 100%|██████████| 9/9 [00:00<00:00, 138.86it/s, loss=1.73]\n"
          ]
        },
        {
          "name": "stdout",
          "output_type": "stream",
          "text": [
            "Epoch [1236/3000]: Train loss: 1.8122, Valid loss: 2.0699\n"
          ]
        },
        {
          "name": "stderr",
          "output_type": "stream",
          "text": [
            "Epoch [1237/3000]: 100%|██████████| 9/9 [00:00<00:00, 130.05it/s, loss=1.78]\n"
          ]
        },
        {
          "name": "stdout",
          "output_type": "stream",
          "text": [
            "Epoch [1237/3000]: Train loss: 1.8122, Valid loss: 2.1086\n"
          ]
        },
        {
          "name": "stderr",
          "output_type": "stream",
          "text": [
            "Epoch [1238/3000]: 100%|██████████| 9/9 [00:00<00:00, 124.32it/s, loss=1.92]\n"
          ]
        },
        {
          "name": "stdout",
          "output_type": "stream",
          "text": [
            "Epoch [1238/3000]: Train loss: 1.8217, Valid loss: 2.0577\n"
          ]
        },
        {
          "name": "stderr",
          "output_type": "stream",
          "text": [
            "Epoch [1239/3000]: 100%|██████████| 9/9 [00:00<00:00, 134.12it/s, loss=1.24]\n"
          ]
        },
        {
          "name": "stdout",
          "output_type": "stream",
          "text": [
            "Epoch [1239/3000]: Train loss: 1.7801, Valid loss: 2.2652\n"
          ]
        },
        {
          "name": "stderr",
          "output_type": "stream",
          "text": [
            "Epoch [1240/3000]: 100%|██████████| 9/9 [00:00<00:00, 115.13it/s, loss=2.46]\n"
          ]
        },
        {
          "name": "stdout",
          "output_type": "stream",
          "text": [
            "Epoch [1240/3000]: Train loss: 1.8558, Valid loss: 1.9087\n"
          ]
        },
        {
          "name": "stderr",
          "output_type": "stream",
          "text": [
            "Epoch [1241/3000]: 100%|██████████| 9/9 [00:00<00:00, 119.47it/s, loss=2.42]\n"
          ]
        },
        {
          "name": "stdout",
          "output_type": "stream",
          "text": [
            "Epoch [1241/3000]: Train loss: 1.8547, Valid loss: 2.5224\n"
          ]
        },
        {
          "name": "stderr",
          "output_type": "stream",
          "text": [
            "Epoch [1242/3000]: 100%|██████████| 9/9 [00:00<00:00, 117.65it/s, loss=1.74]\n"
          ]
        },
        {
          "name": "stdout",
          "output_type": "stream",
          "text": [
            "Epoch [1242/3000]: Train loss: 1.8082, Valid loss: 2.1414\n"
          ]
        },
        {
          "name": "stderr",
          "output_type": "stream",
          "text": [
            "Epoch [1243/3000]: 100%|██████████| 9/9 [00:00<00:00, 114.30it/s, loss=1.29]\n"
          ]
        },
        {
          "name": "stdout",
          "output_type": "stream",
          "text": [
            "Epoch [1243/3000]: Train loss: 1.7806, Valid loss: 1.6310\n"
          ]
        },
        {
          "name": "stderr",
          "output_type": "stream",
          "text": [
            "Epoch [1244/3000]: 100%|██████████| 9/9 [00:00<00:00, 90.72it/s, loss=1.51]\n"
          ]
        },
        {
          "name": "stdout",
          "output_type": "stream",
          "text": [
            "Epoch [1244/3000]: Train loss: 1.7926, Valid loss: 2.0459\n"
          ]
        },
        {
          "name": "stderr",
          "output_type": "stream",
          "text": [
            "Epoch [1245/3000]: 100%|██████████| 9/9 [00:00<00:00, 110.00it/s, loss=1.46]\n"
          ]
        },
        {
          "name": "stdout",
          "output_type": "stream",
          "text": [
            "Epoch [1245/3000]: Train loss: 1.7919, Valid loss: 1.8868\n"
          ]
        },
        {
          "name": "stderr",
          "output_type": "stream",
          "text": [
            "Epoch [1246/3000]: 100%|██████████| 9/9 [00:00<00:00, 121.11it/s, loss=1.94]\n"
          ]
        },
        {
          "name": "stdout",
          "output_type": "stream",
          "text": [
            "Epoch [1246/3000]: Train loss: 1.8225, Valid loss: 1.7883\n"
          ]
        },
        {
          "name": "stderr",
          "output_type": "stream",
          "text": [
            "Epoch [1247/3000]: 100%|██████████| 9/9 [00:00<00:00, 117.84it/s, loss=2.09]\n"
          ]
        },
        {
          "name": "stdout",
          "output_type": "stream",
          "text": [
            "Epoch [1247/3000]: Train loss: 1.8275, Valid loss: 1.7213\n"
          ]
        },
        {
          "name": "stderr",
          "output_type": "stream",
          "text": [
            "Epoch [1248/3000]: 100%|██████████| 9/9 [00:00<00:00, 131.50it/s, loss=2.27]\n"
          ]
        },
        {
          "name": "stdout",
          "output_type": "stream",
          "text": [
            "Epoch [1248/3000]: Train loss: 1.8395, Valid loss: 1.9216\n"
          ]
        },
        {
          "name": "stderr",
          "output_type": "stream",
          "text": [
            "Epoch [1249/3000]: 100%|██████████| 9/9 [00:00<00:00, 123.27it/s, loss=1.84]\n"
          ]
        },
        {
          "name": "stdout",
          "output_type": "stream",
          "text": [
            "Epoch [1249/3000]: Train loss: 1.8090, Valid loss: 1.9007\n"
          ]
        },
        {
          "name": "stderr",
          "output_type": "stream",
          "text": [
            "Epoch [1250/3000]: 100%|██████████| 9/9 [00:00<00:00, 142.24it/s, loss=1.51]\n"
          ]
        },
        {
          "name": "stdout",
          "output_type": "stream",
          "text": [
            "Epoch [1250/3000]: Train loss: 1.7923, Valid loss: 2.0404\n"
          ]
        },
        {
          "name": "stderr",
          "output_type": "stream",
          "text": [
            "Epoch [1251/3000]: 100%|██████████| 9/9 [00:00<00:00, 124.31it/s, loss=1.66]\n"
          ]
        },
        {
          "name": "stdout",
          "output_type": "stream",
          "text": [
            "Epoch [1251/3000]: Train loss: 1.8017, Valid loss: 1.6858\n"
          ]
        },
        {
          "name": "stderr",
          "output_type": "stream",
          "text": [
            "Epoch [1252/3000]: 100%|██████████| 9/9 [00:00<00:00, 119.22it/s, loss=1.52]\n"
          ]
        },
        {
          "name": "stdout",
          "output_type": "stream",
          "text": [
            "Epoch [1252/3000]: Train loss: 1.7930, Valid loss: 1.8579\n"
          ]
        },
        {
          "name": "stderr",
          "output_type": "stream",
          "text": [
            "Epoch [1253/3000]: 100%|██████████| 9/9 [00:00<00:00, 121.73it/s, loss=1.84]\n"
          ]
        },
        {
          "name": "stdout",
          "output_type": "stream",
          "text": [
            "Epoch [1253/3000]: Train loss: 1.8094, Valid loss: 2.0422\n"
          ]
        },
        {
          "name": "stderr",
          "output_type": "stream",
          "text": [
            "Epoch [1254/3000]: 100%|██████████| 9/9 [00:00<00:00, 131.44it/s, loss=2.67]\n"
          ]
        },
        {
          "name": "stdout",
          "output_type": "stream",
          "text": [
            "Epoch [1254/3000]: Train loss: 1.8618, Valid loss: 2.2027\n"
          ]
        },
        {
          "name": "stderr",
          "output_type": "stream",
          "text": [
            "Epoch [1255/3000]: 100%|██████████| 9/9 [00:00<00:00, 121.42it/s, loss=1.84]\n"
          ]
        },
        {
          "name": "stdout",
          "output_type": "stream",
          "text": [
            "Epoch [1255/3000]: Train loss: 1.8104, Valid loss: 1.8956\n"
          ]
        },
        {
          "name": "stderr",
          "output_type": "stream",
          "text": [
            "Epoch [1256/3000]: 100%|██████████| 9/9 [00:00<00:00, 121.10it/s, loss=1.27]\n"
          ]
        },
        {
          "name": "stdout",
          "output_type": "stream",
          "text": [
            "Epoch [1256/3000]: Train loss: 1.7738, Valid loss: 1.8335\n"
          ]
        },
        {
          "name": "stderr",
          "output_type": "stream",
          "text": [
            "Epoch [1257/3000]: 100%|██████████| 9/9 [00:00<00:00, 125.80it/s, loss=2.36]\n"
          ]
        },
        {
          "name": "stdout",
          "output_type": "stream",
          "text": [
            "Epoch [1257/3000]: Train loss: 1.8474, Valid loss: 2.2401\n"
          ]
        },
        {
          "name": "stderr",
          "output_type": "stream",
          "text": [
            "Epoch [1258/3000]: 100%|██████████| 9/9 [00:00<00:00, 129.56it/s, loss=1.97]\n"
          ]
        },
        {
          "name": "stdout",
          "output_type": "stream",
          "text": [
            "Epoch [1258/3000]: Train loss: 1.8187, Valid loss: 1.7610\n"
          ]
        },
        {
          "name": "stderr",
          "output_type": "stream",
          "text": [
            "Epoch [1259/3000]: 100%|██████████| 9/9 [00:00<00:00, 97.59it/s, loss=2.12]"
          ]
        },
        {
          "name": "stdout",
          "output_type": "stream",
          "text": [
            "Epoch [1259/3000]: Train loss: 1.8283, Valid loss: 1.8205"
          ]
        },
        {
          "name": "stderr",
          "output_type": "stream",
          "text": [
            "\n"
          ]
        },
        {
          "name": "stdout",
          "output_type": "stream",
          "text": [
            "\n"
          ]
        },
        {
          "name": "stderr",
          "output_type": "stream",
          "text": [
            "Epoch [1260/3000]: 100%|██████████| 9/9 [00:00<00:00, 113.23it/s, loss=1.71]\n"
          ]
        },
        {
          "name": "stdout",
          "output_type": "stream",
          "text": [
            "Epoch [1260/3000]: Train loss: 1.8036, Valid loss: 2.1133\n"
          ]
        },
        {
          "name": "stderr",
          "output_type": "stream",
          "text": [
            "Epoch [1261/3000]: 100%|██████████| 9/9 [00:00<00:00, 132.25it/s, loss=2.12]"
          ]
        },
        {
          "name": "stdout",
          "output_type": "stream",
          "text": [
            "Epoch [1261/3000]: Train loss: 1.8244, Valid loss: 2.1256\n"
          ]
        },
        {
          "name": "stderr",
          "output_type": "stream",
          "text": [
            "\n",
            "Epoch [1262/3000]: 100%|██████████| 9/9 [00:00<00:00, 118.24it/s, loss=1.55]\n"
          ]
        },
        {
          "name": "stdout",
          "output_type": "stream",
          "text": [
            "Epoch [1262/3000]: Train loss: 1.7888, Valid loss: 1.8743\n"
          ]
        },
        {
          "name": "stderr",
          "output_type": "stream",
          "text": [
            "Epoch [1263/3000]: 100%|██████████| 9/9 [00:00<00:00, 119.66it/s, loss=2.5]\n"
          ]
        },
        {
          "name": "stdout",
          "output_type": "stream",
          "text": [
            "Epoch [1263/3000]: Train loss: 1.8491, Valid loss: 2.1830\n"
          ]
        },
        {
          "name": "stderr",
          "output_type": "stream",
          "text": [
            "Epoch [1264/3000]: 100%|██████████| 9/9 [00:00<00:00, 98.38it/s, loss=1.98]\n"
          ]
        },
        {
          "name": "stdout",
          "output_type": "stream",
          "text": [
            "Epoch [1264/3000]: Train loss: 1.8185, Valid loss: 2.1714\n"
          ]
        },
        {
          "name": "stderr",
          "output_type": "stream",
          "text": [
            "Epoch [1265/3000]: 100%|██████████| 9/9 [00:00<00:00, 113.43it/s, loss=2.29]\n"
          ]
        },
        {
          "name": "stdout",
          "output_type": "stream",
          "text": [
            "Epoch [1265/3000]: Train loss: 1.8342, Valid loss: 1.9818\n"
          ]
        },
        {
          "name": "stderr",
          "output_type": "stream",
          "text": [
            "Epoch [1266/3000]: 100%|██████████| 9/9 [00:00<00:00, 122.31it/s, loss=1.73]\n"
          ]
        },
        {
          "name": "stdout",
          "output_type": "stream",
          "text": [
            "Epoch [1266/3000]: Train loss: 1.8012, Valid loss: 2.2718\n"
          ]
        },
        {
          "name": "stderr",
          "output_type": "stream",
          "text": [
            "Epoch [1267/3000]: 100%|██████████| 9/9 [00:00<00:00, 129.00it/s, loss=2.12]\n"
          ]
        },
        {
          "name": "stdout",
          "output_type": "stream",
          "text": [
            "Epoch [1267/3000]: Train loss: 1.8221, Valid loss: 1.6444\n"
          ]
        },
        {
          "name": "stderr",
          "output_type": "stream",
          "text": [
            "Epoch [1268/3000]: 100%|██████████| 9/9 [00:00<00:00, 126.28it/s, loss=1.99]\n"
          ]
        },
        {
          "name": "stdout",
          "output_type": "stream",
          "text": [
            "Epoch [1268/3000]: Train loss: 1.8161, Valid loss: 1.9660\n"
          ]
        },
        {
          "name": "stderr",
          "output_type": "stream",
          "text": [
            "Epoch [1269/3000]: 100%|██████████| 9/9 [00:00<00:00, 129.04it/s, loss=2.22]\n"
          ]
        },
        {
          "name": "stdout",
          "output_type": "stream",
          "text": [
            "Epoch [1269/3000]: Train loss: 1.8283, Valid loss: 2.0732\n"
          ]
        },
        {
          "name": "stderr",
          "output_type": "stream",
          "text": [
            "Epoch [1270/3000]: 100%|██████████| 9/9 [00:00<00:00, 118.36it/s, loss=1.85]\n"
          ]
        },
        {
          "name": "stdout",
          "output_type": "stream",
          "text": [
            "Epoch [1270/3000]: Train loss: 1.8060, Valid loss: 1.8161\n"
          ]
        },
        {
          "name": "stderr",
          "output_type": "stream",
          "text": [
            "Epoch [1271/3000]: 100%|██████████| 9/9 [00:00<00:00, 118.81it/s, loss=2.29]\n"
          ]
        },
        {
          "name": "stdout",
          "output_type": "stream",
          "text": [
            "Epoch [1271/3000]: Train loss: 1.8314, Valid loss: 1.8536\n"
          ]
        },
        {
          "name": "stderr",
          "output_type": "stream",
          "text": [
            "Epoch [1272/3000]: 100%|██████████| 9/9 [00:00<00:00, 129.58it/s, loss=2.23]"
          ]
        },
        {
          "name": "stdout",
          "output_type": "stream",
          "text": [
            "Epoch [1272/3000]: Train loss: 1.8248, Valid loss: 2.1131"
          ]
        },
        {
          "name": "stderr",
          "output_type": "stream",
          "text": [
            "\n"
          ]
        },
        {
          "name": "stdout",
          "output_type": "stream",
          "text": [
            "\n"
          ]
        },
        {
          "name": "stderr",
          "output_type": "stream",
          "text": [
            "Epoch [1273/3000]: 100%|██████████| 9/9 [00:00<00:00, 129.18it/s, loss=1.41]\n"
          ]
        },
        {
          "name": "stdout",
          "output_type": "stream",
          "text": [
            "Epoch [1273/3000]: Train loss: 1.7773, Valid loss: 2.0243\n"
          ]
        },
        {
          "name": "stderr",
          "output_type": "stream",
          "text": [
            "Epoch [1274/3000]: 100%|██████████| 9/9 [00:00<00:00, 119.38it/s, loss=1.97]\n"
          ]
        },
        {
          "name": "stdout",
          "output_type": "stream",
          "text": [
            "Epoch [1274/3000]: Train loss: 1.8108, Valid loss: 1.9129\n"
          ]
        },
        {
          "name": "stderr",
          "output_type": "stream",
          "text": [
            "Epoch [1275/3000]: 100%|██████████| 9/9 [00:00<00:00, 100.33it/s, loss=1.25]\n"
          ]
        },
        {
          "name": "stdout",
          "output_type": "stream",
          "text": [
            "Epoch [1275/3000]: Train loss: 1.7665, Valid loss: 2.1898\n"
          ]
        },
        {
          "name": "stderr",
          "output_type": "stream",
          "text": [
            "Epoch [1276/3000]: 100%|██████████| 9/9 [00:00<00:00, 105.38it/s, loss=1.57]\n"
          ]
        },
        {
          "name": "stdout",
          "output_type": "stream",
          "text": [
            "Epoch [1276/3000]: Train loss: 1.7865, Valid loss: 1.5771\n",
            "Saving model with loss 1.577...\n"
          ]
        },
        {
          "name": "stderr",
          "output_type": "stream",
          "text": [
            "Epoch [1277/3000]: 100%|██████████| 9/9 [00:00<00:00, 105.18it/s, loss=1.83]\n"
          ]
        },
        {
          "name": "stdout",
          "output_type": "stream",
          "text": [
            "Epoch [1277/3000]: Train loss: 1.8020, Valid loss: 2.2280\n"
          ]
        },
        {
          "name": "stderr",
          "output_type": "stream",
          "text": [
            "Epoch [1278/3000]: 100%|██████████| 9/9 [00:00<00:00, 116.88it/s, loss=2.69]\n"
          ]
        },
        {
          "name": "stdout",
          "output_type": "stream",
          "text": [
            "Epoch [1278/3000]: Train loss: 1.8538, Valid loss: 1.7975\n"
          ]
        },
        {
          "name": "stderr",
          "output_type": "stream",
          "text": [
            "Epoch [1279/3000]: 100%|██████████| 9/9 [00:00<00:00, 102.94it/s, loss=1.78]\n"
          ]
        },
        {
          "name": "stdout",
          "output_type": "stream",
          "text": [
            "Epoch [1279/3000]: Train loss: 1.7981, Valid loss: 1.8666\n"
          ]
        },
        {
          "name": "stderr",
          "output_type": "stream",
          "text": [
            "Epoch [1280/3000]: 100%|██████████| 9/9 [00:00<00:00, 113.99it/s, loss=1.93]\n"
          ]
        },
        {
          "name": "stdout",
          "output_type": "stream",
          "text": [
            "Epoch [1280/3000]: Train loss: 1.8074, Valid loss: 1.7817\n"
          ]
        },
        {
          "name": "stderr",
          "output_type": "stream",
          "text": [
            "Epoch [1281/3000]: 100%|██████████| 9/9 [00:00<00:00, 109.99it/s, loss=1.71]\n"
          ]
        },
        {
          "name": "stdout",
          "output_type": "stream",
          "text": [
            "Epoch [1281/3000]: Train loss: 1.7926, Valid loss: 2.0713\n"
          ]
        },
        {
          "name": "stderr",
          "output_type": "stream",
          "text": [
            "Epoch [1282/3000]: 100%|██████████| 9/9 [00:00<00:00, 110.52it/s, loss=1.92]\n"
          ]
        },
        {
          "name": "stdout",
          "output_type": "stream",
          "text": [
            "Epoch [1282/3000]: Train loss: 1.8055, Valid loss: 2.0090\n"
          ]
        },
        {
          "name": "stderr",
          "output_type": "stream",
          "text": [
            "Epoch [1283/3000]: 100%|██████████| 9/9 [00:00<00:00, 110.89it/s, loss=1.74]\n"
          ]
        },
        {
          "name": "stdout",
          "output_type": "stream",
          "text": [
            "Epoch [1283/3000]: Train loss: 1.7939, Valid loss: 1.8923\n"
          ]
        },
        {
          "name": "stderr",
          "output_type": "stream",
          "text": [
            "Epoch [1284/3000]: 100%|██████████| 9/9 [00:00<00:00, 113.44it/s, loss=1.88]\n"
          ]
        },
        {
          "name": "stdout",
          "output_type": "stream",
          "text": [
            "Epoch [1284/3000]: Train loss: 1.8008, Valid loss: 2.4779\n"
          ]
        },
        {
          "name": "stderr",
          "output_type": "stream",
          "text": [
            "Epoch [1285/3000]: 100%|██████████| 9/9 [00:00<00:00, 118.21it/s, loss=2.69]\n"
          ]
        },
        {
          "name": "stdout",
          "output_type": "stream",
          "text": [
            "Epoch [1285/3000]: Train loss: 1.8523, Valid loss: 2.1882\n"
          ]
        },
        {
          "name": "stderr",
          "output_type": "stream",
          "text": [
            "Epoch [1286/3000]: 100%|██████████| 9/9 [00:00<00:00, 106.05it/s, loss=1.76]\n"
          ]
        },
        {
          "name": "stdout",
          "output_type": "stream",
          "text": [
            "Epoch [1286/3000]: Train loss: 1.7944, Valid loss: 1.9741\n"
          ]
        },
        {
          "name": "stderr",
          "output_type": "stream",
          "text": [
            "Epoch [1287/3000]: 100%|██████████| 9/9 [00:00<00:00, 117.98it/s, loss=1.14]\n"
          ]
        },
        {
          "name": "stdout",
          "output_type": "stream",
          "text": [
            "Epoch [1287/3000]: Train loss: 1.7568, Valid loss: 2.2129\n"
          ]
        },
        {
          "name": "stderr",
          "output_type": "stream",
          "text": [
            "Epoch [1288/3000]: 100%|██████████| 9/9 [00:00<00:00, 135.11it/s, loss=1.24]\n"
          ]
        },
        {
          "name": "stdout",
          "output_type": "stream",
          "text": [
            "Epoch [1288/3000]: Train loss: 1.7596, Valid loss: 1.8629\n"
          ]
        },
        {
          "name": "stderr",
          "output_type": "stream",
          "text": [
            "Epoch [1289/3000]: 100%|██████████| 9/9 [00:00<00:00, 114.47it/s, loss=1.68]\n"
          ]
        },
        {
          "name": "stdout",
          "output_type": "stream",
          "text": [
            "Epoch [1289/3000]: Train loss: 1.7898, Valid loss: 1.8219\n"
          ]
        },
        {
          "name": "stderr",
          "output_type": "stream",
          "text": [
            "Epoch [1290/3000]: 100%|██████████| 9/9 [00:00<00:00, 129.90it/s, loss=2.48]\n"
          ]
        },
        {
          "name": "stdout",
          "output_type": "stream",
          "text": [
            "Epoch [1290/3000]: Train loss: 1.8374, Valid loss: 2.2165\n"
          ]
        },
        {
          "name": "stderr",
          "output_type": "stream",
          "text": [
            "Epoch [1291/3000]: 100%|██████████| 9/9 [00:00<00:00, 36.92it/s, loss=2.44]\n"
          ]
        },
        {
          "name": "stdout",
          "output_type": "stream",
          "text": [
            "Epoch [1291/3000]: Train loss: 1.8332, Valid loss: 1.9600\n"
          ]
        },
        {
          "name": "stderr",
          "output_type": "stream",
          "text": [
            "Epoch [1292/3000]: 100%|██████████| 9/9 [00:00<00:00, 119.89it/s, loss=1.91]\n"
          ]
        },
        {
          "name": "stdout",
          "output_type": "stream",
          "text": [
            "Epoch [1292/3000]: Train loss: 1.7991, Valid loss: 1.9080\n"
          ]
        },
        {
          "name": "stderr",
          "output_type": "stream",
          "text": [
            "Epoch [1293/3000]: 100%|██████████| 9/9 [00:00<00:00, 122.54it/s, loss=1.99]"
          ]
        },
        {
          "name": "stdout",
          "output_type": "stream",
          "text": [
            "Epoch [1293/3000]: Train loss: 1.8062, Valid loss: 1.9148"
          ]
        },
        {
          "name": "stderr",
          "output_type": "stream",
          "text": [
            "\n"
          ]
        },
        {
          "name": "stdout",
          "output_type": "stream",
          "text": [
            "\n"
          ]
        },
        {
          "name": "stderr",
          "output_type": "stream",
          "text": [
            "Epoch [1294/3000]: 100%|██████████| 9/9 [00:00<00:00, 106.41it/s, loss=2.38]\n"
          ]
        },
        {
          "name": "stdout",
          "output_type": "stream",
          "text": [
            "Epoch [1294/3000]: Train loss: 1.8277, Valid loss: 1.8852\n"
          ]
        },
        {
          "name": "stderr",
          "output_type": "stream",
          "text": [
            "Epoch [1295/3000]: 100%|██████████| 9/9 [00:00<00:00, 111.47it/s, loss=2.07]\n"
          ]
        },
        {
          "name": "stdout",
          "output_type": "stream",
          "text": [
            "Epoch [1295/3000]: Train loss: 1.8136, Valid loss: 1.9361\n"
          ]
        },
        {
          "name": "stderr",
          "output_type": "stream",
          "text": [
            "Epoch [1296/3000]: 100%|██████████| 9/9 [00:00<00:00, 116.76it/s, loss=2.96]\n"
          ]
        },
        {
          "name": "stdout",
          "output_type": "stream",
          "text": [
            "Epoch [1296/3000]: Train loss: 1.8652, Valid loss: 1.9019\n"
          ]
        },
        {
          "name": "stderr",
          "output_type": "stream",
          "text": [
            "Epoch [1297/3000]: 100%|██████████| 9/9 [00:00<00:00, 117.81it/s, loss=1.81]\n"
          ]
        },
        {
          "name": "stdout",
          "output_type": "stream",
          "text": [
            "Epoch [1297/3000]: Train loss: 1.7932, Valid loss: 1.9136\n"
          ]
        },
        {
          "name": "stderr",
          "output_type": "stream",
          "text": [
            "Epoch [1298/3000]: 100%|██████████| 9/9 [00:00<00:00, 123.02it/s, loss=1.78]"
          ]
        },
        {
          "name": "stdout",
          "output_type": "stream",
          "text": [
            "Epoch [1298/3000]: Train loss: 1.7924, Valid loss: 2.0737"
          ]
        },
        {
          "name": "stderr",
          "output_type": "stream",
          "text": [
            "\n"
          ]
        },
        {
          "name": "stdout",
          "output_type": "stream",
          "text": [
            "\n"
          ]
        },
        {
          "name": "stderr",
          "output_type": "stream",
          "text": [
            "Epoch [1299/3000]: 100%|██████████| 9/9 [00:00<00:00, 119.57it/s, loss=2.12]\n"
          ]
        },
        {
          "name": "stdout",
          "output_type": "stream",
          "text": [
            "Epoch [1299/3000]: Train loss: 1.8103, Valid loss: 1.8299\n"
          ]
        },
        {
          "name": "stderr",
          "output_type": "stream",
          "text": [
            "Epoch [1300/3000]: 100%|██████████| 9/9 [00:00<00:00, 116.80it/s, loss=1.79]"
          ]
        },
        {
          "name": "stdout",
          "output_type": "stream",
          "text": [
            "Epoch [1300/3000]: Train loss: 1.7917, Valid loss: 1.9672\n"
          ]
        },
        {
          "name": "stderr",
          "output_type": "stream",
          "text": [
            "\n",
            "Epoch [1301/3000]: 100%|██████████| 9/9 [00:00<00:00, 123.89it/s, loss=1.31]\n"
          ]
        },
        {
          "name": "stdout",
          "output_type": "stream",
          "text": [
            "Epoch [1301/3000]: Train loss: 1.7581, Valid loss: 1.6319\n"
          ]
        },
        {
          "name": "stderr",
          "output_type": "stream",
          "text": [
            "Epoch [1302/3000]: 100%|██████████| 9/9 [00:00<00:00, 124.43it/s, loss=1.64]\n"
          ]
        },
        {
          "name": "stdout",
          "output_type": "stream",
          "text": [
            "Epoch [1302/3000]: Train loss: 1.7796, Valid loss: 2.1993\n"
          ]
        },
        {
          "name": "stderr",
          "output_type": "stream",
          "text": [
            "Epoch [1303/3000]: 100%|██████████| 9/9 [00:00<00:00, 135.02it/s, loss=1.76]\n"
          ]
        },
        {
          "name": "stdout",
          "output_type": "stream",
          "text": [
            "Epoch [1303/3000]: Train loss: 1.7867, Valid loss: 2.2179\n"
          ]
        },
        {
          "name": "stderr",
          "output_type": "stream",
          "text": [
            "Epoch [1304/3000]: 100%|██████████| 9/9 [00:00<00:00, 105.28it/s, loss=1.37]\n"
          ]
        },
        {
          "name": "stdout",
          "output_type": "stream",
          "text": [
            "Epoch [1304/3000]: Train loss: 1.7636, Valid loss: 1.9929\n"
          ]
        },
        {
          "name": "stderr",
          "output_type": "stream",
          "text": [
            "Epoch [1305/3000]: 100%|██████████| 9/9 [00:00<00:00, 104.79it/s, loss=1.73]\n"
          ]
        },
        {
          "name": "stdout",
          "output_type": "stream",
          "text": [
            "Epoch [1305/3000]: Train loss: 1.7892, Valid loss: 2.1732\n"
          ]
        },
        {
          "name": "stderr",
          "output_type": "stream",
          "text": [
            "Epoch [1306/3000]: 100%|██████████| 9/9 [00:00<00:00, 124.10it/s, loss=2.37]\n"
          ]
        },
        {
          "name": "stdout",
          "output_type": "stream",
          "text": [
            "Epoch [1306/3000]: Train loss: 1.8264, Valid loss: 1.8816\n"
          ]
        },
        {
          "name": "stderr",
          "output_type": "stream",
          "text": [
            "Epoch [1307/3000]: 100%|██████████| 9/9 [00:00<00:00, 132.34it/s, loss=1.94]\n"
          ]
        },
        {
          "name": "stdout",
          "output_type": "stream",
          "text": [
            "Epoch [1307/3000]: Train loss: 1.7975, Valid loss: 1.8078\n"
          ]
        },
        {
          "name": "stderr",
          "output_type": "stream",
          "text": [
            "Epoch [1308/3000]: 100%|██████████| 9/9 [00:00<00:00, 125.29it/s, loss=1.91]\n"
          ]
        },
        {
          "name": "stdout",
          "output_type": "stream",
          "text": [
            "Epoch [1308/3000]: Train loss: 1.7956, Valid loss: 2.0723\n"
          ]
        },
        {
          "name": "stderr",
          "output_type": "stream",
          "text": [
            "Epoch [1309/3000]: 100%|██████████| 9/9 [00:00<00:00, 129.18it/s, loss=1.78]\n"
          ]
        },
        {
          "name": "stdout",
          "output_type": "stream",
          "text": [
            "Epoch [1309/3000]: Train loss: 1.7868, Valid loss: 2.0761\n"
          ]
        },
        {
          "name": "stderr",
          "output_type": "stream",
          "text": [
            "Epoch [1310/3000]: 100%|██████████| 9/9 [00:00<00:00, 127.93it/s, loss=1.59]\n"
          ]
        },
        {
          "name": "stdout",
          "output_type": "stream",
          "text": [
            "Epoch [1310/3000]: Train loss: 1.7766, Valid loss: 1.7157\n"
          ]
        },
        {
          "name": "stderr",
          "output_type": "stream",
          "text": [
            "Epoch [1311/3000]: 100%|██████████| 9/9 [00:00<00:00, 131.34it/s, loss=1.52]\n"
          ]
        },
        {
          "name": "stdout",
          "output_type": "stream",
          "text": [
            "Epoch [1311/3000]: Train loss: 1.7719, Valid loss: 2.3318\n"
          ]
        },
        {
          "name": "stderr",
          "output_type": "stream",
          "text": [
            "Epoch [1312/3000]: 100%|██████████| 9/9 [00:00<00:00, 128.24it/s, loss=2.29]\n"
          ]
        },
        {
          "name": "stdout",
          "output_type": "stream",
          "text": [
            "Epoch [1312/3000]: Train loss: 1.8168, Valid loss: 2.1969\n"
          ]
        },
        {
          "name": "stderr",
          "output_type": "stream",
          "text": [
            "Epoch [1313/3000]: 100%|██████████| 9/9 [00:00<00:00, 131.15it/s, loss=1.32]\n"
          ]
        },
        {
          "name": "stdout",
          "output_type": "stream",
          "text": [
            "Epoch [1313/3000]: Train loss: 1.7608, Valid loss: 1.7670\n"
          ]
        },
        {
          "name": "stderr",
          "output_type": "stream",
          "text": [
            "Epoch [1314/3000]: 100%|██████████| 9/9 [00:00<00:00, 123.26it/s, loss=1.55]\n"
          ]
        },
        {
          "name": "stdout",
          "output_type": "stream",
          "text": [
            "Epoch [1314/3000]: Train loss: 1.7732, Valid loss: 1.9688\n"
          ]
        },
        {
          "name": "stderr",
          "output_type": "stream",
          "text": [
            "Epoch [1315/3000]: 100%|██████████| 9/9 [00:00<00:00, 131.90it/s, loss=1.7]\n"
          ]
        },
        {
          "name": "stdout",
          "output_type": "stream",
          "text": [
            "Epoch [1315/3000]: Train loss: 1.7842, Valid loss: 1.7482\n"
          ]
        },
        {
          "name": "stderr",
          "output_type": "stream",
          "text": [
            "Epoch [1316/3000]: 100%|██████████| 9/9 [00:00<00:00, 130.08it/s, loss=2.16]\n"
          ]
        },
        {
          "name": "stdout",
          "output_type": "stream",
          "text": [
            "Epoch [1316/3000]: Train loss: 1.8077, Valid loss: 1.5800\n"
          ]
        },
        {
          "name": "stderr",
          "output_type": "stream",
          "text": [
            "Epoch [1317/3000]: 100%|██████████| 9/9 [00:00<00:00, 124.09it/s, loss=1.74]\n"
          ]
        },
        {
          "name": "stdout",
          "output_type": "stream",
          "text": [
            "Epoch [1317/3000]: Train loss: 1.7805, Valid loss: 1.7988\n"
          ]
        },
        {
          "name": "stderr",
          "output_type": "stream",
          "text": [
            "Epoch [1318/3000]: 100%|██████████| 9/9 [00:00<00:00, 94.39it/s, loss=1.48]\n"
          ]
        },
        {
          "name": "stdout",
          "output_type": "stream",
          "text": [
            "Epoch [1318/3000]: Train loss: 1.7642, Valid loss: 2.3095\n"
          ]
        },
        {
          "name": "stderr",
          "output_type": "stream",
          "text": [
            "Epoch [1319/3000]: 100%|██████████| 9/9 [00:00<00:00, 129.12it/s, loss=1.81]\n"
          ]
        },
        {
          "name": "stdout",
          "output_type": "stream",
          "text": [
            "Epoch [1319/3000]: Train loss: 1.7842, Valid loss: 2.0181\n"
          ]
        },
        {
          "name": "stderr",
          "output_type": "stream",
          "text": [
            "Epoch [1320/3000]: 100%|██████████| 9/9 [00:00<00:00, 131.88it/s, loss=2.39]\n"
          ]
        },
        {
          "name": "stdout",
          "output_type": "stream",
          "text": [
            "Epoch [1320/3000]: Train loss: 1.8213, Valid loss: 2.2485\n"
          ]
        },
        {
          "name": "stderr",
          "output_type": "stream",
          "text": [
            "Epoch [1321/3000]: 100%|██████████| 9/9 [00:00<00:00, 134.87it/s, loss=1.67]\n"
          ]
        },
        {
          "name": "stdout",
          "output_type": "stream",
          "text": [
            "Epoch [1321/3000]: Train loss: 1.7715, Valid loss: 1.6520\n"
          ]
        },
        {
          "name": "stderr",
          "output_type": "stream",
          "text": [
            "Epoch [1322/3000]: 100%|██████████| 9/9 [00:00<00:00, 121.23it/s, loss=1.44]\n"
          ]
        },
        {
          "name": "stdout",
          "output_type": "stream",
          "text": [
            "Epoch [1322/3000]: Train loss: 1.7637, Valid loss: 2.0581\n"
          ]
        },
        {
          "name": "stderr",
          "output_type": "stream",
          "text": [
            "Epoch [1323/3000]: 100%|██████████| 9/9 [00:00<00:00, 127.46it/s, loss=2.44]\n"
          ]
        },
        {
          "name": "stdout",
          "output_type": "stream",
          "text": [
            "Epoch [1323/3000]: Train loss: 1.8257, Valid loss: 2.0750\n"
          ]
        },
        {
          "name": "stderr",
          "output_type": "stream",
          "text": [
            "Epoch [1324/3000]: 100%|██████████| 9/9 [00:00<00:00, 132.97it/s, loss=1.64]\n"
          ]
        },
        {
          "name": "stdout",
          "output_type": "stream",
          "text": [
            "Epoch [1324/3000]: Train loss: 1.7742, Valid loss: 1.8180\n"
          ]
        },
        {
          "name": "stderr",
          "output_type": "stream",
          "text": [
            "Epoch [1325/3000]: 100%|██████████| 9/9 [00:00<00:00, 124.66it/s, loss=1.25]\n"
          ]
        },
        {
          "name": "stdout",
          "output_type": "stream",
          "text": [
            "Epoch [1325/3000]: Train loss: 1.7475, Valid loss: 2.0378\n"
          ]
        },
        {
          "name": "stderr",
          "output_type": "stream",
          "text": [
            "Epoch [1326/3000]: 100%|██████████| 9/9 [00:00<00:00, 124.73it/s, loss=1.87]\n"
          ]
        },
        {
          "name": "stdout",
          "output_type": "stream",
          "text": [
            "Epoch [1326/3000]: Train loss: 1.7873, Valid loss: 2.1898\n"
          ]
        },
        {
          "name": "stderr",
          "output_type": "stream",
          "text": [
            "Epoch [1327/3000]: 100%|██████████| 9/9 [00:00<00:00, 120.55it/s, loss=1.72]\n"
          ]
        },
        {
          "name": "stdout",
          "output_type": "stream",
          "text": [
            "Epoch [1327/3000]: Train loss: 1.7771, Valid loss: 2.2131\n"
          ]
        },
        {
          "name": "stderr",
          "output_type": "stream",
          "text": [
            "Epoch [1328/3000]: 100%|██████████| 9/9 [00:00<00:00, 118.58it/s, loss=1.98]\n"
          ]
        },
        {
          "name": "stdout",
          "output_type": "stream",
          "text": [
            "Epoch [1328/3000]: Train loss: 1.7921, Valid loss: 2.2658\n"
          ]
        },
        {
          "name": "stderr",
          "output_type": "stream",
          "text": [
            "Epoch [1329/3000]: 100%|██████████| 9/9 [00:00<00:00, 114.11it/s, loss=1.61]"
          ]
        },
        {
          "name": "stdout",
          "output_type": "stream",
          "text": [
            "Epoch [1329/3000]: Train loss: 1.7690, Valid loss: 1.6978"
          ]
        },
        {
          "name": "stderr",
          "output_type": "stream",
          "text": [
            "\n"
          ]
        },
        {
          "name": "stdout",
          "output_type": "stream",
          "text": [
            "\n"
          ]
        },
        {
          "name": "stderr",
          "output_type": "stream",
          "text": [
            "Epoch [1330/3000]: 100%|██████████| 9/9 [00:00<00:00, 144.10it/s, loss=1.63]\n"
          ]
        },
        {
          "name": "stdout",
          "output_type": "stream",
          "text": [
            "Epoch [1330/3000]: Train loss: 1.7700, Valid loss: 2.2109\n"
          ]
        },
        {
          "name": "stderr",
          "output_type": "stream",
          "text": [
            "Epoch [1331/3000]: 100%|██████████| 9/9 [00:00<00:00, 108.07it/s, loss=1.65]\n"
          ]
        },
        {
          "name": "stdout",
          "output_type": "stream",
          "text": [
            "Epoch [1331/3000]: Train loss: 1.7723, Valid loss: 1.9619\n"
          ]
        },
        {
          "name": "stderr",
          "output_type": "stream",
          "text": [
            "Epoch [1332/3000]: 100%|██████████| 9/9 [00:00<00:00, 108.53it/s, loss=1.39]\n"
          ]
        },
        {
          "name": "stdout",
          "output_type": "stream",
          "text": [
            "Epoch [1332/3000]: Train loss: 1.7532, Valid loss: 1.9885\n"
          ]
        },
        {
          "name": "stderr",
          "output_type": "stream",
          "text": [
            "Epoch [1333/3000]: 100%|██████████| 9/9 [00:00<00:00, 123.49it/s, loss=1.49]\n"
          ]
        },
        {
          "name": "stdout",
          "output_type": "stream",
          "text": [
            "Epoch [1333/3000]: Train loss: 1.7582, Valid loss: 2.0571\n"
          ]
        },
        {
          "name": "stderr",
          "output_type": "stream",
          "text": [
            "Epoch [1334/3000]: 100%|██████████| 9/9 [00:00<00:00, 123.56it/s, loss=1.61]"
          ]
        },
        {
          "name": "stdout",
          "output_type": "stream",
          "text": [
            "Epoch [1334/3000]: Train loss: 1.7670, Valid loss: 1.6937"
          ]
        },
        {
          "name": "stderr",
          "output_type": "stream",
          "text": [
            "\n"
          ]
        },
        {
          "name": "stdout",
          "output_type": "stream",
          "text": [
            "\n"
          ]
        },
        {
          "name": "stderr",
          "output_type": "stream",
          "text": [
            "Epoch [1335/3000]: 100%|██████████| 9/9 [00:00<00:00, 127.70it/s, loss=1.73]\n"
          ]
        },
        {
          "name": "stdout",
          "output_type": "stream",
          "text": [
            "Epoch [1335/3000]: Train loss: 1.7735, Valid loss: 1.8935\n"
          ]
        },
        {
          "name": "stderr",
          "output_type": "stream",
          "text": [
            "Epoch [1336/3000]: 100%|██████████| 9/9 [00:00<00:00, 139.12it/s, loss=1.33]\n"
          ]
        },
        {
          "name": "stdout",
          "output_type": "stream",
          "text": [
            "Epoch [1336/3000]: Train loss: 1.7490, Valid loss: 2.2695\n"
          ]
        },
        {
          "name": "stderr",
          "output_type": "stream",
          "text": [
            "Epoch [1337/3000]: 100%|██████████| 9/9 [00:00<00:00, 115.10it/s, loss=1.65]\n"
          ]
        },
        {
          "name": "stdout",
          "output_type": "stream",
          "text": [
            "Epoch [1337/3000]: Train loss: 1.7700, Valid loss: 1.9829\n"
          ]
        },
        {
          "name": "stderr",
          "output_type": "stream",
          "text": [
            "Epoch [1338/3000]: 100%|██████████| 9/9 [00:00<00:00, 121.16it/s, loss=1.83]\n"
          ]
        },
        {
          "name": "stdout",
          "output_type": "stream",
          "text": [
            "Epoch [1338/3000]: Train loss: 1.7807, Valid loss: 2.0137\n"
          ]
        },
        {
          "name": "stderr",
          "output_type": "stream",
          "text": [
            "Epoch [1339/3000]: 100%|██████████| 9/9 [00:00<00:00, 119.83it/s, loss=1.51]\n"
          ]
        },
        {
          "name": "stdout",
          "output_type": "stream",
          "text": [
            "Epoch [1339/3000]: Train loss: 1.7583, Valid loss: 1.8115\n"
          ]
        },
        {
          "name": "stderr",
          "output_type": "stream",
          "text": [
            "Epoch [1340/3000]: 100%|██████████| 9/9 [00:00<00:00, 129.39it/s, loss=1.84]\n"
          ]
        },
        {
          "name": "stdout",
          "output_type": "stream",
          "text": [
            "Epoch [1340/3000]: Train loss: 1.7801, Valid loss: 1.9106\n"
          ]
        },
        {
          "name": "stderr",
          "output_type": "stream",
          "text": [
            "Epoch [1341/3000]: 100%|██████████| 9/9 [00:00<00:00, 120.73it/s, loss=2.02]\n"
          ]
        },
        {
          "name": "stdout",
          "output_type": "stream",
          "text": [
            "Epoch [1341/3000]: Train loss: 1.7914, Valid loss: 1.8746\n"
          ]
        },
        {
          "name": "stderr",
          "output_type": "stream",
          "text": [
            "Epoch [1342/3000]: 100%|██████████| 9/9 [00:00<00:00, 117.62it/s, loss=1.53]\n"
          ]
        },
        {
          "name": "stdout",
          "output_type": "stream",
          "text": [
            "Epoch [1342/3000]: Train loss: 1.7615, Valid loss: 1.6441\n"
          ]
        },
        {
          "name": "stderr",
          "output_type": "stream",
          "text": [
            "Epoch [1343/3000]: 100%|██████████| 9/9 [00:00<00:00, 98.69it/s, loss=1.66]\n"
          ]
        },
        {
          "name": "stdout",
          "output_type": "stream",
          "text": [
            "Epoch [1343/3000]: Train loss: 1.7683, Valid loss: 1.8523\n"
          ]
        },
        {
          "name": "stderr",
          "output_type": "stream",
          "text": [
            "Epoch [1344/3000]: 100%|██████████| 9/9 [00:00<00:00, 123.63it/s, loss=1.52]\n"
          ]
        },
        {
          "name": "stdout",
          "output_type": "stream",
          "text": [
            "Epoch [1344/3000]: Train loss: 1.7584, Valid loss: 1.9591\n"
          ]
        },
        {
          "name": "stderr",
          "output_type": "stream",
          "text": [
            "Epoch [1345/3000]: 100%|██████████| 9/9 [00:00<00:00, 107.90it/s, loss=1.41]\n"
          ]
        },
        {
          "name": "stdout",
          "output_type": "stream",
          "text": [
            "Epoch [1345/3000]: Train loss: 1.7532, Valid loss: 2.0731\n"
          ]
        },
        {
          "name": "stderr",
          "output_type": "stream",
          "text": [
            "Epoch [1346/3000]: 100%|██████████| 9/9 [00:00<00:00, 120.26it/s, loss=1.55]\n"
          ]
        },
        {
          "name": "stdout",
          "output_type": "stream",
          "text": [
            "Epoch [1346/3000]: Train loss: 1.7626, Valid loss: 1.9323\n"
          ]
        },
        {
          "name": "stderr",
          "output_type": "stream",
          "text": [
            "Epoch [1347/3000]: 100%|██████████| 9/9 [00:00<00:00, 91.05it/s, loss=1.43]\n"
          ]
        },
        {
          "name": "stdout",
          "output_type": "stream",
          "text": [
            "Epoch [1347/3000]: Train loss: 1.7516, Valid loss: 2.0189\n"
          ]
        },
        {
          "name": "stderr",
          "output_type": "stream",
          "text": [
            "Epoch [1348/3000]: 100%|██████████| 9/9 [00:00<00:00, 107.95it/s, loss=2.03]\n"
          ]
        },
        {
          "name": "stdout",
          "output_type": "stream",
          "text": [
            "Epoch [1348/3000]: Train loss: 1.7901, Valid loss: 1.7147\n"
          ]
        },
        {
          "name": "stderr",
          "output_type": "stream",
          "text": [
            "Epoch [1349/3000]: 100%|██████████| 9/9 [00:00<00:00, 104.69it/s, loss=1.6]\n"
          ]
        },
        {
          "name": "stdout",
          "output_type": "stream",
          "text": [
            "Epoch [1349/3000]: Train loss: 1.7642, Valid loss: 2.4050\n"
          ]
        },
        {
          "name": "stderr",
          "output_type": "stream",
          "text": [
            "Epoch [1350/3000]: 100%|██████████| 9/9 [00:00<00:00, 118.55it/s, loss=2.03]\n"
          ]
        },
        {
          "name": "stdout",
          "output_type": "stream",
          "text": [
            "Epoch [1350/3000]: Train loss: 1.7888, Valid loss: 1.7950\n"
          ]
        },
        {
          "name": "stderr",
          "output_type": "stream",
          "text": [
            "Epoch [1351/3000]: 100%|██████████| 9/9 [00:00<00:00, 108.23it/s, loss=1.56]\n"
          ]
        },
        {
          "name": "stdout",
          "output_type": "stream",
          "text": [
            "Epoch [1351/3000]: Train loss: 1.7627, Valid loss: 2.1520\n"
          ]
        },
        {
          "name": "stderr",
          "output_type": "stream",
          "text": [
            "Epoch [1352/3000]: 100%|██████████| 9/9 [00:00<00:00, 109.56it/s, loss=1.71]\n"
          ]
        },
        {
          "name": "stdout",
          "output_type": "stream",
          "text": [
            "Epoch [1352/3000]: Train loss: 1.7679, Valid loss: 1.8378\n"
          ]
        },
        {
          "name": "stderr",
          "output_type": "stream",
          "text": [
            "Epoch [1353/3000]: 100%|██████████| 9/9 [00:00<00:00, 69.96it/s, loss=2.24]\n"
          ]
        },
        {
          "name": "stdout",
          "output_type": "stream",
          "text": [
            "Epoch [1353/3000]: Train loss: 1.7998, Valid loss: 2.3104\n"
          ]
        },
        {
          "name": "stderr",
          "output_type": "stream",
          "text": [
            "Epoch [1354/3000]: 100%|██████████| 9/9 [00:00<00:00, 110.57it/s, loss=1.55]\n"
          ]
        },
        {
          "name": "stdout",
          "output_type": "stream",
          "text": [
            "Epoch [1354/3000]: Train loss: 1.7569, Valid loss: 2.3077\n"
          ]
        },
        {
          "name": "stderr",
          "output_type": "stream",
          "text": [
            "Epoch [1355/3000]: 100%|██████████| 9/9 [00:00<00:00, 115.22it/s, loss=2.17]\n"
          ]
        },
        {
          "name": "stdout",
          "output_type": "stream",
          "text": [
            "Epoch [1355/3000]: Train loss: 1.7963, Valid loss: 1.7819\n"
          ]
        },
        {
          "name": "stderr",
          "output_type": "stream",
          "text": [
            "Epoch [1356/3000]: 100%|██████████| 9/9 [00:00<00:00, 119.82it/s, loss=1.72]\n"
          ]
        },
        {
          "name": "stdout",
          "output_type": "stream",
          "text": [
            "Epoch [1356/3000]: Train loss: 1.7697, Valid loss: 1.9003\n"
          ]
        },
        {
          "name": "stderr",
          "output_type": "stream",
          "text": [
            "Epoch [1357/3000]: 100%|██████████| 9/9 [00:00<00:00, 124.35it/s, loss=2.47]\n"
          ]
        },
        {
          "name": "stdout",
          "output_type": "stream",
          "text": [
            "Epoch [1357/3000]: Train loss: 1.8126, Valid loss: 2.0186\n"
          ]
        },
        {
          "name": "stderr",
          "output_type": "stream",
          "text": [
            "Epoch [1358/3000]: 100%|██████████| 9/9 [00:00<00:00, 103.98it/s, loss=1.5]\n"
          ]
        },
        {
          "name": "stdout",
          "output_type": "stream",
          "text": [
            "Epoch [1358/3000]: Train loss: 1.7518, Valid loss: 1.8920\n"
          ]
        },
        {
          "name": "stderr",
          "output_type": "stream",
          "text": [
            "Epoch [1359/3000]: 100%|██████████| 9/9 [00:00<00:00, 113.68it/s, loss=1.53]\n"
          ]
        },
        {
          "name": "stdout",
          "output_type": "stream",
          "text": [
            "Epoch [1359/3000]: Train loss: 1.7566, Valid loss: 1.7148\n"
          ]
        },
        {
          "name": "stderr",
          "output_type": "stream",
          "text": [
            "Epoch [1360/3000]: 100%|██████████| 9/9 [00:00<00:00, 109.49it/s, loss=1.51]\n"
          ]
        },
        {
          "name": "stdout",
          "output_type": "stream",
          "text": [
            "Epoch [1360/3000]: Train loss: 1.7524, Valid loss: 1.9766\n"
          ]
        },
        {
          "name": "stderr",
          "output_type": "stream",
          "text": [
            "Epoch [1361/3000]: 100%|██████████| 9/9 [00:00<00:00, 110.19it/s, loss=2.03]\n"
          ]
        },
        {
          "name": "stdout",
          "output_type": "stream",
          "text": [
            "Epoch [1361/3000]: Train loss: 1.7834, Valid loss: 2.1043\n"
          ]
        },
        {
          "name": "stderr",
          "output_type": "stream",
          "text": [
            "Epoch [1362/3000]: 100%|██████████| 9/9 [00:00<00:00, 102.36it/s, loss=1.94]\n"
          ]
        },
        {
          "name": "stdout",
          "output_type": "stream",
          "text": [
            "Epoch [1362/3000]: Train loss: 1.7779, Valid loss: 2.2049\n"
          ]
        },
        {
          "name": "stderr",
          "output_type": "stream",
          "text": [
            "Epoch [1363/3000]: 100%|██████████| 9/9 [00:00<00:00, 110.19it/s, loss=1.9]\n"
          ]
        },
        {
          "name": "stdout",
          "output_type": "stream",
          "text": [
            "Epoch [1363/3000]: Train loss: 1.7745, Valid loss: 1.8404\n"
          ]
        },
        {
          "name": "stderr",
          "output_type": "stream",
          "text": [
            "Epoch [1364/3000]: 100%|██████████| 9/9 [00:00<00:00, 108.24it/s, loss=1.46]\n"
          ]
        },
        {
          "name": "stdout",
          "output_type": "stream",
          "text": [
            "Epoch [1364/3000]: Train loss: 1.7489, Valid loss: 1.9285\n"
          ]
        },
        {
          "name": "stderr",
          "output_type": "stream",
          "text": [
            "Epoch [1365/3000]: 100%|██████████| 9/9 [00:00<00:00, 109.40it/s, loss=1.94]\n"
          ]
        },
        {
          "name": "stdout",
          "output_type": "stream",
          "text": [
            "Epoch [1365/3000]: Train loss: 1.7797, Valid loss: 2.4757\n"
          ]
        },
        {
          "name": "stderr",
          "output_type": "stream",
          "text": [
            "Epoch [1366/3000]: 100%|██████████| 9/9 [00:00<00:00, 105.38it/s, loss=1.47]\n"
          ]
        },
        {
          "name": "stdout",
          "output_type": "stream",
          "text": [
            "Epoch [1366/3000]: Train loss: 1.7520, Valid loss: 2.2433\n"
          ]
        },
        {
          "name": "stderr",
          "output_type": "stream",
          "text": [
            "Epoch [1367/3000]: 100%|██████████| 9/9 [00:00<00:00, 116.41it/s, loss=2.09]\n"
          ]
        },
        {
          "name": "stdout",
          "output_type": "stream",
          "text": [
            "Epoch [1367/3000]: Train loss: 1.7867, Valid loss: 1.8169\n"
          ]
        },
        {
          "name": "stderr",
          "output_type": "stream",
          "text": [
            "Epoch [1368/3000]: 100%|██████████| 9/9 [00:00<00:00, 31.16it/s, loss=1.32]\n"
          ]
        },
        {
          "name": "stdout",
          "output_type": "stream",
          "text": [
            "Epoch [1368/3000]: Train loss: 1.7378, Valid loss: 1.6728\n"
          ]
        },
        {
          "name": "stderr",
          "output_type": "stream",
          "text": [
            "Epoch [1369/3000]: 100%|██████████| 9/9 [00:00<00:00, 95.99it/s, loss=1.67]\n"
          ]
        },
        {
          "name": "stdout",
          "output_type": "stream",
          "text": [
            "Epoch [1369/3000]: Train loss: 1.7587, Valid loss: 1.9884\n"
          ]
        },
        {
          "name": "stderr",
          "output_type": "stream",
          "text": [
            "Epoch [1370/3000]: 100%|██████████| 9/9 [00:00<00:00, 104.61it/s, loss=1.51]\n"
          ]
        },
        {
          "name": "stdout",
          "output_type": "stream",
          "text": [
            "Epoch [1370/3000]: Train loss: 1.7519, Valid loss: 2.1154\n"
          ]
        },
        {
          "name": "stderr",
          "output_type": "stream",
          "text": [
            "Epoch [1371/3000]: 100%|██████████| 9/9 [00:00<00:00, 111.32it/s, loss=1.97]\n"
          ]
        },
        {
          "name": "stdout",
          "output_type": "stream",
          "text": [
            "Epoch [1371/3000]: Train loss: 1.7788, Valid loss: 1.8028\n"
          ]
        },
        {
          "name": "stderr",
          "output_type": "stream",
          "text": [
            "Epoch [1372/3000]: 100%|██████████| 9/9 [00:00<00:00, 106.80it/s, loss=1.8]\n"
          ]
        },
        {
          "name": "stdout",
          "output_type": "stream",
          "text": [
            "Epoch [1372/3000]: Train loss: 1.7676, Valid loss: 1.8256\n"
          ]
        },
        {
          "name": "stderr",
          "output_type": "stream",
          "text": [
            "Epoch [1373/3000]: 100%|██████████| 9/9 [00:00<00:00, 117.79it/s, loss=1.92]\n"
          ]
        },
        {
          "name": "stdout",
          "output_type": "stream",
          "text": [
            "Epoch [1373/3000]: Train loss: 1.7751, Valid loss: 1.7730\n"
          ]
        },
        {
          "name": "stderr",
          "output_type": "stream",
          "text": [
            "Epoch [1374/3000]: 100%|██████████| 9/9 [00:00<00:00, 109.30it/s, loss=1.83]\n"
          ]
        },
        {
          "name": "stdout",
          "output_type": "stream",
          "text": [
            "Epoch [1374/3000]: Train loss: 1.7676, Valid loss: 2.1549\n"
          ]
        },
        {
          "name": "stderr",
          "output_type": "stream",
          "text": [
            "Epoch [1375/3000]: 100%|██████████| 9/9 [00:00<00:00, 105.71it/s, loss=1.66]\n"
          ]
        },
        {
          "name": "stdout",
          "output_type": "stream",
          "text": [
            "Epoch [1375/3000]: Train loss: 1.7560, Valid loss: 1.8499\n"
          ]
        },
        {
          "name": "stderr",
          "output_type": "stream",
          "text": [
            "Epoch [1376/3000]: 100%|██████████| 9/9 [00:00<00:00, 109.20it/s, loss=1.37]\n"
          ]
        },
        {
          "name": "stdout",
          "output_type": "stream",
          "text": [
            "Epoch [1376/3000]: Train loss: 1.7377, Valid loss: 1.6815\n"
          ]
        },
        {
          "name": "stderr",
          "output_type": "stream",
          "text": [
            "Epoch [1377/3000]: 100%|██████████| 9/9 [00:00<00:00, 108.52it/s, loss=1.99]\n"
          ]
        },
        {
          "name": "stdout",
          "output_type": "stream",
          "text": [
            "Epoch [1377/3000]: Train loss: 1.7783, Valid loss: 1.9503\n"
          ]
        },
        {
          "name": "stderr",
          "output_type": "stream",
          "text": [
            "Epoch [1378/3000]: 100%|██████████| 9/9 [00:00<00:00, 101.22it/s, loss=1.72]\n"
          ]
        },
        {
          "name": "stdout",
          "output_type": "stream",
          "text": [
            "Epoch [1378/3000]: Train loss: 1.7591, Valid loss: 1.8727\n"
          ]
        },
        {
          "name": "stderr",
          "output_type": "stream",
          "text": [
            "Epoch [1379/3000]: 100%|██████████| 9/9 [00:00<00:00, 104.92it/s, loss=1.53]\n"
          ]
        },
        {
          "name": "stdout",
          "output_type": "stream",
          "text": [
            "Epoch [1379/3000]: Train loss: 1.7505, Valid loss: 1.9873\n"
          ]
        },
        {
          "name": "stderr",
          "output_type": "stream",
          "text": [
            "Epoch [1380/3000]: 100%|██████████| 9/9 [00:00<00:00, 108.00it/s, loss=1.93]\n"
          ]
        },
        {
          "name": "stdout",
          "output_type": "stream",
          "text": [
            "Epoch [1380/3000]: Train loss: 1.7769, Valid loss: 1.7784\n"
          ]
        },
        {
          "name": "stderr",
          "output_type": "stream",
          "text": [
            "Epoch [1381/3000]: 100%|██████████| 9/9 [00:00<00:00, 109.75it/s, loss=2.06]\n"
          ]
        },
        {
          "name": "stdout",
          "output_type": "stream",
          "text": [
            "Epoch [1381/3000]: Train loss: 1.7767, Valid loss: 2.1072\n"
          ]
        },
        {
          "name": "stderr",
          "output_type": "stream",
          "text": [
            "Epoch [1382/3000]: 100%|██████████| 9/9 [00:00<00:00, 103.95it/s, loss=1.76]\n"
          ]
        },
        {
          "name": "stdout",
          "output_type": "stream",
          "text": [
            "Epoch [1382/3000]: Train loss: 1.7603, Valid loss: 1.9370\n"
          ]
        },
        {
          "name": "stderr",
          "output_type": "stream",
          "text": [
            "Epoch [1383/3000]: 100%|██████████| 9/9 [00:00<00:00, 100.11it/s, loss=1.46]\n"
          ]
        },
        {
          "name": "stdout",
          "output_type": "stream",
          "text": [
            "Epoch [1383/3000]: Train loss: 1.7420, Valid loss: 2.0595\n"
          ]
        },
        {
          "name": "stderr",
          "output_type": "stream",
          "text": [
            "Epoch [1384/3000]: 100%|██████████| 9/9 [00:00<00:00, 103.29it/s, loss=1.53]\n"
          ]
        },
        {
          "name": "stdout",
          "output_type": "stream",
          "text": [
            "Epoch [1384/3000]: Train loss: 1.7481, Valid loss: 2.1484\n"
          ]
        },
        {
          "name": "stderr",
          "output_type": "stream",
          "text": [
            "Epoch [1385/3000]: 100%|██████████| 9/9 [00:00<00:00, 83.03it/s, loss=1.31]\n"
          ]
        },
        {
          "name": "stdout",
          "output_type": "stream",
          "text": [
            "Epoch [1385/3000]: Train loss: 1.7365, Valid loss: 2.0556\n"
          ]
        },
        {
          "name": "stderr",
          "output_type": "stream",
          "text": [
            "Epoch [1386/3000]: 100%|██████████| 9/9 [00:00<00:00, 93.30it/s, loss=1.76]\n"
          ]
        },
        {
          "name": "stdout",
          "output_type": "stream",
          "text": [
            "Epoch [1386/3000]: Train loss: 1.7612, Valid loss: 1.6716\n"
          ]
        },
        {
          "name": "stderr",
          "output_type": "stream",
          "text": [
            "Epoch [1387/3000]: 100%|██████████| 9/9 [00:00<00:00, 96.85it/s, loss=1.59]\n"
          ]
        },
        {
          "name": "stdout",
          "output_type": "stream",
          "text": [
            "Epoch [1387/3000]: Train loss: 1.7512, Valid loss: 2.1969\n"
          ]
        },
        {
          "name": "stderr",
          "output_type": "stream",
          "text": [
            "Epoch [1388/3000]: 100%|██████████| 9/9 [00:00<00:00, 102.41it/s, loss=1.83]\n"
          ]
        },
        {
          "name": "stdout",
          "output_type": "stream",
          "text": [
            "Epoch [1388/3000]: Train loss: 1.7655, Valid loss: 1.9504\n"
          ]
        },
        {
          "name": "stderr",
          "output_type": "stream",
          "text": [
            "Epoch [1389/3000]: 100%|██████████| 9/9 [00:00<00:00, 95.90it/s, loss=2.12]\n"
          ]
        },
        {
          "name": "stdout",
          "output_type": "stream",
          "text": [
            "Epoch [1389/3000]: Train loss: 1.7803, Valid loss: 2.1782\n"
          ]
        },
        {
          "name": "stderr",
          "output_type": "stream",
          "text": [
            "Epoch [1390/3000]: 100%|██████████| 9/9 [00:00<00:00, 83.50it/s, loss=1.93]\n"
          ]
        },
        {
          "name": "stdout",
          "output_type": "stream",
          "text": [
            "Epoch [1390/3000]: Train loss: 1.7693, Valid loss: 1.8290\n"
          ]
        },
        {
          "name": "stderr",
          "output_type": "stream",
          "text": [
            "Epoch [1391/3000]: 100%|██████████| 9/9 [00:00<00:00, 107.14it/s, loss=1.88]\n"
          ]
        },
        {
          "name": "stdout",
          "output_type": "stream",
          "text": [
            "Epoch [1391/3000]: Train loss: 1.7648, Valid loss: 1.7466\n"
          ]
        },
        {
          "name": "stderr",
          "output_type": "stream",
          "text": [
            "Epoch [1392/3000]: 100%|██████████| 9/9 [00:00<00:00, 115.33it/s, loss=1.9]\n"
          ]
        },
        {
          "name": "stdout",
          "output_type": "stream",
          "text": [
            "Epoch [1392/3000]: Train loss: 1.7667, Valid loss: 1.7940\n"
          ]
        },
        {
          "name": "stderr",
          "output_type": "stream",
          "text": [
            "Epoch [1393/3000]: 100%|██████████| 9/9 [00:00<00:00, 112.76it/s, loss=2.16]\n"
          ]
        },
        {
          "name": "stdout",
          "output_type": "stream",
          "text": [
            "Epoch [1393/3000]: Train loss: 1.7822, Valid loss: 1.9159\n"
          ]
        },
        {
          "name": "stderr",
          "output_type": "stream",
          "text": [
            "Epoch [1394/3000]: 100%|██████████| 9/9 [00:00<00:00, 107.62it/s, loss=1.67]\n"
          ]
        },
        {
          "name": "stdout",
          "output_type": "stream",
          "text": [
            "Epoch [1394/3000]: Train loss: 1.7524, Valid loss: 2.0086\n"
          ]
        },
        {
          "name": "stderr",
          "output_type": "stream",
          "text": [
            "Epoch [1395/3000]: 100%|██████████| 9/9 [00:00<00:00, 100.76it/s, loss=1.71]\n"
          ]
        },
        {
          "name": "stdout",
          "output_type": "stream",
          "text": [
            "Epoch [1395/3000]: Train loss: 1.7539, Valid loss: 1.9982\n"
          ]
        },
        {
          "name": "stderr",
          "output_type": "stream",
          "text": [
            "Epoch [1396/3000]: 100%|██████████| 9/9 [00:00<00:00, 122.65it/s, loss=1.83]\n"
          ]
        },
        {
          "name": "stdout",
          "output_type": "stream",
          "text": [
            "Epoch [1396/3000]: Train loss: 1.7640, Valid loss: 1.7305\n"
          ]
        },
        {
          "name": "stderr",
          "output_type": "stream",
          "text": [
            "Epoch [1397/3000]: 100%|██████████| 9/9 [00:00<00:00, 109.26it/s, loss=1.88]\n"
          ]
        },
        {
          "name": "stdout",
          "output_type": "stream",
          "text": [
            "Epoch [1397/3000]: Train loss: 1.7679, Valid loss: 1.9763\n"
          ]
        },
        {
          "name": "stderr",
          "output_type": "stream",
          "text": [
            "Epoch [1398/3000]: 100%|██████████| 9/9 [00:00<00:00, 114.86it/s, loss=1.4]\n"
          ]
        },
        {
          "name": "stdout",
          "output_type": "stream",
          "text": [
            "Epoch [1398/3000]: Train loss: 1.7338, Valid loss: 1.9578\n"
          ]
        },
        {
          "name": "stderr",
          "output_type": "stream",
          "text": [
            "Epoch [1399/3000]: 100%|██████████| 9/9 [00:00<00:00, 107.32it/s, loss=1.45]\n"
          ]
        },
        {
          "name": "stdout",
          "output_type": "stream",
          "text": [
            "Epoch [1399/3000]: Train loss: 1.7383, Valid loss: 2.1506\n"
          ]
        },
        {
          "name": "stderr",
          "output_type": "stream",
          "text": [
            "Epoch [1400/3000]: 100%|██████████| 9/9 [00:00<00:00, 120.88it/s, loss=2.06]\n"
          ]
        },
        {
          "name": "stdout",
          "output_type": "stream",
          "text": [
            "Epoch [1400/3000]: Train loss: 1.7742, Valid loss: 1.9626\n"
          ]
        },
        {
          "name": "stderr",
          "output_type": "stream",
          "text": [
            "Epoch [1401/3000]: 100%|██████████| 9/9 [00:00<00:00, 115.61it/s, loss=1.7]"
          ]
        },
        {
          "name": "stdout",
          "output_type": "stream",
          "text": [
            "Epoch [1401/3000]: Train loss: 1.7503, Valid loss: 1.7058"
          ]
        },
        {
          "name": "stderr",
          "output_type": "stream",
          "text": [
            "\n"
          ]
        },
        {
          "name": "stdout",
          "output_type": "stream",
          "text": [
            "\n"
          ]
        },
        {
          "name": "stderr",
          "output_type": "stream",
          "text": [
            "Epoch [1402/3000]: 100%|██████████| 9/9 [00:00<00:00, 115.19it/s, loss=2.13]\n"
          ]
        },
        {
          "name": "stdout",
          "output_type": "stream",
          "text": [
            "Epoch [1402/3000]: Train loss: 1.7860, Valid loss: 2.5607\n"
          ]
        },
        {
          "name": "stderr",
          "output_type": "stream",
          "text": [
            "Epoch [1403/3000]: 100%|██████████| 9/9 [00:00<00:00, 108.93it/s, loss=1.38]"
          ]
        },
        {
          "name": "stdout",
          "output_type": "stream",
          "text": [
            "Epoch [1403/3000]: Train loss: 1.7370, Valid loss: 1.6588"
          ]
        },
        {
          "name": "stderr",
          "output_type": "stream",
          "text": [
            "\n"
          ]
        },
        {
          "name": "stdout",
          "output_type": "stream",
          "text": [
            "\n"
          ]
        },
        {
          "name": "stderr",
          "output_type": "stream",
          "text": [
            "Epoch [1404/3000]: 100%|██████████| 9/9 [00:00<00:00, 103.54it/s, loss=1.8]\n"
          ]
        },
        {
          "name": "stdout",
          "output_type": "stream",
          "text": [
            "Epoch [1404/3000]: Train loss: 1.7591, Valid loss: 2.1940\n"
          ]
        },
        {
          "name": "stderr",
          "output_type": "stream",
          "text": [
            "Epoch [1405/3000]: 100%|██████████| 9/9 [00:00<00:00, 108.90it/s, loss=1.61]\n"
          ]
        },
        {
          "name": "stdout",
          "output_type": "stream",
          "text": [
            "Epoch [1405/3000]: Train loss: 1.7499, Valid loss: 2.2731\n"
          ]
        },
        {
          "name": "stderr",
          "output_type": "stream",
          "text": [
            "Epoch [1406/3000]: 100%|██████████| 9/9 [00:00<00:00, 117.85it/s, loss=1.98]\n"
          ]
        },
        {
          "name": "stdout",
          "output_type": "stream",
          "text": [
            "Epoch [1406/3000]: Train loss: 1.7704, Valid loss: 2.1127\n"
          ]
        },
        {
          "name": "stderr",
          "output_type": "stream",
          "text": [
            "Epoch [1407/3000]: 100%|██████████| 9/9 [00:00<00:00, 107.37it/s, loss=1.83]\n"
          ]
        },
        {
          "name": "stdout",
          "output_type": "stream",
          "text": [
            "Epoch [1407/3000]: Train loss: 1.7595, Valid loss: 1.9933\n"
          ]
        },
        {
          "name": "stderr",
          "output_type": "stream",
          "text": [
            "Epoch [1408/3000]: 100%|██████████| 9/9 [00:00<00:00, 60.16it/s, loss=1.28]\n"
          ]
        },
        {
          "name": "stdout",
          "output_type": "stream",
          "text": [
            "Epoch [1408/3000]: Train loss: 1.7219, Valid loss: 1.8145\n"
          ]
        },
        {
          "name": "stderr",
          "output_type": "stream",
          "text": [
            "Epoch [1409/3000]: 100%|██████████| 9/9 [00:00<00:00, 114.21it/s, loss=1.53]\n"
          ]
        },
        {
          "name": "stdout",
          "output_type": "stream",
          "text": [
            "Epoch [1409/3000]: Train loss: 1.7396, Valid loss: 2.0722\n"
          ]
        },
        {
          "name": "stderr",
          "output_type": "stream",
          "text": [
            "Epoch [1410/3000]: 100%|██████████| 9/9 [00:00<00:00, 107.50it/s, loss=1.8]\n"
          ]
        },
        {
          "name": "stdout",
          "output_type": "stream",
          "text": [
            "Epoch [1410/3000]: Train loss: 1.7550, Valid loss: 1.7992\n"
          ]
        },
        {
          "name": "stderr",
          "output_type": "stream",
          "text": [
            "Epoch [1411/3000]: 100%|██████████| 9/9 [00:00<00:00, 105.45it/s, loss=1.18]\n"
          ]
        },
        {
          "name": "stdout",
          "output_type": "stream",
          "text": [
            "Epoch [1411/3000]: Train loss: 1.7162, Valid loss: 1.6550\n"
          ]
        },
        {
          "name": "stderr",
          "output_type": "stream",
          "text": [
            "Epoch [1412/3000]: 100%|██████████| 9/9 [00:00<00:00, 114.64it/s, loss=1.73]\n"
          ]
        },
        {
          "name": "stdout",
          "output_type": "stream",
          "text": [
            "Epoch [1412/3000]: Train loss: 1.7506, Valid loss: 2.2550\n"
          ]
        },
        {
          "name": "stderr",
          "output_type": "stream",
          "text": [
            "Epoch [1413/3000]: 100%|██████████| 9/9 [00:00<00:00, 108.18it/s, loss=1.93]\n"
          ]
        },
        {
          "name": "stdout",
          "output_type": "stream",
          "text": [
            "Epoch [1413/3000]: Train loss: 1.7650, Valid loss: 1.9655\n"
          ]
        },
        {
          "name": "stderr",
          "output_type": "stream",
          "text": [
            "Epoch [1414/3000]: 100%|██████████| 9/9 [00:00<00:00, 104.01it/s, loss=2.32]\n"
          ]
        },
        {
          "name": "stdout",
          "output_type": "stream",
          "text": [
            "Epoch [1414/3000]: Train loss: 1.7882, Valid loss: 2.2735\n"
          ]
        },
        {
          "name": "stderr",
          "output_type": "stream",
          "text": [
            "Epoch [1415/3000]: 100%|██████████| 9/9 [00:00<00:00, 87.51it/s, loss=1.44]\n"
          ]
        },
        {
          "name": "stdout",
          "output_type": "stream",
          "text": [
            "Epoch [1415/3000]: Train loss: 1.7310, Valid loss: 1.9247\n"
          ]
        },
        {
          "name": "stderr",
          "output_type": "stream",
          "text": [
            "Epoch [1416/3000]: 100%|██████████| 9/9 [00:00<00:00, 101.58it/s, loss=1.68]\n"
          ]
        },
        {
          "name": "stdout",
          "output_type": "stream",
          "text": [
            "Epoch [1416/3000]: Train loss: 1.7466, Valid loss: 2.1668\n"
          ]
        },
        {
          "name": "stderr",
          "output_type": "stream",
          "text": [
            "Epoch [1417/3000]: 100%|██████████| 9/9 [00:00<00:00, 60.90it/s, loss=1.83]\n"
          ]
        },
        {
          "name": "stdout",
          "output_type": "stream",
          "text": [
            "Epoch [1417/3000]: Train loss: 1.7609, Valid loss: 1.9548\n"
          ]
        },
        {
          "name": "stderr",
          "output_type": "stream",
          "text": [
            "Epoch [1418/3000]: 100%|██████████| 9/9 [00:00<00:00, 109.87it/s, loss=2.2]\n"
          ]
        },
        {
          "name": "stdout",
          "output_type": "stream",
          "text": [
            "Epoch [1418/3000]: Train loss: 1.7797, Valid loss: 2.0418\n"
          ]
        },
        {
          "name": "stderr",
          "output_type": "stream",
          "text": [
            "Epoch [1419/3000]: 100%|██████████| 9/9 [00:00<00:00, 106.86it/s, loss=1.4]\n"
          ]
        },
        {
          "name": "stdout",
          "output_type": "stream",
          "text": [
            "Epoch [1419/3000]: Train loss: 1.7265, Valid loss: 2.3156\n"
          ]
        },
        {
          "name": "stderr",
          "output_type": "stream",
          "text": [
            "Epoch [1420/3000]: 100%|██████████| 9/9 [00:00<00:00, 111.30it/s, loss=1.47]\n"
          ]
        },
        {
          "name": "stdout",
          "output_type": "stream",
          "text": [
            "Epoch [1420/3000]: Train loss: 1.7318, Valid loss: 1.9642\n"
          ]
        },
        {
          "name": "stderr",
          "output_type": "stream",
          "text": [
            "Epoch [1421/3000]: 100%|██████████| 9/9 [00:00<00:00, 116.47it/s, loss=1.25]\n"
          ]
        },
        {
          "name": "stdout",
          "output_type": "stream",
          "text": [
            "Epoch [1421/3000]: Train loss: 1.7179, Valid loss: 2.1063\n"
          ]
        },
        {
          "name": "stderr",
          "output_type": "stream",
          "text": [
            "Epoch [1422/3000]: 100%|██████████| 9/9 [00:00<00:00, 114.78it/s, loss=1.3]"
          ]
        },
        {
          "name": "stdout",
          "output_type": "stream",
          "text": [
            "Epoch [1422/3000]: Train loss: 1.7242, Valid loss: 2.1813"
          ]
        },
        {
          "name": "stderr",
          "output_type": "stream",
          "text": [
            "\n"
          ]
        },
        {
          "name": "stdout",
          "output_type": "stream",
          "text": [
            "\n"
          ]
        },
        {
          "name": "stderr",
          "output_type": "stream",
          "text": [
            "Epoch [1423/3000]: 100%|██████████| 9/9 [00:00<00:00, 104.11it/s, loss=1.5]\n"
          ]
        },
        {
          "name": "stdout",
          "output_type": "stream",
          "text": [
            "Epoch [1423/3000]: Train loss: 1.7349, Valid loss: 1.8589\n"
          ]
        },
        {
          "name": "stderr",
          "output_type": "stream",
          "text": [
            "Epoch [1424/3000]: 100%|██████████| 9/9 [00:00<00:00, 113.36it/s, loss=2.06]\n"
          ]
        },
        {
          "name": "stdout",
          "output_type": "stream",
          "text": [
            "Epoch [1424/3000]: Train loss: 1.7680, Valid loss: 1.8867\n"
          ]
        },
        {
          "name": "stderr",
          "output_type": "stream",
          "text": [
            "Epoch [1425/3000]: 100%|██████████| 9/9 [00:00<00:00, 111.48it/s, loss=1.66]\n"
          ]
        },
        {
          "name": "stdout",
          "output_type": "stream",
          "text": [
            "Epoch [1425/3000]: Train loss: 1.7429, Valid loss: 2.3926\n"
          ]
        },
        {
          "name": "stderr",
          "output_type": "stream",
          "text": [
            "Epoch [1426/3000]: 100%|██████████| 9/9 [00:00<00:00, 105.89it/s, loss=1.69]\n"
          ]
        },
        {
          "name": "stdout",
          "output_type": "stream",
          "text": [
            "Epoch [1426/3000]: Train loss: 1.7449, Valid loss: 2.0863\n"
          ]
        },
        {
          "name": "stderr",
          "output_type": "stream",
          "text": [
            "Epoch [1427/3000]: 100%|██████████| 9/9 [00:00<00:00, 67.12it/s, loss=1.81]\n"
          ]
        },
        {
          "name": "stdout",
          "output_type": "stream",
          "text": [
            "Epoch [1427/3000]: Train loss: 1.7501, Valid loss: 1.6931\n"
          ]
        },
        {
          "name": "stderr",
          "output_type": "stream",
          "text": [
            "Epoch [1428/3000]: 100%|██████████| 9/9 [00:00<00:00, 117.03it/s, loss=1.85]\n"
          ]
        },
        {
          "name": "stdout",
          "output_type": "stream",
          "text": [
            "Epoch [1428/3000]: Train loss: 1.7523, Valid loss: 1.7754\n"
          ]
        },
        {
          "name": "stderr",
          "output_type": "stream",
          "text": [
            "Epoch [1429/3000]: 100%|██████████| 9/9 [00:00<00:00, 99.86it/s, loss=2]\n"
          ]
        },
        {
          "name": "stdout",
          "output_type": "stream",
          "text": [
            "Epoch [1429/3000]: Train loss: 1.7642, Valid loss: 1.8340\n"
          ]
        },
        {
          "name": "stderr",
          "output_type": "stream",
          "text": [
            "Epoch [1430/3000]: 100%|██████████| 9/9 [00:00<00:00, 109.42it/s, loss=1.94]\n"
          ]
        },
        {
          "name": "stdout",
          "output_type": "stream",
          "text": [
            "Epoch [1430/3000]: Train loss: 1.7569, Valid loss: 2.1804\n"
          ]
        },
        {
          "name": "stderr",
          "output_type": "stream",
          "text": [
            "Epoch [1431/3000]: 100%|██████████| 9/9 [00:00<00:00, 112.53it/s, loss=1.77]\n"
          ]
        },
        {
          "name": "stdout",
          "output_type": "stream",
          "text": [
            "Epoch [1431/3000]: Train loss: 1.7465, Valid loss: 2.0032\n"
          ]
        },
        {
          "name": "stderr",
          "output_type": "stream",
          "text": [
            "Epoch [1432/3000]: 100%|██████████| 9/9 [00:00<00:00, 106.72it/s, loss=1.19]\n"
          ]
        },
        {
          "name": "stdout",
          "output_type": "stream",
          "text": [
            "Epoch [1432/3000]: Train loss: 1.7111, Valid loss: 1.8750\n"
          ]
        },
        {
          "name": "stderr",
          "output_type": "stream",
          "text": [
            "Epoch [1433/3000]: 100%|██████████| 9/9 [00:00<00:00, 116.58it/s, loss=1.5]\n"
          ]
        },
        {
          "name": "stdout",
          "output_type": "stream",
          "text": [
            "Epoch [1433/3000]: Train loss: 1.7298, Valid loss: 2.0483\n"
          ]
        },
        {
          "name": "stderr",
          "output_type": "stream",
          "text": [
            "Epoch [1434/3000]: 100%|██████████| 9/9 [00:00<00:00, 99.78it/s, loss=2]\n"
          ]
        },
        {
          "name": "stdout",
          "output_type": "stream",
          "text": [
            "Epoch [1434/3000]: Train loss: 1.7635, Valid loss: 2.1807\n"
          ]
        },
        {
          "name": "stderr",
          "output_type": "stream",
          "text": [
            "Epoch [1435/3000]: 100%|██████████| 9/9 [00:00<00:00, 106.96it/s, loss=1.61]\n"
          ]
        },
        {
          "name": "stdout",
          "output_type": "stream",
          "text": [
            "Epoch [1435/3000]: Train loss: 1.7360, Valid loss: 2.0004\n"
          ]
        },
        {
          "name": "stderr",
          "output_type": "stream",
          "text": [
            "Epoch [1436/3000]: 100%|██████████| 9/9 [00:00<00:00, 118.69it/s, loss=1.84]\n"
          ]
        },
        {
          "name": "stdout",
          "output_type": "stream",
          "text": [
            "Epoch [1436/3000]: Train loss: 1.7498, Valid loss: 1.8291\n"
          ]
        },
        {
          "name": "stderr",
          "output_type": "stream",
          "text": [
            "Epoch [1437/3000]: 100%|██████████| 9/9 [00:00<00:00, 71.50it/s, loss=1.16]\n"
          ]
        },
        {
          "name": "stdout",
          "output_type": "stream",
          "text": [
            "Epoch [1437/3000]: Train loss: 1.7086, Valid loss: 1.9917\n"
          ]
        },
        {
          "name": "stderr",
          "output_type": "stream",
          "text": [
            "Epoch [1438/3000]: 100%|██████████| 9/9 [00:00<00:00, 99.79it/s, loss=1.76]\n"
          ]
        },
        {
          "name": "stdout",
          "output_type": "stream",
          "text": [
            "Epoch [1438/3000]: Train loss: 1.7454, Valid loss: 1.6599\n"
          ]
        },
        {
          "name": "stderr",
          "output_type": "stream",
          "text": [
            "Epoch [1439/3000]: 100%|██████████| 9/9 [00:00<00:00, 126.19it/s, loss=2.36]\n"
          ]
        },
        {
          "name": "stdout",
          "output_type": "stream",
          "text": [
            "Epoch [1439/3000]: Train loss: 1.7808, Valid loss: 1.6335\n"
          ]
        },
        {
          "name": "stderr",
          "output_type": "stream",
          "text": [
            "Epoch [1440/3000]: 100%|██████████| 9/9 [00:00<00:00, 109.58it/s, loss=2.16]\n"
          ]
        },
        {
          "name": "stdout",
          "output_type": "stream",
          "text": [
            "Epoch [1440/3000]: Train loss: 1.7697, Valid loss: 2.4818\n"
          ]
        },
        {
          "name": "stderr",
          "output_type": "stream",
          "text": [
            "Epoch [1441/3000]: 100%|██████████| 9/9 [00:00<00:00, 97.21it/s, loss=1.36]\n"
          ]
        },
        {
          "name": "stdout",
          "output_type": "stream",
          "text": [
            "Epoch [1441/3000]: Train loss: 1.7193, Valid loss: 2.1094\n"
          ]
        },
        {
          "name": "stderr",
          "output_type": "stream",
          "text": [
            "Epoch [1442/3000]: 100%|██████████| 9/9 [00:00<00:00, 105.12it/s, loss=1.39]\n"
          ]
        },
        {
          "name": "stdout",
          "output_type": "stream",
          "text": [
            "Epoch [1442/3000]: Train loss: 1.7201, Valid loss: 1.6532\n"
          ]
        },
        {
          "name": "stderr",
          "output_type": "stream",
          "text": [
            "Epoch [1443/3000]: 100%|██████████| 9/9 [00:00<00:00, 104.10it/s, loss=2.01]\n"
          ]
        },
        {
          "name": "stdout",
          "output_type": "stream",
          "text": [
            "Epoch [1443/3000]: Train loss: 1.7604, Valid loss: 2.1942\n"
          ]
        },
        {
          "name": "stderr",
          "output_type": "stream",
          "text": [
            "Epoch [1444/3000]: 100%|██████████| 9/9 [00:00<00:00, 121.66it/s, loss=2.54]\n"
          ]
        },
        {
          "name": "stdout",
          "output_type": "stream",
          "text": [
            "Epoch [1444/3000]: Train loss: 1.7926, Valid loss: 1.8048\n"
          ]
        },
        {
          "name": "stderr",
          "output_type": "stream",
          "text": [
            "Epoch [1445/3000]: 100%|██████████| 9/9 [00:00<00:00, 35.25it/s, loss=1.83]\n"
          ]
        },
        {
          "name": "stdout",
          "output_type": "stream",
          "text": [
            "Epoch [1445/3000]: Train loss: 1.7473, Valid loss: 2.1717\n"
          ]
        },
        {
          "name": "stderr",
          "output_type": "stream",
          "text": [
            "Epoch [1446/3000]: 100%|██████████| 9/9 [00:00<00:00, 67.67it/s, loss=1.57]\n"
          ]
        },
        {
          "name": "stdout",
          "output_type": "stream",
          "text": [
            "Epoch [1446/3000]: Train loss: 1.7324, Valid loss: 2.2359\n"
          ]
        },
        {
          "name": "stderr",
          "output_type": "stream",
          "text": [
            "Epoch [1447/3000]: 100%|██████████| 9/9 [00:00<00:00, 108.10it/s, loss=2.53]\n"
          ]
        },
        {
          "name": "stdout",
          "output_type": "stream",
          "text": [
            "Epoch [1447/3000]: Train loss: 1.7910, Valid loss: 1.6612\n"
          ]
        },
        {
          "name": "stderr",
          "output_type": "stream",
          "text": [
            "Epoch [1448/3000]: 100%|██████████| 9/9 [00:00<00:00, 83.96it/s, loss=2.1]\n"
          ]
        },
        {
          "name": "stdout",
          "output_type": "stream",
          "text": [
            "Epoch [1448/3000]: Train loss: 1.7623, Valid loss: 1.7491\n"
          ]
        },
        {
          "name": "stderr",
          "output_type": "stream",
          "text": [
            "Epoch [1449/3000]: 100%|██████████| 9/9 [00:00<00:00, 110.29it/s, loss=1.75]\n"
          ]
        },
        {
          "name": "stdout",
          "output_type": "stream",
          "text": [
            "Epoch [1449/3000]: Train loss: 1.7400, Valid loss: 2.0947\n"
          ]
        },
        {
          "name": "stderr",
          "output_type": "stream",
          "text": [
            "Epoch [1450/3000]: 100%|██████████| 9/9 [00:00<00:00, 103.05it/s, loss=2.35]\n"
          ]
        },
        {
          "name": "stdout",
          "output_type": "stream",
          "text": [
            "Epoch [1450/3000]: Train loss: 1.7790, Valid loss: 1.9584\n"
          ]
        },
        {
          "name": "stderr",
          "output_type": "stream",
          "text": [
            "Epoch [1451/3000]: 100%|██████████| 9/9 [00:00<00:00, 95.82it/s, loss=2.22]\n"
          ]
        },
        {
          "name": "stdout",
          "output_type": "stream",
          "text": [
            "Epoch [1451/3000]: Train loss: 1.7710, Valid loss: 2.2058\n"
          ]
        },
        {
          "name": "stderr",
          "output_type": "stream",
          "text": [
            "Epoch [1452/3000]: 100%|██████████| 9/9 [00:00<00:00, 110.73it/s, loss=1.25]\n"
          ]
        },
        {
          "name": "stdout",
          "output_type": "stream",
          "text": [
            "Epoch [1452/3000]: Train loss: 1.7105, Valid loss: 1.9853\n"
          ]
        },
        {
          "name": "stderr",
          "output_type": "stream",
          "text": [
            "Epoch [1453/3000]: 100%|██████████| 9/9 [00:00<00:00, 104.94it/s, loss=1.98]\n"
          ]
        },
        {
          "name": "stdout",
          "output_type": "stream",
          "text": [
            "Epoch [1453/3000]: Train loss: 1.7530, Valid loss: 1.8789\n"
          ]
        },
        {
          "name": "stderr",
          "output_type": "stream",
          "text": [
            "Epoch [1454/3000]: 100%|██████████| 9/9 [00:00<00:00, 110.87it/s, loss=1.56]\n"
          ]
        },
        {
          "name": "stdout",
          "output_type": "stream",
          "text": [
            "Epoch [1454/3000]: Train loss: 1.7268, Valid loss: 1.7467\n"
          ]
        },
        {
          "name": "stderr",
          "output_type": "stream",
          "text": [
            "Epoch [1455/3000]: 100%|██████████| 9/9 [00:00<00:00, 107.19it/s, loss=1.64]\n"
          ]
        },
        {
          "name": "stdout",
          "output_type": "stream",
          "text": [
            "Epoch [1455/3000]: Train loss: 1.7316, Valid loss: 1.7588\n"
          ]
        },
        {
          "name": "stderr",
          "output_type": "stream",
          "text": [
            "Epoch [1456/3000]: 100%|██████████| 9/9 [00:00<00:00, 108.16it/s, loss=1.62]\n"
          ]
        },
        {
          "name": "stdout",
          "output_type": "stream",
          "text": [
            "Epoch [1456/3000]: Train loss: 1.7306, Valid loss: 1.7511\n"
          ]
        },
        {
          "name": "stderr",
          "output_type": "stream",
          "text": [
            "Epoch [1457/3000]: 100%|██████████| 9/9 [00:00<00:00, 59.59it/s, loss=1.21]\n"
          ]
        },
        {
          "name": "stdout",
          "output_type": "stream",
          "text": [
            "Epoch [1457/3000]: Train loss: 1.7069, Valid loss: 1.9220\n"
          ]
        },
        {
          "name": "stderr",
          "output_type": "stream",
          "text": [
            "Epoch [1458/3000]: 100%|██████████| 9/9 [00:00<00:00, 102.25it/s, loss=1.71]\n"
          ]
        },
        {
          "name": "stdout",
          "output_type": "stream",
          "text": [
            "Epoch [1458/3000]: Train loss: 1.7391, Valid loss: 2.2059\n"
          ]
        },
        {
          "name": "stderr",
          "output_type": "stream",
          "text": [
            "Epoch [1459/3000]: 100%|██████████| 9/9 [00:00<00:00, 118.70it/s, loss=1.4]\n"
          ]
        },
        {
          "name": "stdout",
          "output_type": "stream",
          "text": [
            "Epoch [1459/3000]: Train loss: 1.7216, Valid loss: 1.7420\n"
          ]
        },
        {
          "name": "stderr",
          "output_type": "stream",
          "text": [
            "Epoch [1460/3000]: 100%|██████████| 9/9 [00:00<00:00, 114.45it/s, loss=1.61]"
          ]
        },
        {
          "name": "stdout",
          "output_type": "stream",
          "text": [
            "Epoch [1460/3000]: Train loss: 1.7282, Valid loss: 2.0067"
          ]
        },
        {
          "name": "stderr",
          "output_type": "stream",
          "text": [
            "\n"
          ]
        },
        {
          "name": "stdout",
          "output_type": "stream",
          "text": [
            "\n"
          ]
        },
        {
          "name": "stderr",
          "output_type": "stream",
          "text": [
            "Epoch [1461/3000]: 100%|██████████| 9/9 [00:00<00:00, 116.43it/s, loss=1.67]\n"
          ]
        },
        {
          "name": "stdout",
          "output_type": "stream",
          "text": [
            "Epoch [1461/3000]: Train loss: 1.7332, Valid loss: 1.8046\n"
          ]
        },
        {
          "name": "stderr",
          "output_type": "stream",
          "text": [
            "Epoch [1462/3000]: 100%|██████████| 9/9 [00:00<00:00, 112.06it/s, loss=1.7]\n"
          ]
        },
        {
          "name": "stdout",
          "output_type": "stream",
          "text": [
            "Epoch [1462/3000]: Train loss: 1.7337, Valid loss: 2.3144\n"
          ]
        },
        {
          "name": "stderr",
          "output_type": "stream",
          "text": [
            "Epoch [1463/3000]: 100%|██████████| 9/9 [00:00<00:00, 117.30it/s, loss=1.77]"
          ]
        },
        {
          "name": "stdout",
          "output_type": "stream",
          "text": [
            "Epoch [1463/3000]: Train loss: 1.7374, Valid loss: 1.8804"
          ]
        },
        {
          "name": "stderr",
          "output_type": "stream",
          "text": [
            "\n"
          ]
        },
        {
          "name": "stdout",
          "output_type": "stream",
          "text": [
            "\n"
          ]
        },
        {
          "name": "stderr",
          "output_type": "stream",
          "text": [
            "Epoch [1464/3000]: 100%|██████████| 9/9 [00:00<00:00, 121.47it/s, loss=1.89]"
          ]
        },
        {
          "name": "stdout",
          "output_type": "stream",
          "text": [
            "Epoch [1464/3000]: Train loss: 1.7454, Valid loss: 1.8729"
          ]
        },
        {
          "name": "stderr",
          "output_type": "stream",
          "text": [
            "\n"
          ]
        },
        {
          "name": "stdout",
          "output_type": "stream",
          "text": [
            "\n"
          ]
        },
        {
          "name": "stderr",
          "output_type": "stream",
          "text": [
            "Epoch [1465/3000]: 100%|██████████| 9/9 [00:00<00:00, 105.70it/s, loss=2.22]\n"
          ]
        },
        {
          "name": "stdout",
          "output_type": "stream",
          "text": [
            "Epoch [1465/3000]: Train loss: 1.7645, Valid loss: 2.0008\n"
          ]
        },
        {
          "name": "stderr",
          "output_type": "stream",
          "text": [
            "Epoch [1466/3000]: 100%|██████████| 9/9 [00:00<00:00, 114.87it/s, loss=2]\n"
          ]
        },
        {
          "name": "stdout",
          "output_type": "stream",
          "text": [
            "Epoch [1466/3000]: Train loss: 1.7493, Valid loss: 1.7621\n"
          ]
        },
        {
          "name": "stderr",
          "output_type": "stream",
          "text": [
            "Epoch [1467/3000]: 100%|██████████| 9/9 [00:00<00:00, 102.13it/s, loss=1.63]\n"
          ]
        },
        {
          "name": "stdout",
          "output_type": "stream",
          "text": [
            "Epoch [1467/3000]: Train loss: 1.7334, Valid loss: 1.8710\n"
          ]
        },
        {
          "name": "stderr",
          "output_type": "stream",
          "text": [
            "Epoch [1468/3000]: 100%|██████████| 9/9 [00:00<00:00, 103.93it/s, loss=1.58]\n"
          ]
        },
        {
          "name": "stdout",
          "output_type": "stream",
          "text": [
            "Epoch [1468/3000]: Train loss: 1.7247, Valid loss: 1.9594\n"
          ]
        },
        {
          "name": "stderr",
          "output_type": "stream",
          "text": [
            "Epoch [1469/3000]: 100%|██████████| 9/9 [00:00<00:00, 115.95it/s, loss=1.25]\n"
          ]
        },
        {
          "name": "stdout",
          "output_type": "stream",
          "text": [
            "Epoch [1469/3000]: Train loss: 1.7076, Valid loss: 1.8761\n"
          ]
        },
        {
          "name": "stderr",
          "output_type": "stream",
          "text": [
            "Epoch [1470/3000]: 100%|██████████| 9/9 [00:00<00:00, 108.87it/s, loss=1.92]\n"
          ]
        },
        {
          "name": "stdout",
          "output_type": "stream",
          "text": [
            "Epoch [1470/3000]: Train loss: 1.7439, Valid loss: 2.1929\n"
          ]
        },
        {
          "name": "stderr",
          "output_type": "stream",
          "text": [
            "Epoch [1471/3000]: 100%|██████████| 9/9 [00:00<00:00, 127.42it/s, loss=1.38]\n"
          ]
        },
        {
          "name": "stdout",
          "output_type": "stream",
          "text": [
            "Epoch [1471/3000]: Train loss: 1.7136, Valid loss: 1.8627\n"
          ]
        },
        {
          "name": "stderr",
          "output_type": "stream",
          "text": [
            "Epoch [1472/3000]: 100%|██████████| 9/9 [00:00<00:00, 108.71it/s, loss=2.27]"
          ]
        },
        {
          "name": "stdout",
          "output_type": "stream",
          "text": [
            "Epoch [1472/3000]: Train loss: 1.7696, Valid loss: 1.6670"
          ]
        },
        {
          "name": "stderr",
          "output_type": "stream",
          "text": [
            "\n"
          ]
        },
        {
          "name": "stdout",
          "output_type": "stream",
          "text": [
            "\n"
          ]
        },
        {
          "name": "stderr",
          "output_type": "stream",
          "text": [
            "Epoch [1473/3000]: 100%|██████████| 9/9 [00:00<00:00, 119.95it/s, loss=2.19]\n"
          ]
        },
        {
          "name": "stdout",
          "output_type": "stream",
          "text": [
            "Epoch [1473/3000]: Train loss: 1.7636, Valid loss: 1.6718\n"
          ]
        },
        {
          "name": "stderr",
          "output_type": "stream",
          "text": [
            "Epoch [1474/3000]: 100%|██████████| 9/9 [00:00<00:00, 112.18it/s, loss=1.47]\n"
          ]
        },
        {
          "name": "stdout",
          "output_type": "stream",
          "text": [
            "Epoch [1474/3000]: Train loss: 1.7150, Valid loss: 1.8009\n"
          ]
        },
        {
          "name": "stderr",
          "output_type": "stream",
          "text": [
            "Epoch [1475/3000]: 100%|██████████| 9/9 [00:00<00:00, 118.48it/s, loss=1.24]\n"
          ]
        },
        {
          "name": "stdout",
          "output_type": "stream",
          "text": [
            "Epoch [1475/3000]: Train loss: 1.7056, Valid loss: 1.4688\n",
            "Saving model with loss 1.469...\n"
          ]
        },
        {
          "name": "stderr",
          "output_type": "stream",
          "text": [
            "Epoch [1476/3000]: 100%|██████████| 9/9 [00:00<00:00, 122.30it/s, loss=1.41]\n"
          ]
        },
        {
          "name": "stdout",
          "output_type": "stream",
          "text": [
            "Epoch [1476/3000]: Train loss: 1.7109, Valid loss: 1.8366\n"
          ]
        },
        {
          "name": "stderr",
          "output_type": "stream",
          "text": [
            "Epoch [1477/3000]: 100%|██████████| 9/9 [00:00<00:00, 132.21it/s, loss=1.83]\n"
          ]
        },
        {
          "name": "stdout",
          "output_type": "stream",
          "text": [
            "Epoch [1477/3000]: Train loss: 1.7363, Valid loss: 1.6597\n"
          ]
        },
        {
          "name": "stderr",
          "output_type": "stream",
          "text": [
            "Epoch [1478/3000]: 100%|██████████| 9/9 [00:00<00:00, 113.81it/s, loss=1.06]\n"
          ]
        },
        {
          "name": "stdout",
          "output_type": "stream",
          "text": [
            "Epoch [1478/3000]: Train loss: 1.6904, Valid loss: 1.8608\n"
          ]
        },
        {
          "name": "stderr",
          "output_type": "stream",
          "text": [
            "Epoch [1479/3000]: 100%|██████████| 9/9 [00:00<00:00, 115.14it/s, loss=1.61]\n"
          ]
        },
        {
          "name": "stdout",
          "output_type": "stream",
          "text": [
            "Epoch [1479/3000]: Train loss: 1.7224, Valid loss: 1.7443\n"
          ]
        },
        {
          "name": "stderr",
          "output_type": "stream",
          "text": [
            "Epoch [1480/3000]: 100%|██████████| 9/9 [00:00<00:00, 108.41it/s, loss=1.74]\n"
          ]
        },
        {
          "name": "stdout",
          "output_type": "stream",
          "text": [
            "Epoch [1480/3000]: Train loss: 1.7346, Valid loss: 1.7775\n"
          ]
        },
        {
          "name": "stderr",
          "output_type": "stream",
          "text": [
            "Epoch [1481/3000]: 100%|██████████| 9/9 [00:00<00:00, 110.43it/s, loss=2.11]\n"
          ]
        },
        {
          "name": "stdout",
          "output_type": "stream",
          "text": [
            "Epoch [1481/3000]: Train loss: 1.7552, Valid loss: 1.7109\n"
          ]
        },
        {
          "name": "stderr",
          "output_type": "stream",
          "text": [
            "Epoch [1482/3000]: 100%|██████████| 9/9 [00:00<00:00, 58.14it/s, loss=1.65]\n"
          ]
        },
        {
          "name": "stdout",
          "output_type": "stream",
          "text": [
            "Epoch [1482/3000]: Train loss: 1.7271, Valid loss: 2.0278\n"
          ]
        },
        {
          "name": "stderr",
          "output_type": "stream",
          "text": [
            "Epoch [1483/3000]: 100%|██████████| 9/9 [00:00<00:00, 122.13it/s, loss=1.71]\n"
          ]
        },
        {
          "name": "stdout",
          "output_type": "stream",
          "text": [
            "Epoch [1483/3000]: Train loss: 1.7285, Valid loss: 1.5841\n"
          ]
        },
        {
          "name": "stderr",
          "output_type": "stream",
          "text": [
            "Epoch [1484/3000]: 100%|██████████| 9/9 [00:00<00:00, 116.50it/s, loss=1.35]\n"
          ]
        },
        {
          "name": "stdout",
          "output_type": "stream",
          "text": [
            "Epoch [1484/3000]: Train loss: 1.7076, Valid loss: 1.7976\n"
          ]
        },
        {
          "name": "stderr",
          "output_type": "stream",
          "text": [
            "Epoch [1485/3000]: 100%|██████████| 9/9 [00:00<00:00, 111.23it/s, loss=2.47]\n"
          ]
        },
        {
          "name": "stdout",
          "output_type": "stream",
          "text": [
            "Epoch [1485/3000]: Train loss: 1.7772, Valid loss: 2.0404\n"
          ]
        },
        {
          "name": "stderr",
          "output_type": "stream",
          "text": [
            "Epoch [1486/3000]: 100%|██████████| 9/9 [00:00<00:00, 121.81it/s, loss=1.72]\n"
          ]
        },
        {
          "name": "stdout",
          "output_type": "stream",
          "text": [
            "Epoch [1486/3000]: Train loss: 1.7271, Valid loss: 2.4241\n"
          ]
        },
        {
          "name": "stderr",
          "output_type": "stream",
          "text": [
            "Epoch [1487/3000]: 100%|██████████| 9/9 [00:00<00:00, 126.00it/s, loss=1.71]\n"
          ]
        },
        {
          "name": "stdout",
          "output_type": "stream",
          "text": [
            "Epoch [1487/3000]: Train loss: 1.7297, Valid loss: 1.8808\n"
          ]
        },
        {
          "name": "stderr",
          "output_type": "stream",
          "text": [
            "Epoch [1488/3000]: 100%|██████████| 9/9 [00:00<00:00, 109.53it/s, loss=1.63]\n"
          ]
        },
        {
          "name": "stdout",
          "output_type": "stream",
          "text": [
            "Epoch [1488/3000]: Train loss: 1.7205, Valid loss: 1.8329\n"
          ]
        },
        {
          "name": "stderr",
          "output_type": "stream",
          "text": [
            "Epoch [1489/3000]: 100%|██████████| 9/9 [00:00<00:00, 106.51it/s, loss=2.31]\n"
          ]
        },
        {
          "name": "stdout",
          "output_type": "stream",
          "text": [
            "Epoch [1489/3000]: Train loss: 1.7673, Valid loss: 1.7582\n"
          ]
        },
        {
          "name": "stderr",
          "output_type": "stream",
          "text": [
            "Epoch [1490/3000]: 100%|██████████| 9/9 [00:00<00:00, 108.58it/s, loss=2.19]\n"
          ]
        },
        {
          "name": "stdout",
          "output_type": "stream",
          "text": [
            "Epoch [1490/3000]: Train loss: 1.7659, Valid loss: 1.9749\n"
          ]
        },
        {
          "name": "stderr",
          "output_type": "stream",
          "text": [
            "Epoch [1491/3000]: 100%|██████████| 9/9 [00:00<00:00, 110.82it/s, loss=1.83]\n"
          ]
        },
        {
          "name": "stdout",
          "output_type": "stream",
          "text": [
            "Epoch [1491/3000]: Train loss: 1.7363, Valid loss: 1.7155\n"
          ]
        },
        {
          "name": "stderr",
          "output_type": "stream",
          "text": [
            "Epoch [1492/3000]: 100%|██████████| 9/9 [00:00<00:00, 116.68it/s, loss=1.41]\n"
          ]
        },
        {
          "name": "stdout",
          "output_type": "stream",
          "text": [
            "Epoch [1492/3000]: Train loss: 1.7067, Valid loss: 1.8255\n"
          ]
        },
        {
          "name": "stderr",
          "output_type": "stream",
          "text": [
            "Epoch [1493/3000]: 100%|██████████| 9/9 [00:00<00:00, 110.65it/s, loss=1.99]\n"
          ]
        },
        {
          "name": "stdout",
          "output_type": "stream",
          "text": [
            "Epoch [1493/3000]: Train loss: 1.7476, Valid loss: 1.9571\n"
          ]
        },
        {
          "name": "stderr",
          "output_type": "stream",
          "text": [
            "Epoch [1494/3000]: 100%|██████████| 9/9 [00:00<00:00, 110.33it/s, loss=1.43]\n"
          ]
        },
        {
          "name": "stdout",
          "output_type": "stream",
          "text": [
            "Epoch [1494/3000]: Train loss: 1.7084, Valid loss: 2.0307\n"
          ]
        },
        {
          "name": "stderr",
          "output_type": "stream",
          "text": [
            "Epoch [1495/3000]: 100%|██████████| 9/9 [00:00<00:00, 117.60it/s, loss=1.82]\n"
          ]
        },
        {
          "name": "stdout",
          "output_type": "stream",
          "text": [
            "Epoch [1495/3000]: Train loss: 1.7339, Valid loss: 1.5866\n"
          ]
        },
        {
          "name": "stderr",
          "output_type": "stream",
          "text": [
            "Epoch [1496/3000]: 100%|██████████| 9/9 [00:00<00:00, 73.56it/s, loss=1.48]\n"
          ]
        },
        {
          "name": "stdout",
          "output_type": "stream",
          "text": [
            "Epoch [1496/3000]: Train loss: 1.7112, Valid loss: 2.0188\n"
          ]
        },
        {
          "name": "stderr",
          "output_type": "stream",
          "text": [
            "Epoch [1497/3000]: 100%|██████████| 9/9 [00:00<00:00, 107.67it/s, loss=1.58]\n"
          ]
        },
        {
          "name": "stdout",
          "output_type": "stream",
          "text": [
            "Epoch [1497/3000]: Train loss: 1.7139, Valid loss: 2.0945\n"
          ]
        },
        {
          "name": "stderr",
          "output_type": "stream",
          "text": [
            "Epoch [1498/3000]: 100%|██████████| 9/9 [00:00<00:00, 114.26it/s, loss=1.83]\n"
          ]
        },
        {
          "name": "stdout",
          "output_type": "stream",
          "text": [
            "Epoch [1498/3000]: Train loss: 1.7327, Valid loss: 1.9239\n"
          ]
        },
        {
          "name": "stderr",
          "output_type": "stream",
          "text": [
            "Epoch [1499/3000]: 100%|██████████| 9/9 [00:00<00:00, 118.44it/s, loss=1.36]\n"
          ]
        },
        {
          "name": "stdout",
          "output_type": "stream",
          "text": [
            "Epoch [1499/3000]: Train loss: 1.7018, Valid loss: 1.7393\n"
          ]
        },
        {
          "name": "stderr",
          "output_type": "stream",
          "text": [
            "Epoch [1500/3000]: 100%|██████████| 9/9 [00:00<00:00, 114.46it/s, loss=1.81]\n"
          ]
        },
        {
          "name": "stdout",
          "output_type": "stream",
          "text": [
            "Epoch [1500/3000]: Train loss: 1.7303, Valid loss: 1.7718\n"
          ]
        },
        {
          "name": "stderr",
          "output_type": "stream",
          "text": [
            "Epoch [1501/3000]: 100%|██████████| 9/9 [00:00<00:00, 118.35it/s, loss=1.95]\n"
          ]
        },
        {
          "name": "stdout",
          "output_type": "stream",
          "text": [
            "Epoch [1501/3000]: Train loss: 1.7410, Valid loss: 1.8832\n"
          ]
        },
        {
          "name": "stderr",
          "output_type": "stream",
          "text": [
            "Epoch [1502/3000]: 100%|██████████| 9/9 [00:00<00:00, 109.76it/s, loss=1.54]\n"
          ]
        },
        {
          "name": "stdout",
          "output_type": "stream",
          "text": [
            "Epoch [1502/3000]: Train loss: 1.7119, Valid loss: 1.6641\n"
          ]
        },
        {
          "name": "stderr",
          "output_type": "stream",
          "text": [
            "Epoch [1503/3000]: 100%|██████████| 9/9 [00:00<00:00, 102.12it/s, loss=2.5]\n"
          ]
        },
        {
          "name": "stdout",
          "output_type": "stream",
          "text": [
            "Epoch [1503/3000]: Train loss: 1.7738, Valid loss: 1.9141\n"
          ]
        },
        {
          "name": "stderr",
          "output_type": "stream",
          "text": [
            "Epoch [1504/3000]: 100%|██████████| 9/9 [00:00<00:00, 111.90it/s, loss=1.51]\n"
          ]
        },
        {
          "name": "stdout",
          "output_type": "stream",
          "text": [
            "Epoch [1504/3000]: Train loss: 1.7110, Valid loss: 2.0106\n"
          ]
        },
        {
          "name": "stderr",
          "output_type": "stream",
          "text": [
            "Epoch [1505/3000]: 100%|██████████| 9/9 [00:00<00:00, 100.35it/s, loss=1.41]\n"
          ]
        },
        {
          "name": "stdout",
          "output_type": "stream",
          "text": [
            "Epoch [1505/3000]: Train loss: 1.7026, Valid loss: 1.9655\n"
          ]
        },
        {
          "name": "stderr",
          "output_type": "stream",
          "text": [
            "Epoch [1506/3000]: 100%|██████████| 9/9 [00:00<00:00, 102.75it/s, loss=1.71]\n"
          ]
        },
        {
          "name": "stdout",
          "output_type": "stream",
          "text": [
            "Epoch [1506/3000]: Train loss: 1.7237, Valid loss: 1.6441\n"
          ]
        },
        {
          "name": "stderr",
          "output_type": "stream",
          "text": [
            "Epoch [1507/3000]: 100%|██████████| 9/9 [00:00<00:00, 107.29it/s, loss=1.76]\n"
          ]
        },
        {
          "name": "stdout",
          "output_type": "stream",
          "text": [
            "Epoch [1507/3000]: Train loss: 1.7238, Valid loss: 1.9632\n"
          ]
        },
        {
          "name": "stderr",
          "output_type": "stream",
          "text": [
            "Epoch [1508/3000]: 100%|██████████| 9/9 [00:00<00:00, 54.31it/s, loss=1.93]\n"
          ]
        },
        {
          "name": "stdout",
          "output_type": "stream",
          "text": [
            "Epoch [1508/3000]: Train loss: 1.7360, Valid loss: 2.1673\n"
          ]
        },
        {
          "name": "stderr",
          "output_type": "stream",
          "text": [
            "Epoch [1509/3000]: 100%|██████████| 9/9 [00:00<00:00, 95.47it/s, loss=1.47]\n"
          ]
        },
        {
          "name": "stdout",
          "output_type": "stream",
          "text": [
            "Epoch [1509/3000]: Train loss: 1.7082, Valid loss: 2.0416\n"
          ]
        },
        {
          "name": "stderr",
          "output_type": "stream",
          "text": [
            "Epoch [1510/3000]: 100%|██████████| 9/9 [00:00<00:00, 107.04it/s, loss=1.5]\n"
          ]
        },
        {
          "name": "stdout",
          "output_type": "stream",
          "text": [
            "Epoch [1510/3000]: Train loss: 1.7093, Valid loss: 1.7296\n"
          ]
        },
        {
          "name": "stderr",
          "output_type": "stream",
          "text": [
            "Epoch [1511/3000]: 100%|██████████| 9/9 [00:00<00:00, 110.89it/s, loss=1.46]\n"
          ]
        },
        {
          "name": "stdout",
          "output_type": "stream",
          "text": [
            "Epoch [1511/3000]: Train loss: 1.7040, Valid loss: 2.0895\n"
          ]
        },
        {
          "name": "stderr",
          "output_type": "stream",
          "text": [
            "Epoch [1512/3000]: 100%|██████████| 9/9 [00:00<00:00, 114.38it/s, loss=2.08]\n"
          ]
        },
        {
          "name": "stdout",
          "output_type": "stream",
          "text": [
            "Epoch [1512/3000]: Train loss: 1.7432, Valid loss: 1.7335\n"
          ]
        },
        {
          "name": "stderr",
          "output_type": "stream",
          "text": [
            "Epoch [1513/3000]: 100%|██████████| 9/9 [00:00<00:00, 109.12it/s, loss=2.11]\n"
          ]
        },
        {
          "name": "stdout",
          "output_type": "stream",
          "text": [
            "Epoch [1513/3000]: Train loss: 1.7446, Valid loss: 1.8676\n"
          ]
        },
        {
          "name": "stderr",
          "output_type": "stream",
          "text": [
            "Epoch [1514/3000]: 100%|██████████| 9/9 [00:00<00:00, 123.04it/s, loss=1.31]\n"
          ]
        },
        {
          "name": "stdout",
          "output_type": "stream",
          "text": [
            "Epoch [1514/3000]: Train loss: 1.6982, Valid loss: 1.8273\n"
          ]
        },
        {
          "name": "stderr",
          "output_type": "stream",
          "text": [
            "Epoch [1515/3000]: 100%|██████████| 9/9 [00:00<00:00, 114.12it/s, loss=2.21]"
          ]
        },
        {
          "name": "stdout",
          "output_type": "stream",
          "text": [
            "Epoch [1515/3000]: Train loss: 1.7521, Valid loss: 1.7416"
          ]
        },
        {
          "name": "stderr",
          "output_type": "stream",
          "text": [
            "\n"
          ]
        },
        {
          "name": "stdout",
          "output_type": "stream",
          "text": [
            "\n"
          ]
        },
        {
          "name": "stderr",
          "output_type": "stream",
          "text": [
            "Epoch [1516/3000]: 100%|██████████| 9/9 [00:00<00:00, 105.67it/s, loss=1.68]\n"
          ]
        },
        {
          "name": "stdout",
          "output_type": "stream",
          "text": [
            "Epoch [1516/3000]: Train loss: 1.7194, Valid loss: 2.2568\n"
          ]
        },
        {
          "name": "stderr",
          "output_type": "stream",
          "text": [
            "Epoch [1517/3000]: 100%|██████████| 9/9 [00:00<00:00, 119.95it/s, loss=1.47]\n"
          ]
        },
        {
          "name": "stdout",
          "output_type": "stream",
          "text": [
            "Epoch [1517/3000]: Train loss: 1.7051, Valid loss: 1.8738\n"
          ]
        },
        {
          "name": "stderr",
          "output_type": "stream",
          "text": [
            "Epoch [1518/3000]: 100%|██████████| 9/9 [00:00<00:00, 117.61it/s, loss=1.69]"
          ]
        },
        {
          "name": "stdout",
          "output_type": "stream",
          "text": [
            "Epoch [1518/3000]: Train loss: 1.7179, Valid loss: 2.2365"
          ]
        },
        {
          "name": "stderr",
          "output_type": "stream",
          "text": [
            "\n"
          ]
        },
        {
          "name": "stdout",
          "output_type": "stream",
          "text": [
            "\n"
          ]
        },
        {
          "name": "stderr",
          "output_type": "stream",
          "text": [
            "Epoch [1519/3000]: 100%|██████████| 9/9 [00:00<00:00, 108.89it/s, loss=1.45]\n"
          ]
        },
        {
          "name": "stdout",
          "output_type": "stream",
          "text": [
            "Epoch [1519/3000]: Train loss: 1.7025, Valid loss: 2.2191\n"
          ]
        },
        {
          "name": "stderr",
          "output_type": "stream",
          "text": [
            "Epoch [1520/3000]: 100%|██████████| 9/9 [00:00<00:00, 113.57it/s, loss=1.22]\n"
          ]
        },
        {
          "name": "stdout",
          "output_type": "stream",
          "text": [
            "Epoch [1520/3000]: Train loss: 1.6884, Valid loss: 2.3827\n"
          ]
        },
        {
          "name": "stderr",
          "output_type": "stream",
          "text": [
            "Epoch [1521/3000]: 100%|██████████| 9/9 [00:00<00:00, 112.59it/s, loss=2.14]\n"
          ]
        },
        {
          "name": "stdout",
          "output_type": "stream",
          "text": [
            "Epoch [1521/3000]: Train loss: 1.7437, Valid loss: 2.1128\n"
          ]
        },
        {
          "name": "stderr",
          "output_type": "stream",
          "text": [
            "Epoch [1522/3000]: 100%|██████████| 9/9 [00:00<00:00, 33.66it/s, loss=1.37]\n"
          ]
        },
        {
          "name": "stdout",
          "output_type": "stream",
          "text": [
            "Epoch [1522/3000]: Train loss: 1.6977, Valid loss: 1.8952\n"
          ]
        },
        {
          "name": "stderr",
          "output_type": "stream",
          "text": [
            "Epoch [1523/3000]: 100%|██████████| 9/9 [00:00<00:00, 109.69it/s, loss=1.88]\n"
          ]
        },
        {
          "name": "stdout",
          "output_type": "stream",
          "text": [
            "Epoch [1523/3000]: Train loss: 1.7281, Valid loss: 1.8080\n"
          ]
        },
        {
          "name": "stderr",
          "output_type": "stream",
          "text": [
            "Epoch [1524/3000]: 100%|██████████| 9/9 [00:00<00:00, 106.06it/s, loss=1.29]\n"
          ]
        },
        {
          "name": "stdout",
          "output_type": "stream",
          "text": [
            "Epoch [1524/3000]: Train loss: 1.6915, Valid loss: 2.1081\n"
          ]
        },
        {
          "name": "stderr",
          "output_type": "stream",
          "text": [
            "Epoch [1525/3000]: 100%|██████████| 9/9 [00:00<00:00, 102.96it/s, loss=2.31]\n"
          ]
        },
        {
          "name": "stdout",
          "output_type": "stream",
          "text": [
            "Epoch [1525/3000]: Train loss: 1.7573, Valid loss: 1.7582\n"
          ]
        },
        {
          "name": "stderr",
          "output_type": "stream",
          "text": [
            "Epoch [1526/3000]: 100%|██████████| 9/9 [00:00<00:00, 108.63it/s, loss=2.15]\n"
          ]
        },
        {
          "name": "stdout",
          "output_type": "stream",
          "text": [
            "Epoch [1526/3000]: Train loss: 1.7477, Valid loss: 1.9783\n"
          ]
        },
        {
          "name": "stderr",
          "output_type": "stream",
          "text": [
            "Epoch [1527/3000]: 100%|██████████| 9/9 [00:00<00:00, 108.36it/s, loss=1.77]\n"
          ]
        },
        {
          "name": "stdout",
          "output_type": "stream",
          "text": [
            "Epoch [1527/3000]: Train loss: 1.7228, Valid loss: 2.1183\n"
          ]
        },
        {
          "name": "stderr",
          "output_type": "stream",
          "text": [
            "Epoch [1528/3000]: 100%|██████████| 9/9 [00:00<00:00, 107.22it/s, loss=2.2]\n"
          ]
        },
        {
          "name": "stdout",
          "output_type": "stream",
          "text": [
            "Epoch [1528/3000]: Train loss: 1.7478, Valid loss: 1.7859\n"
          ]
        },
        {
          "name": "stderr",
          "output_type": "stream",
          "text": [
            "Epoch [1529/3000]: 100%|██████████| 9/9 [00:00<00:00, 113.92it/s, loss=1.27]\n"
          ]
        },
        {
          "name": "stdout",
          "output_type": "stream",
          "text": [
            "Epoch [1529/3000]: Train loss: 1.6889, Valid loss: 1.8288\n"
          ]
        },
        {
          "name": "stderr",
          "output_type": "stream",
          "text": [
            "Epoch [1530/3000]: 100%|██████████| 9/9 [00:00<00:00, 117.77it/s, loss=1.45]"
          ]
        },
        {
          "name": "stdout",
          "output_type": "stream",
          "text": [
            "Epoch [1530/3000]: Train loss: 1.6994, Valid loss: 2.0314"
          ]
        },
        {
          "name": "stderr",
          "output_type": "stream",
          "text": [
            "\n"
          ]
        },
        {
          "name": "stdout",
          "output_type": "stream",
          "text": [
            "\n"
          ]
        },
        {
          "name": "stderr",
          "output_type": "stream",
          "text": [
            "Epoch [1531/3000]: 100%|██████████| 9/9 [00:00<00:00, 61.77it/s, loss=1.56]\n"
          ]
        },
        {
          "name": "stdout",
          "output_type": "stream",
          "text": [
            "Epoch [1531/3000]: Train loss: 1.7087, Valid loss: 1.6487\n"
          ]
        },
        {
          "name": "stderr",
          "output_type": "stream",
          "text": [
            "Epoch [1532/3000]: 100%|██████████| 9/9 [00:00<00:00, 99.58it/s, loss=1.89]\n"
          ]
        },
        {
          "name": "stdout",
          "output_type": "stream",
          "text": [
            "Epoch [1532/3000]: Train loss: 1.7323, Valid loss: 1.7579\n"
          ]
        },
        {
          "name": "stderr",
          "output_type": "stream",
          "text": [
            "Epoch [1533/3000]: 100%|██████████| 9/9 [00:00<00:00, 112.40it/s, loss=1.71]\n"
          ]
        },
        {
          "name": "stdout",
          "output_type": "stream",
          "text": [
            "Epoch [1533/3000]: Train loss: 1.7186, Valid loss: 2.1246\n"
          ]
        },
        {
          "name": "stderr",
          "output_type": "stream",
          "text": [
            "Epoch [1534/3000]: 100%|██████████| 9/9 [00:00<00:00, 108.81it/s, loss=1.64]\n"
          ]
        },
        {
          "name": "stdout",
          "output_type": "stream",
          "text": [
            "Epoch [1534/3000]: Train loss: 1.7145, Valid loss: 1.9092\n"
          ]
        },
        {
          "name": "stderr",
          "output_type": "stream",
          "text": [
            "Epoch [1535/3000]: 100%|██████████| 9/9 [00:00<00:00, 114.10it/s, loss=1.96]\n"
          ]
        },
        {
          "name": "stdout",
          "output_type": "stream",
          "text": [
            "Epoch [1535/3000]: Train loss: 1.7289, Valid loss: 2.1153\n"
          ]
        },
        {
          "name": "stderr",
          "output_type": "stream",
          "text": [
            "Epoch [1536/3000]: 100%|██████████| 9/9 [00:00<00:00, 109.79it/s, loss=1.49]\n"
          ]
        },
        {
          "name": "stdout",
          "output_type": "stream",
          "text": [
            "Epoch [1536/3000]: Train loss: 1.7017, Valid loss: 1.7857\n"
          ]
        },
        {
          "name": "stderr",
          "output_type": "stream",
          "text": [
            "Epoch [1537/3000]: 100%|██████████| 9/9 [00:00<00:00, 121.19it/s, loss=1.55]\n"
          ]
        },
        {
          "name": "stdout",
          "output_type": "stream",
          "text": [
            "Epoch [1537/3000]: Train loss: 1.7047, Valid loss: 1.7643\n"
          ]
        },
        {
          "name": "stderr",
          "output_type": "stream",
          "text": [
            "Epoch [1538/3000]: 100%|██████████| 9/9 [00:00<00:00, 111.70it/s, loss=1.48]\n"
          ]
        },
        {
          "name": "stdout",
          "output_type": "stream",
          "text": [
            "Epoch [1538/3000]: Train loss: 1.6980, Valid loss: 1.7880\n"
          ]
        },
        {
          "name": "stderr",
          "output_type": "stream",
          "text": [
            "Epoch [1539/3000]: 100%|██████████| 9/9 [00:00<00:00, 113.94it/s, loss=1.8]\n"
          ]
        },
        {
          "name": "stdout",
          "output_type": "stream",
          "text": [
            "Epoch [1539/3000]: Train loss: 1.7196, Valid loss: 1.9816\n"
          ]
        },
        {
          "name": "stderr",
          "output_type": "stream",
          "text": [
            "Epoch [1540/3000]: 100%|██████████| 9/9 [00:00<00:00, 110.78it/s, loss=1.39]\n"
          ]
        },
        {
          "name": "stdout",
          "output_type": "stream",
          "text": [
            "Epoch [1540/3000]: Train loss: 1.6916, Valid loss: 1.8310\n"
          ]
        },
        {
          "name": "stderr",
          "output_type": "stream",
          "text": [
            "Epoch [1541/3000]: 100%|██████████| 9/9 [00:00<00:00, 118.73it/s, loss=1.6]\n"
          ]
        },
        {
          "name": "stdout",
          "output_type": "stream",
          "text": [
            "Epoch [1541/3000]: Train loss: 1.7066, Valid loss: 1.7544\n"
          ]
        },
        {
          "name": "stderr",
          "output_type": "stream",
          "text": [
            "Epoch [1542/3000]: 100%|██████████| 9/9 [00:00<00:00, 110.22it/s, loss=1.94]\n"
          ]
        },
        {
          "name": "stdout",
          "output_type": "stream",
          "text": [
            "Epoch [1542/3000]: Train loss: 1.7289, Valid loss: 2.0561\n"
          ]
        },
        {
          "name": "stderr",
          "output_type": "stream",
          "text": [
            "Epoch [1543/3000]: 100%|██████████| 9/9 [00:00<00:00, 64.33it/s, loss=1.27]\n"
          ]
        },
        {
          "name": "stdout",
          "output_type": "stream",
          "text": [
            "Epoch [1543/3000]: Train loss: 1.6840, Valid loss: 1.8466\n"
          ]
        },
        {
          "name": "stderr",
          "output_type": "stream",
          "text": [
            "Epoch [1544/3000]: 100%|██████████| 9/9 [00:00<00:00, 90.86it/s, loss=1.63]\n"
          ]
        },
        {
          "name": "stdout",
          "output_type": "stream",
          "text": [
            "Epoch [1544/3000]: Train loss: 1.7069, Valid loss: 1.8865\n"
          ]
        },
        {
          "name": "stderr",
          "output_type": "stream",
          "text": [
            "Epoch [1545/3000]: 100%|██████████| 9/9 [00:00<00:00, 109.99it/s, loss=1.97]\n"
          ]
        },
        {
          "name": "stdout",
          "output_type": "stream",
          "text": [
            "Epoch [1545/3000]: Train loss: 1.7283, Valid loss: 1.9282\n"
          ]
        },
        {
          "name": "stderr",
          "output_type": "stream",
          "text": [
            "Epoch [1546/3000]: 100%|██████████| 9/9 [00:00<00:00, 112.97it/s, loss=2.04]"
          ]
        },
        {
          "name": "stdout",
          "output_type": "stream",
          "text": [
            "Epoch [1546/3000]: Train loss: 1.7312, Valid loss: 1.5497"
          ]
        },
        {
          "name": "stderr",
          "output_type": "stream",
          "text": [
            "\n"
          ]
        },
        {
          "name": "stdout",
          "output_type": "stream",
          "text": [
            "\n"
          ]
        },
        {
          "name": "stderr",
          "output_type": "stream",
          "text": [
            "Epoch [1547/3000]: 100%|██████████| 9/9 [00:00<00:00, 113.45it/s, loss=1.36]\n"
          ]
        },
        {
          "name": "stdout",
          "output_type": "stream",
          "text": [
            "Epoch [1547/3000]: Train loss: 1.6929, Valid loss: 1.7694\n"
          ]
        },
        {
          "name": "stderr",
          "output_type": "stream",
          "text": [
            "Epoch [1548/3000]: 100%|██████████| 9/9 [00:00<00:00, 99.90it/s, loss=1.43]\n"
          ]
        },
        {
          "name": "stdout",
          "output_type": "stream",
          "text": [
            "Epoch [1548/3000]: Train loss: 1.6957, Valid loss: 2.0317\n"
          ]
        },
        {
          "name": "stderr",
          "output_type": "stream",
          "text": [
            "Epoch [1549/3000]: 100%|██████████| 9/9 [00:00<00:00, 120.22it/s, loss=1.67]\n"
          ]
        },
        {
          "name": "stdout",
          "output_type": "stream",
          "text": [
            "Epoch [1549/3000]: Train loss: 1.7095, Valid loss: 1.8510\n"
          ]
        },
        {
          "name": "stderr",
          "output_type": "stream",
          "text": [
            "Epoch [1550/3000]: 100%|██████████| 9/9 [00:00<00:00, 117.58it/s, loss=1.63]"
          ]
        },
        {
          "name": "stdout",
          "output_type": "stream",
          "text": [
            "Epoch [1550/3000]: Train loss: 1.7072, Valid loss: 1.9882"
          ]
        },
        {
          "name": "stderr",
          "output_type": "stream",
          "text": [
            "\n"
          ]
        },
        {
          "name": "stdout",
          "output_type": "stream",
          "text": [
            "\n"
          ]
        },
        {
          "name": "stderr",
          "output_type": "stream",
          "text": [
            "Epoch [1551/3000]: 100%|██████████| 9/9 [00:00<00:00, 117.15it/s, loss=1.53]\n"
          ]
        },
        {
          "name": "stdout",
          "output_type": "stream",
          "text": [
            "Epoch [1551/3000]: Train loss: 1.6980, Valid loss: 1.7746\n"
          ]
        },
        {
          "name": "stderr",
          "output_type": "stream",
          "text": [
            "Epoch [1552/3000]: 100%|██████████| 9/9 [00:00<00:00, 112.61it/s, loss=1.81]\n"
          ]
        },
        {
          "name": "stdout",
          "output_type": "stream",
          "text": [
            "Epoch [1552/3000]: Train loss: 1.7163, Valid loss: 1.9989\n"
          ]
        },
        {
          "name": "stderr",
          "output_type": "stream",
          "text": [
            "Epoch [1553/3000]: 100%|██████████| 9/9 [00:00<00:00, 117.30it/s, loss=1.29]\n"
          ]
        },
        {
          "name": "stdout",
          "output_type": "stream",
          "text": [
            "Epoch [1553/3000]: Train loss: 1.6815, Valid loss: 1.7691\n"
          ]
        },
        {
          "name": "stderr",
          "output_type": "stream",
          "text": [
            "Epoch [1554/3000]: 100%|██████████| 9/9 [00:00<00:00, 111.46it/s, loss=1.31]\n"
          ]
        },
        {
          "name": "stdout",
          "output_type": "stream",
          "text": [
            "Epoch [1554/3000]: Train loss: 1.6859, Valid loss: 1.8262\n"
          ]
        },
        {
          "name": "stderr",
          "output_type": "stream",
          "text": [
            "Epoch [1555/3000]: 100%|██████████| 9/9 [00:00<00:00, 111.83it/s, loss=1.52]\n"
          ]
        },
        {
          "name": "stdout",
          "output_type": "stream",
          "text": [
            "Epoch [1555/3000]: Train loss: 1.6990, Valid loss: 2.2063\n"
          ]
        },
        {
          "name": "stderr",
          "output_type": "stream",
          "text": [
            "Epoch [1556/3000]: 100%|██████████| 9/9 [00:00<00:00, 107.32it/s, loss=1.98]\n"
          ]
        },
        {
          "name": "stdout",
          "output_type": "stream",
          "text": [
            "Epoch [1556/3000]: Train loss: 1.7255, Valid loss: 2.3286\n"
          ]
        },
        {
          "name": "stderr",
          "output_type": "stream",
          "text": [
            "Epoch [1557/3000]: 100%|██████████| 9/9 [00:00<00:00, 102.06it/s, loss=1.68]\n"
          ]
        },
        {
          "name": "stdout",
          "output_type": "stream",
          "text": [
            "Epoch [1557/3000]: Train loss: 1.7095, Valid loss: 1.9141\n"
          ]
        },
        {
          "name": "stderr",
          "output_type": "stream",
          "text": [
            "Epoch [1558/3000]: 100%|██████████| 9/9 [00:00<00:00, 90.21it/s, loss=1.54]\n"
          ]
        },
        {
          "name": "stdout",
          "output_type": "stream",
          "text": [
            "Epoch [1558/3000]: Train loss: 1.6999, Valid loss: 1.8056\n"
          ]
        },
        {
          "name": "stderr",
          "output_type": "stream",
          "text": [
            "Epoch [1559/3000]: 100%|██████████| 9/9 [00:00<00:00, 100.82it/s, loss=1.78]\n"
          ]
        },
        {
          "name": "stdout",
          "output_type": "stream",
          "text": [
            "Epoch [1559/3000]: Train loss: 1.7132, Valid loss: 1.6845\n"
          ]
        },
        {
          "name": "stderr",
          "output_type": "stream",
          "text": [
            "Epoch [1560/3000]: 100%|██████████| 9/9 [00:00<00:00, 101.91it/s, loss=2.06]\n"
          ]
        },
        {
          "name": "stdout",
          "output_type": "stream",
          "text": [
            "Epoch [1560/3000]: Train loss: 1.7307, Valid loss: 1.8367\n"
          ]
        },
        {
          "name": "stderr",
          "output_type": "stream",
          "text": [
            "Epoch [1561/3000]: 100%|██████████| 9/9 [00:00<00:00, 101.07it/s, loss=1.34]\n"
          ]
        },
        {
          "name": "stdout",
          "output_type": "stream",
          "text": [
            "Epoch [1561/3000]: Train loss: 1.6844, Valid loss: 1.9422\n"
          ]
        },
        {
          "name": "stderr",
          "output_type": "stream",
          "text": [
            "Epoch [1562/3000]: 100%|██████████| 9/9 [00:00<00:00, 109.47it/s, loss=1.98]\n"
          ]
        },
        {
          "name": "stdout",
          "output_type": "stream",
          "text": [
            "Epoch [1562/3000]: Train loss: 1.7239, Valid loss: 2.3341\n"
          ]
        },
        {
          "name": "stderr",
          "output_type": "stream",
          "text": [
            "Epoch [1563/3000]: 100%|██████████| 9/9 [00:00<00:00, 108.70it/s, loss=1.87]\n"
          ]
        },
        {
          "name": "stdout",
          "output_type": "stream",
          "text": [
            "Epoch [1563/3000]: Train loss: 1.7184, Valid loss: 1.7823\n"
          ]
        },
        {
          "name": "stderr",
          "output_type": "stream",
          "text": [
            "Epoch [1564/3000]: 100%|██████████| 9/9 [00:00<00:00, 109.57it/s, loss=1.69]\n"
          ]
        },
        {
          "name": "stdout",
          "output_type": "stream",
          "text": [
            "Epoch [1564/3000]: Train loss: 1.7078, Valid loss: 1.8207\n"
          ]
        },
        {
          "name": "stderr",
          "output_type": "stream",
          "text": [
            "Epoch [1565/3000]: 100%|██████████| 9/9 [00:00<00:00, 103.33it/s, loss=1.57]\n"
          ]
        },
        {
          "name": "stdout",
          "output_type": "stream",
          "text": [
            "Epoch [1565/3000]: Train loss: 1.7002, Valid loss: 2.0239\n"
          ]
        },
        {
          "name": "stderr",
          "output_type": "stream",
          "text": [
            "Epoch [1566/3000]: 100%|██████████| 9/9 [00:00<00:00, 79.46it/s, loss=1.46]\n"
          ]
        },
        {
          "name": "stdout",
          "output_type": "stream",
          "text": [
            "Epoch [1566/3000]: Train loss: 1.6939, Valid loss: 1.9653\n"
          ]
        },
        {
          "name": "stderr",
          "output_type": "stream",
          "text": [
            "Epoch [1567/3000]: 100%|██████████| 9/9 [00:00<00:00, 98.63it/s, loss=2.07]\n"
          ]
        },
        {
          "name": "stdout",
          "output_type": "stream",
          "text": [
            "Epoch [1567/3000]: Train loss: 1.7331, Valid loss: 1.6596\n"
          ]
        },
        {
          "name": "stderr",
          "output_type": "stream",
          "text": [
            "Epoch [1568/3000]: 100%|██████████| 9/9 [00:00<00:00, 102.59it/s, loss=1.65]\n"
          ]
        },
        {
          "name": "stdout",
          "output_type": "stream",
          "text": [
            "Epoch [1568/3000]: Train loss: 1.7030, Valid loss: 1.9471\n"
          ]
        },
        {
          "name": "stderr",
          "output_type": "stream",
          "text": [
            "Epoch [1569/3000]: 100%|██████████| 9/9 [00:00<00:00, 116.86it/s, loss=1.5]\n"
          ]
        },
        {
          "name": "stdout",
          "output_type": "stream",
          "text": [
            "Epoch [1569/3000]: Train loss: 1.6935, Valid loss: 1.8162\n"
          ]
        },
        {
          "name": "stderr",
          "output_type": "stream",
          "text": [
            "Epoch [1570/3000]: 100%|██████████| 9/9 [00:00<00:00, 80.29it/s, loss=1.23]\n"
          ]
        },
        {
          "name": "stdout",
          "output_type": "stream",
          "text": [
            "Epoch [1570/3000]: Train loss: 1.6763, Valid loss: 1.9222\n"
          ]
        },
        {
          "name": "stderr",
          "output_type": "stream",
          "text": [
            "Epoch [1571/3000]: 100%|██████████| 9/9 [00:00<00:00, 93.52it/s, loss=2.25]\n"
          ]
        },
        {
          "name": "stdout",
          "output_type": "stream",
          "text": [
            "Epoch [1571/3000]: Train loss: 1.7392, Valid loss: 1.9633\n"
          ]
        },
        {
          "name": "stderr",
          "output_type": "stream",
          "text": [
            "Epoch [1572/3000]: 100%|██████████| 9/9 [00:00<00:00, 114.70it/s, loss=1.55]\n"
          ]
        },
        {
          "name": "stdout",
          "output_type": "stream",
          "text": [
            "Epoch [1572/3000]: Train loss: 1.6972, Valid loss: 1.8010\n"
          ]
        },
        {
          "name": "stderr",
          "output_type": "stream",
          "text": [
            "Epoch [1573/3000]: 100%|██████████| 9/9 [00:00<00:00, 112.32it/s, loss=1.65]\n"
          ]
        },
        {
          "name": "stdout",
          "output_type": "stream",
          "text": [
            "Epoch [1573/3000]: Train loss: 1.7053, Valid loss: 1.7888\n"
          ]
        },
        {
          "name": "stderr",
          "output_type": "stream",
          "text": [
            "Epoch [1574/3000]: 100%|██████████| 9/9 [00:00<00:00, 109.15it/s, loss=1.71]\n"
          ]
        },
        {
          "name": "stdout",
          "output_type": "stream",
          "text": [
            "Epoch [1574/3000]: Train loss: 1.7045, Valid loss: 1.8454\n"
          ]
        },
        {
          "name": "stderr",
          "output_type": "stream",
          "text": [
            "Epoch [1575/3000]: 100%|██████████| 9/9 [00:00<00:00, 111.31it/s, loss=1.61]\n"
          ]
        },
        {
          "name": "stdout",
          "output_type": "stream",
          "text": [
            "Epoch [1575/3000]: Train loss: 1.6994, Valid loss: 1.9638\n"
          ]
        },
        {
          "name": "stderr",
          "output_type": "stream",
          "text": [
            "Epoch [1576/3000]: 100%|██████████| 9/9 [00:00<00:00, 119.92it/s, loss=2.21]"
          ]
        },
        {
          "name": "stdout",
          "output_type": "stream",
          "text": [
            "Epoch [1576/3000]: Train loss: 1.7377, Valid loss: 1.8612"
          ]
        },
        {
          "name": "stderr",
          "output_type": "stream",
          "text": [
            "\n"
          ]
        },
        {
          "name": "stdout",
          "output_type": "stream",
          "text": [
            "\n"
          ]
        },
        {
          "name": "stderr",
          "output_type": "stream",
          "text": [
            "Epoch [1577/3000]: 100%|██████████| 9/9 [00:00<00:00, 118.81it/s, loss=1.55]"
          ]
        },
        {
          "name": "stdout",
          "output_type": "stream",
          "text": [
            "Epoch [1577/3000]: Train loss: 1.6942, Valid loss: 1.8882"
          ]
        },
        {
          "name": "stderr",
          "output_type": "stream",
          "text": [
            "\n"
          ]
        },
        {
          "name": "stdout",
          "output_type": "stream",
          "text": [
            "\n"
          ]
        },
        {
          "name": "stderr",
          "output_type": "stream",
          "text": [
            "Epoch [1578/3000]: 100%|██████████| 9/9 [00:00<00:00, 97.66it/s, loss=1.43]\n"
          ]
        },
        {
          "name": "stdout",
          "output_type": "stream",
          "text": [
            "Epoch [1578/3000]: Train loss: 1.6857, Valid loss: 1.7876\n"
          ]
        },
        {
          "name": "stderr",
          "output_type": "stream",
          "text": [
            "Epoch [1579/3000]: 100%|██████████| 9/9 [00:00<00:00, 114.00it/s, loss=1.5]\n"
          ]
        },
        {
          "name": "stdout",
          "output_type": "stream",
          "text": [
            "Epoch [1579/3000]: Train loss: 1.6907, Valid loss: 1.8888\n"
          ]
        },
        {
          "name": "stderr",
          "output_type": "stream",
          "text": [
            "Epoch [1580/3000]: 100%|██████████| 9/9 [00:00<00:00, 102.26it/s, loss=1.86]\n"
          ]
        },
        {
          "name": "stdout",
          "output_type": "stream",
          "text": [
            "Epoch [1580/3000]: Train loss: 1.7125, Valid loss: 1.9213\n"
          ]
        },
        {
          "name": "stderr",
          "output_type": "stream",
          "text": [
            "Epoch [1581/3000]: 100%|██████████| 9/9 [00:00<00:00, 115.10it/s, loss=1.89]\n"
          ]
        },
        {
          "name": "stdout",
          "output_type": "stream",
          "text": [
            "Epoch [1581/3000]: Train loss: 1.7157, Valid loss: 2.0255\n"
          ]
        },
        {
          "name": "stderr",
          "output_type": "stream",
          "text": [
            "Epoch [1582/3000]: 100%|██████████| 9/9 [00:00<00:00, 101.36it/s, loss=1.64]\n"
          ]
        },
        {
          "name": "stdout",
          "output_type": "stream",
          "text": [
            "Epoch [1582/3000]: Train loss: 1.6988, Valid loss: 2.1102\n"
          ]
        },
        {
          "name": "stderr",
          "output_type": "stream",
          "text": [
            "Epoch [1583/3000]: 100%|██████████| 9/9 [00:00<00:00, 106.54it/s, loss=1.53]\n"
          ]
        },
        {
          "name": "stdout",
          "output_type": "stream",
          "text": [
            "Epoch [1583/3000]: Train loss: 1.6909, Valid loss: 1.6391\n"
          ]
        },
        {
          "name": "stderr",
          "output_type": "stream",
          "text": [
            "Epoch [1584/3000]: 100%|██████████| 9/9 [00:00<00:00, 109.30it/s, loss=1.17]\n"
          ]
        },
        {
          "name": "stdout",
          "output_type": "stream",
          "text": [
            "Epoch [1584/3000]: Train loss: 1.6730, Valid loss: 2.0705\n"
          ]
        },
        {
          "name": "stderr",
          "output_type": "stream",
          "text": [
            "Epoch [1585/3000]: 100%|██████████| 9/9 [00:00<00:00, 116.77it/s, loss=1.64]\n"
          ]
        },
        {
          "name": "stdout",
          "output_type": "stream",
          "text": [
            "Epoch [1585/3000]: Train loss: 1.6984, Valid loss: 1.7055\n"
          ]
        },
        {
          "name": "stderr",
          "output_type": "stream",
          "text": [
            "Epoch [1586/3000]: 100%|██████████| 9/9 [00:00<00:00, 105.50it/s, loss=1.5]\n"
          ]
        },
        {
          "name": "stdout",
          "output_type": "stream",
          "text": [
            "Epoch [1586/3000]: Train loss: 1.6920, Valid loss: 1.8108\n"
          ]
        },
        {
          "name": "stderr",
          "output_type": "stream",
          "text": [
            "Epoch [1587/3000]: 100%|██████████| 9/9 [00:00<00:00, 119.84it/s, loss=1.4]\n"
          ]
        },
        {
          "name": "stdout",
          "output_type": "stream",
          "text": [
            "Epoch [1587/3000]: Train loss: 1.6817, Valid loss: 1.7390\n"
          ]
        },
        {
          "name": "stderr",
          "output_type": "stream",
          "text": [
            "Epoch [1588/3000]: 100%|██████████| 9/9 [00:00<00:00, 119.68it/s, loss=1.26]\n"
          ]
        },
        {
          "name": "stdout",
          "output_type": "stream",
          "text": [
            "Epoch [1588/3000]: Train loss: 1.6735, Valid loss: 2.0841\n"
          ]
        },
        {
          "name": "stderr",
          "output_type": "stream",
          "text": [
            "Epoch [1589/3000]: 100%|██████████| 9/9 [00:00<00:00, 70.48it/s, loss=1.53]\n"
          ]
        },
        {
          "name": "stdout",
          "output_type": "stream",
          "text": [
            "Epoch [1589/3000]: Train loss: 1.6902, Valid loss: 1.7163\n"
          ]
        },
        {
          "name": "stderr",
          "output_type": "stream",
          "text": [
            "Epoch [1590/3000]: 100%|██████████| 9/9 [00:00<00:00, 109.10it/s, loss=1.48]\n"
          ]
        },
        {
          "name": "stdout",
          "output_type": "stream",
          "text": [
            "Epoch [1590/3000]: Train loss: 1.6872, Valid loss: 2.1153\n"
          ]
        },
        {
          "name": "stderr",
          "output_type": "stream",
          "text": [
            "Epoch [1591/3000]: 100%|██████████| 9/9 [00:00<00:00, 99.87it/s, loss=1.65]\n"
          ]
        },
        {
          "name": "stdout",
          "output_type": "stream",
          "text": [
            "Epoch [1591/3000]: Train loss: 1.6971, Valid loss: 1.5293\n"
          ]
        },
        {
          "name": "stderr",
          "output_type": "stream",
          "text": [
            "Epoch [1592/3000]: 100%|██████████| 9/9 [00:00<00:00, 92.63it/s, loss=1.35]\n"
          ]
        },
        {
          "name": "stdout",
          "output_type": "stream",
          "text": [
            "Epoch [1592/3000]: Train loss: 1.6775, Valid loss: 1.8838\n"
          ]
        },
        {
          "name": "stderr",
          "output_type": "stream",
          "text": [
            "Epoch [1593/3000]: 100%|██████████| 9/9 [00:00<00:00, 96.48it/s, loss=1.92]\n"
          ]
        },
        {
          "name": "stdout",
          "output_type": "stream",
          "text": [
            "Epoch [1593/3000]: Train loss: 1.7176, Valid loss: 1.7006\n"
          ]
        },
        {
          "name": "stderr",
          "output_type": "stream",
          "text": [
            "Epoch [1594/3000]: 100%|██████████| 9/9 [00:00<00:00, 96.63it/s, loss=1.99]\n"
          ]
        },
        {
          "name": "stdout",
          "output_type": "stream",
          "text": [
            "Epoch [1594/3000]: Train loss: 1.7195, Valid loss: 1.9070\n"
          ]
        },
        {
          "name": "stderr",
          "output_type": "stream",
          "text": [
            "Epoch [1595/3000]: 100%|██████████| 9/9 [00:00<00:00, 61.59it/s, loss=1.41]\n"
          ]
        },
        {
          "name": "stdout",
          "output_type": "stream",
          "text": [
            "Epoch [1595/3000]: Train loss: 1.6841, Valid loss: 1.8005\n"
          ]
        },
        {
          "name": "stderr",
          "output_type": "stream",
          "text": [
            "Epoch [1596/3000]: 100%|██████████| 9/9 [00:00<00:00, 98.20it/s, loss=1.7]\n"
          ]
        },
        {
          "name": "stdout",
          "output_type": "stream",
          "text": [
            "Epoch [1596/3000]: Train loss: 1.7010, Valid loss: 2.1247\n"
          ]
        },
        {
          "name": "stderr",
          "output_type": "stream",
          "text": [
            "Epoch [1597/3000]: 100%|██████████| 9/9 [00:00<00:00, 113.38it/s, loss=2.09]\n"
          ]
        },
        {
          "name": "stdout",
          "output_type": "stream",
          "text": [
            "Epoch [1597/3000]: Train loss: 1.7245, Valid loss: 2.2852\n"
          ]
        },
        {
          "name": "stderr",
          "output_type": "stream",
          "text": [
            "Epoch [1598/3000]: 100%|██████████| 9/9 [00:00<00:00, 102.55it/s, loss=1.94]\n"
          ]
        },
        {
          "name": "stdout",
          "output_type": "stream",
          "text": [
            "Epoch [1598/3000]: Train loss: 1.7155, Valid loss: 1.9074\n"
          ]
        },
        {
          "name": "stderr",
          "output_type": "stream",
          "text": [
            "Epoch [1599/3000]: 100%|██████████| 9/9 [00:00<00:00, 34.84it/s, loss=1.35]\n"
          ]
        },
        {
          "name": "stdout",
          "output_type": "stream",
          "text": [
            "Epoch [1599/3000]: Train loss: 1.6798, Valid loss: 1.7532\n"
          ]
        },
        {
          "name": "stderr",
          "output_type": "stream",
          "text": [
            "Epoch [1600/3000]: 100%|██████████| 9/9 [00:00<00:00, 116.90it/s, loss=1.24]\n"
          ]
        },
        {
          "name": "stdout",
          "output_type": "stream",
          "text": [
            "Epoch [1600/3000]: Train loss: 1.6689, Valid loss: 1.9136\n"
          ]
        },
        {
          "name": "stderr",
          "output_type": "stream",
          "text": [
            "Epoch [1601/3000]: 100%|██████████| 9/9 [00:00<00:00, 111.07it/s, loss=2.37]\n"
          ]
        },
        {
          "name": "stdout",
          "output_type": "stream",
          "text": [
            "Epoch [1601/3000]: Train loss: 1.7384, Valid loss: 1.8823\n"
          ]
        },
        {
          "name": "stderr",
          "output_type": "stream",
          "text": [
            "Epoch [1602/3000]: 100%|██████████| 9/9 [00:00<00:00, 108.63it/s, loss=2.23]\n"
          ]
        },
        {
          "name": "stdout",
          "output_type": "stream",
          "text": [
            "Epoch [1602/3000]: Train loss: 1.7320, Valid loss: 2.0632\n"
          ]
        },
        {
          "name": "stderr",
          "output_type": "stream",
          "text": [
            "Epoch [1603/3000]: 100%|██████████| 9/9 [00:00<00:00, 119.76it/s, loss=2.02]"
          ]
        },
        {
          "name": "stdout",
          "output_type": "stream",
          "text": [
            "Epoch [1603/3000]: Train loss: 1.7182, Valid loss: 2.0308"
          ]
        },
        {
          "name": "stderr",
          "output_type": "stream",
          "text": [
            "\n"
          ]
        },
        {
          "name": "stdout",
          "output_type": "stream",
          "text": [
            "\n"
          ]
        },
        {
          "name": "stderr",
          "output_type": "stream",
          "text": [
            "Epoch [1604/3000]: 100%|██████████| 9/9 [00:00<00:00, 112.85it/s, loss=1.96]\n"
          ]
        },
        {
          "name": "stdout",
          "output_type": "stream",
          "text": [
            "Epoch [1604/3000]: Train loss: 1.7123, Valid loss: 1.6315\n"
          ]
        },
        {
          "name": "stderr",
          "output_type": "stream",
          "text": [
            "Epoch [1605/3000]: 100%|██████████| 9/9 [00:00<00:00, 123.81it/s, loss=1.54]\n"
          ]
        },
        {
          "name": "stdout",
          "output_type": "stream",
          "text": [
            "Epoch [1605/3000]: Train loss: 1.6941, Valid loss: 1.7224\n"
          ]
        },
        {
          "name": "stderr",
          "output_type": "stream",
          "text": [
            "Epoch [1606/3000]: 100%|██████████| 9/9 [00:00<00:00, 112.60it/s, loss=2.31]\n"
          ]
        },
        {
          "name": "stdout",
          "output_type": "stream",
          "text": [
            "Epoch [1606/3000]: Train loss: 1.7361, Valid loss: 1.8383\n"
          ]
        },
        {
          "name": "stderr",
          "output_type": "stream",
          "text": [
            "Epoch [1607/3000]: 100%|██████████| 9/9 [00:00<00:00, 107.53it/s, loss=2.5]\n"
          ]
        },
        {
          "name": "stdout",
          "output_type": "stream",
          "text": [
            "Epoch [1607/3000]: Train loss: 1.7455, Valid loss: 1.9605\n"
          ]
        },
        {
          "name": "stderr",
          "output_type": "stream",
          "text": [
            "Epoch [1608/3000]: 100%|██████████| 9/9 [00:00<00:00, 63.37it/s, loss=1.45]\n"
          ]
        },
        {
          "name": "stdout",
          "output_type": "stream",
          "text": [
            "Epoch [1608/3000]: Train loss: 1.6819, Valid loss: 1.8527\n"
          ]
        },
        {
          "name": "stderr",
          "output_type": "stream",
          "text": [
            "Epoch [1609/3000]: 100%|██████████| 9/9 [00:00<00:00, 101.44it/s, loss=1.43]\n"
          ]
        },
        {
          "name": "stdout",
          "output_type": "stream",
          "text": [
            "Epoch [1609/3000]: Train loss: 1.6777, Valid loss: 1.4780\n"
          ]
        },
        {
          "name": "stderr",
          "output_type": "stream",
          "text": [
            "Epoch [1610/3000]: 100%|██████████| 9/9 [00:00<00:00, 113.50it/s, loss=1.53]\n"
          ]
        },
        {
          "name": "stdout",
          "output_type": "stream",
          "text": [
            "Epoch [1610/3000]: Train loss: 1.6881, Valid loss: 2.1816\n"
          ]
        },
        {
          "name": "stderr",
          "output_type": "stream",
          "text": [
            "Epoch [1611/3000]: 100%|██████████| 9/9 [00:00<00:00, 119.76it/s, loss=1.67]\n"
          ]
        },
        {
          "name": "stdout",
          "output_type": "stream",
          "text": [
            "Epoch [1611/3000]: Train loss: 1.6935, Valid loss: 1.6923\n"
          ]
        },
        {
          "name": "stderr",
          "output_type": "stream",
          "text": [
            "Epoch [1612/3000]: 100%|██████████| 9/9 [00:00<00:00, 111.05it/s, loss=1.76]\n"
          ]
        },
        {
          "name": "stdout",
          "output_type": "stream",
          "text": [
            "Epoch [1612/3000]: Train loss: 1.6984, Valid loss: 2.1847\n"
          ]
        },
        {
          "name": "stderr",
          "output_type": "stream",
          "text": [
            "Epoch [1613/3000]: 100%|██████████| 9/9 [00:00<00:00, 121.08it/s, loss=1.35]"
          ]
        },
        {
          "name": "stdout",
          "output_type": "stream",
          "text": [
            "Epoch [1613/3000]: Train loss: 1.6785, Valid loss: 1.6831"
          ]
        },
        {
          "name": "stderr",
          "output_type": "stream",
          "text": [
            "\n"
          ]
        },
        {
          "name": "stdout",
          "output_type": "stream",
          "text": [
            "\n"
          ]
        },
        {
          "name": "stderr",
          "output_type": "stream",
          "text": [
            "Epoch [1614/3000]: 100%|██████████| 9/9 [00:00<00:00, 123.96it/s, loss=1.44]\n"
          ]
        },
        {
          "name": "stdout",
          "output_type": "stream",
          "text": [
            "Epoch [1614/3000]: Train loss: 1.6789, Valid loss: 1.6493\n"
          ]
        },
        {
          "name": "stderr",
          "output_type": "stream",
          "text": [
            "Epoch [1615/3000]: 100%|██████████| 9/9 [00:00<00:00, 113.52it/s, loss=1.92]"
          ]
        },
        {
          "name": "stdout",
          "output_type": "stream",
          "text": [
            "Epoch [1615/3000]: Train loss: 1.7116, Valid loss: 1.7027\n"
          ]
        },
        {
          "name": "stderr",
          "output_type": "stream",
          "text": [
            "\n",
            "Epoch [1616/3000]: 100%|██████████| 9/9 [00:00<00:00, 56.25it/s, loss=1.98]\n"
          ]
        },
        {
          "name": "stdout",
          "output_type": "stream",
          "text": [
            "Epoch [1616/3000]: Train loss: 1.7102, Valid loss: 1.7192\n"
          ]
        },
        {
          "name": "stderr",
          "output_type": "stream",
          "text": [
            "Epoch [1617/3000]: 100%|██████████| 9/9 [00:00<00:00, 112.23it/s, loss=1.4]\n"
          ]
        },
        {
          "name": "stdout",
          "output_type": "stream",
          "text": [
            "Epoch [1617/3000]: Train loss: 1.6745, Valid loss: 1.7415\n"
          ]
        },
        {
          "name": "stderr",
          "output_type": "stream",
          "text": [
            "Epoch [1618/3000]: 100%|██████████| 9/9 [00:00<00:00, 45.77it/s, loss=1.86]\n"
          ]
        },
        {
          "name": "stdout",
          "output_type": "stream",
          "text": [
            "Epoch [1618/3000]: Train loss: 1.7041, Valid loss: 1.9280\n"
          ]
        },
        {
          "name": "stderr",
          "output_type": "stream",
          "text": [
            "Epoch [1619/3000]: 100%|██████████| 9/9 [00:00<00:00, 103.07it/s, loss=1.86]\n"
          ]
        },
        {
          "name": "stdout",
          "output_type": "stream",
          "text": [
            "Epoch [1619/3000]: Train loss: 1.7033, Valid loss: 1.7080\n"
          ]
        },
        {
          "name": "stderr",
          "output_type": "stream",
          "text": [
            "Epoch [1620/3000]: 100%|██████████| 9/9 [00:00<00:00, 99.85it/s, loss=1.81]\n"
          ]
        },
        {
          "name": "stdout",
          "output_type": "stream",
          "text": [
            "Epoch [1620/3000]: Train loss: 1.6989, Valid loss: 1.7538\n"
          ]
        },
        {
          "name": "stderr",
          "output_type": "stream",
          "text": [
            "Epoch [1621/3000]: 100%|██████████| 9/9 [00:00<00:00, 99.85it/s, loss=2.26]\n"
          ]
        },
        {
          "name": "stdout",
          "output_type": "stream",
          "text": [
            "Epoch [1621/3000]: Train loss: 1.7285, Valid loss: 2.4784\n"
          ]
        },
        {
          "name": "stderr",
          "output_type": "stream",
          "text": [
            "Epoch [1622/3000]: 100%|██████████| 9/9 [00:00<00:00, 111.91it/s, loss=1.47]\n"
          ]
        },
        {
          "name": "stdout",
          "output_type": "stream",
          "text": [
            "Epoch [1622/3000]: Train loss: 1.6776, Valid loss: 1.8107\n"
          ]
        },
        {
          "name": "stderr",
          "output_type": "stream",
          "text": [
            "Epoch [1623/3000]: 100%|██████████| 9/9 [00:00<00:00, 106.95it/s, loss=2.33]\n"
          ]
        },
        {
          "name": "stdout",
          "output_type": "stream",
          "text": [
            "Epoch [1623/3000]: Train loss: 1.7340, Valid loss: 1.6174\n"
          ]
        },
        {
          "name": "stderr",
          "output_type": "stream",
          "text": [
            "Epoch [1624/3000]: 100%|██████████| 9/9 [00:00<00:00, 107.55it/s, loss=1.39]\n"
          ]
        },
        {
          "name": "stdout",
          "output_type": "stream",
          "text": [
            "Epoch [1624/3000]: Train loss: 1.6725, Valid loss: 1.9762\n"
          ]
        },
        {
          "name": "stderr",
          "output_type": "stream",
          "text": [
            "Epoch [1625/3000]: 100%|██████████| 9/9 [00:00<00:00, 124.56it/s, loss=1.6]\n"
          ]
        },
        {
          "name": "stdout",
          "output_type": "stream",
          "text": [
            "Epoch [1625/3000]: Train loss: 1.6866, Valid loss: 2.0500\n"
          ]
        },
        {
          "name": "stderr",
          "output_type": "stream",
          "text": [
            "Epoch [1626/3000]: 100%|██████████| 9/9 [00:00<00:00, 113.93it/s, loss=1.47]\n"
          ]
        },
        {
          "name": "stdout",
          "output_type": "stream",
          "text": [
            "Epoch [1626/3000]: Train loss: 1.6760, Valid loss: 1.8372\n"
          ]
        },
        {
          "name": "stderr",
          "output_type": "stream",
          "text": [
            "Epoch [1627/3000]: 100%|██████████| 9/9 [00:00<00:00, 115.40it/s, loss=2.04]\n"
          ]
        },
        {
          "name": "stdout",
          "output_type": "stream",
          "text": [
            "Epoch [1627/3000]: Train loss: 1.7116, Valid loss: 1.7652\n"
          ]
        },
        {
          "name": "stderr",
          "output_type": "stream",
          "text": [
            "Epoch [1628/3000]: 100%|██████████| 9/9 [00:00<00:00, 116.59it/s, loss=1.87]\n"
          ]
        },
        {
          "name": "stdout",
          "output_type": "stream",
          "text": [
            "Epoch [1628/3000]: Train loss: 1.7031, Valid loss: 1.8565\n"
          ]
        },
        {
          "name": "stderr",
          "output_type": "stream",
          "text": [
            "Epoch [1629/3000]: 100%|██████████| 9/9 [00:00<00:00, 122.31it/s, loss=2.08]"
          ]
        },
        {
          "name": "stdout",
          "output_type": "stream",
          "text": [
            "Epoch [1629/3000]: Train loss: 1.7144, Valid loss: 1.6601"
          ]
        },
        {
          "name": "stderr",
          "output_type": "stream",
          "text": [
            "\n"
          ]
        },
        {
          "name": "stdout",
          "output_type": "stream",
          "text": [
            "\n"
          ]
        },
        {
          "name": "stderr",
          "output_type": "stream",
          "text": [
            "Epoch [1630/3000]: 100%|██████████| 9/9 [00:00<00:00, 115.41it/s, loss=1.67]\n"
          ]
        },
        {
          "name": "stdout",
          "output_type": "stream",
          "text": [
            "Epoch [1630/3000]: Train loss: 1.6882, Valid loss: 1.9561\n"
          ]
        },
        {
          "name": "stderr",
          "output_type": "stream",
          "text": [
            "Epoch [1631/3000]: 100%|██████████| 9/9 [00:00<00:00, 114.06it/s, loss=1.91]\n"
          ]
        },
        {
          "name": "stdout",
          "output_type": "stream",
          "text": [
            "Epoch [1631/3000]: Train loss: 1.7059, Valid loss: 1.9810\n"
          ]
        },
        {
          "name": "stderr",
          "output_type": "stream",
          "text": [
            "Epoch [1632/3000]: 100%|██████████| 9/9 [00:00<00:00, 110.85it/s, loss=1.67]\n"
          ]
        },
        {
          "name": "stdout",
          "output_type": "stream",
          "text": [
            "Epoch [1632/3000]: Train loss: 1.6895, Valid loss: 1.8899\n"
          ]
        },
        {
          "name": "stderr",
          "output_type": "stream",
          "text": [
            "Epoch [1633/3000]: 100%|██████████| 9/9 [00:00<00:00, 114.05it/s, loss=2.36]\n"
          ]
        },
        {
          "name": "stdout",
          "output_type": "stream",
          "text": [
            "Epoch [1633/3000]: Train loss: 1.7316, Valid loss: 1.6577\n"
          ]
        },
        {
          "name": "stderr",
          "output_type": "stream",
          "text": [
            "Epoch [1634/3000]: 100%|██████████| 9/9 [00:00<00:00, 49.67it/s, loss=1.95]\n"
          ]
        },
        {
          "name": "stdout",
          "output_type": "stream",
          "text": [
            "Epoch [1634/3000]: Train loss: 1.7047, Valid loss: 1.9155\n"
          ]
        },
        {
          "name": "stderr",
          "output_type": "stream",
          "text": [
            "Epoch [1635/3000]: 100%|██████████| 9/9 [00:00<00:00, 116.29it/s, loss=1.49]\n"
          ]
        },
        {
          "name": "stdout",
          "output_type": "stream",
          "text": [
            "Epoch [1635/3000]: Train loss: 1.6797, Valid loss: 1.7231\n"
          ]
        },
        {
          "name": "stderr",
          "output_type": "stream",
          "text": [
            "Epoch [1636/3000]: 100%|██████████| 9/9 [00:00<00:00, 85.74it/s, loss=1.61]\n"
          ]
        },
        {
          "name": "stdout",
          "output_type": "stream",
          "text": [
            "Epoch [1636/3000]: Train loss: 1.6833, Valid loss: 1.8146\n"
          ]
        },
        {
          "name": "stderr",
          "output_type": "stream",
          "text": [
            "Epoch [1637/3000]: 100%|██████████| 9/9 [00:00<00:00, 115.78it/s, loss=1.36]\n"
          ]
        },
        {
          "name": "stdout",
          "output_type": "stream",
          "text": [
            "Epoch [1637/3000]: Train loss: 1.6709, Valid loss: 1.6622\n"
          ]
        },
        {
          "name": "stderr",
          "output_type": "stream",
          "text": [
            "Epoch [1638/3000]: 100%|██████████| 9/9 [00:00<00:00, 112.95it/s, loss=1.43]\n"
          ]
        },
        {
          "name": "stdout",
          "output_type": "stream",
          "text": [
            "Epoch [1638/3000]: Train loss: 1.6711, Valid loss: 2.1062\n"
          ]
        },
        {
          "name": "stderr",
          "output_type": "stream",
          "text": [
            "Epoch [1639/3000]: 100%|██████████| 9/9 [00:00<00:00, 116.63it/s, loss=1.72]"
          ]
        },
        {
          "name": "stdout",
          "output_type": "stream",
          "text": [
            "Epoch [1639/3000]: Train loss: 1.6914, Valid loss: 1.8745"
          ]
        },
        {
          "name": "stderr",
          "output_type": "stream",
          "text": [
            "\n"
          ]
        },
        {
          "name": "stdout",
          "output_type": "stream",
          "text": [
            "\n"
          ]
        },
        {
          "name": "stderr",
          "output_type": "stream",
          "text": [
            "Epoch [1640/3000]: 100%|██████████| 9/9 [00:00<00:00, 114.64it/s, loss=1.42]"
          ]
        },
        {
          "name": "stdout",
          "output_type": "stream",
          "text": [
            "Epoch [1640/3000]: Train loss: 1.6706, Valid loss: 1.7904"
          ]
        },
        {
          "name": "stderr",
          "output_type": "stream",
          "text": [
            "\n"
          ]
        },
        {
          "name": "stdout",
          "output_type": "stream",
          "text": [
            "\n"
          ]
        },
        {
          "name": "stderr",
          "output_type": "stream",
          "text": [
            "Epoch [1641/3000]: 100%|██████████| 9/9 [00:00<00:00, 91.38it/s, loss=2.16]\n"
          ]
        },
        {
          "name": "stdout",
          "output_type": "stream",
          "text": [
            "Epoch [1641/3000]: Train loss: 1.7205, Valid loss: 1.7134\n"
          ]
        },
        {
          "name": "stderr",
          "output_type": "stream",
          "text": [
            "Epoch [1642/3000]: 100%|██████████| 9/9 [00:00<00:00, 113.79it/s, loss=2.26]\n"
          ]
        },
        {
          "name": "stdout",
          "output_type": "stream",
          "text": [
            "Epoch [1642/3000]: Train loss: 1.7226, Valid loss: 1.9060\n"
          ]
        },
        {
          "name": "stderr",
          "output_type": "stream",
          "text": [
            "Epoch [1643/3000]: 100%|██████████| 9/9 [00:00<00:00, 115.97it/s, loss=1.57]\n"
          ]
        },
        {
          "name": "stdout",
          "output_type": "stream",
          "text": [
            "Epoch [1643/3000]: Train loss: 1.6814, Valid loss: 1.7199\n"
          ]
        },
        {
          "name": "stderr",
          "output_type": "stream",
          "text": [
            "Epoch [1644/3000]: 100%|██████████| 9/9 [00:00<00:00, 98.89it/s, loss=1.2]\n"
          ]
        },
        {
          "name": "stdout",
          "output_type": "stream",
          "text": [
            "Epoch [1644/3000]: Train loss: 1.6548, Valid loss: 1.5599\n"
          ]
        },
        {
          "name": "stderr",
          "output_type": "stream",
          "text": [
            "Epoch [1645/3000]: 100%|██████████| 9/9 [00:00<00:00, 118.62it/s, loss=1.6]\n"
          ]
        },
        {
          "name": "stdout",
          "output_type": "stream",
          "text": [
            "Epoch [1645/3000]: Train loss: 1.6847, Valid loss: 1.7520\n"
          ]
        },
        {
          "name": "stderr",
          "output_type": "stream",
          "text": [
            "Epoch [1646/3000]: 100%|██████████| 9/9 [00:00<00:00, 112.48it/s, loss=1.39]\n"
          ]
        },
        {
          "name": "stdout",
          "output_type": "stream",
          "text": [
            "Epoch [1646/3000]: Train loss: 1.6678, Valid loss: 1.8878\n"
          ]
        },
        {
          "name": "stderr",
          "output_type": "stream",
          "text": [
            "Epoch [1647/3000]: 100%|██████████| 9/9 [00:00<00:00, 52.45it/s, loss=1.14]\n"
          ]
        },
        {
          "name": "stdout",
          "output_type": "stream",
          "text": [
            "Epoch [1647/3000]: Train loss: 1.6528, Valid loss: 1.7807\n"
          ]
        },
        {
          "name": "stderr",
          "output_type": "stream",
          "text": [
            "Epoch [1648/3000]: 100%|██████████| 9/9 [00:00<00:00, 66.22it/s, loss=1.7] \n"
          ]
        },
        {
          "name": "stdout",
          "output_type": "stream",
          "text": [
            "Epoch [1648/3000]: Train loss: 1.6906, Valid loss: 1.6009\n"
          ]
        },
        {
          "name": "stderr",
          "output_type": "stream",
          "text": [
            "Epoch [1649/3000]: 100%|██████████| 9/9 [00:00<00:00, 114.89it/s, loss=1.49]\n"
          ]
        },
        {
          "name": "stdout",
          "output_type": "stream",
          "text": [
            "Epoch [1649/3000]: Train loss: 1.6745, Valid loss: 2.0566\n"
          ]
        },
        {
          "name": "stderr",
          "output_type": "stream",
          "text": [
            "Epoch [1650/3000]: 100%|██████████| 9/9 [00:00<00:00, 120.37it/s, loss=2.31]"
          ]
        },
        {
          "name": "stdout",
          "output_type": "stream",
          "text": [
            "Epoch [1650/3000]: Train loss: 1.7250, Valid loss: 1.9681"
          ]
        },
        {
          "name": "stderr",
          "output_type": "stream",
          "text": [
            "\n"
          ]
        },
        {
          "name": "stdout",
          "output_type": "stream",
          "text": [
            "\n"
          ]
        },
        {
          "name": "stderr",
          "output_type": "stream",
          "text": [
            "Epoch [1651/3000]: 100%|██████████| 9/9 [00:00<00:00, 121.22it/s, loss=1.68]\n"
          ]
        },
        {
          "name": "stdout",
          "output_type": "stream",
          "text": [
            "Epoch [1651/3000]: Train loss: 1.6834, Valid loss: 1.6855\n"
          ]
        },
        {
          "name": "stderr",
          "output_type": "stream",
          "text": [
            "Epoch [1652/3000]: 100%|██████████| 9/9 [00:00<00:00, 110.15it/s, loss=1.36]\n"
          ]
        },
        {
          "name": "stdout",
          "output_type": "stream",
          "text": [
            "Epoch [1652/3000]: Train loss: 1.6640, Valid loss: 1.7604\n"
          ]
        },
        {
          "name": "stderr",
          "output_type": "stream",
          "text": [
            "Epoch [1653/3000]: 100%|██████████| 9/9 [00:00<00:00, 121.72it/s, loss=1.36]\n"
          ]
        },
        {
          "name": "stdout",
          "output_type": "stream",
          "text": [
            "Epoch [1653/3000]: Train loss: 1.6641, Valid loss: 1.7709\n"
          ]
        },
        {
          "name": "stderr",
          "output_type": "stream",
          "text": [
            "Epoch [1654/3000]: 100%|██████████| 9/9 [00:00<00:00, 113.60it/s, loss=1.32]"
          ]
        },
        {
          "name": "stdout",
          "output_type": "stream",
          "text": [
            "Epoch [1654/3000]: Train loss: 1.6597, Valid loss: 1.9501"
          ]
        },
        {
          "name": "stderr",
          "output_type": "stream",
          "text": [
            "\n"
          ]
        },
        {
          "name": "stdout",
          "output_type": "stream",
          "text": [
            "\n"
          ]
        },
        {
          "name": "stderr",
          "output_type": "stream",
          "text": [
            "Epoch [1655/3000]: 100%|██████████| 9/9 [00:00<00:00, 116.70it/s, loss=1.86]\n"
          ]
        },
        {
          "name": "stdout",
          "output_type": "stream",
          "text": [
            "Epoch [1655/3000]: Train loss: 1.6980, Valid loss: 1.8771\n"
          ]
        },
        {
          "name": "stderr",
          "output_type": "stream",
          "text": [
            "Epoch [1656/3000]: 100%|██████████| 9/9 [00:00<00:00, 125.87it/s, loss=1.9]\n"
          ]
        },
        {
          "name": "stdout",
          "output_type": "stream",
          "text": [
            "Epoch [1656/3000]: Train loss: 1.6952, Valid loss: 1.9840\n"
          ]
        },
        {
          "name": "stderr",
          "output_type": "stream",
          "text": [
            "Epoch [1657/3000]: 100%|██████████| 9/9 [00:00<00:00, 122.73it/s, loss=1.54]\n"
          ]
        },
        {
          "name": "stdout",
          "output_type": "stream",
          "text": [
            "Epoch [1657/3000]: Train loss: 1.6800, Valid loss: 1.9197\n"
          ]
        },
        {
          "name": "stderr",
          "output_type": "stream",
          "text": [
            "Epoch [1658/3000]: 100%|██████████| 9/9 [00:00<00:00, 105.46it/s, loss=2.12]\n"
          ]
        },
        {
          "name": "stdout",
          "output_type": "stream",
          "text": [
            "Epoch [1658/3000]: Train loss: 1.7106, Valid loss: 1.6772\n"
          ]
        },
        {
          "name": "stderr",
          "output_type": "stream",
          "text": [
            "Epoch [1659/3000]: 100%|██████████| 9/9 [00:00<00:00, 109.88it/s, loss=1.95]\n"
          ]
        },
        {
          "name": "stdout",
          "output_type": "stream",
          "text": [
            "Epoch [1659/3000]: Train loss: 1.7021, Valid loss: 1.9172\n"
          ]
        },
        {
          "name": "stderr",
          "output_type": "stream",
          "text": [
            "Epoch [1660/3000]: 100%|██████████| 9/9 [00:00<00:00, 114.42it/s, loss=1.62]\n"
          ]
        },
        {
          "name": "stdout",
          "output_type": "stream",
          "text": [
            "Epoch [1660/3000]: Train loss: 1.6800, Valid loss: 1.8028\n"
          ]
        },
        {
          "name": "stderr",
          "output_type": "stream",
          "text": [
            "Epoch [1661/3000]: 100%|██████████| 9/9 [00:00<00:00, 115.12it/s, loss=2.3]\n"
          ]
        },
        {
          "name": "stdout",
          "output_type": "stream",
          "text": [
            "Epoch [1661/3000]: Train loss: 1.7222, Valid loss: 1.9197\n"
          ]
        },
        {
          "name": "stderr",
          "output_type": "stream",
          "text": [
            "Epoch [1662/3000]: 100%|██████████| 9/9 [00:00<00:00, 121.17it/s, loss=1.93]"
          ]
        },
        {
          "name": "stdout",
          "output_type": "stream",
          "text": [
            "Epoch [1662/3000]: Train loss: 1.7028, Valid loss: 2.1438"
          ]
        },
        {
          "name": "stderr",
          "output_type": "stream",
          "text": [
            "\n"
          ]
        },
        {
          "name": "stdout",
          "output_type": "stream",
          "text": [
            "\n"
          ]
        },
        {
          "name": "stderr",
          "output_type": "stream",
          "text": [
            "Epoch [1663/3000]: 100%|██████████| 9/9 [00:00<00:00, 127.01it/s, loss=1.67]\n"
          ]
        },
        {
          "name": "stdout",
          "output_type": "stream",
          "text": [
            "Epoch [1663/3000]: Train loss: 1.6811, Valid loss: 1.8373\n"
          ]
        },
        {
          "name": "stderr",
          "output_type": "stream",
          "text": [
            "Epoch [1664/3000]: 100%|██████████| 9/9 [00:00<00:00, 55.59it/s, loss=2.15]\n"
          ]
        },
        {
          "name": "stdout",
          "output_type": "stream",
          "text": [
            "Epoch [1664/3000]: Train loss: 1.7125, Valid loss: 1.9847\n"
          ]
        },
        {
          "name": "stderr",
          "output_type": "stream",
          "text": [
            "Epoch [1665/3000]: 100%|██████████| 9/9 [00:00<00:00, 107.91it/s, loss=1.82]\n"
          ]
        },
        {
          "name": "stdout",
          "output_type": "stream",
          "text": [
            "Epoch [1665/3000]: Train loss: 1.6898, Valid loss: 1.8405\n"
          ]
        },
        {
          "name": "stderr",
          "output_type": "stream",
          "text": [
            "Epoch [1666/3000]: 100%|██████████| 9/9 [00:00<00:00, 111.78it/s, loss=1.58]\n"
          ]
        },
        {
          "name": "stdout",
          "output_type": "stream",
          "text": [
            "Epoch [1666/3000]: Train loss: 1.6753, Valid loss: 1.8755\n"
          ]
        },
        {
          "name": "stderr",
          "output_type": "stream",
          "text": [
            "Epoch [1667/3000]: 100%|██████████| 9/9 [00:00<00:00, 104.37it/s, loss=1.83]\n"
          ]
        },
        {
          "name": "stdout",
          "output_type": "stream",
          "text": [
            "Epoch [1667/3000]: Train loss: 1.6930, Valid loss: 1.6580\n"
          ]
        },
        {
          "name": "stderr",
          "output_type": "stream",
          "text": [
            "Epoch [1668/3000]: 100%|██████████| 9/9 [00:00<00:00, 105.52it/s, loss=1.84]\n"
          ]
        },
        {
          "name": "stdout",
          "output_type": "stream",
          "text": [
            "Epoch [1668/3000]: Train loss: 1.6892, Valid loss: 1.8285\n"
          ]
        },
        {
          "name": "stderr",
          "output_type": "stream",
          "text": [
            "Epoch [1669/3000]: 100%|██████████| 9/9 [00:00<00:00, 110.93it/s, loss=1.83]\n"
          ]
        },
        {
          "name": "stdout",
          "output_type": "stream",
          "text": [
            "Epoch [1669/3000]: Train loss: 1.6925, Valid loss: 1.8806\n"
          ]
        },
        {
          "name": "stderr",
          "output_type": "stream",
          "text": [
            "Epoch [1670/3000]: 100%|██████████| 9/9 [00:00<00:00, 110.80it/s, loss=1.68]\n"
          ]
        },
        {
          "name": "stdout",
          "output_type": "stream",
          "text": [
            "Epoch [1670/3000]: Train loss: 1.6806, Valid loss: 2.0810\n"
          ]
        },
        {
          "name": "stderr",
          "output_type": "stream",
          "text": [
            "Epoch [1671/3000]: 100%|██████████| 9/9 [00:00<00:00, 107.19it/s, loss=1.35]\n"
          ]
        },
        {
          "name": "stdout",
          "output_type": "stream",
          "text": [
            "Epoch [1671/3000]: Train loss: 1.6565, Valid loss: 2.1017\n"
          ]
        },
        {
          "name": "stderr",
          "output_type": "stream",
          "text": [
            "Epoch [1672/3000]: 100%|██████████| 9/9 [00:00<00:00, 107.11it/s, loss=1.77]\n"
          ]
        },
        {
          "name": "stdout",
          "output_type": "stream",
          "text": [
            "Epoch [1672/3000]: Train loss: 1.6863, Valid loss: 1.8325\n"
          ]
        },
        {
          "name": "stderr",
          "output_type": "stream",
          "text": [
            "Epoch [1673/3000]: 100%|██████████| 9/9 [00:00<00:00, 110.14it/s, loss=2.05]\n"
          ]
        },
        {
          "name": "stdout",
          "output_type": "stream",
          "text": [
            "Epoch [1673/3000]: Train loss: 1.7037, Valid loss: 1.8882\n"
          ]
        },
        {
          "name": "stderr",
          "output_type": "stream",
          "text": [
            "Epoch [1674/3000]: 100%|██████████| 9/9 [00:00<00:00, 116.14it/s, loss=2.05]"
          ]
        },
        {
          "name": "stdout",
          "output_type": "stream",
          "text": [
            "Epoch [1674/3000]: Train loss: 1.7016, Valid loss: 1.8539"
          ]
        },
        {
          "name": "stderr",
          "output_type": "stream",
          "text": [
            "\n"
          ]
        },
        {
          "name": "stdout",
          "output_type": "stream",
          "text": [
            "\n"
          ]
        },
        {
          "name": "stderr",
          "output_type": "stream",
          "text": [
            "Epoch [1675/3000]: 100%|██████████| 9/9 [00:00<00:00, 117.87it/s, loss=1.66]\n"
          ]
        },
        {
          "name": "stdout",
          "output_type": "stream",
          "text": [
            "Epoch [1675/3000]: Train loss: 1.6769, Valid loss: 1.6956\n"
          ]
        },
        {
          "name": "stderr",
          "output_type": "stream",
          "text": [
            "Epoch [1676/3000]: 100%|██████████| 9/9 [00:00<00:00, 107.25it/s, loss=1.42]\n"
          ]
        },
        {
          "name": "stdout",
          "output_type": "stream",
          "text": [
            "Epoch [1676/3000]: Train loss: 1.6618, Valid loss: 1.8926\n"
          ]
        },
        {
          "name": "stderr",
          "output_type": "stream",
          "text": [
            "Epoch [1677/3000]: 100%|██████████| 9/9 [00:00<00:00, 108.45it/s, loss=1.72]\n"
          ]
        },
        {
          "name": "stdout",
          "output_type": "stream",
          "text": [
            "Epoch [1677/3000]: Train loss: 1.6837, Valid loss: 1.8262\n"
          ]
        },
        {
          "name": "stderr",
          "output_type": "stream",
          "text": [
            "Epoch [1678/3000]: 100%|██████████| 9/9 [00:00<00:00, 114.63it/s, loss=1.66]\n"
          ]
        },
        {
          "name": "stdout",
          "output_type": "stream",
          "text": [
            "Epoch [1678/3000]: Train loss: 1.6755, Valid loss: 1.7870\n"
          ]
        },
        {
          "name": "stderr",
          "output_type": "stream",
          "text": [
            "Epoch [1679/3000]: 100%|██████████| 9/9 [00:00<00:00, 99.90it/s, loss=1.93]\n"
          ]
        },
        {
          "name": "stdout",
          "output_type": "stream",
          "text": [
            "Epoch [1679/3000]: Train loss: 1.6932, Valid loss: 1.7159\n"
          ]
        },
        {
          "name": "stderr",
          "output_type": "stream",
          "text": [
            "Epoch [1680/3000]: 100%|██████████| 9/9 [00:00<00:00, 121.24it/s, loss=1.17]\n"
          ]
        },
        {
          "name": "stdout",
          "output_type": "stream",
          "text": [
            "Epoch [1680/3000]: Train loss: 1.6466, Valid loss: 1.5818\n"
          ]
        },
        {
          "name": "stderr",
          "output_type": "stream",
          "text": [
            "Epoch [1681/3000]: 100%|██████████| 9/9 [00:00<00:00, 125.65it/s, loss=1.77]\n"
          ]
        },
        {
          "name": "stdout",
          "output_type": "stream",
          "text": [
            "Epoch [1681/3000]: Train loss: 1.6817, Valid loss: 2.1403\n"
          ]
        },
        {
          "name": "stderr",
          "output_type": "stream",
          "text": [
            "Epoch [1682/3000]: 100%|██████████| 9/9 [00:00<00:00, 120.68it/s, loss=1.77]\n"
          ]
        },
        {
          "name": "stdout",
          "output_type": "stream",
          "text": [
            "Epoch [1682/3000]: Train loss: 1.6825, Valid loss: 1.8484\n"
          ]
        },
        {
          "name": "stderr",
          "output_type": "stream",
          "text": [
            "Epoch [1683/3000]: 100%|██████████| 9/9 [00:00<00:00, 114.05it/s, loss=1.46]"
          ]
        },
        {
          "name": "stdout",
          "output_type": "stream",
          "text": [
            "Epoch [1683/3000]: Train loss: 1.6634, Valid loss: 2.0612"
          ]
        },
        {
          "name": "stderr",
          "output_type": "stream",
          "text": [
            "\n"
          ]
        },
        {
          "name": "stdout",
          "output_type": "stream",
          "text": [
            "\n"
          ]
        },
        {
          "name": "stderr",
          "output_type": "stream",
          "text": [
            "Epoch [1684/3000]: 100%|██████████| 9/9 [00:00<00:00, 123.64it/s, loss=1.48]\n"
          ]
        },
        {
          "name": "stdout",
          "output_type": "stream",
          "text": [
            "Epoch [1684/3000]: Train loss: 1.6656, Valid loss: 2.0646\n"
          ]
        },
        {
          "name": "stderr",
          "output_type": "stream",
          "text": [
            "Epoch [1685/3000]: 100%|██████████| 9/9 [00:00<00:00, 115.60it/s, loss=1.98]"
          ]
        },
        {
          "name": "stdout",
          "output_type": "stream",
          "text": [
            "Epoch [1685/3000]: Train loss: 1.6935, Valid loss: 1.8329\n"
          ]
        },
        {
          "name": "stderr",
          "output_type": "stream",
          "text": [
            "\n",
            "Epoch [1686/3000]: 100%|██████████| 9/9 [00:00<00:00, 115.60it/s, loss=1.53]"
          ]
        },
        {
          "name": "stdout",
          "output_type": "stream",
          "text": [
            "Epoch [1686/3000]: Train loss: 1.6695, Valid loss: 2.0671"
          ]
        },
        {
          "name": "stderr",
          "output_type": "stream",
          "text": [
            "\n"
          ]
        },
        {
          "name": "stdout",
          "output_type": "stream",
          "text": [
            "\n"
          ]
        },
        {
          "name": "stderr",
          "output_type": "stream",
          "text": [
            "Epoch [1687/3000]: 100%|██████████| 9/9 [00:00<00:00, 61.02it/s, loss=1.26]\n"
          ]
        },
        {
          "name": "stdout",
          "output_type": "stream",
          "text": [
            "Epoch [1687/3000]: Train loss: 1.6508, Valid loss: 2.0681\n"
          ]
        },
        {
          "name": "stderr",
          "output_type": "stream",
          "text": [
            "Epoch [1688/3000]: 100%|██████████| 9/9 [00:00<00:00, 112.11it/s, loss=1.4]\n"
          ]
        },
        {
          "name": "stdout",
          "output_type": "stream",
          "text": [
            "Epoch [1688/3000]: Train loss: 1.6600, Valid loss: 1.9476\n"
          ]
        },
        {
          "name": "stderr",
          "output_type": "stream",
          "text": [
            "Epoch [1689/3000]: 100%|██████████| 9/9 [00:00<00:00, 114.24it/s, loss=1.48]"
          ]
        },
        {
          "name": "stdout",
          "output_type": "stream",
          "text": [
            "Epoch [1689/3000]: Train loss: 1.6637, Valid loss: 2.0143"
          ]
        },
        {
          "name": "stderr",
          "output_type": "stream",
          "text": [
            "\n"
          ]
        },
        {
          "name": "stdout",
          "output_type": "stream",
          "text": [
            "\n"
          ]
        },
        {
          "name": "stderr",
          "output_type": "stream",
          "text": [
            "Epoch [1690/3000]: 100%|██████████| 9/9 [00:00<00:00, 93.44it/s, loss=1.82]\n"
          ]
        },
        {
          "name": "stdout",
          "output_type": "stream",
          "text": [
            "Epoch [1690/3000]: Train loss: 1.6826, Valid loss: 1.7956\n"
          ]
        },
        {
          "name": "stderr",
          "output_type": "stream",
          "text": [
            "Epoch [1691/3000]: 100%|██████████| 9/9 [00:00<00:00, 92.47it/s, loss=2.27]\n"
          ]
        },
        {
          "name": "stdout",
          "output_type": "stream",
          "text": [
            "Epoch [1691/3000]: Train loss: 1.7129, Valid loss: 1.8197\n"
          ]
        },
        {
          "name": "stderr",
          "output_type": "stream",
          "text": [
            "Epoch [1692/3000]: 100%|██████████| 9/9 [00:00<00:00, 115.54it/s, loss=2.25]\n"
          ]
        },
        {
          "name": "stdout",
          "output_type": "stream",
          "text": [
            "Epoch [1692/3000]: Train loss: 1.7126, Valid loss: 2.1544\n"
          ]
        },
        {
          "name": "stderr",
          "output_type": "stream",
          "text": [
            "Epoch [1693/3000]: 100%|██████████| 9/9 [00:00<00:00, 117.88it/s, loss=2.23]\n"
          ]
        },
        {
          "name": "stdout",
          "output_type": "stream",
          "text": [
            "Epoch [1693/3000]: Train loss: 1.7098, Valid loss: 1.9973\n"
          ]
        },
        {
          "name": "stderr",
          "output_type": "stream",
          "text": [
            "Epoch [1694/3000]: 100%|██████████| 9/9 [00:00<00:00, 122.88it/s, loss=1.87]\n"
          ]
        },
        {
          "name": "stdout",
          "output_type": "stream",
          "text": [
            "Epoch [1694/3000]: Train loss: 1.6857, Valid loss: 1.8569\n"
          ]
        },
        {
          "name": "stderr",
          "output_type": "stream",
          "text": [
            "Epoch [1695/3000]: 100%|██████████| 9/9 [00:00<00:00, 126.57it/s, loss=2.27]\n"
          ]
        },
        {
          "name": "stdout",
          "output_type": "stream",
          "text": [
            "Epoch [1695/3000]: Train loss: 1.7139, Valid loss: 1.8331\n"
          ]
        },
        {
          "name": "stderr",
          "output_type": "stream",
          "text": [
            "Epoch [1696/3000]: 100%|██████████| 9/9 [00:00<00:00, 125.70it/s, loss=1.1]\n"
          ]
        },
        {
          "name": "stdout",
          "output_type": "stream",
          "text": [
            "Epoch [1696/3000]: Train loss: 1.6373, Valid loss: 1.6648\n"
          ]
        },
        {
          "name": "stderr",
          "output_type": "stream",
          "text": [
            "Epoch [1697/3000]: 100%|██████████| 9/9 [00:00<00:00, 118.94it/s, loss=2.11]\n"
          ]
        },
        {
          "name": "stdout",
          "output_type": "stream",
          "text": [
            "Epoch [1697/3000]: Train loss: 1.7016, Valid loss: 2.1171\n"
          ]
        },
        {
          "name": "stderr",
          "output_type": "stream",
          "text": [
            "Epoch [1698/3000]: 100%|██████████| 9/9 [00:00<00:00, 99.21it/s, loss=1.68]\n"
          ]
        },
        {
          "name": "stdout",
          "output_type": "stream",
          "text": [
            "Epoch [1698/3000]: Train loss: 1.6753, Valid loss: 1.9122\n"
          ]
        },
        {
          "name": "stderr",
          "output_type": "stream",
          "text": [
            "Epoch [1699/3000]: 100%|██████████| 9/9 [00:00<00:00, 107.52it/s, loss=1.16]\n"
          ]
        },
        {
          "name": "stdout",
          "output_type": "stream",
          "text": [
            "Epoch [1699/3000]: Train loss: 1.6423, Valid loss: 2.2338\n"
          ]
        },
        {
          "name": "stderr",
          "output_type": "stream",
          "text": [
            "Epoch [1700/3000]: 100%|██████████| 9/9 [00:00<00:00, 114.98it/s, loss=1.86]\n"
          ]
        },
        {
          "name": "stdout",
          "output_type": "stream",
          "text": [
            "Epoch [1700/3000]: Train loss: 1.6862, Valid loss: 1.8268\n"
          ]
        },
        {
          "name": "stderr",
          "output_type": "stream",
          "text": [
            "Epoch [1701/3000]: 100%|██████████| 9/9 [00:00<00:00, 110.82it/s, loss=2.27]\n"
          ]
        },
        {
          "name": "stdout",
          "output_type": "stream",
          "text": [
            "Epoch [1701/3000]: Train loss: 1.7086, Valid loss: 1.8050\n"
          ]
        },
        {
          "name": "stderr",
          "output_type": "stream",
          "text": [
            "Epoch [1702/3000]: 100%|██████████| 9/9 [00:00<00:00, 114.27it/s, loss=1.37]"
          ]
        },
        {
          "name": "stdout",
          "output_type": "stream",
          "text": [
            "Epoch [1702/3000]: Train loss: 1.6518, Valid loss: 2.0269"
          ]
        },
        {
          "name": "stderr",
          "output_type": "stream",
          "text": [
            "\n"
          ]
        },
        {
          "name": "stdout",
          "output_type": "stream",
          "text": [
            "\n"
          ]
        },
        {
          "name": "stderr",
          "output_type": "stream",
          "text": [
            "Epoch [1703/3000]: 100%|██████████| 9/9 [00:00<00:00, 114.21it/s, loss=1.42]\n"
          ]
        },
        {
          "name": "stdout",
          "output_type": "stream",
          "text": [
            "Epoch [1703/3000]: Train loss: 1.6572, Valid loss: 1.7252\n"
          ]
        },
        {
          "name": "stderr",
          "output_type": "stream",
          "text": [
            "Epoch [1704/3000]: 100%|██████████| 9/9 [00:00<00:00, 86.10it/s, loss=1.78]\n"
          ]
        },
        {
          "name": "stdout",
          "output_type": "stream",
          "text": [
            "Epoch [1704/3000]: Train loss: 1.6789, Valid loss: 1.7483\n"
          ]
        },
        {
          "name": "stderr",
          "output_type": "stream",
          "text": [
            "Epoch [1705/3000]: 100%|██████████| 9/9 [00:00<00:00, 114.54it/s, loss=1.75]\n"
          ]
        },
        {
          "name": "stdout",
          "output_type": "stream",
          "text": [
            "Epoch [1705/3000]: Train loss: 1.6838, Valid loss: 1.9863\n"
          ]
        },
        {
          "name": "stderr",
          "output_type": "stream",
          "text": [
            "Epoch [1706/3000]: 100%|██████████| 9/9 [00:00<00:00, 127.64it/s, loss=1.58]\n"
          ]
        },
        {
          "name": "stdout",
          "output_type": "stream",
          "text": [
            "Epoch [1706/3000]: Train loss: 1.6676, Valid loss: 1.6970\n"
          ]
        },
        {
          "name": "stderr",
          "output_type": "stream",
          "text": [
            "Epoch [1707/3000]: 100%|██████████| 9/9 [00:00<00:00, 121.29it/s, loss=1.72]"
          ]
        },
        {
          "name": "stdout",
          "output_type": "stream",
          "text": [
            "Epoch [1707/3000]: Train loss: 1.6761, Valid loss: 2.0633"
          ]
        },
        {
          "name": "stderr",
          "output_type": "stream",
          "text": [
            "\n"
          ]
        },
        {
          "name": "stdout",
          "output_type": "stream",
          "text": [
            "\n"
          ]
        },
        {
          "name": "stderr",
          "output_type": "stream",
          "text": [
            "Epoch [1708/3000]: 100%|██████████| 9/9 [00:00<00:00, 121.42it/s, loss=1.48]\n"
          ]
        },
        {
          "name": "stdout",
          "output_type": "stream",
          "text": [
            "Epoch [1708/3000]: Train loss: 1.6593, Valid loss: 1.7293\n"
          ]
        },
        {
          "name": "stderr",
          "output_type": "stream",
          "text": [
            "Epoch [1709/3000]: 100%|██████████| 9/9 [00:00<00:00, 98.58it/s, loss=1.46]\n"
          ]
        },
        {
          "name": "stdout",
          "output_type": "stream",
          "text": [
            "Epoch [1709/3000]: Train loss: 1.6557, Valid loss: 2.0322\n"
          ]
        },
        {
          "name": "stderr",
          "output_type": "stream",
          "text": [
            "Epoch [1710/3000]: 100%|██████████| 9/9 [00:00<00:00, 60.56it/s, loss=1.6] \n"
          ]
        },
        {
          "name": "stdout",
          "output_type": "stream",
          "text": [
            "Epoch [1710/3000]: Train loss: 1.6665, Valid loss: 2.2042\n"
          ]
        },
        {
          "name": "stderr",
          "output_type": "stream",
          "text": [
            "Epoch [1711/3000]: 100%|██████████| 9/9 [00:00<00:00, 105.82it/s, loss=2]\n"
          ]
        },
        {
          "name": "stdout",
          "output_type": "stream",
          "text": [
            "Epoch [1711/3000]: Train loss: 1.6922, Valid loss: 2.0284\n"
          ]
        },
        {
          "name": "stderr",
          "output_type": "stream",
          "text": [
            "Epoch [1712/3000]: 100%|██████████| 9/9 [00:00<00:00, 124.11it/s, loss=1.15]\n"
          ]
        },
        {
          "name": "stdout",
          "output_type": "stream",
          "text": [
            "Epoch [1712/3000]: Train loss: 1.6380, Valid loss: 1.7633\n"
          ]
        },
        {
          "name": "stderr",
          "output_type": "stream",
          "text": [
            "Epoch [1713/3000]: 100%|██████████| 9/9 [00:00<00:00, 114.04it/s, loss=1.47]\n"
          ]
        },
        {
          "name": "stdout",
          "output_type": "stream",
          "text": [
            "Epoch [1713/3000]: Train loss: 1.6586, Valid loss: 1.7380\n"
          ]
        },
        {
          "name": "stderr",
          "output_type": "stream",
          "text": [
            "Epoch [1714/3000]: 100%|██████████| 9/9 [00:00<00:00, 84.19it/s, loss=1.33]\n"
          ]
        },
        {
          "name": "stdout",
          "output_type": "stream",
          "text": [
            "Epoch [1714/3000]: Train loss: 1.6494, Valid loss: 2.0837\n"
          ]
        },
        {
          "name": "stderr",
          "output_type": "stream",
          "text": [
            "Epoch [1715/3000]: 100%|██████████| 9/9 [00:00<00:00, 105.76it/s, loss=1.65]\n"
          ]
        },
        {
          "name": "stdout",
          "output_type": "stream",
          "text": [
            "Epoch [1715/3000]: Train loss: 1.6689, Valid loss: 2.2161\n"
          ]
        },
        {
          "name": "stderr",
          "output_type": "stream",
          "text": [
            "Epoch [1716/3000]: 100%|██████████| 9/9 [00:00<00:00, 118.61it/s, loss=1.39]\n"
          ]
        },
        {
          "name": "stdout",
          "output_type": "stream",
          "text": [
            "Epoch [1716/3000]: Train loss: 1.6521, Valid loss: 1.9258\n"
          ]
        },
        {
          "name": "stderr",
          "output_type": "stream",
          "text": [
            "Epoch [1717/3000]: 100%|██████████| 9/9 [00:00<00:00, 123.01it/s, loss=1.71]\n"
          ]
        },
        {
          "name": "stdout",
          "output_type": "stream",
          "text": [
            "Epoch [1717/3000]: Train loss: 1.6722, Valid loss: 2.1422\n"
          ]
        },
        {
          "name": "stderr",
          "output_type": "stream",
          "text": [
            "Epoch [1718/3000]: 100%|██████████| 9/9 [00:00<00:00, 128.05it/s, loss=2.42]\n"
          ]
        },
        {
          "name": "stdout",
          "output_type": "stream",
          "text": [
            "Epoch [1718/3000]: Train loss: 1.7142, Valid loss: 1.6623\n"
          ]
        },
        {
          "name": "stderr",
          "output_type": "stream",
          "text": [
            "Epoch [1719/3000]: 100%|██████████| 9/9 [00:00<00:00, 115.87it/s, loss=1.49]\n"
          ]
        },
        {
          "name": "stdout",
          "output_type": "stream",
          "text": [
            "Epoch [1719/3000]: Train loss: 1.6562, Valid loss: 1.7929\n"
          ]
        },
        {
          "name": "stderr",
          "output_type": "stream",
          "text": [
            "Epoch [1720/3000]: 100%|██████████| 9/9 [00:00<00:00, 103.08it/s, loss=1.68]\n"
          ]
        },
        {
          "name": "stdout",
          "output_type": "stream",
          "text": [
            "Epoch [1720/3000]: Train loss: 1.6705, Valid loss: 1.6684\n"
          ]
        },
        {
          "name": "stderr",
          "output_type": "stream",
          "text": [
            "Epoch [1721/3000]: 100%|██████████| 9/9 [00:00<00:00, 118.43it/s, loss=1.56]\n"
          ]
        },
        {
          "name": "stdout",
          "output_type": "stream",
          "text": [
            "Epoch [1721/3000]: Train loss: 1.6611, Valid loss: 1.7307\n"
          ]
        },
        {
          "name": "stderr",
          "output_type": "stream",
          "text": [
            "Epoch [1722/3000]: 100%|██████████| 9/9 [00:00<00:00, 125.37it/s, loss=1.84]\n"
          ]
        },
        {
          "name": "stdout",
          "output_type": "stream",
          "text": [
            "Epoch [1722/3000]: Train loss: 1.6782, Valid loss: 1.8651\n"
          ]
        },
        {
          "name": "stderr",
          "output_type": "stream",
          "text": [
            "Epoch [1723/3000]: 100%|██████████| 9/9 [00:00<00:00, 130.75it/s, loss=1.54]\n"
          ]
        },
        {
          "name": "stdout",
          "output_type": "stream",
          "text": [
            "Epoch [1723/3000]: Train loss: 1.6589, Valid loss: 1.8290\n"
          ]
        },
        {
          "name": "stderr",
          "output_type": "stream",
          "text": [
            "Epoch [1724/3000]: 100%|██████████| 9/9 [00:00<00:00, 121.19it/s, loss=1.45]\n"
          ]
        },
        {
          "name": "stdout",
          "output_type": "stream",
          "text": [
            "Epoch [1724/3000]: Train loss: 1.6537, Valid loss: 1.7769\n"
          ]
        },
        {
          "name": "stderr",
          "output_type": "stream",
          "text": [
            "Epoch [1725/3000]: 100%|██████████| 9/9 [00:00<00:00, 116.04it/s, loss=1.7]"
          ]
        },
        {
          "name": "stdout",
          "output_type": "stream",
          "text": [
            "Epoch [1725/3000]: Train loss: 1.6670, Valid loss: 1.9602\n"
          ]
        },
        {
          "name": "stderr",
          "output_type": "stream",
          "text": [
            "\n",
            "Epoch [1726/3000]: 100%|██████████| 9/9 [00:00<00:00, 112.20it/s, loss=1.6]"
          ]
        },
        {
          "name": "stdout",
          "output_type": "stream",
          "text": [
            "Epoch [1726/3000]: Train loss: 1.6618, Valid loss: 1.7597"
          ]
        },
        {
          "name": "stderr",
          "output_type": "stream",
          "text": [
            "\n"
          ]
        },
        {
          "name": "stdout",
          "output_type": "stream",
          "text": [
            "\n"
          ]
        },
        {
          "name": "stderr",
          "output_type": "stream",
          "text": [
            "Epoch [1727/3000]: 100%|██████████| 9/9 [00:00<00:00, 111.39it/s, loss=1.27]\n"
          ]
        },
        {
          "name": "stdout",
          "output_type": "stream",
          "text": [
            "Epoch [1727/3000]: Train loss: 1.6440, Valid loss: 1.8025\n"
          ]
        },
        {
          "name": "stderr",
          "output_type": "stream",
          "text": [
            "Epoch [1728/3000]: 100%|██████████| 9/9 [00:00<00:00, 77.02it/s, loss=1.15]\n"
          ]
        },
        {
          "name": "stdout",
          "output_type": "stream",
          "text": [
            "Epoch [1728/3000]: Train loss: 1.6333, Valid loss: 2.3307\n"
          ]
        },
        {
          "name": "stderr",
          "output_type": "stream",
          "text": [
            "Epoch [1729/3000]: 100%|██████████| 9/9 [00:00<00:00, 110.17it/s, loss=1.62]\n"
          ]
        },
        {
          "name": "stdout",
          "output_type": "stream",
          "text": [
            "Epoch [1729/3000]: Train loss: 1.6622, Valid loss: 1.8166\n"
          ]
        },
        {
          "name": "stderr",
          "output_type": "stream",
          "text": [
            "Epoch [1730/3000]: 100%|██████████| 9/9 [00:00<00:00, 119.70it/s, loss=1.55]\n"
          ]
        },
        {
          "name": "stdout",
          "output_type": "stream",
          "text": [
            "Epoch [1730/3000]: Train loss: 1.6572, Valid loss: 1.5937\n"
          ]
        },
        {
          "name": "stderr",
          "output_type": "stream",
          "text": [
            "Epoch [1731/3000]: 100%|██████████| 9/9 [00:00<00:00, 108.42it/s, loss=1.95]\n"
          ]
        },
        {
          "name": "stdout",
          "output_type": "stream",
          "text": [
            "Epoch [1731/3000]: Train loss: 1.6826, Valid loss: 1.8477\n"
          ]
        },
        {
          "name": "stderr",
          "output_type": "stream",
          "text": [
            "Epoch [1732/3000]: 100%|██████████| 9/9 [00:00<00:00, 120.26it/s, loss=2.83]\n"
          ]
        },
        {
          "name": "stdout",
          "output_type": "stream",
          "text": [
            "Epoch [1732/3000]: Train loss: 1.7391, Valid loss: 1.6909\n"
          ]
        },
        {
          "name": "stderr",
          "output_type": "stream",
          "text": [
            "Epoch [1733/3000]: 100%|██████████| 9/9 [00:00<00:00, 110.17it/s, loss=1.94]"
          ]
        },
        {
          "name": "stdout",
          "output_type": "stream",
          "text": [
            "Epoch [1733/3000]: Train loss: 1.6820, Valid loss: 1.5730"
          ]
        },
        {
          "name": "stderr",
          "output_type": "stream",
          "text": [
            "\n"
          ]
        },
        {
          "name": "stdout",
          "output_type": "stream",
          "text": [
            "\n"
          ]
        },
        {
          "name": "stderr",
          "output_type": "stream",
          "text": [
            "Epoch [1734/3000]: 100%|██████████| 9/9 [00:00<00:00, 125.75it/s, loss=2.03]"
          ]
        },
        {
          "name": "stdout",
          "output_type": "stream",
          "text": [
            "Epoch [1734/3000]: Train loss: 1.6857, Valid loss: 1.7046"
          ]
        },
        {
          "name": "stderr",
          "output_type": "stream",
          "text": [
            "\n"
          ]
        },
        {
          "name": "stdout",
          "output_type": "stream",
          "text": [
            "\n"
          ]
        },
        {
          "name": "stderr",
          "output_type": "stream",
          "text": [
            "Epoch [1735/3000]: 100%|██████████| 9/9 [00:00<00:00, 133.22it/s, loss=1.68]\n"
          ]
        },
        {
          "name": "stdout",
          "output_type": "stream",
          "text": [
            "Epoch [1735/3000]: Train loss: 1.6665, Valid loss: 1.8293\n"
          ]
        },
        {
          "name": "stderr",
          "output_type": "stream",
          "text": [
            "Epoch [1736/3000]: 100%|██████████| 9/9 [00:00<00:00, 128.03it/s, loss=1.91]\n"
          ]
        },
        {
          "name": "stdout",
          "output_type": "stream",
          "text": [
            "Epoch [1736/3000]: Train loss: 1.6792, Valid loss: 1.5922\n"
          ]
        },
        {
          "name": "stderr",
          "output_type": "stream",
          "text": [
            "Epoch [1737/3000]: 100%|██████████| 9/9 [00:00<00:00, 60.90it/s, loss=1.73]\n"
          ]
        },
        {
          "name": "stdout",
          "output_type": "stream",
          "text": [
            "Epoch [1737/3000]: Train loss: 1.6674, Valid loss: 1.7428\n"
          ]
        },
        {
          "name": "stderr",
          "output_type": "stream",
          "text": [
            "Epoch [1738/3000]: 100%|██████████| 9/9 [00:00<00:00, 135.17it/s, loss=1.86]\n"
          ]
        },
        {
          "name": "stdout",
          "output_type": "stream",
          "text": [
            "Epoch [1738/3000]: Train loss: 1.6779, Valid loss: 1.6836\n"
          ]
        },
        {
          "name": "stderr",
          "output_type": "stream",
          "text": [
            "Epoch [1739/3000]: 100%|██████████| 9/9 [00:00<00:00, 120.08it/s, loss=1.4]\n"
          ]
        },
        {
          "name": "stdout",
          "output_type": "stream",
          "text": [
            "Epoch [1739/3000]: Train loss: 1.6468, Valid loss: 2.0637\n"
          ]
        },
        {
          "name": "stderr",
          "output_type": "stream",
          "text": [
            "Epoch [1740/3000]: 100%|██████████| 9/9 [00:00<00:00, 108.76it/s, loss=1.72]\n"
          ]
        },
        {
          "name": "stdout",
          "output_type": "stream",
          "text": [
            "Epoch [1740/3000]: Train loss: 1.6690, Valid loss: 1.7775\n"
          ]
        },
        {
          "name": "stderr",
          "output_type": "stream",
          "text": [
            "Epoch [1741/3000]: 100%|██████████| 9/9 [00:00<00:00, 118.61it/s, loss=1.64]\n"
          ]
        },
        {
          "name": "stdout",
          "output_type": "stream",
          "text": [
            "Epoch [1741/3000]: Train loss: 1.6608, Valid loss: 1.6000\n"
          ]
        },
        {
          "name": "stderr",
          "output_type": "stream",
          "text": [
            "Epoch [1742/3000]: 100%|██████████| 9/9 [00:00<00:00, 119.25it/s, loss=1.72]"
          ]
        },
        {
          "name": "stdout",
          "output_type": "stream",
          "text": [
            "Epoch [1742/3000]: Train loss: 1.6668, Valid loss: 1.7295"
          ]
        },
        {
          "name": "stderr",
          "output_type": "stream",
          "text": [
            "\n"
          ]
        },
        {
          "name": "stdout",
          "output_type": "stream",
          "text": [
            "\n"
          ]
        },
        {
          "name": "stderr",
          "output_type": "stream",
          "text": [
            "Epoch [1743/3000]: 100%|██████████| 9/9 [00:00<00:00, 110.29it/s, loss=1.37]"
          ]
        },
        {
          "name": "stdout",
          "output_type": "stream",
          "text": [
            "Epoch [1743/3000]: Train loss: 1.6448, Valid loss: 2.2498"
          ]
        },
        {
          "name": "stderr",
          "output_type": "stream",
          "text": [
            "\n"
          ]
        },
        {
          "name": "stdout",
          "output_type": "stream",
          "text": [
            "\n"
          ]
        },
        {
          "name": "stderr",
          "output_type": "stream",
          "text": [
            "Epoch [1744/3000]: 100%|██████████| 9/9 [00:00<00:00, 111.07it/s, loss=1.23]\n"
          ]
        },
        {
          "name": "stdout",
          "output_type": "stream",
          "text": [
            "Epoch [1744/3000]: Train loss: 1.6330, Valid loss: 2.0448\n"
          ]
        },
        {
          "name": "stderr",
          "output_type": "stream",
          "text": [
            "Epoch [1745/3000]: 100%|██████████| 9/9 [00:00<00:00, 105.97it/s, loss=1.67]\n"
          ]
        },
        {
          "name": "stdout",
          "output_type": "stream",
          "text": [
            "Epoch [1745/3000]: Train loss: 1.6634, Valid loss: 1.7736\n"
          ]
        },
        {
          "name": "stderr",
          "output_type": "stream",
          "text": [
            "Epoch [1746/3000]: 100%|██████████| 9/9 [00:00<00:00, 94.65it/s, loss=2.04]\n"
          ]
        },
        {
          "name": "stdout",
          "output_type": "stream",
          "text": [
            "Epoch [1746/3000]: Train loss: 1.6837, Valid loss: 1.9099\n"
          ]
        },
        {
          "name": "stderr",
          "output_type": "stream",
          "text": [
            "Epoch [1747/3000]: 100%|██████████| 9/9 [00:00<00:00, 118.32it/s, loss=1.41]\n"
          ]
        },
        {
          "name": "stdout",
          "output_type": "stream",
          "text": [
            "Epoch [1747/3000]: Train loss: 1.6459, Valid loss: 1.6389\n"
          ]
        },
        {
          "name": "stderr",
          "output_type": "stream",
          "text": [
            "Epoch [1748/3000]: 100%|██████████| 9/9 [00:00<00:00, 80.93it/s, loss=1.54]\n"
          ]
        },
        {
          "name": "stdout",
          "output_type": "stream",
          "text": [
            "Epoch [1748/3000]: Train loss: 1.6519, Valid loss: 1.8274\n"
          ]
        },
        {
          "name": "stderr",
          "output_type": "stream",
          "text": [
            "Epoch [1749/3000]: 100%|██████████| 9/9 [00:00<00:00, 116.09it/s, loss=1.51]\n"
          ]
        },
        {
          "name": "stdout",
          "output_type": "stream",
          "text": [
            "Epoch [1749/3000]: Train loss: 1.6503, Valid loss: 1.5846\n"
          ]
        },
        {
          "name": "stderr",
          "output_type": "stream",
          "text": [
            "Epoch [1750/3000]: 100%|██████████| 9/9 [00:00<00:00, 105.87it/s, loss=2.1]\n"
          ]
        },
        {
          "name": "stdout",
          "output_type": "stream",
          "text": [
            "Epoch [1750/3000]: Train loss: 1.6875, Valid loss: 2.0170\n"
          ]
        },
        {
          "name": "stderr",
          "output_type": "stream",
          "text": [
            "Epoch [1751/3000]: 100%|██████████| 9/9 [00:00<00:00, 122.54it/s, loss=2.67]\n"
          ]
        },
        {
          "name": "stdout",
          "output_type": "stream",
          "text": [
            "Epoch [1751/3000]: Train loss: 1.7223, Valid loss: 1.9496\n"
          ]
        },
        {
          "name": "stderr",
          "output_type": "stream",
          "text": [
            "Epoch [1752/3000]: 100%|██████████| 9/9 [00:00<00:00, 110.00it/s, loss=1.55]\n"
          ]
        },
        {
          "name": "stdout",
          "output_type": "stream",
          "text": [
            "Epoch [1752/3000]: Train loss: 1.6530, Valid loss: 1.9406\n"
          ]
        },
        {
          "name": "stderr",
          "output_type": "stream",
          "text": [
            "Epoch [1753/3000]: 100%|██████████| 9/9 [00:00<00:00, 121.80it/s, loss=1.63]\n"
          ]
        },
        {
          "name": "stdout",
          "output_type": "stream",
          "text": [
            "Epoch [1753/3000]: Train loss: 1.6562, Valid loss: 1.6013\n"
          ]
        },
        {
          "name": "stderr",
          "output_type": "stream",
          "text": [
            "Epoch [1754/3000]: 100%|██████████| 9/9 [00:00<00:00, 117.30it/s, loss=1.94]"
          ]
        },
        {
          "name": "stdout",
          "output_type": "stream",
          "text": [
            "Epoch [1754/3000]: Train loss: 1.6761, Valid loss: 1.6305"
          ]
        },
        {
          "name": "stderr",
          "output_type": "stream",
          "text": [
            "\n"
          ]
        },
        {
          "name": "stdout",
          "output_type": "stream",
          "text": [
            "\n"
          ]
        },
        {
          "name": "stderr",
          "output_type": "stream",
          "text": [
            "Epoch [1755/3000]: 100%|██████████| 9/9 [00:00<00:00, 120.39it/s, loss=1.66]\n"
          ]
        },
        {
          "name": "stdout",
          "output_type": "stream",
          "text": [
            "Epoch [1755/3000]: Train loss: 1.6582, Valid loss: 2.1150\n"
          ]
        },
        {
          "name": "stderr",
          "output_type": "stream",
          "text": [
            "Epoch [1756/3000]: 100%|██████████| 9/9 [00:00<00:00, 119.60it/s, loss=1.59]\n"
          ]
        },
        {
          "name": "stdout",
          "output_type": "stream",
          "text": [
            "Epoch [1756/3000]: Train loss: 1.6554, Valid loss: 1.7261\n"
          ]
        },
        {
          "name": "stderr",
          "output_type": "stream",
          "text": [
            "Epoch [1757/3000]: 100%|██████████| 9/9 [00:00<00:00, 110.00it/s, loss=1.27]\n"
          ]
        },
        {
          "name": "stdout",
          "output_type": "stream",
          "text": [
            "Epoch [1757/3000]: Train loss: 1.6339, Valid loss: 1.9342\n"
          ]
        },
        {
          "name": "stderr",
          "output_type": "stream",
          "text": [
            "Epoch [1758/3000]: 100%|██████████| 9/9 [00:00<00:00, 113.68it/s, loss=1.63]\n"
          ]
        },
        {
          "name": "stdout",
          "output_type": "stream",
          "text": [
            "Epoch [1758/3000]: Train loss: 1.6556, Valid loss: 1.9524\n"
          ]
        },
        {
          "name": "stderr",
          "output_type": "stream",
          "text": [
            "Epoch [1759/3000]: 100%|██████████| 9/9 [00:00<00:00, 134.59it/s, loss=1.68]\n"
          ]
        },
        {
          "name": "stdout",
          "output_type": "stream",
          "text": [
            "Epoch [1759/3000]: Train loss: 1.6605, Valid loss: 2.0096\n"
          ]
        },
        {
          "name": "stderr",
          "output_type": "stream",
          "text": [
            "Epoch [1760/3000]: 100%|██████████| 9/9 [00:00<00:00, 123.76it/s, loss=1.34]\n"
          ]
        },
        {
          "name": "stdout",
          "output_type": "stream",
          "text": [
            "Epoch [1760/3000]: Train loss: 1.6380, Valid loss: 2.0413\n"
          ]
        },
        {
          "name": "stderr",
          "output_type": "stream",
          "text": [
            "Epoch [1761/3000]: 100%|██████████| 9/9 [00:00<00:00, 125.36it/s, loss=1.25]\n"
          ]
        },
        {
          "name": "stdout",
          "output_type": "stream",
          "text": [
            "Epoch [1761/3000]: Train loss: 1.6350, Valid loss: 2.0916\n"
          ]
        },
        {
          "name": "stderr",
          "output_type": "stream",
          "text": [
            "Epoch [1762/3000]: 100%|██████████| 9/9 [00:00<00:00, 60.14it/s, loss=1.69]\n"
          ]
        },
        {
          "name": "stdout",
          "output_type": "stream",
          "text": [
            "Epoch [1762/3000]: Train loss: 1.6578, Valid loss: 1.8419\n"
          ]
        },
        {
          "name": "stderr",
          "output_type": "stream",
          "text": [
            "Epoch [1763/3000]: 100%|██████████| 9/9 [00:00<00:00, 118.19it/s, loss=1.82]\n"
          ]
        },
        {
          "name": "stdout",
          "output_type": "stream",
          "text": [
            "Epoch [1763/3000]: Train loss: 1.6701, Valid loss: 1.7734\n"
          ]
        },
        {
          "name": "stderr",
          "output_type": "stream",
          "text": [
            "Epoch [1764/3000]: 100%|██████████| 9/9 [00:00<00:00, 119.10it/s, loss=1.64]\n"
          ]
        },
        {
          "name": "stdout",
          "output_type": "stream",
          "text": [
            "Epoch [1764/3000]: Train loss: 1.6570, Valid loss: 2.0818\n"
          ]
        },
        {
          "name": "stderr",
          "output_type": "stream",
          "text": [
            "Epoch [1765/3000]: 100%|██████████| 9/9 [00:00<00:00, 109.72it/s, loss=2.18]\n"
          ]
        },
        {
          "name": "stdout",
          "output_type": "stream",
          "text": [
            "Epoch [1765/3000]: Train loss: 1.6909, Valid loss: 1.6256\n"
          ]
        },
        {
          "name": "stderr",
          "output_type": "stream",
          "text": [
            "Epoch [1766/3000]: 100%|██████████| 9/9 [00:00<00:00, 119.29it/s, loss=1.26]\n"
          ]
        },
        {
          "name": "stdout",
          "output_type": "stream",
          "text": [
            "Epoch [1766/3000]: Train loss: 1.6340, Valid loss: 2.1345\n"
          ]
        },
        {
          "name": "stderr",
          "output_type": "stream",
          "text": [
            "Epoch [1767/3000]: 100%|██████████| 9/9 [00:00<00:00, 129.81it/s, loss=1.66]\n"
          ]
        },
        {
          "name": "stdout",
          "output_type": "stream",
          "text": [
            "Epoch [1767/3000]: Train loss: 1.6571, Valid loss: 1.8253\n"
          ]
        },
        {
          "name": "stderr",
          "output_type": "stream",
          "text": [
            "Epoch [1768/3000]: 100%|██████████| 9/9 [00:00<00:00, 126.97it/s, loss=1.95]\n"
          ]
        },
        {
          "name": "stdout",
          "output_type": "stream",
          "text": [
            "Epoch [1768/3000]: Train loss: 1.6771, Valid loss: 2.1857\n"
          ]
        },
        {
          "name": "stderr",
          "output_type": "stream",
          "text": [
            "Epoch [1769/3000]: 100%|██████████| 9/9 [00:00<00:00, 122.66it/s, loss=1.72]\n"
          ]
        },
        {
          "name": "stdout",
          "output_type": "stream",
          "text": [
            "Epoch [1769/3000]: Train loss: 1.6619, Valid loss: 1.9998\n"
          ]
        },
        {
          "name": "stderr",
          "output_type": "stream",
          "text": [
            "Epoch [1770/3000]: 100%|██████████| 9/9 [00:00<00:00, 128.91it/s, loss=2.35]"
          ]
        },
        {
          "name": "stdout",
          "output_type": "stream",
          "text": [
            "Epoch [1770/3000]: Train loss: 1.6983, Valid loss: 1.9231"
          ]
        },
        {
          "name": "stderr",
          "output_type": "stream",
          "text": [
            "\n"
          ]
        },
        {
          "name": "stdout",
          "output_type": "stream",
          "text": [
            "\n"
          ]
        },
        {
          "name": "stderr",
          "output_type": "stream",
          "text": [
            "Epoch [1771/3000]: 100%|██████████| 9/9 [00:00<00:00, 121.69it/s, loss=1.33]\n"
          ]
        },
        {
          "name": "stdout",
          "output_type": "stream",
          "text": [
            "Epoch [1771/3000]: Train loss: 1.6383, Valid loss: 1.8445\n"
          ]
        },
        {
          "name": "stderr",
          "output_type": "stream",
          "text": [
            "Epoch [1772/3000]: 100%|██████████| 9/9 [00:00<00:00, 122.77it/s, loss=1.58]\n"
          ]
        },
        {
          "name": "stdout",
          "output_type": "stream",
          "text": [
            "Epoch [1772/3000]: Train loss: 1.6496, Valid loss: 1.6156\n"
          ]
        },
        {
          "name": "stderr",
          "output_type": "stream",
          "text": [
            "Epoch [1773/3000]: 100%|██████████| 9/9 [00:00<00:00, 65.87it/s, loss=1.8] \n"
          ]
        },
        {
          "name": "stdout",
          "output_type": "stream",
          "text": [
            "Epoch [1773/3000]: Train loss: 1.6652, Valid loss: 1.6154\n"
          ]
        },
        {
          "name": "stderr",
          "output_type": "stream",
          "text": [
            "Epoch [1774/3000]: 100%|██████████| 9/9 [00:00<00:00, 127.36it/s, loss=1.76]\n"
          ]
        },
        {
          "name": "stdout",
          "output_type": "stream",
          "text": [
            "Epoch [1774/3000]: Train loss: 1.6601, Valid loss: 1.8217\n"
          ]
        },
        {
          "name": "stderr",
          "output_type": "stream",
          "text": [
            "Epoch [1775/3000]: 100%|██████████| 9/9 [00:00<00:00, 128.94it/s, loss=1.85]\n"
          ]
        },
        {
          "name": "stdout",
          "output_type": "stream",
          "text": [
            "Epoch [1775/3000]: Train loss: 1.6684, Valid loss: 1.6317\n"
          ]
        },
        {
          "name": "stderr",
          "output_type": "stream",
          "text": [
            "Epoch [1776/3000]: 100%|██████████| 9/9 [00:00<00:00, 115.60it/s, loss=1.7]"
          ]
        },
        {
          "name": "stdout",
          "output_type": "stream",
          "text": [
            "Epoch [1776/3000]: Train loss: 1.6610, Valid loss: 1.6581"
          ]
        },
        {
          "name": "stderr",
          "output_type": "stream",
          "text": [
            "\n"
          ]
        },
        {
          "name": "stdout",
          "output_type": "stream",
          "text": [
            "\n"
          ]
        },
        {
          "name": "stderr",
          "output_type": "stream",
          "text": [
            "Epoch [1777/3000]: 100%|██████████| 9/9 [00:00<00:00, 135.33it/s, loss=1.76]\n"
          ]
        },
        {
          "name": "stdout",
          "output_type": "stream",
          "text": [
            "Epoch [1777/3000]: Train loss: 1.6659, Valid loss: 1.7837\n"
          ]
        },
        {
          "name": "stderr",
          "output_type": "stream",
          "text": [
            "Epoch [1778/3000]: 100%|██████████| 9/9 [00:00<00:00, 118.52it/s, loss=1.64]\n"
          ]
        },
        {
          "name": "stdout",
          "output_type": "stream",
          "text": [
            "Epoch [1778/3000]: Train loss: 1.6626, Valid loss: 1.9228\n"
          ]
        },
        {
          "name": "stderr",
          "output_type": "stream",
          "text": [
            "Epoch [1779/3000]: 100%|██████████| 9/9 [00:00<00:00, 125.92it/s, loss=1.46]\n"
          ]
        },
        {
          "name": "stdout",
          "output_type": "stream",
          "text": [
            "Epoch [1779/3000]: Train loss: 1.6401, Valid loss: 1.9770\n"
          ]
        },
        {
          "name": "stderr",
          "output_type": "stream",
          "text": [
            "Epoch [1780/3000]: 100%|██████████| 9/9 [00:00<00:00, 122.66it/s, loss=1.87]\n"
          ]
        },
        {
          "name": "stdout",
          "output_type": "stream",
          "text": [
            "Epoch [1780/3000]: Train loss: 1.6687, Valid loss: 1.6067\n"
          ]
        },
        {
          "name": "stderr",
          "output_type": "stream",
          "text": [
            "Epoch [1781/3000]: 100%|██████████| 9/9 [00:00<00:00, 128.58it/s, loss=1.62]\n"
          ]
        },
        {
          "name": "stdout",
          "output_type": "stream",
          "text": [
            "Epoch [1781/3000]: Train loss: 1.6526, Valid loss: 2.2011\n"
          ]
        },
        {
          "name": "stderr",
          "output_type": "stream",
          "text": [
            "Epoch [1782/3000]: 100%|██████████| 9/9 [00:00<00:00, 122.56it/s, loss=1.54]\n"
          ]
        },
        {
          "name": "stdout",
          "output_type": "stream",
          "text": [
            "Epoch [1782/3000]: Train loss: 1.6452, Valid loss: 2.2651\n"
          ]
        },
        {
          "name": "stderr",
          "output_type": "stream",
          "text": [
            "Epoch [1783/3000]: 100%|██████████| 9/9 [00:00<00:00, 121.54it/s, loss=1.53]\n"
          ]
        },
        {
          "name": "stdout",
          "output_type": "stream",
          "text": [
            "Epoch [1783/3000]: Train loss: 1.6471, Valid loss: 1.6337\n"
          ]
        },
        {
          "name": "stderr",
          "output_type": "stream",
          "text": [
            "Epoch [1784/3000]: 100%|██████████| 9/9 [00:00<00:00, 122.39it/s, loss=1.82]\n"
          ]
        },
        {
          "name": "stdout",
          "output_type": "stream",
          "text": [
            "Epoch [1784/3000]: Train loss: 1.6630, Valid loss: 1.7616\n"
          ]
        },
        {
          "name": "stderr",
          "output_type": "stream",
          "text": [
            "Epoch [1785/3000]: 100%|██████████| 9/9 [00:00<00:00, 101.06it/s, loss=1.64]\n"
          ]
        },
        {
          "name": "stdout",
          "output_type": "stream",
          "text": [
            "Epoch [1785/3000]: Train loss: 1.6516, Valid loss: 2.1706\n"
          ]
        },
        {
          "name": "stderr",
          "output_type": "stream",
          "text": [
            "Epoch [1786/3000]: 100%|██████████| 9/9 [00:00<00:00, 126.89it/s, loss=1.48]\n"
          ]
        },
        {
          "name": "stdout",
          "output_type": "stream",
          "text": [
            "Epoch [1786/3000]: Train loss: 1.6430, Valid loss: 1.9205\n"
          ]
        },
        {
          "name": "stderr",
          "output_type": "stream",
          "text": [
            "Epoch [1787/3000]: 100%|██████████| 9/9 [00:00<00:00, 125.95it/s, loss=1.36]\n"
          ]
        },
        {
          "name": "stdout",
          "output_type": "stream",
          "text": [
            "Epoch [1787/3000]: Train loss: 1.6349, Valid loss: 1.9349\n"
          ]
        },
        {
          "name": "stderr",
          "output_type": "stream",
          "text": [
            "Epoch [1788/3000]: 100%|██████████| 9/9 [00:00<00:00, 132.50it/s, loss=2.18]\n"
          ]
        },
        {
          "name": "stdout",
          "output_type": "stream",
          "text": [
            "Epoch [1788/3000]: Train loss: 1.6867, Valid loss: 1.9150\n"
          ]
        },
        {
          "name": "stderr",
          "output_type": "stream",
          "text": [
            "Epoch [1789/3000]: 100%|██████████| 9/9 [00:00<00:00, 124.56it/s, loss=1.58]\n"
          ]
        },
        {
          "name": "stdout",
          "output_type": "stream",
          "text": [
            "Epoch [1789/3000]: Train loss: 1.6453, Valid loss: 1.8362\n"
          ]
        },
        {
          "name": "stderr",
          "output_type": "stream",
          "text": [
            "Epoch [1790/3000]: 100%|██████████| 9/9 [00:00<00:00, 119.12it/s, loss=1.5]\n"
          ]
        },
        {
          "name": "stdout",
          "output_type": "stream",
          "text": [
            "Epoch [1790/3000]: Train loss: 1.6416, Valid loss: 1.7430\n"
          ]
        },
        {
          "name": "stderr",
          "output_type": "stream",
          "text": [
            "Epoch [1791/3000]: 100%|██████████| 9/9 [00:00<00:00, 122.99it/s, loss=1.38]"
          ]
        },
        {
          "name": "stdout",
          "output_type": "stream",
          "text": [
            "Epoch [1791/3000]: Train loss: 1.6337, Valid loss: 1.8495"
          ]
        },
        {
          "name": "stderr",
          "output_type": "stream",
          "text": [
            "\n"
          ]
        },
        {
          "name": "stdout",
          "output_type": "stream",
          "text": [
            "\n"
          ]
        },
        {
          "name": "stderr",
          "output_type": "stream",
          "text": [
            "Epoch [1792/3000]: 100%|██████████| 9/9 [00:00<00:00, 123.20it/s, loss=1.53]\n"
          ]
        },
        {
          "name": "stdout",
          "output_type": "stream",
          "text": [
            "Epoch [1792/3000]: Train loss: 1.6428, Valid loss: 1.8873\n"
          ]
        },
        {
          "name": "stderr",
          "output_type": "stream",
          "text": [
            "Epoch [1793/3000]: 100%|██████████| 9/9 [00:00<00:00, 135.65it/s, loss=1.86]\n"
          ]
        },
        {
          "name": "stdout",
          "output_type": "stream",
          "text": [
            "Epoch [1793/3000]: Train loss: 1.6617, Valid loss: 1.9609\n"
          ]
        },
        {
          "name": "stderr",
          "output_type": "stream",
          "text": [
            "Epoch [1794/3000]: 100%|██████████| 9/9 [00:00<00:00, 130.93it/s, loss=1.45]\n"
          ]
        },
        {
          "name": "stdout",
          "output_type": "stream",
          "text": [
            "Epoch [1794/3000]: Train loss: 1.6373, Valid loss: 2.0260\n"
          ]
        },
        {
          "name": "stderr",
          "output_type": "stream",
          "text": [
            "Epoch [1795/3000]: 100%|██████████| 9/9 [00:00<00:00, 133.33it/s, loss=1.76]\n"
          ]
        },
        {
          "name": "stdout",
          "output_type": "stream",
          "text": [
            "Epoch [1795/3000]: Train loss: 1.6558, Valid loss: 1.9432\n"
          ]
        },
        {
          "name": "stderr",
          "output_type": "stream",
          "text": [
            "Epoch [1796/3000]: 100%|██████████| 9/9 [00:00<00:00, 123.73it/s, loss=1.64]\n"
          ]
        },
        {
          "name": "stdout",
          "output_type": "stream",
          "text": [
            "Epoch [1796/3000]: Train loss: 1.6490, Valid loss: 2.0620\n"
          ]
        },
        {
          "name": "stderr",
          "output_type": "stream",
          "text": [
            "Epoch [1797/3000]: 100%|██████████| 9/9 [00:00<00:00, 107.03it/s, loss=1.59]\n"
          ]
        },
        {
          "name": "stdout",
          "output_type": "stream",
          "text": [
            "Epoch [1797/3000]: Train loss: 1.6527, Valid loss: 1.7582\n"
          ]
        },
        {
          "name": "stderr",
          "output_type": "stream",
          "text": [
            "Epoch [1798/3000]: 100%|██████████| 9/9 [00:00<00:00, 120.55it/s, loss=1.82]"
          ]
        },
        {
          "name": "stdout",
          "output_type": "stream",
          "text": [
            "Epoch [1798/3000]: Train loss: 1.6627, Valid loss: 1.7917"
          ]
        },
        {
          "name": "stderr",
          "output_type": "stream",
          "text": [
            "\n"
          ]
        },
        {
          "name": "stdout",
          "output_type": "stream",
          "text": [
            "\n"
          ]
        },
        {
          "name": "stderr",
          "output_type": "stream",
          "text": [
            "Epoch [1799/3000]: 100%|██████████| 9/9 [00:00<00:00, 125.04it/s, loss=1.26]\n"
          ]
        },
        {
          "name": "stdout",
          "output_type": "stream",
          "text": [
            "Epoch [1799/3000]: Train loss: 1.6261, Valid loss: 1.5633\n"
          ]
        },
        {
          "name": "stderr",
          "output_type": "stream",
          "text": [
            "Epoch [1800/3000]: 100%|██████████| 9/9 [00:00<00:00, 125.15it/s, loss=1.32]\n"
          ]
        },
        {
          "name": "stdout",
          "output_type": "stream",
          "text": [
            "Epoch [1800/3000]: Train loss: 1.6286, Valid loss: 1.7840\n"
          ]
        },
        {
          "name": "stderr",
          "output_type": "stream",
          "text": [
            "Epoch [1801/3000]: 100%|██████████| 9/9 [00:00<00:00, 126.00it/s, loss=1.73]\n"
          ]
        },
        {
          "name": "stdout",
          "output_type": "stream",
          "text": [
            "Epoch [1801/3000]: Train loss: 1.6525, Valid loss: 1.6090\n"
          ]
        },
        {
          "name": "stderr",
          "output_type": "stream",
          "text": [
            "Epoch [1802/3000]: 100%|██████████| 9/9 [00:00<00:00, 119.43it/s, loss=1.25]\n"
          ]
        },
        {
          "name": "stdout",
          "output_type": "stream",
          "text": [
            "Epoch [1802/3000]: Train loss: 1.6249, Valid loss: 2.3383\n"
          ]
        },
        {
          "name": "stderr",
          "output_type": "stream",
          "text": [
            "Epoch [1803/3000]: 100%|██████████| 9/9 [00:00<00:00, 130.65it/s, loss=1.31]\n"
          ]
        },
        {
          "name": "stdout",
          "output_type": "stream",
          "text": [
            "Epoch [1803/3000]: Train loss: 1.6276, Valid loss: 1.8719\n"
          ]
        },
        {
          "name": "stderr",
          "output_type": "stream",
          "text": [
            "Epoch [1804/3000]: 100%|██████████| 9/9 [00:00<00:00, 125.96it/s, loss=1.3]\n"
          ]
        },
        {
          "name": "stdout",
          "output_type": "stream",
          "text": [
            "Epoch [1804/3000]: Train loss: 1.6275, Valid loss: 2.0739\n"
          ]
        },
        {
          "name": "stderr",
          "output_type": "stream",
          "text": [
            "Epoch [1805/3000]: 100%|██████████| 9/9 [00:00<00:00, 110.41it/s, loss=1.79]\n"
          ]
        },
        {
          "name": "stdout",
          "output_type": "stream",
          "text": [
            "Epoch [1805/3000]: Train loss: 1.6571, Valid loss: 1.8618\n"
          ]
        },
        {
          "name": "stderr",
          "output_type": "stream",
          "text": [
            "Epoch [1806/3000]: 100%|██████████| 9/9 [00:00<00:00, 128.61it/s, loss=1.03]\n"
          ]
        },
        {
          "name": "stdout",
          "output_type": "stream",
          "text": [
            "Epoch [1806/3000]: Train loss: 1.6072, Valid loss: 1.5820\n"
          ]
        },
        {
          "name": "stderr",
          "output_type": "stream",
          "text": [
            "Epoch [1807/3000]: 100%|██████████| 9/9 [00:00<00:00, 118.64it/s, loss=1.73]\n"
          ]
        },
        {
          "name": "stdout",
          "output_type": "stream",
          "text": [
            "Epoch [1807/3000]: Train loss: 1.6517, Valid loss: 1.9704\n"
          ]
        },
        {
          "name": "stderr",
          "output_type": "stream",
          "text": [
            "Epoch [1808/3000]: 100%|██████████| 9/9 [00:00<00:00, 133.40it/s, loss=1.62]\n"
          ]
        },
        {
          "name": "stdout",
          "output_type": "stream",
          "text": [
            "Epoch [1808/3000]: Train loss: 1.6478, Valid loss: 1.8646\n"
          ]
        },
        {
          "name": "stderr",
          "output_type": "stream",
          "text": [
            "Epoch [1809/3000]: 100%|██████████| 9/9 [00:00<00:00, 131.37it/s, loss=1.48]\n"
          ]
        },
        {
          "name": "stdout",
          "output_type": "stream",
          "text": [
            "Epoch [1809/3000]: Train loss: 1.6376, Valid loss: 1.9785\n"
          ]
        },
        {
          "name": "stderr",
          "output_type": "stream",
          "text": [
            "Epoch [1810/3000]: 100%|██████████| 9/9 [00:00<00:00, 116.75it/s, loss=1.54]\n"
          ]
        },
        {
          "name": "stdout",
          "output_type": "stream",
          "text": [
            "Epoch [1810/3000]: Train loss: 1.6439, Valid loss: 1.7278\n"
          ]
        },
        {
          "name": "stderr",
          "output_type": "stream",
          "text": [
            "Epoch [1811/3000]: 100%|██████████| 9/9 [00:00<00:00, 121.53it/s, loss=1.37]\n"
          ]
        },
        {
          "name": "stdout",
          "output_type": "stream",
          "text": [
            "Epoch [1811/3000]: Train loss: 1.6305, Valid loss: 1.7027\n"
          ]
        },
        {
          "name": "stderr",
          "output_type": "stream",
          "text": [
            "Epoch [1812/3000]: 100%|██████████| 9/9 [00:00<00:00, 121.62it/s, loss=1.59]\n"
          ]
        },
        {
          "name": "stdout",
          "output_type": "stream",
          "text": [
            "Epoch [1812/3000]: Train loss: 1.6429, Valid loss: 1.9186\n"
          ]
        },
        {
          "name": "stderr",
          "output_type": "stream",
          "text": [
            "Epoch [1813/3000]: 100%|██████████| 9/9 [00:00<00:00, 127.34it/s, loss=2.03]\n"
          ]
        },
        {
          "name": "stdout",
          "output_type": "stream",
          "text": [
            "Epoch [1813/3000]: Train loss: 1.6688, Valid loss: 1.9434\n"
          ]
        },
        {
          "name": "stderr",
          "output_type": "stream",
          "text": [
            "Epoch [1814/3000]: 100%|██████████| 9/9 [00:00<00:00, 131.23it/s, loss=1.8]\n"
          ]
        },
        {
          "name": "stdout",
          "output_type": "stream",
          "text": [
            "Epoch [1814/3000]: Train loss: 1.6539, Valid loss: 1.9210\n"
          ]
        },
        {
          "name": "stderr",
          "output_type": "stream",
          "text": [
            "Epoch [1815/3000]: 100%|██████████| 9/9 [00:00<00:00, 127.01it/s, loss=1.22]\n"
          ]
        },
        {
          "name": "stdout",
          "output_type": "stream",
          "text": [
            "Epoch [1815/3000]: Train loss: 1.6178, Valid loss: 1.9191\n"
          ]
        },
        {
          "name": "stderr",
          "output_type": "stream",
          "text": [
            "Epoch [1816/3000]: 100%|██████████| 9/9 [00:00<00:00, 126.49it/s, loss=2.13]\n"
          ]
        },
        {
          "name": "stdout",
          "output_type": "stream",
          "text": [
            "Epoch [1816/3000]: Train loss: 1.6748, Valid loss: 1.9312\n"
          ]
        },
        {
          "name": "stderr",
          "output_type": "stream",
          "text": [
            "Epoch [1817/3000]: 100%|██████████| 9/9 [00:00<00:00, 115.47it/s, loss=1.42]"
          ]
        },
        {
          "name": "stdout",
          "output_type": "stream",
          "text": [
            "Epoch [1817/3000]: Train loss: 1.6344, Valid loss: 1.7658"
          ]
        },
        {
          "name": "stderr",
          "output_type": "stream",
          "text": [
            "\n"
          ]
        },
        {
          "name": "stdout",
          "output_type": "stream",
          "text": [
            "\n"
          ]
        },
        {
          "name": "stderr",
          "output_type": "stream",
          "text": [
            "Epoch [1818/3000]: 100%|██████████| 9/9 [00:00<00:00, 132.83it/s, loss=1.77]\n"
          ]
        },
        {
          "name": "stdout",
          "output_type": "stream",
          "text": [
            "Epoch [1818/3000]: Train loss: 1.6522, Valid loss: 1.9303\n"
          ]
        },
        {
          "name": "stderr",
          "output_type": "stream",
          "text": [
            "Epoch [1819/3000]: 100%|██████████| 9/9 [00:00<00:00, 133.95it/s, loss=1.76]\n"
          ]
        },
        {
          "name": "stdout",
          "output_type": "stream",
          "text": [
            "Epoch [1819/3000]: Train loss: 1.6520, Valid loss: 1.7714\n"
          ]
        },
        {
          "name": "stderr",
          "output_type": "stream",
          "text": [
            "Epoch [1820/3000]: 100%|██████████| 9/9 [00:00<00:00, 134.29it/s, loss=1.42]\n"
          ]
        },
        {
          "name": "stdout",
          "output_type": "stream",
          "text": [
            "Epoch [1820/3000]: Train loss: 1.6289, Valid loss: 1.7591\n"
          ]
        },
        {
          "name": "stderr",
          "output_type": "stream",
          "text": [
            "Epoch [1821/3000]: 100%|██████████| 9/9 [00:00<00:00, 131.64it/s, loss=1.97]\n"
          ]
        },
        {
          "name": "stdout",
          "output_type": "stream",
          "text": [
            "Epoch [1821/3000]: Train loss: 1.6672, Valid loss: 1.6850\n"
          ]
        },
        {
          "name": "stderr",
          "output_type": "stream",
          "text": [
            "Epoch [1822/3000]: 100%|██████████| 9/9 [00:00<00:00, 135.79it/s, loss=1.51]\n"
          ]
        },
        {
          "name": "stdout",
          "output_type": "stream",
          "text": [
            "Epoch [1822/3000]: Train loss: 1.6343, Valid loss: 2.0002\n"
          ]
        },
        {
          "name": "stderr",
          "output_type": "stream",
          "text": [
            "Epoch [1823/3000]: 100%|██████████| 9/9 [00:00<00:00, 63.63it/s, loss=1.99]\n"
          ]
        },
        {
          "name": "stdout",
          "output_type": "stream",
          "text": [
            "Epoch [1823/3000]: Train loss: 1.6674, Valid loss: 1.7921\n"
          ]
        },
        {
          "name": "stderr",
          "output_type": "stream",
          "text": [
            "Epoch [1824/3000]: 100%|██████████| 9/9 [00:00<00:00, 116.86it/s, loss=1.49]\n"
          ]
        },
        {
          "name": "stdout",
          "output_type": "stream",
          "text": [
            "Epoch [1824/3000]: Train loss: 1.6336, Valid loss: 1.8127\n"
          ]
        },
        {
          "name": "stderr",
          "output_type": "stream",
          "text": [
            "Epoch [1825/3000]: 100%|██████████| 9/9 [00:00<00:00, 127.09it/s, loss=1.55]"
          ]
        },
        {
          "name": "stdout",
          "output_type": "stream",
          "text": [
            "Epoch [1825/3000]: Train loss: 1.6374, Valid loss: 1.6917"
          ]
        },
        {
          "name": "stderr",
          "output_type": "stream",
          "text": [
            "\n"
          ]
        },
        {
          "name": "stdout",
          "output_type": "stream",
          "text": [
            "\n"
          ]
        },
        {
          "name": "stderr",
          "output_type": "stream",
          "text": [
            "Epoch [1826/3000]: 100%|██████████| 9/9 [00:00<00:00, 131.70it/s, loss=1.72]\n"
          ]
        },
        {
          "name": "stdout",
          "output_type": "stream",
          "text": [
            "Epoch [1826/3000]: Train loss: 1.6482, Valid loss: 1.7777\n"
          ]
        },
        {
          "name": "stderr",
          "output_type": "stream",
          "text": [
            "Epoch [1827/3000]: 100%|██████████| 9/9 [00:00<00:00, 124.61it/s, loss=1.97]\n"
          ]
        },
        {
          "name": "stdout",
          "output_type": "stream",
          "text": [
            "Epoch [1827/3000]: Train loss: 1.6630, Valid loss: 2.2675\n"
          ]
        },
        {
          "name": "stderr",
          "output_type": "stream",
          "text": [
            "Epoch [1828/3000]: 100%|██████████| 9/9 [00:00<00:00, 124.08it/s, loss=1.48]\n"
          ]
        },
        {
          "name": "stdout",
          "output_type": "stream",
          "text": [
            "Epoch [1828/3000]: Train loss: 1.6329, Valid loss: 1.7710\n"
          ]
        },
        {
          "name": "stderr",
          "output_type": "stream",
          "text": [
            "Epoch [1829/3000]: 100%|██████████| 9/9 [00:00<00:00, 38.75it/s, loss=1.73]\n"
          ]
        },
        {
          "name": "stdout",
          "output_type": "stream",
          "text": [
            "Epoch [1829/3000]: Train loss: 1.6452, Valid loss: 1.7514\n"
          ]
        },
        {
          "name": "stderr",
          "output_type": "stream",
          "text": [
            "Epoch [1830/3000]: 100%|██████████| 9/9 [00:00<00:00, 128.06it/s, loss=1.7]\n"
          ]
        },
        {
          "name": "stdout",
          "output_type": "stream",
          "text": [
            "Epoch [1830/3000]: Train loss: 1.6477, Valid loss: 2.0071\n"
          ]
        },
        {
          "name": "stderr",
          "output_type": "stream",
          "text": [
            "Epoch [1831/3000]: 100%|██████████| 9/9 [00:00<00:00, 121.85it/s, loss=1.45]\n"
          ]
        },
        {
          "name": "stdout",
          "output_type": "stream",
          "text": [
            "Epoch [1831/3000]: Train loss: 1.6306, Valid loss: 2.0824\n"
          ]
        },
        {
          "name": "stderr",
          "output_type": "stream",
          "text": [
            "Epoch [1832/3000]: 100%|██████████| 9/9 [00:00<00:00, 67.32it/s, loss=1.35]\n"
          ]
        },
        {
          "name": "stdout",
          "output_type": "stream",
          "text": [
            "Epoch [1832/3000]: Train loss: 1.6218, Valid loss: 1.5486\n"
          ]
        },
        {
          "name": "stderr",
          "output_type": "stream",
          "text": [
            "Epoch [1833/3000]: 100%|██████████| 9/9 [00:00<00:00, 135.18it/s, loss=1.63]\n"
          ]
        },
        {
          "name": "stdout",
          "output_type": "stream",
          "text": [
            "Epoch [1833/3000]: Train loss: 1.6455, Valid loss: 1.7220\n"
          ]
        },
        {
          "name": "stderr",
          "output_type": "stream",
          "text": [
            "Epoch [1834/3000]: 100%|██████████| 9/9 [00:00<00:00, 124.83it/s, loss=1.87]\n"
          ]
        },
        {
          "name": "stdout",
          "output_type": "stream",
          "text": [
            "Epoch [1834/3000]: Train loss: 1.6576, Valid loss: 1.9697\n"
          ]
        },
        {
          "name": "stderr",
          "output_type": "stream",
          "text": [
            "Epoch [1835/3000]: 100%|██████████| 9/9 [00:00<00:00, 139.81it/s, loss=1.69]\n"
          ]
        },
        {
          "name": "stdout",
          "output_type": "stream",
          "text": [
            "Epoch [1835/3000]: Train loss: 1.6437, Valid loss: 1.7036\n"
          ]
        },
        {
          "name": "stderr",
          "output_type": "stream",
          "text": [
            "Epoch [1836/3000]: 100%|██████████| 9/9 [00:00<00:00, 133.57it/s, loss=1.32]\n"
          ]
        },
        {
          "name": "stdout",
          "output_type": "stream",
          "text": [
            "Epoch [1836/3000]: Train loss: 1.6234, Valid loss: 1.9075\n"
          ]
        },
        {
          "name": "stderr",
          "output_type": "stream",
          "text": [
            "Epoch [1837/3000]: 100%|██████████| 9/9 [00:00<00:00, 114.95it/s, loss=1.47]\n"
          ]
        },
        {
          "name": "stdout",
          "output_type": "stream",
          "text": [
            "Epoch [1837/3000]: Train loss: 1.6318, Valid loss: 1.8769\n"
          ]
        },
        {
          "name": "stderr",
          "output_type": "stream",
          "text": [
            "Epoch [1838/3000]: 100%|██████████| 9/9 [00:00<00:00, 120.09it/s, loss=1.57]\n"
          ]
        },
        {
          "name": "stdout",
          "output_type": "stream",
          "text": [
            "Epoch [1838/3000]: Train loss: 1.6339, Valid loss: 1.5646\n"
          ]
        },
        {
          "name": "stderr",
          "output_type": "stream",
          "text": [
            "Epoch [1839/3000]: 100%|██████████| 9/9 [00:00<00:00, 113.63it/s, loss=1.9]\n"
          ]
        },
        {
          "name": "stdout",
          "output_type": "stream",
          "text": [
            "Epoch [1839/3000]: Train loss: 1.6583, Valid loss: 2.1492\n"
          ]
        },
        {
          "name": "stderr",
          "output_type": "stream",
          "text": [
            "Epoch [1840/3000]: 100%|██████████| 9/9 [00:00<00:00, 120.97it/s, loss=2.46]\n"
          ]
        },
        {
          "name": "stdout",
          "output_type": "stream",
          "text": [
            "Epoch [1840/3000]: Train loss: 1.6915, Valid loss: 1.7840\n"
          ]
        },
        {
          "name": "stderr",
          "output_type": "stream",
          "text": [
            "Epoch [1841/3000]: 100%|██████████| 9/9 [00:00<00:00, 121.92it/s, loss=1.89]\n"
          ]
        },
        {
          "name": "stdout",
          "output_type": "stream",
          "text": [
            "Epoch [1841/3000]: Train loss: 1.6559, Valid loss: 1.9790\n"
          ]
        },
        {
          "name": "stderr",
          "output_type": "stream",
          "text": [
            "Epoch [1842/3000]: 100%|██████████| 9/9 [00:00<00:00, 121.35it/s, loss=1.35]"
          ]
        },
        {
          "name": "stdout",
          "output_type": "stream",
          "text": [
            "Epoch [1842/3000]: Train loss: 1.6199, Valid loss: 1.8092"
          ]
        },
        {
          "name": "stderr",
          "output_type": "stream",
          "text": [
            "\n"
          ]
        },
        {
          "name": "stdout",
          "output_type": "stream",
          "text": [
            "\n"
          ]
        },
        {
          "name": "stderr",
          "output_type": "stream",
          "text": [
            "Epoch [1843/3000]: 100%|██████████| 9/9 [00:00<00:00, 116.68it/s, loss=1.55]\n"
          ]
        },
        {
          "name": "stdout",
          "output_type": "stream",
          "text": [
            "Epoch [1843/3000]: Train loss: 1.6330, Valid loss: 1.9537\n"
          ]
        },
        {
          "name": "stderr",
          "output_type": "stream",
          "text": [
            "Epoch [1844/3000]: 100%|██████████| 9/9 [00:00<00:00, 128.71it/s, loss=1.52]\n"
          ]
        },
        {
          "name": "stdout",
          "output_type": "stream",
          "text": [
            "Epoch [1844/3000]: Train loss: 1.6289, Valid loss: 1.9298\n"
          ]
        },
        {
          "name": "stderr",
          "output_type": "stream",
          "text": [
            "Epoch [1845/3000]: 100%|██████████| 9/9 [00:00<00:00, 127.43it/s, loss=1.41]\n"
          ]
        },
        {
          "name": "stdout",
          "output_type": "stream",
          "text": [
            "Epoch [1845/3000]: Train loss: 1.6252, Valid loss: 1.8396\n"
          ]
        },
        {
          "name": "stderr",
          "output_type": "stream",
          "text": [
            "Epoch [1846/3000]: 100%|██████████| 9/9 [00:00<00:00, 125.33it/s, loss=1.73]\n"
          ]
        },
        {
          "name": "stdout",
          "output_type": "stream",
          "text": [
            "Epoch [1846/3000]: Train loss: 1.6423, Valid loss: 1.7310\n"
          ]
        },
        {
          "name": "stderr",
          "output_type": "stream",
          "text": [
            "Epoch [1847/3000]: 100%|██████████| 9/9 [00:00<00:00, 124.61it/s, loss=2.23]\n"
          ]
        },
        {
          "name": "stdout",
          "output_type": "stream",
          "text": [
            "Epoch [1847/3000]: Train loss: 1.6777, Valid loss: 1.7393\n"
          ]
        },
        {
          "name": "stderr",
          "output_type": "stream",
          "text": [
            "Epoch [1848/3000]: 100%|██████████| 9/9 [00:00<00:00, 117.89it/s, loss=2.18]\n"
          ]
        },
        {
          "name": "stdout",
          "output_type": "stream",
          "text": [
            "Epoch [1848/3000]: Train loss: 1.6751, Valid loss: 2.2759\n"
          ]
        },
        {
          "name": "stderr",
          "output_type": "stream",
          "text": [
            "Epoch [1849/3000]: 100%|██████████| 9/9 [00:00<00:00, 115.75it/s, loss=1.53]\n"
          ]
        },
        {
          "name": "stdout",
          "output_type": "stream",
          "text": [
            "Epoch [1849/3000]: Train loss: 1.6334, Valid loss: 1.7794\n"
          ]
        },
        {
          "name": "stderr",
          "output_type": "stream",
          "text": [
            "Epoch [1850/3000]: 100%|██████████| 9/9 [00:00<00:00, 127.39it/s, loss=1.21]\n"
          ]
        },
        {
          "name": "stdout",
          "output_type": "stream",
          "text": [
            "Epoch [1850/3000]: Train loss: 1.6108, Valid loss: 2.0808\n"
          ]
        },
        {
          "name": "stderr",
          "output_type": "stream",
          "text": [
            "Epoch [1851/3000]: 100%|██████████| 9/9 [00:00<00:00, 124.47it/s, loss=1.34]\n"
          ]
        },
        {
          "name": "stdout",
          "output_type": "stream",
          "text": [
            "Epoch [1851/3000]: Train loss: 1.6221, Valid loss: 2.0862\n"
          ]
        },
        {
          "name": "stderr",
          "output_type": "stream",
          "text": [
            "Epoch [1852/3000]: 100%|██████████| 9/9 [00:00<00:00, 124.50it/s, loss=1.69]\n"
          ]
        },
        {
          "name": "stdout",
          "output_type": "stream",
          "text": [
            "Epoch [1852/3000]: Train loss: 1.6419, Valid loss: 1.7552\n"
          ]
        },
        {
          "name": "stderr",
          "output_type": "stream",
          "text": [
            "Epoch [1853/3000]: 100%|██████████| 9/9 [00:00<00:00, 134.05it/s, loss=1.92]\n"
          ]
        },
        {
          "name": "stdout",
          "output_type": "stream",
          "text": [
            "Epoch [1853/3000]: Train loss: 1.6550, Valid loss: 1.7177\n"
          ]
        },
        {
          "name": "stderr",
          "output_type": "stream",
          "text": [
            "Epoch [1854/3000]: 100%|██████████| 9/9 [00:00<00:00, 120.49it/s, loss=1.9]\n"
          ]
        },
        {
          "name": "stdout",
          "output_type": "stream",
          "text": [
            "Epoch [1854/3000]: Train loss: 1.6527, Valid loss: 1.8840\n"
          ]
        },
        {
          "name": "stderr",
          "output_type": "stream",
          "text": [
            "Epoch [1855/3000]: 100%|██████████| 9/9 [00:00<00:00, 118.92it/s, loss=1.58]\n"
          ]
        },
        {
          "name": "stdout",
          "output_type": "stream",
          "text": [
            "Epoch [1855/3000]: Train loss: 1.6354, Valid loss: 1.6629\n"
          ]
        },
        {
          "name": "stderr",
          "output_type": "stream",
          "text": [
            "Epoch [1856/3000]: 100%|██████████| 9/9 [00:00<00:00, 121.29it/s, loss=1.63]\n"
          ]
        },
        {
          "name": "stdout",
          "output_type": "stream",
          "text": [
            "Epoch [1856/3000]: Train loss: 1.6353, Valid loss: 2.0180\n"
          ]
        },
        {
          "name": "stderr",
          "output_type": "stream",
          "text": [
            "Epoch [1857/3000]: 100%|██████████| 9/9 [00:00<00:00, 130.00it/s, loss=1.44]\n"
          ]
        },
        {
          "name": "stdout",
          "output_type": "stream",
          "text": [
            "Epoch [1857/3000]: Train loss: 1.6244, Valid loss: 1.8933\n"
          ]
        },
        {
          "name": "stderr",
          "output_type": "stream",
          "text": [
            "Epoch [1858/3000]: 100%|██████████| 9/9 [00:00<00:00, 122.34it/s, loss=1.8]\n"
          ]
        },
        {
          "name": "stdout",
          "output_type": "stream",
          "text": [
            "Epoch [1858/3000]: Train loss: 1.6436, Valid loss: 2.2891\n"
          ]
        },
        {
          "name": "stderr",
          "output_type": "stream",
          "text": [
            "Epoch [1859/3000]: 100%|██████████| 9/9 [00:00<00:00, 129.84it/s, loss=1.72]\n"
          ]
        },
        {
          "name": "stdout",
          "output_type": "stream",
          "text": [
            "Epoch [1859/3000]: Train loss: 1.6385, Valid loss: 2.0017\n"
          ]
        },
        {
          "name": "stderr",
          "output_type": "stream",
          "text": [
            "Epoch [1860/3000]: 100%|██████████| 9/9 [00:00<00:00, 61.56it/s, loss=1.4] \n"
          ]
        },
        {
          "name": "stdout",
          "output_type": "stream",
          "text": [
            "Epoch [1860/3000]: Train loss: 1.6208, Valid loss: 1.8589\n"
          ]
        },
        {
          "name": "stderr",
          "output_type": "stream",
          "text": [
            "Epoch [1861/3000]: 100%|██████████| 9/9 [00:00<00:00, 124.45it/s, loss=1.75]\n"
          ]
        },
        {
          "name": "stdout",
          "output_type": "stream",
          "text": [
            "Epoch [1861/3000]: Train loss: 1.6443, Valid loss: 1.7821\n"
          ]
        },
        {
          "name": "stderr",
          "output_type": "stream",
          "text": [
            "Epoch [1862/3000]: 100%|██████████| 9/9 [00:00<00:00, 124.66it/s, loss=1.73]\n"
          ]
        },
        {
          "name": "stdout",
          "output_type": "stream",
          "text": [
            "Epoch [1862/3000]: Train loss: 1.6406, Valid loss: 2.0085\n"
          ]
        },
        {
          "name": "stderr",
          "output_type": "stream",
          "text": [
            "Epoch [1863/3000]: 100%|██████████| 9/9 [00:00<00:00, 130.17it/s, loss=1.89]\n"
          ]
        },
        {
          "name": "stdout",
          "output_type": "stream",
          "text": [
            "Epoch [1863/3000]: Train loss: 1.6493, Valid loss: 1.8244\n"
          ]
        },
        {
          "name": "stderr",
          "output_type": "stream",
          "text": [
            "Epoch [1864/3000]: 100%|██████████| 9/9 [00:00<00:00, 124.54it/s, loss=1.98]\n"
          ]
        },
        {
          "name": "stdout",
          "output_type": "stream",
          "text": [
            "Epoch [1864/3000]: Train loss: 1.6571, Valid loss: 1.8448\n"
          ]
        },
        {
          "name": "stderr",
          "output_type": "stream",
          "text": [
            "Epoch [1865/3000]: 100%|██████████| 9/9 [00:00<00:00, 124.40it/s, loss=1.74]\n"
          ]
        },
        {
          "name": "stdout",
          "output_type": "stream",
          "text": [
            "Epoch [1865/3000]: Train loss: 1.6409, Valid loss: 1.5008\n"
          ]
        },
        {
          "name": "stderr",
          "output_type": "stream",
          "text": [
            "Epoch [1866/3000]: 100%|██████████| 9/9 [00:00<00:00, 127.32it/s, loss=1.54]\n"
          ]
        },
        {
          "name": "stdout",
          "output_type": "stream",
          "text": [
            "Epoch [1866/3000]: Train loss: 1.6296, Valid loss: 1.7031\n"
          ]
        },
        {
          "name": "stderr",
          "output_type": "stream",
          "text": [
            "Epoch [1867/3000]: 100%|██████████| 9/9 [00:00<00:00, 124.13it/s, loss=1.76]\n"
          ]
        },
        {
          "name": "stdout",
          "output_type": "stream",
          "text": [
            "Epoch [1867/3000]: Train loss: 1.6417, Valid loss: 1.6692\n"
          ]
        },
        {
          "name": "stderr",
          "output_type": "stream",
          "text": [
            "Epoch [1868/3000]: 100%|██████████| 9/9 [00:00<00:00, 125.49it/s, loss=1.3]\n"
          ]
        },
        {
          "name": "stdout",
          "output_type": "stream",
          "text": [
            "Epoch [1868/3000]: Train loss: 1.6168, Valid loss: 2.0379\n"
          ]
        },
        {
          "name": "stderr",
          "output_type": "stream",
          "text": [
            "Epoch [1869/3000]: 100%|██████████| 9/9 [00:00<00:00, 119.70it/s, loss=1.91]\n"
          ]
        },
        {
          "name": "stdout",
          "output_type": "stream",
          "text": [
            "Epoch [1869/3000]: Train loss: 1.6497, Valid loss: 1.7778\n"
          ]
        },
        {
          "name": "stderr",
          "output_type": "stream",
          "text": [
            "Epoch [1870/3000]: 100%|██████████| 9/9 [00:00<00:00, 68.99it/s, loss=1.47]\n"
          ]
        },
        {
          "name": "stdout",
          "output_type": "stream",
          "text": [
            "Epoch [1870/3000]: Train loss: 1.6218, Valid loss: 2.0236\n"
          ]
        },
        {
          "name": "stderr",
          "output_type": "stream",
          "text": [
            "Epoch [1871/3000]: 100%|██████████| 9/9 [00:00<00:00, 120.18it/s, loss=1.95]\n"
          ]
        },
        {
          "name": "stdout",
          "output_type": "stream",
          "text": [
            "Epoch [1871/3000]: Train loss: 1.6526, Valid loss: 1.8539\n"
          ]
        },
        {
          "name": "stderr",
          "output_type": "stream",
          "text": [
            "Epoch [1872/3000]: 100%|██████████| 9/9 [00:00<00:00, 124.83it/s, loss=2.29]\n"
          ]
        },
        {
          "name": "stdout",
          "output_type": "stream",
          "text": [
            "Epoch [1872/3000]: Train loss: 1.6735, Valid loss: 1.7706\n"
          ]
        },
        {
          "name": "stderr",
          "output_type": "stream",
          "text": [
            "Epoch [1873/3000]: 100%|██████████| 9/9 [00:00<00:00, 123.44it/s, loss=1.87]\n"
          ]
        },
        {
          "name": "stdout",
          "output_type": "stream",
          "text": [
            "Epoch [1873/3000]: Train loss: 1.6475, Valid loss: 1.5789\n"
          ]
        },
        {
          "name": "stderr",
          "output_type": "stream",
          "text": [
            "Epoch [1874/3000]: 100%|██████████| 9/9 [00:00<00:00, 121.80it/s, loss=1.46]"
          ]
        },
        {
          "name": "stdout",
          "output_type": "stream",
          "text": [
            "Epoch [1874/3000]: Train loss: 1.6235, Valid loss: 1.8496"
          ]
        },
        {
          "name": "stderr",
          "output_type": "stream",
          "text": [
            "\n"
          ]
        },
        {
          "name": "stdout",
          "output_type": "stream",
          "text": [
            "\n"
          ]
        },
        {
          "name": "stderr",
          "output_type": "stream",
          "text": [
            "Epoch [1875/3000]: 100%|██████████| 9/9 [00:00<00:00, 119.18it/s, loss=1.42]"
          ]
        },
        {
          "name": "stdout",
          "output_type": "stream",
          "text": [
            "Epoch [1875/3000]: Train loss: 1.6182, Valid loss: 1.7148\n",
            "\n",
            "Model is not improving, so we halt the training session.\n"
          ]
        },
        {
          "name": "stderr",
          "output_type": "stream",
          "text": [
            "\n"
          ]
        }
      ],
      "source": [
        "model = My_Model(input_dim=x_train.shape[1]).to(device) # put your model and data on the same computation device.\n",
        "trainer(train_loader, valid_loader, model, config, device)"
      ]
    },
    {
      "cell_type": "markdown",
      "metadata": {
        "id": "Ik09KPqU-di-"
      },
      "source": [
        "# Plot learning curves with `tensorboard` (optional)\n",
        "\n",
        "`tensorboard` is a tool that allows you to visualize your training progress.\n",
        "\n",
        "If this block does not display your learning curve, please wait for few minutes, and re-run this block. It might take some time to load your logging information."
      ]
    },
    {
      "cell_type": "code",
      "execution_count": 89,
      "metadata": {
        "id": "loA4nKmLGQ-n"
      },
      "outputs": [
        {
          "data": {
            "text/plain": [
              "Reusing TensorBoard on port 6006 (pid 13556), started 6 days, 10:54:24 ago. (Use '!kill 13556' to kill it.)"
            ]
          },
          "metadata": {},
          "output_type": "display_data"
        },
        {
          "data": {
            "text/html": [
              "\n",
              "      <iframe id=\"tensorboard-frame-3293f6c5538a0e9b\" width=\"100%\" height=\"800\" frameborder=\"0\">\n",
              "      </iframe>\n",
              "      <script>\n",
              "        (function() {\n",
              "          const frame = document.getElementById(\"tensorboard-frame-3293f6c5538a0e9b\");\n",
              "          const url = new URL(\"http://localhost\");\n",
              "          const port = 6006;\n",
              "          if (port) {\n",
              "            url.port = port;\n",
              "          }\n",
              "          frame.src = url;\n",
              "        })();\n",
              "      </script>\n",
              "    "
            ],
            "text/plain": [
              "<IPython.core.display.HTML object>"
            ]
          },
          "metadata": {},
          "output_type": "display_data"
        }
      ],
      "source": [
        "%reload_ext tensorboard\n",
        "%tensorboard --logdir=./runs/\n"
      ]
    },
    {
      "cell_type": "markdown",
      "metadata": {
        "id": "yhAHGqC9-woK"
      },
      "source": [
        "# Testing\n",
        "The predictions of your model on testing set will be stored at `pred.csv`."
      ]
    },
    {
      "cell_type": "code",
      "execution_count": 90,
      "metadata": {
        "id": "Q5eVdpbvAlAe"
      },
      "outputs": [
        {
          "name": "stderr",
          "output_type": "stream",
          "text": [
            "100%|██████████| 5/5 [00:00<00:00, 563.45it/s]\n"
          ]
        }
      ],
      "source": [
        "def save_pred(preds, file):\n",
        "    ''' Save predictions to specified file '''\n",
        "    with open(file, 'w') as fp:\n",
        "        writer = csv.writer(fp)\n",
        "        writer.writerow(['id', 'tested_positive'])\n",
        "        for i, p in enumerate(preds):\n",
        "            writer.writerow([i, p])\n",
        "\n",
        "model = My_Model(input_dim=x_train.shape[1]).to(device)\n",
        "model.load_state_dict(torch.load(config['save_path']))\n",
        "preds = predict(test_loader, model, device)\n",
        "save_pred(preds, 'pred.csv')"
      ]
    },
    {
      "cell_type": "markdown",
      "metadata": {
        "id": "IJ_k5rY0GvSV"
      },
      "source": [
        "# Reference\n",
        "This notebook uses code written by Heng-Jui Chang @ NTUEE (https://github.com/ga642381/ML2021-Spring/blob/main/HW01/HW01.ipynb)"
      ]
    }
  ],
  "metadata": {
    "accelerator": "GPU",
    "colab": {
      "gpuType": "T4",
      "provenance": [],
      "toc_visible": true
    },
    "kernelspec": {
      "display_name": "Python 3",
      "name": "python3"
    },
    "language_info": {
      "codemirror_mode": {
        "name": "ipython",
        "version": 3
      },
      "file_extension": ".py",
      "mimetype": "text/x-python",
      "name": "python",
      "nbconvert_exporter": "python",
      "pygments_lexer": "ipython3",
      "version": "3.11.5"
    }
  },
  "nbformat": 4,
  "nbformat_minor": 0
}
